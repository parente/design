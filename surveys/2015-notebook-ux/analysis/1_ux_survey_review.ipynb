{
 "cells": [
  {
   "cell_type": "markdown",
   "metadata": {},
   "source": [
    "# Jupyter UX Survey 2015 - Initial Sandbox\n",
    "\n",
    "* Goal: Start looking at how we can surface insights from the data.\n",
    "* Description: https://github.com/jupyter/design/tree/master/surveys/2015-notebook-ux\n",
    "* Data: https://raw.githubusercontent.com/jupyter/design/master/surveys/2015-notebook-ux/20160115235816-SurveyExport.csv\n",
    "\n",
    "## Initial Questions\n",
    "\n",
    "### To what audiences is the Jupyter Community trying to cater?\n",
    "\n",
    "* New to the practice of \"data science\"\n",
    "* Experienced audience not using jupyter\n",
    "* Existing audience\n",
    "\n",
    "### How can we boil down the free text to \"themes\"?\n",
    "\n",
    "* Remove stop words and find key terms to do some frequency counts\n",
    "* Read and tag everything manually, then analyze the tags\n",
    "* Overlap between responses to the various questions\n",
    "* Apply coccurence grouping to the text\n",
    "* Throw text at the alchemy Keyword Extraction API and see what it pulls out\n",
    "* Bin short vs long and analyze separately\n",
    "\n",
    "### What roles do the survey respondant fill? And in what fields / industries do they fill those roles?\n",
    "\n",
    "See the [Roles]() section down below.\n",
    "\n",
    "### Generally, what themes do we see across the free-text responses?\n",
    "\n",
    "See the [Themes]() in hinderances section for an initial approach on how to find and expand on sets of themes for one particular question. We think we can apply this to the other questions as well.\n",
    "\n",
    "### What themes do we see across the free-text responses but within the role/industry categories?\n",
    "\n",
    "e.g., Is it always software developers that are asking for IDE features vs hard scientists asking for collaboration features?\n",
    "\n",
    "We took an initial approach on rolling up the roles into a smaller set of categories. We then looked at mapping the requests for vim/emacs and ide feature to the software engineering related roles. It turns out that these requests seem to cross roles, and are not specific to software engineers. More of the responses for emacs/vim, in fact, came from respondants from the hard sciences (e.g. physicist, computational biologist, etc.)\n",
    "\n",
    "This led us to believe that we should not assume certain roles are certain hinderances, but rather try to visualize if there are any hot-spots between roles and hinderance themes. It may turn out, we hypothesize, that the roles have little to do with the hinderances and that the themes are cross cutting. Or not.\n",
    "\n",
    "We plan to create heatmap-like plots, one per question. On one axis we will have the role categories and on the other we will have the themes we identify within the responses for that question. After creating these plots for all questions, we'll also create similar plots where we substitute industry, years in role, # of notebook consumers, frequency of use, etc. on one of the axes and keep the themes on the other.\n",
    "\n",
    "### What shortcodes can we use to refer to the questions?\n",
    "\n",
    "Assume we roll up the answers into single columns:\n",
    "\n",
    "* how_often\n",
    "* how_long\n",
    "* hinderance\n",
    "* integrated\n",
    "* how_run\n",
    "* workflow_needs_addressed\n",
    "* workflow_needs_not_addressed\n",
    "* pleasant_aspects\n",
    "* difficult_aspects\n",
    "* features_changes\n",
    "* first_experience_enhancements\n",
    "* keywords\n",
    "* role\n",
    "* years_in_role\n",
    "* industry\n",
    "* notebook_consumers"
   ]
  },
  {
   "cell_type": "code",
   "execution_count": 1,
   "metadata": {
    "collapsed": true
   },
   "outputs": [],
   "source": [
    "%matplotlib inline"
   ]
  },
  {
   "cell_type": "code",
   "execution_count": 2,
   "metadata": {
    "collapsed": true
   },
   "outputs": [],
   "source": [
    "import warnings\n",
    "warnings.simplefilter('ignore')"
   ]
  },
  {
   "cell_type": "code",
   "execution_count": 3,
   "metadata": {
    "collapsed": false
   },
   "outputs": [],
   "source": [
    "import pandas as pd\n",
    "import matplotlib.pyplot as plt"
   ]
  },
  {
   "cell_type": "code",
   "execution_count": 4,
   "metadata": {
    "collapsed": false
   },
   "outputs": [],
   "source": [
    "pd.set_option('max_colwidth', 1000)"
   ]
  },
  {
   "cell_type": "code",
   "execution_count": 8,
   "metadata": {
    "collapsed": false
   },
   "outputs": [],
   "source": [
    "df = pd.read_csv('../20160115235816-SurveyExport.csv')"
   ]
  },
  {
   "cell_type": "code",
   "execution_count": 9,
   "metadata": {
    "collapsed": false
   },
   "outputs": [
    {
     "data": {
      "text/plain": [
       "Index(['Time Started', 'Date Submitted', 'Status',\n",
       "       'How often do you use Jupyter Notebook?',\n",
       "       'What, if anything, hinders you from making Jupyter Notebook an even more regular part of your workflow?',\n",
       "       'Roughly how long have you been using Jupyter Notebook?',\n",
       "       'Tool / Application #1:What tools and applications, if any, would you like to see more tightly integrated with Jupyter Notebook?    ',\n",
       "       'Tool / Application #2:What tools and applications, if any, would you like to see more tightly integrated with Jupyter Notebook?    ',\n",
       "       'Tool / Application #3:What tools and applications, if any, would you like to see more tightly integrated with Jupyter Notebook?    ',\n",
       "       'How do you run the Jupyter Notebook?',\n",
       "       'Other - Write In:How do you run the Jupyter Notebook?',\n",
       "       'Workflow Need #1:What needs in your workflow does Jupyter Notebook address?',\n",
       "       'Workflow Need #2:What needs in your workflow does Jupyter Notebook address?',\n",
       "       'Workflow Need #3:What needs in your workflow does Jupyter Notebook address?',\n",
       "       'Workflow Need #1:What needs in your workflow does Jupyter Notebook not address?',\n",
       "       'Workflow Need #2:What needs in your workflow does Jupyter Notebook not address?',\n",
       "       'Workflow Need #3:What needs in your workflow does Jupyter Notebook not address?',\n",
       "       'Aspect #1:What aspects of Jupyter Notebook make it pleasant to use in your workflow?',\n",
       "       'Aspect #2:What aspects of Jupyter Notebook make it pleasant to use in your workflow?',\n",
       "       'Aspect #3:What aspects of Jupyter Notebook make it pleasant to use in your workflow?',\n",
       "       'Aspect #1:What aspects of Jupyter Notebook make it difficult to use in your workflow?',\n",
       "       'Aspect #2:What aspects of Jupyter Notebook make it difficult to use in your workflow?',\n",
       "       'Aspect #3:What aspects of Jupyter Notebook make it difficult to use in your workflow?',\n",
       "       'Feature / Change #1:What new features or changes would you like to see in Jupyter Notebook? (Please list anything that comes to mind that helps you in your workflow, big or small.)',\n",
       "       'Feature / Change #2:What new features or changes would you like to see in Jupyter Notebook? (Please list anything that comes to mind that helps you in your workflow, big or small.)',\n",
       "       'Feature / Change #3:What new features or changes would you like to see in Jupyter Notebook? (Please list anything that comes to mind that helps you in your workflow, big or small.)',\n",
       "       'Enhancement #1:Thinking back to when you first started using Jupyter Notebook, what enhancements would have made your initial experience better?',\n",
       "       'Enhancement #2:Thinking back to when you first started using Jupyter Notebook, what enhancements would have made your initial experience better?',\n",
       "       'Enhancement #3:Thinking back to when you first started using Jupyter Notebook, what enhancements would have made your initial experience better?',\n",
       "       'Select all the words that best describe Jupyter Notebook.',\n",
       "       'Other word(s)::Select all the words that best describe Jupyter Notebook.',\n",
       "       'What is your primary role when using Jupyter Notebook (e.g., student, astrophysicist, financial modeler, business manager, etc.)?',\n",
       "       'How many years have you been in this role? ',\n",
       "       'Industry #1:What industries does your role and analytical work support (e.g., Journalism, IT, etc.)?',\n",
       "       'Industry #2:What industries does your role and analytical work support (e.g., Journalism, IT, etc.)?',\n",
       "       'Industry #3:What industries does your role and analytical work support (e.g., Journalism, IT, etc.)?',\n",
       "       'How many people typically see and/or interact with the results of your work in Jupyter Notebook? (Consider people who view your notebooks on nbviewer, colleagues who rerun your notebooks, developers who star your notebook repos on GitHub, audiences who see your notebooks as slideshows, etc.)'],\n",
       "      dtype='object')"
      ]
     },
     "execution_count": 9,
     "metadata": {},
     "output_type": "execute_result"
    }
   ],
   "source": [
    "df.columns"
   ]
  },
  {
   "cell_type": "markdown",
   "metadata": {},
   "source": [
    "## Themes in the hinderances"
   ]
  },
  {
   "cell_type": "markdown",
   "metadata": {},
   "source": [
    "Let's start with the hinderances question and figure out the process first. Then we can apply it to the other free form text responses (we think)."
   ]
  },
  {
   "cell_type": "code",
   "execution_count": 10,
   "metadata": {
    "collapsed": false
   },
   "outputs": [],
   "source": [
    "hinder = df['What, if anything, hinders you from making Jupyter Notebook an even more regular part of your workflow?']"
   ]
  },
  {
   "cell_type": "markdown",
   "metadata": {},
   "source": [
    "How many non-null responses are there?"
   ]
  },
  {
   "cell_type": "code",
   "execution_count": 11,
   "metadata": {
    "collapsed": false
   },
   "outputs": [
    {
     "data": {
      "text/plain": [
       "True     943\n",
       "False    763\n",
       "Name: What, if anything, hinders you from making Jupyter Notebook an even more regular part of your workflow?, dtype: int64"
      ]
     },
     "execution_count": 11,
     "metadata": {},
     "output_type": "execute_result"
    }
   ],
   "source": [
    "hinder.isnull().value_counts()"
   ]
  },
  {
   "cell_type": "markdown",
   "metadata": {},
   "source": [
    "Clear out the nulls."
   ]
  },
  {
   "cell_type": "code",
   "execution_count": 12,
   "metadata": {
    "collapsed": false
   },
   "outputs": [],
   "source": [
    "hinder = hinder.dropna()"
   ]
  },
  {
   "cell_type": "markdown",
   "metadata": {},
   "source": [
    "How much did people write?"
   ]
  },
  {
   "cell_type": "code",
   "execution_count": 13,
   "metadata": {
    "collapsed": true
   },
   "outputs": [],
   "source": [
    "char_lengths = hinder.apply(lambda response: len(response))"
   ]
  },
  {
   "cell_type": "code",
   "execution_count": 14,
   "metadata": {
    "collapsed": false
   },
   "outputs": [
    {
     "data": {
      "text/plain": [
       "<matplotlib.text.Text at 0x7f731999bcf8>"
      ]
     },
     "execution_count": 14,
     "metadata": {},
     "output_type": "execute_result"
    },
    {
     "data": {
      "image/png": "[encoded data removed]",
      "text/plain": [
       "<matplotlib.figure.Figure at 0x7f73199d34a8>"
      ]
     },
     "metadata": {},
     "output_type": "display_data"
    }
   ],
   "source": [
    "fig, ax = plt.subplots(figsize=(11, 7))\n",
    "char_lengths.hist(bins=100, ax=ax)\n",
    "ax.set_title('Character count histogram')"
   ]
  },
  {
   "cell_type": "markdown",
   "metadata": {},
   "source": [
    "We should definitely look at the longest responses. These are people who might have felt very strongly about what they were writing."
   ]
  },
  {
   "cell_type": "code",
   "execution_count": 52,
   "metadata": {
    "collapsed": false
   },
   "outputs": [
    {
     "name": "stdout",
     "output_type": "stream",
     "text": [
      "It's starting to become a regular tool. I run the notebook server on a VPS and use the notebook through SSH. I run the notebook server on code in a Git master branch and I sync that with a local branch periodically. I have mostly just used Idle in the past because that is very flexible and I get a complete transcript of my programming session. But support for Idle and improvements to Idle have mostly stopped. I like the general idea of the notebook but the format doesn't support some things very well - testing for example. I would like to have my tests in a separate notebook that is linked to the one I'm currently developing (same kernel I guess). I would like my tests to be separate because if they are in the same notebook as my normal code then it is distracting. I could migrate out my tests to  a separate file, but then they are not in the same notebook format as the regular code which is very convenient.  Some things in Jupyter are frustrating: 1. the kernel cannot be reliably interrupted. 2. kernel crashes. This means that datasets must be reloaded which can take a long time in my case. 3. code is not reloaded easily: I have to manually use reload(module) if the code is in a file. The notebook should reliably reload modules: I realize that this is a long-standing problem in Python generally that has still not been resolved after all these years. 4. code reload in a cell is very buggy. I've had old code remain in a cell after making a change that has caused some strange results. A reload of the code in a cell should clean out all of the old definitions and variables in that cell so that there can't be any strange behaviour due to old references. \n",
      "\n",
      "Interactive plot exploration (through matplotlib) is a bit clunky and much worse than in Matlab, for example. You basically need to modify the code that you used to create a plot and rerun its cell in order to modify the plot. Embedded plots are not interactive and regular matplotlib figures are not that dynamic to begin with. You can zoom and pan but you cannot modify them in any other way (e.g. you cannot select a plot element and modify its color, delete it or add a fitting curve as in Matlab). Some of these are limitations of matplotlib of course but that is part of the whole \"Jupyter package\".  Creating interactive plots and widgets is too complicated at the moment. It requires too much programming.  It is hard to generate a nice report that you can share with non technical people from a Jupyter notebook because there is no way (AFAIK) to hide the code cells from the output. It would be cool to be able to mark a cell as \"hidden code\" which would be excluded from the generated PDF for example.  The UI is a bit clunky and editing code is a bit painful when there is a lot of code in a cell.  Being able to run cells out of order is cool but it also makes it hard to reproduce what you did later. This makes it particularly hard to turn a notebook into a proper Python script sometimes. It would be great if you could somehow replay the notebook in the order that you executed it and export that in the proper order. Maybe there should be a way to programmatically execute a cell from another cell (maybe this is already possible and Injust don't know about it).\n",
      "\n",
      "Inability to easily navigate within modules/structured code directories, so that I can develop my code simultaneously as a package/module and within a notebook. Prototyping in the notebook is great, but then making sure everything works appropriately when outside of the notebook environment is more difficult without a lot more infrastructure. Furthermore, once it is ported to an external module, its essentially impossible to either bring the code back into the notebook efficiently (i.e., not just copying and pasting into cells) and or to maintain a coherent version control stream for the changes then made in the notebook. So currently software development in a notebook to external module is a 1-way street, and not a particularly easy one to navigate.   Also, inconsistency in relative import statements make developing software packages in a notebook/module. Given the portable nature of the notebook, it's nice to be able to work from the same source files on a variety of computers. But absolute paths can't be used across machines (unless they follow the same convention) and its not clear how one would specify the absolute path relative to the location of the notebook server and vs. notebook itself.  Editing documentation in the notebook (especially with executable examples) would make it easier to jump between source code and explicit documentation. Linking a particular cell out to a particular docstring for a particular function/class/method would be great.\n",
      "\n"
     ]
    }
   ],
   "source": [
    "for row in hinder[char_lengths > 1400]:\n",
    "    print(row)\n",
    "    print()"
   ]
  },
  {
   "cell_type": "markdown",
   "metadata": {},
   "source": [
    "Now just to get the constrast, let's look at some of the shortest responses."
   ]
  },
  {
   "cell_type": "code",
   "execution_count": 63,
   "metadata": {
    "collapsed": false
   },
   "outputs": [
    {
     "data": {
      "text/plain": [
       "1310                                           Cutting cells. Drag and drop them with mouse. \n",
       "1048                  Version control (and, which is related, collaborative version control).\n",
       "892                                                                    Mobile editor features\n",
       "1517                - An easily launched text-editor from the notebook code cells themselves.\n",
       "14                                                                            git integration\n",
       "871                               not easy to terminate the running cell, often no response. \n",
       "1576                                                         Nothing, really. It works great.\n",
       "1663                                                      Not enough people use it around me.\n",
       "960                                      Nothing, I always use it for the tasks it can handle\n",
       "1460                                                Kernels' interaction like Beaker Notebook\n",
       "1512    Ease of integration into command line tools, lack of good unit testing/CI solutions. \n",
       "1525                                            Limited (multi) cell editing functionalities.\n",
       "1456                                                                                 Nothing.\n",
       "204                                    Notebooks encourage sloppy and non linear programming.\n",
       "1616                              Collaborators that I haven't been able to indoctrinate yet.\n",
       "1067                       I think desktop app would help. Even something like Atom+Hydrogen.\n",
       "1125                                             It's hard to add new kernels to the Jupyter.\n",
       "1554                                                                  version tracking in git\n",
       "92                                                                     nothing I can think of\n",
       "167                                                     Forced vertical follow of everything \n",
       "Name: What, if anything, hinders you from making Jupyter Notebook an even more regular part of your workflow?, dtype: object"
      ]
     },
     "execution_count": 63,
     "metadata": {},
     "output_type": "execute_result"
    }
   ],
   "source": [
    "hinder[char_lengths < 100].sample(20)"
   ]
  },
  {
   "cell_type": "markdown",
   "metadata": {},
   "source": [
    "From reading a bunch of random samples of the shortest responses, we've got a list of ideas that we think we can search for across all of the responses in order to judge how common the themes are.\n",
    "    \n",
    "* Nothing\n",
    "* UX / navigation / mobile / paradigm\n",
    "* IDE / debug / editor familiarity /  comfort zone / keys\n",
    "* Setup / learning / getting started / perceived lack of skills\n",
    "* Inertia\n",
    "* Colleagues / peer pressure\n",
    "* Version control / git / history / tracking / provenance\n",
    "* Collaboration / export / sharing\n",
    "* Integration / missing languages / extensibility\n",
    "\n",
    "Before we do, let's look at a few \"medium-length\" responses too for good measure."
   ]
  },
  {
   "cell_type": "code",
   "execution_count": 67,
   "metadata": {
    "collapsed": false
   },
   "outputs": [
    {
     "name": "stdout",
     "output_type": "stream",
     "text": [
      " * Lack of interconnection between notebooks. Loading notebooks as modules is still non-trivial * non-trivial UI customization * No native spell-checker * No \"templates\" * No more user profiles or read-only mode\n",
      "\n",
      "* No spell checker * Non-trivial to use notebooks as modules * Non-trivial customization of notebooks * No more read-only access \n",
      "\n",
      "The requirement for sequential execution of cells and no concepts of 'modulazation' (call cell x in notebook y) means it is always somewhat cumbersome to use if you are doing anything complicated.   But mostly the reluctance of others to use it. \n",
      "\n",
      "Editing capabilities for text. Ability to convert from notebook form to plain text and back again?  Working on multiple notebooks.\n",
      "\n",
      "The lack of version control (tracking changes using git does not work well) My own knowledge about how to use functions in other notebooks, etc.\n",
      "\n",
      "The only time I don't use jupyter is when collaborating with others who don't. Usually the collaborators are stuck on Matlab and unwilling to change languages.\n",
      "\n",
      "- tighter integration with version control - cross project/directory search of notebooks - deployable notebooks - persistent widgets \n",
      "\n",
      "It doesn't work well with standard version control tools because one line of code doesn't correspond to one line in the notebook file  It throws away 30 years of text editor development by replacing a real editor like vim or emacs with a HTML text area.\n",
      "\n",
      "Most of the time I prefer working with the ipython shell directly.  I use the notebook when I intend to share with others. \n",
      "\n",
      "1. For advanced terminal users, the lack of full emacs (or vi I guess) editing modes is annoying. Maybe it is just that the IPython terminal is too awesome already!  2. Version controlling ipynb files is annoying (but possible and I do it for some notebooks).\n",
      "\n",
      "Exporting 'finished' reports is one aspect. Yes, there are workarounds to code it, but adding simple features that allow you to export analyzed data / diagrams / charts in high fidelity formats is very important.\n",
      "\n",
      "annoying to start the notebook server when I want to qucikly look at notebook content  versioning notebooks (git) is a pain\n",
      "\n",
      "Mostly, the fact that not many colleagues, collaborators and customers use it or are familiar with it.\n",
      "\n",
      "We still need to have \"idiot-proof\" documentation for serving up your own Jupyter notebooks on a personal website. If we had that, I'd guarantee we'd see a surge in the number of notebook-enabled textbooks, demos, etc.\n",
      "\n",
      "Cross language compatibility, i.e. running jupyter on different language kernels, such as scala, spark, groovy, clojure, etc.\n",
      "\n",
      "1. Difficulties diffing notebooks in version control.  2. Interface issues on mobile devices 3. Slide show usage is still tricky\n",
      "\n",
      "I don't actually use it for work, but for classes. If I did, thought, Jupyter would prove itself a great tool.\n",
      "\n",
      "already a part of my workflow. Being able to convert from notebook to script is very important but I wish I could just run my notebook in production mode.\n",
      "\n",
      "Not clear what needs to be installed and what versions, particularly WRT widgets & extensions.  I'm very excited about dashboards and can appreciate how fluid things are.  Finding it difficult figuring out where & how to jump in.\n",
      "\n",
      "- development of modules with multiple files - development of notebooks that render lots of mathjax (it gets slow) -(painless) integration with distributed computing backends (this isn't really about the Notebook itself, but I had to say it)\n",
      "\n"
     ]
    }
   ],
   "source": [
    "for x in list(hinder[(char_lengths < 300) & (char_lengths > 100)].sample(20)):\n",
    "    print(x)\n",
    "    print()"
   ]
  },
  {
   "cell_type": "markdown",
   "metadata": {},
   "source": [
    "We can add a few themes to the list we created above (which we'll replicate here to keep growing it as we go, because, history):\n",
    "\n",
    "* Nothing\n",
    "* UX / navigation / mobile / paradigm\n",
    "* IDE / debug / editor familiarity /  comfort zone / keys\n",
    "* Setup / learning / getting started / perceived lack of skills / community / documentation\n",
    "* Inertia\n",
    "* Colleagues / peer pressure\n",
    "* Version control / git / history / tracking / provenance\n",
    "* Collaboration / export / sharing / dirt simple deploy\n",
    "* Customization / personalization\n",
    "* Reuse / modularization\n",
    "* Integration / missing languages / extensibility"
   ]
  },
  {
   "cell_type": "code",
   "execution_count": 76,
   "metadata": {
    "collapsed": true
   },
   "outputs": [],
   "source": [
    "keywords = ['git', 'version control', 'history', 'track', 'checkpoint', 'save']"
   ]
  },
  {
   "cell_type": "code",
   "execution_count": 77,
   "metadata": {
    "collapsed": true
   },
   "outputs": [],
   "source": [
    "def keywords_or(text):\n",
    "    for keyword in keywords:\n",
    "        if keyword in text: \n",
    "            return text\n",
    "    return None"
   ]
  },
  {
   "cell_type": "code",
   "execution_count": 78,
   "metadata": {
    "collapsed": false
   },
   "outputs": [],
   "source": [
    "results = hinder.map(keywords_or)"
   ]
  },
  {
   "cell_type": "code",
   "execution_count": 79,
   "metadata": {
    "collapsed": false,
    "scrolled": false
   },
   "outputs": [
    {
     "data": {
      "text/plain": [
       "93"
      ]
     },
     "execution_count": 79,
     "metadata": {},
     "output_type": "execute_result"
    }
   ],
   "source": [
    "len(results.dropna())"
   ]
  },
  {
   "cell_type": "code",
   "execution_count": 80,
   "metadata": {
    "collapsed": false,
    "scrolled": false
   },
   "outputs": [
    {
     "data": {
      "text/plain": [
       "14                                                                                                                                                                                                                                                                                                                                                                                                                                                                                                                                                                                                                                                                                                                                                                                                                                                                                                                                                                                                                              git integration\n",
       "16      It is very easy to do exploratory computing, but not so easy to persist results. I work in computational quantum physics, and in my \"old\" workflows, e.g., with Fortran codes, the computation and analysis were usually well-separated: The results from (potentially long-running) simulations were saved as text files, and then analyzed/plotted with, e.g., gnuplot.  Jupyter Notebook makes this more convenient by allowing me combine simulation and analysis in a single notebook without the intermediate step of saving text files and reading the data again. However, this also makes it much easier to \"lose\" results that only ever existed as data, but were not written to files. Going back to writing text files for all of the possibly interesting output would be a step back regarding the interactivity, so an easy way to save program state or something similar would be great. I realize this is not directly within the scope of the Jupyter Notebook, as it corresponds to a general persistence solut...\n",
       "21                                                                                                                                                                                                                                                                                                                                                                                                                                                                                                                                                                                                                                                                                                                                                                                                                                                                                                                                 not too easy to integrate into a git workflow (diffs don't look nice and it is hard to see what has changed)\n",
       "26                                                                                                                                                                                                                                                                                                                                                                                                                                                                                                                                                                                                                                                                                                                                                                                                                                                         Lack of multi-cell copy/paste (until now). Difficulties with version control and large notebooks. Poor documentation in general. Relatively frequent changes to the notebook format.\n",
       "36                                                                                                                                                                                                                                                                                                                                                                                                                                                                                                                                                                                                                                                                                                                                                                                                                                                                                                           Doesn't interact with git too well with lots of unimportant / temporary changes distracting from the real differences in a commit.\n",
       "39                                                                                                                                                                                                                                                                                                                                                                                                                                                                                                                                                                                                                                                                                                                                                                                                                                                                                                        - tighter integration with version control - cross project/directory search of notebooks - deployable notebooks - persistent widgets \n",
       "41                                                                                                                                                                                                                                                                                                                                                                                                                                                                                                                                                                                                                                                                                                                                                                                                                                                                                                                                Lacking nice github integration Interactive figures are cumbersome (at least I haven't found the right tools)\n",
       "60                                                                                                                                                                                                                                                                                                                                                                     No standardised solution for version control (I think there are a few ad-hoc tools out there at present but would rather learn/use something with momentum behind it).  Unexpected scrolling between cells when move cursor/focus or execute a cell (particularly when using Firefox and when have large cells).  Difficult to keep on top of API changes and developments in associated components e.g. widgets; ipython-dev and jupyter mailing lists can help here but useful info tends to get rather buried amongst things pertaining only to dedicated developers (and sysadmins interested in jupyterhub configs).  (I still love the project to bits though :-))\n",
       "66                                                                                                                                                                                                                                                                                                                                                                                                                                                                                                                                                                                                                                                                                                                                                                                                            The file browser feels clunky,  and I REALLY wish the checkpoint feature inside the notebooks would be implemented more completely. Autosaving is great, but not if we can only revert to the last save state. More save history!\n",
       "97                                                                                                                                                                                                                                                                                                                                                                                                                                                                                                                                                                                                                                                                                                                                                                                                                                                                                                              They are difficult to use with version control, and I prefer development in a text editor over development in a browser window.\n",
       "101                                                                                                                                                                                                                                                                                                                                                                                                                                                                                                                                                                                                                                                                                                                                                                                                                                                                                                                                                                                        Integration with version control and production code\n",
       "104                                                                                                                                                                                                                                                                                                                                                                                                                                                                                                                                                                                                                                                                                                                                                                                                                                                                                                                       static checking of code (ala pyflakes)  better integration with version control  better editor inside the code blocks\n",
       "105                                                                                                                                                                                                                                                                                                                                                                                                                                                                                                                                                                                                                                                                                                                                                                                                                                                                                                                                                        Version control with git. Cell merging. Cell grouping and hiding. Vim key bindings. \n",
       "117                                                                                                                                                                                                                                                                                                                                                                                                                                                                                                                                                                        - Not available on all my computing environments and I have been struggling with jupyterhub setup. - No easy workflow with a version control system such as git .  Need a markup language in comments to  create a mapping between notebook cells and traditional flat files. - Detect running dependencies between cells.  Warn when a variable is reassigned between cells .   This might indicate a cell cannot be refreshed without refreshing the previous one.\n",
       "123                                                                                                                                                                                                                                                                                                                                                                                                                                                                                                                                                                                                                                                                                                                                                                               It doesn't work well with standard version control tools because one line of code doesn't correspond to one line in the notebook file  It throws away 30 years of text editor development by replacing a real editor like vim or emacs with a HTML text area.\n",
       "143                                                                                                                                                                                                                                                                                                                                                                                                                                                                                                                                                                                                                                                                                                                                                                                                                                                                                                                                         I strongly use version control, and the workflow of using the notebook with version control is odd.\n",
       "149                                                                                                                                                                                                                                                                                                                                                                                                                                                                                                                                                                                                                                                                                                                                                                                                                                                                           The difficulty with using the same code in the notebook and running it from the command line. Inability to put code in the notebook under version control (git). \n",
       "163                                                                                                                                                                                                                                                                                                                                                                                                                                                                                                                                                                                                                                                                                                                                                                                                                                                                       I spend most of my time doing library/application development, and mostly don't need to save records of my work. I use notebooks as scratch areas and one-off things.\n",
       "173                                                                                                                                                                                                                                                                                                                                                                                                                                                                                                                                                                             - full(er) latex support including cross references for figs, eqns, etc.  - a pure text format for version control / diffs and to allow working from text editor (I strongly dislike working in browser) - ability to output to PDF or a nice printable format - something like nbviewer but allowing execution of code (or like jupyterhub but without manual uploading) - better default styling or easier customization - better widget (animations) support\n",
       "182                                                                                                                                                                                                                                                                                                                                                                                                                                                                                                                                                                                                                                                                                                                               I only very recently figured out how to save Jupyter Notebooks in different places (I navigate to my working directory before typing ipython notebook in the command line). Not having flexibility was a major *perceived* hinderance and could be a good thing to address in the documentation for newbies??\n",
       "233                                                                                                                                                                                                                                                                                                                                                                                                                                                                                                                                                                                                                                                                                                                                                                                                                                                                                                                                             Having to start/stop the server and kernels, having `.ipynb_checkpoints` directories everywhere\n",
       "235                                                                                                                                                                                                                                                                                                                                                                                                                                                                                                                                                                                                                                                                                                                                                                                                                                                                                                                                       Combining code and output in a single file makes it hard to integrate correctly with version control.\n",
       "238                                                                                                                                                                                                                                                                                                                                                                                                                                                                                                                                                                                                                                                                                                                                                                                                                                                                                                                                                                                                      Integration in version control (git). \n",
       "245                                                                                                                                                                                                                                                                                                                                                                                                                                                                                                                                                                                                                                                                                                                                                                                                                                                                                                                                                                                                                   Easy integration with git\n",
       "252                                                                                                                                                                                                                                                                                                                                                                                                                                                                                                                                                                                                                                                                                                                                                                                                                                                                                                                                                                                                               Difficulty in github synching\n",
       "263                                                                                                                                                                                                                                                                                                                                                                                                                                                                                                                                                                                                                                                                                                                                                                                                                                                                                                            1. Difficulties diffing notebooks in version control.  2. Interface issues on mobile devices 3. Slide show usage is still tricky\n",
       "282                                                                                                                                                                                                                                                                                                              1. Easy drag and drop for reorganizing cells 2. Good version control - the json ipynb structure and cell number are distractions that prevents user from seeing what code actually changed  3. table of content  4. easy collapse of code / output cells  5. saving python data objects - we need a .Rda / .Rsession / .Rhistory file equivalent in IPython. (sorry this may be too much to ask) 5. Jupyter notebook should allow people to write scripts to control table of content, easy collapsing of code / output cells and the CSS style easily 6. Syntax check, Pep8, pylint, pyflake  7. automatic line wrapping for long lines! Lines longer than 80 characters should be wrapped if the user enables this feature. \n",
       "286                                                                                                                                                                                                                                                                                                                                                                                                                                                                                                                                                                                                                                                                                                                                                                                        Easier version control would be great. I tend to have a bunch of copies of notebooks with different dates, which gets cumbersome. I also would like some tools to filter the directory interface and remove files that cannot be opened by jupyter. \n",
       "310                                                                                                                                                                                                                                                                                                                                                                                                                                                                                                                                                                                                                                                                                                                                                                                                                                                          Less than optimal startup friction; Some issues with keeping track of installed packages.  Some issues with reproducibility (changes to cells can be hard to track while working).\n",
       "332                                                                                                                                                                                                                                                                                                                                                                                                                                                                                                                                                                                                                                                                                                                                                                                                                                                                                                                                          Version control. I find it unstable due to the rapid pace of development, it's hard to keep track.\n",
       "                                                                                                                                                                                                                                                                                                                                                                                                                                                                                                                         ...                                                                                                                                                                                                                                                                                                                                                                                                                                                                                                                   \n",
       "1243                                                                                                                                                                                                                                                                                                                                                                                       1. The integration of matplotlib could be better. E.g. resizing of a graph still does not trigger a redraw, and is not stored for the next run of this code cell.  2. A basic version of shared notebooks would be great. Of course, real time collaboration at one notebook would be best, but running notebooks on different machines, and tracking individual changes would be a great first step, thaat, I think, is much easier to realize, and  almost as helpful.  3. Some lightweight admin level for code cells (run, delete, move cell groups). Probably possible to combine this in a reasonable way with some structure of the notebook.\n",
       "1283                                                                                                                                                                                                                                                                                                                                                                                                                                                                                                                                                                                                                                                                                                                                                                                                                                                                                                                                                              UI design is bad, and the ipynb file format is not great for using with a git\n",
       "1314                                                                                                                                                                                                                                                                                                                                                                                                                                                                                                                                                                                                                                                                                                                                                                                              1.  Difficulty using with version control, esp. git 2.  Lack of code-folding or other organizational helpers 3.  Lack of simple interoperability with raw python source files-- once the decision to use JN is made, everybody has to use JN.\n",
       "1342                                                                                                                                                                                                                                                                                                                                                                                                                                                                                                                                                                                                                                                                                                                                                                                                                                                                                           The lack of version control (tracking changes using git does not work well) My own knowledge about how to use functions in other notebooks, etc.\n",
       "1347                                                                                                                                                                                                                                                                                                                                                                                                                                                                                                                                                                                                                                                                                                                                                                                                                                                                                                                annoying to start the notebook server when I want to qucikly look at notebook content  versioning notebooks (git) is a pain\n",
       "1368                                                                                                                                                                                                                                                         1. As code used for data analysis for a single project becomes more stable, i find it better to move the functions that dont require change out of the notebook, for 2 reasons : 1.a : Makes my notebook more clear - i only keep the functions i m still tinkering with 1.b : Protects me against accidental deletion by moving important functions into version controlled .py files. It happenned a few times to lose hours of work in the notebook by abusing the 'cut cell' action. (Cuts a few cell, including a few critical preprocessing ones - codes still runs fine as variables are in memory. Saves notebook. Come back a few days later --> broken)  2. Some weeks i do web dev (to show all those nice plots created in notebook) . Notebook's not useful for this.\n",
       "1370                                                                                                                                                                                                                                                                                                                                                                                                                                                                                                                                                                                                                                                                                                                                        Inability to do \"git diff\" in a reasonable way  I get very frustrated with the text editor adding parentheses for me.  It never acts the way I want it to, and it's very unclear how to disable that \"feature\".  The auto-indentation is also similarly poor.   And the undo features can be buggy.\n",
       "1381                                                                                                                                                                                                                                                                                                                                                                                                                                                                                                                                                                                                                                                                                                                             - Hard to keep track of which cells have been run when run out of order - Hard to easily change CSS styles. Would be nice if I could easily change the look and feel of the notebook (using themes) from the toolbar - More tools / features for sharing notebooks, especially on different platforms (mobile)\n",
       "1393                                                                                                                                                                                                                                                                                                                                                                                                                                                                                                                                                                                                                                                                                                                                                                                                                                                                                                                                        Notebook format doesn't work well with git. Lack of basic code editor features like replacing text.\n",
       "1400                                                                                                                                                                                                                                                                                                                                                                                                                                                                                                                                                                                                                                                                                                                                                                                                                                                                                                                                                      It's not simple to move notebook data to and from Git to keep a safe history of work.\n",
       "1425                                                                                                                                                                                                                                                                                                                                                                                                                                                                                                                                                                                                                                                                                                                 1. Better integration with version control systems 2. Seamless transition from notebook to standalone python script, e.g. for report generation. 3. For small code snippets, it's perfect. For a large-ish library, you know to avoid it. When you are in between the two, the editing capabilities are a limiting factor.\n",
       "1438                                                                                                                                                                                        Inability to run notebooks as first-class scripts. Sometimes I'll have a particular or analysis demoed or sketched in a Notebook; simply running the Notebook will be enough to produce the whole result that I care about. Because it's not easy to run Notebooks from terminal (like \"$ python my_notebook.ipynb\"), I end up having to convert them. But since in the process, I end up creating a normal script, I take the time to write a full shell script with argparse and other options in case I want to tweak the output later. That's all fine, but it would be really nice to just by able to run the notebook directly.  Additionally, first-class or native support for git-hooks would be nice, so that it's easier to track a notebook in version control. Really - all I care about is the logic, not the metadata for each cell!\n",
       "1455                                                                                                                                                                                                                                                                                                                                                                                                                                                                                                                     - BLD: Makefile: runipy ##1 - UBY: notebook: a keyboard shortcut for (clear all, restart) - UBY: notebook: current keyboard shortcuts in menu items ## - ENH: notebook: git save & shortcut ## - ENH: notebook: git branch list & DAG viewer  .. tests:  * https://westurner.org/wiki/awesome-python-testing#workflow-evolution  https://westurner.org/wiki/awesome-python-testing#ipython  IPython Notebook⬅  * https://github.com/westurner/notebooks/blob/gh-pages/Makefile * https://pypi.python.org/pypi/runipy  \n",
       "1487                                                                                                                                                                                                                                                                                                                                                                                                                                                                                                                                                                                                                                                                                                                                                                                                                                                                                                                       More power to the text file editor, such: - ES6 syntax check/highlight - linting and introspection - git integration\n",
       "1504                                                                                                                                                                                                                                                                                                                                                                                                                                                                                                                                                                                                                                                                                                                                                                                                                                                                                                                                                       Lack of graphical diff'ing of notebooks for use with source control e.g git, GitHub.\n",
       "1529                                                                                                                                                                                                                                                                                                                                                                                                                                                                                                                                                                                                                                                                                                                                                                                                                                                                                                                                                                                                          Full undo history, export options\n",
       "1541                                                                                                                                                                                                                                                                                                                                                                                                                                                                                                                                                                                                                                                                                                                                                                                                                                                                                                                                                                                                          No easy git integration extension\n",
       "1554                                                                                                                                                                                                                                                                                                                                                                                                                                                                                                                                                                                                                                                                                                                                                                                                                                                                                                                                                                                                                    version tracking in git\n",
       "1566                                                                                                                                                                                                                                                                                                                                                                                                                                                                                                                                                                                                                                                                                                                                                                                                                                                                                                                                                                                 Debugging functionality, version control for notebooks, UI\n",
       "1579                                                                                                                                                                                                                                                                                                                                                                                                                                                                                                                                                                                                                                                                                                                                                                                                Text editing capabilities within the notebook cells is very limited. I am currently following these projects in the hopes of a viable workaround: https://github.com/jupyter/atom-notebook https://github.com/Cacodaimon/GhostText-for-Atom\n",
       "1603                                                                                                                                                                                                                                                                                                                                                                                                                                                                                                                                                                                                                                                                                                                                                                                                Text editing capabilities within the notebook cells is very limited. I am currently following these projects in the hopes of a viable workaround: https://github.com/jupyter/atom-notebook https://github.com/Cacodaimon/GhostText-for-Atom\n",
       "1607    Inability to easily navigate within modules/structured code directories, so that I can develop my code simultaneously as a package/module and within a notebook. Prototyping in the notebook is great, but then making sure everything works appropriately when outside of the notebook environment is more difficult without a lot more infrastructure. Furthermore, once it is ported to an external module, its essentially impossible to either bring the code back into the notebook efficiently (i.e., not just copying and pasting into cells) and or to maintain a coherent version control stream for the changes then made in the notebook. So currently software development in a notebook to external module is a 1-way street, and not a particularly easy one to navigate.   Also, inconsistency in relative import statements make developing software packages in a notebook/module. Given the portable nature of the notebook, it's nice to be able to work from the same source files on a variety of computers. B...\n",
       "1618                                                                                                                                                                                                                                                                                                                                                                                                                                                                                                                                                                                                                                                                                                                                                                                                                                                                                                                                                                              Version control / diffing version control between notebooks. \n",
       "1623                                                                                                                                                                                                                                                                                                                                                                                                                                                                                                                                                                                                                                                                                                                                                                                                                                                           Better editor in browser; better dashboard ---need to have a real file/folder manager; multi-file notebooks (to contain related files); better pdb (command completion, history)\n",
       "1629                                                                                                                                                                                                                                                                                                                                                                                                                                                                                                                                                                                                                                                                                                                                                                                                        * The \"impedance mismatch\" between Jupyter Notebooks and version control systems like git.  * The lack of high-level document refactoring, e.g. moving around entire sections.  (The Calico Tools plugin makes this more bearable.)\n",
       "1644                                                                                                                                                                                                                                                                                                                                                                                                                                                                                                                                                                                                                                                                                                                                                               Ease of version control with gift hub, sharing with non-technical users, collapsible input boxes to make it easier for non-technical personnel to understand, syntax highlighting in JavaScript cells, easy debugging, ease of implementing in server side CRON jobs etc.   \n",
       "1654                                                                                                                                                                                                                                                                                                                                                                                                                                                                                                                                                                                                                                                                                                                                                                                                                                                                                                                                       Integration with Git, or at least some documentation on ho best to use version control with Jupyter.\n",
       "1695                                                                                                                                                                                                                                                                                                                                                                                                                                                                                                                                                                                                                                                                                                                                                                                    - Not very handy to inspect large dataframes (spyder variable explorer is a better tool for that purpose) - Cannot use git to do version control. - I mostly del with a lots of files of code and Jupyter is just form interactive exploration or demos\n",
       "1701                                                                                                                                                                                                                                                                                                                                                                                                                                                                                                                                                                                                                                                                                                                                                                                                                                                                  Having an AWK specific version would be useful instead of having to use the bash support.  https://github.com/tonycasanova/Jupyter/blob/master/AWK_BasicExample_1_A.ipynb\n",
       "1702                                                                                                                                                                                                                                                                                                                                                                                                                                                                                                                                                                                                                                                                                                                                                                                                                                                                        Single window of browser Lack of integration with github Lots of my work borders on BI, for which BI tools are really better suited, e.g. drill down into datasets \n",
       "Name: What, if anything, hinders you from making Jupyter Notebook an even more regular part of your workflow?, dtype: object"
      ]
     },
     "execution_count": 80,
     "metadata": {},
     "output_type": "execute_result"
    }
   ],
   "source": [
    "results.dropna()"
   ]
  },
  {
   "cell_type": "markdown",
   "metadata": {},
   "source": [
    "Moving forward, here's a semi-automatic procedure we can follow for identifying themes across questions:\n",
    "\n",
    "1. Take a random sample of question responses\n",
    "2. Write down common theme keywords\n",
    "3. Search back through the responses using the theme keywords\n",
    "4. Expand the set of keywords with other words seen in the search results\n",
    "5. Repeat for all themes and questions\n",
    "\n",
    "Later, we can use a fully automated topic modeling approach to validate our manually generated themes."
   ]
  },
  {
   "cell_type": "markdown",
   "metadata": {},
   "source": [
    "## Roles\n",
    "\n",
    "We want to pull out the major roles that people self-identified as filling when they use Jupyter Notebook."
   ]
  },
  {
   "cell_type": "code",
   "execution_count": 100,
   "metadata": {
    "collapsed": false
   },
   "outputs": [],
   "source": [
    "roles_df = df[['What is your primary role when using Jupyter Notebook (e.g., student,\\xa0astrophysicist, financial modeler, business manager, etc.)?']]"
   ]
  },
  {
   "cell_type": "code",
   "execution_count": 101,
   "metadata": {
    "collapsed": false
   },
   "outputs": [],
   "source": [
    "roles_df = roles.dropna()"
   ]
  },
  {
   "cell_type": "markdown",
   "metadata": {},
   "source": [
    "We're renaming the column for brevity only."
   ]
  },
  {
   "cell_type": "code",
   "execution_count": 104,
   "metadata": {
    "collapsed": false
   },
   "outputs": [],
   "source": [
    "roles_df.columns = ['role']"
   ]
  },
  {
   "cell_type": "markdown",
   "metadata": {},
   "source": [
    "Some basic normalization. TODO: do more later."
   ]
  },
  {
   "cell_type": "code",
   "execution_count": 107,
   "metadata": {
    "collapsed": false
   },
   "outputs": [],
   "source": [
    "roles_df['role_norm'] = roles_df.role.str.lower()"
   ]
  },
  {
   "cell_type": "markdown",
   "metadata": {},
   "source": [
    "For now, we're going to look at the top 20 and see what industries they support from the other columns"
   ]
  },
  {
   "cell_type": "code",
   "execution_count": 109,
   "metadata": {
    "collapsed": false,
    "scrolled": false
   },
   "outputs": [
    {
     "data": {
      "text/plain": [
       "data scientist                                                            84\n",
       "student                                                                   51\n",
       "researcher                                                                40\n",
       "data analyst                                                              28\n",
       "software engineer                                                         17\n",
       "phd student                                                               15\n",
       "developer                                                                 15\n",
       "astrophysicist                                                            14\n",
       "physicist                                                                 14\n",
       "financial modeler                                                         14\n",
       "engineer                                                                  10\n",
       "software developer                                                        10\n",
       "scientist                                                                  9\n",
       "professor                                                                  7\n",
       "neuroscientist                                                             6\n",
       "programmer                                                                 6\n",
       "graduate student                                                           6\n",
       "bioinformatician                                                           5\n",
       "grad student                                                               4\n",
       "educator                                                                   4\n",
       "data science                                                               4\n",
       "business analyst                                                           4\n",
       "analyst                                                                    3\n",
       "student researcher                                                         3\n",
       "instructor                                                                 3\n",
       "computational biologist                                                    3\n",
       "research engineer                                                          3\n",
       "teacher                                                                    3\n",
       "systems engineer                                                           3\n",
       "data analysis                                                              3\n",
       "                                                                          ..\n",
       "qe developer                                                               1\n",
       "student, climate science                                                   1\n",
       "post doc, atmospheric sciences                                             1\n",
       "financial modeling                                                         1\n",
       "qantum information researcher                                              1\n",
       "university professor (research and teaching)                               1\n",
       "data science / analyst                                                     1\n",
       "developer of scientific software                                           1\n",
       "student / data scientist                                                   1\n",
       "physical science                                                           1\n",
       "health researcher                                                          1\n",
       "data analyst at analytics company                                          1\n",
       "engineering, modelling and statistics, scientific software development     1\n",
       "astrophysicst                                                              1\n",
       "analytics engineer                                                         1\n",
       "software developer on science team                                         1\n",
       "data scientist (consultant)                                                1\n",
       "researcher in quantitative environmental sciences                          1\n",
       "modeller and lecturer                                                      1\n",
       "academic working in physics                                                1\n",
       "business analyst/graduate student                                          1\n",
       "graduate student, scientist                                                1\n",
       "business manager and analyst                                               1\n",
       "data science/developer                                                     1\n",
       "open source developer                                                      1\n",
       "data scientist at an ed tech startup                                       1\n",
       "data scientist; teacher                                                    1\n",
       "graduate student researcher                                                1\n",
       "student, financial modeler, researcher.                                    1\n",
       "biomedical data analysis                                                   1\n",
       "Name: role_norm, dtype: int64"
      ]
     },
     "execution_count": 109,
     "metadata": {},
     "output_type": "execute_result"
    }
   ],
   "source": [
    "roles_df.role_norm.value_counts()"
   ]
  },
  {
   "cell_type": "markdown",
   "metadata": {},
   "source": [
    "## Industry vs Role"
   ]
  },
  {
   "cell_type": "code",
   "execution_count": 112,
   "metadata": {
    "collapsed": false
   },
   "outputs": [
    {
     "data": {
      "text/plain": [
       "661"
      ]
     },
     "execution_count": 112,
     "metadata": {},
     "output_type": "execute_result"
    }
   ],
   "source": [
    "len(df['Industry #1:What industries does your role and analytical work support (e.g., Journalism, IT, etc.)?'].dropna())"
   ]
  },
  {
   "cell_type": "code",
   "execution_count": 113,
   "metadata": {
    "collapsed": false
   },
   "outputs": [
    {
     "data": {
      "text/plain": [
       "308"
      ]
     },
     "execution_count": 113,
     "metadata": {},
     "output_type": "execute_result"
    }
   ],
   "source": [
    "len(df['Industry #2:What industries does your role and analytical work support (e.g., Journalism, IT, etc.)?'].dropna())"
   ]
  },
  {
   "cell_type": "code",
   "execution_count": 114,
   "metadata": {
    "collapsed": false
   },
   "outputs": [
    {
     "data": {
      "text/plain": [
       "98"
      ]
     },
     "execution_count": 114,
     "metadata": {},
     "output_type": "execute_result"
    }
   ],
   "source": [
    "len(df['Industry #3:What industries does your role and analytical work support (e.g., Journalism, IT, etc.)?'].dropna())"
   ]
  },
  {
   "cell_type": "code",
   "execution_count": 127,
   "metadata": {
    "collapsed": true
   },
   "outputs": [],
   "source": [
    "industry_df = df[\n",
    "    ['Industry #1:What industries does your role and analytical work support (e.g., Journalism, IT, etc.)?',\n",
    "     'Industry #2:What industries does your role and analytical work support (e.g., Journalism, IT, etc.)?',\n",
    "     'Industry #3:What industries does your role and analytical work support (e.g., Journalism, IT, etc.)?',\n",
    "     'What is your primary role when using Jupyter Notebook (e.g., student,\\xa0astrophysicist, financial modeler, business manager, etc.)?'\n",
    "    ]\n",
    "]"
   ]
  },
  {
   "cell_type": "code",
   "execution_count": 128,
   "metadata": {
    "collapsed": false
   },
   "outputs": [],
   "source": [
    "industry_df.columns = ['industry1', 'industry2', 'industry3', 'role']"
   ]
  },
  {
   "cell_type": "code",
   "execution_count": 129,
   "metadata": {
    "collapsed": false
   },
   "outputs": [],
   "source": [
    "industry_df = industry_df.dropna(how='all')"
   ]
  },
  {
   "cell_type": "code",
   "execution_count": 133,
   "metadata": {
    "collapsed": false
   },
   "outputs": [],
   "source": [
    "top_roles = roles_df.role_norm.value_counts()[:20]"
   ]
  },
  {
   "cell_type": "code",
   "execution_count": 135,
   "metadata": {
    "collapsed": false
   },
   "outputs": [],
   "source": [
    "top_industry_df = industry_df[industry_df.role.isin(top_roles.index)]"
   ]
  },
  {
   "cell_type": "code",
   "execution_count": 137,
   "metadata": {
    "collapsed": false
   },
   "outputs": [
    {
     "data": {
      "text/html": [
       "<div>\n",
       "<table border=\"1\" class=\"dataframe\">\n",
       "  <thead>\n",
       "    <tr style=\"text-align: right;\">\n",
       "      <th></th>\n",
       "      <th>industry1</th>\n",
       "      <th>industry2</th>\n",
       "      <th>industry3</th>\n",
       "      <th>role</th>\n",
       "    </tr>\n",
       "  </thead>\n",
       "  <tbody>\n",
       "    <tr>\n",
       "      <th>92</th>\n",
       "      <td>IT</td>\n",
       "      <td>Publishing</td>\n",
       "      <td>NaN</td>\n",
       "      <td>data analyst</td>\n",
       "    </tr>\n",
       "    <tr>\n",
       "      <th>93</th>\n",
       "      <td>Business Intelligence</td>\n",
       "      <td>NaN</td>\n",
       "      <td>NaN</td>\n",
       "      <td>data analyst</td>\n",
       "    </tr>\n",
       "    <tr>\n",
       "      <th>152</th>\n",
       "      <td>energy</td>\n",
       "      <td>physics</td>\n",
       "      <td>teaching</td>\n",
       "      <td>data analyst</td>\n",
       "    </tr>\n",
       "    <tr>\n",
       "      <th>194</th>\n",
       "      <td>finance</td>\n",
       "      <td>IT</td>\n",
       "      <td>NaN</td>\n",
       "      <td>data analyst</td>\n",
       "    </tr>\n",
       "    <tr>\n",
       "      <th>437</th>\n",
       "      <td>automotive</td>\n",
       "      <td>IT</td>\n",
       "      <td>data analytics</td>\n",
       "      <td>data analyst</td>\n",
       "    </tr>\n",
       "    <tr>\n",
       "      <th>620</th>\n",
       "      <td>Internet</td>\n",
       "      <td>NaN</td>\n",
       "      <td>NaN</td>\n",
       "      <td>data analyst</td>\n",
       "    </tr>\n",
       "    <tr>\n",
       "      <th>837</th>\n",
       "      <td>bioinformatics</td>\n",
       "      <td>NaN</td>\n",
       "      <td>NaN</td>\n",
       "      <td>data analyst</td>\n",
       "    </tr>\n",
       "    <tr>\n",
       "      <th>887</th>\n",
       "      <td>web app</td>\n",
       "      <td>NaN</td>\n",
       "      <td>NaN</td>\n",
       "      <td>data analyst</td>\n",
       "    </tr>\n",
       "    <tr>\n",
       "      <th>1151</th>\n",
       "      <td>IT</td>\n",
       "      <td>NaN</td>\n",
       "      <td>NaN</td>\n",
       "      <td>data analyst</td>\n",
       "    </tr>\n",
       "    <tr>\n",
       "      <th>1347</th>\n",
       "      <td>academia</td>\n",
       "      <td>NaN</td>\n",
       "      <td>NaN</td>\n",
       "      <td>data analyst</td>\n",
       "    </tr>\n",
       "    <tr>\n",
       "      <th>1390</th>\n",
       "      <td>healthcare</td>\n",
       "      <td>NaN</td>\n",
       "      <td>NaN</td>\n",
       "      <td>data analyst</td>\n",
       "    </tr>\n",
       "    <tr>\n",
       "      <th>1448</th>\n",
       "      <td>data science</td>\n",
       "      <td>internet</td>\n",
       "      <td>business intelligence</td>\n",
       "      <td>data analyst</td>\n",
       "    </tr>\n",
       "    <tr>\n",
       "      <th>1694</th>\n",
       "      <td>Physics research</td>\n",
       "      <td>Systems analysis</td>\n",
       "      <td>Machine learning</td>\n",
       "      <td>data analyst</td>\n",
       "    </tr>\n",
       "  </tbody>\n",
       "</table>\n",
       "</div>"
      ],
      "text/plain": [
       "                  industry1         industry2              industry3  \\\n",
       "92                       IT        Publishing                    NaN   \n",
       "93    Business Intelligence               NaN                    NaN   \n",
       "152                  energy           physics               teaching   \n",
       "194                 finance                IT                    NaN   \n",
       "437              automotive                IT         data analytics   \n",
       "620                Internet               NaN                    NaN   \n",
       "837          bioinformatics               NaN                    NaN   \n",
       "887                 web app               NaN                    NaN   \n",
       "1151                     IT               NaN                    NaN   \n",
       "1347               academia               NaN                    NaN   \n",
       "1390             healthcare               NaN                    NaN   \n",
       "1448           data science          internet  business intelligence   \n",
       "1694       Physics research  Systems analysis       Machine learning   \n",
       "\n",
       "              role  \n",
       "92    data analyst  \n",
       "93    data analyst  \n",
       "152   data analyst  \n",
       "194   data analyst  \n",
       "437   data analyst  \n",
       "620   data analyst  \n",
       "837   data analyst  \n",
       "887   data analyst  \n",
       "1151  data analyst  \n",
       "1347  data analyst  \n",
       "1390  data analyst  \n",
       "1448  data analyst  \n",
       "1694  data analyst  "
      ]
     },
     "execution_count": 137,
     "metadata": {},
     "output_type": "execute_result"
    }
   ],
   "source": [
    "top_industry_df[top_industry_df.role == 'data analyst']"
   ]
  },
  {
   "cell_type": "markdown",
   "metadata": {},
   "source": [
    "## Example: Software Engineering Role\n",
    "\n",
    "We want to see if software engineers (or related roles) are the ones asking about IDE-like features."
   ]
  },
  {
   "cell_type": "code",
   "execution_count": 138,
   "metadata": {
    "collapsed": true
   },
   "outputs": [],
   "source": [
    "software_roles = ['engineer', 'software engineer', 'developer', 'software developer', 'programmer']"
   ]
  },
  {
   "cell_type": "code",
   "execution_count": 144,
   "metadata": {
    "collapsed": false
   },
   "outputs": [],
   "source": [
    "role_hinder_df = pd.merge(roles_df, hinder_df, left_index=True, right_index=True)"
   ]
  },
  {
   "cell_type": "code",
   "execution_count": 147,
   "metadata": {
    "collapsed": false
   },
   "outputs": [],
   "source": [
    "role_hinder_df = role_hinder_df.ix[:, 1:]"
   ]
  },
  {
   "cell_type": "code",
   "execution_count": 148,
   "metadata": {
    "collapsed": false,
    "scrolled": false
   },
   "outputs": [
    {
     "data": {
      "text/html": [
       "<div>\n",
       "<table border=\"1\" class=\"dataframe\">\n",
       "  <thead>\n",
       "    <tr style=\"text-align: right;\">\n",
       "      <th></th>\n",
       "      <th>role_norm</th>\n",
       "      <th>What, if anything, hinders you from making Jupyter Notebook an even more regular part of your workflow?</th>\n",
       "    </tr>\n",
       "  </thead>\n",
       "  <tbody>\n",
       "    <tr>\n",
       "      <th>48</th>\n",
       "      <td>developer</td>\n",
       "      <td>Ability to easily move library code from notebooks to modules.</td>\n",
       "    </tr>\n",
       "    <tr>\n",
       "      <th>52</th>\n",
       "      <td>developer</td>\n",
       "      <td>Code editing is inferior to IDEs</td>\n",
       "    </tr>\n",
       "    <tr>\n",
       "      <th>69</th>\n",
       "      <td>software engineer</td>\n",
       "      <td>I mostly write libraries.  Notebooks are not the right artifact for non-interactive computing.</td>\n",
       "    </tr>\n",
       "    <tr>\n",
       "      <th>89</th>\n",
       "      <td>software engineer</td>\n",
       "      <td>Git integration, CSS themes</td>\n",
       "    </tr>\n",
       "    <tr>\n",
       "      <th>129</th>\n",
       "      <td>engineer</td>\n",
       "      <td>I'd like to use the jupyterhub with my colleagues but it is available only on linux and we live, unfortunately, in a win environment</td>\n",
       "    </tr>\n",
       "    <tr>\n",
       "      <th>148</th>\n",
       "      <td>software developer</td>\n",
       "      <td>* The fact that it requires opening a new browser window (I might not want to open a browser at all, or add a tab inside my current/default browser) * The volatility of the environment (it's not easy to have an overview of how many notebooks are open, and their working folder etc.)</td>\n",
       "    </tr>\n",
       "    <tr>\n",
       "      <th>155</th>\n",
       "      <td>developer</td>\n",
       "      <td>IMO Jupyter is still publication tool rather then programming tool.  (Databricks notebooks look better).  I would prefer way how to better roll up code.</td>\n",
       "    </tr>\n",
       "    <tr>\n",
       "      <th>159</th>\n",
       "      <td>engineer</td>\n",
       "      <td>A console is usually faster for what I need</td>\n",
       "    </tr>\n",
       "    <tr>\n",
       "      <th>163</th>\n",
       "      <td>software engineer</td>\n",
       "      <td>I spend most of my time doing library/application development, and mostly don't need to save records of my work. I use notebooks as scratch areas and one-off things.</td>\n",
       "    </tr>\n",
       "    <tr>\n",
       "      <th>198</th>\n",
       "      <td>engineer</td>\n",
       "      <td>Colleagues using Matlab</td>\n",
       "    </tr>\n",
       "    <tr>\n",
       "      <th>227</th>\n",
       "      <td>software engineer</td>\n",
       "      <td>Being able to download files generated inside a cell in the output.   Uploading a file to the filesystem from a notebook cell.</td>\n",
       "    </tr>\n",
       "    <tr>\n",
       "      <th>275</th>\n",
       "      <td>software developer</td>\n",
       "      <td>- Difficulty in maintaining emacs-like editing capabilities</td>\n",
       "    </tr>\n",
       "    <tr>\n",
       "      <th>295</th>\n",
       "      <td>developer</td>\n",
       "      <td>UI sucks</td>\n",
       "    </tr>\n",
       "    <tr>\n",
       "      <th>307</th>\n",
       "      <td>developer</td>\n",
       "      <td>Lack of integrated collaboration. Lack of blogging platform based on notebooks.</td>\n",
       "    </tr>\n",
       "    <tr>\n",
       "      <th>308</th>\n",
       "      <td>programmer</td>\n",
       "      <td>I mostly use IPython, not the notebook feature, so this is fine as is.</td>\n",
       "    </tr>\n",
       "    <tr>\n",
       "      <th>323</th>\n",
       "      <td>software engineer</td>\n",
       "      <td>NaN</td>\n",
       "    </tr>\n",
       "    <tr>\n",
       "      <th>353</th>\n",
       "      <td>developer</td>\n",
       "      <td>- cumbersome cell manipulation - support for versioning</td>\n",
       "    </tr>\n",
       "    <tr>\n",
       "      <th>361</th>\n",
       "      <td>programmer</td>\n",
       "      <td>1. Sometimes it gets very large. Feature of multiple files would be great for developers. 2. Multiple screens e.g. screen divided across 4 files.</td>\n",
       "    </tr>\n",
       "    <tr>\n",
       "      <th>389</th>\n",
       "      <td>developer</td>\n",
       "      <td>I do a some Django development that requires me to use Eclipse. I wish the text editor had better python coding tools like auto-complete using tab.</td>\n",
       "    </tr>\n",
       "    <tr>\n",
       "      <th>399</th>\n",
       "      <td>programmer</td>\n",
       "      <td>I don't do a lot of the types of work Jupyter is good at. I'm mostly developing Python packages and I find the ipython console good enough for my needs there.</td>\n",
       "    </tr>\n",
       "    <tr>\n",
       "      <th>463</th>\n",
       "      <td>engineer</td>\n",
       "      <td>It takes too much time to create notebooks. I can edit text files very fast due to all of the support from various text editors but writing notebooks in a primitive GUI requires too many mouse clicks even with the keyboard shortcuts. The UI is missing too many basic features to allow one to create notebooks very fast, like copying/pasting from one notebook to another, etc. The notebook format is also difficult to manage with version control which makes them a pain to see the differences. The fact that both the code that generates the content and the generated content live in the same file is problematic. Separation of content and presentation could be very beneficial.</td>\n",
       "    </tr>\n",
       "    <tr>\n",
       "      <th>505</th>\n",
       "      <td>software engineer</td>\n",
       "      <td>I write a lot of Python code that ends up being refactored into a module. As soon as that happens the Notebook workflow loses its optimization. There's only so many \"restart kernel\" operations you can do before it starts to hinder productivity.  While recognizing prompting for OK when restarting the kernel is a reasonable UI decision, I'd LOVE to see a keyboard shortcut that does not prompt so I could get around this slowdown.</td>\n",
       "    </tr>\n",
       "    <tr>\n",
       "      <th>517</th>\n",
       "      <td>software developer</td>\n",
       "      <td>NaN</td>\n",
       "    </tr>\n",
       "    <tr>\n",
       "      <th>559</th>\n",
       "      <td>software engineer</td>\n",
       "      <td>Great, easy to use documentation.  Particularly, a cookbook style compilation of how to best use it for a variety of use cases would be much appreciated.</td>\n",
       "    </tr>\n",
       "    <tr>\n",
       "      <th>575</th>\n",
       "      <td>developer</td>\n",
       "      <td>It's only for python</td>\n",
       "    </tr>\n",
       "    <tr>\n",
       "      <th>600</th>\n",
       "      <td>developer</td>\n",
       "      <td>I want to use Python2 and Python3 kernels and I haven't been about to do that with the same install.</td>\n",
       "    </tr>\n",
       "    <tr>\n",
       "      <th>612</th>\n",
       "      <td>software engineer</td>\n",
       "      <td>NaN</td>\n",
       "    </tr>\n",
       "    <tr>\n",
       "      <th>617</th>\n",
       "      <td>software developer</td>\n",
       "      <td>Mainly the lack of viable use cases on my part. One thing I'd like to see is integration of notebooks with Python's development workflow, so that the notebook cells could act as unit tests.</td>\n",
       "    </tr>\n",
       "    <tr>\n",
       "      <th>638</th>\n",
       "      <td>developer</td>\n",
       "      <td>No line numbers. Can't click on line number in exception to highlight line number.</td>\n",
       "    </tr>\n",
       "    <tr>\n",
       "      <th>669</th>\n",
       "      <td>programmer</td>\n",
       "      <td>I don't need it for work by nature. I'm using it to learn and for some side projects and I don't always have time to work on them</td>\n",
       "    </tr>\n",
       "    <tr>\n",
       "      <th>677</th>\n",
       "      <td>software engineer</td>\n",
       "      <td>None for me personally, but when installing stuff on people's computers, especially newbies I'm introducing to ipython notebooks and python, Python 2-3 issues and conflicts with system packages are a damper, and the ipython-&gt;jupyter package rename was a gotcha, though it's not that bad. For windows users especially the process is a pain, but stuff like anaconda helps, though it's all very conda-centric which causes added confusion.  Similarly with the system python vs homebrew one in macs. I guess none of this is very ipython specific, but it always comes up during the process of getting ipython + numpy + pandas etc working.</td>\n",
       "    </tr>\n",
       "    <tr>\n",
       "      <th>716</th>\n",
       "      <td>programmer</td>\n",
       "      <td>Need better support for themes - I prefer dark backgrounds for coding.   I got my setup working on my work computer by changing existing theme files. Repeating it on my personal machine seems too cumbersome to do again.  This is something I have heard from another friend who I got excited about jupyter.</td>\n",
       "    </tr>\n",
       "    <tr>\n",
       "      <th>763</th>\n",
       "      <td>engineer</td>\n",
       "      <td>NaN</td>\n",
       "    </tr>\n",
       "    <tr>\n",
       "      <th>781</th>\n",
       "      <td>developer</td>\n",
       "      <td>NaN</td>\n",
       "    </tr>\n",
       "    <tr>\n",
       "      <th>786</th>\n",
       "      <td>software developer</td>\n",
       "      <td>NaN</td>\n",
       "    </tr>\n",
       "    <tr>\n",
       "      <th>814</th>\n",
       "      <td>software developer</td>\n",
       "      <td>I don't use it for multi-file development (where I am working on both Python modules imported from another file, and the file that imports them). I find it too cumbersome for that workflow.  I also find the non-relationship between execution ordering and visual ordering off-putting for development. When reading code in another IDE, I know the execution order is determined by the visual order in combination with the call graph. In Jupyter Notebook, since a cell below could've been executed before a cell above, the ordering now must include the numbers next to the cells; this is too many elements for me to keep track of. As a result, I tend to only use Jupyter Notebook for exploratory work (more like a REPL), and copy and paste code into a text editor as I finish with a small snippet.</td>\n",
       "    </tr>\n",
       "    <tr>\n",
       "      <th>821</th>\n",
       "      <td>software developer</td>\n",
       "      <td>Most of what I do is pretty canned, so scripts are better ways to run things.   I use jupyter for experimentation and tests.</td>\n",
       "    </tr>\n",
       "    <tr>\n",
       "      <th>863</th>\n",
       "      <td>programmer</td>\n",
       "      <td>command line + editor workflow, working with many sources</td>\n",
       "    </tr>\n",
       "    <tr>\n",
       "      <th>915</th>\n",
       "      <td>software developer</td>\n",
       "      <td>Don't use python at work</td>\n",
       "    </tr>\n",
       "    <tr>\n",
       "      <th>926</th>\n",
       "      <td>engineer</td>\n",
       "      <td>NaN</td>\n",
       "    </tr>\n",
       "    <tr>\n",
       "      <th>972</th>\n",
       "      <td>developer</td>\n",
       "      <td>NaN</td>\n",
       "    </tr>\n",
       "    <tr>\n",
       "      <th>980</th>\n",
       "      <td>software engineer</td>\n",
       "      <td>Nothing. I switch between data projects where I use it and infrastructure projects where I don't.</td>\n",
       "    </tr>\n",
       "    <tr>\n",
       "      <th>1026</th>\n",
       "      <td>software engineer</td>\n",
       "      <td>Good Git integration.</td>\n",
       "    </tr>\n",
       "    <tr>\n",
       "      <th>1040</th>\n",
       "      <td>software engineer</td>\n",
       "      <td>Sharing features Cross-language support (so different kernels can share access to serializable objects)</td>\n",
       "    </tr>\n",
       "    <tr>\n",
       "      <th>1047</th>\n",
       "      <td>software engineer</td>\n",
       "      <td>NaN</td>\n",
       "    </tr>\n",
       "    <tr>\n",
       "      <th>1124</th>\n",
       "      <td>developer</td>\n",
       "      <td>lack of debugger</td>\n",
       "    </tr>\n",
       "    <tr>\n",
       "      <th>1134</th>\n",
       "      <td>engineer</td>\n",
       "      <td>NaN</td>\n",
       "    </tr>\n",
       "    <tr>\n",
       "      <th>1159</th>\n",
       "      <td>software developer</td>\n",
       "      <td>The friction to open a terminal, launch Jupyter, open the browser, add a notebook, v.s. the comfort and familiar editor and command line.</td>\n",
       "    </tr>\n",
       "    <tr>\n",
       "      <th>1183</th>\n",
       "      <td>software developer</td>\n",
       "      <td>More documentation on APIs and configuration stuff</td>\n",
       "    </tr>\n",
       "    <tr>\n",
       "      <th>1200</th>\n",
       "      <td>software engineer</td>\n",
       "      <td>Relearning profile management each time.</td>\n",
       "    </tr>\n",
       "    <tr>\n",
       "      <th>1239</th>\n",
       "      <td>engineer</td>\n",
       "      <td>Interactive plot exploration (through matplotlib) is a bit clunky and much worse than in Matlab, for example. You basically need to modify the code that you used to create a plot and rerun its cell in order to modify the plot. Embedded plots are not interactive and regular matplotlib figures are not that dynamic to begin with. You can zoom and pan but you cannot modify them in any other way (e.g. you cannot select a plot element and modify its color, delete it or add a fitting curve as in Matlab). Some of these are limitations of matplotlib of course but that is part of the whole \"Jupyter package\".  Creating interactive plots and widgets is too complicated at the moment. It requires too much programming.  It is hard to generate a nice report that you can share with non technical people from a Jupyter notebook because there is no way (AFAIK) to hide the code cells from the output. It would be cool to be able to mark a cell as \"hidden code\" which would be excluded from the generated ...</td>\n",
       "    </tr>\n",
       "    <tr>\n",
       "      <th>1266</th>\n",
       "      <td>software engineer</td>\n",
       "      <td>Being a separate tool: I'd like to use jupyter without switching between my editor/IDE and jupyter</td>\n",
       "    </tr>\n",
       "    <tr>\n",
       "      <th>1306</th>\n",
       "      <td>developer</td>\n",
       "      <td>Working more on data acquisition than data analysis. Jupyter is not a good IDE for developing code IMO (I use Vim)</td>\n",
       "    </tr>\n",
       "    <tr>\n",
       "      <th>1342</th>\n",
       "      <td>software engineer</td>\n",
       "      <td>The lack of version control (tracking changes using git does not work well) My own knowledge about how to use functions in other notebooks, etc.</td>\n",
       "    </tr>\n",
       "    <tr>\n",
       "      <th>1384</th>\n",
       "      <td>engineer</td>\n",
       "      <td>Nothing really, it's already pretty frequent.</td>\n",
       "    </tr>\n",
       "    <tr>\n",
       "      <th>1395</th>\n",
       "      <td>software engineer</td>\n",
       "      <td>Not needed for my industry work.</td>\n",
       "    </tr>\n",
       "    <tr>\n",
       "      <th>1400</th>\n",
       "      <td>developer</td>\n",
       "      <td>It's not simple to move notebook data to and from Git to keep a safe history of work.</td>\n",
       "    </tr>\n",
       "    <tr>\n",
       "      <th>1502</th>\n",
       "      <td>engineer</td>\n",
       "      <td>NaN</td>\n",
       "    </tr>\n",
       "  </tbody>\n",
       "</table>\n",
       "</div>"
      ],
      "text/plain": [
       "               role_norm  \\\n",
       "48             developer   \n",
       "52             developer   \n",
       "69     software engineer   \n",
       "89     software engineer   \n",
       "129             engineer   \n",
       "148   software developer   \n",
       "155            developer   \n",
       "159             engineer   \n",
       "163    software engineer   \n",
       "198             engineer   \n",
       "227    software engineer   \n",
       "275   software developer   \n",
       "295            developer   \n",
       "307            developer   \n",
       "308           programmer   \n",
       "323    software engineer   \n",
       "353            developer   \n",
       "361           programmer   \n",
       "389            developer   \n",
       "399           programmer   \n",
       "463             engineer   \n",
       "505    software engineer   \n",
       "517   software developer   \n",
       "559    software engineer   \n",
       "575            developer   \n",
       "600            developer   \n",
       "612    software engineer   \n",
       "617   software developer   \n",
       "638            developer   \n",
       "669           programmer   \n",
       "677    software engineer   \n",
       "716           programmer   \n",
       "763             engineer   \n",
       "781            developer   \n",
       "786   software developer   \n",
       "814   software developer   \n",
       "821   software developer   \n",
       "863           programmer   \n",
       "915   software developer   \n",
       "926             engineer   \n",
       "972            developer   \n",
       "980    software engineer   \n",
       "1026   software engineer   \n",
       "1040   software engineer   \n",
       "1047   software engineer   \n",
       "1124           developer   \n",
       "1134            engineer   \n",
       "1159  software developer   \n",
       "1183  software developer   \n",
       "1200   software engineer   \n",
       "1239            engineer   \n",
       "1266   software engineer   \n",
       "1306           developer   \n",
       "1342   software engineer   \n",
       "1384            engineer   \n",
       "1395   software engineer   \n",
       "1400           developer   \n",
       "1502            engineer   \n",
       "\n",
       "                                                                                                                                                                                                                                                                                                                                                                                                                                                                                                                                                                                                                                                                                                                                                                                                                                                                                                                                      What, if anything, hinders you from making Jupyter Notebook an even more regular part of your workflow?  \n",
       "48                                                                                                                                                                                                                                                                                                                                                                                                                                                                                                                                                                                                                                                                                                                                                                                                                                                                                                                                                                             Ability to easily move library code from notebooks to modules.  \n",
       "52                                                                                                                                                                                                                                                                                                                                                                                                                                                                                                                                                                                                                                                                                                                                                                                                                                                                                                                                                                                                           Code editing is inferior to IDEs  \n",
       "69                                                                                                                                                                                                                                                                                                                                                                                                                                                                                                                                                                                                                                                                                                                                                                                                                                                                                                                                             I mostly write libraries.  Notebooks are not the right artifact for non-interactive computing.  \n",
       "89                                                                                                                                                                                                                                                                                                                                                                                                                                                                                                                                                                                                                                                                                                                                                                                                                                                                                                                                                                                                                Git integration, CSS themes  \n",
       "129                                                                                                                                                                                                                                                                                                                                                                                                                                                                                                                                                                                                                                                                                                                                                                                                                                                                                                     I'd like to use the jupyterhub with my colleagues but it is available only on linux and we live, unfortunately, in a win environment   \n",
       "148                                                                                                                                                                                                                                                                                                                                                                                                                                                                                                                                                                                                                                                                                                                                                * The fact that it requires opening a new browser window (I might not want to open a browser at all, or add a tab inside my current/default browser) * The volatility of the environment (it's not easy to have an overview of how many notebooks are open, and their working folder etc.)  \n",
       "155                                                                                                                                                                                                                                                                                                                                                                                                                                                                                                                                                                                                                                                                                                                                                                                                                                                                                  IMO Jupyter is still publication tool rather then programming tool.  (Databricks notebooks look better).  I would prefer way how to better roll up code.  \n",
       "159                                                                                                                                                                                                                                                                                                                                                                                                                                                                                                                                                                                                                                                                                                                                                                                                                                                                                                                                                                                               A console is usually faster for what I need  \n",
       "163                                                                                                                                                                                                                                                                                                                                                                                                                                                                                                                                                                                                                                                                                                                                                                                                                                                                     I spend most of my time doing library/application development, and mostly don't need to save records of my work. I use notebooks as scratch areas and one-off things.  \n",
       "198                                                                                                                                                                                                                                                                                                                                                                                                                                                                                                                                                                                                                                                                                                                                                                                                                                                                                                                                                                                                                   Colleagues using Matlab  \n",
       "227                                                                                                                                                                                                                                                                                                                                                                                                                                                                                                                                                                                                                                                                                                                                                                                                                                                                                                            Being able to download files generated inside a cell in the output.   Uploading a file to the filesystem from a notebook cell.  \n",
       "275                                                                                                                                                                                                                                                                                                                                                                                                                                                                                                                                                                                                                                                                                                                                                                                                                                                                                                                                                                             - Difficulty in maintaining emacs-like editing capabilities    \n",
       "295                                                                                                                                                                                                                                                                                                                                                                                                                                                                                                                                                                                                                                                                                                                                                                                                                                                                                                                                                                                                                                  UI sucks  \n",
       "307                                                                                                                                                                                                                                                                                                                                                                                                                                                                                                                                                                                                                                                                                                                                                                                                                                                                                                                                                           Lack of integrated collaboration. Lack of blogging platform based on notebooks.  \n",
       "308                                                                                                                                                                                                                                                                                                                                                                                                                                                                                                                                                                                                                                                                                                                                                                                                                                                                                                                                                                    I mostly use IPython, not the notebook feature, so this is fine as is.  \n",
       "323                                                                                                                                                                                                                                                                                                                                                                                                                                                                                                                                                                                                                                                                                                                                                                                                                                                                                                                                                                                                                                       NaN  \n",
       "353                                                                                                                                                                                                                                                                                                                                                                                                                                                                                                                                                                                                                                                                                                                                                                                                                                                                                                                                                                                   - cumbersome cell manipulation - support for versioning  \n",
       "361                                                                                                                                                                                                                                                                                                                                                                                                                                                                                                                                                                                                                                                                                                                                                                                                                                                                                         1. Sometimes it gets very large. Feature of multiple files would be great for developers. 2. Multiple screens e.g. screen divided across 4 files.  \n",
       "389                                                                                                                                                                                                                                                                                                                                                                                                                                                                                                                                                                                                                                                                                                                                                                                                                                                                                       I do a some Django development that requires me to use Eclipse. I wish the text editor had better python coding tools like auto-complete using tab.  \n",
       "399                                                                                                                                                                                                                                                                                                                                                                                                                                                                                                                                                                                                                                                                                                                                                                                                                                                                            I don't do a lot of the types of work Jupyter is good at. I'm mostly developing Python packages and I find the ipython console good enough for my needs there.  \n",
       "463                                                                                                                                                                                                                                                                                                                                      It takes too much time to create notebooks. I can edit text files very fast due to all of the support from various text editors but writing notebooks in a primitive GUI requires too many mouse clicks even with the keyboard shortcuts. The UI is missing too many basic features to allow one to create notebooks very fast, like copying/pasting from one notebook to another, etc. The notebook format is also difficult to manage with version control which makes them a pain to see the differences. The fact that both the code that generates the content and the generated content live in the same file is problematic. Separation of content and presentation could be very beneficial.  \n",
       "505                                                                                                                                                                                                                                                                                                                                                                                                                                                                                                                                                                                            I write a lot of Python code that ends up being refactored into a module. As soon as that happens the Notebook workflow loses its optimization. There's only so many \"restart kernel\" operations you can do before it starts to hinder productivity.  While recognizing prompting for OK when restarting the kernel is a reasonable UI decision, I'd LOVE to see a keyboard shortcut that does not prompt so I could get around this slowdown.  \n",
       "517                                                                                                                                                                                                                                                                                                                                                                                                                                                                                                                                                                                                                                                                                                                                                                                                                                                                                                                                                                                                                                       NaN  \n",
       "559                                                                                                                                                                                                                                                                                                                                                                                                                                                                                                                                                                                                                                                                                                                                                                                                                                                                                 Great, easy to use documentation.  Particularly, a cookbook style compilation of how to best use it for a variety of use cases would be much appreciated.  \n",
       "575                                                                                                                                                                                                                                                                                                                                                                                                                                                                                                                                                                                                                                                                                                                                                                                                                                                                                                                                                                                                                      It's only for python  \n",
       "600                                                                                                                                                                                                                                                                                                                                                                                                                                                                                                                                                                                                                                                                                                                                                                                                                                                                                                                                     I want to use Python2 and Python3 kernels and I haven't been about to do that with the same install.   \n",
       "612                                                                                                                                                                                                                                                                                                                                                                                                                                                                                                                                                                                                                                                                                                                                                                                                                                                                                                                                                                                                                                       NaN  \n",
       "617                                                                                                                                                                                                                                                                                                                                                                                                                                                                                                                                                                                                                                                                                                                                                                                                                                             Mainly the lack of viable use cases on my part. One thing I'd like to see is integration of notebooks with Python's development workflow, so that the notebook cells could act as unit tests.  \n",
       "638                                                                                                                                                                                                                                                                                                                                                                                                                                                                                                                                                                                                                                                                                                                                                                                                                                                                                                                                                        No line numbers. Can't click on line number in exception to highlight line number.  \n",
       "669                                                                                                                                                                                                                                                                                                                                                                                                                                                                                                                                                                                                                                                                                                                                                                                                                                                                                                         I don't need it for work by nature. I'm using it to learn and for some side projects and I don't always have time to work on them  \n",
       "677                                                                                                                                                                                                                                                                                                                                                                                  None for me personally, but when installing stuff on people's computers, especially newbies I'm introducing to ipython notebooks and python, Python 2-3 issues and conflicts with system packages are a damper, and the ipython->jupyter package rename was a gotcha, though it's not that bad. For windows users especially the process is a pain, but stuff like anaconda helps, though it's all very conda-centric which causes added confusion.  Similarly with the system python vs homebrew one in macs. I guess none of this is very ipython specific, but it always comes up during the process of getting ipython + numpy + pandas etc working.  \n",
       "716                                                                                                                                                                                                                                                                                                                                                                                                                                                                                                                                                                                                                                                                                                                          Need better support for themes - I prefer dark backgrounds for coding.   I got my setup working on my work computer by changing existing theme files. Repeating it on my personal machine seems too cumbersome to do again.  This is something I have heard from another friend who I got excited about jupyter.  \n",
       "763                                                                                                                                                                                                                                                                                                                                                                                                                                                                                                                                                                                                                                                                                                                                                                                                                                                                                                                                                                                                                                       NaN  \n",
       "781                                                                                                                                                                                                                                                                                                                                                                                                                                                                                                                                                                                                                                                                                                                                                                                                                                                                                                                                                                                                                                       NaN  \n",
       "786                                                                                                                                                                                                                                                                                                                                                                                                                                                                                                                                                                                                                                                                                                                                                                                                                                                                                                                                                                                                                                       NaN  \n",
       "814                                                                                                                                                                                                                 I don't use it for multi-file development (where I am working on both Python modules imported from another file, and the file that imports them). I find it too cumbersome for that workflow.  I also find the non-relationship between execution ordering and visual ordering off-putting for development. When reading code in another IDE, I know the execution order is determined by the visual order in combination with the call graph. In Jupyter Notebook, since a cell below could've been executed before a cell above, the ordering now must include the numbers next to the cells; this is too many elements for me to keep track of. As a result, I tend to only use Jupyter Notebook for exploratory work (more like a REPL), and copy and paste code into a text editor as I finish with a small snippet.  \n",
       "821                                                                                                                                                                                                                                                                                                                                                                                                                                                                                                                                                                                                                                                                                                                                                                                                                                                                                                            Most of what I do is pretty canned, so scripts are better ways to run things.   I use jupyter for experimentation and tests.    \n",
       "863                                                                                                                                                                                                                                                                                                                                                                                                                                                                                                                                                                                                                                                                                                                                                                                                                                                                                                                                                                                 command line + editor workflow, working with many sources  \n",
       "915                                                                                                                                                                                                                                                                                                                                                                                                                                                                                                                                                                                                                                                                                                                                                                                                                                                                                                                                                                                                                  Don't use python at work  \n",
       "926                                                                                                                                                                                                                                                                                                                                                                                                                                                                                                                                                                                                                                                                                                                                                                                                                                                                                                                                                                                                                                       NaN  \n",
       "972                                                                                                                                                                                                                                                                                                                                                                                                                                                                                                                                                                                                                                                                                                                                                                                                                                                                                                                                                                                                                                       NaN  \n",
       "980                                                                                                                                                                                                                                                                                                                                                                                                                                                                                                                                                                                                                                                                                                                                                                                                                                                                                                                                         Nothing. I switch between data projects where I use it and infrastructure projects where I don't.  \n",
       "1026                                                                                                                                                                                                                                                                                                                                                                                                                                                                                                                                                                                                                                                                                                                                                                                                                                                                                                                                                                                                                    Good Git integration.  \n",
       "1040                                                                                                                                                                                                                                                                                                                                                                                                                                                                                                                                                                                                                                                                                                                                                                                                                                                                                                                                  Sharing features Cross-language support (so different kernels can share access to serializable objects)  \n",
       "1047                                                                                                                                                                                                                                                                                                                                                                                                                                                                                                                                                                                                                                                                                                                                                                                                                                                                                                                                                                                                                                      NaN  \n",
       "1124                                                                                                                                                                                                                                                                                                                                                                                                                                                                                                                                                                                                                                                                                                                                                                                                                                                                                                                                                                                                                         lack of debugger  \n",
       "1134                                                                                                                                                                                                                                                                                                                                                                                                                                                                                                                                                                                                                                                                                                                                                                                                                                                                                                                                                                                                                                      NaN  \n",
       "1159                                                                                                                                                                                                                                                                                                                                                                                                                                                                                                                                                                                                                                                                                                                                                                                                                                                                                               The friction to open a terminal, launch Jupyter, open the browser, add a notebook, v.s. the comfort and familiar editor and command line.   \n",
       "1183                                                                                                                                                                                                                                                                                                                                                                                                                                                                                                                                                                                                                                                                                                                                                                                                                                                                                                                                                                                      More documentation on APIs and configuration stuff   \n",
       "1200                                                                                                                                                                                                                                                                                                                                                                                                                                                                                                                                                                                                                                                                                                                                                                                                                                                                                                                                                                                                 Relearning profile management each time.  \n",
       "1239  Interactive plot exploration (through matplotlib) is a bit clunky and much worse than in Matlab, for example. You basically need to modify the code that you used to create a plot and rerun its cell in order to modify the plot. Embedded plots are not interactive and regular matplotlib figures are not that dynamic to begin with. You can zoom and pan but you cannot modify them in any other way (e.g. you cannot select a plot element and modify its color, delete it or add a fitting curve as in Matlab). Some of these are limitations of matplotlib of course but that is part of the whole \"Jupyter package\".  Creating interactive plots and widgets is too complicated at the moment. It requires too much programming.  It is hard to generate a nice report that you can share with non technical people from a Jupyter notebook because there is no way (AFAIK) to hide the code cells from the output. It would be cool to be able to mark a cell as \"hidden code\" which would be excluded from the generated ...  \n",
       "1266                                                                                                                                                                                                                                                                                                                                                                                                                                                                                                                                                                                                                                                                                                                                                                                                                                                                                                                                       Being a separate tool: I'd like to use jupyter without switching between my editor/IDE and jupyter  \n",
       "1306                                                                                                                                                                                                                                                                                                                                                                                                                                                                                                                                                                                                                                                                                                                                                                                                                                                                                                                       Working more on data acquisition than data analysis. Jupyter is not a good IDE for developing code IMO (I use Vim)  \n",
       "1342                                                                                                                                                                                                                                                                                                                                                                                                                                                                                                                                                                                                                                                                                                                                                                                                                                                                                         The lack of version control (tracking changes using git does not work well) My own knowledge about how to use functions in other notebooks, etc.  \n",
       "1384                                                                                                                                                                                                                                                                                                                                                                                                                                                                                                                                                                                                                                                                                                                                                                                                                                                                                                                                                                                            Nothing really, it's already pretty frequent.  \n",
       "1395                                                                                                                                                                                                                                                                                                                                                                                                                                                                                                                                                                                                                                                                                                                                                                                                                                                                                                                                                                                                         Not needed for my industry work.  \n",
       "1400                                                                                                                                                                                                                                                                                                                                                                                                                                                                                                                                                                                                                                                                                                                                                                                                                                                                                                                                                    It's not simple to move notebook data to and from Git to keep a safe history of work.  \n",
       "1502                                                                                                                                                                                                                                                                                                                                                                                                                                                                                                                                                                                                                                                                                                                                                                                                                                                                                                                                                                                                                                      NaN  "
      ]
     },
     "execution_count": 148,
     "metadata": {},
     "output_type": "execute_result"
    }
   ],
   "source": [
    "role_hinder_df[role_hinder_df.role_norm.isin(software_roles)]"
   ]
  },
  {
   "cell_type": "code",
   "execution_count": 162,
   "metadata": {
    "collapsed": false
   },
   "outputs": [],
   "source": [
    "tmp_df = role_hinder_df.dropna()"
   ]
  },
  {
   "cell_type": "code",
   "execution_count": 164,
   "metadata": {
    "collapsed": false,
    "scrolled": false
   },
   "outputs": [
    {
     "data": {
      "text/html": [
       "<div>\n",
       "<table border=\"1\" class=\"dataframe\">\n",
       "  <thead>\n",
       "    <tr style=\"text-align: right;\">\n",
       "      <th></th>\n",
       "      <th>role_norm</th>\n",
       "      <th>What, if anything, hinders you from making Jupyter Notebook an even more regular part of your workflow?</th>\n",
       "    </tr>\n",
       "  </thead>\n",
       "  <tbody>\n",
       "    <tr>\n",
       "      <th>11</th>\n",
       "      <td>data application developer</td>\n",
       "      <td>Browser becomes unresponsive when I start a too intensive computation.  Poor integration with my preferred code editors (pycharm or vim).</td>\n",
       "    </tr>\n",
       "    <tr>\n",
       "      <th>105</th>\n",
       "      <td>data scientist</td>\n",
       "      <td>Version control with git. Cell merging. Cell grouping and hiding. Vim key bindings.</td>\n",
       "    </tr>\n",
       "    <tr>\n",
       "      <th>123</th>\n",
       "      <td>data scientist</td>\n",
       "      <td>It doesn't work well with standard version control tools because one line of code doesn't correspond to one line in the notebook file  It throws away 30 years of text editor development by replacing a real editor like vim or emacs with a HTML text area.</td>\n",
       "    </tr>\n",
       "    <tr>\n",
       "      <th>135</th>\n",
       "      <td>academic researcher</td>\n",
       "      <td>It's not as nice an 'editor' as a 'proper' programmers text editor (such as Emacs, Sublime, Atom etc).  It can be tricky to scroll up and down and deal with large cells with lots of code.  It's difficult to run an IPython Notebook server that has support for both Py2 and Py3 kernels - ideally, there should be some way to integrate with conda so that you can easily start kernels in any conda environment.  Similarly, I often end up with multiple 'ipython notebook' commands (from the Terminal) running at once, as I want them to be in multiple different directories and in multiple conda environments. Combining this with the previous point: it'd be great if I could have it running as a service (or something similar), and then could just easily create a kernel from any conda environment, and navigate to the right folder - and have it all 'just work' without having to run new servers all the time</td>\n",
       "    </tr>\n",
       "    <tr>\n",
       "      <th>138</th>\n",
       "      <td>scientist</td>\n",
       "      <td>I usually use emacs.</td>\n",
       "    </tr>\n",
       "    <tr>\n",
       "      <th>246</th>\n",
       "      <td>researcher (physics)</td>\n",
       "      <td>1. For advanced terminal users, the lack of full emacs (or vi I guess) editing modes is annoying. Maybe it is just that the IPython terminal is too awesome already!  2. Version controlling ipynb files is annoying (but possible and I do it for some notebooks).</td>\n",
       "    </tr>\n",
       "    <tr>\n",
       "      <th>254</th>\n",
       "      <td>data scientist</td>\n",
       "      <td>ability to script in the notebook so I don't have to have a terminal open for editing standalone code  it would be amazing if a text file could be opened and edited in a cell.  the other problem is absence of something like vim keybindings. The notebook sucks as a text editor.   If there was a vim mode w .vimrc type customization, I'd be in heaven and would likely never not code in jupyter.</td>\n",
       "    </tr>\n",
       "    <tr>\n",
       "      <th>261</th>\n",
       "      <td>student</td>\n",
       "      <td>Shortcut bindings. I'm most productive in vim, the shortcuts in the notebook just don't feel as fluid. Probably isn't a problem that's solvable, but someone might have a nice solution.</td>\n",
       "    </tr>\n",
       "    <tr>\n",
       "      <th>265</th>\n",
       "      <td>computational biologist</td>\n",
       "      <td>I prefer running R in Emacs.</td>\n",
       "    </tr>\n",
       "    <tr>\n",
       "      <th>275</th>\n",
       "      <td>software developer</td>\n",
       "      <td>- Difficulty in maintaining emacs-like editing capabilities</td>\n",
       "    </tr>\n",
       "    <tr>\n",
       "      <th>324</th>\n",
       "      <td>phd student</td>\n",
       "      <td>It'd be nice if it could be an even better format for *doing* math, not just writing it up. Not sure exactly what that'd mean, though.  \"Graduating\" notebook code to in-a-package code is also not as seamless as it might be. If the code editor part had vim bindings and other stuff that made it good enough to be a full time editor, that'd be a huge step.</td>\n",
       "    </tr>\n",
       "    <tr>\n",
       "      <th>345</th>\n",
       "      <td>astrophysicst</td>\n",
       "      <td>I'm too attached to emacs shortcuts. I haven't tried using emacs-ipython, but soon...</td>\n",
       "    </tr>\n",
       "    <tr>\n",
       "      <th>393</th>\n",
       "      <td>programming instructor</td>\n",
       "      <td>The tasks that I like to do in Notebook are a more or less monthly thing. I mainly use it as a learning tool.   I use Emacs for most programming tasks.</td>\n",
       "    </tr>\n",
       "    <tr>\n",
       "      <th>413</th>\n",
       "      <td>researcher</td>\n",
       "      <td>- Better editor (more vim-style) - Better nbconvert (Make it easier to write paper in jupyter. Right now I can't even find out how to change the title of the resulting latex document) - Better integration with Git (automatic removal of binary blobs before commiting, Maybe allowing view of diffs within notebook)</td>\n",
       "    </tr>\n",
       "    <tr>\n",
       "      <th>419</th>\n",
       "      <td>researcher</td>\n",
       "      <td>In part coauthors, second, the lack of some statistical routines in python, in particular methods for panel data. Third, I like to work in vim when writing code.</td>\n",
       "    </tr>\n",
       "    <tr>\n",
       "      <th>425</th>\n",
       "      <td>student</td>\n",
       "      <td>The ideal setup is a way for me to use the terminal some of the times and to update a notebook in Vim and being able to see any changes I've made with git diff.</td>\n",
       "    </tr>\n",
       "    <tr>\n",
       "      <th>437</th>\n",
       "      <td>data analyst</td>\n",
       "      <td>lack of other editor features that are found in vim.  Standalone web applications like R's Shiny or Python Spyre.</td>\n",
       "    </tr>\n",
       "    <tr>\n",
       "      <th>448</th>\n",
       "      <td>statistician</td>\n",
       "      <td>Computing is but a part of my work, and prototyping in Python but a part of my computing. Other interface (emacs editing LaTeX and noweb sources) are still superior to Jupyter worksheets. Some outputs e. g. docx reports) cannot be obtained rom Jupyter.</td>\n",
       "    </tr>\n",
       "    <tr>\n",
       "      <th>473</th>\n",
       "      <td>physics, neuroscience, teaching programming</td>\n",
       "      <td>More advance editing figures. I'd love plugins implementing vim/emacs commands within each cell.</td>\n",
       "    </tr>\n",
       "    <tr>\n",
       "      <th>576</th>\n",
       "      <td>researcher (ai, computer security)</td>\n",
       "      <td>The text editing feature (or lack of thereof). I end up back in Emacs. Also, folding based on the MarkDown structure.</td>\n",
       "    </tr>\n",
       "    <tr>\n",
       "      <th>799</th>\n",
       "      <td>aerospace engineer</td>\n",
       "      <td>I was using Emacs Org-Mode to embed calculations in my documents.   Org Mode has some other advantages but is clumsy.</td>\n",
       "    </tr>\n",
       "    <tr>\n",
       "      <th>828</th>\n",
       "      <td>machine learning researcher</td>\n",
       "      <td>Slowdown from codemirror javascript in large notebooks and inability to seamlessly edit outside of the browser (e.g. vim)</td>\n",
       "    </tr>\n",
       "    <tr>\n",
       "      <th>877</th>\n",
       "      <td>student (online course)</td>\n",
       "      <td>Editing outside of Emacs is less comfortable.</td>\n",
       "    </tr>\n",
       "    <tr>\n",
       "      <th>897</th>\n",
       "      <td>math &amp; algorithm &amp; data analytics explorer</td>\n",
       "      <td>shift in perspective between coding effectively in emacs and clicking around in web browser</td>\n",
       "    </tr>\n",
       "    <tr>\n",
       "      <th>964</th>\n",
       "      <td>data scientist</td>\n",
       "      <td>Two things:  1. It is too mouse-driven. I'm a bit embarrassed to complain, because I should just build an emacs-layer myself. Presumably there'd be a vim-layer available too.  2. Does not play nice with version control. I prefer to keep my source separate from my results, and it's difficult to get Jupyter to do this. If nbconvert could run the same \"Clear All\" command that you can run by clicking in the notebook, dumping the clear-all'ed to stdout, I think I'd be golden.</td>\n",
       "    </tr>\n",
       "    <tr>\n",
       "      <th>970</th>\n",
       "      <td>student researcher</td>\n",
       "      <td>Better keybindings for text selecting.  Eg would like emacs bindings</td>\n",
       "    </tr>\n",
       "    <tr>\n",
       "      <th>1112</th>\n",
       "      <td>engineer and student</td>\n",
       "      <td>I would really speed up using notebook if the cells had vi keybindings, especially the visual mode. I am sure the same holds true for emacs mode for someone who's brain is wired the wrong way 😀</td>\n",
       "    </tr>\n",
       "    <tr>\n",
       "      <th>1135</th>\n",
       "      <td>student</td>\n",
       "      <td>Mostly inertia. I'm still not used to it and the nicest features don't integrate with Emacs.</td>\n",
       "    </tr>\n",
       "    <tr>\n",
       "      <th>1169</th>\n",
       "      <td>particle physicist (phd student)</td>\n",
       "      <td>Editing things is cumbersome - now I am used to vim and sublime shortcuts, I find myself missing them a lot.  Typically, the notebook has some quick ideas in it, which inevitably don't follow the best coding practices. So I often need to replace things, or edit all instances of a variable, etc - something that is hard (if not impossible) in the notebook.  Another problem is that notebooks can become cumbersome - but I guess this is more my poor planning/organisation than the notebook's fault!</td>\n",
       "    </tr>\n",
       "    <tr>\n",
       "      <th>1176</th>\n",
       "      <td>student</td>\n",
       "      <td>vim bindings  live reloading</td>\n",
       "    </tr>\n",
       "    <tr>\n",
       "      <th>1306</th>\n",
       "      <td>developer</td>\n",
       "      <td>Working more on data acquisition than data analysis. Jupyter is not a good IDE for developing code IMO (I use Vim)</td>\n",
       "    </tr>\n",
       "    <tr>\n",
       "      <th>1366</th>\n",
       "      <td>student, financial modeler, researcher.</td>\n",
       "      <td>Lack of powerful text editing features like VIM or Emacs.  Limited kernel support (e.g. not as good as the Python one).  No multi-language notebook support.</td>\n",
       "    </tr>\n",
       "    <tr>\n",
       "      <th>1378</th>\n",
       "      <td>quantum physicist</td>\n",
       "      <td>lack of copy/paste between notebooks, lack of simultaneous multi-user access to notebooks (multi-cursor), as well viewing/working on the same notebook in multiple places (e.g. two side-by-side browser windows); missing undo, poor source code editing environment compared to vim/tmux,</td>\n",
       "    </tr>\n",
       "    <tr>\n",
       "      <th>1527</th>\n",
       "      <td>data scientist or bloggist</td>\n",
       "      <td>I don't like to write/edit in the browser. I'd like to edit the notebook on Emacs, where I edit my other Python files. There's an Emacs plugin for that but it's far from perfect.</td>\n",
       "    </tr>\n",
       "    <tr>\n",
       "      <th>1598</th>\n",
       "      <td>engineer, oss enthusiast (\"hey, you don't _need_ excel\")</td>\n",
       "      <td>vim shortcuts use emacs as frontend (incl plots and interactive widgets)</td>\n",
       "    </tr>\n",
       "  </tbody>\n",
       "</table>\n",
       "</div>"
      ],
      "text/plain": [
       "                                                     role_norm  \\\n",
       "11                                  data application developer   \n",
       "105                                             data scientist   \n",
       "123                                             data scientist   \n",
       "135                                        academic researcher   \n",
       "138                                                  scientist   \n",
       "246                                       researcher (physics)   \n",
       "254                                             data scientist   \n",
       "261                                                    student   \n",
       "265                                    computational biologist   \n",
       "275                                         software developer   \n",
       "324                                                phd student   \n",
       "345                                              astrophysicst   \n",
       "393                                     programming instructor   \n",
       "413                                                 researcher   \n",
       "419                                                 researcher   \n",
       "425                                                    student   \n",
       "437                                               data analyst   \n",
       "448                                               statistician   \n",
       "473                physics, neuroscience, teaching programming   \n",
       "576                         researcher (ai, computer security)   \n",
       "799                                         aerospace engineer   \n",
       "828                                machine learning researcher   \n",
       "877                                    student (online course)   \n",
       "897                 math & algorithm & data analytics explorer   \n",
       "964                                             data scientist   \n",
       "970                                         student researcher   \n",
       "1112                                      engineer and student   \n",
       "1135                                                   student   \n",
       "1169                          particle physicist (phd student)   \n",
       "1176                                                   student   \n",
       "1306                                                 developer   \n",
       "1366                   student, financial modeler, researcher.   \n",
       "1378                                         quantum physicist   \n",
       "1527                                data scientist or bloggist   \n",
       "1598  engineer, oss enthusiast (\"hey, you don't _need_ excel\")   \n",
       "\n",
       "                                                                                                                                                                                                                                                                                                                                                                                                                                                                                                                                                                                                                                                                                                                                                                                                                                     What, if anything, hinders you from making Jupyter Notebook an even more regular part of your workflow?  \n",
       "11                                                                                                                                                                                                                                                                                                                                                                                                                                                                                                                                                                                                                                                                                                                                                                                               Browser becomes unresponsive when I start a too intensive computation.  Poor integration with my preferred code editors (pycharm or vim).    \n",
       "105                                                                                                                                                                                                                                                                                                                                                                                                                                                                                                                                                                                                                                                                                                                                                                                                                                                     Version control with git. Cell merging. Cell grouping and hiding. Vim key bindings.   \n",
       "123                                                                                                                                                                                                                                                                                                                                                                                                                                                                                                                                                                                                                                                                            It doesn't work well with standard version control tools because one line of code doesn't correspond to one line in the notebook file  It throws away 30 years of text editor development by replacing a real editor like vim or emacs with a HTML text area.  \n",
       "135   It's not as nice an 'editor' as a 'proper' programmers text editor (such as Emacs, Sublime, Atom etc).  It can be tricky to scroll up and down and deal with large cells with lots of code.  It's difficult to run an IPython Notebook server that has support for both Py2 and Py3 kernels - ideally, there should be some way to integrate with conda so that you can easily start kernels in any conda environment.  Similarly, I often end up with multiple 'ipython notebook' commands (from the Terminal) running at once, as I want them to be in multiple different directories and in multiple conda environments. Combining this with the previous point: it'd be great if I could have it running as a service (or something similar), and then could just easily create a kernel from any conda environment, and navigate to the right folder - and have it all 'just work' without having to run new servers all the time  \n",
       "138                                                                                                                                                                                                                                                                                                                                                                                                                                                                                                                                                                                                                                                                                                                                                                                                                                                                                                                     I usually use emacs.  \n",
       "246                                                                                                                                                                                                                                                                                                                                                                                                                                                                                                                                                                                                                                                                      1. For advanced terminal users, the lack of full emacs (or vi I guess) editing modes is annoying. Maybe it is just that the IPython terminal is too awesome already!  2. Version controlling ipynb files is annoying (but possible and I do it for some notebooks).  \n",
       "254                                                                                                                                                                                                                                                                                                                                                                                                                                                                                                                                ability to script in the notebook so I don't have to have a terminal open for editing standalone code  it would be amazing if a text file could be opened and edited in a cell.  the other problem is absence of something like vim keybindings. The notebook sucks as a text editor.   If there was a vim mode w .vimrc type customization, I'd be in heaven and would likely never not code in jupyter.  \n",
       "261                                                                                                                                                                                                                                                                                                                                                                                                                                                                                                                                                                                                                                                                                                                                                 Shortcut bindings. I'm most productive in vim, the shortcuts in the notebook just don't feel as fluid. Probably isn't a problem that's solvable, but someone might have a nice solution.  \n",
       "265                                                                                                                                                                                                                                                                                                                                                                                                                                                                                                                                                                                                                                                                                                                                                                                                                                                                                                             I prefer running R in Emacs.  \n",
       "275                                                                                                                                                                                                                                                                                                                                                                                                                                                                                                                                                                                                                                                                                                                                                                                                                                                                            - Difficulty in maintaining emacs-like editing capabilities    \n",
       "324                                                                                                                                                                                                                                                                                                                                                                                                                                                                                                                                                                       It'd be nice if it could be an even better format for *doing* math, not just writing it up. Not sure exactly what that'd mean, though.  \"Graduating\" notebook code to in-a-package code is also not as seamless as it might be. If the code editor part had vim bindings and other stuff that made it good enough to be a full time editor, that'd be a huge step.  \n",
       "345                                                                                                                                                                                                                                                                                                                                                                                                                                                                                                                                                                                                                                                                                                                                                                                                                                                    I'm too attached to emacs shortcuts. I haven't tried using emacs-ipython, but soon...  \n",
       "393                                                                                                                                                                                                                                                                                                                                                                                                                                                                                                                                                                                                                                                                                                                                                                                 The tasks that I like to do in Notebook are a more or less monthly thing. I mainly use it as a learning tool.   I use Emacs for most programming tasks.   \n",
       "413                                                                                                                                                                                                                                                                                                                                                                                                                                                                                                                                                                                                                 - Better editor (more vim-style) - Better nbconvert (Make it easier to write paper in jupyter. Right now I can't even find out how to change the title of the resulting latex document) - Better integration with Git (automatic removal of binary blobs before commiting, Maybe allowing view of diffs within notebook)  \n",
       "419                                                                                                                                                                                                                                                                                                                                                                                                                                                                                                                                                                                                                                                                                                                                                                       In part coauthors, second, the lack of some statistical routines in python, in particular methods for panel data. Third, I like to work in vim when writing code.   \n",
       "425                                                                                                                                                                                                                                                                                                                                                                                                                                                                                                                                                                                                                                                                                                                                                                         The ideal setup is a way for me to use the terminal some of the times and to update a notebook in Vim and being able to see any changes I've made with git diff.  \n",
       "437                                                                                                                                                                                                                                                                                                                                                                                                                                                                                                                                                                                                                                                                                                                                                                                                                        lack of other editor features that are found in vim.  Standalone web applications like R's Shiny or Python Spyre.  \n",
       "448                                                                                                                                                                                                                                                                                                                                                                                                                                                                                                                                                                                                                                                                             Computing is but a part of my work, and prototyping in Python but a part of my computing. Other interface (emacs editing LaTeX and noweb sources) are still superior to Jupyter worksheets. Some outputs e. g. docx reports) cannot be obtained rom Jupyter.  \n",
       "473                                                                                                                                                                                                                                                                                                                                                                                                                                                                                                                                                                                                                                                                                                                                                                                                                                         More advance editing figures. I'd love plugins implementing vim/emacs commands within each cell.  \n",
       "576                                                                                                                                                                                                                                                                                                                                                                                                                                                                                                                                                                                                                                                                                                                                                                                                                    The text editing feature (or lack of thereof). I end up back in Emacs. Also, folding based on the MarkDown structure.  \n",
       "799                                                                                                                                                                                                                                                                                                                                                                                                                                                                                                                                                                                                                                                                                                                                                                                                                    I was using Emacs Org-Mode to embed calculations in my documents.   Org Mode has some other advantages but is clumsy.  \n",
       "828                                                                                                                                                                                                                                                                                                                                                                                                                                                                                                                                                                                                                                                                                                                                                                                                                Slowdown from codemirror javascript in large notebooks and inability to seamlessly edit outside of the browser (e.g. vim)  \n",
       "877                                                                                                                                                                                                                                                                                                                                                                                                                                                                                                                                                                                                                                                                                                                                                                                                                                                                                           Editing outside of Emacs is less comfortable.   \n",
       "897                                                                                                                                                                                                                                                                                                                                                                                                                                                                                                                                                                                                                                                                                                                                                                                                                                              shift in perspective between coding effectively in emacs and clicking around in web browser  \n",
       "964                                                                                                                                                                                                                                                                                                                                                                                                                                              Two things:  1. It is too mouse-driven. I'm a bit embarrassed to complain, because I should just build an emacs-layer myself. Presumably there'd be a vim-layer available too.  2. Does not play nice with version control. I prefer to keep my source separate from my results, and it's difficult to get Jupyter to do this. If nbconvert could run the same \"Clear All\" command that you can run by clicking in the notebook, dumping the clear-all'ed to stdout, I think I'd be golden.  \n",
       "970                                                                                                                                                                                                                                                                                                                                                                                                                                                                                                                                                                                                                                                                                                                                                                                                                                                                     Better keybindings for text selecting.  Eg would like emacs bindings  \n",
       "1112                                                                                                                                                                                                                                                                                                                                                                                                                                                                                                                                                                                                                                                                                                                                       I would really speed up using notebook if the cells had vi keybindings, especially the visual mode. I am sure the same holds true for emacs mode for someone who's brain is wired the wrong way 😀  \n",
       "1135                                                                                                                                                                                                                                                                                                                                                                                                                                                                                                                                                                                                                                                                                                                                                                                                                                            Mostly inertia. I'm still not used to it and the nicest features don't integrate with Emacs.  \n",
       "1169                                                                                                                                                                                                                                                                                                                                                                                                                       Editing things is cumbersome - now I am used to vim and sublime shortcuts, I find myself missing them a lot.  Typically, the notebook has some quick ideas in it, which inevitably don't follow the best coding practices. So I often need to replace things, or edit all instances of a variable, etc - something that is hard (if not impossible) in the notebook.  Another problem is that notebooks can become cumbersome - but I guess this is more my poor planning/organisation than the notebook's fault!  \n",
       "1176                                                                                                                                                                                                                                                                                                                                                                                                                                                                                                                                                                                                                                                                                                                                                                                                                                                                                                            vim bindings  live reloading  \n",
       "1306                                                                                                                                                                                                                                                                                                                                                                                                                                                                                                                                                                                                                                                                                                                                                                                                                      Working more on data acquisition than data analysis. Jupyter is not a good IDE for developing code IMO (I use Vim)  \n",
       "1366                                                                                                                                                                                                                                                                                                                                                                                                                                                                                                                                                                                                                                                                                                                                                                            Lack of powerful text editing features like VIM or Emacs.  Limited kernel support (e.g. not as good as the Python one).  No multi-language notebook support.  \n",
       "1378                                                                                                                                                                                                                                                                                                                                                                                                                                                                                                                                                                                                                                            lack of copy/paste between notebooks, lack of simultaneous multi-user access to notebooks (multi-cursor), as well viewing/working on the same notebook in multiple places (e.g. two side-by-side browser windows); missing undo, poor source code editing environment compared to vim/tmux,   \n",
       "1527                                                                                                                                                                                                                                                                                                                                                                                                                                                                                                                                                                                                                                                                                                                                                      I don't like to write/edit in the browser. I'd like to edit the notebook on Emacs, where I edit my other Python files. There's an Emacs plugin for that but it's far from perfect.  \n",
       "1598                                                                                                                                                                                                                                                                                                                                                                                                                                                                                                                                                                                                                                                                                                                                                                                                                                                                vim shortcuts use emacs as frontend (incl plots and interactive widgets)  "
      ]
     },
     "execution_count": 164,
     "metadata": {},
     "output_type": "execute_result"
    }
   ],
   "source": [
    "tmp_df[tmp_df.ix[:, 1].str.contains('emacs|vim', case=False)]"
   ]
  },
  {
   "cell_type": "code",
   "execution_count": 169,
   "metadata": {
    "collapsed": false,
    "scrolled": false
   },
   "outputs": [
    {
     "data": {
      "text/html": [
       "<div>\n",
       "<table border=\"1\" class=\"dataframe\">\n",
       "  <thead>\n",
       "    <tr style=\"text-align: right;\">\n",
       "      <th></th>\n",
       "      <th>role_norm</th>\n",
       "      <th>What, if anything, hinders you from making Jupyter Notebook an even more regular part of your workflow?</th>\n",
       "    </tr>\n",
       "  </thead>\n",
       "  <tbody>\n",
       "    <tr>\n",
       "      <th>34</th>\n",
       "      <td>research scientist</td>\n",
       "      <td>Lack of proper debugging tools (comparable to e.g. Eclipse IDE, Visual Studio or Matlab).</td>\n",
       "    </tr>\n",
       "    <tr>\n",
       "      <th>43</th>\n",
       "      <td>teacher</td>\n",
       "      <td>Give notebooks more editors/ide functionnality: easier file browsing, editing, serach and replace...</td>\n",
       "    </tr>\n",
       "    <tr>\n",
       "      <th>119</th>\n",
       "      <td>developer of scientific software</td>\n",
       "      <td>I prefer developing in a full IDE, like PyCharm.</td>\n",
       "    </tr>\n",
       "    <tr>\n",
       "      <th>305</th>\n",
       "      <td>cognitive scientist</td>\n",
       "      <td>The lack of facilities for code re-use. I know there are hacks for importing between notebooks and the like but it still doesn't beat a text editor and DVCS when I want to make something that I'll import or make available on GitHub. My notebooks tend to get messy and out of order. Maybe I need to figure out a better workflow but I often feel a traditional console (i.e. qtconsole) is better (along with the aforementioned editor or IDE).</td>\n",
       "    </tr>\n",
       "    <tr>\n",
       "      <th>406</th>\n",
       "      <td>economic consulting / professional economic analysis</td>\n",
       "      <td>- Does not have variable explorer (like Spyder IDE). - Does not have a standalone desktop application (have you thought about using GitHub's Electron to develop a desktop application?)</td>\n",
       "    </tr>\n",
       "    <tr>\n",
       "      <th>444</th>\n",
       "      <td>really, astrophysicist</td>\n",
       "      <td>Everything, that distinguished it from IDE like Pycharm. But it is fine</td>\n",
       "    </tr>\n",
       "    <tr>\n",
       "      <th>524</th>\n",
       "      <td>student</td>\n",
       "      <td>Knowing where to find out about change, other tools like matlab ide , some programming languages have poor intergration</td>\n",
       "    </tr>\n",
       "    <tr>\n",
       "      <th>653</th>\n",
       "      <td>phd student</td>\n",
       "      <td>Switching back and forth between notebook and editor/IDE is distracting and time consuming.</td>\n",
       "    </tr>\n",
       "    <tr>\n",
       "      <th>681</th>\n",
       "      <td>phd student</td>\n",
       "      <td>Strong gap between editing code in IDE and writing a Jupyter Notebook (juggling between Python scripts and notebooks is not as easy as it could be)</td>\n",
       "    </tr>\n",
       "    <tr>\n",
       "      <th>694</th>\n",
       "      <td>financial modeler</td>\n",
       "      <td>It is more of a notebook but it would be nice if it acted almost like an IDE for project-management.  Being able to run multiple modules or pages that link together in the same instance to help break up the notebook page into manageable chunks then a means to pull it all together into a final cohesive program would be quite useful.</td>\n",
       "    </tr>\n",
       "    <tr>\n",
       "      <th>710</th>\n",
       "      <td>portfolio manager, finance</td>\n",
       "      <td>moving code from a notebook to my IDE. It would be great if I were able to highlight multiple cells and \"copy code content\"</td>\n",
       "    </tr>\n",
       "    <tr>\n",
       "      <th>750</th>\n",
       "      <td>business analyst</td>\n",
       "      <td>Most of my data lives in Postgres, and for exploratory work an IDE with great introspection and autocompletion is faster.</td>\n",
       "    </tr>\n",
       "    <tr>\n",
       "      <th>814</th>\n",
       "      <td>software developer</td>\n",
       "      <td>I don't use it for multi-file development (where I am working on both Python modules imported from another file, and the file that imports them). I find it too cumbersome for that workflow.  I also find the non-relationship between execution ordering and visual ordering off-putting for development. When reading code in another IDE, I know the execution order is determined by the visual order in combination with the call graph. In Jupyter Notebook, since a cell below could've been executed before a cell above, the ordering now must include the numbers next to the cells; this is too many elements for me to keep track of. As a result, I tend to only use Jupyter Notebook for exploratory work (more like a REPL), and copy and paste code into a text editor as I finish with a small snippet.</td>\n",
       "    </tr>\n",
       "    <tr>\n",
       "      <th>851</th>\n",
       "      <td>data science, experimentation</td>\n",
       "      <td>Not being able to edit code in my normal IDE.</td>\n",
       "    </tr>\n",
       "    <tr>\n",
       "      <th>898</th>\n",
       "      <td>data scientist</td>\n",
       "      <td>Lack of better ide like functions.</td>\n",
       "    </tr>\n",
       "    <tr>\n",
       "      <th>904</th>\n",
       "      <td>data science/developer</td>\n",
       "      <td>I tend to build things up in a notebook by creating one function at a time, but as things get bigger, I have to execute more and more code blocks each time I restart the kernel. I eventually move parts over to a python/julia module, but then when I need to make changes, I have to do that in an external editor and restart the kernel.   It would be nice to be able to do all of this directly in the notebook, not sure how that would look exactly. Maybe a cell type that was a little embedded editor/ide with a file browser.</td>\n",
       "    </tr>\n",
       "    <tr>\n",
       "      <th>979</th>\n",
       "      <td>post-doc in geosciences</td>\n",
       "      <td>The forthcoming JupyterLab, more IDE-like interface based on phosphor.js, better notebook sharing features and cutomization (plugins).</td>\n",
       "    </tr>\n",
       "    <tr>\n",
       "      <th>1002</th>\n",
       "      <td>qe developer</td>\n",
       "      <td>integration into my IDE/text editor</td>\n",
       "    </tr>\n",
       "    <tr>\n",
       "      <th>1032</th>\n",
       "      <td>student</td>\n",
       "      <td>The memory use often makes me unable to load in my data as fully as I can in a more traditional IDE.  It also isn't as easy as I'd hope to generate loads of graphs iteratively, which means Jupyter isn't as good for data exploration - my main use case.</td>\n",
       "    </tr>\n",
       "    <tr>\n",
       "      <th>1087</th>\n",
       "      <td>graduate student</td>\n",
       "      <td>Lacks lots if IDE features I am use to, such as auto formatting, highlighting of errors, refactoring, etc</td>\n",
       "    </tr>\n",
       "    <tr>\n",
       "      <th>1178</th>\n",
       "      <td>software developer / devops</td>\n",
       "      <td>1/ Notebook not integrated with IDE (so cut-and-paste required)  2/ Notebook UI kind of rough (not very workflow-cognizant, requires excess steps) 3/ Not well-integrated with sites I need to use it with (e.g. Github, Bitbucket, Stack Overflow)</td>\n",
       "    </tr>\n",
       "    <tr>\n",
       "      <th>1261</th>\n",
       "      <td>student</td>\n",
       "      <td>The majority of my Python work is on personal projects that don't require me to share code, so it is often easier to use a desktop IDE (like PyCharm or Rodeo), or just use Sublime Text.  The setup processes for these are marginally quicker.</td>\n",
       "    </tr>\n",
       "    <tr>\n",
       "      <th>1266</th>\n",
       "      <td>software engineer</td>\n",
       "      <td>Being a separate tool: I'd like to use jupyter without switching between my editor/IDE and jupyter</td>\n",
       "    </tr>\n",
       "    <tr>\n",
       "      <th>1306</th>\n",
       "      <td>developer</td>\n",
       "      <td>Working more on data acquisition than data analysis. Jupyter is not a good IDE for developing code IMO (I use Vim)</td>\n",
       "    </tr>\n",
       "    <tr>\n",
       "      <th>1379</th>\n",
       "      <td>computatinal neurosicentist</td>\n",
       "      <td>Notebooks become less manageable when project becomes bigger. It would be nice to incorporate more 'IDE' like properties like multi file projects, that can be worked on simultaneously (with the same kernel)</td>\n",
       "    </tr>\n",
       "    <tr>\n",
       "      <th>1383</th>\n",
       "      <td>research scientist</td>\n",
       "      <td>I miss using a debugger while writing larger programs. As a result, I just develop programs using a regular IDE such as Spyder or PyCharm, and then use Jupyter to summarize the findings. I find it hard to develop code first in Jupyter.</td>\n",
       "    </tr>\n",
       "    <tr>\n",
       "      <th>1600</th>\n",
       "      <td>analytics engineer</td>\n",
       "      <td>I write libraries which require a full-fledged IDE.</td>\n",
       "    </tr>\n",
       "    <tr>\n",
       "      <th>1609</th>\n",
       "      <td>ecologist / geospatial analyst</td>\n",
       "      <td>more full featured ide feature (find replace, refactor, code folding/hiding, etc)    reusing code easily between notebooks</td>\n",
       "    </tr>\n",
       "  </tbody>\n",
       "</table>\n",
       "</div>"
      ],
      "text/plain": [
       "                                                 role_norm  \\\n",
       "34                                      research scientist   \n",
       "43                                                 teacher   \n",
       "119                       developer of scientific software   \n",
       "305                                    cognitive scientist   \n",
       "406   economic consulting / professional economic analysis   \n",
       "444                                 really, astrophysicist   \n",
       "524                                                student   \n",
       "653                                            phd student   \n",
       "681                                            phd student   \n",
       "694                                      financial modeler   \n",
       "710                             portfolio manager, finance   \n",
       "750                                       business analyst   \n",
       "814                                     software developer   \n",
       "851                          data science, experimentation   \n",
       "898                                         data scientist   \n",
       "904                                 data science/developer   \n",
       "979                                post-doc in geosciences   \n",
       "1002                                          qe developer   \n",
       "1032                                               student   \n",
       "1087                                      graduate student   \n",
       "1178                           software developer / devops   \n",
       "1261                                               student   \n",
       "1266                                     software engineer   \n",
       "1306                                             developer   \n",
       "1379                           computatinal neurosicentist   \n",
       "1383                                    research scientist   \n",
       "1600                                    analytics engineer   \n",
       "1609                        ecologist / geospatial analyst   \n",
       "\n",
       "                                                                                                                                                                                                                                                                                                                                                                                                                                                                                                                                                                                                                                                                                                                        What, if anything, hinders you from making Jupyter Notebook an even more regular part of your workflow?  \n",
       "34                                                                                                                                                                                                                                                                                                                                                                                                                                                                                                                                                                                                                                                                                                                                    Lack of proper debugging tools (comparable to e.g. Eclipse IDE, Visual Studio or Matlab).  \n",
       "43                                                                                                                                                                                                                                                                                                                                                                                                                                                                                                                                                                                                                                                                                                                         Give notebooks more editors/ide functionnality: easier file browsing, editing, serach and replace...  \n",
       "119                                                                                                                                                                                                                                                                                                                                                                                                                                                                                                                                                                                                                                                                                                                                                                            I prefer developing in a full IDE, like PyCharm.  \n",
       "305                                                                                                                                                                                                                                                                                                                                                                     The lack of facilities for code re-use. I know there are hacks for importing between notebooks and the like but it still doesn't beat a text editor and DVCS when I want to make something that I'll import or make available on GitHub. My notebooks tend to get messy and out of order. Maybe I need to figure out a better workflow but I often feel a traditional console (i.e. qtconsole) is better (along with the aforementioned editor or IDE).  \n",
       "406                                                                                                                                                                                                                                                                                                                                                                                                                                                                                                                                                                                                                                    - Does not have variable explorer (like Spyder IDE). - Does not have a standalone desktop application (have you thought about using GitHub's Electron to develop a desktop application?)  \n",
       "444                                                                                                                                                                                                                                                                                                                                                                                                                                                                                                                                                                                                                                                                                                                                                     Everything, that distinguished it from IDE like Pycharm. But it is fine  \n",
       "524                                                                                                                                                                                                                                                                                                                                                                                                                                                                                                                                                                                                                                                                                                    Knowing where to find out about change, other tools like matlab ide , some programming languages have poor intergration   \n",
       "653                                                                                                                                                                                                                                                                                                                                                                                                                                                                                                                                                                                                                                                                                                                                 Switching back and forth between notebook and editor/IDE is distracting and time consuming.  \n",
       "681                                                                                                                                                                                                                                                                                                                                                                                                                                                                                                                                                                                                                                                                         Strong gap between editing code in IDE and writing a Jupyter Notebook (juggling between Python scripts and notebooks is not as easy as it could be)  \n",
       "694                                                                                                                                                                                                                                                                                                                                                                                                                                                                               It is more of a notebook but it would be nice if it acted almost like an IDE for project-management.  Being able to run multiple modules or pages that link together in the same instance to help break up the notebook page into manageable chunks then a means to pull it all together into a final cohesive program would be quite useful.  \n",
       "710                                                                                                                                                                                                                                                                                                                                                                                                                                                                                                                                                                                                                                                                                                 moving code from a notebook to my IDE. It would be great if I were able to highlight multiple cells and \"copy code content\"  \n",
       "750                                                                                                                                                                                                                                                                                                                                                                                                                                                                                                                                                                                                                                                                                                  Most of my data lives in Postgres, and for exploratory work an IDE with great introspection and autocompletion is faster.   \n",
       "814   I don't use it for multi-file development (where I am working on both Python modules imported from another file, and the file that imports them). I find it too cumbersome for that workflow.  I also find the non-relationship between execution ordering and visual ordering off-putting for development. When reading code in another IDE, I know the execution order is determined by the visual order in combination with the call graph. In Jupyter Notebook, since a cell below could've been executed before a cell above, the ordering now must include the numbers next to the cells; this is too many elements for me to keep track of. As a result, I tend to only use Jupyter Notebook for exploratory work (more like a REPL), and copy and paste code into a text editor as I finish with a small snippet.  \n",
       "851                                                                                                                                                                                                                                                                                                                                                                                                                                                                                                                                                                                                                                                                                                                                                                               Not being able to edit code in my normal IDE.  \n",
       "898                                                                                                                                                                                                                                                                                                                                                                                                                                                                                                                                                                                                                                                                                                                                                                                         Lack of better ide like functions.   \n",
       "904                                                                                                                                                                                                                                                                                 I tend to build things up in a notebook by creating one function at a time, but as things get bigger, I have to execute more and more code blocks each time I restart the kernel. I eventually move parts over to a python/julia module, but then when I need to make changes, I have to do that in an external editor and restart the kernel.   It would be nice to be able to do all of this directly in the notebook, not sure how that would look exactly. Maybe a cell type that was a little embedded editor/ide with a file browser.  \n",
       "979                                                                                                                                                                                                                                                                                                                                                                                                                                                                                                                                                                                                                                                                                      The forthcoming JupyterLab, more IDE-like interface based on phosphor.js, better notebook sharing features and cutomization (plugins).  \n",
       "1002                                                                                                                                                                                                                                                                                                                                                                                                                                                                                                                                                                                                                                                                                                                                                                                        integration into my IDE/text editor  \n",
       "1032                                                                                                                                                                                                                                                                                                                                                                                                                                                                                                                                                                The memory use often makes me unable to load in my data as fully as I can in a more traditional IDE.  It also isn't as easy as I'd hope to generate loads of graphs iteratively, which means Jupyter isn't as good for data exploration - my main use case.  \n",
       "1087                                                                                                                                                                                                                                                                                                                                                                                                                                                                                                                                                                                                                                                                                                                 Lacks lots if IDE features I am use to, such as auto formatting, highlighting of errors, refactoring, etc   \n",
       "1178                                                                                                                                                                                                                                                                                                                                                                                                                                                                                                                                                                        1/ Notebook not integrated with IDE (so cut-and-paste required)  2/ Notebook UI kind of rough (not very workflow-cognizant, requires excess steps) 3/ Not well-integrated with sites I need to use it with (e.g. Github, Bitbucket, Stack Overflow)  \n",
       "1261                                                                                                                                                                                                                                                                                                                                                                                                                                                                                                                                                                           The majority of my Python work is on personal projects that don't require me to share code, so it is often easier to use a desktop IDE (like PyCharm or Rodeo), or just use Sublime Text.  The setup processes for these are marginally quicker.  \n",
       "1266                                                                                                                                                                                                                                                                                                                                                                                                                                                                                                                                                                                                                                                                                                                         Being a separate tool: I'd like to use jupyter without switching between my editor/IDE and jupyter  \n",
       "1306                                                                                                                                                                                                                                                                                                                                                                                                                                                                                                                                                                                                                                                                                                         Working more on data acquisition than data analysis. Jupyter is not a good IDE for developing code IMO (I use Vim)  \n",
       "1379                                                                                                                                                                                                                                                                                                                                                                                                                                                                                                                                                                                                            Notebooks become less manageable when project becomes bigger. It would be nice to incorporate more 'IDE' like properties like multi file projects, that can be worked on simultaneously (with the same kernel)   \n",
       "1383                                                                                                                                                                                                                                                                                                                                                                                                                                                                                                                                                                                I miss using a debugger while writing larger programs. As a result, I just develop programs using a regular IDE such as Spyder or PyCharm, and then use Jupyter to summarize the findings. I find it hard to develop code first in Jupyter.  \n",
       "1600                                                                                                                                                                                                                                                                                                                                                                                                                                                                                                                                                                                                                                                                                                                                                                        I write libraries which require a full-fledged IDE.  \n",
       "1609                                                                                                                                                                                                                                                                                                                                                                                                                                                                                                                                                                                                                                                                                                 more full featured ide feature (find replace, refactor, code folding/hiding, etc)    reusing code easily between notebooks  "
      ]
     },
     "execution_count": 169,
     "metadata": {},
     "output_type": "execute_result"
    }
   ],
   "source": [
    "tmp_df[tmp_df.ix[:, 1].str.contains('\\W+ide\\W+', case=False)]"
   ]
  },
  {
   "cell_type": "markdown",
   "metadata": {},
   "source": [
    "## Years in Role vs Role Name"
   ]
  },
  {
   "cell_type": "code",
   "execution_count": 180,
   "metadata": {
    "collapsed": false
   },
   "outputs": [],
   "source": [
    "years_in_role = df.ix[:, 32]"
   ]
  },
  {
   "cell_type": "code",
   "execution_count": 181,
   "metadata": {
    "collapsed": false
   },
   "outputs": [
    {
     "data": {
      "text/plain": [
       "2-5 years           323\n",
       "5+ years            270\n",
       "1 year               87\n",
       "Less than 1 year     67\n",
       "Name: How many years have you been in this role? , dtype: int64"
      ]
     },
     "execution_count": 181,
     "metadata": {},
     "output_type": "execute_result"
    }
   ],
   "source": [
    "years_in_role.value_counts()"
   ]
  },
  {
   "cell_type": "code",
   "execution_count": 182,
   "metadata": {
    "collapsed": true
   },
   "outputs": [],
   "source": [
    "how_long =  df.ix[:, 5]"
   ]
  },
  {
   "cell_type": "code",
   "execution_count": 183,
   "metadata": {
    "collapsed": false
   },
   "outputs": [
    {
     "data": {
      "text/plain": [
       "One year or more      814\n",
       "Less than one year    263\n",
       "Name: Roughly how long have you been using Jupyter Notebook?, dtype: int64"
      ]
     },
     "execution_count": 183,
     "metadata": {},
     "output_type": "execute_result"
    }
   ],
   "source": [
    "how_long.value_counts()"
   ]
  },
  {
   "cell_type": "code",
   "execution_count": 191,
   "metadata": {
    "collapsed": false
   },
   "outputs": [],
   "source": [
    "using_vs_role = df[[5, 32]]"
   ]
  },
  {
   "cell_type": "code",
   "execution_count": 192,
   "metadata": {
    "collapsed": false
   },
   "outputs": [],
   "source": [
    "using_vs_role.columns = ['how_long_using', 'how_long_role']"
   ]
  },
  {
   "cell_type": "code",
   "execution_count": 223,
   "metadata": {
    "collapsed": false
   },
   "outputs": [
    {
     "data": {
      "text/html": [
       "<div>\n",
       "<table border=\"1\" class=\"dataframe\">\n",
       "  <thead>\n",
       "    <tr style=\"text-align: right;\">\n",
       "      <th>how_long_using</th>\n",
       "      <th>Less than one year</th>\n",
       "      <th>One year or more</th>\n",
       "    </tr>\n",
       "    <tr>\n",
       "      <th>how_long_role</th>\n",
       "      <th></th>\n",
       "      <th></th>\n",
       "    </tr>\n",
       "  </thead>\n",
       "  <tbody>\n",
       "    <tr>\n",
       "      <th>1 year</th>\n",
       "      <td>24</td>\n",
       "      <td>63</td>\n",
       "    </tr>\n",
       "    <tr>\n",
       "      <th>2-5 years</th>\n",
       "      <td>64</td>\n",
       "      <td>258</td>\n",
       "    </tr>\n",
       "    <tr>\n",
       "      <th>5+ years</th>\n",
       "      <td>48</td>\n",
       "      <td>222</td>\n",
       "    </tr>\n",
       "    <tr>\n",
       "      <th>Less than 1 year</th>\n",
       "      <td>37</td>\n",
       "      <td>30</td>\n",
       "    </tr>\n",
       "  </tbody>\n",
       "</table>\n",
       "</div>"
      ],
      "text/plain": [
       "how_long_using    Less than one year  One year or more\n",
       "how_long_role                                         \n",
       "1 year                            24                63\n",
       "2-5 years                         64               258\n",
       "5+ years                          48               222\n",
       "Less than 1 year                  37                30"
      ]
     },
     "execution_count": 223,
     "metadata": {},
     "output_type": "execute_result"
    }
   ],
   "source": [
    "pd.crosstab(using_vs_role.how_long_role, using_vs_role.how_long_using)"
   ]
  }
 ],
 "metadata": {
  "kernelspec": {
   "display_name": "Python 3",
   "language": "python",
   "name": "python3"
  },
  "language_info": {
   "codemirror_mode": {
    "name": "ipython",
    "version": 3
   },
   "file_extension": ".py",
   "mimetype": "text/x-python",
   "name": "python",
   "nbconvert_exporter": "python",
   "pygments_lexer": "ipython3",
   "version": "3.4.4"
  }
 },
 "nbformat": 4,
 "nbformat_minor": 0
}
