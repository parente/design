{
 "cells": [
  {
   "cell_type": "markdown",
   "metadata": {},
   "source": [
    "# Response Themes for \"What, if anything, hinders you from making Jupyter Notebook an even more regular part of your workflow?\"\n",
    "\n",
    "* Goal: Extract theme keywords from `hinderances`, `integrations`, `workflow_needs_addressed`, `workflow_needs_not_addressed` responses.\n",
    "* Data: Output from 2_clean_survey.ipynb notebook (`survey_short_columns.csv`)\n",
    "* Process from [1_ux_survey_review.ipynb](1_ux_survey_review.ipynb):\n",
    "\n",
    "> Moving forward, here's a semi-automatic procedure we can follow for identifying themes across questions:\n",
    "> 1. Take a random sample of question responses\n",
    "> 2. Write down common theme keywords\n",
    "> 3. Search back through the responses using the theme keywords\n",
    "> 4. Expand the set of keywords with other words seen in the search results\n",
    "> 5. Repeat for all themes and questions\n",
    "> Later, we can use a fully automated topic modeling approach to validate our manually generated themes."
   ]
  },
  {
   "cell_type": "code",
   "execution_count": 1,
   "metadata": {
    "collapsed": false
   },
   "outputs": [],
   "source": [
    "%matplotlib inline"
   ]
  },
  {
   "cell_type": "code",
   "execution_count": 2,
   "metadata": {
    "collapsed": true
   },
   "outputs": [],
   "source": [
    "import pandas as pd\n",
    "import numpy as np"
   ]
  },
  {
   "cell_type": "markdown",
   "metadata": {},
   "source": [
    "Make sure the samples come up the same for anyone that re-runs this."
   ]
  },
  {
   "cell_type": "code",
   "execution_count": 3,
   "metadata": {
    "collapsed": false
   },
   "outputs": [],
   "source": [
    "rs = np.random.RandomState(123)"
   ]
  },
  {
   "cell_type": "code",
   "execution_count": 4,
   "metadata": {
    "collapsed": true
   },
   "outputs": [],
   "source": [
    "pd.set_option('max_colwidth', 1000)"
   ]
  },
  {
   "cell_type": "code",
   "execution_count": 5,
   "metadata": {
    "collapsed": true
   },
   "outputs": [],
   "source": [
    "df = pd.read_csv('survey_short_columns.csv')"
   ]
  },
  {
   "cell_type": "code",
   "execution_count": 6,
   "metadata": {
    "collapsed": true
   },
   "outputs": [],
   "source": [
    "def show(series):\n",
    "    '''Make random samples easier to read.'''\n",
    "    for i, value in enumerate(series):\n",
    "        print('{}) {}'.format(i, value), end='\\n\\n')"
   ]
  },
  {
   "cell_type": "code",
   "execution_count": 7,
   "metadata": {
    "collapsed": true
   },
   "outputs": [],
   "source": [
    "hinder = df.hinderances"
   ]
  },
  {
   "cell_type": "code",
   "execution_count": 8,
   "metadata": {
    "collapsed": false
   },
   "outputs": [
    {
     "data": {
      "text/plain": [
       "True     943\n",
       "False    763\n",
       "Name: hinderances, dtype: int64"
      ]
     },
     "execution_count": 8,
     "metadata": {},
     "output_type": "execute_result"
    }
   ],
   "source": [
    "hinder.isnull().value_counts()"
   ]
  },
  {
   "cell_type": "code",
   "execution_count": 9,
   "metadata": {
    "collapsed": true
   },
   "outputs": [],
   "source": [
    "hinder = hinder.dropna()"
   ]
  },
  {
   "cell_type": "markdown",
   "metadata": {},
   "source": [
    "## Initial Samples\n",
    "\n",
    "I ran the sampling code below 6 times and manually built up the initial set of keywords seen commonly across them. I formed groups of conceptually related keywords. Then I tried to assign a simple label to each group."
   ]
  },
  {
   "cell_type": "code",
   "execution_count": 10,
   "metadata": {
    "collapsed": false,
    "scrolled": false
   },
   "outputs": [
    {
     "name": "stdout",
     "output_type": "stream",
     "text": [
      "0) Jupyter Notebook \"Windows 7+\" experience is inferior to Linux one\n",
      "\n",
      "1) Integration with text editor \n",
      "\n",
      "2) Version control (and, which is related, collaborative version control).\n",
      "\n",
      "3) Doesn't seem to fit with building a large project, prefer IDE\n",
      "\n",
      "4) remembering how to get it setup\n",
      "\n",
      "5) better connections to external DBs, easier interact widgets.\n",
      "\n",
      "6) Primarily use R, Rstudio is better for R.\n",
      "\n",
      "7) * a \"clear and run all\" button to get rid of variable persistence (possible with Kernel > Clear all then run but that's more clicks) * a IPython notebook .app -- it'd be really nice to double click on a notebook and have it open\n",
      "\n",
      "8) School assignments\n",
      "\n",
      "9) In ML, I have a cell output the loss at each epoch or few thousand iterations. This makes the output really long and to go between cells I have to scroll a lot to get past the wall of text I made.\n",
      "\n",
      "10) The notebook workflows are very linear, doing experiments is difficult. Also some source control/diff tool would be really nice.\n",
      "\n",
      "11) - Better editor (more vim-style) - Better nbconvert (Make it easier to write paper in jupyter. Right now I can't even find out how to change the title of the resulting latex document) - Better integration with Git (automatic removal of binary blobs before commiting, Maybe allowing view of diffs within notebook)\n",
      "\n",
      "12) Installation is hard, so it's hard to spread the gospel.\n",
      "\n",
      "13) * non-triviality of sharing of notebooks * exchange, synergy between JupyterHub/server-based versus local/single-user installation * sparse documentation on more advanced features (extensions, configuration, ...)\n",
      "\n",
      "14) Lack of integrated collaboration. Lack of blogging platform based on notebooks.\n",
      "\n",
      "15) Python: difficulty reloading when writing modules Other languages: Stability of other kernels generic: editor clumsiness / browser shortcut conflicts\n",
      "\n",
      "16) Shortcut bindings. I'm most productive in vim, the shortcuts in the notebook just don't feel as fluid. Probably isn't a problem that's solvable, but someone might have a nice solution.\n",
      "\n",
      "17) Lack of ease in publishing work (e.g. generating PDF without code blocks)\n",
      "\n",
      "18) Full undo history, export options\n",
      "\n",
      "19) Number one complaint I have had is the lack of find and replace, autocomplete, and other text-editor style tools. I understand this may not really be the point of jupyter nootbooks, but I find myself cutting code, pasting to a text editor, and pasting back in all the time. In my limited experience (could easily be wrong about this), it doesn't have great integration with virtualenv, so it's a bit of a headache to switch from one env to another and reconfigure jupyter. On the nitpick side, translation of magic commands to equivalent python commands would be amazing when exporting to a .py file. \n",
      "\n"
     ]
    }
   ],
   "source": [
    "show(hinder.sample(20, random_state=rs))"
   ]
  },
  {
   "cell_type": "code",
   "execution_count": 126,
   "metadata": {
    "collapsed": true
   },
   "outputs": [],
   "source": [
    "themes = {\n",
    "    'version' : ['version control', 'diff', 'source control', 'git'],\n",
    "    'ide' : ['text editor', 'ide', 'vim', 'emacs', 'editing', 'key binding', 'key mapping', 'keyboard', 'shortcuts', 'debug', 'programming'],\n",
    "    'setup' : ['setup', 'desktop', 'install', 'documentation', 'kernels', 'customization'],\n",
    "    'widgets' : ['widgets', 'view', 'interact', 'dataframes'],\n",
    "    'connections' : ['connections', 'db'],\n",
    "    'language': ['rstudio', 'clojure', 'scala', 'c#'],\n",
    "    'ux' : ['ui', 'design', 'linear', 'search', 'theme', 'collapse', 'organization', 'proliferation', 'cut', 'merge', 'completion', 'aesthetic'],\n",
    "    'collab' : ['sharing', 'collaboration', 'publication', 'export', 'deploy', 'authoring', 'dashboard', 'cron', 'module', 'reuse', 'latex', 'slides'],\n",
    "    'robust' : ['stability', 'crash', 'reload', 'bug', 'reliability', 'windows', 'ipad', 'slow', 'performance']\n",
    "}"
   ]
  },
  {
   "cell_type": "markdown",
   "metadata": {},
   "source": [
    "## Coverage Improvement\n",
    "\n",
    "I next ran the code below to associate the theme labels with the responses. I then iterated on running the code below to find reponses without labels. I expanded the list of keywords and themes in order to improve coverage."
   ]
  },
  {
   "cell_type": "code",
   "execution_count": 127,
   "metadata": {
    "collapsed": true
   },
   "outputs": [],
   "source": [
    "import re"
   ]
  },
  {
   "cell_type": "code",
   "execution_count": 128,
   "metadata": {
    "collapsed": true
   },
   "outputs": [],
   "source": [
    "def keywords_or(text, keywords):\n",
    "    for keyword in keywords:\n",
    "        if re.search('(^|\\W+){}'.format(keyword), text, re.IGNORECASE):\n",
    "            return True\n",
    "    return False"
   ]
  },
  {
   "cell_type": "code",
   "execution_count": 129,
   "metadata": {
    "collapsed": false
   },
   "outputs": [],
   "source": [
    "def tag_themes(responses, themes):\n",
    "    tagged = hinder.to_frame()\n",
    "    tagged['themes'] = ''\n",
    "    for theme, keywords in themes.items():\n",
    "        results = hinder.map(lambda text: keywords_or(text, keywords))\n",
    "        tagged.loc[results, 'themes'] += theme + ','\n",
    "        print(theme, results.sum())\n",
    "    return tagged"
   ]
  },
  {
   "cell_type": "code",
   "execution_count": 130,
   "metadata": {
    "collapsed": false
   },
   "outputs": [
    {
     "name": "stdout",
     "output_type": "stream",
     "text": [
      "robust 44\n",
      "collab 107\n",
      "ux 70\n",
      "ide 197\n",
      "language 22\n",
      "setup 84\n",
      "version 139\n",
      "connections 2\n",
      "widgets 52\n"
     ]
    },
    {
     "data": {
      "text/plain": [
       "0    302\n",
       "1    277\n",
       "2    128\n",
       "3     40\n",
       "4     16\n",
       "Name: themes, dtype: int64"
      ]
     },
     "execution_count": 130,
     "metadata": {},
     "output_type": "execute_result"
    }
   ],
   "source": [
    "tagged = tag_themes(hinder, themes)\n",
    "tagged.themes.str.count(',').value_counts()"
   ]
  },
  {
   "cell_type": "code",
   "execution_count": 131,
   "metadata": {
    "collapsed": false
   },
   "outputs": [
    {
     "data": {
      "text/html": [
       "<div>\n",
       "<table border=\"1\" class=\"dataframe\">\n",
       "  <thead>\n",
       "    <tr style=\"text-align: right;\">\n",
       "      <th></th>\n",
       "      <th>hinderances</th>\n",
       "      <th>themes</th>\n",
       "    </tr>\n",
       "  </thead>\n",
       "  <tbody>\n",
       "    <tr>\n",
       "      <th>980</th>\n",
       "      <td>Nothing. I switch between data projects where I use it and infrastructure projects where I don't.</td>\n",
       "      <td></td>\n",
       "    </tr>\n",
       "    <tr>\n",
       "      <th>1384</th>\n",
       "      <td>Nothing really, it's already pretty frequent.</td>\n",
       "      <td></td>\n",
       "    </tr>\n",
       "    <tr>\n",
       "      <th>575</th>\n",
       "      <td>It's only for python</td>\n",
       "      <td></td>\n",
       "    </tr>\n",
       "    <tr>\n",
       "      <th>277</th>\n",
       "      <td>* a \"clear and run all\" button to get rid of variable persistence (possible with Kernel &gt; Clear all then run but that's more clicks) * a IPython notebook .app -- it'd be really nice to double click on a notebook and have it open</td>\n",
       "      <td></td>\n",
       "    </tr>\n",
       "    <tr>\n",
       "      <th>581</th>\n",
       "      <td>Collaborators who insist on using legacy platforms like MATLAB.</td>\n",
       "      <td></td>\n",
       "    </tr>\n",
       "    <tr>\n",
       "      <th>120</th>\n",
       "      <td>I don't use Python often enough</td>\n",
       "      <td></td>\n",
       "    </tr>\n",
       "    <tr>\n",
       "      <th>348</th>\n",
       "      <td>At times I need to use other work environments (e.g. Atom) when I need other tools, e.g. non-exploratory work.</td>\n",
       "      <td></td>\n",
       "    </tr>\n",
       "    <tr>\n",
       "      <th>729</th>\n",
       "      <td>Not relevant to my day job of working with Drupal and PHP.</td>\n",
       "      <td></td>\n",
       "    </tr>\n",
       "    <tr>\n",
       "      <th>563</th>\n",
       "      <td>Nothing, I just don't need it more often.</td>\n",
       "      <td></td>\n",
       "    </tr>\n",
       "    <tr>\n",
       "      <th>863</th>\n",
       "      <td>command line + editor workflow, working with many sources</td>\n",
       "      <td></td>\n",
       "    </tr>\n",
       "    <tr>\n",
       "      <th>916</th>\n",
       "      <td>- embedding of graphics directly in the .ipynb file - insufficient 3d graphics support - no single unified find or document model (e.g., each cell is its own separate editor)</td>\n",
       "      <td></td>\n",
       "    </tr>\n",
       "    <tr>\n",
       "      <th>165</th>\n",
       "      <td>No need to use more often.</td>\n",
       "      <td></td>\n",
       "    </tr>\n",
       "    <tr>\n",
       "      <th>1272</th>\n",
       "      <td>Lack of ease in publishing work (e.g. generating PDF without code blocks)</td>\n",
       "      <td></td>\n",
       "    </tr>\n",
       "    <tr>\n",
       "      <th>841</th>\n",
       "      <td>Not a normal part of my job, but useful when I need it</td>\n",
       "      <td></td>\n",
       "    </tr>\n",
       "    <tr>\n",
       "      <th>1024</th>\n",
       "      <td>Time allocated for the project using Jupyter</td>\n",
       "      <td></td>\n",
       "    </tr>\n",
       "    <tr>\n",
       "      <th>956</th>\n",
       "      <td>Better integration with batch-based computing clusters</td>\n",
       "      <td></td>\n",
       "    </tr>\n",
       "    <tr>\n",
       "      <th>695</th>\n",
       "      <td>Not a full-time data scientist.</td>\n",
       "      <td></td>\n",
       "    </tr>\n",
       "    <tr>\n",
       "      <th>379</th>\n",
       "      <td>supporting Perl would be handy</td>\n",
       "      <td></td>\n",
       "    </tr>\n",
       "    <tr>\n",
       "      <th>1395</th>\n",
       "      <td>Not needed for my industry work.</td>\n",
       "      <td></td>\n",
       "    </tr>\n",
       "    <tr>\n",
       "      <th>822</th>\n",
       "      <td>format of the notebook content.  prefer markdown</td>\n",
       "      <td></td>\n",
       "    </tr>\n",
       "  </tbody>\n",
       "</table>\n",
       "</div>"
      ],
      "text/plain": [
       "                                                                                                                                                                                                                               hinderances  \\\n",
       "980                                                                                                                                      Nothing. I switch between data projects where I use it and infrastructure projects where I don't.   \n",
       "1384                                                                                                                                                                                         Nothing really, it's already pretty frequent.   \n",
       "575                                                                                                                                                                                                                   It's only for python   \n",
       "277   * a \"clear and run all\" button to get rid of variable persistence (possible with Kernel > Clear all then run but that's more clicks) * a IPython notebook .app -- it'd be really nice to double click on a notebook and have it open   \n",
       "581                                                                                                                                                                        Collaborators who insist on using legacy platforms like MATLAB.   \n",
       "120                                                                                                                                                                                                        I don't use Python often enough   \n",
       "348                                                                                                                         At times I need to use other work environments (e.g. Atom) when I need other tools, e.g. non-exploratory work.   \n",
       "729                                                                                                                                                                             Not relevant to my day job of working with Drupal and PHP.   \n",
       "563                                                                                                                                                                                              Nothing, I just don't need it more often.   \n",
       "863                                                                                                                                                                              command line + editor workflow, working with many sources   \n",
       "916                                                        - embedding of graphics directly in the .ipynb file - insufficient 3d graphics support - no single unified find or document model (e.g., each cell is its own separate editor)    \n",
       "165                                                                                                                                                                                                             No need to use more often.   \n",
       "1272                                                                                                                                                             Lack of ease in publishing work (e.g. generating PDF without code blocks)   \n",
       "841                                                                                                                                                                                 Not a normal part of my job, but useful when I need it   \n",
       "1024                                                                                                                                                                                          Time allocated for the project using Jupyter   \n",
       "956                                                                                                                                                                                 Better integration with batch-based computing clusters   \n",
       "695                                                                                                                                                                                                        Not a full-time data scientist.   \n",
       "379                                                                                                                                                                                                         supporting Perl would be handy   \n",
       "1395                                                                                                                                                                                                      Not needed for my industry work.   \n",
       "822                                                                                                                                                                                       format of the notebook content.  prefer markdown   \n",
       "\n",
       "     themes  \n",
       "980          \n",
       "1384         \n",
       "575          \n",
       "277          \n",
       "581          \n",
       "120          \n",
       "348          \n",
       "729          \n",
       "563          \n",
       "863          \n",
       "916          \n",
       "165          \n",
       "1272         \n",
       "841          \n",
       "1024         \n",
       "956          \n",
       "695          \n",
       "379          \n",
       "1395         \n",
       "822          "
      ]
     },
     "execution_count": 131,
     "metadata": {},
     "output_type": "execute_result"
    }
   ],
   "source": [
    "tagged[tagged.themes.str.len() == 0].sample(20, random_state=rs)"
   ]
  },
  {
   "cell_type": "code",
   "execution_count": 136,
   "metadata": {
    "collapsed": true
   },
   "outputs": [],
   "source": [
    "themes = {\n",
    "    'version' : ['version control', 'source control', 'git'],\n",
    "    'ide' : ['text editor', 'ide', 'vim', 'emacs', 'editing', 'editor', 'key binding', 'key mapping', 'keyboard', \n",
    "             'shortcuts', 'debug', 'programming', 'intellisense'],\n",
    "    'setup' : ['setup', 'desktop', 'install', 'documentation', 'kernels', 'customization', 'turn-key', 'hosted', \n",
    "               'server', 'cost', 'access'],\n",
    "    'widgets' : ['widgets', 'view', 'interact', 'dataframes'],\n",
    "    'connections' : ['connections', 'db', 'sas', 'd3', 'plot', 'conda', 'pentadactyl', 'spark', 'fenics'],\n",
    "    'language': ['rstudio', 'clojure', 'scala', 'c#', 'matlab', 'sql', 'perl', 'julia', 'javascript', 'haskell', \n",
    "                 'ruby', 'fortran', 'c\\+\\+', 'sage'],\n",
    "    'ux' : ['ui', 'design', 'linear', 'search', 'theme', 'collaps', 'organization', 'proliferation', 'cut', 'merge', \n",
    "            'completion', 'aesthetic', 'experience', 'interface', 'workspace', 'clutter', 'unwield', 'structure',\n",
    "            'cumbersome', 'unnatural', 'understand', 'keep track', 'navigate'],\n",
    "    'collab' : ['sharing', 'collab', 'publication', 'publish', 'export', 'deploy', 'authoring', 'dashboard', 'cron', \n",
    "                'module', 'reus', 'latex', 'slides', 'report'],\n",
    "    'robust' : ['stability', 'crash', 'reload', 'bug', 'reliability', 'windows', 'ipad', 'slow', 'performance', \n",
    "                'error', 'speed'],\n",
    "    'external' : ['legacy', 'acceptance', 'compliance', 'adoption', 'nobody', 'policy', 'inertia'],\n",
    "    'nothing': ['nothing', 'no need']\n",
    "}"
   ]
  },
  {
   "cell_type": "markdown",
   "metadata": {},
   "source": [
    "## Precision Check\n",
    "\n",
    "I then studied a sample of responses for each theme to see if there major inaccuracies in their application (e.g., string matches that are too fuzzy)."
   ]
  },
  {
   "cell_type": "code",
   "execution_count": 137,
   "metadata": {
    "collapsed": false
   },
   "outputs": [
    {
     "name": "stdout",
     "output_type": "stream",
     "text": [
      "robust 51\n",
      "collab 133\n",
      "ux 130\n",
      "ide 222\n",
      "language 59\n",
      "setup 114\n",
      "external 11\n",
      "version 93\n",
      "nothing 33\n",
      "connections 27\n",
      "widgets 52\n"
     ]
    },
    {
     "data": {
      "text/plain": [
       "1    352\n",
       "0    184\n",
       "2    141\n",
       "3     63\n",
       "4     16\n",
       "5      4\n",
       "6      3\n",
       "Name: themes, dtype: int64"
      ]
     },
     "execution_count": 137,
     "metadata": {},
     "output_type": "execute_result"
    }
   ],
   "source": [
    "tagged = tag_themes(hinder, themes)\n",
    "tagged.themes.str.count(',').value_counts()"
   ]
  },
  {
   "cell_type": "code",
   "execution_count": 134,
   "metadata": {
    "collapsed": true
   },
   "outputs": [],
   "source": [
    "from IPython.display import display, clear_output"
   ]
  },
  {
   "cell_type": "code",
   "execution_count": 135,
   "metadata": {
    "collapsed": false,
    "scrolled": false
   },
   "outputs": [
    {
     "data": {
      "text/html": [
       "<div>\n",
       "<table border=\"1\" class=\"dataframe\">\n",
       "  <thead>\n",
       "    <tr style=\"text-align: right;\">\n",
       "      <th></th>\n",
       "      <th>hinderances</th>\n",
       "      <th>themes</th>\n",
       "    </tr>\n",
       "  </thead>\n",
       "  <tbody>\n",
       "    <tr>\n",
       "      <th>806</th>\n",
       "      <td>Not a problem with Jupyter per se, but something to do with the whole ecosystem.   The notebook is great for quick hacking and documenting the process, but the visualisation tools are precarious. Matplotlib is designed as a copy of matlab, the output is in image format, and within the notebook, optimised for display. Interactivity with the visualisation is not great, and small tweaks take an inordinate ammount of time. Producing visual outputs for purposes outside of the notebook is also cumbersome.</td>\n",
       "      <td>ux,language,external,widgets,</td>\n",
       "    </tr>\n",
       "    <tr>\n",
       "      <th>1018</th>\n",
       "      <td>(1) I would like easier-to-use, standardized interactive graphics. (2) I would like my users to be able to go to a web page and run my code, without having to download and install anything.</td>\n",
       "      <td>setup,widgets,</td>\n",
       "    </tr>\n",
       "    <tr>\n",
       "      <th>81</th>\n",
       "      <td>The one dimensional interface.  It seems designed to be a single document rather than an complete interface. If you think about other powerful and ubiquitous software platforms, like Adobe Illustrator or Matlab, they often are designed around panels that expose useful information or interaction.  For example, an editor, variable browser, command line, etc.  I wish there were also multiple views within the Jupyter Notebook.</td>\n",
       "      <td>ux,ide,language,widgets,</td>\n",
       "    </tr>\n",
       "    <tr>\n",
       "      <th>126</th>\n",
       "      <td>Lack of a project view, inter-notebook copy/pasting of cells.  Not being able to export a Notebook removing code cells but leaving outputs.</td>\n",
       "      <td>collab,widgets,</td>\n",
       "    </tr>\n",
       "    <tr>\n",
       "      <th>919</th>\n",
       "      <td>* need a black theme (eyes sore from too much light) * need CLI interaction (for commands but maybe curses-like too) * need debugger support (like pudb, ipdb, pdbpp, wdb?) * provide a way to execute some cells asynchronously (sometimes we would like to execute some monitoring code or command prompts or `pip installs`) * interactive input widgets (so we can drive matplotlib-like plots)</td>\n",
       "      <td>ux,ide,setup,connections,widgets,</td>\n",
       "    </tr>\n",
       "    <tr>\n",
       "      <th>229</th>\n",
       "      <td>Interactive visualisatikn of images, plots etc</td>\n",
       "      <td>connections,widgets,</td>\n",
       "    </tr>\n",
       "    <tr>\n",
       "      <th>314</th>\n",
       "      <td>Interactive debugging is too difficult.  Setting breakpoints by clicking line number and then running in debug mode and having a nice way to inspect memory like Pycharm would be filth!</td>\n",
       "      <td>ide,widgets,</td>\n",
       "    </tr>\n",
       "    <tr>\n",
       "      <th>627</th>\n",
       "      <td>Nothing, I just don't need interactive development that often.</td>\n",
       "      <td>nothing,widgets,</td>\n",
       "    </tr>\n",
       "    <tr>\n",
       "      <th>1693</th>\n",
       "      <td>Would be great to have more advanced editor features for the cells. Would be great to have an easy way to switch between scripts and interactive sessions (a bit like in RStudio where you can execute parts of a script).</td>\n",
       "      <td>ide,language,widgets,</td>\n",
       "    </tr>\n",
       "    <tr>\n",
       "      <th>69</th>\n",
       "      <td>I mostly write libraries.  Notebooks are not the right artifact for non-interactive computing.</td>\n",
       "      <td>widgets,</td>\n",
       "    </tr>\n",
       "  </tbody>\n",
       "</table>\n",
       "</div>"
      ],
      "text/plain": [
       "                                                                                                                                                                                                                                                                                                                                                                                                                                                                                                                   hinderances  \\\n",
       "806   Not a problem with Jupyter per se, but something to do with the whole ecosystem.   The notebook is great for quick hacking and documenting the process, but the visualisation tools are precarious. Matplotlib is designed as a copy of matlab, the output is in image format, and within the notebook, optimised for display. Interactivity with the visualisation is not great, and small tweaks take an inordinate ammount of time. Producing visual outputs for purposes outside of the notebook is also cumbersome.   \n",
       "1018                                                                                                                                                                                                                                                                                                                             (1) I would like easier-to-use, standardized interactive graphics. (2) I would like my users to be able to go to a web page and run my code, without having to download and install anything.   \n",
       "81                                                                                  The one dimensional interface.  It seems designed to be a single document rather than an complete interface. If you think about other powerful and ubiquitous software platforms, like Adobe Illustrator or Matlab, they often are designed around panels that expose useful information or interaction.  For example, an editor, variable browser, command line, etc.  I wish there were also multiple views within the Jupyter Notebook.   \n",
       "126                                                                                                                                                                                                                                                                                                                                                                                Lack of a project view, inter-notebook copy/pasting of cells.  Not being able to export a Notebook removing code cells but leaving outputs.   \n",
       "919                                                                                                                        * need a black theme (eyes sore from too much light) * need CLI interaction (for commands but maybe curses-like too) * need debugger support (like pudb, ipdb, pdbpp, wdb?) * provide a way to execute some cells asynchronously (sometimes we would like to execute some monitoring code or command prompts or `pip installs`) * interactive input widgets (so we can drive matplotlib-like plots)   \n",
       "229                                                                                                                                                                                                                                                                                                                                                                                                                                                                             Interactive visualisatikn of images, plots etc   \n",
       "314                                                                                                                                                                                                                                                                                                                                   Interactive debugging is too difficult.  Setting breakpoints by clicking line number and then running in debug mode and having a nice way to inspect memory like Pycharm would be filth!   \n",
       "627                                                                                                                                                                                                                                                                                                                                                                                                                                                             Nothing, I just don't need interactive development that often.   \n",
       "1693                                                                                                                                                                                                                                                                                                Would be great to have more advanced editor features for the cells. Would be great to have an easy way to switch between scripts and interactive sessions (a bit like in RStudio where you can execute parts of a script).   \n",
       "69                                                                                                                                                                                                                                                                                                                                                                                                                              I mostly write libraries.  Notebooks are not the right artifact for non-interactive computing.   \n",
       "\n",
       "                                 themes  \n",
       "806       ux,language,external,widgets,  \n",
       "1018                     setup,widgets,  \n",
       "81             ux,ide,language,widgets,  \n",
       "126                     collab,widgets,  \n",
       "919   ux,ide,setup,connections,widgets,  \n",
       "229                connections,widgets,  \n",
       "314                        ide,widgets,  \n",
       "627                    nothing,widgets,  \n",
       "1693              ide,language,widgets,  \n",
       "69                             widgets,  "
      ]
     },
     "metadata": {},
     "output_type": "display_data"
    },
    {
     "name": "stdout",
     "output_type": "stream",
     "text": [
      "Showing `widgets`. Type Enter to continue, \"q\" to stop.\n"
     ]
    }
   ],
   "source": [
    "for key in themes:\n",
    "    clear_output()\n",
    "    display(tagged[tagged.themes.str.contains(key)].sample(10))\n",
    "    if input('Showing `{}`. Type Enter to continue, \"q\" to stop.'.format(key)) == 'q':\n",
    "        break"
   ]
  },
  {
   "cell_type": "markdown",
   "metadata": {},
   "source": [
    "## Topic Model"
   ]
  },
  {
   "cell_type": "code",
   "execution_count": 426,
   "metadata": {
    "collapsed": false
   },
   "outputs": [],
   "source": [
    "import gensim\n",
    "import string\n",
    "import requests"
   ]
  },
  {
   "cell_type": "code",
   "execution_count": 427,
   "metadata": {
    "collapsed": true
   },
   "outputs": [],
   "source": [
    "resp = requests.get('http://www.textfixer.com/resources/common-english-words.txt')"
   ]
  },
  {
   "cell_type": "code",
   "execution_count": 428,
   "metadata": {
    "collapsed": true
   },
   "outputs": [],
   "source": [
    "resp.raise_for_status()"
   ]
  },
  {
   "cell_type": "code",
   "execution_count": 429,
   "metadata": {
    "collapsed": false
   },
   "outputs": [],
   "source": [
    "stoplist = set(resp.text.split(','))\n",
    "punct = '\"\\'#$%&\\'()*+,-./:;<=>?@[\\\\]^_`{|}~' + string.whitespace"
   ]
  },
  {
   "cell_type": "code",
   "execution_count": 430,
   "metadata": {
    "collapsed": true
   },
   "outputs": [],
   "source": [
    "texts = hinder.apply(lambda q: [word.strip(punct) for word in q.lower().split() \n",
    "                                if word.strip(punct) not in stoplist and len(word.strip(punct))])"
   ]
  },
  {
   "cell_type": "code",
   "execution_count": 431,
   "metadata": {
    "collapsed": false
   },
   "outputs": [],
   "source": [
    "all_tokens = pd.Series(texts.sum())"
   ]
  },
  {
   "cell_type": "code",
   "execution_count": 432,
   "metadata": {
    "collapsed": true
   },
   "outputs": [],
   "source": [
    "tokens_once = all_tokens.value_counts()[all_tokens.value_counts() == 1]"
   ]
  },
  {
   "cell_type": "code",
   "execution_count": 433,
   "metadata": {
    "collapsed": true
   },
   "outputs": [],
   "source": [
    "texts = texts.apply(lambda q: [word for word in q if word not in tokens_once])"
   ]
  },
  {
   "cell_type": "code",
   "execution_count": 434,
   "metadata": {
    "collapsed": true
   },
   "outputs": [],
   "source": [
    "dictionary = gensim.corpora.Dictionary(texts)"
   ]
  },
  {
   "cell_type": "code",
   "execution_count": 435,
   "metadata": {
    "collapsed": true
   },
   "outputs": [],
   "source": [
    "corpus = texts.apply(lambda q: dictionary.doc2bow(q))"
   ]
  },
  {
   "cell_type": "code",
   "execution_count": 436,
   "metadata": {
    "collapsed": true
   },
   "outputs": [],
   "source": [
    "tfidf = gensim.models.TfidfModel(corpus)"
   ]
  },
  {
   "cell_type": "code",
   "execution_count": 437,
   "metadata": {
    "collapsed": true
   },
   "outputs": [],
   "source": [
    "corpus_tfidf = tfidf[corpus]"
   ]
  },
  {
   "cell_type": "code",
   "execution_count": 438,
   "metadata": {
    "collapsed": true
   },
   "outputs": [],
   "source": [
    "import sklearn.datasets\n",
    "import sklearn.metrics as metrics\n",
    "from sklearn.cluster import KMeans\n",
    "from gensim.matutils import corpus2csc"
   ]
  },
  {
   "cell_type": "code",
   "execution_count": 561,
   "metadata": {
    "collapsed": true
   },
   "outputs": [],
   "source": [
    "# set the number of clusters, must be >=1\n",
    "topics_n = 4\n",
    "clusters_n = 10\n",
    "inertia = [np.NaN]"
   ]
  },
  {
   "cell_type": "code",
   "execution_count": 562,
   "metadata": {
    "collapsed": false
   },
   "outputs": [
    {
     "name": "stdout",
     "output_type": "stream",
     "text": [
      "k = 1, inertia= 36.257972\n",
      "k = 2, inertia= 22.535551\n",
      "k = 3, inertia= 16.513271\n",
      "k = 4, inertia= 12.283841\n",
      "k = 5, inertia= 10.121559\n",
      "k = 6, inertia= 8.343615\n",
      "k = 7, inertia= 7.076387\n",
      "k = 8, inertia= 6.097018\n",
      "k = 9, inertia= 5.422745\n",
      "k = 10, inertia= 4.911326\n"
     ]
    }
   ],
   "source": [
    "# perform k-means clustering over i=0...k\n",
    "for k in range(1,clusters_n+1):\n",
    "    lsi = gensim.models.LsiModel(corpus_tfidf, id2word=dictionary, num_topics=topics_n)\n",
    "    corpus_lsi = lsi[corpus_tfidf]\n",
    "    X = corpus2csc(corpus_lsi).transpose()\n",
    "    k_means = KMeans(n_clusters=k)\n",
    "    k_means.fit(X)\n",
    "    print('k = %d, inertia= %f' % (k, k_means.inertia_ ))\n",
    "    inertia.append(k_means.inertia_)"
   ]
  },
  {
   "cell_type": "code",
   "execution_count": 563,
   "metadata": {
    "collapsed": true
   },
   "outputs": [],
   "source": [
    "%matplotlib inline"
   ]
  },
  {
   "cell_type": "code",
   "execution_count": 564,
   "metadata": {
    "collapsed": true
   },
   "outputs": [],
   "source": [
    "import matplotlib.pyplot as plt"
   ]
  },
  {
   "cell_type": "code",
   "execution_count": 565,
   "metadata": {
    "collapsed": false
   },
   "outputs": [
    {
     "data": {
      "image/png": "[encoded data removed]",
      "text/plain": [
       "<matplotlib.figure.Figure at 0x7f8032ee97f0>"
      ]
     },
     "metadata": {},
     "output_type": "display_data"
    }
   ],
   "source": [
    "# plot the SSE of the clusters for each value of i\n",
    "ax = plt.subplot(111)\n",
    "ax.plot(inertia, '-o')\n",
    "plt.xticks(range(clusters_n))\n",
    "plt.title(\"Inertia\")\n",
    "ax.set_ylabel('Inertia')\n",
    "ax.set_xlabel('# Clusters')\n",
    "plt.show()"
   ]
  },
  {
   "cell_type": "code",
   "execution_count": 566,
   "metadata": {
    "collapsed": false
   },
   "outputs": [
    {
     "data": {
      "text/plain": [
       "8    239\n",
       "0    182\n",
       "9     98\n",
       "2     91\n",
       "5     61\n",
       "4     39\n",
       "6     18\n",
       "3     14\n",
       "1     12\n",
       "7      9\n",
       "dtype: int64"
      ]
     },
     "execution_count": 566,
     "metadata": {},
     "output_type": "execute_result"
    }
   ],
   "source": [
    "clusters = pd.Series(k_means.labels_, index=hinder.index)\n",
    "clusters.value_counts()"
   ]
  },
  {
   "cell_type": "code",
   "execution_count": 567,
   "metadata": {
    "collapsed": false
   },
   "outputs": [],
   "source": [
    "tagged['cluster'] = clusters"
   ]
  },
  {
   "cell_type": "code",
   "execution_count": 572,
   "metadata": {
    "collapsed": false,
    "scrolled": false
   },
   "outputs": [
    {
     "data": {
      "text/html": [
       "<div>\n",
       "<table border=\"1\" class=\"dataframe\">\n",
       "  <thead>\n",
       "    <tr style=\"text-align: right;\">\n",
       "      <th></th>\n",
       "      <th>hinderances</th>\n",
       "      <th>themes</th>\n",
       "      <th>cluster</th>\n",
       "    </tr>\n",
       "  </thead>\n",
       "  <tbody>\n",
       "    <tr>\n",
       "      <th>11</th>\n",
       "      <td>Browser becomes unresponsive when I start a too intensive computation.  Poor integration with my preferred code editors (pycharm or vim).</td>\n",
       "      <td>ide,</td>\n",
       "      <td>9</td>\n",
       "    </tr>\n",
       "    <tr>\n",
       "      <th>23</th>\n",
       "      <td>IDE capabilities: debugging UI, refactorings,...</td>\n",
       "      <td>ux,ide,</td>\n",
       "      <td>9</td>\n",
       "    </tr>\n",
       "    <tr>\n",
       "      <th>27</th>\n",
       "      <td>Hub support for Windows. Better kernel reliability on Windows.</td>\n",
       "      <td>robust,</td>\n",
       "      <td>9</td>\n",
       "    </tr>\n",
       "    <tr>\n",
       "      <th>34</th>\n",
       "      <td>Lack of proper debugging tools (comparable to e.g. Eclipse IDE, Visual Studio or Matlab).</td>\n",
       "      <td>ide,language,</td>\n",
       "      <td>9</td>\n",
       "    </tr>\n",
       "    <tr>\n",
       "      <th>37</th>\n",
       "      <td>I want Jupyter to act like a normal text editor app in which I can easily open files, without the hassle of starting it from the console in the right place. Simple double click opening for all ipynbs please</td>\n",
       "      <td>ide,</td>\n",
       "      <td>9</td>\n",
       "    </tr>\n",
       "    <tr>\n",
       "      <th>52</th>\n",
       "      <td>Code editing is inferior to IDEs</td>\n",
       "      <td>ide,</td>\n",
       "      <td>9</td>\n",
       "    </tr>\n",
       "    <tr>\n",
       "      <th>93</th>\n",
       "      <td>better connections to external DBs, easier interact widgets.</td>\n",
       "      <td>connections,widgets,</td>\n",
       "      <td>9</td>\n",
       "    </tr>\n",
       "    <tr>\n",
       "      <th>123</th>\n",
       "      <td>It doesn't work well with standard version control tools because one line of code doesn't correspond to one line in the notebook file  It throws away 30 years of text editor development by replacing a real editor like vim or emacs with a HTML text area.</td>\n",
       "      <td>ide,version,</td>\n",
       "      <td>9</td>\n",
       "    </tr>\n",
       "    <tr>\n",
       "      <th>153</th>\n",
       "      <td>Support for multiple kernels (especially other languages) is super. Getting it to work is still buggy. The Conda distribution is getting better and better.</td>\n",
       "      <td>robust,setup,connections,</td>\n",
       "      <td>9</td>\n",
       "    </tr>\n",
       "    <tr>\n",
       "      <th>173</th>\n",
       "      <td>- full(er) latex support including cross references for figs, eqns, etc.  - a pure text format for version control / diffs and to allow working from text editor (I strongly dislike working in browser) - ability to output to PDF or a nice printable format - something like nbviewer but allowing execution of code (or like jupyterhub but without manual uploading) - better default styling or easier customization - better widget (animations) support</td>\n",
       "      <td>collab,ide,setup,version,</td>\n",
       "      <td>9</td>\n",
       "    </tr>\n",
       "    <tr>\n",
       "      <th>210</th>\n",
       "      <td>Lack of fully-fledged support for authoring.  Compare to the knitr / Sweave model that is fully integrated into the RStudio editor, with support for authoring publication-ready journal pdfs (code chunk options, caching, inline code blocks, tight integration with templates for LaTeX, html, html5-slideshows, etc).</td>\n",
       "      <td>collab,ide,language,</td>\n",
       "      <td>9</td>\n",
       "    </tr>\n",
       "    <tr>\n",
       "      <th>220</th>\n",
       "      <td>jupyter rocks! maybe full text search?</td>\n",
       "      <td>ux,</td>\n",
       "      <td>9</td>\n",
       "    </tr>\n",
       "    <tr>\n",
       "      <th>254</th>\n",
       "      <td>ability to script in the notebook so I don't have to have a terminal open for editing standalone code  it would be amazing if a text file could be opened and edited in a cell.  the other problem is absence of something like vim keybindings. The notebook sucks as a text editor.   If there was a vim mode w .vimrc type customization, I'd be in heaven and would likely never not code in jupyter.</td>\n",
       "      <td>ide,setup,</td>\n",
       "      <td>9</td>\n",
       "    </tr>\n",
       "    <tr>\n",
       "      <th>259</th>\n",
       "      <td>Editing files with large amounts of code is still best done in a text editor, though progress has been made on that front.</td>\n",
       "      <td>ide,</td>\n",
       "      <td>9</td>\n",
       "    </tr>\n",
       "    <tr>\n",
       "      <th>271</th>\n",
       "      <td>Missing code editor. I often find myself going back to a text editor and copy-paste code from and to jupyther</td>\n",
       "      <td>ide,</td>\n",
       "      <td>9</td>\n",
       "    </tr>\n",
       "    <tr>\n",
       "      <th>274</th>\n",
       "      <td>Primarily use R, Rstudio is better for R.</td>\n",
       "      <td>language,</td>\n",
       "      <td>9</td>\n",
       "    </tr>\n",
       "    <tr>\n",
       "      <th>275</th>\n",
       "      <td>- Difficulty in maintaining emacs-like editing capabilities</td>\n",
       "      <td>ide,</td>\n",
       "      <td>9</td>\n",
       "    </tr>\n",
       "    <tr>\n",
       "      <th>294</th>\n",
       "      <td>Installing and working with Jupyter on Windows is cumbersome. The built-in web-based text editor is not as powerful as my everyday desktop text editor.</td>\n",
       "      <td>robust,ux,ide,setup,</td>\n",
       "      <td>9</td>\n",
       "    </tr>\n",
       "    <tr>\n",
       "      <th>305</th>\n",
       "      <td>The lack of facilities for code re-use. I know there are hacks for importing between notebooks and the like but it still doesn't beat a text editor and DVCS when I want to make something that I'll import or make available on GitHub. My notebooks tend to get messy and out of order. Maybe I need to figure out a better workflow but I often feel a traditional console (i.e. qtconsole) is better (along with the aforementioned editor or IDE).</td>\n",
       "      <td>ide,version,</td>\n",
       "      <td>9</td>\n",
       "    </tr>\n",
       "    <tr>\n",
       "      <th>307</th>\n",
       "      <td>Lack of integrated collaboration. Lack of blogging platform based on notebooks.</td>\n",
       "      <td>collab,</td>\n",
       "      <td>9</td>\n",
       "    </tr>\n",
       "    <tr>\n",
       "      <th>317</th>\n",
       "      <td>Comprehensive and reliable undo Editing Notebook structure (move many cells at once) Structure editing, hiding subsections</td>\n",
       "      <td>ux,ide,</td>\n",
       "      <td>9</td>\n",
       "    </tr>\n",
       "    <tr>\n",
       "      <th>324</th>\n",
       "      <td>It'd be nice if it could be an even better format for *doing* math, not just writing it up. Not sure exactly what that'd mean, though.  \"Graduating\" notebook code to in-a-package code is also not as seamless as it might be. If the code editor part had vim bindings and other stuff that made it good enough to be a full time editor, that'd be a huge step.</td>\n",
       "      <td>ide,</td>\n",
       "      <td>9</td>\n",
       "    </tr>\n",
       "    <tr>\n",
       "      <th>331</th>\n",
       "      <td>integration with editor to get linting, multiple selections.   an inspector panel</td>\n",
       "      <td>ide,</td>\n",
       "      <td>9</td>\n",
       "    </tr>\n",
       "    <tr>\n",
       "      <th>342</th>\n",
       "      <td>Lack of 3D plotting capabilities</td>\n",
       "      <td>connections,</td>\n",
       "      <td>9</td>\n",
       "    </tr>\n",
       "    <tr>\n",
       "      <th>358</th>\n",
       "      <td>better debugging for variables</td>\n",
       "      <td>ide,</td>\n",
       "      <td>9</td>\n",
       "    </tr>\n",
       "    <tr>\n",
       "      <th>389</th>\n",
       "      <td>I do a some Django development that requires me to use Eclipse. I wish the text editor had better python coding tools like auto-complete using tab.</td>\n",
       "      <td>ide,</td>\n",
       "      <td>9</td>\n",
       "    </tr>\n",
       "    <tr>\n",
       "      <th>411</th>\n",
       "      <td>live collaboration features</td>\n",
       "      <td>collab,</td>\n",
       "      <td>9</td>\n",
       "    </tr>\n",
       "    <tr>\n",
       "      <th>412</th>\n",
       "      <td>Lack of debugger</td>\n",
       "      <td>ide,</td>\n",
       "      <td>9</td>\n",
       "    </tr>\n",
       "    <tr>\n",
       "      <th>413</th>\n",
       "      <td>- Better editor (more vim-style) - Better nbconvert (Make it easier to write paper in jupyter. Right now I can't even find out how to change the title of the resulting latex document) - Better integration with Git (automatic removal of binary blobs before commiting, Maybe allowing view of diffs within notebook)</td>\n",
       "      <td>collab,ide,version,widgets,</td>\n",
       "      <td>9</td>\n",
       "    </tr>\n",
       "    <tr>\n",
       "      <th>434</th>\n",
       "      <td>Lack of code completion</td>\n",
       "      <td>ux,</td>\n",
       "      <td>9</td>\n",
       "    </tr>\n",
       "    <tr>\n",
       "      <th>...</th>\n",
       "      <td>...</td>\n",
       "      <td>...</td>\n",
       "      <td>...</td>\n",
       "    </tr>\n",
       "    <tr>\n",
       "      <th>1279</th>\n",
       "      <td>lack of debugging tools, lack of variable views</td>\n",
       "      <td>ide,widgets,</td>\n",
       "      <td>9</td>\n",
       "    </tr>\n",
       "    <tr>\n",
       "      <th>1281</th>\n",
       "      <td>Lack of languages</td>\n",
       "      <td></td>\n",
       "      <td>9</td>\n",
       "    </tr>\n",
       "    <tr>\n",
       "      <th>1308</th>\n",
       "      <td>Lack of a find and replace feature.</td>\n",
       "      <td></td>\n",
       "      <td>9</td>\n",
       "    </tr>\n",
       "    <tr>\n",
       "      <th>1366</th>\n",
       "      <td>Lack of powerful text editing features like VIM or Emacs.  Limited kernel support (e.g. not as good as the Python one).  No multi-language notebook support.</td>\n",
       "      <td>ide,</td>\n",
       "      <td>9</td>\n",
       "    </tr>\n",
       "    <tr>\n",
       "      <th>1370</th>\n",
       "      <td>Inability to do \"git diff\" in a reasonable way  I get very frustrated with the text editor adding parentheses for me.  It never acts the way I want it to, and it's very unclear how to disable that \"feature\".  The auto-indentation is also similarly poor.   And the undo features can be buggy.</td>\n",
       "      <td>robust,ide,version,</td>\n",
       "      <td>9</td>\n",
       "    </tr>\n",
       "    <tr>\n",
       "      <th>1388</th>\n",
       "      <td>I m more productive with a text editor and a terminal</td>\n",
       "      <td>ide,</td>\n",
       "      <td>9</td>\n",
       "    </tr>\n",
       "    <tr>\n",
       "      <th>1393</th>\n",
       "      <td>Notebook format doesn't work well with git. Lack of basic code editor features like replacing text.</td>\n",
       "      <td>ide,version,</td>\n",
       "      <td>9</td>\n",
       "    </tr>\n",
       "    <tr>\n",
       "      <th>1399</th>\n",
       "      <td>Collaboration and revisioning support.</td>\n",
       "      <td>collab,</td>\n",
       "      <td>9</td>\n",
       "    </tr>\n",
       "    <tr>\n",
       "      <th>1419</th>\n",
       "      <td>Quirky text editor behaviour</td>\n",
       "      <td>ide,</td>\n",
       "      <td>9</td>\n",
       "    </tr>\n",
       "    <tr>\n",
       "      <th>1439</th>\n",
       "      <td>Better interoperability with scala ide , like intellij</td>\n",
       "      <td>ide,language,</td>\n",
       "      <td>9</td>\n",
       "    </tr>\n",
       "    <tr>\n",
       "      <th>1441</th>\n",
       "      <td>The \"editor\" option.  I do use a firefox extension that send me from the code cell to my favorite text editor, but it would be nice if Jupyter could emulate more the features we have in most test editors like spell-check.</td>\n",
       "      <td>ide,</td>\n",
       "      <td>9</td>\n",
       "    </tr>\n",
       "    <tr>\n",
       "      <th>1450</th>\n",
       "      <td>Sublime text key bindings. Debugging external python code.</td>\n",
       "      <td>ide,</td>\n",
       "      <td>9</td>\n",
       "    </tr>\n",
       "    <tr>\n",
       "      <th>1453</th>\n",
       "      <td>Better collaboration tools</td>\n",
       "      <td>collab,</td>\n",
       "      <td>9</td>\n",
       "    </tr>\n",
       "    <tr>\n",
       "      <th>1458</th>\n",
       "      <td>Better support of parallel computation.</td>\n",
       "      <td></td>\n",
       "      <td>9</td>\n",
       "    </tr>\n",
       "    <tr>\n",
       "      <th>1478</th>\n",
       "      <td>Really just lack of editing flexibililty (multiple keybinding supports). Most features I needed were recently added (multi-cell copy and paste).</td>\n",
       "      <td>ide,</td>\n",
       "      <td>9</td>\n",
       "    </tr>\n",
       "    <tr>\n",
       "      <th>1483</th>\n",
       "      <td>gui interface and power features of vim editor</td>\n",
       "      <td>ux,ide,</td>\n",
       "      <td>9</td>\n",
       "    </tr>\n",
       "    <tr>\n",
       "      <th>1487</th>\n",
       "      <td>More power to the text file editor, such: - ES6 syntax check/highlight - linting and introspection - git integration</td>\n",
       "      <td>ide,version,</td>\n",
       "      <td>9</td>\n",
       "    </tr>\n",
       "    <tr>\n",
       "      <th>1505</th>\n",
       "      <td>Vim-like editing capabilities.</td>\n",
       "      <td>ide,</td>\n",
       "      <td>9</td>\n",
       "    </tr>\n",
       "    <tr>\n",
       "      <th>1512</th>\n",
       "      <td>Ease of integration into command line tools, lack of good unit testing/CI solutions.</td>\n",
       "      <td></td>\n",
       "      <td>9</td>\n",
       "    </tr>\n",
       "    <tr>\n",
       "      <th>1525</th>\n",
       "      <td>Limited (multi) cell editing functionalities.</td>\n",
       "      <td>ide,</td>\n",
       "      <td>9</td>\n",
       "    </tr>\n",
       "    <tr>\n",
       "      <th>1542</th>\n",
       "      <td>Lack of a debugger</td>\n",
       "      <td>ide,</td>\n",
       "      <td>9</td>\n",
       "    </tr>\n",
       "    <tr>\n",
       "      <th>1558</th>\n",
       "      <td>Lack of integration integration with IDE and a more progamming intensive task, not so much exploration .   Lack of view similar to Rstudio is a problem too</td>\n",
       "      <td>ide,language,widgets,</td>\n",
       "      <td>9</td>\n",
       "    </tr>\n",
       "    <tr>\n",
       "      <th>1579</th>\n",
       "      <td>Text editing capabilities within the notebook cells is very limited. I am currently following these projects in the hopes of a viable workaround: https://github.com/jupyter/atom-notebook https://github.com/Cacodaimon/GhostText-for-Atom</td>\n",
       "      <td>ide,version,</td>\n",
       "      <td>9</td>\n",
       "    </tr>\n",
       "    <tr>\n",
       "      <th>1583</th>\n",
       "      <td>lack of debug support when writing huge pieces of code such as loops, functions...</td>\n",
       "      <td>ide,</td>\n",
       "      <td>9</td>\n",
       "    </tr>\n",
       "    <tr>\n",
       "      <th>1603</th>\n",
       "      <td>Text editing capabilities within the notebook cells is very limited. I am currently following these projects in the hopes of a viable workaround: https://github.com/jupyter/atom-notebook https://github.com/Cacodaimon/GhostText-for-Atom</td>\n",
       "      <td>ide,version,</td>\n",
       "      <td>9</td>\n",
       "    </tr>\n",
       "    <tr>\n",
       "      <th>1623</th>\n",
       "      <td>Better editor in browser; better dashboard ---need to have a real file/folder manager; multi-file notebooks (to contain related files); better pdb (command completion, history)</td>\n",
       "      <td>collab,ux,ide,</td>\n",
       "      <td>9</td>\n",
       "    </tr>\n",
       "    <tr>\n",
       "      <th>1637</th>\n",
       "      <td>Text editing. I often fall back to other options like Sublime Text, wishing that Jupyter had some of that functionality.</td>\n",
       "      <td>ide,</td>\n",
       "      <td>9</td>\n",
       "    </tr>\n",
       "    <tr>\n",
       "      <th>1641</th>\n",
       "      <td>-Would like to have a code editor and terminal in the same window as the notebook cells</td>\n",
       "      <td>ide,</td>\n",
       "      <td>9</td>\n",
       "    </tr>\n",
       "    <tr>\n",
       "      <th>1672</th>\n",
       "      <td>Crappy editing experience. After being used to working exclusively in Vim/Emacs, developing in a text area in a browser just doesn't feel right.</td>\n",
       "      <td>ux,ide,</td>\n",
       "      <td>9</td>\n",
       "    </tr>\n",
       "    <tr>\n",
       "      <th>1702</th>\n",
       "      <td>Single window of browser Lack of integration with github Lots of my work borders on BI, for which BI tools are really better suited, e.g. drill down into datasets</td>\n",
       "      <td>version,</td>\n",
       "      <td>9</td>\n",
       "    </tr>\n",
       "  </tbody>\n",
       "</table>\n",
       "<p>98 rows × 3 columns</p>\n",
       "</div>"
      ],
      "text/plain": [
       "                                                                                                                                                                                                                                                                                                                                                                                                                                                          hinderances  \\\n",
       "11                                                                                                                                                                                                                                                                                                                        Browser becomes unresponsive when I start a too intensive computation.  Poor integration with my preferred code editors (pycharm or vim).     \n",
       "23                                                                                                                                                                                                                                                                                                                                                                                                                   IDE capabilities: debugging UI, refactorings,...   \n",
       "27                                                                                                                                                                                                                                                                                                                                                                                                     Hub support for Windows. Better kernel reliability on Windows.   \n",
       "34                                                                                                                                                                                                                                                                                                                                                                          Lack of proper debugging tools (comparable to e.g. Eclipse IDE, Visual Studio or Matlab).   \n",
       "37                                                                                                                                                                                                                                                    I want Jupyter to act like a normal text editor app in which I can easily open files, without the hassle of starting it from the console in the right place. Simple double click opening for all ipynbs please    \n",
       "52                                                                                                                                                                                                                                                                                                                                                                                                                                   Code editing is inferior to IDEs   \n",
       "93                                                                                                                                                                                                                                                                                                                                                                                                       better connections to external DBs, easier interact widgets.   \n",
       "123                                                                                                                                                                                                     It doesn't work well with standard version control tools because one line of code doesn't correspond to one line in the notebook file  It throws away 30 years of text editor development by replacing a real editor like vim or emacs with a HTML text area.   \n",
       "153                                                                                                                                                                                                                                                                                                       Support for multiple kernels (especially other languages) is super. Getting it to work is still buggy. The Conda distribution is getting better and better.   \n",
       "173   - full(er) latex support including cross references for figs, eqns, etc.  - a pure text format for version control / diffs and to allow working from text editor (I strongly dislike working in browser) - ability to output to PDF or a nice printable format - something like nbviewer but allowing execution of code (or like jupyterhub but without manual uploading) - better default styling or easier customization - better widget (animations) support   \n",
       "210                                                                                                                                       Lack of fully-fledged support for authoring.  Compare to the knitr / Sweave model that is fully integrated into the RStudio editor, with support for authoring publication-ready journal pdfs (code chunk options, caching, inline code blocks, tight integration with templates for LaTeX, html, html5-slideshows, etc).     \n",
       "220                                                                                                                                                                                                                                                                                                                                                                                                                            jupyter rocks! maybe full text search?   \n",
       "254                                                         ability to script in the notebook so I don't have to have a terminal open for editing standalone code  it would be amazing if a text file could be opened and edited in a cell.  the other problem is absence of something like vim keybindings. The notebook sucks as a text editor.   If there was a vim mode w .vimrc type customization, I'd be in heaven and would likely never not code in jupyter.   \n",
       "259                                                                                                                                                                                                                                                                                                                                        Editing files with large amounts of code is still best done in a text editor, though progress has been made on that front.   \n",
       "271                                                                                                                                                                                                                                                                                                                                                     Missing code editor. I often find myself going back to a text editor and copy-paste code from and to jupyther   \n",
       "274                                                                                                                                                                                                                                                                                                                                                                                                                         Primarily use R, Rstudio is better for R.   \n",
       "275                                                                                                                                                                                                                                                                                                                                                                                                     - Difficulty in maintaining emacs-like editing capabilities     \n",
       "294                                                                                                                                                                                                                                                                                                          Installing and working with Jupyter on Windows is cumbersome. The built-in web-based text editor is not as powerful as my everyday desktop text editor.    \n",
       "305           The lack of facilities for code re-use. I know there are hacks for importing between notebooks and the like but it still doesn't beat a text editor and DVCS when I want to make something that I'll import or make available on GitHub. My notebooks tend to get messy and out of order. Maybe I need to figure out a better workflow but I often feel a traditional console (i.e. qtconsole) is better (along with the aforementioned editor or IDE).   \n",
       "307                                                                                                                                                                                                                                                                                                                                                                                   Lack of integrated collaboration. Lack of blogging platform based on notebooks.   \n",
       "317                                                                                                                                                                                                                                                                                                                                        Comprehensive and reliable undo Editing Notebook structure (move many cells at once) Structure editing, hiding subsections   \n",
       "324                                                                                                It'd be nice if it could be an even better format for *doing* math, not just writing it up. Not sure exactly what that'd mean, though.  \"Graduating\" notebook code to in-a-package code is also not as seamless as it might be. If the code editor part had vim bindings and other stuff that made it good enough to be a full time editor, that'd be a huge step.   \n",
       "331                                                                                                                                                                                                                                                                                                                                                                                 integration with editor to get linting, multiple selections.   an inspector panel   \n",
       "342                                                                                                                                                                                                                                                                                                                                                                                                                                 Lack of 3D plotting capabilities    \n",
       "358                                                                                                                                                                                                                                                                                                                                                                                                                                    better debugging for variables   \n",
       "389                                                                                                                                                                                                                                                                                                               I do a some Django development that requires me to use Eclipse. I wish the text editor had better python coding tools like auto-complete using tab.   \n",
       "411                                                                                                                                                                                                                                                                                                                                                                                                                                       live collaboration features   \n",
       "412                                                                                                                                                                                                                                                                                                                                                                                                                                                  Lack of debugger   \n",
       "413                                                                                                                                          - Better editor (more vim-style) - Better nbconvert (Make it easier to write paper in jupyter. Right now I can't even find out how to change the title of the resulting latex document) - Better integration with Git (automatic removal of binary blobs before commiting, Maybe allowing view of diffs within notebook)   \n",
       "434                                                                                                                                                                                                                                                                                                                                                                                                                                           Lack of code completion   \n",
       "...                                                                                                                                                                                                                                                                                                                                                                                                                                                               ...   \n",
       "1279                                                                                                                                                                                                                                                                                                                                                                                                                  lack of debugging tools, lack of variable views   \n",
       "1281                                                                                                                                                                                                                                                                                                                                                                                                                                               Lack of languages    \n",
       "1308                                                                                                                                                                                                                                                                                                                                                                                                                              Lack of a find and replace feature.   \n",
       "1366                                                                                                                                                                                                                                                                                                     Lack of powerful text editing features like VIM or Emacs.  Limited kernel support (e.g. not as good as the Python one).  No multi-language notebook support.   \n",
       "1370                                                                                                                                                              Inability to do \"git diff\" in a reasonable way  I get very frustrated with the text editor adding parentheses for me.  It never acts the way I want it to, and it's very unclear how to disable that \"feature\".  The auto-indentation is also similarly poor.   And the undo features can be buggy.   \n",
       "1388                                                                                                                                                                                                                                                                                                                                                                                                            I m more productive with a text editor and a terminal   \n",
       "1393                                                                                                                                                                                                                                                                                                                                                              Notebook format doesn't work well with git. Lack of basic code editor features like replacing text.   \n",
       "1399                                                                                                                                                                                                                                                                                                                                                                                                                           Collaboration and revisioning support.   \n",
       "1419                                                                                                                                                                                                                                                                                                                                                                                                                                     Quirky text editor behaviour   \n",
       "1439                                                                                                                                                                                                                                                                                                                                                                                                           Better interoperability with scala ide , like intellij   \n",
       "1441                                                                                                                                                                                                                                    The \"editor\" option.  I do use a firefox extension that send me from the code cell to my favorite text editor, but it would be nice if Jupyter could emulate more the features we have in most test editors like spell-check.   \n",
       "1450                                                                                                                                                                                                                                                                                                                                                                                                       Sublime text key bindings. Debugging external python code.   \n",
       "1453                                                                                                                                                                                                                                                                                                                                                                                                                                       Better collaboration tools   \n",
       "1458                                                                                                                                                                                                                                                                                                                                                                                                                          Better support of parallel computation.   \n",
       "1478                                                                                                                                                                                                                                                                                                                Really just lack of editing flexibililty (multiple keybinding supports). Most features I needed were recently added (multi-cell copy and paste).    \n",
       "1483                                                                                                                                                                                                                                                                                                                                                                                                                   gui interface and power features of vim editor   \n",
       "1487                                                                                                                                                                                                                                                                                                                                             More power to the text file editor, such: - ES6 syntax check/highlight - linting and introspection - git integration   \n",
       "1505                                                                                                                                                                                                                                                                                                                                                                                                                                   Vim-like editing capabilities.   \n",
       "1512                                                                                                                                                                                                                                                                                                                                                                            Ease of integration into command line tools, lack of good unit testing/CI solutions.    \n",
       "1525                                                                                                                                                                                                                                                                                                                                                                                                                    Limited (multi) cell editing functionalities.   \n",
       "1542                                                                                                                                                                                                                                                                                                                                                                                                                                               Lack of a debugger   \n",
       "1558                                                                                                                                                                                                                                                                                                      Lack of integration integration with IDE and a more progamming intensive task, not so much exploration .   Lack of view similar to Rstudio is a problem too   \n",
       "1579                                                                                                                                                                                                                      Text editing capabilities within the notebook cells is very limited. I am currently following these projects in the hopes of a viable workaround: https://github.com/jupyter/atom-notebook https://github.com/Cacodaimon/GhostText-for-Atom   \n",
       "1583                                                                                                                                                                                                                                                                                                                                                                               lack of debug support when writing huge pieces of code such as loops, functions...   \n",
       "1603                                                                                                                                                                                                                      Text editing capabilities within the notebook cells is very limited. I am currently following these projects in the hopes of a viable workaround: https://github.com/jupyter/atom-notebook https://github.com/Cacodaimon/GhostText-for-Atom   \n",
       "1623                                                                                                                                                                                                                                                                                 Better editor in browser; better dashboard ---need to have a real file/folder manager; multi-file notebooks (to contain related files); better pdb (command completion, history)   \n",
       "1637                                                                                                                                                                                                                                                                                                                                         Text editing. I often fall back to other options like Sublime Text, wishing that Jupyter had some of that functionality.   \n",
       "1641                                                                                                                                                                                                                                                                                                                                                                          -Would like to have a code editor and terminal in the same window as the notebook cells   \n",
       "1672                                                                                                                                                                                                                                                                                                                 Crappy editing experience. After being used to working exclusively in Vim/Emacs, developing in a text area in a browser just doesn't feel right.   \n",
       "1702                                                                                                                                                                                                                                                                                              Single window of browser Lack of integration with github Lots of my work borders on BI, for which BI tools are really better suited, e.g. drill down into datasets    \n",
       "\n",
       "                           themes  cluster  \n",
       "11                           ide,        9  \n",
       "23                        ux,ide,        9  \n",
       "27                        robust,        9  \n",
       "34                  ide,language,        9  \n",
       "37                           ide,        9  \n",
       "52                           ide,        9  \n",
       "93           connections,widgets,        9  \n",
       "123                  ide,version,        9  \n",
       "153     robust,setup,connections,        9  \n",
       "173     collab,ide,setup,version,        9  \n",
       "210          collab,ide,language,        9  \n",
       "220                           ux,        9  \n",
       "254                    ide,setup,        9  \n",
       "259                          ide,        9  \n",
       "271                          ide,        9  \n",
       "274                     language,        9  \n",
       "275                          ide,        9  \n",
       "294          robust,ux,ide,setup,        9  \n",
       "305                  ide,version,        9  \n",
       "307                       collab,        9  \n",
       "317                       ux,ide,        9  \n",
       "324                          ide,        9  \n",
       "331                          ide,        9  \n",
       "342                  connections,        9  \n",
       "358                          ide,        9  \n",
       "389                          ide,        9  \n",
       "411                       collab,        9  \n",
       "412                          ide,        9  \n",
       "413   collab,ide,version,widgets,        9  \n",
       "434                           ux,        9  \n",
       "...                           ...      ...  \n",
       "1279                 ide,widgets,        9  \n",
       "1281                                     9  \n",
       "1308                                     9  \n",
       "1366                         ide,        9  \n",
       "1370          robust,ide,version,        9  \n",
       "1388                         ide,        9  \n",
       "1393                 ide,version,        9  \n",
       "1399                      collab,        9  \n",
       "1419                         ide,        9  \n",
       "1439                ide,language,        9  \n",
       "1441                         ide,        9  \n",
       "1450                         ide,        9  \n",
       "1453                      collab,        9  \n",
       "1458                                     9  \n",
       "1478                         ide,        9  \n",
       "1483                      ux,ide,        9  \n",
       "1487                 ide,version,        9  \n",
       "1505                         ide,        9  \n",
       "1512                                     9  \n",
       "1525                         ide,        9  \n",
       "1542                         ide,        9  \n",
       "1558        ide,language,widgets,        9  \n",
       "1579                 ide,version,        9  \n",
       "1583                         ide,        9  \n",
       "1603                 ide,version,        9  \n",
       "1623               collab,ux,ide,        9  \n",
       "1637                         ide,        9  \n",
       "1641                         ide,        9  \n",
       "1672                      ux,ide,        9  \n",
       "1702                     version,        9  \n",
       "\n",
       "[98 rows x 3 columns]"
      ]
     },
     "execution_count": 572,
     "metadata": {},
     "output_type": "execute_result"
    }
   ],
   "source": [
    "tagged[tagged.cluster == 9]"
   ]
  },
  {
   "cell_type": "code",
   "execution_count": null,
   "metadata": {
    "collapsed": true
   },
   "outputs": [],
   "source": []
  }
 ],
 "metadata": {
  "kernelspec": {
   "display_name": "Python 3",
   "language": "python",
   "name": "python3"
  },
  "language_info": {
   "codemirror_mode": {
    "name": "ipython",
    "version": 3
   },
   "file_extension": ".py",
   "mimetype": "text/x-python",
   "name": "python",
   "nbconvert_exporter": "python",
   "pygments_lexer": "ipython3",
   "version": "3.4.4"
  }
 },
 "nbformat": 4,
 "nbformat_minor": 0
}
