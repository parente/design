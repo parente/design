{
 "cells": [
  {
   "cell_type": "markdown",
   "metadata": {},
   "source": [
    "# Response Themes for \"What, if anything, hinders you from making Jupyter Notebook an even more regular part of your workflow?\"\n",
    "\n",
    "* Goal: Extract theme keywords from `hinderances`, `integrations`, `workflow_needs_addressed`, `workflow_needs_not_addressed` responses.\n",
    "* Data: Output from 2_clean_survey.ipynb notebook (`survey_short_columns.csv`)\n",
    "* Process from [1_ux_survey_review.ipynb](1_ux_survey_review.ipynb):\n",
    "\n",
    "> Moving forward, here's a semi-automatic procedure we can follow for identifying themes across questions:\n",
    "> 1. Take a random sample of question responses\n",
    "> 2. Write down common theme keywords\n",
    "> 3. Search back through the responses using the theme keywords\n",
    "> 4. Expand the set of keywords with other words seen in the search results\n",
    "> 5. Repeat for all themes and questions\n",
    "> Later, we can use a fully automated topic modeling approach to validate our manually generated themes."
   ]
  },
  {
   "cell_type": "code",
   "execution_count": 3,
   "metadata": {
    "collapsed": false
   },
   "outputs": [],
   "source": [
    "%matplotlib inline"
   ]
  },
  {
   "cell_type": "code",
   "execution_count": 4,
   "metadata": {
    "collapsed": true
   },
   "outputs": [],
   "source": [
    "import pandas as pd\n",
    "import numpy as np"
   ]
  },
  {
   "cell_type": "markdown",
   "metadata": {},
   "source": [
    "Make sure the samples come up the same for anyone that re-runs this."
   ]
  },
  {
   "cell_type": "code",
   "execution_count": 5,
   "metadata": {
    "collapsed": false
   },
   "outputs": [],
   "source": [
    "rs = np.random.RandomState(123)"
   ]
  },
  {
   "cell_type": "code",
   "execution_count": 6,
   "metadata": {
    "collapsed": true
   },
   "outputs": [],
   "source": [
    "pd.set_option('max_colwidth', 1000)"
   ]
  },
  {
   "cell_type": "code",
   "execution_count": 7,
   "metadata": {
    "collapsed": true
   },
   "outputs": [],
   "source": [
    "df = pd.read_csv('survey_short_columns.csv')"
   ]
  },
  {
   "cell_type": "code",
   "execution_count": 8,
   "metadata": {
    "collapsed": true
   },
   "outputs": [],
   "source": [
    "def show(series):\n",
    "    '''Make random samples easier to read.'''\n",
    "    for i, value in enumerate(series):\n",
    "        print('{}) {}'.format(i, value), end='\\n\\n')"
   ]
  },
  {
   "cell_type": "code",
   "execution_count": 9,
   "metadata": {
    "collapsed": true
   },
   "outputs": [],
   "source": [
    "hinder = df.hinderances"
   ]
  },
  {
   "cell_type": "code",
   "execution_count": 10,
   "metadata": {
    "collapsed": false
   },
   "outputs": [
    {
     "data": {
      "text/plain": [
       "True     943\n",
       "False    763\n",
       "Name: hinderances, dtype: int64"
      ]
     },
     "execution_count": 10,
     "metadata": {},
     "output_type": "execute_result"
    }
   ],
   "source": [
    "hinder.isnull().value_counts()"
   ]
  },
  {
   "cell_type": "code",
   "execution_count": 11,
   "metadata": {
    "collapsed": true
   },
   "outputs": [],
   "source": [
    "hinder = hinder.dropna()"
   ]
  },
  {
   "cell_type": "markdown",
   "metadata": {},
   "source": [
    "## Initial Samples\n",
    "\n",
    "I ran the sampling code below 6 times and manually built up the initial set of keywords seen commonly across them. I formed groups of conceptually related keywords. Then I tried to assign a simple label to each group."
   ]
  },
  {
   "cell_type": "code",
   "execution_count": 12,
   "metadata": {
    "collapsed": false,
    "scrolled": false
   },
   "outputs": [
    {
     "name": "stdout",
     "output_type": "stream",
     "text": [
      "0) Jupyter Notebook \"Windows 7+\" experience is inferior to Linux one\n",
      "\n",
      "1) Integration with text editor \n",
      "\n",
      "2) Version control (and, which is related, collaborative version control).\n",
      "\n",
      "3) Doesn't seem to fit with building a large project, prefer IDE\n",
      "\n",
      "4) remembering how to get it setup\n",
      "\n",
      "5) better connections to external DBs, easier interact widgets.\n",
      "\n",
      "6) Primarily use R, Rstudio is better for R.\n",
      "\n",
      "7) * a \"clear and run all\" button to get rid of variable persistence (possible with Kernel > Clear all then run but that's more clicks) * a IPython notebook .app -- it'd be really nice to double click on a notebook and have it open\n",
      "\n",
      "8) School assignments\n",
      "\n",
      "9) In ML, I have a cell output the loss at each epoch or few thousand iterations. This makes the output really long and to go between cells I have to scroll a lot to get past the wall of text I made.\n",
      "\n",
      "10) The notebook workflows are very linear, doing experiments is difficult. Also some source control/diff tool would be really nice.\n",
      "\n",
      "11) - Better editor (more vim-style) - Better nbconvert (Make it easier to write paper in jupyter. Right now I can't even find out how to change the title of the resulting latex document) - Better integration with Git (automatic removal of binary blobs before commiting, Maybe allowing view of diffs within notebook)\n",
      "\n",
      "12) Installation is hard, so it's hard to spread the gospel.\n",
      "\n",
      "13) * non-triviality of sharing of notebooks * exchange, synergy between JupyterHub/server-based versus local/single-user installation * sparse documentation on more advanced features (extensions, configuration, ...)\n",
      "\n",
      "14) Lack of integrated collaboration. Lack of blogging platform based on notebooks.\n",
      "\n",
      "15) Python: difficulty reloading when writing modules Other languages: Stability of other kernels generic: editor clumsiness / browser shortcut conflicts\n",
      "\n",
      "16) Shortcut bindings. I'm most productive in vim, the shortcuts in the notebook just don't feel as fluid. Probably isn't a problem that's solvable, but someone might have a nice solution.\n",
      "\n",
      "17) Lack of ease in publishing work (e.g. generating PDF without code blocks)\n",
      "\n",
      "18) Full undo history, export options\n",
      "\n",
      "19) Number one complaint I have had is the lack of find and replace, autocomplete, and other text-editor style tools. I understand this may not really be the point of jupyter nootbooks, but I find myself cutting code, pasting to a text editor, and pasting back in all the time. In my limited experience (could easily be wrong about this), it doesn't have great integration with virtualenv, so it's a bit of a headache to switch from one env to another and reconfigure jupyter. On the nitpick side, translation of magic commands to equivalent python commands would be amazing when exporting to a .py file. \n",
      "\n"
     ]
    }
   ],
   "source": [
    "show(hinder.sample(20, random_state=rs))"
   ]
  },
  {
   "cell_type": "code",
   "execution_count": 13,
   "metadata": {
    "collapsed": true
   },
   "outputs": [],
   "source": [
    "themes = {\n",
    "    'version' : ['version control', 'diff', 'source control', 'git'],\n",
    "    'ide' : ['text editor', 'ide', 'vim', 'emacs', 'editing', 'key binding', 'key mapping', 'keyboard', 'shortcuts', 'debug', 'programming'],\n",
    "    'setup' : ['setup', 'desktop', 'install', 'documentation', 'kernels', 'customization'],\n",
    "    'widgets' : ['widgets', 'view', 'interact', 'dataframes'],\n",
    "    'connections' : ['connections', 'db'],\n",
    "    'language': ['rstudio', 'clojure', 'scala', 'c#'],\n",
    "    'ux' : ['ui', 'design', 'linear', 'search', 'theme', 'collapse', 'organization', 'proliferation', 'cut', 'merge', 'completion', 'aesthetic'],\n",
    "    'collab' : ['sharing', 'collaboration', 'publication', 'export', 'deploy', 'authoring', 'dashboard', 'cron', 'module', 'reuse', 'latex', 'slides'],\n",
    "    'robust' : ['stability', 'crash', 'reload', 'bug', 'reliability', 'windows', 'ipad', 'slow', 'performance']\n",
    "}"
   ]
  },
  {
   "cell_type": "markdown",
   "metadata": {},
   "source": [
    "## Coverage Improvement\n",
    "\n",
    "I next ran the code below to associate the theme labels with the responses. I then iterated on running the code below to find reponses without labels. I expanded the list of keywords and themes in order to improve coverage."
   ]
  },
  {
   "cell_type": "code",
   "execution_count": 14,
   "metadata": {
    "collapsed": true
   },
   "outputs": [],
   "source": [
    "import re"
   ]
  },
  {
   "cell_type": "code",
   "execution_count": 15,
   "metadata": {
    "collapsed": true
   },
   "outputs": [],
   "source": [
    "def keywords_or(text, keywords):\n",
    "    for keyword in keywords:\n",
    "        if re.search('(^|\\W+){}'.format(keyword), text, re.IGNORECASE):\n",
    "            return True\n",
    "    return False"
   ]
  },
  {
   "cell_type": "code",
   "execution_count": 16,
   "metadata": {
    "collapsed": false
   },
   "outputs": [],
   "source": [
    "def tag_themes(responses, themes):\n",
    "    tagged = hinder.to_frame()\n",
    "    tagged['themes'] = ''\n",
    "    for theme, keywords in themes.items():\n",
    "        results = hinder.map(lambda text: keywords_or(text, keywords))\n",
    "        tagged.loc[results, 'themes'] += theme + ','\n",
    "        print(theme, results.sum())\n",
    "    return tagged"
   ]
  },
  {
   "cell_type": "code",
   "execution_count": 17,
   "metadata": {
    "collapsed": false
   },
   "outputs": [
    {
     "name": "stdout",
     "output_type": "stream",
     "text": [
      "ux 70\n",
      "collab 107\n",
      "robust 44\n",
      "ide 197\n",
      "version 139\n",
      "connections 2\n",
      "widgets 52\n",
      "language 22\n",
      "setup 84\n"
     ]
    },
    {
     "data": {
      "text/plain": [
       "0    302\n",
       "1    277\n",
       "2    128\n",
       "3     40\n",
       "4     16\n",
       "Name: themes, dtype: int64"
      ]
     },
     "execution_count": 17,
     "metadata": {},
     "output_type": "execute_result"
    }
   ],
   "source": [
    "tagged = tag_themes(hinder, themes)\n",
    "tagged.themes.str.count(',').value_counts()"
   ]
  },
  {
   "cell_type": "code",
   "execution_count": 18,
   "metadata": {
    "collapsed": false
   },
   "outputs": [
    {
     "data": {
      "text/html": [
       "<div>\n",
       "<table border=\"1\" class=\"dataframe\">\n",
       "  <thead>\n",
       "    <tr style=\"text-align: right;\">\n",
       "      <th></th>\n",
       "      <th>hinderances</th>\n",
       "      <th>themes</th>\n",
       "    </tr>\n",
       "  </thead>\n",
       "  <tbody>\n",
       "    <tr>\n",
       "      <th>1218</th>\n",
       "      <td>It's good for writing up results, but I find it awkward for messing around.</td>\n",
       "      <td></td>\n",
       "    </tr>\n",
       "    <tr>\n",
       "      <th>1162</th>\n",
       "      <td>No find and replace functionality!</td>\n",
       "      <td></td>\n",
       "    </tr>\n",
       "    <tr>\n",
       "      <th>556</th>\n",
       "      <td>I use Spark in my day job, it would be awesome to have a Notebook manage jobs on a cluster. This may be possible, but it's easy-enough (or widely-used enough) to have become a part of my work.</td>\n",
       "      <td></td>\n",
       "    </tr>\n",
       "    <tr>\n",
       "      <th>430</th>\n",
       "      <td>easy ruby support</td>\n",
       "      <td></td>\n",
       "    </tr>\n",
       "    <tr>\n",
       "      <th>1122</th>\n",
       "      <td>Availability from Ubuntu repositories</td>\n",
       "      <td></td>\n",
       "    </tr>\n",
       "    <tr>\n",
       "      <th>10</th>\n",
       "      <td>Don't use it to teach all of my courses (yet).</td>\n",
       "      <td></td>\n",
       "    </tr>\n",
       "    <tr>\n",
       "      <th>468</th>\n",
       "      <td>Convincing colleagues</td>\n",
       "      <td></td>\n",
       "    </tr>\n",
       "    <tr>\n",
       "      <th>816</th>\n",
       "      <td>Hard to keep track of large number of notebooks that need to be regular updated, or that are used to run commands.</td>\n",
       "      <td></td>\n",
       "    </tr>\n",
       "    <tr>\n",
       "      <th>1474</th>\n",
       "      <td>Lack of proper equation numbering and referencing  (same for table of contents etc).</td>\n",
       "      <td></td>\n",
       "    </tr>\n",
       "    <tr>\n",
       "      <th>1164</th>\n",
       "      <td>Nothing. My entire workflow happens in Jupyter.</td>\n",
       "      <td></td>\n",
       "    </tr>\n",
       "    <tr>\n",
       "      <th>1029</th>\n",
       "      <td>Don't understand the advantages it brings to the table compared to traditional command line workflow unless working on plots</td>\n",
       "      <td></td>\n",
       "    </tr>\n",
       "    <tr>\n",
       "      <th>702</th>\n",
       "      <td>Making reusable code with notebooks</td>\n",
       "      <td></td>\n",
       "    </tr>\n",
       "    <tr>\n",
       "      <th>1200</th>\n",
       "      <td>Relearning profile management each time.</td>\n",
       "      <td></td>\n",
       "    </tr>\n",
       "    <tr>\n",
       "      <th>1431</th>\n",
       "      <td>Make better use of my screen - too much unused space in the notebook  Multi-user support. Including collaborative tools like commenting and even versioning.  File/Notebook management. Make it easier to download files, find recently opened notebooks, etc.</td>\n",
       "      <td></td>\n",
       "    </tr>\n",
       "    <tr>\n",
       "      <th>956</th>\n",
       "      <td>Better integration with batch-based computing clusters</td>\n",
       "      <td></td>\n",
       "    </tr>\n",
       "    <tr>\n",
       "      <th>1024</th>\n",
       "      <td>Time allocated for the project using Jupyter</td>\n",
       "      <td></td>\n",
       "    </tr>\n",
       "    <tr>\n",
       "      <th>1281</th>\n",
       "      <td>Lack of languages</td>\n",
       "      <td></td>\n",
       "    </tr>\n",
       "    <tr>\n",
       "      <th>638</th>\n",
       "      <td>No line numbers. Can't click on line number in exception to highlight line number.</td>\n",
       "      <td></td>\n",
       "    </tr>\n",
       "    <tr>\n",
       "      <th>1020</th>\n",
       "      <td>Trying to make other colleagues use it.  There probably is a way of doing this, but when opening a Notebook having certain cells always precompute instead of having to run them individually.</td>\n",
       "      <td></td>\n",
       "    </tr>\n",
       "    <tr>\n",
       "      <th>49</th>\n",
       "      <td>Nothing!</td>\n",
       "      <td></td>\n",
       "    </tr>\n",
       "  </tbody>\n",
       "</table>\n",
       "</div>"
      ],
      "text/plain": [
       "                                                                                                                                                                                                                                                         hinderances  \\\n",
       "1218                                                                                                                                                                                     It's good for writing up results, but I find it awkward for messing around.   \n",
       "1162                                                                                                                                                                                                                              No find and replace functionality!   \n",
       "556                                                                 I use Spark in my day job, it would be awesome to have a Notebook manage jobs on a cluster. This may be possible, but it's easy-enough (or widely-used enough) to have become a part of my work.   \n",
       "430                                                                                                                                                                                                                                                easy ruby support   \n",
       "1122                                                                                                                                                                                                                           Availability from Ubuntu repositories   \n",
       "10                                                                                                                                                                                                                    Don't use it to teach all of my courses (yet).   \n",
       "468                                                                                                                                                                                                                                            Convincing colleagues   \n",
       "816                                                                                                                                               Hard to keep track of large number of notebooks that need to be regular updated, or that are used to run commands.   \n",
       "1474                                                                                                                                                                           Lack of proper equation numbering and referencing  (same for table of contents etc).    \n",
       "1164                                                                                                                                                                                                                Nothing. My entire workflow happens in Jupyter.    \n",
       "1029                                                                                                                                   Don't understand the advantages it brings to the table compared to traditional command line workflow unless working on plots    \n",
       "702                                                                                                                                                                                                                              Making reusable code with notebooks   \n",
       "1200                                                                                                                                                                                                                        Relearning profile management each time.   \n",
       "1431  Make better use of my screen - too much unused space in the notebook  Multi-user support. Including collaborative tools like commenting and even versioning.  File/Notebook management. Make it easier to download files, find recently opened notebooks, etc.   \n",
       "956                                                                                                                                                                                                           Better integration with batch-based computing clusters   \n",
       "1024                                                                                                                                                                                                                    Time allocated for the project using Jupyter   \n",
       "1281                                                                                                                                                                                                                                              Lack of languages    \n",
       "638                                                                                                                                                                               No line numbers. Can't click on line number in exception to highlight line number.   \n",
       "1020                                                                  Trying to make other colleagues use it.  There probably is a way of doing this, but when opening a Notebook having certain cells always precompute instead of having to run them individually.   \n",
       "49                                                                                                                                                                                                                                                          Nothing!   \n",
       "\n",
       "     themes  \n",
       "1218         \n",
       "1162         \n",
       "556          \n",
       "430          \n",
       "1122         \n",
       "10           \n",
       "468          \n",
       "816          \n",
       "1474         \n",
       "1164         \n",
       "1029         \n",
       "702          \n",
       "1200         \n",
       "1431         \n",
       "956          \n",
       "1024         \n",
       "1281         \n",
       "638          \n",
       "1020         \n",
       "49           "
      ]
     },
     "execution_count": 18,
     "metadata": {},
     "output_type": "execute_result"
    }
   ],
   "source": [
    "tagged[tagged.themes.str.len() == 0].sample(20, random_state=rs)"
   ]
  },
  {
   "cell_type": "code",
   "execution_count": 19,
   "metadata": {
    "collapsed": true
   },
   "outputs": [],
   "source": [
    "themes = {\n",
    "    'version' : ['version control', 'source control', 'git'],\n",
    "    'ide' : ['text editor', 'ide', 'vim', 'emacs', 'editing', 'editor', 'key binding', 'key mapping', 'keyboard', \n",
    "             'shortcuts', 'debug', 'programming', 'intellisense'],\n",
    "    'setup' : ['setup', 'desktop', 'install', 'documentation', 'kernels', 'customization', 'turn-key', 'hosted', \n",
    "               'server', 'cost', 'access'],\n",
    "    'widgets' : ['widgets', 'view', 'interact', 'dataframes'],\n",
    "    'connections' : ['connections', 'db', 'sas', 'd3', 'plot', 'conda', 'pentadactyl', 'spark', 'fenics'],\n",
    "    'language': ['rstudio', 'clojure', 'scala', 'c#', 'matlab', 'sql', 'perl', 'julia', 'javascript', 'haskell', \n",
    "                 'ruby', 'fortran', 'c\\+\\+', 'sage'],\n",
    "    'ux' : ['ui', 'design', 'linear', 'search', 'theme', 'collaps', 'organization', 'proliferation', 'cut', 'merge', \n",
    "            'completion', 'aesthetic', 'experience', 'interface', 'workspace', 'clutter', 'unwield', 'structure',\n",
    "            'cumbersome', 'unnatural', 'understand', 'keep track', 'navigate'],\n",
    "    'collab' : ['sharing', 'collab', 'publication', 'publish', 'export', 'deploy', 'authoring', 'dashboard', 'cron', \n",
    "                'module', 'reus', 'latex', 'slides', 'report'],\n",
    "    'robust' : ['stability', 'crash', 'reload', 'bug', 'reliability', 'windows', 'ipad', 'slow', 'performance', \n",
    "                'error', 'speed'],\n",
    "    'external' : ['legacy', 'acceptance', 'compliance', 'adoption', 'nobody', 'policy', 'inertia'],\n",
    "    'nothing': ['nothing', 'no need']\n",
    "}"
   ]
  },
  {
   "cell_type": "markdown",
   "metadata": {},
   "source": [
    "## Precision Check\n",
    "\n",
    "I then studied a sample of responses for each theme to see if there major inaccuracies in their application (e.g., string matches that are too fuzzy)."
   ]
  },
  {
   "cell_type": "code",
   "execution_count": 20,
   "metadata": {
    "collapsed": false
   },
   "outputs": [
    {
     "name": "stdout",
     "output_type": "stream",
     "text": [
      "nothing 33\n",
      "ux 130\n",
      "collab 133\n",
      "robust 51\n",
      "ide 222\n",
      "version 93\n",
      "connections 27\n",
      "widgets 52\n",
      "language 59\n",
      "setup 114\n",
      "external 11\n"
     ]
    },
    {
     "data": {
      "text/plain": [
       "1    352\n",
       "0    184\n",
       "2    141\n",
       "3     63\n",
       "4     16\n",
       "5      4\n",
       "6      3\n",
       "Name: themes, dtype: int64"
      ]
     },
     "execution_count": 20,
     "metadata": {},
     "output_type": "execute_result"
    }
   ],
   "source": [
    "tagged = tag_themes(hinder, themes)\n",
    "tagged.themes.str.count(',').value_counts()"
   ]
  },
  {
   "cell_type": "code",
   "execution_count": 21,
   "metadata": {
    "collapsed": true
   },
   "outputs": [],
   "source": [
    "from IPython.display import display, clear_output"
   ]
  },
  {
   "cell_type": "code",
   "execution_count": 22,
   "metadata": {
    "collapsed": false,
    "scrolled": false
   },
   "outputs": [
    {
     "data": {
      "text/html": [
       "<div>\n",
       "<table border=\"1\" class=\"dataframe\">\n",
       "  <thead>\n",
       "    <tr style=\"text-align: right;\">\n",
       "      <th></th>\n",
       "      <th>hinderances</th>\n",
       "      <th>themes</th>\n",
       "    </tr>\n",
       "  </thead>\n",
       "  <tbody>\n",
       "    <tr>\n",
       "      <th>1184</th>\n",
       "      <td>Nothing special</td>\n",
       "      <td>nothing,</td>\n",
       "    </tr>\n",
       "    <tr>\n",
       "      <th>1456</th>\n",
       "      <td>Nothing.</td>\n",
       "      <td>nothing,</td>\n",
       "    </tr>\n",
       "    <tr>\n",
       "      <th>613</th>\n",
       "      <td>Nothing. Too much time in meetings.</td>\n",
       "      <td>nothing,</td>\n",
       "    </tr>\n",
       "    <tr>\n",
       "      <th>176</th>\n",
       "      <td>Nothing, the ability to combine data analysis and reporting (to .pdf) in a single document is perfect.</td>\n",
       "      <td>nothing,collab,</td>\n",
       "    </tr>\n",
       "    <tr>\n",
       "      <th>1576</th>\n",
       "      <td>Nothing, really. It works great.</td>\n",
       "      <td>nothing,</td>\n",
       "    </tr>\n",
       "    <tr>\n",
       "      <th>980</th>\n",
       "      <td>Nothing. I switch between data projects where I use it and infrastructure projects where I don't.</td>\n",
       "      <td>nothing,</td>\n",
       "    </tr>\n",
       "    <tr>\n",
       "      <th>960</th>\n",
       "      <td>Nothing, I always use it for the tasks it can handle</td>\n",
       "      <td>nothing,</td>\n",
       "    </tr>\n",
       "    <tr>\n",
       "      <th>49</th>\n",
       "      <td>Nothing!</td>\n",
       "      <td>nothing,</td>\n",
       "    </tr>\n",
       "    <tr>\n",
       "      <th>54</th>\n",
       "      <td>Nothing</td>\n",
       "      <td>nothing,</td>\n",
       "    </tr>\n",
       "    <tr>\n",
       "      <th>38</th>\n",
       "      <td>nothing</td>\n",
       "      <td>nothing,</td>\n",
       "    </tr>\n",
       "  </tbody>\n",
       "</table>\n",
       "</div>"
      ],
      "text/plain": [
       "                                                                                                 hinderances  \\\n",
       "1184                                                                                         Nothing special   \n",
       "1456                                                                                                Nothing.   \n",
       "613                                                                      Nothing. Too much time in meetings.   \n",
       "176   Nothing, the ability to combine data analysis and reporting (to .pdf) in a single document is perfect.   \n",
       "1576                                                                        Nothing, really. It works great.   \n",
       "980        Nothing. I switch between data projects where I use it and infrastructure projects where I don't.   \n",
       "960                                                     Nothing, I always use it for the tasks it can handle   \n",
       "49                                                                                                  Nothing!   \n",
       "54                                                                                                  Nothing    \n",
       "38                                                                                                   nothing   \n",
       "\n",
       "               themes  \n",
       "1184         nothing,  \n",
       "1456         nothing,  \n",
       "613          nothing,  \n",
       "176   nothing,collab,  \n",
       "1576         nothing,  \n",
       "980          nothing,  \n",
       "960          nothing,  \n",
       "49           nothing,  \n",
       "54           nothing,  \n",
       "38           nothing,  "
      ]
     },
     "metadata": {},
     "output_type": "display_data"
    },
    {
     "name": "stdout",
     "output_type": "stream",
     "text": [
      "Showing `nothing`. Type Enter to continue, \"q\" to stop.q\n"
     ]
    }
   ],
   "source": [
    "for key in themes:\n",
    "    clear_output()\n",
    "    display(tagged[tagged.themes.str.contains(key)].sample(10))\n",
    "    if input('Showing `{}`. Type Enter to continue, \"q\" to stop.'.format(key)) == 'q':\n",
    "        break"
   ]
  },
  {
   "cell_type": "markdown",
   "metadata": {},
   "source": [
    "## Topic Model\n",
    "\n",
    "The manual tagging above is but one way of breaking down the responses into themes. I wanted to try another approach as validation. So I experimented with LSA and clustering to see how they would group responses."
   ]
  },
  {
   "cell_type": "code",
   "execution_count": 23,
   "metadata": {
    "collapsed": false
   },
   "outputs": [],
   "source": [
    "import gensim\n",
    "import string\n",
    "import requests"
   ]
  },
  {
   "cell_type": "code",
   "execution_count": 170,
   "metadata": {
    "collapsed": true
   },
   "outputs": [],
   "source": [
    "texts = gensim.parsing.preprocess_documents(hinder)"
   ]
  },
  {
   "cell_type": "code",
   "execution_count": 173,
   "metadata": {
    "collapsed": false
   },
   "outputs": [],
   "source": [
    "dictionary = gensim.corpora.Dictionary(texts)"
   ]
  },
  {
   "cell_type": "code",
   "execution_count": 177,
   "metadata": {
    "collapsed": true
   },
   "outputs": [],
   "source": [
    "corpus = [dictionary.doc2bow(text) for text in texts]"
   ]
  },
  {
   "cell_type": "code",
   "execution_count": 184,
   "metadata": {
    "collapsed": true
   },
   "outputs": [],
   "source": [
    "tfidf = gensim.models.TfidfModel(corpus)"
   ]
  },
  {
   "cell_type": "code",
   "execution_count": 185,
   "metadata": {
    "collapsed": true
   },
   "outputs": [],
   "source": [
    "corpus_tfidf = tfidf[corpus]"
   ]
  },
  {
   "cell_type": "code",
   "execution_count": 245,
   "metadata": {
    "collapsed": true
   },
   "outputs": [],
   "source": [
    "import sklearn.datasets\n",
    "import sklearn.metrics as metrics\n",
    "from sklearn.cluster import KMeans, DBSCAN\n",
    "from gensim.matutils import corpus2csc"
   ]
  },
  {
   "cell_type": "markdown",
   "metadata": {},
   "source": [
    "I informally experimented with the topic and cluster counts for quite some time, looking at the inertia graph and the resulting cluster sizes."
   ]
  },
  {
   "cell_type": "code",
   "execution_count": 296,
   "metadata": {
    "collapsed": true
   },
   "outputs": [],
   "source": [
    "# set the number of clusters, must be >=1\n",
    "topics_n = 10\n",
    "clusters_n = 10"
   ]
  },
  {
   "cell_type": "code",
   "execution_count": 299,
   "metadata": {
    "collapsed": true
   },
   "outputs": [],
   "source": [
    "%matplotlib inline"
   ]
  },
  {
   "cell_type": "code",
   "execution_count": 304,
   "metadata": {
    "collapsed": true
   },
   "outputs": [],
   "source": [
    "import matplotlib.pyplot as plt\n",
    "import math"
   ]
  },
  {
   "cell_type": "code",
   "execution_count": 306,
   "metadata": {
    "collapsed": false,
    "scrolled": false
   },
   "outputs": [
    {
     "data": {
      "image/png": "[encoded data removed]",
      "text/plain": [
       "<matplotlib.figure.Figure at 0x7f7df9fd8860>"
      ]
     },
     "metadata": {},
     "output_type": "display_data"
    }
   ],
   "source": [
    "fig, axes = plt.subplots(math.ceil(topics_n / 5), 5, sharex=True, sharey=True, figsize=(14, 5))\n",
    "\n",
    "for t in range(1, topics_n+1):\n",
    "    inertia = [np.NaN]\n",
    "    lsi = gensim.models.LsiModel(corpus_tfidf, id2word=dictionary, num_topics=t)\n",
    "    corpus_lsi = lsi[corpus_tfidf]\n",
    "    X = corpus2csc(corpus_lsi).transpose()\n",
    "    \n",
    "    for k in range(1,clusters_n+1):\n",
    "        k_means = KMeans(n_clusters=k)\n",
    "        k_means.fit(X)\n",
    "#         print('k = %d, inertia= %f' % (k, k_means.inertia_ ))\n",
    "        inertia.append(k_means.inertia_)\n",
    "\n",
    "    ax = axes[(t-1) // 5][(t-1) % 5]\n",
    "    ax.plot(inertia, '-o')\n",
    "    ax.set_xticks(range(clusters_n))\n",
    "    ax.set_title('t=%d' % t)\n",
    "#     ax.set_ylabel('Inertia')\n",
    "    ax.set_xlabel('# Clusters')"
   ]
  },
  {
   "cell_type": "code",
   "execution_count": 313,
   "metadata": {
    "collapsed": false
   },
   "outputs": [
    {
     "data": {
      "text/plain": [
       "KMeans(copy_x=True, init='k-means++', max_iter=300, n_clusters=10, n_init=10,\n",
       "    n_jobs=1, precompute_distances='auto', random_state=None, tol=0.0001,\n",
       "    verbose=0)"
      ]
     },
     "execution_count": 313,
     "metadata": {},
     "output_type": "execute_result"
    }
   ],
   "source": [
    "lsi = gensim.models.LsiModel(corpus_tfidf, id2word=dictionary, num_topics=4)\n",
    "corpus_lsi = lsi[corpus_tfidf]\n",
    "X = corpus2csc(corpus_lsi).transpose()\n",
    "k_means = KMeans(n_clusters=10)\n",
    "k_means.fit(X)"
   ]
  },
  {
   "cell_type": "code",
   "execution_count": 314,
   "metadata": {
    "collapsed": false
   },
   "outputs": [
    {
     "data": {
      "text/plain": [
       "1    284\n",
       "8    139\n",
       "5    128\n",
       "7     69\n",
       "3     62\n",
       "0     28\n",
       "2     20\n",
       "6     15\n",
       "9      9\n",
       "4      9\n",
       "dtype: int64"
      ]
     },
     "execution_count": 314,
     "metadata": {},
     "output_type": "execute_result"
    }
   ],
   "source": [
    "clusters = pd.Series(k_means.labels_, index=hinder.index)\n",
    "clusters.value_counts()"
   ]
  },
  {
   "cell_type": "code",
   "execution_count": 316,
   "metadata": {
    "collapsed": false
   },
   "outputs": [],
   "source": [
    "tagged['cluster'] = clusters"
   ]
  },
  {
   "cell_type": "code",
   "execution_count": 320,
   "metadata": {
    "collapsed": false,
    "scrolled": false
   },
   "outputs": [
    {
     "data": {
      "text/html": [
       "<div>\n",
       "<table border=\"1\" class=\"dataframe\">\n",
       "  <thead>\n",
       "    <tr style=\"text-align: right;\">\n",
       "      <th></th>\n",
       "      <th>hinderances</th>\n",
       "      <th>themes</th>\n",
       "      <th>cluster</th>\n",
       "    </tr>\n",
       "  </thead>\n",
       "  <tbody>\n",
       "    <tr>\n",
       "      <th>12</th>\n",
       "      <td>real time collaboration</td>\n",
       "      <td>collab,</td>\n",
       "      <td>6</td>\n",
       "    </tr>\n",
       "    <tr>\n",
       "      <th>24</th>\n",
       "      <td>working on notebooks collaboratively</td>\n",
       "      <td>collab,</td>\n",
       "      <td>6</td>\n",
       "    </tr>\n",
       "    <tr>\n",
       "      <th>31</th>\n",
       "      <td>Time.</td>\n",
       "      <td></td>\n",
       "      <td>6</td>\n",
       "    </tr>\n",
       "    <tr>\n",
       "      <th>120</th>\n",
       "      <td>I don't use Python often enough</td>\n",
       "      <td></td>\n",
       "      <td>6</td>\n",
       "    </tr>\n",
       "    <tr>\n",
       "      <th>151</th>\n",
       "      <td>I don't have the time. I don't use it at work.</td>\n",
       "      <td></td>\n",
       "      <td>6</td>\n",
       "    </tr>\n",
       "    <tr>\n",
       "      <th>250</th>\n",
       "      <td>Time!!</td>\n",
       "      <td></td>\n",
       "      <td>6</td>\n",
       "    </tr>\n",
       "    <tr>\n",
       "      <th>394</th>\n",
       "      <td>time ? No I really use it every day at work. (I can't use it much more!)</td>\n",
       "      <td></td>\n",
       "      <td>6</td>\n",
       "    </tr>\n",
       "    <tr>\n",
       "      <th>525</th>\n",
       "      <td>Most of the time I prefer working with the ipython shell directly.  I use the notebook when I intend to share with others.</td>\n",
       "      <td></td>\n",
       "      <td>6</td>\n",
       "    </tr>\n",
       "    <tr>\n",
       "      <th>669</th>\n",
       "      <td>I don't need it for work by nature. I'm using it to learn and for some side projects and I don't always have time to work on them</td>\n",
       "      <td></td>\n",
       "      <td>6</td>\n",
       "    </tr>\n",
       "    <tr>\n",
       "      <th>757</th>\n",
       "      <td>Don't always do work on the computer</td>\n",
       "      <td></td>\n",
       "      <td>6</td>\n",
       "    </tr>\n",
       "    <tr>\n",
       "      <th>808</th>\n",
       "      <td>Time</td>\n",
       "      <td></td>\n",
       "      <td>6</td>\n",
       "    </tr>\n",
       "    <tr>\n",
       "      <th>915</th>\n",
       "      <td>Don't use python at work</td>\n",
       "      <td></td>\n",
       "      <td>6</td>\n",
       "    </tr>\n",
       "    <tr>\n",
       "      <th>1090</th>\n",
       "      <td>More time to work on it</td>\n",
       "      <td></td>\n",
       "      <td>6</td>\n",
       "    </tr>\n",
       "    <tr>\n",
       "      <th>1233</th>\n",
       "      <td>Nothing. I use it all the time.</td>\n",
       "      <td>nothing,</td>\n",
       "      <td>6</td>\n",
       "    </tr>\n",
       "    <tr>\n",
       "      <th>1324</th>\n",
       "      <td>When working with large data sets, sometimes the notebook gets stuck. The only way to get out of this needs the notebook to be restarted, this way I lose the dataset loaded in memory and a lot of time is wasted in reloading the file and running the steps again. Also, I have tried to use 'Ctrl + c' which works most times but fails with large data sets several times also leading to need for a restart.</td>\n",
       "      <td>robust,</td>\n",
       "      <td>6</td>\n",
       "    </tr>\n",
       "  </tbody>\n",
       "</table>\n",
       "</div>"
      ],
      "text/plain": [
       "                                                                                                                                                                                                                                                                                                                                                                                                              hinderances  \\\n",
       "12                                                                                                                                                                                                                                                                                                                                                                                                real time collaboration   \n",
       "24                                                                                                                                                                                                                                                                                                                                                                                   working on notebooks collaboratively   \n",
       "31                                                                                                                                                                                                                                                                                                                                                                                                                  Time.   \n",
       "120                                                                                                                                                                                                                                                                                                                                                                                       I don't use Python often enough   \n",
       "151                                                                                                                                                                                                                                                                                                                                                                        I don't have the time. I don't use it at work.   \n",
       "250                                                                                                                                                                                                                                                                                                                                                                                                                Time!!   \n",
       "394                                                                                                                                                                                                                                                                                                                                              time ? No I really use it every day at work. (I can't use it much more!)   \n",
       "525                                                                                                                                                                                                                                                                                           Most of the time I prefer working with the ipython shell directly.  I use the notebook when I intend to share with others.    \n",
       "669                                                                                                                                                                                                                                                                                     I don't need it for work by nature. I'm using it to learn and for some side projects and I don't always have time to work on them   \n",
       "757                                                                                                                                                                                                                                                                                                                                                                                  Don't always do work on the computer   \n",
       "808                                                                                                                                                                                                                                                                                                                                                                                                                  Time   \n",
       "915                                                                                                                                                                                                                                                                                                                                                                                              Don't use python at work   \n",
       "1090                                                                                                                                                                                                                                                                                                                                                                                              More time to work on it   \n",
       "1233                                                                                                                                                                                                                                                                                                                                                                                     Nothing. I use it all the time.    \n",
       "1324  When working with large data sets, sometimes the notebook gets stuck. The only way to get out of this needs the notebook to be restarted, this way I lose the dataset loaded in memory and a lot of time is wasted in reloading the file and running the steps again. Also, I have tried to use 'Ctrl + c' which works most times but fails with large data sets several times also leading to need for a restart.    \n",
       "\n",
       "        themes  cluster  \n",
       "12     collab,        6  \n",
       "24     collab,        6  \n",
       "31                    6  \n",
       "120                   6  \n",
       "151                   6  \n",
       "250                   6  \n",
       "394                   6  \n",
       "525                   6  \n",
       "669                   6  \n",
       "757                   6  \n",
       "808                   6  \n",
       "915                   6  \n",
       "1090                  6  \n",
       "1233  nothing,        6  \n",
       "1324   robust,        6  "
      ]
     },
     "execution_count": 320,
     "metadata": {},
     "output_type": "execute_result"
    }
   ],
   "source": [
    "tagged[tagged.cluster == 6]"
   ]
  }
 ],
 "metadata": {
  "kernelspec": {
   "display_name": "Python 3",
   "language": "python",
   "name": "python3"
  },
  "language_info": {
   "codemirror_mode": {
    "name": "ipython",
    "version": 3
   },
   "file_extension": ".py",
   "mimetype": "text/x-python",
   "name": "python",
   "nbconvert_exporter": "python",
   "pygments_lexer": "ipython3",
   "version": "3.4.4"
  }
 },
 "nbformat": 4,
 "nbformat_minor": 0
}
