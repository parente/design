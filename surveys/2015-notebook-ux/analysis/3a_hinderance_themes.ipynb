{
 "cells": [
  {
   "cell_type": "markdown",
   "metadata": {},
   "source": [
    "# Response Themes for \"What, if anything, hinders you from making Jupyter Notebook an even more regular part of your workflow?\"\n",
    "\n",
    "* Goal: Extract theme keywords from `hinderances`, `integrations`, `workflow_needs_addressed`, `workflow_needs_not_addressed` responses.\n",
    "* Data: Output from 2_clean_survey.ipynb notebook (`survey_short_columns.csv`)\n",
    "* Process from [1_ux_survey_review.ipynb](1_ux_survey_review.ipynb):\n",
    "\n",
    "> Moving forward, here's a semi-automatic procedure we can follow for identifying themes across questions:\n",
    "> 1. Take a random sample of question responses\n",
    "> 2. Write down common theme keywords\n",
    "> 3. Search back through the responses using the theme keywords\n",
    "> 4. Expand the set of keywords with other words seen in the search results\n",
    "> 5. Repeat for all themes and questions\n",
    "> Later, we can use a fully automated topic modeling approach to validate our manually generated themes."
   ]
  },
  {
   "cell_type": "code",
   "execution_count": 1,
   "metadata": {
    "collapsed": false
   },
   "outputs": [],
   "source": [
    "%matplotlib inline"
   ]
  },
  {
   "cell_type": "code",
   "execution_count": 2,
   "metadata": {
    "collapsed": true
   },
   "outputs": [],
   "source": [
    "import pandas as pd\n",
    "import numpy as np"
   ]
  },
  {
   "cell_type": "markdown",
   "metadata": {},
   "source": [
    "Make sure the samples come up the same for anyone that re-runs this."
   ]
  },
  {
   "cell_type": "code",
   "execution_count": 3,
   "metadata": {
    "collapsed": false
   },
   "outputs": [],
   "source": [
    "rs = np.random.RandomState(123)"
   ]
  },
  {
   "cell_type": "code",
   "execution_count": 4,
   "metadata": {
    "collapsed": true
   },
   "outputs": [],
   "source": [
    "pd.set_option('max_colwidth', 1000)"
   ]
  },
  {
   "cell_type": "code",
   "execution_count": 5,
   "metadata": {
    "collapsed": true
   },
   "outputs": [],
   "source": [
    "df = pd.read_csv('survey_short_columns.csv')"
   ]
  },
  {
   "cell_type": "code",
   "execution_count": 6,
   "metadata": {
    "collapsed": true
   },
   "outputs": [],
   "source": [
    "def show(series):\n",
    "    '''Make random samples easier to read.'''\n",
    "    for i, value in enumerate(series):\n",
    "        print('{}) {}'.format(i, value), end='\\n\\n')"
   ]
  },
  {
   "cell_type": "code",
   "execution_count": 7,
   "metadata": {
    "collapsed": true
   },
   "outputs": [],
   "source": [
    "responses = df.hinderances"
   ]
  },
  {
   "cell_type": "code",
   "execution_count": 8,
   "metadata": {
    "collapsed": false
   },
   "outputs": [
    {
     "data": {
      "text/plain": [
       "True     943\n",
       "False    763\n",
       "Name: hinderances, dtype: int64"
      ]
     },
     "execution_count": 8,
     "metadata": {},
     "output_type": "execute_result"
    }
   ],
   "source": [
    "responses.isnull().value_counts()"
   ]
  },
  {
   "cell_type": "code",
   "execution_count": 9,
   "metadata": {
    "collapsed": true
   },
   "outputs": [],
   "source": [
    "responses = responses.dropna()"
   ]
  },
  {
   "cell_type": "markdown",
   "metadata": {},
   "source": [
    "## Initial Samples\n",
    "\n",
    "I ran the sampling code below 6 times and manually built up the initial set of keywords seen commonly across them. I formed groups of conceptually related keywords. Then I tried to assign a simple label to each group."
   ]
  },
  {
   "cell_type": "code",
   "execution_count": 10,
   "metadata": {
    "collapsed": false,
    "scrolled": false
   },
   "outputs": [
    {
     "name": "stdout",
     "output_type": "stream",
     "text": [
      "0) Jupyter Notebook \"Windows 7+\" experience is inferior to Linux one\n",
      "\n",
      "1) Integration with text editor \n",
      "\n",
      "2) Version control (and, which is related, collaborative version control).\n",
      "\n",
      "3) Doesn't seem to fit with building a large project, prefer IDE\n",
      "\n",
      "4) remembering how to get it setup\n",
      "\n",
      "5) better connections to external DBs, easier interact widgets.\n",
      "\n",
      "6) Primarily use R, Rstudio is better for R.\n",
      "\n",
      "7) * a \"clear and run all\" button to get rid of variable persistence (possible with Kernel > Clear all then run but that's more clicks) * a IPython notebook .app -- it'd be really nice to double click on a notebook and have it open\n",
      "\n",
      "8) School assignments\n",
      "\n",
      "9) In ML, I have a cell output the loss at each epoch or few thousand iterations. This makes the output really long and to go between cells I have to scroll a lot to get past the wall of text I made.\n",
      "\n",
      "10) The notebook workflows are very linear, doing experiments is difficult. Also some source control/diff tool would be really nice.\n",
      "\n",
      "11) - Better editor (more vim-style) - Better nbconvert (Make it easier to write paper in jupyter. Right now I can't even find out how to change the title of the resulting latex document) - Better integration with Git (automatic removal of binary blobs before commiting, Maybe allowing view of diffs within notebook)\n",
      "\n",
      "12) Installation is hard, so it's hard to spread the gospel.\n",
      "\n",
      "13) * non-triviality of sharing of notebooks * exchange, synergy between JupyterHub/server-based versus local/single-user installation * sparse documentation on more advanced features (extensions, configuration, ...)\n",
      "\n",
      "14) Lack of integrated collaboration. Lack of blogging platform based on notebooks.\n",
      "\n",
      "15) Python: difficulty reloading when writing modules Other languages: Stability of other kernels generic: editor clumsiness / browser shortcut conflicts\n",
      "\n",
      "16) Shortcut bindings. I'm most productive in vim, the shortcuts in the notebook just don't feel as fluid. Probably isn't a problem that's solvable, but someone might have a nice solution.\n",
      "\n",
      "17) Lack of ease in publishing work (e.g. generating PDF without code blocks)\n",
      "\n",
      "18) Full undo history, export options\n",
      "\n",
      "19) Number one complaint I have had is the lack of find and replace, autocomplete, and other text-editor style tools. I understand this may not really be the point of jupyter nootbooks, but I find myself cutting code, pasting to a text editor, and pasting back in all the time. In my limited experience (could easily be wrong about this), it doesn't have great integration with virtualenv, so it's a bit of a headache to switch from one env to another and reconfigure jupyter. On the nitpick side, translation of magic commands to equivalent python commands would be amazing when exporting to a .py file. \n",
      "\n"
     ]
    }
   ],
   "source": [
    "show(responses.sample(20, random_state=rs))"
   ]
  },
  {
   "cell_type": "code",
   "execution_count": 11,
   "metadata": {
    "collapsed": false
   },
   "outputs": [],
   "source": [
    "themes = {\n",
    "    'version' : ['version control', 'diff', 'source control', 'git'],\n",
    "    'collab': ['shar(e|ing)', 'collab'],\n",
    "    'development' : ['text editor', 'ide(\\W|$)', 'vim', 'emacs', 'editing',\n",
    "                     'key binding', 'key mapping', 'keyboard', 'shortcuts',\n",
    "                     'debug', 'programming', 'widgets', 'view', 'interact', \n",
    "                     'dataframes', 'ui', 'design', 'linear', 'search', 'theme', \n",
    "                     'collapse',  'organization', 'proliferation', 'cut', \n",
    "                     'merge', 'completion', 'aesthetic', 'scroll'],\n",
    "    'setup' : ['setup', 'desktop', 'install', 'documentation', 'kernels', \n",
    "               'customization', 'windows'],\n",
    "    'integrations' : ['connections', 'db', 'rstudio'],\n",
    "    'language': ['clojure', 'scala', 'c#', 'r(\\W|$)'],\n",
    "    'disseminate' : ['publication', 'export', \n",
    "                     'deploy', 'authoring', 'dashboard', 'latex', 'slides'],\n",
    "    'reuse': ['reuse', 'module', 'cron'],\n",
    "    'robust' : ['stability', 'crash', 'reload', 'bug', 'reliability', \n",
    "                'windows', 'ipad', 'slow', 'performance']\n",
    "}"
   ]
  },
  {
   "cell_type": "markdown",
   "metadata": {},
   "source": [
    "## Coverage Improvement\n",
    "\n",
    "I next ran the code below to associate the theme labels with the responses. I then iterated on running the code below to find reponses without labels. I expanded the list of keywords and themes in order to improve coverage."
   ]
  },
  {
   "cell_type": "code",
   "execution_count": 12,
   "metadata": {
    "collapsed": true
   },
   "outputs": [],
   "source": [
    "import re"
   ]
  },
  {
   "cell_type": "code",
   "execution_count": 13,
   "metadata": {
    "collapsed": true
   },
   "outputs": [],
   "source": [
    "def keywords_or(text, keywords):\n",
    "    for keyword in keywords:\n",
    "        if re.search('(^|\\W+){}'.format(keyword), text, re.IGNORECASE):\n",
    "            return True\n",
    "    return False"
   ]
  },
  {
   "cell_type": "code",
   "execution_count": 14,
   "metadata": {
    "collapsed": false
   },
   "outputs": [],
   "source": [
    "def tag_themes(responses, themes):\n",
    "    tagged = responses.to_frame()\n",
    "    tagged['themes'] = ''\n",
    "    for theme, keywords in themes.items():\n",
    "        results = responses.map(lambda text: keywords_or(text, keywords))\n",
    "        tagged.loc[results, 'themes'] += theme + ','\n",
    "        print(theme, results.sum())\n",
    "    return tagged"
   ]
  },
  {
   "cell_type": "code",
   "execution_count": 15,
   "metadata": {
    "collapsed": false
   },
   "outputs": [
    {
     "name": "stdout",
     "output_type": "stream",
     "text": [
      "reuse 30\n",
      "development 275\n",
      "language 23\n",
      "integrations 16\n",
      "collab 55\n",
      "disseminate 48\n",
      "version 139\n",
      "setup 89\n",
      "robust 44\n"
     ]
    },
    {
     "data": {
      "text/plain": [
       "1    294\n",
       "0    286\n",
       "2    138\n",
       "3     31\n",
       "4     14\n",
       "Name: themes, dtype: int64"
      ]
     },
     "execution_count": 15,
     "metadata": {},
     "output_type": "execute_result"
    }
   ],
   "source": [
    "tagged = tag_themes(responses, themes)\n",
    "tagged.themes.str.count(',').value_counts()"
   ]
  },
  {
   "cell_type": "code",
   "execution_count": 16,
   "metadata": {
    "collapsed": false
   },
   "outputs": [
    {
     "data": {
      "text/html": [
       "<div>\n",
       "<table border=\"1\" class=\"dataframe\">\n",
       "  <thead>\n",
       "    <tr style=\"text-align: right;\">\n",
       "      <th></th>\n",
       "      <th>hinderances</th>\n",
       "      <th>themes</th>\n",
       "    </tr>\n",
       "  </thead>\n",
       "  <tbody>\n",
       "    <tr>\n",
       "      <th>1192</th>\n",
       "      <td>I prefer Juliabox which I don't need to administer and is in the cloud.</td>\n",
       "      <td></td>\n",
       "    </tr>\n",
       "    <tr>\n",
       "      <th>1359</th>\n",
       "      <td>Some things just work more efficiently for me to script directly in Python.</td>\n",
       "      <td></td>\n",
       "    </tr>\n",
       "    <tr>\n",
       "      <th>885</th>\n",
       "      <td>I don't need it more often</td>\n",
       "      <td></td>\n",
       "    </tr>\n",
       "    <tr>\n",
       "      <th>196</th>\n",
       "      <td>I use it for hobby projects and only rarely at work. For scientific hobby prokects I use it extensively.</td>\n",
       "      <td></td>\n",
       "    </tr>\n",
       "    <tr>\n",
       "      <th>1253</th>\n",
       "      <td>I use it heavily to do exploratory data analysis. I conduct trainings often &amp; feel Jupyter is the best way to do it.</td>\n",
       "      <td></td>\n",
       "    </tr>\n",
       "    <tr>\n",
       "      <th>956</th>\n",
       "      <td>Better integration with batch-based computing clusters</td>\n",
       "      <td></td>\n",
       "    </tr>\n",
       "    <tr>\n",
       "      <th>1384</th>\n",
       "      <td>Nothing really, it's already pretty frequent.</td>\n",
       "      <td></td>\n",
       "    </tr>\n",
       "    <tr>\n",
       "      <th>542</th>\n",
       "      <td>The requirement for sequential execution of cells and no concepts of 'modulazation' (call cell x in notebook y) means it is always somewhat cumbersome to use if you are doing anything complicated.   But mostly the reluctance of others to use it.</td>\n",
       "      <td></td>\n",
       "    </tr>\n",
       "    <tr>\n",
       "      <th>824</th>\n",
       "      <td>Multiple checkpoints for notebooks</td>\n",
       "      <td></td>\n",
       "    </tr>\n",
       "    <tr>\n",
       "      <th>1474</th>\n",
       "      <td>Lack of proper equation numbering and referencing  (same for table of contents etc).</td>\n",
       "      <td></td>\n",
       "    </tr>\n",
       "    <tr>\n",
       "      <th>1442</th>\n",
       "      <td>Entering command line code to bring it up.</td>\n",
       "      <td></td>\n",
       "    </tr>\n",
       "    <tr>\n",
       "      <th>54</th>\n",
       "      <td>Nothing</td>\n",
       "      <td></td>\n",
       "    </tr>\n",
       "    <tr>\n",
       "      <th>1421</th>\n",
       "      <td>Hard to write production code, I use it as an exploratory tool</td>\n",
       "      <td></td>\n",
       "    </tr>\n",
       "    <tr>\n",
       "      <th>1090</th>\n",
       "      <td>More time to work on it</td>\n",
       "      <td></td>\n",
       "    </tr>\n",
       "    <tr>\n",
       "      <th>1575</th>\n",
       "      <td>Inability to easily publish to common platforms like wordpress that aren't based around websites generated by code. Still a bit of a hassle to get a remote notebook running well just for personal use (e.g., I don't want to have to generate hashes etc, but for now SSH tunneling is working fine for me). Some less-sexy features missing like copy/pasting multiple cells at once etc.</td>\n",
       "      <td></td>\n",
       "    </tr>\n",
       "    <tr>\n",
       "      <th>1093</th>\n",
       "      <td>Very useful for scientific research.</td>\n",
       "      <td></td>\n",
       "    </tr>\n",
       "    <tr>\n",
       "      <th>322</th>\n",
       "      <td>needs a dedicated cell that behaves like a shell</td>\n",
       "      <td></td>\n",
       "    </tr>\n",
       "    <tr>\n",
       "      <th>1162</th>\n",
       "      <td>No find and replace functionality!</td>\n",
       "      <td></td>\n",
       "    </tr>\n",
       "    <tr>\n",
       "      <th>1179</th>\n",
       "      <td>I need to know it in depth indeed</td>\n",
       "      <td></td>\n",
       "    </tr>\n",
       "    <tr>\n",
       "      <th>1515</th>\n",
       "      <td>Utility of the notebook interface. Cell grouping, folding and other manipulation, 3D graphics in notebook, full paper writing workflow. It is very close to perfect.</td>\n",
       "      <td></td>\n",
       "    </tr>\n",
       "  </tbody>\n",
       "</table>\n",
       "</div>"
      ],
      "text/plain": [
       "                                                                                                                                                                                                                                                                                                                                                                                       hinderances  \\\n",
       "1192                                                                                                                                                                                                                                                                                                                       I prefer Juliabox which I don't need to administer and is in the cloud.   \n",
       "1359                                                                                                                                                                                                                                                                                                                   Some things just work more efficiently for me to script directly in Python.   \n",
       "885                                                                                                                                                                                                                                                                                                                                                                     I don't need it more often   \n",
       "196                                                                                                                                                                                                                                                                                       I use it for hobby projects and only rarely at work. For scientific hobby prokects I use it extensively.   \n",
       "1253                                                                                                                                                                                                                                                                          I use it heavily to do exploratory data analysis. I conduct trainings often & feel Jupyter is the best way to do it.   \n",
       "956                                                                                                                                                                                                                                                                                                                                         Better integration with batch-based computing clusters   \n",
       "1384                                                                                                                                                                                                                                                                                                                                                 Nothing really, it's already pretty frequent.   \n",
       "542                                                                                                                                         The requirement for sequential execution of cells and no concepts of 'modulazation' (call cell x in notebook y) means it is always somewhat cumbersome to use if you are doing anything complicated.   But mostly the reluctance of others to use it.    \n",
       "824                                                                                                                                                                                                                                                                                                                                                             Multiple checkpoints for notebooks   \n",
       "1474                                                                                                                                                                                                                                                                                                         Lack of proper equation numbering and referencing  (same for table of contents etc).    \n",
       "1442                                                                                                                                                                                                                                                                                                                                                   Entering command line code to bring it up.    \n",
       "54                                                                                                                                                                                                                                                                                                                                                                                        Nothing    \n",
       "1421                                                                                                                                                                                                                                                                                                                                Hard to write production code, I use it as an exploratory tool   \n",
       "1090                                                                                                                                                                                                                                                                                                                                                                       More time to work on it   \n",
       "1575  Inability to easily publish to common platforms like wordpress that aren't based around websites generated by code. Still a bit of a hassle to get a remote notebook running well just for personal use (e.g., I don't want to have to generate hashes etc, but for now SSH tunneling is working fine for me). Some less-sexy features missing like copy/pasting multiple cells at once etc.   \n",
       "1093                                                                                                                                                                                                                                                                                                                                                          Very useful for scientific research.   \n",
       "322                                                                                                                                                                                                                                                                                                                                               needs a dedicated cell that behaves like a shell   \n",
       "1162                                                                                                                                                                                                                                                                                                                                                            No find and replace functionality!   \n",
       "1179                                                                                                                                                                                                                                                                                                                                                             I need to know it in depth indeed   \n",
       "1515                                                                                                                                                                                                                          Utility of the notebook interface. Cell grouping, folding and other manipulation, 3D graphics in notebook, full paper writing workflow. It is very close to perfect.   \n",
       "\n",
       "     themes  \n",
       "1192         \n",
       "1359         \n",
       "885          \n",
       "196          \n",
       "1253         \n",
       "956          \n",
       "1384         \n",
       "542          \n",
       "824          \n",
       "1474         \n",
       "1442         \n",
       "54           \n",
       "1421         \n",
       "1090         \n",
       "1575         \n",
       "1093         \n",
       "322          \n",
       "1162         \n",
       "1179         \n",
       "1515         "
      ]
     },
     "execution_count": 16,
     "metadata": {},
     "output_type": "execute_result"
    }
   ],
   "source": [
    "tagged[tagged.themes.str.len() == 0].sample(20, random_state=rs)"
   ]
  },
  {
   "cell_type": "code",
   "execution_count": 68,
   "metadata": {
    "collapsed": false
   },
   "outputs": [],
   "source": [
    "themes = {\n",
    " 'collab': ['concurrent', 'multi-?user', 'shar(e|ing)', 'simultaneous', 'collab'],\n",
    " 'development': ['visualization', 'applications', 'develop', 'design',\n",
    "    'format', 'development', 'polyglot', 'key mapping', 'data creat', 'programming',\n",
    "    'completion', 'variable', 'test', 'proliferation', 'linear', 'literate', 'key binding',\n",
    "    'scroll', 'theme', 'integrat(ing|ion)', 'filing', 'packages', 'parallel',\n",
    "    'view', 'plot', 'vim', 'data entry', 'edit(ing|or)', 'debug', 'ui', 'search',\n",
    "    'organization', 'lint', 'cut', 'browse', 'intellisense', 'spell check',  \n",
    "    'shortcuts', 'ide(\\W|$)', 'diagram', 'script', 'compiler', 'dataframes', 'graphic',\n",
    "    'input', 'complet(e|ion)', 'project', 'merge', 'keyboard', 'branch',\n",
    "    'aesthetic', 'visual', 'collapse', 'widgets', 'emacs', 'interact', 'organi(s|z)',\n",
    "    'refactor', 'workspace', 'notes', 'clutter', 'interface', 'understand'],\n",
    " 'disseminate': ['distribution', 'gui', 'authoring', 'writing', 'story', 'textbook', \n",
    "    'deploy', 'standalone', 'books', 'manuscript', 'paper', 'send', 'web', 'publi(sh|cation)',\n",
    "    'product(ion|i(s|z)ation)', 'app(s|lication)', 'push', 'present', 'export', 'blog', 'embed',\n",
    "    'report', 'pages', 'latex', 'bundle', 'dashboard', 'publication', 'bibliograph',\n",
    "    'citation', 'slides', 'document', 'business', 'documents', 'transition'],\n",
    " 'integrations': ['spark', 'db', 'connections', 'd3', 'rstudio', 'fenics', 'sas', 'conda',\n",
    "    'native', 'pentadactyl', 'sheets', 'in-house', 'django', 'ubuntu', 'excel'],\n",
    " 'language': ['sage', 'c#', 'scala', 'perl', 'clojure', 'haskell', 'sql', 'julia',\n",
    "    'r($|\\W)', 'matlab', 'fortran', 'c\\+\\+', 'r(\\W|$)', 'ruby', 'javascript'],\n",
    " 'reuse': ['modul(e|ar)', 'parameter', 'complicate', 'reuse', 'package', 'cron', 'large',\n",
    "    'schedule', 'maintain', 'serious', 'long', 'automat(e|ing|ion)', 'reus(e|able)', 'portab',\n",
    "    'manag(e|ing)', 'librar(y|ies)', 'repeat', 'reproduc', 'complex', 'clean', 'DRY',\n",
    "    'batch'],\n",
    " 'robust': ['bug', 'reliability', 'performance', 'ipad', 'stability', 'speed', 'slow',\n",
    "    'error', 'windows', 'crash', 'reload'],\n",
    " 'setup': ['hosted', 'startup', 'environ', 'customization', 'documentation', 'install',\n",
    "    'setup', 'customi(s|z)', 'backup', 'kernels', 'storage', 'theme', 'provision', 'config',\n",
    "    'turn-key', 'server', 'cost', 'access', 'mobile', 'desktop', 'windows', 'state'],\n",
    " 'version': ['history', 'hg', 'diff(\\W|$)', 'provenance', 'vcs', 'git', 'tracking', 'version',\n",
    "    'change ?log'],\n",
    " 'external' : ['legacy', 'acceptance', 'compliance', 'adoption', 'habit', 'relevant'\n",
    "    'nobody', 'policy', 'inertia', 'team', 'people', 'colleague'],\n",
    " 'nothing': ['nothing', 'no need']\n",
    "}"
   ]
  },
  {
   "cell_type": "markdown",
   "metadata": {},
   "source": [
    "## Precision Check\n",
    "\n",
    "I then studied a sample of responses for each theme to see if there major inaccuracies in their application (e.g., string matches that are too fuzzy)."
   ]
  },
  {
   "cell_type": "code",
   "execution_count": 44,
   "metadata": {
    "collapsed": false
   },
   "outputs": [
    {
     "name": "stdout",
     "output_type": "stream",
     "text": [
      "reuse 136\n",
      "development 425\n",
      "nothing 33\n",
      "disseminate 146\n",
      "integrations 43\n",
      "collab 63\n",
      "version 116\n",
      "external 35\n",
      "language 58\n",
      "setup 148\n",
      "robust 51\n"
     ]
    },
    {
     "data": {
      "text/plain": [
       "1    308\n",
       "2    220\n",
       "0     94\n",
       "3     88\n",
       "4     31\n",
       "5     14\n",
       "6      8\n",
       "Name: themes, dtype: int64"
      ]
     },
     "execution_count": 44,
     "metadata": {},
     "output_type": "execute_result"
    }
   ],
   "source": [
    "tagged = tag_themes(responses, themes)\n",
    "tagged.themes.str.count(',').value_counts()"
   ]
  },
  {
   "cell_type": "code",
   "execution_count": 45,
   "metadata": {
    "collapsed": true
   },
   "outputs": [],
   "source": [
    "from IPython.display import display, clear_output"
   ]
  },
  {
   "cell_type": "code",
   "execution_count": 46,
   "metadata": {
    "collapsed": false,
    "scrolled": false
   },
   "outputs": [
    {
     "data": {
      "text/html": [
       "<div>\n",
       "<table border=\"1\" class=\"dataframe\">\n",
       "  <thead>\n",
       "    <tr style=\"text-align: right;\">\n",
       "      <th></th>\n",
       "      <th>hinderances</th>\n",
       "      <th>themes</th>\n",
       "    </tr>\n",
       "  </thead>\n",
       "  <tbody>\n",
       "    <tr>\n",
       "      <th>1686</th>\n",
       "      <td>Difficulty sharing results with collaborators who don't use Jupyter. HTML output works alright, but since my notebooks are math heavy they take quite a long time to load for collaborators.</td>\n",
       "      <td>reuse,collab,</td>\n",
       "    </tr>\n",
       "    <tr>\n",
       "      <th>1644</th>\n",
       "      <td>Ease of version control with gift hub, sharing with non-technical users, collapsible input boxes to make it easier for non-technical personnel to understand, syntax highlighting in JavaScript cells, easy debugging, ease of implementing in server side CRON jobs etc.</td>\n",
       "      <td>reuse,development,collab,version,language,setup,</td>\n",
       "    </tr>\n",
       "    <tr>\n",
       "      <th>542</th>\n",
       "      <td>The requirement for sequential execution of cells and no concepts of 'modulazation' (call cell x in notebook y) means it is always somewhat cumbersome to use if you are doing anything complicated.   But mostly the reluctance of others to use it.</td>\n",
       "      <td>reuse,</td>\n",
       "    </tr>\n",
       "    <tr>\n",
       "      <th>677</th>\n",
       "      <td>None for me personally, but when installing stuff on people's computers, especially newbies I'm introducing to ipython notebooks and python, Python 2-3 issues and conflicts with system packages are a damper, and the ipython-&gt;jupyter package rename was a gotcha, though it's not that bad. For windows users especially the process is a pain, but stuff like anaconda helps, though it's all very conda-centric which causes added confusion.  Similarly with the system python vs homebrew one in macs. I guess none of this is very ipython specific, but it always comes up during the process of getting ipython + numpy + pandas etc working.</td>\n",
       "      <td>reuse,development,integrations,external,setup,robust,</td>\n",
       "    </tr>\n",
       "    <tr>\n",
       "      <th>1607</th>\n",
       "      <td>Inability to easily navigate within modules/structured code directories, so that I can develop my code simultaneously as a package/module and within a notebook. Prototyping in the notebook is great, but then making sure everything works appropriately when outside of the notebook environment is more difficult without a lot more infrastructure. Furthermore, once it is ported to an external module, its essentially impossible to either bring the code back into the notebook efficiently (i.e., not just copying and pasting into cells) and or to maintain a coherent version control stream for the changes then made in the notebook. So currently software development in a notebook to external module is a 1-way street, and not a particularly easy one to navigate.   Also, inconsistency in relative import statements make developing software packages in a notebook/module. Given the portable nature of the notebook, it's nice to be able to work from the same source files on a variety of computers. B...</td>\n",
       "      <td>reuse,development,disseminate,collab,version,setup,</td>\n",
       "    </tr>\n",
       "    <tr>\n",
       "      <th>1408</th>\n",
       "      <td>devops -- access to turnkey persisted instance or prebaked kitematic images.  devops - easy access to preconfigured common setups -- like mysql or cloudant libraries pre-installed.</td>\n",
       "      <td>reuse,setup,</td>\n",
       "    </tr>\n",
       "    <tr>\n",
       "      <th>1195</th>\n",
       "      <td>Difficult to move code developed in notebook into proper module after the experimental stage.</td>\n",
       "      <td>reuse,development,</td>\n",
       "    </tr>\n",
       "    <tr>\n",
       "      <th>694</th>\n",
       "      <td>It is more of a notebook but it would be nice if it acted almost like an IDE for project-management.  Being able to run multiple modules or pages that link together in the same instance to help break up the notebook page into manageable chunks then a means to pull it all together into a final cohesive program would be quite useful.</td>\n",
       "      <td>reuse,development,disseminate,</td>\n",
       "    </tr>\n",
       "    <tr>\n",
       "      <th>496</th>\n",
       "      <td>Limited visibility on wide laptop screens, difficult to style (need deep CSS knowledge, no complete documentation), large cells unwieldy, lose position easily when executing cells esp. large ones - active cell often jumps off screen.  Need more visual contrast but see comment about styling difficulty.  No good debugging tools.  Notebooks are good for documentation but not development</td>\n",
       "      <td>reuse,development,disseminate,setup,</td>\n",
       "    </tr>\n",
       "    <tr>\n",
       "      <th>505</th>\n",
       "      <td>I write a lot of Python code that ends up being refactored into a module. As soon as that happens the Notebook workflow loses its optimization. There's only so many \"restart kernel\" operations you can do before it starts to hinder productivity.  While recognizing prompting for OK when restarting the kernel is a reasonable UI decision, I'd LOVE to see a keyboard shortcut that does not prompt so I could get around this slowdown.</td>\n",
       "      <td>reuse,development,robust,</td>\n",
       "    </tr>\n",
       "  </tbody>\n",
       "</table>\n",
       "</div>"
      ],
      "text/plain": [
       "                                                                                                                                                                                                                                                                                                                                                                                                                                                                                                                                                                                                                                                                                                                                                                                                                                                                                                                                                                                                                                  hinderances  \\\n",
       "1686                                                                                                                                                                                                                                                                                                                                                                                                                                                                                                                                                                                                                                                                                                                                                                                                                                             Difficulty sharing results with collaborators who don't use Jupyter. HTML output works alright, but since my notebooks are math heavy they take quite a long time to load for collaborators.   \n",
       "1644                                                                                                                                                                                                                                                                                                                                                                                                                                                                                                                                                                                                                                                                                                                                                             Ease of version control with gift hub, sharing with non-technical users, collapsible input boxes to make it easier for non-technical personnel to understand, syntax highlighting in JavaScript cells, easy debugging, ease of implementing in server side CRON jobs etc.      \n",
       "542                                                                                                                                                                                                                                                                                                                                                                                                                                                                                                                                                                                                                                                                                                                                                                                    The requirement for sequential execution of cells and no concepts of 'modulazation' (call cell x in notebook y) means it is always somewhat cumbersome to use if you are doing anything complicated.   But mostly the reluctance of others to use it.    \n",
       "677                                                                                                                                                                                                                                                                                                                                                                                  None for me personally, but when installing stuff on people's computers, especially newbies I'm introducing to ipython notebooks and python, Python 2-3 issues and conflicts with system packages are a damper, and the ipython->jupyter package rename was a gotcha, though it's not that bad. For windows users especially the process is a pain, but stuff like anaconda helps, though it's all very conda-centric which causes added confusion.  Similarly with the system python vs homebrew one in macs. I guess none of this is very ipython specific, but it always comes up during the process of getting ipython + numpy + pandas etc working.   \n",
       "1607  Inability to easily navigate within modules/structured code directories, so that I can develop my code simultaneously as a package/module and within a notebook. Prototyping in the notebook is great, but then making sure everything works appropriately when outside of the notebook environment is more difficult without a lot more infrastructure. Furthermore, once it is ported to an external module, its essentially impossible to either bring the code back into the notebook efficiently (i.e., not just copying and pasting into cells) and or to maintain a coherent version control stream for the changes then made in the notebook. So currently software development in a notebook to external module is a 1-way street, and not a particularly easy one to navigate.   Also, inconsistency in relative import statements make developing software packages in a notebook/module. Given the portable nature of the notebook, it's nice to be able to work from the same source files on a variety of computers. B...   \n",
       "1408                                                                                                                                                                                                                                                                                                                                                                                                                                                                                                                                                                                                                                                                                                                                                                                                                                                    devops -- access to turnkey persisted instance or prebaked kitematic images.  devops - easy access to preconfigured common setups -- like mysql or cloudant libraries pre-installed.    \n",
       "1195                                                                                                                                                                                                                                                                                                                                                                                                                                                                                                                                                                                                                                                                                                                                                                                                                                                                                                                                            Difficult to move code developed in notebook into proper module after the experimental stage.   \n",
       "694                                                                                                                                                                                                                                                                                                                                                                                                                                                                                                                                                                                                                                                                                             It is more of a notebook but it would be nice if it acted almost like an IDE for project-management.  Being able to run multiple modules or pages that link together in the same instance to help break up the notebook page into manageable chunks then a means to pull it all together into a final cohesive program would be quite useful.   \n",
       "496                                                                                                                                                                                                                                                                                                                                                                                                                                                                                                                                                                                                                                        Limited visibility on wide laptop screens, difficult to style (need deep CSS knowledge, no complete documentation), large cells unwieldy, lose position easily when executing cells esp. large ones - active cell often jumps off screen.  Need more visual contrast but see comment about styling difficulty.  No good debugging tools.  Notebooks are good for documentation but not development   \n",
       "505                                                                                                                                                                                                                                                                                                                                                                                                                                                                                                                                                                                            I write a lot of Python code that ends up being refactored into a module. As soon as that happens the Notebook workflow loses its optimization. There's only so many \"restart kernel\" operations you can do before it starts to hinder productivity.  While recognizing prompting for OK when restarting the kernel is a reasonable UI decision, I'd LOVE to see a keyboard shortcut that does not prompt so I could get around this slowdown.   \n",
       "\n",
       "                                                     themes  \n",
       "1686                                          reuse,collab,  \n",
       "1644       reuse,development,collab,version,language,setup,  \n",
       "542                                                  reuse,  \n",
       "677   reuse,development,integrations,external,setup,robust,  \n",
       "1607    reuse,development,disseminate,collab,version,setup,  \n",
       "1408                                           reuse,setup,  \n",
       "1195                                     reuse,development,  \n",
       "694                          reuse,development,disseminate,  \n",
       "496                    reuse,development,disseminate,setup,  \n",
       "505                               reuse,development,robust,  "
      ]
     },
     "metadata": {},
     "output_type": "display_data"
    },
    {
     "name": "stdout",
     "output_type": "stream",
     "text": [
      "Showing `reuse`. Type Enter to continue, \"q\" to stop.q\n"
     ]
    }
   ],
   "source": [
    "for key in themes:\n",
    "    clear_output()\n",
    "    display(tagged[tagged.themes.str.contains(key)].sample(10))\n",
    "    if input('Showing `{}`. Type Enter to continue, \"q\" to stop.'.format(key)) == 'q':\n",
    "        break"
   ]
  },
  {
   "cell_type": "markdown",
   "metadata": {},
   "source": [
    "## Keyword Frequencies"
   ]
  },
  {
   "cell_type": "code",
   "execution_count": 69,
   "metadata": {
    "collapsed": true
   },
   "outputs": [],
   "source": [
    "import matplotlib\n",
    "import seaborn"
   ]
  },
  {
   "cell_type": "code",
   "execution_count": 70,
   "metadata": {
    "collapsed": true
   },
   "outputs": [],
   "source": [
    "counts = {}"
   ]
  },
  {
   "cell_type": "code",
   "execution_count": 71,
   "metadata": {
    "collapsed": false
   },
   "outputs": [],
   "source": [
    "for theme, keywords in themes.items():\n",
    "    for keyword in keywords:\n",
    "        hits = responses.map(lambda text: keywords_or(text, [keyword]))\n",
    "        counts[keyword] = hits.sum()"
   ]
  },
  {
   "cell_type": "code",
   "execution_count": 72,
   "metadata": {
    "collapsed": true
   },
   "outputs": [],
   "source": [
    "hist = pd.Series(counts).sort_values()"
   ]
  },
  {
   "cell_type": "code",
   "execution_count": 73,
   "metadata": {
    "collapsed": false
   },
   "outputs": [
    {
     "data": {
      "image/png": "[encoded data removed]",
      "text/plain": [
       "<matplotlib.figure.Figure at 0x7f2ef6962c50>"
      ]
     },
     "metadata": {},
     "output_type": "display_data"
    }
   ],
   "source": [
    "ax = hist[-30:].plot.barh(figsize=(8, 8))\n",
    "_ = ax.set_xlabel('Mentions')"
   ]
  },
  {
   "cell_type": "markdown",
   "metadata": {},
   "source": [
    "## Topic Model\n",
    "\n",
    "The manual tagging above is but one way of breaking down the responses into themes. I wanted to try another approach as validation. So I experimented with LSA and clustering to see how they would group responses.\n",
    "\n",
    "After searching over the number of topics and clusters, I do see some themes like \"version control\" and \"text editing\" emerge. With nearly all settings, some large clusters remain that seem to be a grab bag of topics."
   ]
  },
  {
   "cell_type": "code",
   "execution_count": 24,
   "metadata": {
    "collapsed": false
   },
   "outputs": [],
   "source": [
    "import gensim\n",
    "import string\n",
    "import requests"
   ]
  },
  {
   "cell_type": "code",
   "execution_count": 25,
   "metadata": {
    "collapsed": true
   },
   "outputs": [],
   "source": [
    "texts = gensim.parsing.preprocess_documents(responses)"
   ]
  },
  {
   "cell_type": "code",
   "execution_count": 26,
   "metadata": {
    "collapsed": false
   },
   "outputs": [],
   "source": [
    "dictionary = gensim.corpora.Dictionary(texts)"
   ]
  },
  {
   "cell_type": "code",
   "execution_count": 27,
   "metadata": {
    "collapsed": true
   },
   "outputs": [],
   "source": [
    "corpus = [dictionary.doc2bow(text) for text in texts]"
   ]
  },
  {
   "cell_type": "code",
   "execution_count": 28,
   "metadata": {
    "collapsed": true
   },
   "outputs": [],
   "source": [
    "tfidf = gensim.models.TfidfModel(corpus)"
   ]
  },
  {
   "cell_type": "code",
   "execution_count": 29,
   "metadata": {
    "collapsed": true
   },
   "outputs": [],
   "source": [
    "corpus_tfidf = tfidf[corpus]"
   ]
  },
  {
   "cell_type": "code",
   "execution_count": 30,
   "metadata": {
    "collapsed": true
   },
   "outputs": [],
   "source": [
    "import sklearn.datasets\n",
    "import sklearn.metrics as metrics\n",
    "from sklearn.cluster import KMeans, DBSCAN\n",
    "from gensim.matutils import corpus2csc"
   ]
  },
  {
   "cell_type": "markdown",
   "metadata": {},
   "source": [
    "I informally experimented with the topic and cluster counts for quite some time, looking at the inertia graph and the resulting cluster sizes."
   ]
  },
  {
   "cell_type": "code",
   "execution_count": 31,
   "metadata": {
    "collapsed": true
   },
   "outputs": [],
   "source": [
    "# set the number of clusters, must be >=1\n",
    "topics_n = 10\n",
    "clusters_n = 10"
   ]
  },
  {
   "cell_type": "code",
   "execution_count": 32,
   "metadata": {
    "collapsed": true
   },
   "outputs": [],
   "source": [
    "%matplotlib inline"
   ]
  },
  {
   "cell_type": "code",
   "execution_count": 33,
   "metadata": {
    "collapsed": true
   },
   "outputs": [],
   "source": [
    "import matplotlib.pyplot as plt\n",
    "import math"
   ]
  },
  {
   "cell_type": "code",
   "execution_count": 34,
   "metadata": {
    "collapsed": false,
    "scrolled": false
   },
   "outputs": [
    {
     "data": {
      "image/png": "[encoded data removed]",
      "text/plain": [
       "<matplotlib.figure.Figure at 0x7f2ef7674c50>"
      ]
     },
     "metadata": {},
     "output_type": "display_data"
    }
   ],
   "source": [
    "fig, axes = plt.subplots(math.ceil(topics_n / 5), 5, sharex=True, sharey=True, figsize=(14, 5))\n",
    "\n",
    "for t in range(1, topics_n+1):\n",
    "    inertia = [np.NaN]\n",
    "    lsi = gensim.models.LsiModel(corpus_tfidf, id2word=dictionary, num_topics=t)\n",
    "    corpus_lsi = lsi[corpus_tfidf]\n",
    "    X = corpus2csc(corpus_lsi).transpose()\n",
    "    \n",
    "    for k in range(1,clusters_n+1):\n",
    "        k_means = KMeans(n_clusters=k)\n",
    "        k_means.fit(X)\n",
    "#         print('k = %d, inertia= %f' % (k, k_means.inertia_ ))\n",
    "        inertia.append(k_means.inertia_)\n",
    "\n",
    "    ax = axes[(t-1) // 5][(t-1) % 5]\n",
    "    ax.plot(inertia, '-o')\n",
    "    ax.set_xticks(range(clusters_n))\n",
    "    ax.set_title('t=%d' % t)\n",
    "#     ax.set_ylabel('Inertia')\n",
    "    ax.set_xlabel('# Clusters')"
   ]
  },
  {
   "cell_type": "markdown",
   "metadata": {},
   "source": [
    "Here's 4 topics, 10 clusters."
   ]
  },
  {
   "cell_type": "code",
   "execution_count": 35,
   "metadata": {
    "collapsed": false
   },
   "outputs": [
    {
     "data": {
      "text/plain": [
       "KMeans(copy_x=True, init='k-means++', max_iter=300, n_clusters=10, n_init=10,\n",
       "    n_jobs=1, precompute_distances='auto', random_state=None, tol=0.0001,\n",
       "    verbose=0)"
      ]
     },
     "execution_count": 35,
     "metadata": {},
     "output_type": "execute_result"
    }
   ],
   "source": [
    "lsi = gensim.models.LsiModel(corpus_tfidf, id2word=dictionary, num_topics=4)\n",
    "corpus_lsi = lsi[corpus_tfidf]\n",
    "X = corpus2csc(corpus_lsi).transpose()\n",
    "k_means = KMeans(n_clusters=10)\n",
    "k_means.fit(X)"
   ]
  },
  {
   "cell_type": "code",
   "execution_count": 36,
   "metadata": {
    "collapsed": false
   },
   "outputs": [
    {
     "data": {
      "text/plain": [
       "5    279\n",
       "0    144\n",
       "9    124\n",
       "6     72\n",
       "2     60\n",
       "8     29\n",
       "3     19\n",
       "7     15\n",
       "1     12\n",
       "4      9\n",
       "dtype: int64"
      ]
     },
     "execution_count": 36,
     "metadata": {},
     "output_type": "execute_result"
    }
   ],
   "source": [
    "clusters = pd.Series(k_means.labels_, index=responses.index)\n",
    "clusters.value_counts()"
   ]
  },
  {
   "cell_type": "code",
   "execution_count": 37,
   "metadata": {
    "collapsed": false
   },
   "outputs": [],
   "source": [
    "tagged['cluster'] = clusters"
   ]
  },
  {
   "cell_type": "markdown",
   "metadata": {},
   "source": [
    "Cluster 2 is about version control, for example."
   ]
  },
  {
   "cell_type": "code",
   "execution_count": 38,
   "metadata": {
    "collapsed": false,
    "scrolled": false
   },
   "outputs": [
    {
     "data": {
      "text/html": [
       "<div>\n",
       "<table border=\"1\" class=\"dataframe\">\n",
       "  <thead>\n",
       "    <tr style=\"text-align: right;\">\n",
       "      <th></th>\n",
       "      <th>hinderances</th>\n",
       "      <th>themes</th>\n",
       "      <th>cluster</th>\n",
       "    </tr>\n",
       "  </thead>\n",
       "  <tbody>\n",
       "    <tr>\n",
       "      <th>21</th>\n",
       "      <td>not too easy to integrate into a git workflow (diffs don't look nice and it is hard to see what has changed)</td>\n",
       "      <td>version,</td>\n",
       "      <td>2</td>\n",
       "    </tr>\n",
       "    <tr>\n",
       "      <th>26</th>\n",
       "      <td>Lack of multi-cell copy/paste (until now). Difficulties with version control and large notebooks. Poor documentation in general. Relatively frequent changes to the notebook format.</td>\n",
       "      <td>reuse,development,disseminate,version,setup,</td>\n",
       "      <td>2</td>\n",
       "    </tr>\n",
       "    <tr>\n",
       "      <th>39</th>\n",
       "      <td>- tighter integration with version control - cross project/directory search of notebooks - deployable notebooks - persistent widgets</td>\n",
       "      <td>development,disseminate,version,</td>\n",
       "      <td>2</td>\n",
       "    </tr>\n",
       "    <tr>\n",
       "      <th>41</th>\n",
       "      <td>Lacking nice github integration Interactive figures are cumbersome (at least I haven't found the right tools)</td>\n",
       "      <td>development,version,</td>\n",
       "      <td>2</td>\n",
       "    </tr>\n",
       "    <tr>\n",
       "      <th>89</th>\n",
       "      <td>Git integration, CSS themes</td>\n",
       "      <td>development,version,setup,</td>\n",
       "      <td>2</td>\n",
       "    </tr>\n",
       "    <tr>\n",
       "      <th>95</th>\n",
       "      <td>I find it difficult to collaborate with colleagues who are all using Git. It is much easier to do this with plain Python files.</td>\n",
       "      <td>collab,version,external,</td>\n",
       "      <td>2</td>\n",
       "    </tr>\n",
       "    <tr>\n",
       "      <th>97</th>\n",
       "      <td>They are difficult to use with version control, and I prefer development in a text editor over development in a browser window.</td>\n",
       "      <td>development,version,</td>\n",
       "      <td>2</td>\n",
       "    </tr>\n",
       "    <tr>\n",
       "      <th>104</th>\n",
       "      <td>static checking of code (ala pyflakes)  better integration with version control  better editor inside the code blocks</td>\n",
       "      <td>development,version,</td>\n",
       "      <td>2</td>\n",
       "    </tr>\n",
       "    <tr>\n",
       "      <th>105</th>\n",
       "      <td>Version control with git. Cell merging. Cell grouping and hiding. Vim key bindings.</td>\n",
       "      <td>development,version,</td>\n",
       "      <td>2</td>\n",
       "    </tr>\n",
       "    <tr>\n",
       "      <th>117</th>\n",
       "      <td>- Not available on all my computing environments and I have been struggling with jupyterhub setup. - No easy workflow with a version control system such as git .  Need a markup language in comments to  create a mapping between notebook cells and traditional flat files. - Detect running dependencies between cells.  Warn when a variable is reassigned between cells .   This might indicate a cell cannot be refreshed without refreshing the previous one.</td>\n",
       "      <td>development,version,setup,</td>\n",
       "      <td>2</td>\n",
       "    </tr>\n",
       "  </tbody>\n",
       "</table>\n",
       "</div>"
      ],
      "text/plain": [
       "                                                                                                                                                                                                                                                                                                                                                                                                                                                              hinderances  \\\n",
       "21                                                                                                                                                                                                                                                                                                                                                           not too easy to integrate into a git workflow (diffs don't look nice and it is hard to see what has changed)   \n",
       "26                                                                                                                                                                                                                                                                                   Lack of multi-cell copy/paste (until now). Difficulties with version control and large notebooks. Poor documentation in general. Relatively frequent changes to the notebook format.   \n",
       "39                                                                                                                                                                                                                                                                                                                                  - tighter integration with version control - cross project/directory search of notebooks - deployable notebooks - persistent widgets    \n",
       "41                                                                                                                                                                                                                                                                                                                                                          Lacking nice github integration Interactive figures are cumbersome (at least I haven't found the right tools)   \n",
       "89                                                                                                                                                                                                                                                                                                                                                                                                                                            Git integration, CSS themes   \n",
       "95                                                                                                                                                                                                                                                                                                                                        I find it difficult to collaborate with colleagues who are all using Git. It is much easier to do this with plain Python files.   \n",
       "97                                                                                                                                                                                                                                                                                                                                        They are difficult to use with version control, and I prefer development in a text editor over development in a browser window.   \n",
       "104                                                                                                                                                                                                                                                                                                                                                 static checking of code (ala pyflakes)  better integration with version control  better editor inside the code blocks   \n",
       "105                                                                                                                                                                                                                                                                                                                                                                                  Version control with git. Cell merging. Cell grouping and hiding. Vim key bindings.    \n",
       "117  - Not available on all my computing environments and I have been struggling with jupyterhub setup. - No easy workflow with a version control system such as git .  Need a markup language in comments to  create a mapping between notebook cells and traditional flat files. - Detect running dependencies between cells.  Warn when a variable is reassigned between cells .   This might indicate a cell cannot be refreshed without refreshing the previous one.   \n",
       "\n",
       "                                           themes  cluster  \n",
       "21                                       version,        2  \n",
       "26   reuse,development,disseminate,version,setup,        2  \n",
       "39               development,disseminate,version,        2  \n",
       "41                           development,version,        2  \n",
       "89                     development,version,setup,        2  \n",
       "95                       collab,version,external,        2  \n",
       "97                           development,version,        2  \n",
       "104                          development,version,        2  \n",
       "105                          development,version,        2  \n",
       "117                    development,version,setup,        2  "
      ]
     },
     "execution_count": 38,
     "metadata": {},
     "output_type": "execute_result"
    }
   ],
   "source": [
    "tagged[tagged.cluster == 2].head(10)"
   ]
  },
  {
   "cell_type": "markdown",
   "metadata": {},
   "source": [
    "Cluster 1 is about IDEs and development environments."
   ]
  },
  {
   "cell_type": "code",
   "execution_count": 39,
   "metadata": {
    "collapsed": false
   },
   "outputs": [
    {
     "data": {
      "text/html": [
       "<div>\n",
       "<table border=\"1\" class=\"dataframe\">\n",
       "  <thead>\n",
       "    <tr style=\"text-align: right;\">\n",
       "      <th></th>\n",
       "      <th>hinderances</th>\n",
       "      <th>themes</th>\n",
       "      <th>cluster</th>\n",
       "    </tr>\n",
       "  </thead>\n",
       "  <tbody>\n",
       "    <tr>\n",
       "      <th>110</th>\n",
       "      <td>The only time I don't use it is when I need to run a script that needs to go for several hours on end.  Or for tasks that I need to pass along to others.</td>\n",
       "      <td>development,</td>\n",
       "      <td>1</td>\n",
       "    </tr>\n",
       "    <tr>\n",
       "      <th>165</th>\n",
       "      <td>No need to use more often.</td>\n",
       "      <td>nothing,</td>\n",
       "      <td>1</td>\n",
       "    </tr>\n",
       "    <tr>\n",
       "      <th>186</th>\n",
       "      <td>Need search/find (4.1 when available) Need diff tool for Notebooks</td>\n",
       "      <td>development,version,</td>\n",
       "      <td>1</td>\n",
       "    </tr>\n",
       "    <tr>\n",
       "      <th>348</th>\n",
       "      <td>At times I need to use other work environments (e.g. Atom) when I need other tools, e.g. non-exploratory work.</td>\n",
       "      <td>setup,</td>\n",
       "      <td>1</td>\n",
       "    </tr>\n",
       "    <tr>\n",
       "      <th>396</th>\n",
       "      <td>other work that needs to be done ;-)</td>\n",
       "      <td></td>\n",
       "      <td>1</td>\n",
       "    </tr>\n",
       "    <tr>\n",
       "      <th>563</th>\n",
       "      <td>Nothing, I just don't need it more often.</td>\n",
       "      <td>nothing,</td>\n",
       "      <td>1</td>\n",
       "    </tr>\n",
       "    <tr>\n",
       "      <th>590</th>\n",
       "      <td>An editor needs to be part of it.</td>\n",
       "      <td>development,</td>\n",
       "      <td>1</td>\n",
       "    </tr>\n",
       "    <tr>\n",
       "      <th>627</th>\n",
       "      <td>Nothing, I just don't need interactive development that often.</td>\n",
       "      <td>development,nothing,</td>\n",
       "      <td>1</td>\n",
       "    </tr>\n",
       "    <tr>\n",
       "      <th>747</th>\n",
       "      <td>No further need</td>\n",
       "      <td></td>\n",
       "      <td>1</td>\n",
       "    </tr>\n",
       "    <tr>\n",
       "      <th>764</th>\n",
       "      <td>I don't need to do this type of work more often</td>\n",
       "      <td></td>\n",
       "      <td>1</td>\n",
       "    </tr>\n",
       "  </tbody>\n",
       "</table>\n",
       "</div>"
      ],
      "text/plain": [
       "                                                                                                                                                   hinderances  \\\n",
       "110  The only time I don't use it is when I need to run a script that needs to go for several hours on end.  Or for tasks that I need to pass along to others.   \n",
       "165                                                                                                                                 No need to use more often.   \n",
       "186                                                                                        Need search/find (4.1 when available) Need diff tool for Notebooks    \n",
       "348                                             At times I need to use other work environments (e.g. Atom) when I need other tools, e.g. non-exploratory work.   \n",
       "396                                                                                                                       other work that needs to be done ;-)   \n",
       "563                                                                                                                  Nothing, I just don't need it more often.   \n",
       "590                                                                                                                          An editor needs to be part of it.   \n",
       "627                                                                                             Nothing, I just don't need interactive development that often.   \n",
       "747                                                                                                                                           No further need    \n",
       "764                                                                                                            I don't need to do this type of work more often   \n",
       "\n",
       "                   themes  cluster  \n",
       "110          development,        1  \n",
       "165              nothing,        1  \n",
       "186  development,version,        1  \n",
       "348                setup,        1  \n",
       "396                              1  \n",
       "563              nothing,        1  \n",
       "590          development,        1  \n",
       "627  development,nothing,        1  \n",
       "747                              1  \n",
       "764                              1  "
      ]
     },
     "execution_count": 39,
     "metadata": {},
     "output_type": "execute_result"
    }
   ],
   "source": [
    "tagged[tagged.cluster == 1].head(10)"
   ]
  },
  {
   "cell_type": "markdown",
   "metadata": {},
   "source": [
    "Cluster 5, the largest cluster, does not have a good separation of topics."
   ]
  },
  {
   "cell_type": "code",
   "execution_count": 40,
   "metadata": {
    "collapsed": false
   },
   "outputs": [
    {
     "data": {
      "text/html": [
       "<div>\n",
       "<table border=\"1\" class=\"dataframe\">\n",
       "  <thead>\n",
       "    <tr style=\"text-align: right;\">\n",
       "      <th></th>\n",
       "      <th>hinderances</th>\n",
       "      <th>themes</th>\n",
       "      <th>cluster</th>\n",
       "    </tr>\n",
       "  </thead>\n",
       "  <tbody>\n",
       "    <tr>\n",
       "      <th>1</th>\n",
       "      <td>Ways to hide helper function definitions (or easier ways to import functions from notebooks). But those might be bad practices</td>\n",
       "      <td></td>\n",
       "      <td>5</td>\n",
       "    </tr>\n",
       "    <tr>\n",
       "      <th>5</th>\n",
       "      <td>lazyness</td>\n",
       "      <td></td>\n",
       "      <td>5</td>\n",
       "    </tr>\n",
       "    <tr>\n",
       "      <th>7</th>\n",
       "      <td>- a standard option of converting the notebook to html, pdf,... with or without code cells, input/output prompts.  - easy integration in a static website (e.g. sphinx, ...)  where that static website is used as a sort of reporting tool - when converting to a certain format (rst, md, ...) the rendering of the output (e.g. pandas dataframes) also in that format provided the package has implemented this (e.g. pandas dataframes: in te notebook html representation, when converted to markdown a markdown representation,...)</td>\n",
       "      <td>reuse,development,disseminate,</td>\n",
       "      <td>5</td>\n",
       "    </tr>\n",
       "    <tr>\n",
       "      <th>9</th>\n",
       "      <td>Maybe figure out how to schedule automated execution of notebooks?</td>\n",
       "      <td>reuse,</td>\n",
       "      <td>5</td>\n",
       "    </tr>\n",
       "    <tr>\n",
       "      <th>13</th>\n",
       "      <td>My coworkers do not use them. Keybindings clash with vimperator.</td>\n",
       "      <td>development,</td>\n",
       "      <td>5</td>\n",
       "    </tr>\n",
       "    <tr>\n",
       "      <th>15</th>\n",
       "      <td>Corporate IT policy Colleagues' lack of knowledge of PyData stack</td>\n",
       "      <td>external,</td>\n",
       "      <td>5</td>\n",
       "    </tr>\n",
       "    <tr>\n",
       "      <th>23</th>\n",
       "      <td>IDE capabilities: debugging UI, refactorings,...</td>\n",
       "      <td>development,</td>\n",
       "      <td>5</td>\n",
       "    </tr>\n",
       "    <tr>\n",
       "      <th>27</th>\n",
       "      <td>Hub support for Windows. Better kernel reliability on Windows.</td>\n",
       "      <td>setup,robust,</td>\n",
       "      <td>5</td>\n",
       "    </tr>\n",
       "    <tr>\n",
       "      <th>28</th>\n",
       "      <td>Improved workflow to create reports with it. Just being able to cite papers from a bibtex file, spellchecking, reordering of chapters would be nice.</td>\n",
       "      <td>disseminate,</td>\n",
       "      <td>5</td>\n",
       "    </tr>\n",
       "    <tr>\n",
       "      <th>34</th>\n",
       "      <td>Lack of proper debugging tools (comparable to e.g. Eclipse IDE, Visual Studio or Matlab).</td>\n",
       "      <td>development,language,</td>\n",
       "      <td>5</td>\n",
       "    </tr>\n",
       "  </tbody>\n",
       "</table>\n",
       "</div>"
      ],
      "text/plain": [
       "                                                                                                                                                                                                                                                                                                                                                                                                                                                                                                                                    hinderances  \\\n",
       "1                                                                                                                                                                                                                                                                                                                                                                                                                Ways to hide helper function definitions (or easier ways to import functions from notebooks). But those might be bad practices   \n",
       "5                                                                                                                                                                                                                                                                                                                                                                                                                                                                                                                                      lazyness   \n",
       "7   - a standard option of converting the notebook to html, pdf,... with or without code cells, input/output prompts.  - easy integration in a static website (e.g. sphinx, ...)  where that static website is used as a sort of reporting tool - when converting to a certain format (rst, md, ...) the rendering of the output (e.g. pandas dataframes) also in that format provided the package has implemented this (e.g. pandas dataframes: in te notebook html representation, when converted to markdown a markdown representation,...)    \n",
       "9                                                                                                                                                                                                                                                                                                                                                                                                                                                                            Maybe figure out how to schedule automated execution of notebooks?   \n",
       "13                                                                                                                                                                                                                                                                                                                                                                                                                                                                             My coworkers do not use them. Keybindings clash with vimperator.   \n",
       "15                                                                                                                                                                                                                                                                                                                                                                                                                                                                            Corporate IT policy Colleagues' lack of knowledge of PyData stack   \n",
       "23                                                                                                                                                                                                                                                                                                                                                                                                                                                                                             IDE capabilities: debugging UI, refactorings,...   \n",
       "27                                                                                                                                                                                                                                                                                                                                                                                                                                                                               Hub support for Windows. Better kernel reliability on Windows.   \n",
       "28                                                                                                                                                                                                                                                                                                                                                                                         Improved workflow to create reports with it. Just being able to cite papers from a bibtex file, spellchecking, reordering of chapters would be nice.   \n",
       "34                                                                                                                                                                                                                                                                                                                                                                                                                                                    Lack of proper debugging tools (comparable to e.g. Eclipse IDE, Visual Studio or Matlab).   \n",
       "\n",
       "                            themes  cluster  \n",
       "1                                         5  \n",
       "5                                         5  \n",
       "7   reuse,development,disseminate,        5  \n",
       "9                           reuse,        5  \n",
       "13                    development,        5  \n",
       "15                       external,        5  \n",
       "23                    development,        5  \n",
       "27                   setup,robust,        5  \n",
       "28                    disseminate,        5  \n",
       "34           development,language,        5  "
      ]
     },
     "execution_count": 40,
     "metadata": {},
     "output_type": "execute_result"
    }
   ],
   "source": [
    "tagged[tagged.cluster == 5].head(10)"
   ]
  }
 ],
 "metadata": {
  "kernelspec": {
   "display_name": "Python 3",
   "language": "python",
   "name": "python3"
  },
  "language_info": {
   "codemirror_mode": {
    "name": "ipython",
    "version": 3
   },
   "file_extension": ".py",
   "mimetype": "text/x-python",
   "name": "python",
   "nbconvert_exporter": "python",
   "pygments_lexer": "ipython3",
   "version": "3.4.4"
  }
 },
 "nbformat": 4,
 "nbformat_minor": 0
}
