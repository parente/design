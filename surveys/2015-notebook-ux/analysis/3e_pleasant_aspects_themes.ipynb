{
 "cells": [
  {
   "cell_type": "markdown",
   "metadata": {},
   "source": [
    "# Response Themes for \"What aspects of Jupyter Notebook make it pleasant to use in your workflow?\"\n",
    "\n",
    "* Goal: Extract theme keywords from `pleasant_aspects` responses.\n",
    "* Data: Output from 2_clean_survey.ipynb notebook (`survey_short_columns.csv`)\n",
    "* Process from [1_ux_survey_review.ipynb](1_ux_survey_review.ipynb):\n",
    "\n",
    "> Moving forward, here's a semi-automatic procedure we can follow for identifying themes across questions:\n",
    "> 1. Take a random sample of question responses\n",
    "> 2. Write down common theme keywords\n",
    "> 3. Search back through the responses using the theme keywords\n",
    "> 4. Expand the set of keywords with other words seen in the search results\n",
    "> 5. Repeat for all themes and questions\n",
    "> Later, we can use a fully automated topic modeling approach to validate our manually generated themes."
   ]
  },
  {
   "cell_type": "code",
   "execution_count": 1,
   "metadata": {
    "collapsed": true
   },
   "outputs": [],
   "source": [
    "import warnings\n",
    "warnings.filterwarnings(\"ignore\")"
   ]
  },
  {
   "cell_type": "code",
   "execution_count": 2,
   "metadata": {
    "collapsed": false
   },
   "outputs": [],
   "source": [
    "%matplotlib inline"
   ]
  },
  {
   "cell_type": "code",
   "execution_count": 3,
   "metadata": {
    "collapsed": true
   },
   "outputs": [],
   "source": [
    "import pandas as pd\n",
    "import numpy as np"
   ]
  },
  {
   "cell_type": "markdown",
   "metadata": {},
   "source": [
    "Make sure the samples come up the same for anyone that re-runs this."
   ]
  },
  {
   "cell_type": "code",
   "execution_count": 4,
   "metadata": {
    "collapsed": false
   },
   "outputs": [],
   "source": [
    "rs = np.random.RandomState(123)"
   ]
  },
  {
   "cell_type": "code",
   "execution_count": 5,
   "metadata": {
    "collapsed": true
   },
   "outputs": [],
   "source": [
    "pd.set_option('max_colwidth', 1000)"
   ]
  },
  {
   "cell_type": "code",
   "execution_count": 6,
   "metadata": {
    "collapsed": true
   },
   "outputs": [],
   "source": [
    "df = pd.read_csv('survey_short_columns.csv')"
   ]
  },
  {
   "cell_type": "code",
   "execution_count": 7,
   "metadata": {
    "collapsed": true
   },
   "outputs": [],
   "source": [
    "def show(series):\n",
    "    '''Make random samples easier to read.'''\n",
    "    for i, value in enumerate(series):\n",
    "        print('{}) {}'.format(i, value), end='\\n\\n')"
   ]
  },
  {
   "cell_type": "code",
   "execution_count": 8,
   "metadata": {
    "collapsed": false
   },
   "outputs": [],
   "source": [
    "responses = pd.concat([df.pleasant_aspects_1, df.pleasant_aspects_2, df.pleasant_aspects_3])"
   ]
  },
  {
   "cell_type": "code",
   "execution_count": 9,
   "metadata": {
    "collapsed": true
   },
   "outputs": [],
   "source": [
    "assert len(responses) == len(df) * 3"
   ]
  },
  {
   "cell_type": "code",
   "execution_count": 10,
   "metadata": {
    "collapsed": false
   },
   "outputs": [
    {
     "data": {
      "text/plain": [
       "True     3953\n",
       "False    1165\n",
       "dtype: int64"
      ]
     },
     "execution_count": 10,
     "metadata": {},
     "output_type": "execute_result"
    }
   ],
   "source": [
    "responses.isnull().value_counts()"
   ]
  },
  {
   "cell_type": "code",
   "execution_count": 11,
   "metadata": {
    "collapsed": true
   },
   "outputs": [],
   "source": [
    "responses = responses.dropna()"
   ]
  },
  {
   "cell_type": "markdown",
   "metadata": {},
   "source": [
    "## Initial Samples\n",
    "\n",
    "I ran the sampling code below 5 times and manually built up the initial set of keywords seen commonly across them. I formed groups of conceptually related keywords. Then I tried to assign a simple label to each group."
   ]
  },
  {
   "cell_type": "code",
   "execution_count": 12,
   "metadata": {
    "collapsed": false,
    "scrolled": false
   },
   "outputs": [
    {
     "name": "stdout",
     "output_type": "stream",
     "text": [
      "0) Ease of use\n",
      "\n",
      "1) Clean interface\n",
      "\n",
      "2) Integration with pandas\n",
      "\n",
      "3) Little chunks\n",
      "\n",
      "4) Software repository via JSON\n",
      "\n",
      "5) Easily access my django models\n",
      "\n",
      "6) Easy to share analysis with others\n",
      "\n",
      "7) nbconvert\n",
      "\n",
      "8) REPL and visualization\n",
      "\n",
      "9) Executable cells\n",
      "\n",
      "10) Graphs, doc and code integration\n",
      "\n",
      "11) PDF export\n",
      "\n",
      "12) Inline plots, markdown, latex\n",
      "\n",
      "13) plotting\n",
      "\n",
      "14) Keyboard shortcuts.\n",
      "\n",
      "15) Rich media\n",
      "\n",
      "16) graph tools integrated\n",
      "\n",
      "17) Open sourceness, reproducibility of various results from the Internet\n",
      "\n",
      "18) Quick and easy access to Python\n",
      "\n",
      "19) Persistence\n",
      "\n"
     ]
    }
   ],
   "source": [
    "show(responses.sample(20, random_state=rs))"
   ]
  },
  {
   "cell_type": "code",
   "execution_count": 510,
   "metadata": {
    "collapsed": true
   },
   "outputs": [],
   "source": [
    "themes = {\n",
    "    'ux': ['ux|interface|g?ui($|\\W)', 'eas(e|y|iness)(\\sof|\\sto)?(\\suse|install)?', 'design', \n",
    "           'navigation', 'web|browser|http', 'intuitive', 'aesthetic(s|ally)',\n",
    "           'completion', 'simpl(e|icity)|clean', 'keyboard|hotkeys?|short-?cuts?|keybindings?', \n",
    "           'style', 'editor', 'help', 'responsive', 'pleasure to use', \n",
    "           'looks (nice|great)|appealing|beautiful|pretty|elegant|appearance', \n",
    "           'modal',\n",
    "           'doc(s|umentation)?($|\\W)', ],\n",
    "    'ecosystem': ['community|ecosystem|open source', 'librar(y|ies)', 'tool(ing)?',\n",
    "                  'standard', 'common', 'pandas', 'matplotlib', 'github', 'rpy2', 'ggplot2?', 'magics?',\n",
    "                  'nbgrader', 'sqlalchemy', 'bokeh'],\n",
    "    'cost': ['cost', 'free', 'cheaper', 'license', ],\n",
    "    'integrated_content': ['in-?line', 'links', 'latex', 'mathjax',\n",
    "                'mark(up|down)|HTML', 'combine|(text|code) (and|with)|and (code|text)', \n",
    "                'embedded', 'rich (content|output)|figures?|pictures?|images?|media',\n",
    "                'all(\\s|-)in(\\s|-)one|one place', 'notes|comments', 'integrated?', \n",
    "                'contained', 'litera(te|cy) programming', ],\n",
    "    'visualization': ['graph(s|ic|ing)', 'plot(ting)?', 'vi(s|z)ualization',\n",
    "                      'visual|eye candy', '(ipy)?widgets', '(display|see) (data|charts?|plots?)',\n",
    "                      ],\n",
    "    'dissemination': ['shar(e|ing)', 'export', 'nbconvert', 'pdf', 'reproducibility', 'convert', 'others', \n",
    "                      'teaching', 'collaborat(e|ion|ive|ors)', 'slides?', 'render', \n",
    "                      'nbviewer', 'presentations?', 'repeatable', 'team', 'tell a story'],\n",
    "    'organization': ['folder structure', 'organiz(e|ation)', ],\n",
    "    'hosting': ['setup', 'install', 'server', 'portability', 'hosting', 'cloud', 'platform', 'remote',\n",
    "                'docker', 'aws', 'on-?line', 'deployment', 'centralized'],\n",
    "    'interactivity': ['repl', 'cells?', 'cell execution', \n",
    "                      'interact(ive|ivity|ion)|live|immediate|quick|instant|rapid|fast|speed', \n",
    "                      'run', 'iterative|feedback|dynamic', 'flexib(le|ility)', \n",
    "                      'workflow', 'iterat(e|ion)', 'explor(e|atory)|experiment|sandbox|prototype', \n",
    "                      ],\n",
    "    'language': ['i?python', 'languages?', 'bash',],\n",
    "    'persistence': ['persist(ence|ent)?', '(auto)?sav(e|ing)', 'snapshot', \n",
    "                    'history', 'state', 'permanent record', 'log'],\n",
    "    'stability': ['robust', 'stable', 'reliable', 'reliability', 'mature', 'full featured'],\n",
    "    'extensible': ['exten(d|sible|sions)', 'plugin', 'custom', 'modular', 'expanding',\n",
    "                   'kernels|backends|kernel support']\n",
    "}"
   ]
  },
  {
   "cell_type": "markdown",
   "metadata": {},
   "source": [
    "## Coverage Improvement\n",
    "\n",
    "I next ran the code below to associate the theme labels with the responses. I then iterated on running the code below to find reponses without labels. I expanded the list of keywords and themes above in order to improve coverage."
   ]
  },
  {
   "cell_type": "code",
   "execution_count": 511,
   "metadata": {
    "collapsed": true
   },
   "outputs": [],
   "source": [
    "import re"
   ]
  },
  {
   "cell_type": "code",
   "execution_count": 512,
   "metadata": {
    "collapsed": true
   },
   "outputs": [],
   "source": [
    "def keywords_or(text, keywords):\n",
    "    for keyword in keywords:\n",
    "        if re.search('(^|\\W+){}'.format(keyword), text, re.IGNORECASE):\n",
    "            return True\n",
    "    return False"
   ]
  },
  {
   "cell_type": "code",
   "execution_count": 513,
   "metadata": {
    "collapsed": false
   },
   "outputs": [],
   "source": [
    "def tag_themes(data, themes):\n",
    "    tagged = data.to_frame()\n",
    "    tagged['themes'] = ''\n",
    "    for theme, keywords in themes.items():\n",
    "        results = data.map(lambda text: keywords_or(text, keywords))\n",
    "        tagged.loc[results, 'themes'] += theme + ','\n",
    "        print(theme, results.sum())\n",
    "    return tagged"
   ]
  },
  {
   "cell_type": "code",
   "execution_count": 514,
   "metadata": {
    "collapsed": false
   },
   "outputs": [
    {
     "name": "stdout",
     "output_type": "stream",
     "text": [
      "stability 6\n",
      "hosting 71\n",
      "cost 5\n",
      "ecosystem 80\n",
      "persistence 33\n",
      "integration 44\n",
      "visualization 161\n",
      "language 58\n",
      "organization 4\n",
      "extensible 22\n",
      "interactivity 234\n",
      "dissemination 109\n",
      "ux 355\n",
      "integrated_content 259\n"
     ]
    },
    {
     "data": {
      "text/plain": [
       "1    717\n",
       "2    289\n",
       "0    113\n",
       "3     39\n",
       "4      6\n",
       "5      1\n",
       "Name: themes, dtype: int64"
      ]
     },
     "execution_count": 514,
     "metadata": {},
     "output_type": "execute_result"
    }
   ],
   "source": [
    "tagged = tag_themes(responses, themes)\n",
    "tagged.themes.str.count(',').value_counts()"
   ]
  },
  {
   "cell_type": "code",
   "execution_count": 519,
   "metadata": {
    "collapsed": false
   },
   "outputs": [
    {
     "data": {
      "text/html": [
       "<div>\n",
       "<table border=\"1\" class=\"dataframe\">\n",
       "  <thead>\n",
       "    <tr style=\"text-align: right;\">\n",
       "      <th></th>\n",
       "      <th>0</th>\n",
       "      <th>themes</th>\n",
       "    </tr>\n",
       "  </thead>\n",
       "  <tbody>\n",
       "    <tr>\n",
       "      <th>966</th>\n",
       "      <td>2 tier architecture</td>\n",
       "      <td></td>\n",
       "    </tr>\n",
       "    <tr>\n",
       "      <th>1427</th>\n",
       "      <td>how it keeps everything loaded and current even if you close and re-open</td>\n",
       "      <td></td>\n",
       "    </tr>\n",
       "    <tr>\n",
       "      <th>918</th>\n",
       "      <td>readability</td>\n",
       "      <td></td>\n",
       "    </tr>\n",
       "    <tr>\n",
       "      <th>669</th>\n",
       "      <td>Literate statistical analysis</td>\n",
       "      <td></td>\n",
       "    </tr>\n",
       "    <tr>\n",
       "      <th>311</th>\n",
       "      <td>Little chunks</td>\n",
       "      <td></td>\n",
       "    </tr>\n",
       "    <tr>\n",
       "      <th>141</th>\n",
       "      <td>Most everything, love it!</td>\n",
       "      <td></td>\n",
       "    </tr>\n",
       "    <tr>\n",
       "      <th>1503</th>\n",
       "      <td>Powerful</td>\n",
       "      <td></td>\n",
       "    </tr>\n",
       "    <tr>\n",
       "      <th>474</th>\n",
       "      <td>Versatility</td>\n",
       "      <td></td>\n",
       "    </tr>\n",
       "    <tr>\n",
       "      <th>298</th>\n",
       "      <td>my notebook</td>\n",
       "      <td></td>\n",
       "    </tr>\n",
       "    <tr>\n",
       "      <th>887</th>\n",
       "      <td>switch kernals</td>\n",
       "      <td></td>\n",
       "    </tr>\n",
       "    <tr>\n",
       "      <th>428</th>\n",
       "      <td>Low barrier to entry</td>\n",
       "      <td></td>\n",
       "    </tr>\n",
       "    <tr>\n",
       "      <th>587</th>\n",
       "      <td>reproducible output</td>\n",
       "      <td></td>\n",
       "    </tr>\n",
       "    <tr>\n",
       "      <th>425</th>\n",
       "      <td>Coolness factor.</td>\n",
       "      <td></td>\n",
       "    </tr>\n",
       "    <tr>\n",
       "      <th>1133</th>\n",
       "      <td>Seems more palatable to show coding beginners</td>\n",
       "      <td></td>\n",
       "    </tr>\n",
       "    <tr>\n",
       "      <th>898</th>\n",
       "      <td>Convenience</td>\n",
       "      <td></td>\n",
       "    </tr>\n",
       "    <tr>\n",
       "      <th>342</th>\n",
       "      <td>Light weight</td>\n",
       "      <td></td>\n",
       "    </tr>\n",
       "    <tr>\n",
       "      <th>1587</th>\n",
       "      <td>boxes</td>\n",
       "      <td></td>\n",
       "    </tr>\n",
       "    <tr>\n",
       "      <th>487</th>\n",
       "      <td>Tables</td>\n",
       "      <td></td>\n",
       "    </tr>\n",
       "    <tr>\n",
       "      <th>227</th>\n",
       "      <td>Easily access my django models</td>\n",
       "      <td></td>\n",
       "    </tr>\n",
       "    <tr>\n",
       "      <th>1480</th>\n",
       "      <td>Accessibility</td>\n",
       "      <td></td>\n",
       "    </tr>\n",
       "  </tbody>\n",
       "</table>\n",
       "</div>"
      ],
      "text/plain": [
       "                                                                             0  \\\n",
       "966                                                        2 tier architecture   \n",
       "1427  how it keeps everything loaded and current even if you close and re-open   \n",
       "918                                                                readability   \n",
       "669                                              Literate statistical analysis   \n",
       "311                                                              Little chunks   \n",
       "141                                                  Most everything, love it!   \n",
       "1503                                                                  Powerful   \n",
       "474                                                                Versatility   \n",
       "298                                                                my notebook   \n",
       "887                                                             switch kernals   \n",
       "428                                                       Low barrier to entry   \n",
       "587                                                        reproducible output   \n",
       "425                                                           Coolness factor.   \n",
       "1133                             Seems more palatable to show coding beginners   \n",
       "898                                                                Convenience   \n",
       "342                                                              Light weight    \n",
       "1587                                                                     boxes   \n",
       "487                                                                     Tables   \n",
       "227                                             Easily access my django models   \n",
       "1480                                                             Accessibility   \n",
       "\n",
       "     themes  \n",
       "966          \n",
       "1427         \n",
       "918          \n",
       "669          \n",
       "311          \n",
       "141          \n",
       "1503         \n",
       "474          \n",
       "298          \n",
       "887          \n",
       "428          \n",
       "587          \n",
       "425          \n",
       "1133         \n",
       "898          \n",
       "342          \n",
       "1587         \n",
       "487          \n",
       "227          \n",
       "1480         "
      ]
     },
     "execution_count": 519,
     "metadata": {},
     "output_type": "execute_result"
    }
   ],
   "source": [
    "tagged[tagged.themes.str.len() == 0].sample(20, random_state=rs)"
   ]
  },
  {
   "cell_type": "markdown",
   "metadata": {},
   "source": [
    "## Precision Check\n",
    "\n",
    "I then studied a sample of responses for each theme to see if there major inaccuracies in their application (e.g., string matches that are too fuzzy)."
   ]
  },
  {
   "cell_type": "code",
   "execution_count": 520,
   "metadata": {
    "collapsed": false
   },
   "outputs": [
    {
     "name": "stdout",
     "output_type": "stream",
     "text": [
      "stability 6\n",
      "hosting 71\n",
      "cost 5\n",
      "ecosystem 80\n",
      "persistence 33\n",
      "integration 44\n",
      "visualization 161\n",
      "language 58\n",
      "organization 4\n",
      "extensible 22\n",
      "interactivity 234\n",
      "dissemination 109\n",
      "ux 355\n",
      "integrated_content 259\n"
     ]
    },
    {
     "data": {
      "text/plain": [
       "1    717\n",
       "2    289\n",
       "0    113\n",
       "3     39\n",
       "4      6\n",
       "5      1\n",
       "Name: themes, dtype: int64"
      ]
     },
     "execution_count": 520,
     "metadata": {},
     "output_type": "execute_result"
    }
   ],
   "source": [
    "tagged = tag_themes(responses, themes)\n",
    "tagged.themes.str.count(',').value_counts()"
   ]
  },
  {
   "cell_type": "code",
   "execution_count": 521,
   "metadata": {
    "collapsed": true
   },
   "outputs": [],
   "source": [
    "from IPython.display import display, clear_output"
   ]
  },
  {
   "cell_type": "code",
   "execution_count": 522,
   "metadata": {
    "collapsed": false,
    "scrolled": false
   },
   "outputs": [],
   "source": [
    "# for key in themes:\n",
    "#     clear_output()\n",
    "#     size = min([10, len(tagged[tagged.themes.str.contains(key)])])\n",
    "#     display(tagged[tagged.themes.str.contains(key)].sample(size))\n",
    "#     if input('Showing `{}`. Type Enter to continue, \"q\" to stop.'.format(key)) == 'q':\n",
    "#         break"
   ]
  },
  {
   "cell_type": "markdown",
   "metadata": {},
   "source": [
    "I also looked at responses with multiple themes to fine tune them, and catch duplication of words in multiple themes."
   ]
  },
  {
   "cell_type": "code",
   "execution_count": 523,
   "metadata": {
    "collapsed": false
   },
   "outputs": [
    {
     "data": {
      "text/html": [
       "<div>\n",
       "<table border=\"1\" class=\"dataframe\">\n",
       "  <thead>\n",
       "    <tr style=\"text-align: right;\">\n",
       "      <th></th>\n",
       "      <th>0</th>\n",
       "      <th>themes</th>\n",
       "    </tr>\n",
       "  </thead>\n",
       "  <tbody>\n",
       "    <tr>\n",
       "      <th>666</th>\n",
       "      <td>Organization of a python script into blocks</td>\n",
       "      <td>language,organization,</td>\n",
       "    </tr>\n",
       "    <tr>\n",
       "      <th>1487</th>\n",
       "      <td>server-client browser interface</td>\n",
       "      <td>hosting,ux,</td>\n",
       "    </tr>\n",
       "    <tr>\n",
       "      <th>312</th>\n",
       "      <td>Interactive widgets</td>\n",
       "      <td>visualization,interactivity,</td>\n",
       "    </tr>\n",
       "    <tr>\n",
       "      <th>1297</th>\n",
       "      <td>Graphics produced inline</td>\n",
       "      <td>visualization,integrated_content,</td>\n",
       "    </tr>\n",
       "    <tr>\n",
       "      <th>496</th>\n",
       "      <td>Easy to write and run small blocks of code</td>\n",
       "      <td>interactivity,ux,</td>\n",
       "    </tr>\n",
       "    <tr>\n",
       "      <th>1343</th>\n",
       "      <td>Open sourceness, reproducibility of various results from the Internet</td>\n",
       "      <td>ecosystem,dissemination,</td>\n",
       "    </tr>\n",
       "    <tr>\n",
       "      <th>1032</th>\n",
       "      <td>Inline graph visualization</td>\n",
       "      <td>visualization,integrated_content,</td>\n",
       "    </tr>\n",
       "    <tr>\n",
       "      <th>271</th>\n",
       "      <td>Code + figures together allow for fast prototyping</td>\n",
       "      <td>interactivity,integrated_content,</td>\n",
       "    </tr>\n",
       "    <tr>\n",
       "      <th>99</th>\n",
       "      <td>Maintaining state in a running notebook</td>\n",
       "      <td>persistence,interactivity,</td>\n",
       "    </tr>\n",
       "    <tr>\n",
       "      <th>828</th>\n",
       "      <td>pretty easy to export</td>\n",
       "      <td>dissemination,ux,</td>\n",
       "    </tr>\n",
       "    <tr>\n",
       "      <th>1645</th>\n",
       "      <td>inline graphics</td>\n",
       "      <td>visualization,integrated_content,</td>\n",
       "    </tr>\n",
       "    <tr>\n",
       "      <th>109</th>\n",
       "      <td>Embed data graphics into a document with code &amp; comments</td>\n",
       "      <td>visualization,integrated_content,</td>\n",
       "    </tr>\n",
       "    <tr>\n",
       "      <th>135</th>\n",
       "      <td>Very responsive, easy to use interactively</td>\n",
       "      <td>interactivity,ux,</td>\n",
       "    </tr>\n",
       "    <tr>\n",
       "      <th>1050</th>\n",
       "      <td>Easy to (re)produce plots</td>\n",
       "      <td>visualization,ux,</td>\n",
       "    </tr>\n",
       "    <tr>\n",
       "      <th>21</th>\n",
       "      <td>markdown integration</td>\n",
       "      <td>integration,integrated_content,</td>\n",
       "    </tr>\n",
       "    <tr>\n",
       "      <th>1562</th>\n",
       "      <td>inline graphics / figures</td>\n",
       "      <td>visualization,integrated_content,</td>\n",
       "    </tr>\n",
       "    <tr>\n",
       "      <th>980</th>\n",
       "      <td>Easy to view tables (pd.DataFrame) and graphs</td>\n",
       "      <td>visualization,ux,</td>\n",
       "    </tr>\n",
       "    <tr>\n",
       "      <th>1243</th>\n",
       "      <td>rich text cells, latex option</td>\n",
       "      <td>interactivity,integrated_content,</td>\n",
       "    </tr>\n",
       "    <tr>\n",
       "      <th>305</th>\n",
       "      <td>remote access from a browser (I'm a Chromebook guy)</td>\n",
       "      <td>hosting,ux,</td>\n",
       "    </tr>\n",
       "    <tr>\n",
       "      <th>453</th>\n",
       "      <td>Text, code and plots all in 1 document</td>\n",
       "      <td>visualization,integrated_content,</td>\n",
       "    </tr>\n",
       "  </tbody>\n",
       "</table>\n",
       "</div>"
      ],
      "text/plain": [
       "                                                                          0  \\\n",
       "666                             Organization of a python script into blocks   \n",
       "1487                                        server-client browser interface   \n",
       "312                                                     Interactive widgets   \n",
       "1297                                              Graphics produced inline    \n",
       "496                              Easy to write and run small blocks of code   \n",
       "1343  Open sourceness, reproducibility of various results from the Internet   \n",
       "1032                                             Inline graph visualization   \n",
       "271                      Code + figures together allow for fast prototyping   \n",
       "99                                  Maintaining state in a running notebook   \n",
       "828                                                   pretty easy to export   \n",
       "1645                                                        inline graphics   \n",
       "109                Embed data graphics into a document with code & comments   \n",
       "135                              Very responsive, easy to use interactively   \n",
       "1050                                              Easy to (re)produce plots   \n",
       "21                                                     markdown integration   \n",
       "1562                                              inline graphics / figures   \n",
       "980                           Easy to view tables (pd.DataFrame) and graphs   \n",
       "1243                                          rich text cells, latex option   \n",
       "305                     remote access from a browser (I'm a Chromebook guy)   \n",
       "453                                  Text, code and plots all in 1 document   \n",
       "\n",
       "                                 themes  \n",
       "666              language,organization,  \n",
       "1487                        hosting,ux,  \n",
       "312        visualization,interactivity,  \n",
       "1297  visualization,integrated_content,  \n",
       "496                   interactivity,ux,  \n",
       "1343           ecosystem,dissemination,  \n",
       "1032  visualization,integrated_content,  \n",
       "271   interactivity,integrated_content,  \n",
       "99           persistence,interactivity,  \n",
       "828                   dissemination,ux,  \n",
       "1645  visualization,integrated_content,  \n",
       "109   visualization,integrated_content,  \n",
       "135                   interactivity,ux,  \n",
       "1050                  visualization,ux,  \n",
       "21      integration,integrated_content,  \n",
       "1562  visualization,integrated_content,  \n",
       "980                   visualization,ux,  \n",
       "1243  interactivity,integrated_content,  \n",
       "305                         hosting,ux,  \n",
       "453   visualization,integrated_content,  "
      ]
     },
     "execution_count": 523,
     "metadata": {},
     "output_type": "execute_result"
    }
   ],
   "source": [
    "tagged[tagged.themes.str.count(',') == 2].sample(20, random_state=rs)"
   ]
  },
  {
   "cell_type": "markdown",
   "metadata": {},
   "source": [
    "## Keyword Frequencies"
   ]
  },
  {
   "cell_type": "code",
   "execution_count": 524,
   "metadata": {
    "collapsed": true
   },
   "outputs": [],
   "source": [
    "import matplotlib\n",
    "import seaborn"
   ]
  },
  {
   "cell_type": "code",
   "execution_count": 525,
   "metadata": {
    "collapsed": true
   },
   "outputs": [],
   "source": [
    "counts = {}"
   ]
  },
  {
   "cell_type": "code",
   "execution_count": 526,
   "metadata": {
    "collapsed": false
   },
   "outputs": [],
   "source": [
    "for theme, keywords in themes.items():\n",
    "    for keyword in keywords:\n",
    "        hits = responses.map(lambda text: keywords_or(text, [keyword]))\n",
    "        counts[keyword] = hits.sum()"
   ]
  },
  {
   "cell_type": "code",
   "execution_count": 527,
   "metadata": {
    "collapsed": true
   },
   "outputs": [],
   "source": [
    "hist = pd.Series(counts).sort_values()"
   ]
  },
  {
   "cell_type": "code",
   "execution_count": 528,
   "metadata": {
    "collapsed": false
   },
   "outputs": [
    {
     "data": {
      "image/png": "[encoded data removed]",
      "text/plain": [
       "<matplotlib.figure.Figure at 0x7fd9af2819b0>"
      ]
     },
     "metadata": {},
     "output_type": "display_data"
    }
   ],
   "source": [
    "ax = hist[-30:].plot.barh(figsize=(8, 8))\n",
    "_ = ax.set_xlabel('Mentions')"
   ]
  },
  {
   "cell_type": "markdown",
   "metadata": {
    "collapsed": true
   },
   "source": [
    "## Persist\n",
    "\n",
    "I save off the themes and keywords to a DataFrame with the same index as the original so that the entries can be tagged."
   ]
  },
  {
   "cell_type": "code",
   "execution_count": 529,
   "metadata": {
    "collapsed": true
   },
   "outputs": [],
   "source": [
    "column = 'pleasant_aspects'"
   ]
  },
  {
   "cell_type": "code",
   "execution_count": 530,
   "metadata": {
    "collapsed": true
   },
   "outputs": [],
   "source": [
    "themes_df = tagged.themes.to_frame()"
   ]
  },
  {
   "cell_type": "code",
   "execution_count": 531,
   "metadata": {
    "collapsed": true
   },
   "outputs": [],
   "source": [
    "themes_df = themes_df.rename(columns={'themes' : column+'_themes'})"
   ]
  },
  {
   "cell_type": "code",
   "execution_count": 532,
   "metadata": {
    "collapsed": true
   },
   "outputs": [],
   "source": [
    "themes_df[column+'_keywords'] = ''"
   ]
  },
  {
   "cell_type": "code",
   "execution_count": 533,
   "metadata": {
    "collapsed": true
   },
   "outputs": [],
   "source": [
    "for theme, keywords in themes.items():\n",
    "    for keyword in keywords:\n",
    "        results = responses.map(lambda text: keywords_or(text, [keyword]))\n",
    "        if not results.sum(): continue\n",
    "        themes_df.loc[results, column+'_keywords'] += keyword + ','"
   ]
  },
  {
   "cell_type": "code",
   "execution_count": 534,
   "metadata": {
    "collapsed": true
   },
   "outputs": [],
   "source": [
    "themes_df[column+'_themes'] = themes_df[column+'_themes'].str.rstrip(',')\n",
    "themes_df[column+'_keywords'] = themes_df[column+'_keywords'].str.rstrip(',')"
   ]
  },
  {
   "cell_type": "markdown",
   "metadata": {},
   "source": [
    "Up above, I merged the three response fields for the question into one common pool which means we can have duplicate index value in the themes DataFrame. We need to squash these down and remove duplicates."
   ]
  },
  {
   "cell_type": "code",
   "execution_count": 535,
   "metadata": {
    "collapsed": true
   },
   "outputs": [],
   "source": [
    "def union(group_df):\n",
    "    '''Gets the set union of themes and keywords for a given DataFrame.'''\n",
    "    themes = group_df[column+'_themes'].str.cat(sep=',')\n",
    "    themes = list(set(themes.split(',')))\n",
    "    themes = ','.join(themes)\n",
    "    \n",
    "    keywords = group_df[column+'_keywords'].str.cat(sep=',')\n",
    "    keywords = list(set(keywords.split(',')))\n",
    "    keywords = ','.join(keywords)\n",
    "    return pd.Series([themes, keywords], index=[column+'_themes', column+'_keywords'])"
   ]
  },
  {
   "cell_type": "markdown",
   "metadata": {},
   "source": [
    "We group by the index and union the themes and keywords."
   ]
  },
  {
   "cell_type": "code",
   "execution_count": 537,
   "metadata": {
    "collapsed": true
   },
   "outputs": [],
   "source": [
    "themes_df = themes_df.groupby(themes_df.index).apply(union)"
   ]
  },
  {
   "cell_type": "code",
   "execution_count": 538,
   "metadata": {
    "collapsed": false
   },
   "outputs": [
    {
     "data": {
      "text/html": [
       "<div>\n",
       "<table border=\"1\" class=\"dataframe\">\n",
       "  <thead>\n",
       "    <tr style=\"text-align: right;\">\n",
       "      <th></th>\n",
       "      <th>pleasant_aspects_themes</th>\n",
       "      <th>pleasant_aspects_keywords</th>\n",
       "    </tr>\n",
       "  </thead>\n",
       "  <tbody>\n",
       "    <tr>\n",
       "      <th>1</th>\n",
       "      <td>visualization,ux</td>\n",
       "      <td>(ipy)?widgets,keyboard|hotkeys?|short-?cuts?|keybindings?</td>\n",
       "    </tr>\n",
       "    <tr>\n",
       "      <th>5</th>\n",
       "      <td>integration,integrated_content,language</td>\n",
       "      <td>integration,notes|comments,i?python,rich (content|output)|figures?|pictures?|images?|media,all(\\s|-)in(\\s|-)one|one place</td>\n",
       "    </tr>\n",
       "    <tr>\n",
       "      <th>6</th>\n",
       "      <td>visualization,integrated_content,dissemination,ecosystem,ux</td>\n",
       "      <td>github,shar(e|ing),combine|(text|code) (and|with)|and (code|text),(ipy)?widgets,plot(ting)?,eas(e|y|iness)(\\sof|\\sto)?(\\suse|install)?</td>\n",
       "    </tr>\n",
       "    <tr>\n",
       "      <th>7</th>\n",
       "      <td>,integration,interactivity</td>\n",
       "      <td>,integration,interact(ive|ivity|ion)|live|immediate|quick|instant|rapid|fast|speed</td>\n",
       "    </tr>\n",
       "    <tr>\n",
       "      <th>9</th>\n",
       "      <td>language,ux,hosting,persistence</td>\n",
       "      <td>docker,i?python,web|browser|http,state</td>\n",
       "    </tr>\n",
       "  </tbody>\n",
       "</table>\n",
       "</div>"
      ],
      "text/plain": [
       "                                       pleasant_aspects_themes  \\\n",
       "1                                             visualization,ux   \n",
       "5                      integration,integrated_content,language   \n",
       "6  visualization,integrated_content,dissemination,ecosystem,ux   \n",
       "7                                   ,integration,interactivity   \n",
       "9                              language,ux,hosting,persistence   \n",
       "\n",
       "                                                                                                                pleasant_aspects_keywords  \n",
       "1                                                                               (ipy)?widgets,keyboard|hotkeys?|short-?cuts?|keybindings?  \n",
       "5               integration,notes|comments,i?python,rich (content|output)|figures?|pictures?|images?|media,all(\\s|-)in(\\s|-)one|one place  \n",
       "6  github,shar(e|ing),combine|(text|code) (and|with)|and (code|text),(ipy)?widgets,plot(ting)?,eas(e|y|iness)(\\sof|\\sto)?(\\suse|install)?  \n",
       "7                                                      ,integration,interact(ive|ivity|ion)|live|immediate|quick|instant|rapid|fast|speed  \n",
       "9                                                                                                  docker,i?python,web|browser|http,state  "
      ]
     },
     "execution_count": 538,
     "metadata": {},
     "output_type": "execute_result"
    }
   ],
   "source": [
    "themes_df.head()"
   ]
  },
  {
   "cell_type": "markdown",
   "metadata": {},
   "source": [
    "The themes DataFrame should have as many rows as there are non-null responses in the original DataFrame."
   ]
  },
  {
   "cell_type": "code",
   "execution_count": 540,
   "metadata": {
    "collapsed": true
   },
   "outputs": [],
   "source": [
    "assert len(themes_df) == len(df[[column+'_1', column+'_2', column+'_3']].dropna(how='all'))"
   ]
  },
  {
   "cell_type": "code",
   "execution_count": 541,
   "metadata": {
    "collapsed": true
   },
   "outputs": [],
   "source": [
    "themes_df.to_csv(column + '_themes.csv', sep=';')"
   ]
  },
  {
   "cell_type": "code",
   "execution_count": null,
   "metadata": {
    "collapsed": true
   },
   "outputs": [],
   "source": []
  }
 ],
 "metadata": {
  "kernelspec": {
   "display_name": "Python 3",
   "language": "python",
   "name": "python3"
  },
  "language_info": {
   "codemirror_mode": {
    "name": "ipython",
    "version": 3
   },
   "file_extension": ".py",
   "mimetype": "text/x-python",
   "name": "python",
   "nbconvert_exporter": "python",
   "pygments_lexer": "ipython3",
   "version": "3.4.4"
  }
 },
 "nbformat": 4,
 "nbformat_minor": 0
}
