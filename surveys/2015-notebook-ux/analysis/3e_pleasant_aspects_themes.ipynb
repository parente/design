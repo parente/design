{
 "cells": [
  {
   "cell_type": "markdown",
   "metadata": {},
   "source": [
    "# Response Themes for \"What aspects of Jupyter Notebook make it pleasant to use in your workflow?\"\n",
    "\n",
    "* Goal: Extract theme keywords from `pleasant_aspects` responses.\n",
    "* Data: Output from 2_clean_survey.ipynb notebook (`survey_short_columns.csv`)\n",
    "* Process from [1_ux_survey_review.ipynb](1_ux_survey_review.ipynb):\n",
    "\n",
    "> Moving forward, here's a semi-automatic procedure we can follow for identifying themes across questions:\n",
    "> 1. Take a random sample of question responses\n",
    "> 2. Write down common theme keywords\n",
    "> 3. Search back through the responses using the theme keywords\n",
    "> 4. Expand the set of keywords with other words seen in the search results\n",
    "> 5. Repeat for all themes and questions\n",
    "> Later, we can use a fully automated topic modeling approach to validate our manually generated themes."
   ]
  },
  {
   "cell_type": "code",
   "execution_count": 11,
   "metadata": {
    "collapsed": true
   },
   "outputs": [],
   "source": [
    "import warnings\n",
    "warnings.filterwarnings(\"ignore\")"
   ]
  },
  {
   "cell_type": "code",
   "execution_count": 12,
   "metadata": {
    "collapsed": false
   },
   "outputs": [],
   "source": [
    "%matplotlib inline"
   ]
  },
  {
   "cell_type": "code",
   "execution_count": 13,
   "metadata": {
    "collapsed": true
   },
   "outputs": [],
   "source": [
    "import pandas as pd\n",
    "import numpy as np"
   ]
  },
  {
   "cell_type": "markdown",
   "metadata": {},
   "source": [
    "Make sure the samples come up the same for anyone that re-runs this."
   ]
  },
  {
   "cell_type": "code",
   "execution_count": 14,
   "metadata": {
    "collapsed": false
   },
   "outputs": [],
   "source": [
    "rs = np.random.RandomState(123)"
   ]
  },
  {
   "cell_type": "code",
   "execution_count": 303,
   "metadata": {
    "collapsed": true
   },
   "outputs": [],
   "source": [
    "pd.set_option('max_colwidth', 1000)"
   ]
  },
  {
   "cell_type": "code",
   "execution_count": 16,
   "metadata": {
    "collapsed": true
   },
   "outputs": [],
   "source": [
    "df = pd.read_csv('survey_short_columns.csv')"
   ]
  },
  {
   "cell_type": "code",
   "execution_count": 17,
   "metadata": {
    "collapsed": true
   },
   "outputs": [],
   "source": [
    "def show(series):\n",
    "    '''Make random samples easier to read.'''\n",
    "    for i, value in enumerate(series):\n",
    "        print('{}) {}'.format(i, value), end='\\n\\n')"
   ]
  },
  {
   "cell_type": "code",
   "execution_count": 18,
   "metadata": {
    "collapsed": false
   },
   "outputs": [],
   "source": [
    "responses = pd.concat([df.pleasant_aspects_1, df.pleasant_aspects_2, df.pleasant_aspects_3], ignore_index=True)"
   ]
  },
  {
   "cell_type": "code",
   "execution_count": 19,
   "metadata": {
    "collapsed": true
   },
   "outputs": [],
   "source": [
    "assert len(responses) == len(df) * 3"
   ]
  },
  {
   "cell_type": "code",
   "execution_count": 20,
   "metadata": {
    "collapsed": false
   },
   "outputs": [
    {
     "data": {
      "text/plain": [
       "True     3953\n",
       "False    1165\n",
       "dtype: int64"
      ]
     },
     "execution_count": 20,
     "metadata": {},
     "output_type": "execute_result"
    }
   ],
   "source": [
    "responses.isnull().value_counts()"
   ]
  },
  {
   "cell_type": "code",
   "execution_count": 21,
   "metadata": {
    "collapsed": true
   },
   "outputs": [],
   "source": [
    "responses = responses.dropna()"
   ]
  },
  {
   "cell_type": "markdown",
   "metadata": {},
   "source": [
    "## Initial Samples\n",
    "\n",
    "I ran the sampling code below 5 times and manually built up the initial set of keywords seen commonly across them. I formed groups of conceptually related keywords. Then I tried to assign a simple label to each group."
   ]
  },
  {
   "cell_type": "code",
   "execution_count": 33,
   "metadata": {
    "collapsed": false,
    "scrolled": false
   },
   "outputs": [
    {
     "name": "stdout",
     "output_type": "stream",
     "text": [
      "0) Aesthetics\n",
      "\n",
      "1) markdown syntax\n",
      "\n",
      "2) Rendering reports then and there\n",
      "\n",
      "3) Inline math\n",
      "\n",
      "4) create lab for student\n",
      "\n",
      "5) Interactive\n",
      "\n",
      "6) Simple to use remotely\n",
      "\n",
      "7) \"nice\" display optins (inline graphics, HTML for dataframes)\n",
      "\n",
      "8) Support on GitHub\n",
      "\n",
      "9) Save the execution trail\n",
      "\n",
      "10) easy visualization\n",
      "\n",
      "11) literacy programming\n",
      "\n",
      "12) Out-Of-Order Execution\n",
      "\n",
      "13) Frontend / Backend dissociation - I quite often experiment on a local machine and launch more calcul intensive jobs on AWS\n",
      "\n",
      "14) step by step approach to solve any problem\n",
      "\n",
      "15) Interactive evaluation\n",
      "\n",
      "16) on-line\n",
      "\n",
      "17) Rpy2\n",
      "\n",
      "18) Programming in \"cells\" is intuitive and elegant.\n",
      "\n",
      "19) Great for teaching\n",
      "\n"
     ]
    }
   ],
   "source": [
    "show(responses.sample(20, random_state=rs))"
   ]
  },
  {
   "cell_type": "code",
   "execution_count": 449,
   "metadata": {
    "collapsed": true
   },
   "outputs": [],
   "source": [
    "themes = {\n",
    "    'ux': ['ux', 'ease of use', 'easy to use', 'easiness', 'shortcuts', 'clean', 'interface', 'design', \n",
    "           'pretty', 'navigation', 'web', 'appealing', 'intuitive', 'elegant', 'aesthetics', 'aesthetically',\n",
    "           'completion', 'simple', 'simplicity', 'browser', 'appearance', 'hotkeys', 'ui', 'keyboard', \n",
    "           'style', 'editor', 'beautiful', 'help', 'responsive', 'pleasure to use', 'looks nice', 'looks great',\n",
    "           'easy', 'hotkey', 'modal',],\n",
    "    'ecosystem': ['community', 'open source', 'library', 'libraries', 'ecosystem', 'tool', 'tooling',\n",
    "                  'standard', 'common', 'pandas', 'matplotlib', 'github', 'rpy2', 'ggplot', 'magic', 'magics',\n",
    "                  'nbgrader', 'sqlalchemy', 'bokeh'],\n",
    "    'cost': ['cost', 'free', 'cheaper', 'license', ],\n",
    "    'integrated_content': ['media', 'inline', 'in-line', 'rich content', 'links', 'latex', 'mathjax',\n",
    "                'markdown', 'markup', 'combine', 'code and', 'and code', 'code with', 'text and', 'and text', \n",
    "                'embedded', 'images',\n",
    "                'HTML', 'all in one', 'all-in-one', 'comments', 'figures', 'integrate', 'integrated', \n",
    "                'contained', 'notes', 'documentation', 'literate programming', 'literacy programming',],\n",
    "    'visualization': ['graphs', 'graphic', 'graphing', 'eye candy', 'plot', 'plotting', 'visualization', 'vizualization',\n",
    "                      'visual', 'pictures', 'widgets', 'ipywidgets', 'see data', 'see charts', 'see plots',\n",
    "                      'display data'],\n",
    "    'collaboration': ['share', 'sharing', 'export', 'nbconvert', 'pdf', 'reproducibility', 'convert', 'others', \n",
    "                      'teaching', 'collaboration', 'collaborate', 'collaborative', 'slides', 'render', \n",
    "                      'nbviewer', 'presentation', 'repeatable', 'collaborators', 'team', 'tell a story'],\n",
    "    'integration': ['integration',],\n",
    "    'organization': ['folder structure', 'organization', 'organize'],\n",
    "    'hosting': ['setup', 'install', 'server', 'portability', 'hosting', 'cloud', 'platform', 'remote',\n",
    "                'docker', 'aws', 'online', 'on-line', 'deployment', 'centralized'],\n",
    "    'interactivity': ['repl', 'cell', 'cells', 'cell execution', 'interactive', 'interactivity', 'immediate', \n",
    "                      'run', 'iterative', 'flexible', 'flexibility', 'live', 'experiment', \n",
    "                      'feedback', 'workflow', 'iteration', 'iterate', 'prototype', 'explore', \n",
    "                      'exploratory', 'sandbox', 'interaction', 'dynamic'],\n",
    "    'language': ['python', 'language', 'ipython', 'bash',],\n",
    "    'persistence': ['persistence', 'persistent', 'persist', 'save', 'saving', 'autosave', 'snapshot', \n",
    "                    'history', 'state', 'permanent record', 'log'],\n",
    "    'speed': ['speed', 'quick', 'rapid', 'fast', 'instant'],\n",
    "    'stability': ['robust', 'stable', 'reliable', 'reliability', 'mature', 'full featured'],\n",
    "    'extensible': ['extensible', 'extensions', 'plugin', 'custom', 'extend', 'backends', 'modular', 'expanding',\n",
    "                   'kernels', 'kernel support']\n",
    "}"
   ]
  },
  {
   "cell_type": "markdown",
   "metadata": {},
   "source": [
    "## Coverage Improvement\n",
    "\n",
    "I next ran the code below to associate the theme labels with the responses. I then iterated on running the code below to find reponses without labels. I expanded the list of keywords and themes above in order to improve coverage."
   ]
  },
  {
   "cell_type": "code",
   "execution_count": 450,
   "metadata": {
    "collapsed": true
   },
   "outputs": [],
   "source": [
    "import re"
   ]
  },
  {
   "cell_type": "code",
   "execution_count": 451,
   "metadata": {
    "collapsed": true
   },
   "outputs": [],
   "source": [
    "def keywords_or(text, keywords):\n",
    "    for keyword in keywords:\n",
    "        if re.search('(^|\\W+){}'.format(keyword), text, re.IGNORECASE):\n",
    "            return True\n",
    "    return False"
   ]
  },
  {
   "cell_type": "code",
   "execution_count": 452,
   "metadata": {
    "collapsed": false
   },
   "outputs": [],
   "source": [
    "def tag_themes(data, themes):\n",
    "    tagged = data.to_frame()\n",
    "    tagged['themes'] = ''\n",
    "    for theme, keywords in themes.items():\n",
    "        results = data.map(lambda text: keywords_or(text, keywords))\n",
    "        tagged.loc[results, 'themes'] += theme + ','\n",
    "        print(theme, results.sum())\n",
    "    return tagged"
   ]
  },
  {
   "cell_type": "code",
   "execution_count": 453,
   "metadata": {
    "collapsed": false
   },
   "outputs": [
    {
     "name": "stdout",
     "output_type": "stream",
     "text": [
      "hosting 70\n",
      "stability 6\n",
      "ecosystem 80\n",
      "interactivity 203\n",
      "ux 316\n",
      "visualization 163\n",
      "language 58\n",
      "persistence 33\n",
      "organization 4\n",
      "collaboration 109\n",
      "integrated_content 252\n",
      "speed 49\n",
      "cost 5\n",
      "integration 44\n",
      "extensible 22\n"
     ]
    },
    {
     "data": {
      "text/plain": [
       "1    713\n",
       "2    288\n",
       "0    124\n",
       "3     36\n",
       "4      3\n",
       "5      1\n",
       "Name: themes, dtype: int64"
      ]
     },
     "execution_count": 453,
     "metadata": {},
     "output_type": "execute_result"
    }
   ],
   "source": [
    "tagged = tag_themes(responses, themes)\n",
    "tagged.themes.str.count(',').value_counts()"
   ]
  },
  {
   "cell_type": "code",
   "execution_count": 460,
   "metadata": {
    "collapsed": false
   },
   "outputs": [
    {
     "data": {
      "text/html": [
       "<div>\n",
       "<table border=\"1\" class=\"dataframe\">\n",
       "  <thead>\n",
       "    <tr style=\"text-align: right;\">\n",
       "      <th></th>\n",
       "      <th>0</th>\n",
       "      <th>themes</th>\n",
       "    </tr>\n",
       "  </thead>\n",
       "  <tbody>\n",
       "    <tr>\n",
       "      <th>1583</th>\n",
       "      <td>incrementallity</td>\n",
       "      <td></td>\n",
       "    </tr>\n",
       "    <tr>\n",
       "      <th>5016</th>\n",
       "      <td>repeated tasks can be translated to scripts.</td>\n",
       "      <td></td>\n",
       "    </tr>\n",
       "    <tr>\n",
       "      <th>229</th>\n",
       "      <td>Agility</td>\n",
       "      <td></td>\n",
       "    </tr>\n",
       "    <tr>\n",
       "      <th>1960</th>\n",
       "      <td>working creates document</td>\n",
       "      <td></td>\n",
       "    </tr>\n",
       "    <tr>\n",
       "      <th>4454</th>\n",
       "      <td>Vi keybindings</td>\n",
       "      <td></td>\n",
       "    </tr>\n",
       "    <tr>\n",
       "      <th>5106</th>\n",
       "      <td>Excellent addition of features in a timely fashion</td>\n",
       "      <td></td>\n",
       "    </tr>\n",
       "    <tr>\n",
       "      <th>4299</th>\n",
       "      <td>quite powerful</td>\n",
       "      <td></td>\n",
       "    </tr>\n",
       "    <tr>\n",
       "      <th>29</th>\n",
       "      <td>Everything works (almost) always as expected</td>\n",
       "      <td></td>\n",
       "    </tr>\n",
       "    <tr>\n",
       "      <th>898</th>\n",
       "      <td>Convenience</td>\n",
       "      <td></td>\n",
       "    </tr>\n",
       "    <tr>\n",
       "      <th>3899</th>\n",
       "      <td>iFrames</td>\n",
       "      <td></td>\n",
       "    </tr>\n",
       "    <tr>\n",
       "      <th>824</th>\n",
       "      <td>No need to rerun entire scripts</td>\n",
       "      <td></td>\n",
       "    </tr>\n",
       "    <tr>\n",
       "      <th>806</th>\n",
       "      <td>notebook like structure</td>\n",
       "      <td></td>\n",
       "    </tr>\n",
       "    <tr>\n",
       "      <th>1480</th>\n",
       "      <td>Accessibility</td>\n",
       "      <td></td>\n",
       "    </tr>\n",
       "    <tr>\n",
       "      <th>1495</th>\n",
       "      <td>Quality of the product</td>\n",
       "      <td></td>\n",
       "    </tr>\n",
       "    <tr>\n",
       "      <th>884</th>\n",
       "      <td>I've always loved the notebook format since day 1 of Mathematica</td>\n",
       "      <td></td>\n",
       "    </tr>\n",
       "    <tr>\n",
       "      <th>3095</th>\n",
       "      <td>Connection to internal database</td>\n",
       "      <td></td>\n",
       "    </tr>\n",
       "    <tr>\n",
       "      <th>1020</th>\n",
       "      <td>Ready accessibility to each bit of code I need.</td>\n",
       "      <td></td>\n",
       "    </tr>\n",
       "    <tr>\n",
       "      <th>499</th>\n",
       "      <td>ease to write short scripts</td>\n",
       "      <td></td>\n",
       "    </tr>\n",
       "    <tr>\n",
       "      <th>3184</th>\n",
       "      <td>Easily editable</td>\n",
       "      <td></td>\n",
       "    </tr>\n",
       "    <tr>\n",
       "      <th>1427</th>\n",
       "      <td>how it keeps everything loaded and current even if you close and re-open</td>\n",
       "      <td></td>\n",
       "    </tr>\n",
       "  </tbody>\n",
       "</table>\n",
       "</div>"
      ],
      "text/plain": [
       "                                                                             0  \\\n",
       "1583                                                           incrementallity   \n",
       "5016                              repeated tasks can be translated to scripts.   \n",
       "229                                                                    Agility   \n",
       "1960                                                  working creates document   \n",
       "4454                                                            Vi keybindings   \n",
       "5106                        Excellent addition of features in a timely fashion   \n",
       "4299                                                            quite powerful   \n",
       "29                                Everything works (almost) always as expected   \n",
       "898                                                                Convenience   \n",
       "3899                                                                   iFrames   \n",
       "824                                            No need to rerun entire scripts   \n",
       "806                                                   notebook like structure    \n",
       "1480                                                             Accessibility   \n",
       "1495                                                    Quality of the product   \n",
       "884           I've always loved the notebook format since day 1 of Mathematica   \n",
       "3095                                           Connection to internal database   \n",
       "1020                           Ready accessibility to each bit of code I need.   \n",
       "499                                                ease to write short scripts   \n",
       "3184                                                           Easily editable   \n",
       "1427  how it keeps everything loaded and current even if you close and re-open   \n",
       "\n",
       "     themes  \n",
       "1583         \n",
       "5016         \n",
       "229          \n",
       "1960         \n",
       "4454         \n",
       "5106         \n",
       "4299         \n",
       "29           \n",
       "898          \n",
       "3899         \n",
       "824          \n",
       "806          \n",
       "1480         \n",
       "1495         \n",
       "884          \n",
       "3095         \n",
       "1020         \n",
       "499          \n",
       "3184         \n",
       "1427         "
      ]
     },
     "execution_count": 460,
     "metadata": {},
     "output_type": "execute_result"
    }
   ],
   "source": [
    "tagged[tagged.themes.str.len() == 0].sample(20, random_state=rs)"
   ]
  },
  {
   "cell_type": "markdown",
   "metadata": {},
   "source": [
    "## Precision Check\n",
    "\n",
    "I then studied a sample of responses for each theme to see if there major inaccuracies in their application (e.g., string matches that are too fuzzy)."
   ]
  },
  {
   "cell_type": "code",
   "execution_count": 247,
   "metadata": {
    "collapsed": false
   },
   "outputs": [
    {
     "name": "stdout",
     "output_type": "stream",
     "text": [
      "hosting 70\n",
      "stability 6\n",
      "ux 314\n",
      "interactivity 245\n",
      "visualization 158\n",
      "language 57\n",
      "collaboration 110\n",
      "integrated_content 243\n",
      "speed 49\n",
      "features 20\n",
      "persistence 33\n",
      "integration 55\n",
      "community 65\n",
      "extensible 15\n"
     ]
    },
    {
     "data": {
      "text/plain": [
       "1    684\n",
       "2    301\n",
       "0    131\n",
       "3     43\n",
       "4      5\n",
       "5      1\n",
       "Name: themes, dtype: int64"
      ]
     },
     "execution_count": 247,
     "metadata": {},
     "output_type": "execute_result"
    }
   ],
   "source": [
    "tagged = tag_themes(responses, themes)\n",
    "tagged.themes.str.count(',').value_counts()"
   ]
  },
  {
   "cell_type": "code",
   "execution_count": 219,
   "metadata": {
    "collapsed": true
   },
   "outputs": [],
   "source": [
    "from IPython.display import display, clear_output"
   ]
  },
  {
   "cell_type": "code",
   "execution_count": 220,
   "metadata": {
    "collapsed": false,
    "scrolled": false
   },
   "outputs": [
    {
     "data": {
      "text/html": [
       "<div>\n",
       "<table border=\"1\" class=\"dataframe\">\n",
       "  <thead>\n",
       "    <tr style=\"text-align: right;\">\n",
       "      <th></th>\n",
       "      <th>0</th>\n",
       "      <th>themes</th>\n",
       "    </tr>\n",
       "  </thead>\n",
       "  <tbody>\n",
       "    <tr>\n",
       "      <th>2076</th>\n",
       "      <td>Self contained aspect of notebooks (single artefact)</td>\n",
       "      <td>content,</td>\n",
       "    </tr>\n",
       "    <tr>\n",
       "      <th>437</th>\n",
       "      <td>Easily integrates documentation, code, and media in one location.</td>\n",
       "      <td>content,</td>\n",
       "    </tr>\n",
       "    <tr>\n",
       "      <th>3040</th>\n",
       "      <td>possibility to write latex</td>\n",
       "      <td>content,</td>\n",
       "    </tr>\n",
       "    <tr>\n",
       "      <th>4726</th>\n",
       "      <td>Ability to include annotations/markdown</td>\n",
       "      <td>content,</td>\n",
       "    </tr>\n",
       "    <tr>\n",
       "      <th>1657</th>\n",
       "      <td>Rich content and interactivity</td>\n",
       "      <td>interactivity,content,</td>\n",
       "    </tr>\n",
       "  </tbody>\n",
       "</table>\n",
       "</div>"
      ],
      "text/plain": [
       "                                                                      0  \\\n",
       "2076               Self contained aspect of notebooks (single artefact)   \n",
       "437   Easily integrates documentation, code, and media in one location.   \n",
       "3040                                         possibility to write latex   \n",
       "4726                            Ability to include annotations/markdown   \n",
       "1657                                     Rich content and interactivity   \n",
       "\n",
       "                      themes  \n",
       "2076                content,  \n",
       "437                 content,  \n",
       "3040                content,  \n",
       "4726                content,  \n",
       "1657  interactivity,content,  "
      ]
     },
     "metadata": {},
     "output_type": "display_data"
    },
    {
     "name": "stdout",
     "output_type": "stream",
     "text": [
      "Showing `content`. Type Enter to continue, \"q\" to stop.q\n"
     ]
    }
   ],
   "source": [
    "for key in themes:\n",
    "    clear_output()\n",
    "    display(tagged[tagged.themes.str.contains(key)].sample(5))\n",
    "    if input('Showing `{}`. Type Enter to continue, \"q\" to stop.'.format(key)) == 'q':\n",
    "        break"
   ]
  },
  {
   "cell_type": "markdown",
   "metadata": {},
   "source": [
    "I also looked at responses with multiple themes to fine tune them, and catch duplication of words in multiple themes."
   ]
  },
  {
   "cell_type": "code",
   "execution_count": 467,
   "metadata": {
    "collapsed": false
   },
   "outputs": [
    {
     "data": {
      "text/html": [
       "<div>\n",
       "<table border=\"1\" class=\"dataframe\">\n",
       "  <thead>\n",
       "    <tr style=\"text-align: right;\">\n",
       "      <th></th>\n",
       "      <th>0</th>\n",
       "      <th>themes</th>\n",
       "    </tr>\n",
       "  </thead>\n",
       "  <tbody>\n",
       "    <tr>\n",
       "      <th>1383</th>\n",
       "      <td>Easy to share documents with others</td>\n",
       "      <td>ux,collaboration,</td>\n",
       "    </tr>\n",
       "    <tr>\n",
       "      <th>594</th>\n",
       "      <td>Easy sharing with others</td>\n",
       "      <td>ux,collaboration,</td>\n",
       "    </tr>\n",
       "    <tr>\n",
       "      <th>2448</th>\n",
       "      <td>Great interface and inline documentation</td>\n",
       "      <td>ux,integrated_content,</td>\n",
       "    </tr>\n",
       "    <tr>\n",
       "      <th>1984</th>\n",
       "      <td>python + web (VERY powerful)</td>\n",
       "      <td>ux,language,</td>\n",
       "    </tr>\n",
       "    <tr>\n",
       "      <th>1860</th>\n",
       "      <td>Possibility to make a presentation from a running code.</td>\n",
       "      <td>interactivity,collaboration,</td>\n",
       "    </tr>\n",
       "    <tr>\n",
       "      <th>2918</th>\n",
       "      <td>Easy install</td>\n",
       "      <td>hosting,ux,</td>\n",
       "    </tr>\n",
       "    <tr>\n",
       "      <th>5057</th>\n",
       "      <td>inline graphics</td>\n",
       "      <td>visualization,integrated_content,</td>\n",
       "    </tr>\n",
       "    <tr>\n",
       "      <th>28</th>\n",
       "      <td>quick iteration of ideas</td>\n",
       "      <td>interactivity,speed,</td>\n",
       "    </tr>\n",
       "    <tr>\n",
       "      <th>3049</th>\n",
       "      <td>Rich visual tools</td>\n",
       "      <td>ecosystem,visualization,</td>\n",
       "    </tr>\n",
       "    <tr>\n",
       "      <th>1916</th>\n",
       "      <td>Displays beautifully in GitHub Repos</td>\n",
       "      <td>ecosystem,ux,</td>\n",
       "    </tr>\n",
       "    <tr>\n",
       "      <th>2178</th>\n",
       "      <td>having code and plots in one place</td>\n",
       "      <td>visualization,integrated_content,</td>\n",
       "    </tr>\n",
       "    <tr>\n",
       "      <th>1969</th>\n",
       "      <td>Easy to export and share</td>\n",
       "      <td>ux,collaboration,</td>\n",
       "    </tr>\n",
       "    <tr>\n",
       "      <th>1183</th>\n",
       "      <td>Off the shelve roundtrip from Web via Server and back</td>\n",
       "      <td>hosting,ux,</td>\n",
       "    </tr>\n",
       "    <tr>\n",
       "      <th>1970</th>\n",
       "      <td>inline visualization</td>\n",
       "      <td>visualization,integrated_content,</td>\n",
       "    </tr>\n",
       "    <tr>\n",
       "      <th>1221</th>\n",
       "      <td>Easy to mix graphics, code, etc.</td>\n",
       "      <td>ux,visualization,</td>\n",
       "    </tr>\n",
       "    <tr>\n",
       "      <th>3090</th>\n",
       "      <td>Very good matplotlib/bokeh integration.</td>\n",
       "      <td>ecosystem,integration,</td>\n",
       "    </tr>\n",
       "    <tr>\n",
       "      <th>667</th>\n",
       "      <td>Easy to share with others</td>\n",
       "      <td>ux,collaboration,</td>\n",
       "    </tr>\n",
       "    <tr>\n",
       "      <th>2868</th>\n",
       "      <td>Beautiful markdown display</td>\n",
       "      <td>ux,integrated_content,</td>\n",
       "    </tr>\n",
       "    <tr>\n",
       "      <th>412</th>\n",
       "      <td>Inline graphics</td>\n",
       "      <td>visualization,integrated_content,</td>\n",
       "    </tr>\n",
       "    <tr>\n",
       "      <th>2738</th>\n",
       "      <td>Inline graph visualization</td>\n",
       "      <td>visualization,integrated_content,</td>\n",
       "    </tr>\n",
       "  </tbody>\n",
       "</table>\n",
       "</div>"
      ],
      "text/plain": [
       "                                                             0  \\\n",
       "1383                       Easy to share documents with others   \n",
       "594                                   Easy sharing with others   \n",
       "2448                  Great interface and inline documentation   \n",
       "1984                              python + web (VERY powerful)   \n",
       "1860  Possibility to make a presentation from a running code.    \n",
       "2918                                              Easy install   \n",
       "5057                                           inline graphics   \n",
       "28                                    quick iteration of ideas   \n",
       "3049                                         Rich visual tools   \n",
       "1916                      Displays beautifully in GitHub Repos   \n",
       "2178                        having code and plots in one place   \n",
       "1969                                  Easy to export and share   \n",
       "1183    Off the shelve roundtrip from Web via Server and back    \n",
       "1970                                      inline visualization   \n",
       "1221                          Easy to mix graphics, code, etc.   \n",
       "3090                   Very good matplotlib/bokeh integration.   \n",
       "667                                  Easy to share with others   \n",
       "2868                                Beautiful markdown display   \n",
       "412                                            Inline graphics   \n",
       "2738                                Inline graph visualization   \n",
       "\n",
       "                                 themes  \n",
       "1383                  ux,collaboration,  \n",
       "594                   ux,collaboration,  \n",
       "2448             ux,integrated_content,  \n",
       "1984                       ux,language,  \n",
       "1860       interactivity,collaboration,  \n",
       "2918                        hosting,ux,  \n",
       "5057  visualization,integrated_content,  \n",
       "28                 interactivity,speed,  \n",
       "3049           ecosystem,visualization,  \n",
       "1916                      ecosystem,ux,  \n",
       "2178  visualization,integrated_content,  \n",
       "1969                  ux,collaboration,  \n",
       "1183                        hosting,ux,  \n",
       "1970  visualization,integrated_content,  \n",
       "1221                  ux,visualization,  \n",
       "3090             ecosystem,integration,  \n",
       "667                   ux,collaboration,  \n",
       "2868             ux,integrated_content,  \n",
       "412   visualization,integrated_content,  \n",
       "2738  visualization,integrated_content,  "
      ]
     },
     "execution_count": 467,
     "metadata": {},
     "output_type": "execute_result"
    }
   ],
   "source": [
    "tagged[tagged.themes.str.count(',') == 2].sample(20, random_state=rs)"
   ]
  },
  {
   "cell_type": "markdown",
   "metadata": {},
   "source": [
    "## Keyword Frequencies"
   ]
  },
  {
   "cell_type": "code",
   "execution_count": 462,
   "metadata": {
    "collapsed": true
   },
   "outputs": [],
   "source": [
    "import matplotlib\n",
    "import seaborn"
   ]
  },
  {
   "cell_type": "code",
   "execution_count": 463,
   "metadata": {
    "collapsed": true
   },
   "outputs": [],
   "source": [
    "counts = {}"
   ]
  },
  {
   "cell_type": "code",
   "execution_count": 464,
   "metadata": {
    "collapsed": false
   },
   "outputs": [],
   "source": [
    "for theme, keywords in themes.items():\n",
    "    for keyword in keywords:\n",
    "        hits = responses.map(lambda text: keywords_or(text, [keyword]))\n",
    "        counts[keyword] = hits.sum()"
   ]
  },
  {
   "cell_type": "code",
   "execution_count": 465,
   "metadata": {
    "collapsed": true
   },
   "outputs": [],
   "source": [
    "hist = pd.Series(counts).sort_values()"
   ]
  },
  {
   "cell_type": "code",
   "execution_count": 466,
   "metadata": {
    "collapsed": false
   },
   "outputs": [
    {
     "data": {
      "image/png": "[encoded data removed]",
      "text/plain": [
       "<matplotlib.figure.Figure at 0x7fb40d656b38>"
      ]
     },
     "metadata": {},
     "output_type": "display_data"
    }
   ],
   "source": [
    "ax = hist[-30:].plot.barh(figsize=(8, 8))\n",
    "_ = ax.set_xlabel('Mentions')"
   ]
  },
  {
   "cell_type": "code",
   "execution_count": null,
   "metadata": {
    "collapsed": true
   },
   "outputs": [],
   "source": []
  }
 ],
 "metadata": {
  "kernelspec": {
   "display_name": "Python 3",
   "language": "python",
   "name": "python3"
  },
  "language_info": {
   "codemirror_mode": {
    "name": "ipython",
    "version": 3
   },
   "file_extension": ".py",
   "mimetype": "text/x-python",
   "name": "python",
   "nbconvert_exporter": "python",
   "pygments_lexer": "ipython3",
   "version": "3.4.4"
  }
 },
 "nbformat": 4,
 "nbformat_minor": 0
}
