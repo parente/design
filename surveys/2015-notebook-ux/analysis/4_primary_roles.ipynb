{
 "cells": [
  {
   "cell_type": "markdown",
   "metadata": {},
   "source": [
    "# Primary Roles of Survey Respondents \n",
    "\n",
    "* Goal: Extract primary roles of respondents from responses to the survey question: **\"What is your primary role when using Jupyter Notebook (e.g., student, astrophysicist, financial modeler, business manager, etc.)?\"**\n",
    "* Data: Output from 2_clean_survey.ipynb notebook (`survey_short_columns.csv`)"
   ]
  },
  {
   "cell_type": "code",
   "execution_count": 1,
   "metadata": {
    "collapsed": true
   },
   "outputs": [],
   "source": [
    "import warnings\n",
    "warnings.filterwarnings(\"ignore\")"
   ]
  },
  {
   "cell_type": "code",
   "execution_count": 2,
   "metadata": {
    "collapsed": true
   },
   "outputs": [],
   "source": [
    "%matplotlib inline"
   ]
  },
  {
   "cell_type": "code",
   "execution_count": 3,
   "metadata": {
    "collapsed": true
   },
   "outputs": [],
   "source": [
    "import pandas as pd\n",
    "import numpy as np"
   ]
  },
  {
   "cell_type": "code",
   "execution_count": 4,
   "metadata": {
    "collapsed": false
   },
   "outputs": [],
   "source": [
    "pd.set_option('max_colwidth', 1000)\n",
    "pd.set_option('max_rows', 200)"
   ]
  },
  {
   "cell_type": "code",
   "execution_count": 5,
   "metadata": {
    "collapsed": true
   },
   "outputs": [],
   "source": [
    "df = pd.read_csv('survey_short_columns.csv')"
   ]
  },
  {
   "cell_type": "code",
   "execution_count": 6,
   "metadata": {
    "collapsed": false
   },
   "outputs": [],
   "source": [
    "responses = df.role"
   ]
  },
  {
   "cell_type": "code",
   "execution_count": 7,
   "metadata": {
    "collapsed": false
   },
   "outputs": [
    {
     "data": {
      "text/plain": [
       "True     965\n",
       "False    741\n",
       "Name: role, dtype: int64"
      ]
     },
     "execution_count": 7,
     "metadata": {},
     "output_type": "execute_result"
    }
   ],
   "source": [
    "responses.isnull().value_counts()"
   ]
  },
  {
   "cell_type": "markdown",
   "metadata": {},
   "source": [
    "43% of respondents provided a primary role."
   ]
  },
  {
   "cell_type": "code",
   "execution_count": 8,
   "metadata": {
    "collapsed": false
   },
   "outputs": [
    {
     "data": {
      "text/plain": [
       "0.4343493552168816"
      ]
     },
     "execution_count": 8,
     "metadata": {},
     "output_type": "execute_result"
    }
   ],
   "source": [
    "len(responses[responses.isnull() == False]) / len(df)"
   ]
  },
  {
   "cell_type": "code",
   "execution_count": 9,
   "metadata": {
    "collapsed": true
   },
   "outputs": [],
   "source": [
    "responses = responses.dropna()"
   ]
  },
  {
   "cell_type": "markdown",
   "metadata": {},
   "source": [
    "## Initial Samples\n",
    "\n",
    "I ran the sampling code below several times and manually built up the initial set of role keywords based on common occurrence. I formed groups of conceptually related keywords. Then I tried to assign a simple label to each group."
   ]
  },
  {
   "cell_type": "markdown",
   "metadata": {},
   "source": [
    "Make sure the samples come up the same for anyone that re-runs this."
   ]
  },
  {
   "cell_type": "code",
   "execution_count": 10,
   "metadata": {
    "collapsed": false
   },
   "outputs": [],
   "source": [
    "rs = np.random.RandomState(123)"
   ]
  },
  {
   "cell_type": "code",
   "execution_count": 11,
   "metadata": {
    "collapsed": false
   },
   "outputs": [
    {
     "data": {
      "text/plain": [
       "480                                                  data scientist\n",
       "1700                                               bioinformatician\n",
       "325                                                         student\n",
       "1554                                                 Astrophysicist\n",
       "398                    University professor (research and teaching)\n",
       "1400                                                      Developer\n",
       "1402                                                 data scientist\n",
       "540                                                  bioinformatics\n",
       "460                                             Business researcher\n",
       "254                                                  data scientist\n",
       "430                                                    personal use\n",
       "96                                           research meteorologist\n",
       "1100    Developer of new deep learning, machine learning algorithms\n",
       "1564                                                      scientist\n",
       "472                          phd student, astrophysicist, developer\n",
       "960                                                         student\n",
       "594                                                  Data Scientist\n",
       "1527                                     data scientist or bloggist\n",
       "556                                         Data Scientist; Teacher\n",
       "1662                                              Big data engineer\n",
       "Name: role, dtype: object"
      ]
     },
     "execution_count": 11,
     "metadata": {},
     "output_type": "execute_result"
    }
   ],
   "source": [
    "responses.sample(20, random_state=rs)"
   ]
  },
  {
   "cell_type": "code",
   "execution_count": 12,
   "metadata": {
    "collapsed": false
   },
   "outputs": [],
   "source": [
    "roles = {\n",
    "    'data_scientist': ['data(\\s|-)scien(ce|tist)', 'data analys(t|is)', 'data explorer', 'ml($|\\W)', \n",
    "                       'machine learning', ],\n",
    "    'student': ['student', 'phd', 'post(\\s|-)?doc', ],\n",
    "    'educator': ['teach(er|ing)', 'professor', 'educator', 'instructor', 'teaching assistant', ],\n",
    "    'independent': ['personal use', 'hobby?(ist)?', 'tinkerer', 'technologist', 'independent', \n",
    "                    'secretary', 'artist', 'consultant', ], \n",
    "    'researcher': ['research(er)?', 'r&d($|\\W)', ], \n",
    "    'developer': ['develop(er|ment)', 'software (engineer|architect)', 'programmer', ],\n",
    "    'scientist': ['(astro|bio|geo)?physic(s|ist)?', 'physical science', 'neuroscientist', \n",
    "                  'bioinformatic(s|ian)', 'biologi(st|cal)', 'ecologi(st|cal)', 'spectroscopist', \n",
    "                  'epidemiologist', 'cosmological', 'geoscienc(es|tist)', '^((?!data).)*scientist', ],\n",
    "    'author': ['author', 'writer', ], \n",
    "    'engineer': ['^((?!software).)*engineer', ],\n",
    "    'marketer': ['market(er|ing)', ], \n",
    "    'manager': ['manager', 'leader', 'management', 'director', 'cto($|\\W)', ],\n",
    "    'statistician': ['statistician', 'mathematician', ],\n",
    "    'financial_analyst': ['financial (model(er|ing)|analyst)', 'economi(c|st)', \n",
    "                          'portfolio (analyst|manager)', 'actuary', \n",
    "                          'quant($|\\W)', ], \n",
    "    'presenter': ['presenter', 'demonstrator', 'lecturer', ],\n",
    "    'analyst': ['^((?!(data|financial)).)*analyst', 'analytics', ],\n",
    "    'tester': ['test(er|ing)', 'quality assurance', ]\n",
    "}"
   ]
  },
  {
   "cell_type": "markdown",
   "metadata": {},
   "source": [
    "## Coverage Improvement\n",
    "\n",
    "I next ran the code below to associate the role labels with the responses.  I then iterated on running the code below to find reponses without labels.  I expanded the list of keywords and roles above in order to improve coverage."
   ]
  },
  {
   "cell_type": "code",
   "execution_count": 13,
   "metadata": {
    "collapsed": true
   },
   "outputs": [],
   "source": [
    "import re"
   ]
  },
  {
   "cell_type": "code",
   "execution_count": 14,
   "metadata": {
    "collapsed": true
   },
   "outputs": [],
   "source": [
    "def keywords_or(text, keywords):\n",
    "    for keyword in keywords:\n",
    "        if re.search('(^|\\W+){}'.format(keyword), text, re.IGNORECASE):\n",
    "            return True\n",
    "    return False"
   ]
  },
  {
   "cell_type": "code",
   "execution_count": 15,
   "metadata": {
    "collapsed": true
   },
   "outputs": [],
   "source": [
    "def tag(responses, tags):\n",
    "    tagged = responses.to_frame()\n",
    "    tagged['roles'] = ''\n",
    "    for tag, keywords in tags.items():\n",
    "        results = responses.map(lambda text: keywords_or(text, keywords))\n",
    "        tagged.loc[results, 'roles'] += tag + ','\n",
    "        print(tag, results.sum())\n",
    "    return tagged"
   ]
  },
  {
   "cell_type": "code",
   "execution_count": 16,
   "metadata": {
    "collapsed": false
   },
   "outputs": [
    {
     "name": "stdout",
     "output_type": "stream",
     "text": [
      "developer 98\n",
      "scientist 127\n",
      "student 132\n",
      "analyst 29\n",
      "marketer 2\n",
      "manager 17\n",
      "financial_analyst 31\n",
      "statistician 6\n",
      "researcher 110\n",
      "engineer 52\n",
      "tester 6\n",
      "presenter 8\n",
      "data_scientist 179\n",
      "author 2\n",
      "educator 40\n",
      "independent 19\n"
     ]
    },
    {
     "data": {
      "text/plain": [
       "1    597\n",
       "2    114\n",
       "0     19\n",
       "3     11\n",
       "Name: roles, dtype: int64"
      ]
     },
     "execution_count": 16,
     "metadata": {},
     "output_type": "execute_result"
    }
   ],
   "source": [
    "tagged = tag(responses, roles)\n",
    "tagged.roles.str.count(',').value_counts()"
   ]
  },
  {
   "cell_type": "code",
   "execution_count": 17,
   "metadata": {
    "collapsed": false
   },
   "outputs": [
    {
     "data": {
      "text/html": [
       "<div>\n",
       "<table border=\"1\" class=\"dataframe\">\n",
       "  <thead>\n",
       "    <tr style=\"text-align: right;\">\n",
       "      <th></th>\n",
       "      <th>role</th>\n",
       "      <th>roles</th>\n",
       "    </tr>\n",
       "  </thead>\n",
       "  <tbody>\n",
       "    <tr>\n",
       "      <th>421</th>\n",
       "      <td>education tool provider</td>\n",
       "      <td></td>\n",
       "    </tr>\n",
       "    <tr>\n",
       "      <th>1287</th>\n",
       "      <td>software test automation</td>\n",
       "      <td></td>\n",
       "    </tr>\n",
       "    <tr>\n",
       "      <th>336</th>\n",
       "      <td>data janitor and statical discovering</td>\n",
       "      <td></td>\n",
       "    </tr>\n",
       "    <tr>\n",
       "      <th>1125</th>\n",
       "      <td>business</td>\n",
       "      <td></td>\n",
       "    </tr>\n",
       "    <tr>\n",
       "      <th>229</th>\n",
       "      <td>Image analyser</td>\n",
       "      <td></td>\n",
       "    </tr>\n",
       "    <tr>\n",
       "      <th>110</th>\n",
       "      <td>data curation</td>\n",
       "      <td></td>\n",
       "    </tr>\n",
       "    <tr>\n",
       "      <th>1379</th>\n",
       "      <td>Computatinal Neurosicentist</td>\n",
       "      <td></td>\n",
       "    </tr>\n",
       "    <tr>\n",
       "      <th>201</th>\n",
       "      <td>Digital humanist</td>\n",
       "      <td></td>\n",
       "    </tr>\n",
       "    <tr>\n",
       "      <th>1565</th>\n",
       "      <td>academic</td>\n",
       "      <td></td>\n",
       "    </tr>\n",
       "    <tr>\n",
       "      <th>19</th>\n",
       "      <td>Architect of Service that embeds Jupyter</td>\n",
       "      <td></td>\n",
       "    </tr>\n",
       "    <tr>\n",
       "      <th>1258</th>\n",
       "      <td>modelling</td>\n",
       "      <td></td>\n",
       "    </tr>\n",
       "    <tr>\n",
       "      <th>672</th>\n",
       "      <td>mathematical experimenter</td>\n",
       "      <td></td>\n",
       "    </tr>\n",
       "    <tr>\n",
       "      <th>689</th>\n",
       "      <td>Expermental Physisist</td>\n",
       "      <td></td>\n",
       "    </tr>\n",
       "    <tr>\n",
       "      <th>366</th>\n",
       "      <td>Business modellinv</td>\n",
       "      <td></td>\n",
       "    </tr>\n",
       "    <tr>\n",
       "      <th>519</th>\n",
       "      <td>Education Anaylsis</td>\n",
       "      <td></td>\n",
       "    </tr>\n",
       "  </tbody>\n",
       "</table>\n",
       "</div>"
      ],
      "text/plain": [
       "                                          role roles\n",
       "421                    education tool provider      \n",
       "1287                  software test automation      \n",
       "336      data janitor and statical discovering      \n",
       "1125                                  business      \n",
       "229                             Image analyser      \n",
       "110                              data curation      \n",
       "1379               Computatinal Neurosicentist      \n",
       "201                           Digital humanist      \n",
       "1565                                  academic      \n",
       "19    Architect of Service that embeds Jupyter      \n",
       "1258                                 modelling      \n",
       "672                  mathematical experimenter      \n",
       "689                      Expermental Physisist      \n",
       "366                         Business modellinv      \n",
       "519                         Education Anaylsis      "
      ]
     },
     "execution_count": 17,
     "metadata": {},
     "output_type": "execute_result"
    }
   ],
   "source": [
    "tagged[tagged.roles.str.len() == 0].sample(15, random_state=rs)"
   ]
  },
  {
   "cell_type": "markdown",
   "metadata": {},
   "source": [
    "## Precision Check\n",
    "\n",
    "I then studied a sample of responses for each role to see if there were major inaccuracies in their application (e.g., string matches that are too fuzzy)."
   ]
  },
  {
   "cell_type": "code",
   "execution_count": 18,
   "metadata": {
    "collapsed": true
   },
   "outputs": [],
   "source": [
    "from IPython.display import display, clear_output"
   ]
  },
  {
   "cell_type": "code",
   "execution_count": 19,
   "metadata": {
    "collapsed": false
   },
   "outputs": [
    {
     "data": {
      "text/html": [
       "<div>\n",
       "<table border=\"1\" class=\"dataframe\">\n",
       "  <thead>\n",
       "    <tr style=\"text-align: right;\">\n",
       "      <th></th>\n",
       "      <th>role</th>\n",
       "      <th>roles</th>\n",
       "    </tr>\n",
       "  </thead>\n",
       "  <tbody>\n",
       "    <tr>\n",
       "      <th>155</th>\n",
       "      <td>Developer</td>\n",
       "      <td>developer,</td>\n",
       "    </tr>\n",
       "    <tr>\n",
       "      <th>1342</th>\n",
       "      <td>software engineer</td>\n",
       "      <td>developer,</td>\n",
       "    </tr>\n",
       "    <tr>\n",
       "      <th>505</th>\n",
       "      <td>software engineer</td>\n",
       "      <td>developer,</td>\n",
       "    </tr>\n",
       "    <tr>\n",
       "      <th>361</th>\n",
       "      <td>Programmer</td>\n",
       "      <td>developer,</td>\n",
       "    </tr>\n",
       "    <tr>\n",
       "      <th>980</th>\n",
       "      <td>Software Engineer</td>\n",
       "      <td>developer,</td>\n",
       "    </tr>\n",
       "    <tr>\n",
       "      <th>323</th>\n",
       "      <td>Software engineer</td>\n",
       "      <td>developer,</td>\n",
       "    </tr>\n",
       "    <tr>\n",
       "      <th>399</th>\n",
       "      <td>Programmer</td>\n",
       "      <td>developer,</td>\n",
       "    </tr>\n",
       "    <tr>\n",
       "      <th>1306</th>\n",
       "      <td>developer</td>\n",
       "      <td>developer,</td>\n",
       "    </tr>\n",
       "    <tr>\n",
       "      <th>915</th>\n",
       "      <td>software developer</td>\n",
       "      <td>developer,</td>\n",
       "    </tr>\n",
       "    <tr>\n",
       "      <th>814</th>\n",
       "      <td>Software Developer</td>\n",
       "      <td>developer,</td>\n",
       "    </tr>\n",
       "    <tr>\n",
       "      <th>1066</th>\n",
       "      <td>python developer</td>\n",
       "      <td>developer,</td>\n",
       "    </tr>\n",
       "    <tr>\n",
       "      <th>904</th>\n",
       "      <td>Data science/developer</td>\n",
       "      <td>developer,data_scientist,</td>\n",
       "    </tr>\n",
       "    <tr>\n",
       "      <th>99</th>\n",
       "      <td>Software Developer on science team</td>\n",
       "      <td>developer,</td>\n",
       "    </tr>\n",
       "    <tr>\n",
       "      <th>1456</th>\n",
       "      <td>Researcher and software developer</td>\n",
       "      <td>developer,researcher,</td>\n",
       "    </tr>\n",
       "    <tr>\n",
       "      <th>258</th>\n",
       "      <td>Engineering and software development</td>\n",
       "      <td>developer,engineer,</td>\n",
       "    </tr>\n",
       "    <tr>\n",
       "      <th>389</th>\n",
       "      <td>Developer</td>\n",
       "      <td>developer,</td>\n",
       "    </tr>\n",
       "    <tr>\n",
       "      <th>1323</th>\n",
       "      <td>software engineer (web &amp; devops)</td>\n",
       "      <td>developer,</td>\n",
       "    </tr>\n",
       "    <tr>\n",
       "      <th>668</th>\n",
       "      <td>Amateur Developer</td>\n",
       "      <td>developer,</td>\n",
       "    </tr>\n",
       "    <tr>\n",
       "      <th>1047</th>\n",
       "      <td>Software Engineer</td>\n",
       "      <td>developer,</td>\n",
       "    </tr>\n",
       "    <tr>\n",
       "      <th>119</th>\n",
       "      <td>Developer of scientific software</td>\n",
       "      <td>developer,</td>\n",
       "    </tr>\n",
       "  </tbody>\n",
       "</table>\n",
       "</div>"
      ],
      "text/plain": [
       "                                      role                      roles\n",
       "155                              Developer                 developer,\n",
       "1342                     software engineer                 developer,\n",
       "505                      software engineer                 developer,\n",
       "361                             Programmer                 developer,\n",
       "980                      Software Engineer                 developer,\n",
       "323                      Software engineer                 developer,\n",
       "399                             Programmer                 developer,\n",
       "1306                             developer                 developer,\n",
       "915                     software developer                 developer,\n",
       "814                     Software Developer                 developer,\n",
       "1066                      python developer                 developer,\n",
       "904                 Data science/developer  developer,data_scientist,\n",
       "99      Software Developer on science team                 developer,\n",
       "1456     Researcher and software developer      developer,researcher,\n",
       "258   Engineering and software development        developer,engineer,\n",
       "389                              Developer                 developer,\n",
       "1323      software engineer (web & devops)                 developer,\n",
       "668                      Amateur Developer                 developer,\n",
       "1047                     Software Engineer                 developer,\n",
       "119       Developer of scientific software                 developer,"
      ]
     },
     "metadata": {},
     "output_type": "display_data"
    },
    {
     "name": "stdout",
     "output_type": "stream",
     "text": [
      "Showing `developer`. Type Enter to continue, \"q\" to stop.q\n"
     ]
    }
   ],
   "source": [
    "for key in roles:\n",
    "    clear_output()\n",
    "    size = min([20, len(tagged[tagged.roles.str.contains(key)])])\n",
    "    display(tagged[tagged.roles.str.contains(key)].sample(size))\n",
    "    if input('Showing `{}`. Type Enter to continue, \"q\" to stop.'.format(key)) == 'q':\n",
    "        break"
   ]
  },
  {
   "cell_type": "markdown",
   "metadata": {},
   "source": [
    "## Keyword Frequencies"
   ]
  },
  {
   "cell_type": "code",
   "execution_count": 20,
   "metadata": {
    "collapsed": true
   },
   "outputs": [],
   "source": [
    "import matplotlib\n",
    "import seaborn"
   ]
  },
  {
   "cell_type": "code",
   "execution_count": 21,
   "metadata": {
    "collapsed": true
   },
   "outputs": [],
   "source": [
    "counts = {}"
   ]
  },
  {
   "cell_type": "code",
   "execution_count": 22,
   "metadata": {
    "collapsed": true
   },
   "outputs": [],
   "source": [
    "for role, keywords in roles.items():\n",
    "    for keyword in keywords:\n",
    "        hits = responses.map(lambda text: keywords_or(text, [keyword]))\n",
    "        counts[keyword] = hits.sum()"
   ]
  },
  {
   "cell_type": "code",
   "execution_count": 23,
   "metadata": {
    "collapsed": true
   },
   "outputs": [],
   "source": [
    "hist = pd.Series(counts).sort_values()"
   ]
  },
  {
   "cell_type": "code",
   "execution_count": 24,
   "metadata": {
    "collapsed": false
   },
   "outputs": [
    {
     "data": {
      "image/png": "[encoded data removed]",
      "text/plain": [
       "<matplotlib.figure.Figure at 0x7f4c25be35c0>"
      ]
     },
     "metadata": {},
     "output_type": "display_data"
    }
   ],
   "source": [
    "ax = hist[-30:].plot.barh(figsize=(8, 8))\n",
    "_ = ax.set_xlabel('Mentions')"
   ]
  },
  {
   "cell_type": "markdown",
   "metadata": {},
   "source": [
    "## Roles and keywords\n",
    "\n",
    "Add roles and keywords to a DataFrame with the same index as the original so that the entries can be tagged."
   ]
  },
  {
   "cell_type": "code",
   "execution_count": 25,
   "metadata": {
    "collapsed": true
   },
   "outputs": [],
   "source": [
    "column = 'roles'"
   ]
  },
  {
   "cell_type": "code",
   "execution_count": 26,
   "metadata": {
    "collapsed": false
   },
   "outputs": [],
   "source": [
    "roles_df = tagged.roles.to_frame()"
   ]
  },
  {
   "cell_type": "code",
   "execution_count": 27,
   "metadata": {
    "collapsed": false
   },
   "outputs": [],
   "source": [
    "roles_df = roles_df.rename(columns={'roles' : column+'_roles'})"
   ]
  },
  {
   "cell_type": "code",
   "execution_count": 28,
   "metadata": {
    "collapsed": true
   },
   "outputs": [],
   "source": [
    "roles_df[column+'_keywords'] = ''"
   ]
  },
  {
   "cell_type": "code",
   "execution_count": 29,
   "metadata": {
    "collapsed": true
   },
   "outputs": [],
   "source": [
    "for role, keywords in roles.items():\n",
    "    for keyword in keywords:\n",
    "        results = responses.map(lambda text: keywords_or(text, [keyword]))\n",
    "        roles_df.loc[results, column+'_keywords'] += keyword + ','"
   ]
  },
  {
   "cell_type": "code",
   "execution_count": 30,
   "metadata": {
    "collapsed": true
   },
   "outputs": [],
   "source": [
    "roles_df[column+'_roles'] = roles_df[column+'_roles'].str.rstrip(',')\n",
    "roles_df[column+'_keywords'] = roles_df[column+'_keywords'].str.rstrip(',')"
   ]
  },
  {
   "cell_type": "code",
   "execution_count": 31,
   "metadata": {
    "collapsed": false,
    "scrolled": true
   },
   "outputs": [
    {
     "data": {
      "text/html": [
       "<div>\n",
       "<table border=\"1\" class=\"dataframe\">\n",
       "  <thead>\n",
       "    <tr style=\"text-align: right;\">\n",
       "      <th></th>\n",
       "      <th>roles_roles</th>\n",
       "      <th>roles_keywords</th>\n",
       "    </tr>\n",
       "  </thead>\n",
       "  <tbody>\n",
       "    <tr>\n",
       "      <th>1</th>\n",
       "      <td>scientist,student</td>\n",
       "      <td>(astro|bio|geo)?physic(s|ist)?,student</td>\n",
       "    </tr>\n",
       "    <tr>\n",
       "      <th>5</th>\n",
       "      <td>scientist</td>\n",
       "      <td>(astro|bio|geo)?physic(s|ist)?</td>\n",
       "    </tr>\n",
       "    <tr>\n",
       "      <th>6</th>\n",
       "      <td>financial_analyst,researcher,educator</td>\n",
       "      <td>economi(c|st),research(er)?,professor</td>\n",
       "    </tr>\n",
       "    <tr>\n",
       "      <th>7</th>\n",
       "      <td>financial_analyst,data_scientist</td>\n",
       "      <td>financial (model(er|ing)|analyst),data analys(t|is)</td>\n",
       "    </tr>\n",
       "    <tr>\n",
       "      <th>9</th>\n",
       "      <td>developer,researcher</td>\n",
       "      <td>develop(er|ment),research(er)?</td>\n",
       "    </tr>\n",
       "  </tbody>\n",
       "</table>\n",
       "</div>"
      ],
      "text/plain": [
       "                             roles_roles  \\\n",
       "1                      scientist,student   \n",
       "5                              scientist   \n",
       "6  financial_analyst,researcher,educator   \n",
       "7       financial_analyst,data_scientist   \n",
       "9                   developer,researcher   \n",
       "\n",
       "                                        roles_keywords  \n",
       "1               (astro|bio|geo)?physic(s|ist)?,student  \n",
       "5                       (astro|bio|geo)?physic(s|ist)?  \n",
       "6                economi(c|st),research(er)?,professor  \n",
       "7  financial (model(er|ing)|analyst),data analys(t|is)  \n",
       "9                       develop(er|ment),research(er)?  "
      ]
     },
     "execution_count": 31,
     "metadata": {},
     "output_type": "execute_result"
    }
   ],
   "source": [
    "roles_df.head()"
   ]
  },
  {
   "cell_type": "markdown",
   "metadata": {},
   "source": [
    "## Assign Primary Role"
   ]
  },
  {
   "cell_type": "markdown",
   "metadata": {},
   "source": [
    "Some percentage of respondents specified multiple roles, but we would really like to identify a _primary_ role.  If a user responds:\n",
    "\n",
    "```\n",
    "bioinformatician, student\n",
    "```\n",
    " \n",
    "Is the user primarily a scientist or a student?"
   ]
  },
  {
   "cell_type": "markdown",
   "metadata": {},
   "source": [
    "Start by assigning roles as primary role (since most respondents only have a single role)."
   ]
  },
  {
   "cell_type": "code",
   "execution_count": 32,
   "metadata": {
    "collapsed": true
   },
   "outputs": [],
   "source": [
    "roles_df['roles_primary'] = roles_df.roles_roles"
   ]
  },
  {
   "cell_type": "markdown",
   "metadata": {},
   "source": [
    "A student is a student, regardless of their specified interest or field of study."
   ]
  },
  {
   "cell_type": "code",
   "execution_count": 33,
   "metadata": {
    "collapsed": false
   },
   "outputs": [],
   "source": [
    "roles_df.loc[roles_df.roles_roles.apply(lambda x: 'student' in x.split(',')), 'roles_primary'] = 'student'"
   ]
  },
  {
   "cell_type": "markdown",
   "metadata": {},
   "source": [
    "Same goes for educators.  If you are in a teaching role, chances are you are also doing research, but you're an educator first."
   ]
  },
  {
   "cell_type": "code",
   "execution_count": 34,
   "metadata": {
    "collapsed": true
   },
   "outputs": [],
   "source": [
    "roles_df.loc[roles_df.roles_roles.apply(lambda x: 'educator' in x.split(',')), 'roles_primary'] = 'educator'"
   ]
  },
  {
   "cell_type": "code",
   "execution_count": 35,
   "metadata": {
    "collapsed": false
   },
   "outputs": [
    {
     "data": {
      "text/html": [
       "<div>\n",
       "<table border=\"1\" class=\"dataframe\">\n",
       "  <thead>\n",
       "    <tr style=\"text-align: right;\">\n",
       "      <th></th>\n",
       "      <th>roles_roles</th>\n",
       "      <th>roles_keywords</th>\n",
       "      <th>roles_primary</th>\n",
       "    </tr>\n",
       "  </thead>\n",
       "  <tbody>\n",
       "    <tr>\n",
       "      <th>1</th>\n",
       "      <td>scientist,student</td>\n",
       "      <td>(astro|bio|geo)?physic(s|ist)?,student</td>\n",
       "      <td>student</td>\n",
       "    </tr>\n",
       "    <tr>\n",
       "      <th>5</th>\n",
       "      <td>scientist</td>\n",
       "      <td>(astro|bio|geo)?physic(s|ist)?</td>\n",
       "      <td>scientist</td>\n",
       "    </tr>\n",
       "    <tr>\n",
       "      <th>6</th>\n",
       "      <td>financial_analyst,researcher,educator</td>\n",
       "      <td>economi(c|st),research(er)?,professor</td>\n",
       "      <td>educator</td>\n",
       "    </tr>\n",
       "    <tr>\n",
       "      <th>7</th>\n",
       "      <td>financial_analyst,data_scientist</td>\n",
       "      <td>financial (model(er|ing)|analyst),data analys(t|is)</td>\n",
       "      <td>financial_analyst,data_scientist</td>\n",
       "    </tr>\n",
       "    <tr>\n",
       "      <th>9</th>\n",
       "      <td>developer,researcher</td>\n",
       "      <td>develop(er|ment),research(er)?</td>\n",
       "      <td>developer,researcher</td>\n",
       "    </tr>\n",
       "    <tr>\n",
       "      <th>10</th>\n",
       "      <td>educator</td>\n",
       "      <td>teach(er|ing)</td>\n",
       "      <td>educator</td>\n",
       "    </tr>\n",
       "    <tr>\n",
       "      <th>11</th>\n",
       "      <td>developer</td>\n",
       "      <td>develop(er|ment)</td>\n",
       "      <td>developer</td>\n",
       "    </tr>\n",
       "    <tr>\n",
       "      <th>15</th>\n",
       "      <td>financial_analyst</td>\n",
       "      <td>economi(c|st)</td>\n",
       "      <td>financial_analyst</td>\n",
       "    </tr>\n",
       "    <tr>\n",
       "      <th>17</th>\n",
       "      <td>analyst</td>\n",
       "      <td>analytics</td>\n",
       "      <td>analyst</td>\n",
       "    </tr>\n",
       "    <tr>\n",
       "      <th>19</th>\n",
       "      <td></td>\n",
       "      <td></td>\n",
       "      <td></td>\n",
       "    </tr>\n",
       "  </tbody>\n",
       "</table>\n",
       "</div>"
      ],
      "text/plain": [
       "                              roles_roles  \\\n",
       "1                       scientist,student   \n",
       "5                               scientist   \n",
       "6   financial_analyst,researcher,educator   \n",
       "7        financial_analyst,data_scientist   \n",
       "9                    developer,researcher   \n",
       "10                               educator   \n",
       "11                              developer   \n",
       "15                      financial_analyst   \n",
       "17                                analyst   \n",
       "19                                          \n",
       "\n",
       "                                         roles_keywords  \\\n",
       "1                (astro|bio|geo)?physic(s|ist)?,student   \n",
       "5                        (astro|bio|geo)?physic(s|ist)?   \n",
       "6                 economi(c|st),research(er)?,professor   \n",
       "7   financial (model(er|ing)|analyst),data analys(t|is)   \n",
       "9                        develop(er|ment),research(er)?   \n",
       "10                                        teach(er|ing)   \n",
       "11                                     develop(er|ment)   \n",
       "15                                        economi(c|st)   \n",
       "17                                            analytics   \n",
       "19                                                        \n",
       "\n",
       "                       roles_primary  \n",
       "1                            student  \n",
       "5                          scientist  \n",
       "6                           educator  \n",
       "7   financial_analyst,data_scientist  \n",
       "9               developer,researcher  \n",
       "10                          educator  \n",
       "11                         developer  \n",
       "15                 financial_analyst  \n",
       "17                           analyst  \n",
       "19                                    "
      ]
     },
     "execution_count": 35,
     "metadata": {},
     "output_type": "execute_result"
    }
   ],
   "source": [
    "roles_df.head(10)"
   ]
  },
  {
   "cell_type": "markdown",
   "metadata": {},
   "source": [
    "There are not many remaining with multiple roles."
   ]
  },
  {
   "cell_type": "code",
   "execution_count": 36,
   "metadata": {
    "collapsed": false,
    "scrolled": true
   },
   "outputs": [
    {
     "data": {
      "text/plain": [
       "Int64Index([   7,    9,   34,   37,   79,   98,  109,  143,  153,  154,  165,\n",
       "             176,  219,  241,  246,  258,  262,  264,  344,  370,  385,  452,\n",
       "             465,  482,  493,  525,  535,  646,  651,  654,  710,  712,  741,\n",
       "             765,  766,  771,  824,  828,  859,  873,  904,  940,  966,  987,\n",
       "            1008, 1022, 1048, 1100, 1122, 1129, 1144, 1212, 1220, 1230, 1333,\n",
       "            1382, 1383, 1421, 1427, 1453, 1456, 1470, 1557, 1583, 1600, 1601,\n",
       "            1609, 1691, 1701, 1705],\n",
       "           dtype='int64')"
      ]
     },
     "execution_count": 36,
     "metadata": {},
     "output_type": "execute_result"
    }
   ],
   "source": [
    "multi_role_index = roles_df[roles_df.roles_primary.str.contains(',')].index\n",
    "multi_role_index"
   ]
  },
  {
   "cell_type": "markdown",
   "metadata": {},
   "source": [
    "Time to roll up sleeves.  (This is real data science)."
   ]
  },
  {
   "cell_type": "code",
   "execution_count": 37,
   "metadata": {
    "collapsed": false
   },
   "outputs": [
    {
     "data": {
      "text/plain": [
       "7                                                                data analyst, financial modeler\n",
       "9                                                  Developer in research oriented energy company\n",
       "34                                                                            Research scientist\n",
       "37                                                                       Data analyst, developer\n",
       "79                                                                   Data Scientist (consultant)\n",
       "98                                                            business analysts / data scientist\n",
       "109                                                                            portfolio analyst\n",
       "143                                             Software Engineer helping Atmospheric Scientists\n",
       "153                                                                        data scientist leader\n",
       "154                                           Data scientist / engineer in electromagnetic field\n",
       "165                                                                      Independent researcher.\n",
       "176                                                                       R&D Engineer (Physics)\n",
       "219                                                                           Developer, analyst\n",
       "241     Computer scientist/programmer attempting to teach earth/climate scientsts how to program\n",
       "246                                                                         researcher (physics)\n",
       "258                                                         Engineering and software development\n",
       "262                                                          Researcher in physics of ultrasound\n",
       "264                                                                           researcher analyst\n",
       "344                                                                  scientist, research manager\n",
       "370                                                                        Researcher / lecturer\n",
       "385                                                                  Marketing Analytics Manager\n",
       "452                                                        Scientist, data analyst in a start-up\n",
       "465                                                                                 R&d engineer\n",
       "482                                         Physicist and experiment controls software developer\n",
       "493                                                                             Physics engineer\n",
       "525                               Programmer providing custom data analysis to other departments\n",
       "535                                                                            Research Engineer\n",
       "646                                                                     research and development\n",
       "651                                                                  Machine learning researcher\n",
       "654                                              Epidemiologist. Also in personal life: hobbyist\n",
       "710                                                                   Portfolio Manager, Finance\n",
       "712                                                                           Scientist/Engineer\n",
       "741                                                                         researcher/developer\n",
       "765                                                                              Programmer, R&D\n",
       "766                                                                          Engineer/researcher\n",
       "771                                                                 data scientist/data engineer\n",
       "824                                                                       Physicist/data analyst\n",
       "828                                                                  Machine Learning Researcher\n",
       "859                                                           Software Engineer / Data Scientist\n",
       "873                                                             Scientist / engineer in industry\n",
       "904                                                                       Data science/developer\n",
       "940                                                                            Research engineer\n",
       "966                                                                  Machine Learning researcher\n",
       "987                                                    Programmer, Data Explorer, Idea Explainer\n",
       "1008                                                                         presenter / analyst\n",
       "1022                                                                software analytics developer\n",
       "1048                                                              researcher (academic, physics)\n",
       "1100                                 Developer of new deep learning, machine learning algorithms\n",
       "1122                                                                    developer and researcher\n",
       "1129                                                                Business manager and analyst\n",
       "1144                                              Computer science/software engineering research\n",
       "1212                                             Electrical engineer doing neuroscience research\n",
       "1220                                                                           Research Engineer\n",
       "1230                      Engineering, modelling and statistics, scientific software development\n",
       "1333                                                      research scientist (materials science)\n",
       "1382                                                             experimental physics researcher\n",
       "1383                                                                          Research scientist\n",
       "1421                                                                 data scientist/statistician\n",
       "1427                                                           data analyst at analytics company\n",
       "1453                                                            Developer, biophysicist, modeler\n",
       "1456                                                           Researcher and software developer\n",
       "1470                                                                  machine learning developer\n",
       "1557                                                      software engineer, performance analyst\n",
       "1583                                                   data science software development manager\n",
       "1600                                                                          analytics engineer\n",
       "1601                                                              data scientist/product manager\n",
       "1609                                                              Ecologist / Geospatial analyst\n",
       "1691                                                                        Researcher, hobbyist\n",
       "1701                                                              automation testing/development\n",
       "1705                                                software engineering doing R&D, prototypying\n",
       "Name: role, dtype: object"
      ]
     },
     "execution_count": 37,
     "metadata": {},
     "output_type": "execute_result"
    }
   ],
   "source": [
    "responses[responses.index.isin(multi_role_index)]"
   ]
  },
  {
   "cell_type": "code",
   "execution_count": 58,
   "metadata": {
    "collapsed": true
   },
   "outputs": [],
   "source": [
    "roles_df.loc[7, 'roles_primary'] = 'financial_analyst'\n",
    "roles_df.loc[9, 'roles_primary'] = 'developer'\n",
    "roles_df.loc[34, 'roles_primary'] = 'scientist'\n",
    "roles_df.loc[37, 'roles_primary'] = 'data_scientist'\n",
    "roles_df.loc[79, 'roles_primary'] = 'data_scientist'\n",
    "roles_df.loc[98, 'roles_primary'] = 'analyst'\n",
    "roles_df.loc[109, 'roles_primary'] = 'financial_analyst'\n",
    "roles_df.loc[143, 'roles_primary'] = 'developer'\n",
    "roles_df.loc[153, 'roles_primary'] = 'data_scientist'\n",
    "roles_df.loc[154, 'roles_primary'] = 'data_scientist'\n",
    "roles_df.loc[165, 'roles_primary'] = 'researcher'\n",
    "roles_df.loc[176, 'roles_primary'] = 'engineer'\n",
    "roles_df.loc[219, 'roles_primary'] = 'developer'\n",
    "roles_df.loc[241, 'roles_primary'] = 'developer'\n",
    "roles_df.loc[246, 'roles_primary'] = 'researcher'\n",
    "roles_df.loc[258, 'roles_primary'] = 'engineer'\n",
    "roles_df.loc[262, 'roles_primary'] = 'researcher'\n",
    "roles_df.loc[264, 'roles_primary'] = 'analyst'\n",
    "roles_df.loc[344, 'roles_primary'] = 'scientist'\n",
    "roles_df.loc[370, 'roles_primary'] = 'researcher'\n",
    "roles_df.loc[385, 'roles_primary'] = 'manager'\n",
    "roles_df.loc[452, 'roles_primary'] = 'scientist'\n",
    "roles_df.loc[465, 'roles_primary'] = 'engineer'\n",
    "roles_df.loc[482, 'roles_primary'] = 'scientist'\n",
    "roles_df.loc[493, 'roles_primary'] = 'engineer'\n",
    "roles_df.loc[525, 'roles_primary'] = 'developer'\n",
    "roles_df.loc[535, 'roles_primary'] = 'engineer'\n",
    "roles_df.loc[646, 'roles_primary'] = 'researcher'\n",
    "roles_df.loc[651, 'roles_primary'] = 'data_scientist'\n",
    "roles_df.loc[654, 'roles_primary'] = 'scientist'\n",
    "roles_df.loc[710, 'roles_primary'] = 'financial_analyst'\n",
    "roles_df.loc[712, 'roles_primary'] = 'scientist'\n",
    "roles_df.loc[741, 'roles_primary'] = 'researcher'\n",
    "roles_df.loc[765, 'roles_primary'] = 'developer'\n",
    "roles_df.loc[766, 'roles_primary'] = 'engineer'\n",
    "roles_df.loc[771, 'roles_primary'] = 'data_scientist'\n",
    "roles_df.loc[824, 'roles_primary'] = 'scientist'\n",
    "roles_df.loc[828, 'roles_primary'] = 'data_scientist'\n",
    "roles_df.loc[859, 'roles_primary'] = 'developer'\n",
    "roles_df.loc[873, 'roles_primary'] = 'scientist'\n",
    "roles_df.loc[904, 'roles_primary'] = 'data_scientist'\n",
    "roles_df.loc[940, 'roles_primary'] = 'engineer'\n",
    "roles_df.loc[966, 'roles_primary'] = 'data_scientist'\n",
    "roles_df.loc[987, 'roles_primary'] = 'developer'\n",
    "roles_df.loc[1008, 'roles_primary'] = 'presenter'\n",
    "roles_df.loc[1022, 'roles_primary'] = 'developer'\n",
    "roles_df.loc[1048, 'roles_primary'] = 'researcher'\n",
    "roles_df.loc[1100, 'roles_primary'] = 'data_scientist'\n",
    "roles_df.loc[1122, 'roles_primary'] = 'developer'\n",
    "roles_df.loc[1129, 'roles_primary'] = 'manager'\n",
    "roles_df.loc[1144, 'roles_primary'] = 'developer'\n",
    "roles_df.loc[1212, 'roles_primary'] = 'engineer'\n",
    "roles_df.loc[1220, 'roles_primary'] = 'engineer'\n",
    "roles_df.loc[1230, 'roles_primary'] = 'developer'\n",
    "roles_df.loc[1333, 'roles_primary'] = 'scientist'\n",
    "roles_df.loc[1382, 'roles_primary'] = 'researcher'\n",
    "roles_df.loc[1383, 'roles_primary'] = 'scientist'\n",
    "roles_df.loc[1421, 'roles_primary'] = 'data_scientist'\n",
    "roles_df.loc[1427, 'roles_primary'] = 'analyst'\n",
    "roles_df.loc[1453, 'roles_primary'] = 'developer'\n",
    "roles_df.loc[1456, 'roles_primary'] = 'researcher'\n",
    "roles_df.loc[1470, 'roles_primary'] = 'data_scientist'\n",
    "roles_df.loc[1557, 'roles_primary'] = 'developer'\n",
    "roles_df.loc[1583, 'roles_primary'] = 'manager'\n",
    "roles_df.loc[1600, 'roles_primary'] = 'engineer'\n",
    "roles_df.loc[1601, 'roles_primary'] = 'data_scientist'\n",
    "roles_df.loc[1609, 'roles_primary'] = 'scientist'\n",
    "roles_df.loc[1691, 'roles_primary'] = 'researcher'\n",
    "roles_df.loc[1701, 'roles_primary'] = 'developer'\n",
    "roles_df.loc[1705, 'roles_primary'] = 'developer'"
   ]
  },
  {
   "cell_type": "markdown",
   "metadata": {},
   "source": [
    "Sanity check."
   ]
  },
  {
   "cell_type": "code",
   "execution_count": 61,
   "metadata": {
    "collapsed": false
   },
   "outputs": [],
   "source": [
    "assert all(list(roles_df.apply(lambda x: x.roles_primary in x.roles_roles.split(','), axis=1)))"
   ]
  },
  {
   "cell_type": "markdown",
   "metadata": {
    "collapsed": true
   },
   "source": [
    "## Persist"
   ]
  },
  {
   "cell_type": "markdown",
   "metadata": {},
   "source": [
    "We'll write a semi-colon separated file for easy of reading in other tools."
   ]
  },
  {
   "cell_type": "code",
   "execution_count": 62,
   "metadata": {
    "collapsed": true
   },
   "outputs": [],
   "source": [
    "roles_df.to_csv('roles.csv', sep=';')"
   ]
  },
  {
   "cell_type": "markdown",
   "metadata": {},
   "source": [
    "If we want to recover the same DataFrame later, we can use this code."
   ]
  },
  {
   "cell_type": "code",
   "execution_count": 63,
   "metadata": {
    "collapsed": true
   },
   "outputs": [],
   "source": [
    "tmp = pd.read_csv('roles.csv', sep=';', index_col=0).fillna('')"
   ]
  },
  {
   "cell_type": "code",
   "execution_count": null,
   "metadata": {
    "collapsed": true
   },
   "outputs": [],
   "source": []
  }
 ],
 "metadata": {
  "kernelspec": {
   "display_name": "Python 3",
   "language": "python",
   "name": "python3"
  },
  "language_info": {
   "codemirror_mode": {
    "name": "ipython",
    "version": 3
   },
   "file_extension": ".py",
   "mimetype": "text/x-python",
   "name": "python",
   "nbconvert_exporter": "python",
   "pygments_lexer": "ipython3",
   "version": "3.4.4"
  }
 },
 "nbformat": 4,
 "nbformat_minor": 0
}
