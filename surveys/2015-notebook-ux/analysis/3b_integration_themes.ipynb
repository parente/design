{
 "cells": [
  {
   "cell_type": "markdown",
   "metadata": {},
   "source": [
    "# Response Themes for \"What tools and applications, if any, would you like to see more tightly integrated with Jupyter Notebook?\"\n",
    "\n",
    "* Goal: Extract theme keywords from `hinderances`, `integrations`, `workflow_needs_addressed`, `workflow_needs_not_addressed` responses.\n",
    "* Data: Output from 2_clean_survey.ipynb notebook (`survey_short_columns.csv`)\n",
    "* Process from [1_ux_survey_review.ipynb](1_ux_survey_review.ipynb):\n",
    "\n",
    "> Moving forward, here's a semi-automatic procedure we can follow for identifying themes across questions:\n",
    "> 1. Take a random sample of question responses\n",
    "> 2. Write down common theme keywords\n",
    "> 3. Search back through the responses using the theme keywords\n",
    "> 4. Expand the set of keywords with other words seen in the search results\n",
    "> 5. Repeat for all themes and questions\n",
    "> Later, we can use a fully automated topic modeling approach to validate our manually generated themes."
   ]
  },
  {
   "cell_type": "code",
   "execution_count": 3,
   "metadata": {
    "collapsed": false
   },
   "outputs": [
    {
     "name": "stderr",
     "output_type": "stream",
     "text": [
      "/opt/conda/lib/python3.4/site-packages/matplotlib/font_manager.py:273: UserWarning: Matplotlib is building the font cache using fc-list. This may take a moment.\n",
      "  warnings.warn('Matplotlib is building the font cache using fc-list. This may take a moment.')\n",
      "/opt/conda/lib/python3.4/site-packages/matplotlib/font_manager.py:273: UserWarning: Matplotlib is building the font cache using fc-list. This may take a moment.\n",
      "  warnings.warn('Matplotlib is building the font cache using fc-list. This may take a moment.')\n"
     ]
    }
   ],
   "source": [
    "%matplotlib inline"
   ]
  },
  {
   "cell_type": "code",
   "execution_count": 4,
   "metadata": {
    "collapsed": true
   },
   "outputs": [],
   "source": [
    "import pandas as pd\n",
    "import numpy as np"
   ]
  },
  {
   "cell_type": "markdown",
   "metadata": {},
   "source": [
    "Make sure the samples come up the same for anyone that re-runs this."
   ]
  },
  {
   "cell_type": "code",
   "execution_count": 5,
   "metadata": {
    "collapsed": false
   },
   "outputs": [],
   "source": [
    "rs = np.random.RandomState(123)"
   ]
  },
  {
   "cell_type": "code",
   "execution_count": 6,
   "metadata": {
    "collapsed": false
   },
   "outputs": [],
   "source": [
    "pd.set_option('max_colwidth', 1000)"
   ]
  },
  {
   "cell_type": "code",
   "execution_count": 7,
   "metadata": {
    "collapsed": true
   },
   "outputs": [],
   "source": [
    "df = pd.read_csv('survey_short_columns.csv')"
   ]
  },
  {
   "cell_type": "code",
   "execution_count": 8,
   "metadata": {
    "collapsed": true
   },
   "outputs": [],
   "source": [
    "def show(series):\n",
    "    '''Make random samples easier to read.'''\n",
    "    for i, value in enumerate(series):\n",
    "        print('{}) {}'.format(i, value), end='\\n\\n')"
   ]
  },
  {
   "cell_type": "markdown",
   "metadata": {},
   "source": [
    "Concat all three integration response columns into one. We don't care about order at the moment."
   ]
  },
  {
   "cell_type": "code",
   "execution_count": 9,
   "metadata": {
    "collapsed": true
   },
   "outputs": [],
   "source": [
    "integrations = pd.concat([df.integrations_1, df.integrations_2, df.integrations_3])"
   ]
  },
  {
   "cell_type": "code",
   "execution_count": 10,
   "metadata": {
    "collapsed": false
   },
   "outputs": [],
   "source": [
    "assert len(integrations) == len(df) * 3"
   ]
  },
  {
   "cell_type": "code",
   "execution_count": 11,
   "metadata": {
    "collapsed": false
   },
   "outputs": [
    {
     "data": {
      "text/plain": [
       "True     3861\n",
       "False    1257\n",
       "dtype: int64"
      ]
     },
     "execution_count": 11,
     "metadata": {},
     "output_type": "execute_result"
    }
   ],
   "source": [
    "integrations.isnull().value_counts()"
   ]
  },
  {
   "cell_type": "code",
   "execution_count": 12,
   "metadata": {
    "collapsed": true
   },
   "outputs": [],
   "source": [
    "integrations = integrations.dropna()"
   ]
  },
  {
   "cell_type": "markdown",
   "metadata": {},
   "source": [
    "## Initial Samples\n",
    "\n",
    "I ran the sampling code below 6 times and manually built up the initial set of keywords seen commonly across them. I formed groups of conceptually related keywords. Then I tried to assign a simple label to each group."
   ]
  },
  {
   "cell_type": "code",
   "execution_count": 13,
   "metadata": {
    "collapsed": false,
    "scrolled": false
   },
   "outputs": [
    {
     "name": "stdout",
     "output_type": "stream",
     "text": [
      "0) pandas - better table viewing and printing\n",
      "\n",
      "1) Spark\n",
      "\n",
      "2) Image export quality selection\n",
      "\n",
      "3) git diff\n",
      "\n",
      "4) data sources explorer (database, files, s3, gcs)\n",
      "\n",
      "5) Scala\n",
      "\n",
      "6) Version control/GIT  (toggle between different versions within the notebook interface)\n",
      "\n",
      "7) Fortran REPL\n",
      "\n",
      "8) dynamic 2d and 3d plot (zoom in, rotate and so on)\n",
      "\n",
      "9) External editors\n",
      "\n",
      "10) Git\n",
      "\n",
      "11) flake8\n",
      "\n",
      "12) a PEP8 linter\n",
      "\n",
      "13) Vim / text editor\n",
      "\n",
      "14) move data across languages ala Beaker\n",
      "\n",
      "15) Inline pdf images\n",
      "\n",
      "16) Version control / GIT (switch, in the GUI, between different versions/branches of the same code)\n",
      "\n",
      "17) vim\n",
      "\n",
      "18) cloud/SaaS\n",
      "\n",
      "19) Julia\n",
      "\n"
     ]
    }
   ],
   "source": [
    "show(integrations.sample(20, random_state=rs))"
   ]
  },
  {
   "cell_type": "code",
   "execution_count": 14,
   "metadata": {
    "collapsed": false
   },
   "outputs": [],
   "source": [
    "themes = {\n",
    "    'version': ['git', 'version control'],\n",
    "    'language' : ['fortran', 'julia', 'scala', 'latex', 'julia', 'cross language'],\n",
    "    'feature' : ['interactive', 'dashboards', 'extensions', 'web app', 'animation', 'image', 'data source', '3d',\n",
    "                 'timeline', 'gantt', 'repl', 'editor', 'profile', 'console', 'collab', 'debug', \n",
    "                 'terminal', 'management', 'file browser', 'diagram', 'wiki', \n",
    "                 'test', 'offline', 'error', 'blog', 'database', 'script'],\n",
    "    'app_lib_service' : ['d3', 'web app', 'shiny', 'animation',\n",
    "                 'scikit-learn', 'matplotlib', 'spark', 'pandas', \n",
    "                 'flake', 'pep8', 'pdf', 'numpy', 'sphinx', 'seaborn', 'plotly', 'nosebook', 'vtk', 'vispy',\n",
    "                 'graphviz', 'netlogo', 'vim', 'emacs', 'sublime', 'biquery', 'pycharm'],\n",
    "    'hosting' : ['cloud', 'saas', 'deploy', 'host', 'docker', 'google', 'aws'],\n",
    "    'other': ['hfg'] \n",
    "}"
   ]
  },
  {
   "cell_type": "markdown",
   "metadata": {},
   "source": [
    "## Coverage Improvement\n",
    "\n",
    "I next ran the code below to associate the theme labels with the responses. I then iterated on running the code below to find reponses without labels. I expanded the list of keywords and themes in order to improve coverage."
   ]
  },
  {
   "cell_type": "code",
   "execution_count": 15,
   "metadata": {
    "collapsed": true
   },
   "outputs": [],
   "source": [
    "import re"
   ]
  },
  {
   "cell_type": "code",
   "execution_count": 16,
   "metadata": {
    "collapsed": true
   },
   "outputs": [],
   "source": [
    "def keywords_or(text, keywords):\n",
    "    for keyword in keywords:\n",
    "        if re.search('(^|\\W+){}'.format(keyword), text, re.IGNORECASE):\n",
    "            return True\n",
    "    return False"
   ]
  },
  {
   "cell_type": "code",
   "execution_count": 18,
   "metadata": {
    "collapsed": false
   },
   "outputs": [],
   "source": [
    "def tag_themes(responses, themes):\n",
    "    tagged = responses.to_frame()\n",
    "    tagged['themes'] = ''\n",
    "    for theme, keywords in themes.items():\n",
    "        results = responses.map(lambda text: keywords_or(text, keywords))\n",
    "        tagged.loc[results, 'themes'] += theme + ','\n",
    "        print(theme, results.sum())\n",
    "    return tagged"
   ]
  },
  {
   "cell_type": "code",
   "execution_count": 76,
   "metadata": {
    "collapsed": false
   },
   "outputs": [
    {
     "name": "stdout",
     "output_type": "stream",
     "text": [
      "feature 441\n",
      "app_lib_service 549\n",
      "platform 44\n",
      "version 173\n",
      "language 197\n"
     ]
    },
    {
     "data": {
      "text/plain": [
       "1    1071\n",
       "2     139\n",
       "0      29\n",
       "3      17\n",
       "4       1\n",
       "Name: themes, dtype: int64"
      ]
     },
     "execution_count": 76,
     "metadata": {},
     "output_type": "execute_result"
    }
   ],
   "source": [
    "tagged = tag_themes(integrations, themes)\n",
    "tagged.themes.str.count(',').value_counts()"
   ]
  },
  {
   "cell_type": "code",
   "execution_count": 80,
   "metadata": {
    "collapsed": false
   },
   "outputs": [
    {
     "data": {
      "text/html": [
       "<div>\n",
       "<table border=\"1\" class=\"dataframe\">\n",
       "  <thead>\n",
       "    <tr style=\"text-align: right;\">\n",
       "      <th></th>\n",
       "      <th>0</th>\n",
       "      <th>themes</th>\n",
       "    </tr>\n",
       "  </thead>\n",
       "  <tbody>\n",
       "    <tr>\n",
       "      <th>1638</th>\n",
       "      <td>\"magic\" commands</td>\n",
       "      <td></td>\n",
       "    </tr>\n",
       "    <tr>\n",
       "      <th>184</th>\n",
       "      <td>numerical analys</td>\n",
       "      <td></td>\n",
       "    </tr>\n",
       "    <tr>\n",
       "      <th>1460</th>\n",
       "      <td>Kernels' interaction</td>\n",
       "      <td></td>\n",
       "    </tr>\n",
       "    <tr>\n",
       "      <th>1116</th>\n",
       "      <td>a human-readable plain text format</td>\n",
       "      <td></td>\n",
       "    </tr>\n",
       "    <tr>\n",
       "      <th>184</th>\n",
       "      <td>modeling of cyberphysical systems</td>\n",
       "      <td></td>\n",
       "    </tr>\n",
       "    <tr>\n",
       "      <th>254</th>\n",
       "      <td>edit / open text files in a cell</td>\n",
       "      <td></td>\n",
       "    </tr>\n",
       "    <tr>\n",
       "      <th>1622</th>\n",
       "      <td>Sharing \"static\" standalone notebooks with non-jupyter users</td>\n",
       "      <td></td>\n",
       "    </tr>\n",
       "    <tr>\n",
       "      <th>1635</th>\n",
       "      <td>Text to notebook,  and notebook to text</td>\n",
       "      <td></td>\n",
       "    </tr>\n",
       "    <tr>\n",
       "      <th>408</th>\n",
       "      <td>Custom css</td>\n",
       "      <td></td>\n",
       "    </tr>\n",
       "    <tr>\n",
       "      <th>806</th>\n",
       "      <td>data previewer</td>\n",
       "      <td></td>\n",
       "    </tr>\n",
       "    <tr>\n",
       "      <th>277</th>\n",
       "      <td>More options/preferences (i.e., checkbox for 80 char line max)</td>\n",
       "      <td></td>\n",
       "    </tr>\n",
       "    <tr>\n",
       "      <th>1204</th>\n",
       "      <td>Support more programming lenguages.</td>\n",
       "      <td></td>\n",
       "    </tr>\n",
       "    <tr>\n",
       "      <th>26</th>\n",
       "      <td>I would prefer *less* integration with other tools!</td>\n",
       "      <td></td>\n",
       "    </tr>\n",
       "    <tr>\n",
       "      <th>264</th>\n",
       "      <td>optional persistent field that shows function docstrings without devoting a cell to \"? function\"</td>\n",
       "      <td></td>\n",
       "    </tr>\n",
       "    <tr>\n",
       "      <th>468</th>\n",
       "      <td>cell tags and filter for cell tags</td>\n",
       "      <td></td>\n",
       "    </tr>\n",
       "    <tr>\n",
       "      <th>1516</th>\n",
       "      <td>Graphic analysis</td>\n",
       "      <td></td>\n",
       "    </tr>\n",
       "    <tr>\n",
       "      <th>1695</th>\n",
       "      <td>nostests</td>\n",
       "      <td></td>\n",
       "    </tr>\n",
       "    <tr>\n",
       "      <th>823</th>\n",
       "      <td>VI keybindings</td>\n",
       "      <td></td>\n",
       "    </tr>\n",
       "    <tr>\n",
       "      <th>339</th>\n",
       "      <td>statistics</td>\n",
       "      <td></td>\n",
       "    </tr>\n",
       "    <tr>\n",
       "      <th>1090</th>\n",
       "      <td>versionning system</td>\n",
       "      <td></td>\n",
       "    </tr>\n",
       "  </tbody>\n",
       "</table>\n",
       "</div>"
      ],
      "text/plain": [
       "                                                                                                     0  \\\n",
       "1638                                                                                  \"magic\" commands   \n",
       "184                                                                                   numerical analys   \n",
       "1460                                                                              Kernels' interaction   \n",
       "1116                                                                a human-readable plain text format   \n",
       "184                                                                  modeling of cyberphysical systems   \n",
       "254                                                                   edit / open text files in a cell   \n",
       "1622                                      Sharing \"static\" standalone notebooks with non-jupyter users   \n",
       "1635                                                           Text to notebook,  and notebook to text   \n",
       "408                                                                                         Custom css   \n",
       "806                                                                                     data previewer   \n",
       "277                                     More options/preferences (i.e., checkbox for 80 char line max)   \n",
       "1204                                                               Support more programming lenguages.   \n",
       "26                                                 I would prefer *less* integration with other tools!   \n",
       "264   optional persistent field that shows function docstrings without devoting a cell to \"? function\"   \n",
       "468                                                                cell tags and filter for cell tags    \n",
       "1516                                                                                  Graphic analysis   \n",
       "1695                                                                                          nostests   \n",
       "823                                                                                     VI keybindings   \n",
       "339                                                                                         statistics   \n",
       "1090                                                                                versionning system   \n",
       "\n",
       "     themes  \n",
       "1638         \n",
       "184          \n",
       "1460         \n",
       "1116         \n",
       "184          \n",
       "254          \n",
       "1622         \n",
       "1635         \n",
       "408          \n",
       "806          \n",
       "277          \n",
       "1204         \n",
       "26           \n",
       "264          \n",
       "468          \n",
       "1516         \n",
       "1695         \n",
       "823          \n",
       "339          \n",
       "1090         "
      ]
     },
     "execution_count": 80,
     "metadata": {},
     "output_type": "execute_result"
    }
   ],
   "source": [
    "tagged[tagged.themes.str.len() == 0].sample(20, random_state=rs)"
   ]
  },
  {
   "cell_type": "code",
   "execution_count": 118,
   "metadata": {
    "collapsed": true
   },
   "outputs": [],
   "source": [
    "themes = {\n",
    "    'version': ['git(\\W|$)', 'version(ing)?\\Wcontrol', 'd?vcs', 'mercurial', 'hg', 'history'],\n",
    "    'language' : ['fortran', 'julia', 'scala', 'latex', 'i?julia', 'cross language', 'sql', 'R(\\W|$)', 'C(\\W|$)',\n",
    "                  'java', 'sas', 'node', 'jdk', 'polyglot', 'bash', 'python(3|2)?', 'perl', 'awk', 'js',\n",
    "                  'clojure', 'cling', 'ruby', 'rust', 'php', 'haskell', 'lua', 'golang'],\n",
    "    'feature' : ['interactiv(e|ity)', 'dashboard', 'extensions', 'web app', 'animation', 'image', 'data source', '3d',\n",
    "                 'timeline', 'gantt', 'repl', 'editor', 'profil(e|ing)', 'console', 'collab', 'debug', \n",
    "                 'terminal', 'management', 'file browse', 'file manage', 'diagram', 'wiki', \n",
    "                 'test', 'offline', 'error', 'blog', 'database', 'script', 'slides', 'env(ironment)? vars',\n",
    "                 'bibliography', 'command\\W?line', 'memory', 'refactor', 'spreadsheet', 'completion', 'comment',\n",
    "                 'co-author', 'customiz', 'orchestrat', 'widgets', 'them(e|ing)', 'warning', 'lint', 'outline', 'fold',\n",
    "                 'video', 'progress', 'presentation', 'slide', 'gis', 'spell\\W?check', 'native', 'notification',\n",
    "                 'citation', 'keyboard', 'variable', 'physics', 'documentation', 'schedul', 'calendar', 'api(\\W|$)',\n",
    "                 'xml', 'backup', 'writing', 'languages', 'views', 'navigation', 'file system', 'share',\n",
    "                 'exploration', 'grid', 'install', 'plugin', 'search', 'visualization', 'auto ?complet(e|ion)', 'grading',\n",
    "                 'table of content', 'load balanc', 'clipboard', 'imports', 'caching', 'math', 'footnote', 'modeling'\n",
    "                 'preview', 'code editing', 'cluster', 'visuali(s|z)ation', 'index', 'pagebreaks', 'mobile', 'skins',\n",
    "                 'styles', 'reports', 'warehouse', 'proprietary', 'state', 'full screen', \n",
    "                 'app creation', 'graphs', 'chart(s|ing)', 'plot(ting)', 'large data', 'web ?hook', 'deep learn',\n",
    "                 'shortcut', 'diffing', 'production', 'geology', 'diff/merge', 'sandbox', 'document edit',\n",
    "                 'graphical', 'collaps(e|ing)', 'modules', 'hide cell', 'without code', 'hidden cells', 'remote kernel',\n",
    "                 'object inspector', 'converter', 'instruments', 'cprofile', 'figures', 'ides?(\\W|$)', 'web app'],\n",
    "    'app_lib_service' : ['d3', 'shiny', 'animation',\n",
    "                         'scikit', 'matplotlib', 'spark', 'pandas', \n",
    "                         'flake', 'pep8', 'pdf', 'numpy', 'sphinx', 'seaborn', 'plot(\\.)?ly', 'nosebook', 'vtk', 'vispy',\n",
    "                         'graphviz', 'netlogo', 'vim', 'emacs', 'sublime', 'biquery', 'pycharm', 'pelican', 'wordpress',\n",
    "                         'pandoc', 'rstudio', 'gpilab', 'nbconvert', '(ana)?conda', 'htop', 'zsh', 'beaker', 'evernote',\n",
    "                         'rodeo', 'spyder', 'posgres', 'tableau', 'idea', 'bokeh', 'three.js', 'pyspark', 'jedi',\n",
    "                         'nose', 'bibtex', 'excel', 'graphvis', 'atom', 'electron',  'tensorflow', 'sage', 'pygdb',\n",
    "                         'gui', 'mayavi', 'rvm', 'finder', 'npm', 'django', 'octave', 'geojson', 'qt', 'hive', 'impala',\n",
    "                         'docrepr', 'pip', 'pdb', 'nbgrader', 'scrapy', 'nbdiff', 'zeppelin', 'gmail', 'pyflakes',\n",
    "                         'jupyter\\W?hub', 'visual studio', 'rise(\\W|$)', 'xcode', 'eslint', 'hdf', 'hadoop', 'binder',\n",
    "                         'fenics', 'alteryx', 'venv', 'mathjax', 'tern(\\W|$)', 'dill', 'moodle', 'gvim', 'sparql',\n",
    "                         'atlassian', 'doit', 'matlab', 'swift', 'xplot', 'reveal', 'virtualenv', 'mp4',\n",
    "                         'phantomx', 'thebe', 'tmpnb', 'line_profiler', 'netbeans', 'webgl', 'travis', 'synapse.org',\n",
    "                         'python\\W?anywhere', 'sage', 'gephi', 'sumatra', 'cdh', 'yt', 'ffmpeg', 'scipy', 'trinket',\n",
    "                         'ipython', 'markdown', 'stack overflow', 'ros(\\W|$)', 'mysql', 'bbedit', 'neovim', 'dropbox',\n",
    "                         'nbmerge', 'ggvis', 'pyside', 'eclipse', 'torch', 'slack', 'pycuda', 'theano', 'slurm',\n",
    "                         'artview', 'nbviewer', 'flask', 'pylint', 'stata', 'expect', 'ipyparall', 'cookiecutter',\n",
    "                         'intellij', 'stash', 'cantor', 'wakari', 'gnuplot', 'tex(\\W|$)', 'live_reveal', 'html',\n",
    "                         'coursera', 'opencv', 'selenium', 'hfg', 'hue', 'unittest', 'org-mode'],\n",
    "    'platform' : ['cloud', 'saas', 'deploy', 'host', 'docker', 'google', 'aws', 'ios', 'windows', 'gnome', 'os x', \n",
    "                  'openbsd']\n",
    "}"
   ]
  },
  {
   "cell_type": "markdown",
   "metadata": {},
   "source": [
    "## Precision Check\n",
    "\n",
    "I then studied a sample of responses for each theme to see if there major inaccuracies in their application (e.g., string matches that are too fuzzy)."
   ]
  },
  {
   "cell_type": "code",
   "execution_count": 119,
   "metadata": {
    "collapsed": false
   },
   "outputs": [
    {
     "name": "stdout",
     "output_type": "stream",
     "text": [
      "feature 455\n",
      "app_lib_service 546\n",
      "platform 44\n",
      "version 154\n",
      "language 179\n"
     ]
    },
    {
     "data": {
      "text/plain": [
       "1    1060\n",
       "2     136\n",
       "0      46\n",
       "3      14\n",
       "4       1\n",
       "Name: themes, dtype: int64"
      ]
     },
     "execution_count": 119,
     "metadata": {},
     "output_type": "execute_result"
    }
   ],
   "source": [
    "tagged = tag_themes(integrations, themes)\n",
    "tagged.themes.str.count(',').value_counts()"
   ]
  },
  {
   "cell_type": "code",
   "execution_count": 120,
   "metadata": {
    "collapsed": true
   },
   "outputs": [],
   "source": [
    "from IPython.display import display, clear_output"
   ]
  },
  {
   "cell_type": "code",
   "execution_count": 121,
   "metadata": {
    "collapsed": false,
    "scrolled": false
   },
   "outputs": [
    {
     "data": {
      "text/html": [
       "<div>\n",
       "<table border=\"1\" class=\"dataframe\">\n",
       "  <thead>\n",
       "    <tr style=\"text-align: right;\">\n",
       "      <th></th>\n",
       "      <th>0</th>\n",
       "      <th>themes</th>\n",
       "    </tr>\n",
       "  </thead>\n",
       "  <tbody>\n",
       "    <tr>\n",
       "      <th>546</th>\n",
       "      <td>remote data from warehouse</td>\n",
       "      <td>feature,</td>\n",
       "    </tr>\n",
       "    <tr>\n",
       "      <th>346</th>\n",
       "      <td>Better interactive widgets</td>\n",
       "      <td>feature,</td>\n",
       "    </tr>\n",
       "    <tr>\n",
       "      <th>1151</th>\n",
       "      <td>Notebook comments</td>\n",
       "      <td>feature,</td>\n",
       "    </tr>\n",
       "    <tr>\n",
       "      <th>1132</th>\n",
       "      <td>Tight integration with desktop clipboard</td>\n",
       "      <td>feature,</td>\n",
       "    </tr>\n",
       "    <tr>\n",
       "      <th>863</th>\n",
       "      <td>text editor (sublime)</td>\n",
       "      <td>feature,app_lib_service,</td>\n",
       "    </tr>\n",
       "    <tr>\n",
       "      <th>837</th>\n",
       "      <td>slideshows</td>\n",
       "      <td>feature,</td>\n",
       "    </tr>\n",
       "    <tr>\n",
       "      <th>551</th>\n",
       "      <td>Notebook file management</td>\n",
       "      <td>feature,</td>\n",
       "    </tr>\n",
       "    <tr>\n",
       "      <th>502</th>\n",
       "      <td>spellchecker</td>\n",
       "      <td>feature,</td>\n",
       "    </tr>\n",
       "    <tr>\n",
       "      <th>1554</th>\n",
       "      <td>job management (execute background jobs more easily)</td>\n",
       "      <td>feature,</td>\n",
       "    </tr>\n",
       "    <tr>\n",
       "      <th>579</th>\n",
       "      <td>deep learning networks like theano</td>\n",
       "      <td>feature,app_lib_service,</td>\n",
       "    </tr>\n",
       "  </tbody>\n",
       "</table>\n",
       "</div>"
      ],
      "text/plain": [
       "                                                         0  \\\n",
       "546                            remote data from warehouse    \n",
       "346                             Better interactive widgets   \n",
       "1151                                     Notebook comments   \n",
       "1132              Tight integration with desktop clipboard   \n",
       "863                                  text editor (sublime)   \n",
       "837                                             slideshows   \n",
       "551                               Notebook file management   \n",
       "502                                           spellchecker   \n",
       "1554  job management (execute background jobs more easily)   \n",
       "579                     deep learning networks like theano   \n",
       "\n",
       "                        themes  \n",
       "546                   feature,  \n",
       "346                   feature,  \n",
       "1151                  feature,  \n",
       "1132                  feature,  \n",
       "863   feature,app_lib_service,  \n",
       "837                   feature,  \n",
       "551                   feature,  \n",
       "502                   feature,  \n",
       "1554                  feature,  \n",
       "579   feature,app_lib_service,  "
      ]
     },
     "metadata": {},
     "output_type": "display_data"
    },
    {
     "name": "stdout",
     "output_type": "stream",
     "text": [
      "Showing `feature`. Type Enter to continue, \"q\" to stop.q\n"
     ]
    }
   ],
   "source": [
    "for key in themes:\n",
    "    clear_output()\n",
    "    display(tagged[tagged.themes.str.contains(key)].sample(10))\n",
    "    if input('Showing `{}`. Type Enter to continue, \"q\" to stop.'.format(key)) == 'q':\n",
    "        break"
   ]
  },
  {
   "cell_type": "markdown",
   "metadata": {},
   "source": [
    "## Keyword Frequencies"
   ]
  },
  {
   "cell_type": "code",
   "execution_count": 150,
   "metadata": {
    "collapsed": true
   },
   "outputs": [],
   "source": [
    "import matplotlib\n",
    "import seaborn"
   ]
  },
  {
   "cell_type": "code",
   "execution_count": 151,
   "metadata": {
    "collapsed": true
   },
   "outputs": [],
   "source": [
    "counts = {}"
   ]
  },
  {
   "cell_type": "code",
   "execution_count": 152,
   "metadata": {
    "collapsed": false
   },
   "outputs": [],
   "source": [
    "for theme, keywords in themes.items():\n",
    "    for keyword in keywords:\n",
    "        hits = integrations.map(lambda text: keywords_or(text, [keyword]))\n",
    "        counts[keyword] = hits.sum()"
   ]
  },
  {
   "cell_type": "code",
   "execution_count": 159,
   "metadata": {
    "collapsed": false
   },
   "outputs": [],
   "source": [
    "hist = pd.Series(counts).sort_values()"
   ]
  },
  {
   "cell_type": "code",
   "execution_count": 165,
   "metadata": {
    "collapsed": false
   },
   "outputs": [
    {
     "data": {
      "image/png": "[encoded data removed]",
      "text/plain": [
       "<matplotlib.figure.Figure at 0x7fb124423ef0>"
      ]
     },
     "metadata": {},
     "output_type": "display_data"
    }
   ],
   "source": [
    "ax = hist[-30:].plot.barh(figsize=(8, 8))\n",
    "_ = ax.set_xlabel('Mentions')"
   ]
  },
  {
   "cell_type": "code",
   "execution_count": null,
   "metadata": {
    "collapsed": true
   },
   "outputs": [],
   "source": []
  }
 ],
 "metadata": {
  "kernelspec": {
   "display_name": "Python 3",
   "language": "python",
   "name": "python3"
  },
  "language_info": {
   "codemirror_mode": {
    "name": "ipython",
    "version": 3
   },
   "file_extension": ".py",
   "mimetype": "text/x-python",
   "name": "python",
   "nbconvert_exporter": "python",
   "pygments_lexer": "ipython3",
   "version": "3.4.4"
  }
 },
 "nbformat": 4,
 "nbformat_minor": 0
}
