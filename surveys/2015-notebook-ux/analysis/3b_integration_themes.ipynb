{
 "cells": [
  {
   "cell_type": "markdown",
   "metadata": {
    "urth": {
     "dashboard": {
      "layout": {
       "col": 0,
       "height": 13,
       "row": 0,
       "width": 12
      }
     }
    }
   },
   "source": [
    "# Response Themes for \"What tools and applications, if any, would you like to see more tightly integrated with Jupyter Notebook?\"\n",
    "\n",
    "* Goal: Extract theme keywords from `integrations` responses.\n",
    "* Data: Output from 2_clean_survey.ipynb notebook (`survey_short_columns.csv`)\n",
    "* Strawman process from [1_ux_survey_review.ipynb](1_ux_survey_review.ipynb):\n",
    "\n",
    "> Moving forward, here's a semi-automatic procedure we can follow for identifying themes across questions:\n",
    "> 1. Take a random sample of question responses\n",
    "> 2. Write down common theme keywords\n",
    "> 3. Search back through the responses using the theme keywords\n",
    "> 4. Expand the set of keywords with other words seen in the search results\n",
    "> 5. Repeat for all themes and questions\n",
    "> Later, we can use a fully automated topic modeling approach to validate our manually generated themes."
   ]
  },
  {
   "cell_type": "code",
   "execution_count": 1,
   "metadata": {
    "collapsed": false,
    "urth": {
     "dashboard": {
      "layout": {
       "col": 0,
       "height": 13,
       "row": 13,
       "width": 4
      }
     }
    }
   },
   "outputs": [],
   "source": [
    "%matplotlib inline"
   ]
  },
  {
   "cell_type": "code",
   "execution_count": 2,
   "metadata": {
    "collapsed": true,
    "urth": {
     "dashboard": {}
    }
   },
   "outputs": [],
   "source": [
    "import pandas as pd\n",
    "import numpy as np"
   ]
  },
  {
   "cell_type": "markdown",
   "metadata": {
    "urth": {
     "dashboard": {
      "layout": {
       "col": 4,
       "height": 4,
       "row": 13,
       "width": 4
      }
     }
    }
   },
   "source": [
    "Make sure the samples come up the same for anyone that re-runs this."
   ]
  },
  {
   "cell_type": "code",
   "execution_count": 3,
   "metadata": {
    "collapsed": false,
    "urth": {
     "dashboard": {}
    }
   },
   "outputs": [],
   "source": [
    "rs = np.random.RandomState(123)"
   ]
  },
  {
   "cell_type": "code",
   "execution_count": 4,
   "metadata": {
    "collapsed": false,
    "urth": {
     "dashboard": {}
    }
   },
   "outputs": [],
   "source": [
    "pd.set_option('max_colwidth', 1000)"
   ]
  },
  {
   "cell_type": "code",
   "execution_count": 5,
   "metadata": {
    "collapsed": true,
    "urth": {
     "dashboard": {}
    }
   },
   "outputs": [],
   "source": [
    "df = pd.read_csv('survey_short_columns.csv')"
   ]
  },
  {
   "cell_type": "code",
   "execution_count": 6,
   "metadata": {
    "collapsed": true,
    "urth": {
     "dashboard": {}
    }
   },
   "outputs": [],
   "source": [
    "def show(series):\n",
    "    '''Make random samples easier to read.'''\n",
    "    for i, value in enumerate(series):\n",
    "        print('{}) {}'.format(i, value), end='\\n\\n')"
   ]
  },
  {
   "cell_type": "markdown",
   "metadata": {
    "urth": {
     "dashboard": {
      "layout": {
       "col": 8,
       "height": 4,
       "row": 13,
       "width": 4
      }
     }
    }
   },
   "source": [
    "Concat all three integration response columns into one. We don't care about order at the moment."
   ]
  },
  {
   "cell_type": "code",
   "execution_count": 7,
   "metadata": {
    "collapsed": true,
    "urth": {
     "dashboard": {}
    }
   },
   "outputs": [],
   "source": [
    "responses = pd.concat([df.integrations_1, df.integrations_2, df.integrations_3])"
   ]
  },
  {
   "cell_type": "code",
   "execution_count": 8,
   "metadata": {
    "collapsed": false,
    "urth": {
     "dashboard": {}
    }
   },
   "outputs": [],
   "source": [
    "assert len(responses) == len(df) * 3"
   ]
  },
  {
   "cell_type": "markdown",
   "metadata": {},
   "source": [
    "For later ref, to keep the notebook code generic for other questions."
   ]
  },
  {
   "cell_type": "code",
   "execution_count": 9,
   "metadata": {
    "collapsed": true
   },
   "outputs": [],
   "source": [
    "column = 'integrations'"
   ]
  },
  {
   "cell_type": "code",
   "execution_count": 10,
   "metadata": {
    "collapsed": false,
    "urth": {
     "dashboard": {
      "layout": {
       "col": 4,
       "height": 4,
       "row": 17,
       "width": 4
      }
     }
    }
   },
   "outputs": [
    {
     "data": {
      "text/plain": [
       "True     3861\n",
       "False    1257\n",
       "dtype: int64"
      ]
     },
     "execution_count": 10,
     "metadata": {},
     "output_type": "execute_result"
    }
   ],
   "source": [
    "responses.isnull().value_counts()"
   ]
  },
  {
   "cell_type": "code",
   "execution_count": 11,
   "metadata": {
    "collapsed": true,
    "urth": {
     "dashboard": {}
    }
   },
   "outputs": [],
   "source": [
    "responses = responses.dropna()"
   ]
  },
  {
   "cell_type": "markdown",
   "metadata": {
    "urth": {
     "dashboard": {
      "layout": {
       "col": 0,
       "height": 4,
       "row": 26,
       "width": 12
      }
     }
    }
   },
   "source": [
    "## Initial Samples\n",
    "\n",
    "I ran the sampling code below 6 times and manually built up the initial set of keywords seen commonly across them. I formed groups of conceptually related keywords. Then I tried to assign a simple label to each group."
   ]
  },
  {
   "cell_type": "code",
   "execution_count": 12,
   "metadata": {
    "collapsed": false,
    "scrolled": false,
    "urth": {
     "dashboard": {
      "layout": {
       "col": 0,
       "height": 30,
       "row": 30,
       "width": 4
      }
     }
    }
   },
   "outputs": [
    {
     "name": "stdout",
     "output_type": "stream",
     "text": [
      "0) pandas - better table viewing and printing\n",
      "\n",
      "1) Spark\n",
      "\n",
      "2) Image export quality selection\n",
      "\n",
      "3) git diff\n",
      "\n",
      "4) data sources explorer (database, files, s3, gcs)\n",
      "\n",
      "5) Scala\n",
      "\n",
      "6) Version control/GIT  (toggle between different versions within the notebook interface)\n",
      "\n",
      "7) Fortran REPL\n",
      "\n",
      "8) dynamic 2d and 3d plot (zoom in, rotate and so on)\n",
      "\n",
      "9) External editors\n",
      "\n",
      "10) Git\n",
      "\n",
      "11) flake8\n",
      "\n",
      "12) a PEP8 linter\n",
      "\n",
      "13) Vim / text editor\n",
      "\n",
      "14) move data across languages ala Beaker\n",
      "\n",
      "15) Inline pdf images\n",
      "\n",
      "16) Version control / GIT (switch, in the GUI, between different versions/branches of the same code)\n",
      "\n",
      "17) vim\n",
      "\n",
      "18) cloud/SaaS\n",
      "\n",
      "19) Julia\n",
      "\n"
     ]
    }
   ],
   "source": [
    "show(responses.sample(20, random_state=rs))"
   ]
  },
  {
   "cell_type": "code",
   "execution_count": 13,
   "metadata": {
    "collapsed": false,
    "urth": {
     "dashboard": {}
    }
   },
   "outputs": [],
   "source": [
    "themes = {\n",
    "    'version': ['git', 'version control'],\n",
    "    'language' : ['fortran', 'julia', 'scala', 'latex', 'julia', 'cross language'],\n",
    "    'feature' : ['interactive', 'dashboards', 'extensions', 'web app', 'animation', 'image', 'data source', '3d',\n",
    "                 'timeline', 'gantt', 'repl', 'editor', 'profile', 'console', 'collab', 'debug', \n",
    "                 'terminal', 'management', 'file browser', 'diagram', 'wiki', \n",
    "                 'test', 'offline', 'error', 'blog', 'database', 'script'],\n",
    "    'app_lib_service' : ['d3', 'web app', 'shiny', 'animation',\n",
    "                 'scikit-learn', 'matplotlib', 'spark', 'pandas', \n",
    "                 'flake', 'pep8', 'pdf', 'numpy', 'sphinx', 'seaborn', 'plotly', 'nosebook', 'vtk', 'vispy',\n",
    "                 'graphviz', 'netlogo', 'vim', 'emacs', 'sublime', 'biquery', 'pycharm'],\n",
    "    'hosting' : ['cloud', 'saas', 'deploy', 'host', 'docker', 'google', 'aws'],\n",
    "    'other': ['hfg'] \n",
    "}"
   ]
  },
  {
   "cell_type": "markdown",
   "metadata": {
    "urth": {
     "dashboard": {
      "layout": {
       "col": 0,
       "height": 4,
       "row": 60,
       "width": 12
      }
     }
    }
   },
   "source": [
    "## Coverage Improvement\n",
    "\n",
    "I next ran the code below to associate the theme labels with the responses. I then iterated on running the code below to find reponses without labels. I expanded the list of keywords and themes in order to improve coverage."
   ]
  },
  {
   "cell_type": "code",
   "execution_count": 14,
   "metadata": {
    "collapsed": true,
    "urth": {
     "dashboard": {}
    }
   },
   "outputs": [],
   "source": [
    "import re"
   ]
  },
  {
   "cell_type": "code",
   "execution_count": 15,
   "metadata": {
    "collapsed": true,
    "urth": {
     "dashboard": {}
    }
   },
   "outputs": [],
   "source": [
    "def keywords_or(text, keywords):\n",
    "    for keyword in keywords:\n",
    "        if re.search('(^|\\W+){}'.format(keyword), text, re.IGNORECASE):\n",
    "            return True\n",
    "    return False"
   ]
  },
  {
   "cell_type": "code",
   "execution_count": 16,
   "metadata": {
    "collapsed": false,
    "urth": {
     "dashboard": {}
    }
   },
   "outputs": [],
   "source": [
    "def tag_themes(responses, themes):\n",
    "    tagged = responses.to_frame()\n",
    "    tagged['themes'] = ''\n",
    "    for theme, keywords in themes.items():\n",
    "        results = responses.map(lambda text: keywords_or(text, keywords))\n",
    "        tagged.loc[results, 'themes'] += theme + ','\n",
    "        print(theme, results.sum())\n",
    "    return tagged"
   ]
  },
  {
   "cell_type": "code",
   "execution_count": 17,
   "metadata": {
    "collapsed": false,
    "urth": {
     "dashboard": {
      "layout": {
       "col": 8,
       "height": 8,
       "row": 17,
       "width": 4
      }
     }
    }
   },
   "outputs": [
    {
     "name": "stdout",
     "output_type": "stream",
     "text": [
      "version 169\n",
      "app_lib_service 282\n",
      "language 38\n",
      "hosting 36\n",
      "feature 191\n",
      "other 3\n"
     ]
    },
    {
     "data": {
      "text/plain": [
       "1    647\n",
       "0    575\n",
       "2     33\n",
       "3      2\n",
       "Name: themes, dtype: int64"
      ]
     },
     "execution_count": 17,
     "metadata": {},
     "output_type": "execute_result"
    }
   ],
   "source": [
    "tagged = tag_themes(responses, themes)\n",
    "tagged.themes.str.count(',').value_counts()"
   ]
  },
  {
   "cell_type": "code",
   "execution_count": 18,
   "metadata": {
    "collapsed": false,
    "urth": {
     "dashboard": {
      "layout": {
       "col": 0,
       "height": 36,
       "row": 64,
       "width": 4
      }
     }
    }
   },
   "outputs": [
    {
     "data": {
      "text/html": [
       "<div>\n",
       "<table border=\"1\" class=\"dataframe\">\n",
       "  <thead>\n",
       "    <tr style=\"text-align: right;\">\n",
       "      <th></th>\n",
       "      <th>0</th>\n",
       "      <th>themes</th>\n",
       "    </tr>\n",
       "  </thead>\n",
       "  <tbody>\n",
       "    <tr>\n",
       "      <th>563</th>\n",
       "      <td>Better exploration of dataframes</td>\n",
       "      <td></td>\n",
       "    </tr>\n",
       "    <tr>\n",
       "      <th>1145</th>\n",
       "      <td>R</td>\n",
       "      <td></td>\n",
       "    </tr>\n",
       "    <tr>\n",
       "      <th>1487</th>\n",
       "      <td>tern</td>\n",
       "      <td></td>\n",
       "    </tr>\n",
       "    <tr>\n",
       "      <th>1534</th>\n",
       "      <td>spyder</td>\n",
       "      <td></td>\n",
       "    </tr>\n",
       "    <tr>\n",
       "      <th>1638</th>\n",
       "      <td>\"magic\" commands</td>\n",
       "      <td></td>\n",
       "    </tr>\n",
       "    <tr>\n",
       "      <th>68</th>\n",
       "      <td>Using additional MathJax libraries</td>\n",
       "      <td></td>\n",
       "    </tr>\n",
       "    <tr>\n",
       "      <th>150</th>\n",
       "      <td>declarative widgets</td>\n",
       "      <td></td>\n",
       "    </tr>\n",
       "    <tr>\n",
       "      <th>1266</th>\n",
       "      <td>Atom</td>\n",
       "      <td></td>\n",
       "    </tr>\n",
       "    <tr>\n",
       "      <th>1124</th>\n",
       "      <td>installation as a service on centos7</td>\n",
       "      <td></td>\n",
       "    </tr>\n",
       "    <tr>\n",
       "      <th>1022</th>\n",
       "      <td>django</td>\n",
       "      <td></td>\n",
       "    </tr>\n",
       "    <tr>\n",
       "      <th>293</th>\n",
       "      <td>X3DOM JavaScript library</td>\n",
       "      <td></td>\n",
       "    </tr>\n",
       "    <tr>\n",
       "      <th>534</th>\n",
       "      <td>venv</td>\n",
       "      <td></td>\n",
       "    </tr>\n",
       "    <tr>\n",
       "      <th>421</th>\n",
       "      <td>a big ide like \"spyder\"</td>\n",
       "      <td></td>\n",
       "    </tr>\n",
       "    <tr>\n",
       "      <th>974</th>\n",
       "      <td>SQLAlchemy</td>\n",
       "      <td></td>\n",
       "    </tr>\n",
       "    <tr>\n",
       "      <th>661</th>\n",
       "      <td>Ability to insert pagebreaks--often my documents are converted to another format and need to be cleaned up extensively</td>\n",
       "      <td></td>\n",
       "    </tr>\n",
       "    <tr>\n",
       "      <th>290</th>\n",
       "      <td>pygdb maybe?</td>\n",
       "      <td></td>\n",
       "    </tr>\n",
       "    <tr>\n",
       "      <th>68</th>\n",
       "      <td>Spell checking</td>\n",
       "      <td></td>\n",
       "    </tr>\n",
       "    <tr>\n",
       "      <th>960</th>\n",
       "      <td>Autocompletion</td>\n",
       "      <td></td>\n",
       "    </tr>\n",
       "    <tr>\n",
       "      <th>221</th>\n",
       "      <td>spellcheck</td>\n",
       "      <td></td>\n",
       "    </tr>\n",
       "    <tr>\n",
       "      <th>631</th>\n",
       "      <td>C</td>\n",
       "      <td></td>\n",
       "    </tr>\n",
       "  </tbody>\n",
       "</table>\n",
       "</div>"
      ],
      "text/plain": [
       "                                                                                                                           0  \\\n",
       "563                                                                                        Better exploration of dataframes    \n",
       "1145                                                                                                                       R   \n",
       "1487                                                                                                                    tern   \n",
       "1534                                                                                                                  spyder   \n",
       "1638                                                                                                        \"magic\" commands   \n",
       "68                                                                                        Using additional MathJax libraries   \n",
       "150                                                                                                      declarative widgets   \n",
       "1266                                                                                                                    Atom   \n",
       "1124                                                                                    installation as a service on centos7   \n",
       "1022                                                                                                                  django   \n",
       "293                                                                                                 X3DOM JavaScript library   \n",
       "534                                                                                                                     venv   \n",
       "421                                                                                                  a big ide like \"spyder\"   \n",
       "974                                                                                                               SQLAlchemy   \n",
       "661   Ability to insert pagebreaks--often my documents are converted to another format and need to be cleaned up extensively   \n",
       "290                                                                                                            pygdb maybe?    \n",
       "68                                                                                                            Spell checking   \n",
       "960                                                                                                           Autocompletion   \n",
       "221                                                                                                               spellcheck   \n",
       "631                                                                                                                        C   \n",
       "\n",
       "     themes  \n",
       "563          \n",
       "1145         \n",
       "1487         \n",
       "1534         \n",
       "1638         \n",
       "68           \n",
       "150          \n",
       "1266         \n",
       "1124         \n",
       "1022         \n",
       "293          \n",
       "534          \n",
       "421          \n",
       "974          \n",
       "661          \n",
       "290          \n",
       "68           \n",
       "960          \n",
       "221          \n",
       "631          "
      ]
     },
     "execution_count": 18,
     "metadata": {},
     "output_type": "execute_result"
    }
   ],
   "source": [
    "tagged[tagged.themes.str.len() == 0].sample(20, random_state=rs)"
   ]
  },
  {
   "cell_type": "code",
   "execution_count": 19,
   "metadata": {
    "collapsed": true,
    "urth": {
     "dashboard": {}
    }
   },
   "outputs": [],
   "source": [
    "themes = {\n",
    "    'version': ['git(\\W|$)', 'version(ing)?\\Wcontrol', 'd?vcs', 'mercurial', 'hg', 'history'],\n",
    "    'language' : ['fortran', 'julia', 'scala', 'latex', 'i?julia', 'cross language', 'sql', 'R(\\W|$)', 'C(\\W|$)',\n",
    "                  'java', 'sas', 'node', 'jdk', 'polyglot', 'bash', 'python(3|2)?', 'perl', 'awk', 'js',\n",
    "                  'clojure', 'cling', 'ruby', 'rust', 'php', 'haskell', 'lua', 'golang'],\n",
    "    'feature' : ['interactiv(e|ity)', 'dashboard', 'extensions', 'web app', 'animation', 'image', 'data source', '3d',\n",
    "                 'timeline', 'gantt', 'repl', 'editor', 'profil(e|ing)', 'console', 'collab', 'debug', \n",
    "                 'terminal', 'management', 'file browse', 'file manage', 'diagram', 'wiki', \n",
    "                 'test', 'offline', 'error', 'blog', 'database', 'script', 'slides', 'env(ironment)? vars',\n",
    "                 'bibliography', 'command\\W?line', 'memory', 'refactor', 'spreadsheet', 'completion', 'comment',\n",
    "                 'co-author', 'customiz', 'orchestrat', 'widgets', 'them(e|ing)', 'warning', 'lint', 'outline', 'fold',\n",
    "                 'video', 'progress', 'presentation', 'slide', 'gis', 'spell\\W?check', 'native', 'notification',\n",
    "                 'citation', 'keyboard', 'variable', 'physics', 'documentation', 'schedul', 'calendar', 'api(\\W|$)',\n",
    "                 'xml', 'backup', 'writing', 'languages', 'views', 'navigation', 'file system', 'share',\n",
    "                 'exploration', 'grid', 'install', 'plugin', 'search', 'visualization', 'auto ?complet(e|ion)', 'grading',\n",
    "                 'table of content', 'load balanc', 'clipboard', 'imports', 'caching', 'math', 'footnote', 'modeling'\n",
    "                 'preview', 'code editing', 'cluster', 'visuali(s|z)ation', 'index', 'pagebreaks', 'mobile', 'skins',\n",
    "                 'styles', 'reports', 'warehouse', 'proprietary', 'state', 'full screen', \n",
    "                 'app creation', 'graphs', 'chart(s|ing)', 'plot(ting)', 'large data', 'web ?hook', 'deep learn',\n",
    "                 'shortcut', 'diffing', 'production', 'geology', 'diff/merge', 'sandbox', 'document edit',\n",
    "                 'graphical', 'collaps(e|ing)', 'modules', 'hide cell', 'without code', 'hidden cells', 'remote kernel',\n",
    "                 'object inspector', 'converter', 'instruments', 'cprofile', 'figures', 'ides?(\\W|$)', 'web app'],\n",
    "    'app_lib_service' : ['d3', 'shiny', 'animation',\n",
    "                         'scikit', 'matplotlib', 'spark', 'pandas', \n",
    "                         'flake', 'pep8', 'pdf', 'numpy', 'sphinx', 'seaborn', 'plot(\\.)?ly', 'nosebook', 'vtk', 'vispy',\n",
    "                         'graphviz', 'netlogo', 'vim', 'emacs', 'sublime', 'biquery', 'pycharm', 'pelican', 'wordpress',\n",
    "                         'pandoc', 'rstudio', 'gpilab', 'nbconvert', '(ana)?conda', 'htop', 'zsh', 'beaker', 'evernote',\n",
    "                         'rodeo', 'spyder', 'posgres', 'tableau', 'idea', 'bokeh', 'three.js', 'pyspark', 'jedi',\n",
    "                         'nose', 'bibtex', 'excel', 'graphvis', 'atom', 'electron',  'tensorflow', 'sage', 'pygdb',\n",
    "                         'gui', 'mayavi', 'rvm', 'finder', 'npm', 'django', 'octave', 'geojson', 'qt', 'hive', 'impala',\n",
    "                         'docrepr', 'pip', 'pdb', 'nbgrader', 'scrapy', 'nbdiff', 'zeppelin', 'gmail', 'pyflakes',\n",
    "                         'jupyter\\W?hub', 'visual studio', 'rise(\\W|$)', 'xcode', 'eslint', 'hdf', 'hadoop', 'binder',\n",
    "                         'fenics', 'alteryx', 'venv', 'mathjax', 'tern(\\W|$)', 'dill', 'moodle', 'gvim', 'sparql',\n",
    "                         'atlassian', 'doit', 'matlab', 'swift', 'xplot', 'reveal', 'virtualenv', 'mp4',\n",
    "                         'phantomx', 'thebe', 'tmpnb', 'line_profiler', 'netbeans', 'webgl', 'travis', 'synapse.org',\n",
    "                         'python\\W?anywhere', 'sage', 'gephi', 'sumatra', 'cdh', 'yt', 'ffmpeg', 'scipy', 'trinket',\n",
    "                         'ipython', 'markdown', 'stack overflow', 'ros(\\W|$)', 'mysql', 'bbedit', 'neovim', 'dropbox',\n",
    "                         'nbmerge', 'ggvis', 'pyside', 'eclipse', 'torch', 'slack', 'pycuda', 'theano', 'slurm',\n",
    "                         'artview', 'nbviewer', 'flask', 'pylint', 'stata', 'expect', 'ipyparall', 'cookiecutter',\n",
    "                         'intellij', 'stash', 'cantor', 'wakari', 'gnuplot', 'tex(\\W|$)', 'live_reveal', 'html',\n",
    "                         'coursera', 'opencv', 'selenium', 'hfg', 'hue', 'unittest', 'org-mode'],\n",
    "    'platform' : ['cloud', 'saas', 'deploy', 'host', 'docker', 'google', 'aws', 'ios', 'windows', 'gnome', 'os x', \n",
    "                  'openbsd']\n",
    "}"
   ]
  },
  {
   "cell_type": "markdown",
   "metadata": {
    "urth": {
     "dashboard": {
      "layout": {
       "col": 0,
       "height": 4,
       "row": 100,
       "width": 12
      }
     }
    }
   },
   "source": [
    "## Precision Check\n",
    "\n",
    "I then studied a sample of responses for each theme to see if there major inaccuracies in their application (e.g., string matches that are too fuzzy)."
   ]
  },
  {
   "cell_type": "code",
   "execution_count": 20,
   "metadata": {
    "collapsed": false,
    "urth": {
     "dashboard": {
      "layout": {
       "col": 4,
       "height": 8,
       "row": 30,
       "width": 4
      }
     }
    }
   },
   "outputs": [
    {
     "name": "stdout",
     "output_type": "stream",
     "text": [
      "platform 44\n",
      "version 154\n",
      "feature 455\n",
      "app_lib_service 546\n",
      "language 179\n"
     ]
    },
    {
     "data": {
      "text/plain": [
       "1    1060\n",
       "2     136\n",
       "0      46\n",
       "3      14\n",
       "4       1\n",
       "Name: themes, dtype: int64"
      ]
     },
     "execution_count": 20,
     "metadata": {},
     "output_type": "execute_result"
    }
   ],
   "source": [
    "tagged = tag_themes(responses, themes)\n",
    "tagged.themes.str.count(',').value_counts()"
   ]
  },
  {
   "cell_type": "code",
   "execution_count": 21,
   "metadata": {
    "collapsed": true,
    "urth": {
     "dashboard": {}
    }
   },
   "outputs": [],
   "source": [
    "from IPython.display import display, clear_output"
   ]
  },
  {
   "cell_type": "markdown",
   "metadata": {},
   "source": [
    "I've commented out this code so that the notebook re-runs top to bottom without getting stuck at this interactive prompt. Uncomment it if you want to poke through samples of the tagged responses."
   ]
  },
  {
   "cell_type": "code",
   "execution_count": 22,
   "metadata": {
    "collapsed": false,
    "scrolled": false,
    "urth": {
     "dashboard": {
      "layout": {
       "col": 8,
       "height": 27,
       "row": 30,
       "width": 4
      }
     }
    }
   },
   "outputs": [],
   "source": [
    "# for key in themes:\n",
    "#     clear_output()\n",
    "#     display(tagged[tagged.themes.str.contains(key)].sample(10))\n",
    "#     if input('Showing `{}`. Type Enter to continue, \"q\" to stop.'.format(key)) == 'q':\n",
    "#         break"
   ]
  },
  {
   "cell_type": "markdown",
   "metadata": {
    "urth": {
     "dashboard": {
      "layout": {
       "col": 4,
       "height": 4,
       "row": 21,
       "width": 4
      }
     }
    }
   },
   "source": [
    "## Keyword Frequencies"
   ]
  },
  {
   "cell_type": "code",
   "execution_count": 23,
   "metadata": {
    "collapsed": true,
    "urth": {
     "dashboard": {}
    }
   },
   "outputs": [],
   "source": [
    "import matplotlib\n",
    "import seaborn"
   ]
  },
  {
   "cell_type": "code",
   "execution_count": 24,
   "metadata": {
    "collapsed": true,
    "urth": {
     "dashboard": {}
    }
   },
   "outputs": [],
   "source": [
    "counts = {}"
   ]
  },
  {
   "cell_type": "code",
   "execution_count": 25,
   "metadata": {
    "collapsed": false,
    "urth": {
     "dashboard": {}
    }
   },
   "outputs": [],
   "source": [
    "for theme, keywords in themes.items():\n",
    "    for keyword in keywords:\n",
    "        hits = responses.map(lambda text: keywords_or(text, [keyword]))\n",
    "        counts[keyword] = hits.sum()"
   ]
  },
  {
   "cell_type": "code",
   "execution_count": 26,
   "metadata": {
    "collapsed": false,
    "urth": {
     "dashboard": {}
    }
   },
   "outputs": [],
   "source": [
    "hist = pd.Series(counts).sort_values()"
   ]
  },
  {
   "cell_type": "code",
   "execution_count": 27,
   "metadata": {
    "collapsed": false,
    "urth": {
     "dashboard": {
      "layout": {
       "col": 4,
       "height": 7,
       "row": 38,
       "width": 4
      }
     }
    }
   },
   "outputs": [
    {
     "data": {
      "image/png": "[encoded data removed]",
      "text/plain": [
       "<matplotlib.figure.Figure at 0x7f0917b56208>"
      ]
     },
     "metadata": {},
     "output_type": "display_data"
    }
   ],
   "source": [
    "ax = hist[-30:].plot.barh(figsize=(8, 8))\n",
    "_ = ax.set_xlabel('Mentions')"
   ]
  },
  {
   "cell_type": "markdown",
   "metadata": {
    "collapsed": true,
    "urth": {
     "dashboard": {}
    }
   },
   "source": [
    "## Persist\n",
    "\n",
    "I save off the themes and keywords to a DataFrame with the same index as the original so that the entries can be tagged."
   ]
  },
  {
   "cell_type": "code",
   "execution_count": 28,
   "metadata": {
    "collapsed": false
   },
   "outputs": [],
   "source": [
    "themes_df = tagged.themes.to_frame()"
   ]
  },
  {
   "cell_type": "code",
   "execution_count": 29,
   "metadata": {
    "collapsed": true
   },
   "outputs": [],
   "source": [
    "themes_df = themes_df.rename(columns={'themes' : column+'_themes'})"
   ]
  },
  {
   "cell_type": "code",
   "execution_count": 30,
   "metadata": {
    "collapsed": true
   },
   "outputs": [],
   "source": [
    "themes_df[column+'_keywords'] = ''"
   ]
  },
  {
   "cell_type": "code",
   "execution_count": 31,
   "metadata": {
    "collapsed": false
   },
   "outputs": [],
   "source": [
    "for theme, keywords in themes.items():\n",
    "    for keyword in keywords:\n",
    "        results = responses.map(lambda text: keywords_or(text, [keyword]))\n",
    "        if not results.sum(): continue\n",
    "        themes_df.loc[results, column+'_keywords'] += keyword + ','"
   ]
  },
  {
   "cell_type": "code",
   "execution_count": 32,
   "metadata": {
    "collapsed": true
   },
   "outputs": [],
   "source": [
    "themes_df[column+'_themes'] = themes_df[column+'_themes'].str.rstrip(',')\n",
    "themes_df[column+'_keywords'] = themes_df[column+'_keywords'].str.rstrip(',')"
   ]
  },
  {
   "cell_type": "markdown",
   "metadata": {},
   "source": [
    "Up above, I merged the three response fields for the question into one common pool which means we can have duplicate index value in the themes DataFrame. We need to squash these down and remove duplicates."
   ]
  },
  {
   "cell_type": "code",
   "execution_count": 33,
   "metadata": {
    "collapsed": false
   },
   "outputs": [],
   "source": [
    "def union(group_df):\n",
    "    '''Gets the set union of themes and keywords for a given DataFrame.'''\n",
    "    themes = group_df[column+'_themes'].str.cat(sep=',')\n",
    "    themes = list(set(themes.split(',')))\n",
    "    themes = ','.join(themes)\n",
    "    \n",
    "    keywords = group_df[column+'_keywords'].str.cat(sep=',')\n",
    "    keywords = list(set(keywords.split(',')))\n",
    "    keywords = ','.join(keywords)\n",
    "    return pd.Series([themes, keywords], index=[column+'_themes', column+'_keywords'])"
   ]
  },
  {
   "cell_type": "markdown",
   "metadata": {},
   "source": [
    "We group by the index and union the themes and keywords."
   ]
  },
  {
   "cell_type": "code",
   "execution_count": 34,
   "metadata": {
    "collapsed": false
   },
   "outputs": [],
   "source": [
    "themes_df = themes_df.groupby(themes_df.index).apply(union)"
   ]
  },
  {
   "cell_type": "code",
   "execution_count": 35,
   "metadata": {
    "collapsed": false
   },
   "outputs": [
    {
     "data": {
      "text/html": [
       "<div>\n",
       "<table border=\"1\" class=\"dataframe\">\n",
       "  <thead>\n",
       "    <tr style=\"text-align: right;\">\n",
       "      <th></th>\n",
       "      <th>integrations_themes</th>\n",
       "      <th>integrations_keywords</th>\n",
       "    </tr>\n",
       "  </thead>\n",
       "  <tbody>\n",
       "    <tr>\n",
       "      <th>1</th>\n",
       "      <td>version,feature,app_lib_service,language</td>\n",
       "      <td>bokeh,sql,interactiv(e|ity),plot(ting),git(\\W|$),js</td>\n",
       "    </tr>\n",
       "    <tr>\n",
       "      <th>3</th>\n",
       "      <td>platform,version,feature</td>\n",
       "      <td>version(ing)?\\Wcontrol,git(\\W|$),dashboard,docker</td>\n",
       "    </tr>\n",
       "    <tr>\n",
       "      <th>6</th>\n",
       "      <td>feature,app_lib_service</td>\n",
       "      <td>sphinx,slides,binder,slide</td>\n",
       "    </tr>\n",
       "    <tr>\n",
       "      <th>7</th>\n",
       "      <td>feature,app_lib_service</td>\n",
       "      <td>blog,pelican,phantomx,sphinx,ipython,shiny,dashboard</td>\n",
       "    </tr>\n",
       "    <tr>\n",
       "      <th>9</th>\n",
       "      <td>platform,feature</td>\n",
       "      <td>visuali(s|z)ation,api(\\W|$),interactiv(e|ity),orchestrat,docker</td>\n",
       "    </tr>\n",
       "  </tbody>\n",
       "</table>\n",
       "</div>"
      ],
      "text/plain": [
       "                        integrations_themes  \\\n",
       "1  version,feature,app_lib_service,language   \n",
       "3                  platform,version,feature   \n",
       "6                   feature,app_lib_service   \n",
       "7                   feature,app_lib_service   \n",
       "9                          platform,feature   \n",
       "\n",
       "                                             integrations_keywords  \n",
       "1              bokeh,sql,interactiv(e|ity),plot(ting),git(\\W|$),js  \n",
       "3                version(ing)?\\Wcontrol,git(\\W|$),dashboard,docker  \n",
       "6                                       sphinx,slides,binder,slide  \n",
       "7             blog,pelican,phantomx,sphinx,ipython,shiny,dashboard  \n",
       "9  visuali(s|z)ation,api(\\W|$),interactiv(e|ity),orchestrat,docker  "
      ]
     },
     "execution_count": 35,
     "metadata": {},
     "output_type": "execute_result"
    }
   ],
   "source": [
    "themes_df.head(5)"
   ]
  },
  {
   "cell_type": "markdown",
   "metadata": {},
   "source": [
    "The themes DataFrame should have as many rows as there are non-null responses in the original DataFrame."
   ]
  },
  {
   "cell_type": "code",
   "execution_count": 36,
   "metadata": {
    "collapsed": false
   },
   "outputs": [],
   "source": [
    "assert len(themes_df) == len(df[[column+'_1', column+'_2', column+'_3']].dropna(how='all'))"
   ]
  },
  {
   "cell_type": "code",
   "execution_count": 37,
   "metadata": {
    "collapsed": true
   },
   "outputs": [],
   "source": [
    "themes_df.to_csv(column + '_themes.csv', sep=';')"
   ]
  }
 ],
 "metadata": {
  "kernelspec": {
   "display_name": "Python 3",
   "language": "python",
   "name": "python3"
  },
  "language_info": {
   "codemirror_mode": {
    "name": "ipython",
    "version": 3
   },
   "file_extension": ".py",
   "mimetype": "text/x-python",
   "name": "python",
   "nbconvert_exporter": "python",
   "pygments_lexer": "ipython3",
   "version": "3.4.4"
  },
  "urth": {
   "dashboard": {
    "cellMargin": 10,
    "defaultCellHeight": 20,
    "layoutStrategy": "packed",
    "maxColumns": 12
   }
  }
 },
 "nbformat": 4,
 "nbformat_minor": 0
}
