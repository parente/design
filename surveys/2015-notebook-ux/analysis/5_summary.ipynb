{
 "cells": [
  {
   "cell_type": "markdown",
   "metadata": {
    "urth": {
     "dashboard": {
      "layout": {
       "col": 0,
       "height": 2,
       "row": 0,
       "width": 12
      }
     }
    }
   },
   "source": [
    "# Jupyter Notebok 2015 UX Survey - Summary"
   ]
  },
  {
   "cell_type": "markdown",
   "metadata": {
    "urth": {
     "dashboard": {
      "layout": {
       "col": 0,
       "height": 20,
       "row": 2,
       "width": 12
      }
     }
    }
   },
   "source": [
    "## Key Findings\n",
    "\n",
    "The following are the key takeaways from our analysis of the survey response data. The remainder of this notebook gives evidence for these points.\n",
    "\n",
    "**Experienced Users**\n",
    "\n",
    "People who use Jupyter frequently (daily/weekly), who have been using it for more than a year, and who have been in their job role for 2+ years are most heavily represented in the survey data. The majority of respondants self-identify as data scientists, students, scientists, and researchers.\n",
    "\n",
    "**Like the Notebook Concept**\n",
    "\n",
    "Unsurprisingly, respondents state that they like the ability to quickly analyze, visualize, explore, and describe data in rich notebook documents that they can share. As such, the interactive computing paradigm should remain central to the user experience and continue to improve over time.\n",
    "\n",
    "**Need More than Notebooks**\n",
    "\n",
    "Respondents find that the Jupyter Notebook lacks features they require to complete their data analytics workflow. To address these gaps, the respondents request a wide variety of features and integrations. The most common requests are the following:\n",
    "\n",
    "* Version control (via git in particular)\n",
    "* Robust text and code editing (like in Emacs, Vim, Sublime, PyCharm)\n",
    "* Advanced code development tools (debugging, profiling, variable watching, code modularization)\n",
    "* Simpler export and deployment options (one-click transformations to slides, scripts, reports) \n",
    "\n",
    "The project roadmap should incorporate these suggestions to ensure that Jupyter continues to address the needs of end users.\n",
    "\n",
    "**Need More Help**\n",
    "\n",
    "Respondents state that installation of Jupyter Notebook should be easier to perform and understand, both for single users and groups of users. Respondents commonly cite documentation, tutorials, and help as ways to improve the situtation."
   ]
  },
  {
   "cell_type": "markdown",
   "metadata": {
    "urth": {
     "dashboard": {
      "hidden": true
     }
    }
   },
   "source": [
    "## About the Survey\n",
    "\n",
    "In late 2015, members of the Jupyter Community conducted a 16-question survey about the Jupyter Notebook user experience. The survey ran on [SurveyGizmo](https://www.surveygizmo.com/) from December 21, 2015 until January 15, 2016. Posts on the [Project Jupyter Google Group](https://groups.google.com/forum/#!topic/jupyter/XCzJ02Rzj0Y), on the [Jupyter blog](http://blog.jupyter.org/2015/12/22/jupyter-notebook-user-experience-survey/), and from the [@ProjectJupyter Twitter account](https://twitter.com/ProjectJupyter/status/684096608166776832) were used to share the survey link and solicit responses. At the conclusion of the survey, the raw response data were [posted to GitHub](https://github.com/jupyter/design/tree/master/surveys/2015-notebook-ux) along with a description of the data format."
   ]
  },
  {
   "cell_type": "markdown",
   "metadata": {
    "urth": {
     "dashboard": {
      "hidden": true
     }
    }
   },
   "source": [
    "## About our Analysis\n",
    "\n",
    "Starting with the raw response data, we ([@parente]() and @[jtyberg](), members of the IBM Emerging Technology Group):\n",
    "\n",
    "1. Toyed with ways to [extract the salient points from the free text responses](1_ux_survey_review.ipynb)\n",
    "2. Made the data [more pandas-friendly](2_clean_survey.ipynb)\n",
    "3. Tried a few different approaches to [identifying keyword patterns and aggregating them into themes](3a_hinderance_themes.ipynb)\n",
    "4. Repeated our keyword pattern search and more subjective annotator theme grouping approach across all remaining free-text questions (e.g., [integration](3b_integration_themes.ipynb), [needs addressed](3c_needs_addressed_themes.ipynb), [needs not addressed](3d_needs_not_addressed_themes.ipynb), etc.)\n",
    "5. Summarized our findings in this notebook.\n",
    "\n",
    "TODO: more about #4"
   ]
  },
  {
   "cell_type": "markdown",
   "metadata": {},
   "source": [
    "## About this Notebook\n",
    "\n",
    "In this notebook, we lend evidence to the claims made in the executive summary at the top of this notebook. We include written observations, plots, and interactive widgets for exploring the results.\n",
    "\n",
    "You may:\n",
    "\n",
    "1. View this notebook as a static webpage on [NBViewer]() or [GitHub](). (No interactivity, one plot per section).\n",
    "2. Interact with the widgets in this notebook in a dashboard or notebook view in your own [Binder]() instance.\n",
    "4. Clone the [jupyter/design](https://github.com/jupyter/design) repository from GitHub and put the notebooks / data on a Jupyter server of your choosing."
   ]
  },
  {
   "cell_type": "markdown",
   "metadata": {
    "urth": {
     "dashboard": {
      "hidden": true
     }
    }
   },
   "source": [
    "<div class=\"alert alert-info\"><b>Keep in mind</b> that respondants did not necessarily answer every survey question. We considered the available responses to a question, regardless of whether the user answered other questions not. As a result, you will see the total responses vary across the plots below, especially if you are interacting with the plots as widgets and choosing to group responses.</div>"
   ]
  },
  {
   "cell_type": "markdown",
   "metadata": {
    "urth": {
     "dashboard": {
      "hidden": true
     }
    }
   },
   "source": [
    "### Notebook Setup\n",
    "\n",
    "If you want to run this notebook yourself in your own environment, ensure you have all of the  the following:\n",
    "\n",
    "```\n",
    "numpy==1.10.4\n",
    "matplotlib==1.5.1\n",
    "pandas==0.17.0\n",
    "seaborn==0.7.0\n",
    "ipywidgets==4.1.1\n",
    "jupyter_cms==0.4.0\n",
    "```"
   ]
  },
  {
   "cell_type": "code",
   "execution_count": null,
   "metadata": {
    "collapsed": true,
    "urth": {
     "dashboard": {
      "hidden": true
     }
    }
   },
   "outputs": [],
   "source": [
    "import warnings\n",
    "warnings.simplefilter('ignore')"
   ]
  },
  {
   "cell_type": "code",
   "execution_count": null,
   "metadata": {
    "collapsed": true,
    "urth": {
     "dashboard": {
      "hidden": true
     }
    }
   },
   "outputs": [],
   "source": [
    "%matplotlib inline"
   ]
  },
  {
   "cell_type": "code",
   "execution_count": null,
   "metadata": {
    "collapsed": false,
    "urth": {
     "dashboard": {
      "hidden": true
     }
    }
   },
   "outputs": [],
   "source": [
    "import os\n",
    "import glob\n",
    "import pandas as pd\n",
    "import seaborn as sns"
   ]
  },
  {
   "cell_type": "code",
   "execution_count": null,
   "metadata": {
    "collapsed": false,
    "urth": {
     "dashboard": {
      "hidden": true
     }
    }
   },
   "outputs": [],
   "source": [
    "%load_ext jupyter_cms"
   ]
  },
  {
   "cell_type": "code",
   "execution_count": null,
   "metadata": {
    "collapsed": true,
    "urth": {
     "dashboard": {
      "hidden": true
     }
    }
   },
   "outputs": [],
   "source": [
    "utils = load_notebook('./5_utils.ipynb')"
   ]
  },
  {
   "cell_type": "code",
   "execution_count": null,
   "metadata": {
    "collapsed": false,
    "urth": {
     "dashboard": {
      "hidden": true
     }
    }
   },
   "outputs": [],
   "source": [
    "sns.set_palette('deep', n_colors=16)\n",
    "sns.set(rc={\"figure.figsize\": (14,6)})"
   ]
  },
  {
   "cell_type": "markdown",
   "metadata": {
    "urth": {
     "dashboard": {
      "hidden": true
     }
    }
   },
   "source": [
    "Read the responses with shortened column names."
   ]
  },
  {
   "cell_type": "code",
   "execution_count": null,
   "metadata": {
    "collapsed": true,
    "urth": {
     "dashboard": {
      "hidden": true
     }
    }
   },
   "outputs": [],
   "source": [
    "df = pd.read_csv('survey_short_columns.csv', index_col=0)"
   ]
  },
  {
   "cell_type": "markdown",
   "metadata": {
    "urth": {
     "dashboard": {
      "hidden": true
     }
    }
   },
   "source": [
    "Merge in the themes and keywords for the free-text questions."
   ]
  },
  {
   "cell_type": "code",
   "execution_count": null,
   "metadata": {
    "collapsed": false,
    "urth": {
     "dashboard": {
      "hidden": true
     }
    }
   },
   "outputs": [],
   "source": [
    "files = glob.glob('./*_themes.csv')\n",
    "files.append('./roles.csv')\n",
    "for fn in files:\n",
    "    theme_df = pd.read_csv(fn, sep=';', index_col=0)\n",
    "    df = df.merge(theme_df, left_index=True, right_index=True, how='left')"
   ]
  },
  {
   "cell_type": "markdown",
   "metadata": {
    "urth": {
     "dashboard": {
      "layout": {
       "col": 0,
       "height": 4,
       "row": 22,
       "width": 12
      }
     }
    }
   },
   "source": [
    "## About the Survey Respondents\n",
    "\n",
    "We start with information about the respondants themselves. Most of the questions in this section have a fixed set of possible responses. Only one allows for free text responses."
   ]
  },
  {
   "cell_type": "markdown",
   "metadata": {
    "urth": {
     "dashboard": {
      "layout": {
       "col": 0,
       "height": 4,
       "row": 26,
       "width": 12
      }
     }
    }
   },
   "source": [
    "#### Q1: How often do you use Jupyter Notebook?"
   ]
  },
  {
   "cell_type": "markdown",
   "metadata": {
    "urth": {
     "dashboard": {
      "layout": {
       "col": 0,
       "height": 4,
       "row": 30,
       "width": 12
      }
     }
    }
   },
   "source": [
    "The majority of respondants use the notebook on a daily and weekly basis."
   ]
  },
  {
   "cell_type": "code",
   "execution_count": null,
   "metadata": {
    "collapsed": false,
    "urth": {
     "dashboard": {
      "layout": {
       "col": 0,
       "height": 14,
       "row": 34,
       "width": 12
      }
     }
    }
   },
   "outputs": [],
   "source": [
    "how_often_counts = df.how_often.value_counts().reindex(utils.group_orders['how_often'])\n",
    "ax = sns.barplot(how_often_counts.index, how_often_counts.values)\n",
    "ax.set_ylabel('Respondants')\n",
    "_ = ax.set_xlabel('Notebook Usage')"
   ]
  },
  {
   "cell_type": "markdown",
   "metadata": {
    "urth": {
     "dashboard": {
      "layout": {
       "col": 0,
       "height": 4,
       "row": 48,
       "width": 12
      }
     }
    }
   },
   "source": [
    "#### Q3: Roughly how long have you been using Jupyter Notebook?"
   ]
  },
  {
   "cell_type": "markdown",
   "metadata": {
    "urth": {
     "dashboard": {
      "layout": {
       "col": 0,
       "height": 4,
       "row": 52,
       "width": 12
      }
     }
    }
   },
   "source": [
    "The majority of respondents have been users Jupyter for longer than a year."
   ]
  },
  {
   "cell_type": "code",
   "execution_count": null,
   "metadata": {
    "collapsed": false,
    "urth": {
     "dashboard": {
      "layout": {
       "col": 0,
       "height": 14,
       "row": 56,
       "width": 12
      }
     }
    }
   },
   "outputs": [],
   "source": [
    "how_long_counts = df.how_long_used.value_counts().reindex(utils.group_orders['how_long_used'])\n",
    "ax = sns.barplot(how_long_counts.index, how_long_counts.values)\n",
    "ax.set_ylabel('Respondants')\n",
    "_ = ax.set_xlabel('Notebook Experience')"
   ]
  },
  {
   "cell_type": "markdown",
   "metadata": {},
   "source": [
    "The distribution of frequency of use is skewed toward daily/weekly in both the more and less experienced user groups."
   ]
  },
  {
   "cell_type": "code",
   "execution_count": null,
   "metadata": {
    "collapsed": false
   },
   "outputs": [],
   "source": [
    "long_x_often = pd.crosstab(df.how_long_used, df.how_often)\n",
    "long_x_often = long_x_often.reindex(utils.group_orders['how_long_used'], utils.group_orders['how_often'])\n",
    "long_x_often.columns.name = 'Notebook Usage'\n",
    "ax = long_x_often.plot(kind='bar')\n",
    "ax.set_ylabel('Respondents')\n",
    "ax.set_xlabel('Notebook Experience')\n",
    "_ = ax.set_xticklabels(ax.get_xmajorticklabels(), rotation=25, ha='right')"
   ]
  },
  {
   "cell_type": "markdown",
   "metadata": {
    "urth": {
     "dashboard": {
      "layout": {
       "col": 0,
       "height": 4,
       "row": 70,
       "width": 12
      }
     }
    }
   },
   "source": [
    "#### Q13: What is your primary role when using Jupyter Notebook (e.g., student, astrophysicist, financial modeler, business manager, etc.)?"
   ]
  },
  {
   "cell_type": "markdown",
   "metadata": {
    "urth": {
     "dashboard": {
      "layout": {
       "col": 0,
       "height": 4,
       "row": 74,
       "width": 12
      }
     }
    }
   },
   "source": [
    "Most respondents name a single job role (e.g., data scientist). Some state more than one (e.g., student, practicing statistician). Data scientist, student, scientist, researcher, and developer are the most common."
   ]
  },
  {
   "cell_type": "code",
   "execution_count": null,
   "metadata": {
    "collapsed": false,
    "urth": {
     "dashboard": {
      "layout": {
       "col": 0,
       "height": 19,
       "row": 78,
       "width": 12
      }
     }
    }
   },
   "outputs": [],
   "source": [
    "utils.explore(df, [df.roles_roles, df.roles_keywords], utils.default_labels[::-1])"
   ]
  },
  {
   "cell_type": "markdown",
   "metadata": {
    "urth": {
     "dashboard": {
      "layout": {
       "col": 0,
       "height": 4,
       "row": 97,
       "width": 12
      }
     }
    }
   },
   "source": [
    "#### Q14: How many years have you been in this role?"
   ]
  },
  {
   "cell_type": "markdown",
   "metadata": {
    "urth": {
     "dashboard": {
      "layout": {
       "col": 0,
       "height": 4,
       "row": 101,
       "width": 12
      }
     }
    }
   },
   "source": [
    "Most respondents have 2+ years of experience in their job role."
   ]
  },
  {
   "cell_type": "code",
   "execution_count": null,
   "metadata": {
    "collapsed": false,
    "urth": {
     "dashboard": {
      "layout": {
       "col": 0,
       "height": 14,
       "row": 105,
       "width": 12
      }
     }
    }
   },
   "outputs": [],
   "source": [
    "counts = df.years_in_role.value_counts()\n",
    "counts = counts.reindex(utils.group_orders['years_in_role'])\n",
    "ax = sns.barplot(counts.index, counts.values)\n",
    "ax.set_ylabel('Respondents')\n",
    "_ = ax.set_xlabel('Years in Job Role')"
   ]
  },
  {
   "cell_type": "markdown",
   "metadata": {
    "urth": {
     "dashboard": {
      "layout": {
       "col": 0,
       "height": 4,
       "row": 119,
       "width": 12
      }
     }
    }
   },
   "source": [
    "#### Q5: How do you run the Jupyter Notebook?"
   ]
  },
  {
   "cell_type": "markdown",
   "metadata": {
    "urth": {
     "dashboard": {
      "layout": {
       "col": 0,
       "height": 4,
       "row": 123,
       "width": 12
      }
     }
    }
   },
   "source": [
    "The vast majority of respondants run Jupyter as a standalone application."
   ]
  },
  {
   "cell_type": "code",
   "execution_count": null,
   "metadata": {
    "collapsed": false,
    "urth": {
     "dashboard": {
      "layout": {
       "col": 0,
       "height": 14,
       "row": 127,
       "width": 12
      }
     }
    }
   },
   "outputs": [],
   "source": [
    "counts = df.how_run.value_counts()\n",
    "counts = counts.reindex(utils.group_orders['how_run'])\n",
    "ax = sns.barplot(counts.index, counts.values)\n",
    "ax.set_ylabel('Respondents')\n",
    "_ = ax.set_xlabel('Notebook Environment')"
   ]
  },
  {
   "cell_type": "markdown",
   "metadata": {
    "urth": {
     "dashboard": {
      "layout": {
       "col": 0,
       "height": 4,
       "row": 141,
       "width": 12
      }
     }
    }
   },
   "source": [
    "Write-in responses vary widely. Many are more specific version of \"as a standalone application.\""
   ]
  },
  {
   "cell_type": "code",
   "execution_count": null,
   "metadata": {
    "collapsed": false,
    "scrolled": false,
    "urth": {
     "dashboard": {
      "layout": {
       "col": 0,
       "height": 10,
       "row": 145,
       "width": 12
      }
     }
    }
   },
   "outputs": [],
   "source": [
    "df.how_run_other.dropna().sample(20)"
   ]
  },
  {
   "cell_type": "markdown",
   "metadata": {
    "urth": {
     "dashboard": {
      "layout": {
       "col": 0,
       "height": 4,
       "row": 155,
       "width": 12
      }
     }
    }
   },
   "source": [
    "#### Q16: How many people typically see and/or interact with the results of your work in Jupyter Notebook? (Consider people who view your notebooks on nbviewer, colleagues who rerun your notebooks, developers who star your notebook repos on GitHub, audiences who see your notebooks as slideshows, etc.)"
   ]
  },
  {
   "cell_type": "markdown",
   "metadata": {
    "urth": {
     "dashboard": {
      "layout": {
       "col": 0,
       "height": 4,
       "row": 159,
       "width": 12
      }
     }
    }
   },
   "source": [
    "Most of the respondents create notebooks for tens or hundreds of users. Few write for thousands of users or more."
   ]
  },
  {
   "cell_type": "code",
   "execution_count": null,
   "metadata": {
    "collapsed": false,
    "urth": {
     "dashboard": {
      "layout": {
       "col": 0,
       "height": 14,
       "row": 163,
       "width": 12
      }
     }
    }
   },
   "outputs": [],
   "source": [
    "counts = df.audience_size.value_counts()\n",
    "counts = counts.reindex(utils.group_orders['audience_size'])\n",
    "ax = sns.barplot(counts.index, counts.values)\n",
    "ax.set_ylabel('Respondants')\n",
    "_ = ax.set_xlabel('Typical Notebook Audience')"
   ]
  },
  {
   "cell_type": "markdown",
   "metadata": {
    "urth": {
     "dashboard": {
      "layout": {
       "col": 0,
       "height": 4,
       "row": 177,
       "width": 12
      }
     }
    }
   },
   "source": [
    "## What the Respondents Said\n",
    "\n",
    "Now we look at responses to questions about the notebook. All of the questions in this section have free-text responses.\n",
    "\n",
    "TODO: reminder about themes, keywords by linking to methodology"
   ]
  },
  {
   "cell_type": "markdown",
   "metadata": {
    "urth": {
     "dashboard": {
      "layout": {
       "col": 0,
       "height": 4,
       "row": 181,
       "width": 12
      }
     }
    }
   },
   "source": [
    "#### Q6: What needs in your workflow does Jupyter Notebook address?"
   ]
  },
  {
   "cell_type": "markdown",
   "metadata": {
    "urth": {
     "dashboard": {
      "layout": {
       "col": 0,
       "height": 4,
       "row": 185,
       "width": 12
      }
     }
    }
   },
   "source": [
    "Respondents frequently indicate that Jupyter Notebook addresses their need to analyze, explore, visualize, interact with, and document data quickly and easily."
   ]
  },
  {
   "cell_type": "code",
   "execution_count": null,
   "metadata": {
    "collapsed": false,
    "urth": {
     "dashboard": {
      "layout": {
       "col": 0,
       "height": 19,
       "row": 189,
       "width": 12
      }
     }
    }
   },
   "outputs": [],
   "source": [
    "utils.explore(df, [df.workflow_needs_addressed_keywords], \n",
    "              labels=['Keyword patterns'])"
   ]
  },
  {
   "cell_type": "markdown",
   "metadata": {
    "urth": {
     "dashboard": {
      "layout": {
       "col": 0,
       "height": 4,
       "row": 208,
       "width": 12
      }
     }
    }
   },
   "source": [
    "#### Q8: What aspects of Jupyter Notebook make it pleasant to use in your workflow?"
   ]
  },
  {
   "cell_type": "markdown",
   "metadata": {
    "urth": {
     "dashboard": {
      "layout": {
       "col": 0,
       "height": 4,
       "row": 212,
       "width": 12
      }
     }
    }
   },
   "source": [
    "Ease of use, the tight interactive workflow, and the ability to combine inline markup with rich media top the list of pleasant aspects noted by respondents."
   ]
  },
  {
   "cell_type": "code",
   "execution_count": null,
   "metadata": {
    "collapsed": false,
    "urth": {
     "dashboard": {
      "layout": {
       "col": 0,
       "height": 19,
       "row": 216,
       "width": 12
      }
     }
    }
   },
   "outputs": [],
   "source": [
    "utils.explore(df, [df.pleasant_aspects_keywords, df.pleasant_aspects_themes])"
   ]
  },
  {
   "cell_type": "markdown",
   "metadata": {
    "urth": {
     "dashboard": {
      "layout": {
       "col": 0,
       "height": 4,
       "row": 235,
       "width": 12
      }
     }
    }
   },
   "source": [
    "#### Q2: What, if anything, hinders you from making Jupyter Notebook an even more regular part of your workflow?"
   ]
  },
  {
   "cell_type": "markdown",
   "metadata": {
    "urth": {
     "dashboard": {
      "layout": {
       "col": 0,
       "height": 4,
       "row": 239,
       "width": 12
      }
     }
    }
   },
   "source": [
    "Respondants cite the need for better development tools as the main blocker more regular use of the notebook. More robust text editing capability, version control, cleaner integration with languages and tools, and better documentation all top the list."
   ]
  },
  {
   "cell_type": "code",
   "execution_count": null,
   "metadata": {
    "collapsed": false,
    "urth": {
     "dashboard": {
      "layout": {
       "col": 0,
       "height": 18,
       "row": 243,
       "width": 12
      }
     }
    }
   },
   "outputs": [],
   "source": [
    "utils.explore(df, [df.hinderances_keywords, df.hinderances_themes])"
   ]
  },
  {
   "cell_type": "markdown",
   "metadata": {
    "urth": {
     "dashboard": {
      "layout": {
       "col": 0,
       "height": 4,
       "row": 261,
       "width": 12
      }
     }
    }
   },
   "source": [
    "#### Q7: What needs in your workflow does Jupyter Notebook not address?"
   ]
  },
  {
   "cell_type": "markdown",
   "metadata": {
    "urth": {
     "dashboard": {
      "layout": {
       "col": 0,
       "height": 4,
       "row": 265,
       "width": 12
      }
     }
    }
   },
   "source": [
    "As expected, nearly the same themes and keywords that top the hinderances list also top the list of workflow needs not addressed by the Jupyter Notebook today."
   ]
  },
  {
   "cell_type": "code",
   "execution_count": null,
   "metadata": {
    "collapsed": false,
    "urth": {
     "dashboard": {
      "layout": {
       "col": 0,
       "height": 19,
       "row": 269,
       "width": 12
      }
     }
    }
   },
   "outputs": [],
   "source": [
    "utils.explore(df, [df.workflow_needs_not_addressed_keywords, df.workflow_needs_not_addressed_themes])"
   ]
  },
  {
   "cell_type": "markdown",
   "metadata": {
    "urth": {
     "dashboard": {
      "layout": {
       "col": 0,
       "height": 4,
       "row": 288,
       "width": 12
      }
     }
    }
   },
   "source": [
    "#### Q9: What aspects of Jupyter Notebook make it difficult to use in your workflow?"
   ]
  },
  {
   "cell_type": "markdown",
   "metadata": {
    "urth": {
     "dashboard": {
      "layout": {
       "col": 0,
       "height": 4,
       "row": 292,
       "width": 12
      }
     }
    }
   },
   "source": [
    "Respondents most often report difficulty with code editing, installing the application, working in the browser, version controlling notebooks, and working without the support of a full IDE."
   ]
  },
  {
   "cell_type": "code",
   "execution_count": null,
   "metadata": {
    "collapsed": false,
    "urth": {
     "dashboard": {
      "layout": {
       "col": 0,
       "height": 19,
       "row": 296,
       "width": 12
      }
     }
    }
   },
   "outputs": [],
   "source": [
    "utils.explore(df, [df.difficult_aspects_keywords, df.difficult_aspects_themes])"
   ]
  },
  {
   "cell_type": "markdown",
   "metadata": {
    "urth": {
     "dashboard": {
      "layout": {
       "col": 0,
       "height": 4,
       "row": 315,
       "width": 12
      }
     }
    }
   },
   "source": [
    "#### Q4: What tools and applications, if any, would you like to see more tightly integrated with Jupyter Notebook?"
   ]
  },
  {
   "cell_type": "markdown",
   "metadata": {
    "urth": {
     "dashboard": {
      "layout": {
       "col": 0,
       "height": 4,
       "row": 319,
       "width": 12
      }
     }
    }
   },
   "source": [
    "Git is by far and away the most oft requested integration. Specific tools like vim, d3, matplotlib, R and Spark as well as general concepts like interactivity, debugging, better editors, and version control are also mentioned frequently."
   ]
  },
  {
   "cell_type": "code",
   "execution_count": null,
   "metadata": {
    "collapsed": false,
    "urth": {
     "dashboard": {
      "layout": {
       "col": 0,
       "height": 19,
       "row": 323,
       "width": 12
      }
     }
    }
   },
   "outputs": [],
   "source": [
    "utils.explore(df, [df.integrations_keywords, df.integrations_themes])"
   ]
  },
  {
   "cell_type": "markdown",
   "metadata": {
    "urth": {
     "dashboard": {
      "layout": {
       "col": 0,
       "height": 4,
       "row": 342,
       "width": 12
      }
     }
    }
   },
   "source": [
    "#### Q10: What new features or changes would you like to see in Jupyter Notebook? (Please list anything that comes to mind that helps you in your workflow, big or small.)"
   ]
  },
  {
   "cell_type": "code",
   "execution_count": null,
   "metadata": {
    "collapsed": false
   },
   "outputs": [],
   "source": [
    "tmp = df.dropna(subset=['features_changes_keywords'])"
   ]
  },
  {
   "cell_type": "code",
   "execution_count": null,
   "metadata": {
    "collapsed": false,
    "scrolled": false
   },
   "outputs": [],
   "source": [
    "tmp[tmp.features_changes_keywords.str.contains('sidebar')][['features_changes_1', 'features_changes_2', 'features_changes_3']]"
   ]
  },
  {
   "cell_type": "markdown",
   "metadata": {},
   "source": [
    "Version control with Git also tops the list of requested features and changes. Adding a workspace/IDE to the user experience, supporting custom styles (both visual and functional, ala keymaps), embedding ancillary tools (e.g., filebrowser sidebar), and behaving more like major text editors (e.g., Vim, Atom, Sublime) are also common requests."
   ]
  },
  {
   "cell_type": "code",
   "execution_count": null,
   "metadata": {
    "collapsed": false,
    "urth": {
     "dashboard": {
      "layout": {
       "col": 0,
       "height": 19,
       "row": 350,
       "width": 12
      }
     }
    }
   },
   "outputs": [],
   "source": [
    "utils.explore(df, [df.features_changes_keywords, df.features_changes_themes])"
   ]
  },
  {
   "cell_type": "markdown",
   "metadata": {
    "urth": {
     "dashboard": {
      "layout": {
       "col": 0,
       "height": 4,
       "row": 369,
       "width": 12
      }
     }
    }
   },
   "source": [
    "#### Q11: Thinking back to when you first started using Jupyter Notebook, what enhancements would have made your initial experience better?"
   ]
  },
  {
   "cell_type": "markdown",
   "metadata": {
    "urth": {
     "dashboard": {
      "layout": {
       "col": 0,
       "height": 4,
       "row": 373,
       "width": 12
      }
     }
    }
   },
   "source": [
    "Respondents most frequently name installation improvements, better documentation, a better keyboard map, and tutorials as enhancements that would have improved their first experience."
   ]
  },
  {
   "cell_type": "code",
   "execution_count": null,
   "metadata": {
    "collapsed": false,
    "urth": {
     "dashboard": {
      "layout": {
       "col": 0,
       "height": 19,
       "row": 377,
       "width": 12
      }
     }
    }
   },
   "outputs": [],
   "source": [
    "utils.explore(df, [df.first_experience_enhancements_keywords, df.first_experience_enhancements_themes])"
   ]
  },
  {
   "cell_type": "markdown",
   "metadata": {
    "urth": {
     "dashboard": {
      "layout": {
       "col": 0,
       "height": 4,
       "row": 396,
       "width": 12
      }
     }
    }
   },
   "source": [
    "#### Q12: Select all the words that best describe Jupyter Notebook."
   ]
  },
  {
   "cell_type": "markdown",
   "metadata": {
    "urth": {
     "dashboard": {
      "layout": {
       "col": 0,
       "height": 4,
       "row": 400,
       "width": 12
      }
     }
    }
   },
   "source": [
    "Respondents select positive words to describe Jupyter Notebook far more often than negative words. The convenience of the notebook stands out."
   ]
  },
  {
   "cell_type": "code",
   "execution_count": null,
   "metadata": {
    "collapsed": false,
    "urth": {
     "dashboard": {
      "layout": {
       "col": 0,
       "height": 17,
       "row": 404,
       "width": 12
      }
     }
    }
   },
   "outputs": [],
   "source": [
    "utils.explore(df, [df.keywords.str.replace(';',',')], ['Fixed keywords'])"
   ]
  },
  {
   "cell_type": "markdown",
   "metadata": {
    "urth": {
     "dashboard": {
      "layout": {
       "col": 0,
       "height": 10,
       "row": 421,
       "width": 6
      }
     }
    }
   },
   "source": [
    "*Powerful* tops the list of write-in responses. The long-tail varys quite a bit, with both positive and negative sentiments expressed."
   ]
  },
  {
   "cell_type": "code",
   "execution_count": null,
   "metadata": {
    "collapsed": false,
    "urth": {
     "dashboard": {
      "layout": {
       "col": 6,
       "height": 10,
       "row": 421,
       "width": 6
      }
     }
    }
   },
   "outputs": [],
   "source": [
    "df.keywords_other.str.lower().value_counts().head(15)"
   ]
  },
  {
   "cell_type": "markdown",
   "metadata": {
    "urth": {
     "dashboard": {
      "layout": {
       "col": 0,
       "height": 4,
       "row": 431,
       "width": 12
      }
     }
    }
   },
   "source": [
    "## Next Steps\n",
    "\n",
    "TODO: more specific questionnaires about workflow and features"
   ]
  },
  {
   "cell_type": "markdown",
   "metadata": {
    "urth": {
     "dashboard": {
      "layout": {
       "col": 0,
       "height": 7,
       "row": 435,
       "width": 12
      }
     }
    }
   },
   "source": [
    "## Footnotes\n",
    "\n",
    "1. pandas 0.17.1 has a bug that causes it to ignore styles when making bar charts. I installed the latest pandas master branch to get around using eye-bleed-blue everywhere.\n",
    "\n",
    "    ```\n",
    "    conda install -y cython\n",
    "    pip install git+https://github.com/pydata/pandas.git\n",
    "    ```"
   ]
  }
 ],
 "metadata": {
  "kernelspec": {
   "display_name": "Python 3",
   "language": "python",
   "name": "python3"
  },
  "language_info": {
   "codemirror_mode": {
    "name": "ipython",
    "version": 3
   },
   "file_extension": ".py",
   "mimetype": "text/x-python",
   "name": "python",
   "nbconvert_exporter": "python",
   "pygments_lexer": "ipython3",
   "version": "3.4.4"
  },
  "urth": {
   "dashboard": {
    "cellMargin": 10,
    "defaultCellHeight": 20,
    "layoutStrategy": "stacked",
    "maxColumns": 12
   }
  }
 },
 "nbformat": 4,
 "nbformat_minor": 0
}
