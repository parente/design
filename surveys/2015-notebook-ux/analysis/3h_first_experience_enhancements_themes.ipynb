{
 "cells": [
  {
   "cell_type": "markdown",
   "metadata": {},
   "source": [
    "# Response Themes for \"Thinking back to when you first started using Jupyter Notebook, what enhancements would have made your initial experience better?\"\n",
    "\n",
    "* Goal: Extract theme keywords from `first_experience_enhancements` responses.\n",
    "* Data: Output from 2_clean_survey.ipynb notebook (`survey_short_columns.csv`)\n",
    "* Process from [1_ux_survey_review.ipynb](1_ux_survey_review.ipynb):\n",
    "\n",
    "> Moving forward, here's a semi-automatic procedure we can follow for identifying themes across questions:\n",
    "> 1. Take a random sample of question responses\n",
    "> 2. Write down common theme keywords\n",
    "> 3. Search back through the responses using the theme keywords\n",
    "> 4. Expand the set of keywords with other words seen in the search results\n",
    "> 5. Repeat for all themes and questions\n",
    "> Later, we can use a fully automated topic modeling approach to validate our manually generated themes."
   ]
  },
  {
   "cell_type": "code",
   "execution_count": 56,
   "metadata": {
    "collapsed": true
   },
   "outputs": [],
   "source": [
    "import warnings\n",
    "warnings.filterwarnings(\"ignore\")"
   ]
  },
  {
   "cell_type": "code",
   "execution_count": 57,
   "metadata": {
    "collapsed": false
   },
   "outputs": [],
   "source": [
    "%matplotlib inline"
   ]
  },
  {
   "cell_type": "code",
   "execution_count": 58,
   "metadata": {
    "collapsed": true
   },
   "outputs": [],
   "source": [
    "import pandas as pd\n",
    "import numpy as np"
   ]
  },
  {
   "cell_type": "markdown",
   "metadata": {},
   "source": [
    "Make sure the samples come up the same for anyone that re-runs this."
   ]
  },
  {
   "cell_type": "code",
   "execution_count": 59,
   "metadata": {
    "collapsed": false
   },
   "outputs": [],
   "source": [
    "rs = np.random.RandomState(123)"
   ]
  },
  {
   "cell_type": "code",
   "execution_count": 60,
   "metadata": {
    "collapsed": true
   },
   "outputs": [],
   "source": [
    "pd.set_option('max_colwidth', 1000)"
   ]
  },
  {
   "cell_type": "code",
   "execution_count": 61,
   "metadata": {
    "collapsed": true
   },
   "outputs": [],
   "source": [
    "df = pd.read_csv('survey_short_columns.csv')"
   ]
  },
  {
   "cell_type": "code",
   "execution_count": 62,
   "metadata": {
    "collapsed": true
   },
   "outputs": [],
   "source": [
    "def show(series):\n",
    "    '''Make random samples easier to read.'''\n",
    "    for i, value in enumerate(series):\n",
    "        print('{}) {}'.format(i, value), end='\\n\\n')"
   ]
  },
  {
   "cell_type": "code",
   "execution_count": 63,
   "metadata": {
    "collapsed": false
   },
   "outputs": [],
   "source": [
    "responses = pd.concat([df.first_experience_enhancements_1, \n",
    "                       df.first_experience_enhancements_2, \n",
    "                       df.first_experience_enhancements_3])"
   ]
  },
  {
   "cell_type": "code",
   "execution_count": 64,
   "metadata": {
    "collapsed": true
   },
   "outputs": [],
   "source": [
    "assert len(responses) == len(df) * 3"
   ]
  },
  {
   "cell_type": "code",
   "execution_count": 65,
   "metadata": {
    "collapsed": false
   },
   "outputs": [
    {
     "data": {
      "text/plain": [
       "True     4591\n",
       "False     527\n",
       "dtype: int64"
      ]
     },
     "execution_count": 65,
     "metadata": {},
     "output_type": "execute_result"
    }
   ],
   "source": [
    "responses.isnull().value_counts()"
   ]
  },
  {
   "cell_type": "code",
   "execution_count": 66,
   "metadata": {
    "collapsed": true
   },
   "outputs": [],
   "source": [
    "responses = responses.dropna()"
   ]
  },
  {
   "cell_type": "markdown",
   "metadata": {},
   "source": [
    "## Initial Samples\n",
    "\n",
    "I ran the sampling code below multiple times and manually built up the initial set of keywords seen commonly across them. I formed groups of conceptually related keywords. Then I tried to assign a simple label to each group."
   ]
  },
  {
   "cell_type": "code",
   "execution_count": 67,
   "metadata": {
    "collapsed": false,
    "scrolled": false
   },
   "outputs": [
    {
     "name": "stdout",
     "output_type": "stream",
     "text": [
      "0) browser interface\n",
      "\n",
      "1) Just like vim, easy to mess things up by typing during command mode\n",
      "\n",
      "2) More guidance about using inline visualisations (e.g. %inline matplotlib)\n",
      "\n",
      "3) Unified documentation, more links from iPython to Jupyter stuff\n",
      "\n",
      "4) Autosave\n",
      "\n",
      "5) an introduction to all the extensions that are out there. I only recently stumbled on some that make the experience a lot better\n",
      "\n",
      "6) Reveal.js integration in nbconvert\n",
      "\n",
      "7) perhaps occasional hints on useful features\n",
      "\n",
      "8) Better UI\n",
      "\n",
      "9) Less stale code in Google search results, although I don't know how jupyter can do anything about \n",
      "\n",
      "10) better interface\n",
      "\n",
      "11) Hotkeys being introduced in the tutorials\n",
      "\n",
      "12) interactive visualization\n",
      "\n",
      "13) Most recent features presented at conference not yet available in debian-available version\n",
      "\n",
      "14) Some long running processes can stall the notebook (eg lots of print output) \n",
      "\n",
      "15) Better Web UI Performance over Internet\n",
      "\n",
      "16) Interactivity\n",
      "\n",
      "17) Easier installation\n",
      "\n",
      "18) several kernels \n",
      "\n",
      "19) BETTER DOCUMENTATION (It was IPython 0.13 or something.)\n",
      "\n"
     ]
    }
   ],
   "source": [
    "show(responses.sample(20, random_state=rs))"
   ]
  },
  {
   "cell_type": "code",
   "execution_count": 93,
   "metadata": {
    "collapsed": false
   },
   "outputs": [],
   "source": [
    "themes = {\n",
    "    'ux': ['drag', 'drag(/|&)drop', 'undo', '(double(\\s|-))?click(ing)?', '(screen|width)', \n",
    "           '(better|modern) (UI|interface)', 'spell(\\s|-)?check(er|ing)?', \n",
    "           '(clear|run) all', 'toggle', \n",
    "           '(style(s|sheets?)?|styling|CSS|themes?|skin|fonts?|colo(u)?rs?)',\n",
    "           '(multi-|multiple\\s)cells?', 'hid(e|den|ing)',\n",
    "           'interface', '(reorder|move|select) cells', 'rendering', 'responsive',\n",
    "           '(menu|buttons?|toolbar|tooltips?|logo|icons?)',\n",
    "           '(auto)?-?sav(e|ing)|checkpoints?', \n",
    "           'stab(le|ility)|crash(es)?', 'collaborat(e|ive|ing)',],\n",
    "    'documentation': ['doc(s|umentation)?($|\\W)', 'tutorial(s?)', 'instructions', 'guides?', 'walk(-|\\s)through',\n",
    "                      'help', 'examples?', 'hints', 'demos?', 'tour', 'introduction', 'use(\\s|-)case', 'roadmap',\n",
    "                      'welcome', ],\n",
    "    'editor': ['vim?($|\\W)|emacs', '(text|code\\s)?edit(or|ing)', 'diffs?($|\\W)', \n",
    "               '(tab|code|auto)-?\\s?complet(e|ion)', \n",
    "               '(hot)?key(\\s|-)?(mappings|bindings|strokes)|short-?cuts|keyboard', \n",
    "               ],\n",
    "    'development': ['debug(ging|er)?', 'namespaces?', ], \n",
    "    'content_management': ['navigat(e|ion|ing)', 'toc|table of contents', 'upload(\\sfiles|notebooks)?', \n",
    "                           '(search|find)(/|&|\\sand\\s)replace', 'replace all', '(project|file|notebook) management',\n",
    "                           'file (brows(er|ing)|explorer|navigator)', 'tagging', '(folders?|director(y|ies))', ],\n",
    "    'installation': ['install(ation)?', 'set(ting)?(\\s)?up', 'configur(e|ation|ing)', 'search', ],\n",
    "    'integration': ['(apache\\s)?spark', 'pandas', '(ana)?conda', 'sympy', 'pylab', '%?matplotlib', 'ggplot2', ],\n",
    "    'language': ['(multi-?)?language', 'python', 'julia', 'R($|\\W)', 'C\\/C', '(more|different) kernels', \n",
    "                 '(several|multiple) kernels', ],\n",
    "    'compatibility': ['compatib(le|ility)', 'versions', ],\n",
    "    'visualization': ['visualization', 'widgets?', 'graphics', ],\n",
    "    'version_control': ['git(hub)?', 'version control', ],\n",
    "    'dissemination': ['export(ing)?', '(nb)?convert', 'slides(hows?)', 'notebook to', 'shar(e|ing)', ],\n",
    "    'hosting': ['virtual(env|\\senvironment)', 'cloud', 'server', 'as service', 'mybinder.org', 'docker',\n",
    "                'multi(ple|-)?\\s?user', 'start', 'launch(ing)?', ],\n",
    "    'extensions': ['extensions?', 'plugins?', ],\n",
    "    'other': ['don\\'t know', 'forg(e|o)t', 'remember', 'confusing', 'terminal', ],\n",
    "}"
   ]
  },
  {
   "cell_type": "markdown",
   "metadata": {},
   "source": [
    "## Coverage Improvement\n",
    "\n",
    "I next ran the code below to associate the theme labels with the responses. I then iterated on running the code below to find reponses without labels. I expanded the list of keywords and themes above in order to improve coverage."
   ]
  },
  {
   "cell_type": "code",
   "execution_count": 103,
   "metadata": {
    "collapsed": true
   },
   "outputs": [],
   "source": [
    "import re"
   ]
  },
  {
   "cell_type": "code",
   "execution_count": 104,
   "metadata": {
    "collapsed": true
   },
   "outputs": [],
   "source": [
    "def keywords_or(text, keywords):\n",
    "    for keyword in keywords:\n",
    "        if re.search('(^|\\W+){}'.format(keyword), text, re.IGNORECASE):\n",
    "            return True\n",
    "    return False"
   ]
  },
  {
   "cell_type": "code",
   "execution_count": 105,
   "metadata": {
    "collapsed": false
   },
   "outputs": [],
   "source": [
    "def tag_themes(responses, themes):\n",
    "    tagged = responses.to_frame()\n",
    "    tagged['themes'] = ''\n",
    "    for theme, keywords in themes.items():\n",
    "        results = responses.map(lambda text: keywords_or(text, keywords))\n",
    "        tagged.loc[results, 'themes'] += theme + ','\n",
    "        print(theme, results.sum())\n",
    "    return tagged"
   ]
  },
  {
   "cell_type": "code",
   "execution_count": 106,
   "metadata": {
    "collapsed": false
   },
   "outputs": [
    {
     "name": "stdout",
     "output_type": "stream",
     "text": [
      "language 31\n",
      "version_control 10\n",
      "integration 34\n",
      "visualization 16\n",
      "editor 58\n",
      "dissemination 16\n",
      "compatibility 3\n",
      "installation 58\n",
      "content_management 32\n",
      "documentation 108\n",
      "other 21\n",
      "hosting 44\n",
      "development 4\n",
      "extensions 15\n",
      "ux 103\n"
     ]
    },
    {
     "data": {
      "text/plain": [
       "1    351\n",
       "2     82\n",
       "0     82\n",
       "3     10\n",
       "4      2\n",
       "Name: themes, dtype: int64"
      ]
     },
     "execution_count": 106,
     "metadata": {},
     "output_type": "execute_result"
    }
   ],
   "source": [
    "tagged = tag_themes(responses, themes)\n",
    "tagged.themes.str.count(',').value_counts()"
   ]
  },
  {
   "cell_type": "code",
   "execution_count": 107,
   "metadata": {
    "collapsed": false
   },
   "outputs": [
    {
     "data": {
      "text/html": [
       "<div>\n",
       "<table border=\"1\" class=\"dataframe\">\n",
       "  <thead>\n",
       "    <tr style=\"text-align: right;\">\n",
       "      <th></th>\n",
       "      <th>0</th>\n",
       "      <th>themes</th>\n",
       "    </tr>\n",
       "  </thead>\n",
       "  <tbody>\n",
       "    <tr>\n",
       "      <th>290</th>\n",
       "      <td>Ability to turn off that annoying bracket autoclose thung</td>\n",
       "      <td></td>\n",
       "    </tr>\n",
       "    <tr>\n",
       "      <th>19</th>\n",
       "      <td>Better Web UI Performance over Internet</td>\n",
       "      <td></td>\n",
       "    </tr>\n",
       "    <tr>\n",
       "      <th>780</th>\n",
       "      <td>Easier timing/profiling of functions with pretty GUI line by line highlights.</td>\n",
       "      <td></td>\n",
       "    </tr>\n",
       "    <tr>\n",
       "      <th>1556</th>\n",
       "      <td>The ability to execute code in the browser</td>\n",
       "      <td></td>\n",
       "    </tr>\n",
       "    <tr>\n",
       "      <th>460</th>\n",
       "      <td>Tighter integration of qtconsole</td>\n",
       "      <td></td>\n",
       "    </tr>\n",
       "    <tr>\n",
       "      <th>1291</th>\n",
       "      <td>Error messages can be crytpic</td>\n",
       "      <td></td>\n",
       "    </tr>\n",
       "    <tr>\n",
       "      <th>1161</th>\n",
       "      <td>Easily configurable input fields (auto-closing brackets kills me)</td>\n",
       "      <td></td>\n",
       "    </tr>\n",
       "    <tr>\n",
       "      <th>1627</th>\n",
       "      <td>collapsible headers</td>\n",
       "      <td></td>\n",
       "    </tr>\n",
       "    <tr>\n",
       "      <th>579</th>\n",
       "      <td>combining multiple notebooks into a set of chapters</td>\n",
       "      <td></td>\n",
       "    </tr>\n",
       "    <tr>\n",
       "      <th>264</th>\n",
       "      <td>A browser-like application dedicated to displaying notebooks could be easier to understand. Some kind of reskinned Firefox fork.</td>\n",
       "      <td></td>\n",
       "    </tr>\n",
       "    <tr>\n",
       "      <th>268</th>\n",
       "      <td>minimization tools, to sort out notebooks that grew rapidly in size</td>\n",
       "      <td></td>\n",
       "    </tr>\n",
       "    <tr>\n",
       "      <th>1083</th>\n",
       "      <td>Magics integrated into / accessible from the GUI</td>\n",
       "      <td></td>\n",
       "    </tr>\n",
       "    <tr>\n",
       "      <th>141</th>\n",
       "      <td>all in all it has been great.</td>\n",
       "      <td></td>\n",
       "    </tr>\n",
       "    <tr>\n",
       "      <th>59</th>\n",
       "      <td>collapsible sections</td>\n",
       "      <td></td>\n",
       "    </tr>\n",
       "    <tr>\n",
       "      <th>259</th>\n",
       "      <td>It was wonderful</td>\n",
       "      <td></td>\n",
       "    </tr>\n",
       "    <tr>\n",
       "      <th>194</th>\n",
       "      <td>compartmentalized design/layout</td>\n",
       "      <td></td>\n",
       "    </tr>\n",
       "    <tr>\n",
       "      <th>1239</th>\n",
       "      <td>Interactive plots</td>\n",
       "      <td></td>\n",
       "    </tr>\n",
       "    <tr>\n",
       "      <th>26</th>\n",
       "      <td>Official tools for concatenating/splitting notebooks</td>\n",
       "      <td></td>\n",
       "    </tr>\n",
       "    <tr>\n",
       "      <th>350</th>\n",
       "      <td>more intuitive customization, e.g. of figure size and format</td>\n",
       "      <td></td>\n",
       "    </tr>\n",
       "    <tr>\n",
       "      <th>37</th>\n",
       "      <td>Easier file structure / just like any other app</td>\n",
       "      <td></td>\n",
       "    </tr>\n",
       "  </tbody>\n",
       "</table>\n",
       "</div>"
      ],
      "text/plain": [
       "                                                                                                                                     0  \\\n",
       "290                                                                          Ability to turn off that annoying bracket autoclose thung   \n",
       "19                                                                                             Better Web UI Performance over Internet   \n",
       "780                                                      Easier timing/profiling of functions with pretty GUI line by line highlights.   \n",
       "1556                                                                                        The ability to execute code in the browser   \n",
       "460                                                                                                   Tighter integration of qtconsole   \n",
       "1291                                                                                                     Error messages can be crytpic   \n",
       "1161                                                                 Easily configurable input fields (auto-closing brackets kills me)   \n",
       "1627                                                                                                               collapsible headers   \n",
       "579                                                                                combining multiple notebooks into a set of chapters   \n",
       "264   A browser-like application dedicated to displaying notebooks could be easier to understand. Some kind of reskinned Firefox fork.   \n",
       "268                                                                minimization tools, to sort out notebooks that grew rapidly in size   \n",
       "1083                                                                                  Magics integrated into / accessible from the GUI   \n",
       "141                                                                                                      all in all it has been great.   \n",
       "59                                                                                                                collapsible sections   \n",
       "259                                                                                                                   It was wonderful   \n",
       "194                                                                                                    compartmentalized design/layout   \n",
       "1239                                                                                                                 Interactive plots   \n",
       "26                                                                                Official tools for concatenating/splitting notebooks   \n",
       "350                                                                       more intuitive customization, e.g. of figure size and format   \n",
       "37                                                                                     Easier file structure / just like any other app   \n",
       "\n",
       "     themes  \n",
       "290          \n",
       "19           \n",
       "780          \n",
       "1556         \n",
       "460          \n",
       "1291         \n",
       "1161         \n",
       "1627         \n",
       "579          \n",
       "264          \n",
       "268          \n",
       "1083         \n",
       "141          \n",
       "59           \n",
       "259          \n",
       "194          \n",
       "1239         \n",
       "26           \n",
       "350          \n",
       "37           "
      ]
     },
     "execution_count": 107,
     "metadata": {},
     "output_type": "execute_result"
    }
   ],
   "source": [
    "tagged[tagged.themes.str.len() == 0].sample(20, random_state=rs)"
   ]
  },
  {
   "cell_type": "markdown",
   "metadata": {},
   "source": [
    "## Precision Check\n",
    "\n",
    "I then studied a sample of responses for each theme to see if there major inaccuracies in their application (e.g., string matches that are too fuzzy)."
   ]
  },
  {
   "cell_type": "code",
   "execution_count": 108,
   "metadata": {
    "collapsed": false
   },
   "outputs": [
    {
     "name": "stdout",
     "output_type": "stream",
     "text": [
      "language 31\n",
      "version_control 10\n",
      "integration 34\n",
      "visualization 16\n",
      "editor 58\n",
      "dissemination 16\n",
      "compatibility 3\n",
      "installation 58\n",
      "content_management 32\n",
      "documentation 108\n",
      "other 21\n",
      "hosting 44\n",
      "development 4\n",
      "extensions 15\n",
      "ux 103\n"
     ]
    },
    {
     "data": {
      "text/plain": [
       "1    351\n",
       "2     82\n",
       "0     82\n",
       "3     10\n",
       "4      2\n",
       "Name: themes, dtype: int64"
      ]
     },
     "execution_count": 108,
     "metadata": {},
     "output_type": "execute_result"
    }
   ],
   "source": [
    "tagged = tag_themes(responses, themes)\n",
    "tagged.themes.str.count(',').value_counts()"
   ]
  },
  {
   "cell_type": "code",
   "execution_count": 109,
   "metadata": {
    "collapsed": true
   },
   "outputs": [],
   "source": [
    "from IPython.display import display, clear_output"
   ]
  },
  {
   "cell_type": "code",
   "execution_count": 110,
   "metadata": {
    "collapsed": false,
    "scrolled": false
   },
   "outputs": [],
   "source": [
    "# for key in themes:\n",
    "#     clear_output()\n",
    "#     size = min([10, len(tagged[tagged.themes.str.contains(key)])])\n",
    "#     display(tagged[tagged.themes.str.contains(key)].sample(size))\n",
    "#     if input('Showing `{}`. Type Enter to continue, \"q\" to stop.'.format(key)) == 'q':\n",
    "#         break"
   ]
  },
  {
   "cell_type": "markdown",
   "metadata": {},
   "source": [
    "I also looked at responses with multiple themes to fine tune them, and catch duplication of words in multiple themes."
   ]
  },
  {
   "cell_type": "markdown",
   "metadata": {},
   "source": [
    "## Keyword Frequencies"
   ]
  },
  {
   "cell_type": "code",
   "execution_count": 111,
   "metadata": {
    "collapsed": true
   },
   "outputs": [],
   "source": [
    "import matplotlib\n",
    "import seaborn"
   ]
  },
  {
   "cell_type": "code",
   "execution_count": 112,
   "metadata": {
    "collapsed": true
   },
   "outputs": [],
   "source": [
    "counts = {}"
   ]
  },
  {
   "cell_type": "code",
   "execution_count": 113,
   "metadata": {
    "collapsed": false
   },
   "outputs": [],
   "source": [
    "for theme, keywords in themes.items():\n",
    "    for keyword in keywords:\n",
    "        hits = responses.map(lambda text: keywords_or(text, [keyword]))\n",
    "        counts[keyword] = hits.sum()"
   ]
  },
  {
   "cell_type": "code",
   "execution_count": 114,
   "metadata": {
    "collapsed": true
   },
   "outputs": [],
   "source": [
    "hist = pd.Series(counts).sort_values()"
   ]
  },
  {
   "cell_type": "code",
   "execution_count": 115,
   "metadata": {
    "collapsed": false
   },
   "outputs": [
    {
     "data": {
      "image/png": "[encoded data removed]",
      "text/plain": [
       "<matplotlib.figure.Figure at 0x7f13184cb1d0>"
      ]
     },
     "metadata": {},
     "output_type": "display_data"
    }
   ],
   "source": [
    "ax = hist[-30:].plot.barh(figsize=(8, 8))\n",
    "_ = ax.set_xlabel('Mentions')"
   ]
  },
  {
   "cell_type": "markdown",
   "metadata": {
    "collapsed": true
   },
   "source": [
    "## Persist\n",
    "\n",
    "I save off the themes and keywords to a DataFrame with the same index as the original so that the entries can be tagged."
   ]
  },
  {
   "cell_type": "code",
   "execution_count": 116,
   "metadata": {
    "collapsed": true
   },
   "outputs": [],
   "source": [
    "column = 'first_experience_enhancements'"
   ]
  },
  {
   "cell_type": "code",
   "execution_count": 117,
   "metadata": {
    "collapsed": true
   },
   "outputs": [],
   "source": [
    "themes_df = tagged.themes.to_frame()"
   ]
  },
  {
   "cell_type": "code",
   "execution_count": 118,
   "metadata": {
    "collapsed": true
   },
   "outputs": [],
   "source": [
    "themes_df = themes_df.rename(columns={'themes' : column+'_themes'})"
   ]
  },
  {
   "cell_type": "code",
   "execution_count": 119,
   "metadata": {
    "collapsed": true
   },
   "outputs": [],
   "source": [
    "themes_df[column+'_keywords'] = ''"
   ]
  },
  {
   "cell_type": "code",
   "execution_count": 120,
   "metadata": {
    "collapsed": true
   },
   "outputs": [],
   "source": [
    "for theme, keywords in themes.items():\n",
    "    for keyword in keywords:\n",
    "        results = responses.map(lambda text: keywords_or(text, [keyword]))\n",
    "        if not results.sum(): continue\n",
    "        themes_df.loc[results, column+'_keywords'] += keyword + ','"
   ]
  },
  {
   "cell_type": "code",
   "execution_count": 121,
   "metadata": {
    "collapsed": true
   },
   "outputs": [],
   "source": [
    "themes_df[column+'_themes'] = themes_df[column+'_themes'].str.rstrip(',')\n",
    "themes_df[column+'_keywords'] = themes_df[column+'_keywords'].str.rstrip(',')"
   ]
  },
  {
   "cell_type": "markdown",
   "metadata": {},
   "source": [
    "Up above, I merged the three response fields for the question into one common pool which means we can have duplicate index value in the themes DataFrame. We need to squash these down and remove duplicates."
   ]
  },
  {
   "cell_type": "code",
   "execution_count": 122,
   "metadata": {
    "collapsed": true
   },
   "outputs": [],
   "source": [
    "def union(group_df):\n",
    "    '''Gets the set union of themes and keywords for a given DataFrame.'''\n",
    "    themes = group_df[column+'_themes'].str.cat(sep=',')\n",
    "    themes = list(set(themes.split(',')))\n",
    "    themes = ','.join(themes)\n",
    "    \n",
    "    keywords = group_df[column+'_keywords'].str.cat(sep=',')\n",
    "    keywords = list(set(keywords.split(',')))\n",
    "    keywords = ','.join(keywords)\n",
    "    return pd.Series([themes, keywords], index=[column+'_themes', column+'_keywords'])"
   ]
  },
  {
   "cell_type": "markdown",
   "metadata": {},
   "source": [
    "We group by the index and union the themes and keywords."
   ]
  },
  {
   "cell_type": "code",
   "execution_count": 123,
   "metadata": {
    "collapsed": true
   },
   "outputs": [],
   "source": [
    "themes_df = themes_df.groupby(themes_df.index).apply(union)"
   ]
  },
  {
   "cell_type": "code",
   "execution_count": 124,
   "metadata": {
    "collapsed": false
   },
   "outputs": [
    {
     "data": {
      "text/html": [
       "<div>\n",
       "<table border=\"1\" class=\"dataframe\">\n",
       "  <thead>\n",
       "    <tr style=\"text-align: right;\">\n",
       "      <th></th>\n",
       "      <th>first_experience_enhancements_themes</th>\n",
       "      <th>first_experience_enhancements_keywords</th>\n",
       "    </tr>\n",
       "  </thead>\n",
       "  <tbody>\n",
       "    <tr>\n",
       "      <th>1</th>\n",
       "      <td>visualization,documentation</td>\n",
       "      <td>doc(s|umentation)?($|\\W),widgets?</td>\n",
       "    </tr>\n",
       "    <tr>\n",
       "      <th>6</th>\n",
       "      <td>content_management,hosting,ux</td>\n",
       "      <td>server,(multi-|multiple\\s)cells?,(folders?|director(y|ies)),file (brows(er|ing)|explorer|navigator),cloud</td>\n",
       "    </tr>\n",
       "    <tr>\n",
       "      <th>7</th>\n",
       "      <td>language,installation</td>\n",
       "      <td>python,(multi-?)?language,julia,set(ting)?(\\s)?up,R($|\\W)</td>\n",
       "    </tr>\n",
       "    <tr>\n",
       "      <th>9</th>\n",
       "      <td>documentation</td>\n",
       "      <td>introduction</td>\n",
       "    </tr>\n",
       "    <tr>\n",
       "      <th>17</th>\n",
       "      <td>installation,integration</td>\n",
       "      <td>(ana)?conda,set(ting)?(\\s)?up</td>\n",
       "    </tr>\n",
       "  </tbody>\n",
       "</table>\n",
       "</div>"
      ],
      "text/plain": [
       "   first_experience_enhancements_themes  \\\n",
       "1           visualization,documentation   \n",
       "6         content_management,hosting,ux   \n",
       "7                 language,installation   \n",
       "9                         documentation   \n",
       "17             installation,integration   \n",
       "\n",
       "                                                                       first_experience_enhancements_keywords  \n",
       "1                                                                           doc(s|umentation)?($|\\W),widgets?  \n",
       "6   server,(multi-|multiple\\s)cells?,(folders?|director(y|ies)),file (brows(er|ing)|explorer|navigator),cloud  \n",
       "7                                                   python,(multi-?)?language,julia,set(ting)?(\\s)?up,R($|\\W)  \n",
       "9                                                                                                introduction  \n",
       "17                                                                              (ana)?conda,set(ting)?(\\s)?up  "
      ]
     },
     "execution_count": 124,
     "metadata": {},
     "output_type": "execute_result"
    }
   ],
   "source": [
    "themes_df.head()"
   ]
  },
  {
   "cell_type": "markdown",
   "metadata": {},
   "source": [
    "The themes DataFrame should have as many rows as there are non-null responses in the original DataFrame."
   ]
  },
  {
   "cell_type": "code",
   "execution_count": 125,
   "metadata": {
    "collapsed": true
   },
   "outputs": [],
   "source": [
    "assert len(themes_df) == len(df[[column+'_1', column+'_2', column+'_3']].dropna(how='all'))"
   ]
  },
  {
   "cell_type": "code",
   "execution_count": 126,
   "metadata": {
    "collapsed": true
   },
   "outputs": [],
   "source": [
    "themes_df.to_csv(column + '_themes.csv', sep=';')"
   ]
  },
  {
   "cell_type": "code",
   "execution_count": null,
   "metadata": {
    "collapsed": true
   },
   "outputs": [],
   "source": []
  }
 ],
 "metadata": {
  "kernelspec": {
   "display_name": "Python 3",
   "language": "python",
   "name": "python3"
  },
  "language_info": {
   "codemirror_mode": {
    "name": "ipython",
    "version": 3
   },
   "file_extension": ".py",
   "mimetype": "text/x-python",
   "name": "python",
   "nbconvert_exporter": "python",
   "pygments_lexer": "ipython3",
   "version": "3.4.4"
  }
 },
 "nbformat": 4,
 "nbformat_minor": 0
}
