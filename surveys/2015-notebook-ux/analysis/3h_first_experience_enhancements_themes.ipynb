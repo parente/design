{
 "cells": [
  {
   "cell_type": "markdown",
   "metadata": {},
   "source": [
    "# Response Themes for \"Thinking back to when you first started using Jupyter Notebook, what enhancements would have made your initial experience better?\"\n",
    "\n",
    "* Goal: Extract theme keywords from `first_experience_enhancements` responses.\n",
    "* Data: Output from 2_clean_survey.ipynb notebook (`survey_short_columns.csv`)\n",
    "* Process from [1_ux_survey_review.ipynb](1_ux_survey_review.ipynb):\n",
    "\n",
    "> Moving forward, here's a semi-automatic procedure we can follow for identifying themes across questions:\n",
    "> 1. Take a random sample of question responses\n",
    "> 2. Write down common theme keywords\n",
    "> 3. Search back through the responses using the theme keywords\n",
    "> 4. Expand the set of keywords with other words seen in the search results\n",
    "> 5. Repeat for all themes and questions\n",
    "> Later, we can use a fully automated topic modeling approach to validate our manually generated themes."
   ]
  },
  {
   "cell_type": "code",
   "execution_count": 1,
   "metadata": {
    "collapsed": true
   },
   "outputs": [],
   "source": [
    "import warnings\n",
    "warnings.filterwarnings(\"ignore\")"
   ]
  },
  {
   "cell_type": "code",
   "execution_count": 2,
   "metadata": {
    "collapsed": false
   },
   "outputs": [],
   "source": [
    "%matplotlib inline"
   ]
  },
  {
   "cell_type": "code",
   "execution_count": 3,
   "metadata": {
    "collapsed": true
   },
   "outputs": [],
   "source": [
    "import pandas as pd\n",
    "import numpy as np"
   ]
  },
  {
   "cell_type": "markdown",
   "metadata": {},
   "source": [
    "Make sure the samples come up the same for anyone that re-runs this."
   ]
  },
  {
   "cell_type": "code",
   "execution_count": 4,
   "metadata": {
    "collapsed": false
   },
   "outputs": [],
   "source": [
    "rs = np.random.RandomState(123)"
   ]
  },
  {
   "cell_type": "code",
   "execution_count": 5,
   "metadata": {
    "collapsed": true
   },
   "outputs": [],
   "source": [
    "pd.set_option('max_colwidth', 1000)"
   ]
  },
  {
   "cell_type": "code",
   "execution_count": 6,
   "metadata": {
    "collapsed": true
   },
   "outputs": [],
   "source": [
    "df = pd.read_csv('survey_short_columns.csv')"
   ]
  },
  {
   "cell_type": "code",
   "execution_count": 7,
   "metadata": {
    "collapsed": true
   },
   "outputs": [],
   "source": [
    "def show(series):\n",
    "    '''Make random samples easier to read.'''\n",
    "    for i, value in enumerate(series):\n",
    "        print('{}) {}'.format(i, value), end='\\n\\n')"
   ]
  },
  {
   "cell_type": "code",
   "execution_count": 8,
   "metadata": {
    "collapsed": false
   },
   "outputs": [],
   "source": [
    "responses = pd.concat([df.first_experience_enhancements_1, df.first_experience_enhancements_2, df.first_experience_enhancements_3], ignore_index=True)"
   ]
  },
  {
   "cell_type": "code",
   "execution_count": 9,
   "metadata": {
    "collapsed": true
   },
   "outputs": [],
   "source": [
    "assert len(responses) == len(df) * 3"
   ]
  },
  {
   "cell_type": "code",
   "execution_count": 10,
   "metadata": {
    "collapsed": false
   },
   "outputs": [
    {
     "data": {
      "text/plain": [
       "True     4591\n",
       "False     527\n",
       "dtype: int64"
      ]
     },
     "execution_count": 10,
     "metadata": {},
     "output_type": "execute_result"
    }
   ],
   "source": [
    "responses.isnull().value_counts()"
   ]
  },
  {
   "cell_type": "code",
   "execution_count": 11,
   "metadata": {
    "collapsed": true
   },
   "outputs": [],
   "source": [
    "responses = responses.dropna()"
   ]
  },
  {
   "cell_type": "markdown",
   "metadata": {},
   "source": [
    "## Initial Samples\n",
    "\n",
    "I ran the sampling code below multiple times and manually built up the initial set of keywords seen commonly across them. I formed groups of conceptually related keywords. Then I tried to assign a simple label to each group."
   ]
  },
  {
   "cell_type": "code",
   "execution_count": 12,
   "metadata": {
    "collapsed": false,
    "scrolled": false
   },
   "outputs": [
    {
     "name": "stdout",
     "output_type": "stream",
     "text": [
      "0) browser interface\n",
      "\n",
      "1) Just like vim, easy to mess things up by typing during command mode\n",
      "\n",
      "2) More guidance about using inline visualisations (e.g. %inline matplotlib)\n",
      "\n",
      "3) Unified documentation, more links from iPython to Jupyter stuff\n",
      "\n",
      "4) Autosave\n",
      "\n",
      "5) an introduction to all the extensions that are out there. I only recently stumbled on some that make the experience a lot better\n",
      "\n",
      "6) Reveal.js integration in nbconvert\n",
      "\n",
      "7) perhaps occasional hints on useful features\n",
      "\n",
      "8) Better UI\n",
      "\n",
      "9) Less stale code in Google search results, although I don't know how jupyter can do anything about \n",
      "\n",
      "10) better interface\n",
      "\n",
      "11) Hotkeys being introduced in the tutorials\n",
      "\n",
      "12) interactive visualization\n",
      "\n",
      "13) Most recent features presented at conference not yet available in debian-available version\n",
      "\n",
      "14) Some long running processes can stall the notebook (eg lots of print output) \n",
      "\n",
      "15) Better Web UI Performance over Internet\n",
      "\n",
      "16) Interactivity\n",
      "\n",
      "17) Easier installation\n",
      "\n",
      "18) several kernels \n",
      "\n",
      "19) BETTER DOCUMENTATION (It was IPython 0.13 or something.)\n",
      "\n"
     ]
    }
   ],
   "source": [
    "show(responses.sample(20, random_state=rs))"
   ]
  },
  {
   "cell_type": "code",
   "execution_count": 854,
   "metadata": {
    "collapsed": false
   },
   "outputs": [],
   "source": [
    "themes = {\n",
    "    'ux': ['drag', 'drag(/|&)drop', 'themes?', '(key)?bindings', 'short-?cuts', 'undo', 'hotkey', \n",
    "           '(double(\\s|-))?click(ing)?', 'menu', 'CSS', 'screen', 'better (UI|interface)', \n",
    "           '(tab|code|auto)-?\\s?complet(e|ion)', 'clear all', 'run all', 'keystrokes', 'toggle',\n",
    "           '(multi-|multiple\\s)cells?', 'styling', 'keyboard', 'logo', 'hid(e|den|ing)', 'icons?',\n",
    "           '%?matplotlib', 'interface', '(reorder|move|select) cells', 'rendering', 'responsive',\n",
    "           'buttons?', 'toolbar', 'tooltips?', 'colors?', 'fonts?', 'width',  ],\n",
    "    'documentation': ['documentation', 'doc', 'tutorial(s?)', 'instructions', 'guides?', 'walk(-|\\s)through',\n",
    "                      'help', 'examples?', 'hints', 'demos?', 'tour', 'introduction', 'use(\\s|-)case', 'roadmap',\n",
    "                      'welcome', ],\n",
    "    'editor': ['vim', 'emacs', '(text|code\\s)?edit(or|ing)', 'spell(\\s|-)?check(er|ing)?'],\n",
    "    'content_management': ['navigat(e|ion|ing)', 'toc|table of contents', 'upload(\\sfiles|notebooks)?', \n",
    "                           '(search|find)(/|&|\\sand\\s)replace', 'replace all', '(project|file|notebook) management',\n",
    "                           'file (brows(er|ing)|explorer|navigator)', 'tagging', 'directory', ],\n",
    "    'installation': ['install(ation)?', 'set(ting)?(\\s)?up', 'configur(e|ation|ing)', 'search', ],\n",
    "    'ecosystem': ['(apache\\s)?spark', 'pandas', '(ana)?conda', 'sympy', 'pylab', ],\n",
    "    'ide': ['debug(ging|er)?'],\n",
    "    'language': ['(multi-?)?language', 'python', 'julia', '(more|different) kernels', \n",
    "                 '(several|multiple) kernels', ],\n",
    "    'multi_user': ['multi(ple|-)?\\s?user', ],\n",
    "    'collab': ['shar(e|ing)', 'collaborat(e|ive|ing)', ],\n",
    "    'compatibility': ['compatibility', 'versions', ],\n",
    "    'visualization': ['visualization', 'widgets?', 'graphics', ],\n",
    "    'version_control': ['git', 'version control', ],\n",
    "    'save': ['(auto)?-?sav(e|ing)', 'checkpoints?', ],\n",
    "    'export': ['export(ing)?', '(nb)?convert', 'slides(hows?)', 'notebook to', ],\n",
    "    'hosting': ['virtual(env|\\senvironment)', 'cloud', 'server', 'as service', 'mybinder.org',],\n",
    "    'extensions': ['extensions?', 'plugins?', ],\n",
    "    'stability': ['stability', 'stable', 'crash(es)?', ],\n",
    "    'startup': ['start', 'launch(ing)?', ],\n",
    "    'programming': ['namespaces?', ],\n",
    "    'other': ['don\\'t know', 'forg(e|o)t', 'remember', 'confusing', 'terminal', '/', ],\n",
    "}"
   ]
  },
  {
   "cell_type": "markdown",
   "metadata": {},
   "source": [
    "## Coverage Improvement\n",
    "\n",
    "I next ran the code below to associate the theme labels with the responses. I then iterated on running the code below to find reponses without labels. I expanded the list of keywords and themes above in order to improve coverage."
   ]
  },
  {
   "cell_type": "code",
   "execution_count": 855,
   "metadata": {
    "collapsed": true
   },
   "outputs": [],
   "source": [
    "import re"
   ]
  },
  {
   "cell_type": "code",
   "execution_count": 856,
   "metadata": {
    "collapsed": true
   },
   "outputs": [],
   "source": [
    "def keywords_or(text, keywords):\n",
    "    for keyword in keywords:\n",
    "        if re.search('(^|\\W+){}'.format(keyword), text, re.IGNORECASE):\n",
    "            return True\n",
    "    return False"
   ]
  },
  {
   "cell_type": "code",
   "execution_count": 857,
   "metadata": {
    "collapsed": false
   },
   "outputs": [],
   "source": [
    "def tag_themes(data, themes):\n",
    "    tagged = data.to_frame()\n",
    "    tagged['themes'] = ''\n",
    "    for theme, keywords in themes.items():\n",
    "        results = data.map(lambda text: keywords_or(text, keywords))\n",
    "        tagged.loc[results, 'themes'] += theme + ','\n",
    "        print(theme, results.sum())\n",
    "    return tagged"
   ]
  },
  {
   "cell_type": "code",
   "execution_count": 858,
   "metadata": {
    "collapsed": false
   },
   "outputs": [
    {
     "name": "stdout",
     "output_type": "stream",
     "text": [
      "ecosystem 22\n",
      "stability 4\n",
      "hosting 14\n",
      "compatibility 3\n",
      "editor 20\n",
      "multi_user 2\n",
      "save 10\n",
      "collab 3\n",
      "language 30\n",
      "extensions 15\n",
      "other 21\n",
      "export 14\n",
      "version_control 10\n",
      "content_management 29\n",
      "programming 2\n",
      "visualization 16\n",
      "startup 27\n",
      "ux 133\n",
      "ide 2\n",
      "documentation 114\n",
      "installation 58\n"
     ]
    },
    {
     "data": {
      "text/plain": [
       "1    350\n",
       "0     85\n",
       "2     81\n",
       "3      7\n",
       "4      4\n",
       "Name: themes, dtype: int64"
      ]
     },
     "execution_count": 858,
     "metadata": {},
     "output_type": "execute_result"
    }
   ],
   "source": [
    "tagged = tag_themes(responses, themes)\n",
    "tagged.themes.str.count(',').value_counts()"
   ]
  },
  {
   "cell_type": "code",
   "execution_count": 862,
   "metadata": {
    "collapsed": false
   },
   "outputs": [
    {
     "data": {
      "text/html": [
       "<div>\n",
       "<table border=\"1\" class=\"dataframe\">\n",
       "  <thead>\n",
       "    <tr style=\"text-align: right;\">\n",
       "      <th></th>\n",
       "      <th>0</th>\n",
       "      <th>themes</th>\n",
       "    </tr>\n",
       "  </thead>\n",
       "  <tbody>\n",
       "    <tr>\n",
       "      <th>341</th>\n",
       "      <td>tabs running, cluster, home</td>\n",
       "      <td></td>\n",
       "    </tr>\n",
       "    <tr>\n",
       "      <th>353</th>\n",
       "      <td>better tables</td>\n",
       "      <td></td>\n",
       "    </tr>\n",
       "    <tr>\n",
       "      <th>1695</th>\n",
       "      <td>no variable explorer for large dataframes</td>\n",
       "      <td></td>\n",
       "    </tr>\n",
       "    <tr>\n",
       "      <th>123</th>\n",
       "      <td>boilerplate</td>\n",
       "      <td></td>\n",
       "    </tr>\n",
       "    <tr>\n",
       "      <th>2544</th>\n",
       "      <td>Clear solutions for early gotchas</td>\n",
       "      <td></td>\n",
       "    </tr>\n",
       "    <tr>\n",
       "      <th>1524</th>\n",
       "      <td>All in one instal...very intimidating to run through the gamut</td>\n",
       "      <td></td>\n",
       "    </tr>\n",
       "    <tr>\n",
       "      <th>385</th>\n",
       "      <td>General UI simplification</td>\n",
       "      <td></td>\n",
       "    </tr>\n",
       "    <tr>\n",
       "      <th>1661</th>\n",
       "      <td>The order that cells have been run in is not obvious</td>\n",
       "      <td></td>\n",
       "    </tr>\n",
       "    <tr>\n",
       "      <th>755</th>\n",
       "      <td>re-running blocks</td>\n",
       "      <td></td>\n",
       "    </tr>\n",
       "    <tr>\n",
       "      <th>290</th>\n",
       "      <td>Ability to turn off that annoying bracket autoclose thung</td>\n",
       "      <td></td>\n",
       "    </tr>\n",
       "    <tr>\n",
       "      <th>1083</th>\n",
       "      <td>More clarity on autoload of modules</td>\n",
       "      <td></td>\n",
       "    </tr>\n",
       "    <tr>\n",
       "      <th>309</th>\n",
       "      <td>Vi</td>\n",
       "      <td></td>\n",
       "    </tr>\n",
       "    <tr>\n",
       "      <th>1470</th>\n",
       "      <td>More clarity on profiles, esp related to new behavior vs. old ipython profiles</td>\n",
       "      <td></td>\n",
       "    </tr>\n",
       "    <tr>\n",
       "      <th>561</th>\n",
       "      <td>browser support</td>\n",
       "      <td></td>\n",
       "    </tr>\n",
       "    <tr>\n",
       "      <th>1053</th>\n",
       "      <td>Nothing I can think of</td>\n",
       "      <td></td>\n",
       "    </tr>\n",
       "    <tr>\n",
       "      <th>3753</th>\n",
       "      <td>mardown, html</td>\n",
       "      <td></td>\n",
       "    </tr>\n",
       "    <tr>\n",
       "      <th>2412</th>\n",
       "      <td>Ggplot2</td>\n",
       "      <td></td>\n",
       "    </tr>\n",
       "    <tr>\n",
       "      <th>3431</th>\n",
       "      <td>Code Snippet Clipboard and Exchange</td>\n",
       "      <td></td>\n",
       "    </tr>\n",
       "    <tr>\n",
       "      <th>59</th>\n",
       "      <td>collapsible sections</td>\n",
       "      <td></td>\n",
       "    </tr>\n",
       "    <tr>\n",
       "      <th>1732</th>\n",
       "      <td>Official tools for concatenating/splitting notebooks</td>\n",
       "      <td></td>\n",
       "    </tr>\n",
       "    <tr>\n",
       "      <th>3451</th>\n",
       "      <td>plain text archival format (yaml, etc)</td>\n",
       "      <td></td>\n",
       "    </tr>\n",
       "    <tr>\n",
       "      <th>2789</th>\n",
       "      <td>Magics integrated into / accessible from the GUI</td>\n",
       "      <td></td>\n",
       "    </tr>\n",
       "    <tr>\n",
       "      <th>4936</th>\n",
       "      <td>Ability to load other notebook and their compute envirobments</td>\n",
       "      <td></td>\n",
       "    </tr>\n",
       "    <tr>\n",
       "      <th>773</th>\n",
       "      <td>Some long running processes can stall the notebook (eg lots of print output)</td>\n",
       "      <td></td>\n",
       "    </tr>\n",
       "    <tr>\n",
       "      <th>1323</th>\n",
       "      <td>for people who haven't used a localhost web app before, could be useful to explain what is going on</td>\n",
       "      <td></td>\n",
       "    </tr>\n",
       "    <tr>\n",
       "      <th>399</th>\n",
       "      <td>Nothing, seems the same.</td>\n",
       "      <td></td>\n",
       "    </tr>\n",
       "    <tr>\n",
       "      <th>3449</th>\n",
       "      <td>Easier file structure / just like any other app</td>\n",
       "      <td></td>\n",
       "    </tr>\n",
       "    <tr>\n",
       "      <th>1594</th>\n",
       "      <td>visual indication of variabler already in use</td>\n",
       "      <td></td>\n",
       "    </tr>\n",
       "    <tr>\n",
       "      <th>2997</th>\n",
       "      <td>Error messages can be crytpic</td>\n",
       "      <td></td>\n",
       "    </tr>\n",
       "    <tr>\n",
       "      <th>1882</th>\n",
       "      <td>More of the customization options exposed to an UI</td>\n",
       "      <td></td>\n",
       "    </tr>\n",
       "  </tbody>\n",
       "</table>\n",
       "</div>"
      ],
      "text/plain": [
       "                                                                                                        0  \\\n",
       "341                                                                           tabs running, cluster, home   \n",
       "353                                                                                         better tables   \n",
       "1695                                                            no variable explorer for large dataframes   \n",
       "123                                                                                           boilerplate   \n",
       "2544                                                                    Clear solutions for early gotchas   \n",
       "1524                                       All in one instal...very intimidating to run through the gamut   \n",
       "385                                                                             General UI simplification   \n",
       "1661                                                 The order that cells have been run in is not obvious   \n",
       "755                                                                                     re-running blocks   \n",
       "290                                             Ability to turn off that annoying bracket autoclose thung   \n",
       "1083                                                                  More clarity on autoload of modules   \n",
       "309                                                                                                    Vi   \n",
       "1470                       More clarity on profiles, esp related to new behavior vs. old ipython profiles   \n",
       "561                                                                                       browser support   \n",
       "1053                                                                               Nothing I can think of   \n",
       "3753                                                                                        mardown, html   \n",
       "2412                                                                                              Ggplot2   \n",
       "3431                                                                  Code Snippet Clipboard and Exchange   \n",
       "59                                                                                   collapsible sections   \n",
       "1732                                                 Official tools for concatenating/splitting notebooks   \n",
       "3451                                                               plain text archival format (yaml, etc)   \n",
       "2789                                                     Magics integrated into / accessible from the GUI   \n",
       "4936                                        Ability to load other notebook and their compute envirobments   \n",
       "773                         Some long running processes can stall the notebook (eg lots of print output)    \n",
       "1323  for people who haven't used a localhost web app before, could be useful to explain what is going on   \n",
       "399                                                                              Nothing, seems the same.   \n",
       "3449                                                      Easier file structure / just like any other app   \n",
       "1594                                                        visual indication of variabler already in use   \n",
       "2997                                                                        Error messages can be crytpic   \n",
       "1882                                                   More of the customization options exposed to an UI   \n",
       "\n",
       "     themes  \n",
       "341          \n",
       "353          \n",
       "1695         \n",
       "123          \n",
       "2544         \n",
       "1524         \n",
       "385          \n",
       "1661         \n",
       "755          \n",
       "290          \n",
       "1083         \n",
       "309          \n",
       "1470         \n",
       "561          \n",
       "1053         \n",
       "3753         \n",
       "2412         \n",
       "3431         \n",
       "59           \n",
       "1732         \n",
       "3451         \n",
       "2789         \n",
       "4936         \n",
       "773          \n",
       "1323         \n",
       "399          \n",
       "3449         \n",
       "1594         \n",
       "2997         \n",
       "1882         "
      ]
     },
     "execution_count": 862,
     "metadata": {},
     "output_type": "execute_result"
    }
   ],
   "source": [
    "tagged[tagged.themes.str.len() == 0].sample(30, random_state=rs)"
   ]
  },
  {
   "cell_type": "markdown",
   "metadata": {},
   "source": [
    "## Precision Check\n",
    "\n",
    "I then studied a sample of responses for each theme to see if there major inaccuracies in their application (e.g., string matches that are too fuzzy)."
   ]
  },
  {
   "cell_type": "code",
   "execution_count": 863,
   "metadata": {
    "collapsed": false
   },
   "outputs": [
    {
     "name": "stdout",
     "output_type": "stream",
     "text": [
      "ecosystem 22\n",
      "stability 4\n",
      "hosting 14\n",
      "compatibility 3\n",
      "editor 20\n",
      "multi_user 2\n",
      "save 10\n",
      "collab 3\n",
      "language 30\n",
      "extensions 15\n",
      "other 21\n",
      "export 14\n",
      "version_control 10\n",
      "content_management 29\n",
      "programming 2\n",
      "visualization 16\n",
      "startup 27\n",
      "ux 133\n",
      "ide 2\n",
      "documentation 114\n",
      "installation 58\n"
     ]
    },
    {
     "data": {
      "text/plain": [
       "1    350\n",
       "0     85\n",
       "2     81\n",
       "3      7\n",
       "4      4\n",
       "Name: themes, dtype: int64"
      ]
     },
     "execution_count": 863,
     "metadata": {},
     "output_type": "execute_result"
    }
   ],
   "source": [
    "tagged = tag_themes(responses, themes)\n",
    "tagged.themes.str.count(',').value_counts()"
   ]
  },
  {
   "cell_type": "code",
   "execution_count": 864,
   "metadata": {
    "collapsed": true
   },
   "outputs": [],
   "source": [
    "from IPython.display import display, clear_output"
   ]
  },
  {
   "cell_type": "code",
   "execution_count": 865,
   "metadata": {
    "collapsed": false,
    "scrolled": false
   },
   "outputs": [
    {
     "data": {
      "text/html": [
       "<div>\n",
       "<table border=\"1\" class=\"dataframe\">\n",
       "  <thead>\n",
       "    <tr style=\"text-align: right;\">\n",
       "      <th></th>\n",
       "      <th>0</th>\n",
       "      <th>themes</th>\n",
       "    </tr>\n",
       "  </thead>\n",
       "  <tbody>\n",
       "    <tr>\n",
       "      <th>1124</th>\n",
       "      <td>default notebook file directory</td>\n",
       "      <td>content_management,</td>\n",
       "    </tr>\n",
       "    <tr>\n",
       "      <th>2009</th>\n",
       "      <td>Find and replace</td>\n",
       "      <td>content_management,</td>\n",
       "    </tr>\n",
       "    <tr>\n",
       "      <th>2231</th>\n",
       "      <td>The file browser as the initial view is incredibly confusing.  With no file specified, default should be to a new notebook.</td>\n",
       "      <td>other,content_management,</td>\n",
       "    </tr>\n",
       "    <tr>\n",
       "      <th>3127</th>\n",
       "      <td>replace all feature</td>\n",
       "      <td>content_management,</td>\n",
       "    </tr>\n",
       "    <tr>\n",
       "      <th>1179</th>\n",
       "      <td>Increase the tools to upload notebooks</td>\n",
       "      <td>content_management,</td>\n",
       "    </tr>\n",
       "    <tr>\n",
       "      <th>4820</th>\n",
       "      <td>file upload drag/drop</td>\n",
       "      <td>content_management,ux,</td>\n",
       "    </tr>\n",
       "    <tr>\n",
       "      <th>1366</th>\n",
       "      <td>Better notebook navigation</td>\n",
       "      <td>content_management,</td>\n",
       "    </tr>\n",
       "    <tr>\n",
       "      <th>6</th>\n",
       "      <td>Open from any folder, notebook preview in File Explorer</td>\n",
       "      <td>content_management,</td>\n",
       "    </tr>\n",
       "    <tr>\n",
       "      <th>3114</th>\n",
       "      <td>tagging</td>\n",
       "      <td>content_management,</td>\n",
       "    </tr>\n",
       "    <tr>\n",
       "      <th>2285</th>\n",
       "      <td>autogenerate table of contents</td>\n",
       "      <td>content_management,</td>\n",
       "    </tr>\n",
       "  </tbody>\n",
       "</table>\n",
       "</div>"
      ],
      "text/plain": [
       "                                                                                                                                0  \\\n",
       "1124                                                                                              default notebook file directory   \n",
       "2009                                                                                                             Find and replace   \n",
       "2231  The file browser as the initial view is incredibly confusing.  With no file specified, default should be to a new notebook.   \n",
       "3127                                                                                                          replace all feature   \n",
       "1179                                                                                       Increase the tools to upload notebooks   \n",
       "4820                                                                                                        file upload drag/drop   \n",
       "1366                                                                                                   Better notebook navigation   \n",
       "6                                                                         Open from any folder, notebook preview in File Explorer   \n",
       "3114                                                                                                                      tagging   \n",
       "2285                                                                                               autogenerate table of contents   \n",
       "\n",
       "                         themes  \n",
       "1124        content_management,  \n",
       "2009        content_management,  \n",
       "2231  other,content_management,  \n",
       "3127        content_management,  \n",
       "1179        content_management,  \n",
       "4820     content_management,ux,  \n",
       "1366        content_management,  \n",
       "6           content_management,  \n",
       "3114        content_management,  \n",
       "2285        content_management,  "
      ]
     },
     "metadata": {},
     "output_type": "display_data"
    },
    {
     "name": "stdout",
     "output_type": "stream",
     "text": [
      "Showing `content_management`. Type Enter to continue, \"q\" to stop.q\n"
     ]
    }
   ],
   "source": [
    "for key in themes:\n",
    "    clear_output()\n",
    "    size = min([10, len(tagged[tagged.themes.str.contains(key)])])\n",
    "    display(tagged[tagged.themes.str.contains(key)].sample(size))\n",
    "    if input('Showing `{}`. Type Enter to continue, \"q\" to stop.'.format(key)) == 'q':\n",
    "        break"
   ]
  },
  {
   "cell_type": "markdown",
   "metadata": {},
   "source": [
    "I also looked at responses with multiple themes to fine tune them, and catch duplication of words in multiple themes."
   ]
  },
  {
   "cell_type": "markdown",
   "metadata": {},
   "source": [
    "## Keyword Frequencies"
   ]
  },
  {
   "cell_type": "code",
   "execution_count": 866,
   "metadata": {
    "collapsed": true
   },
   "outputs": [],
   "source": [
    "import matplotlib\n",
    "import seaborn"
   ]
  },
  {
   "cell_type": "code",
   "execution_count": 867,
   "metadata": {
    "collapsed": true
   },
   "outputs": [],
   "source": [
    "counts = {}"
   ]
  },
  {
   "cell_type": "code",
   "execution_count": 868,
   "metadata": {
    "collapsed": false
   },
   "outputs": [],
   "source": [
    "for theme, keywords in themes.items():\n",
    "    for keyword in keywords:\n",
    "        hits = responses.map(lambda text: keywords_or(text, [keyword]))\n",
    "        counts[keyword] = hits.sum()"
   ]
  },
  {
   "cell_type": "code",
   "execution_count": 869,
   "metadata": {
    "collapsed": true
   },
   "outputs": [],
   "source": [
    "hist = pd.Series(counts).sort_values()"
   ]
  },
  {
   "cell_type": "code",
   "execution_count": 870,
   "metadata": {
    "collapsed": false
   },
   "outputs": [
    {
     "data": {
      "image/png": "[encoded data removed]",
      "text/plain": [
       "<matplotlib.figure.Figure at 0x7f774f724908>"
      ]
     },
     "metadata": {},
     "output_type": "display_data"
    }
   ],
   "source": [
    "ax = hist[-30:].plot.barh(figsize=(8, 8))\n",
    "_ = ax.set_xlabel('Mentions')"
   ]
  },
  {
   "cell_type": "code",
   "execution_count": null,
   "metadata": {
    "collapsed": true
   },
   "outputs": [],
   "source": []
  }
 ],
 "metadata": {
  "kernelspec": {
   "display_name": "Python 3",
   "language": "python",
   "name": "python3"
  },
  "language_info": {
   "codemirror_mode": {
    "name": "ipython",
    "version": 3
   },
   "file_extension": ".py",
   "mimetype": "text/x-python",
   "name": "python",
   "nbconvert_exporter": "python",
   "pygments_lexer": "ipython3",
   "version": "3.4.4"
  }
 },
 "nbformat": 4,
 "nbformat_minor": 0
}
