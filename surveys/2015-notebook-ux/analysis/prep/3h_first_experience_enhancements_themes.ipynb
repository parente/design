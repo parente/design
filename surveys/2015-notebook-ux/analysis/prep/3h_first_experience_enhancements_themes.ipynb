{
 "cells": [
  {
   "cell_type": "markdown",
   "metadata": {},
   "source": [
    "# Response Themes for \"Thinking back to when you first started using Jupyter Notebook, what enhancements would have made your initial experience better?\"\n",
    "\n",
    "* Goal: Extract theme keywords from `first_experience_enhancements` responses.\n",
    "* Data: Output from 2_clean_survey.ipynb notebook (`survey_short_columns.csv`)\n",
    "* Process from [1_ux_survey_review.ipynb](1_ux_survey_review.ipynb):\n",
    "\n",
    "> Moving forward, here's a semi-automatic procedure we can follow for identifying themes across questions:\n",
    "> 1. Take a random sample of question responses\n",
    "> 2. Write down common theme keywords\n",
    "> 3. Search back through the responses using the theme keywords\n",
    "> 4. Expand the set of keywords with other words seen in the search results\n",
    "> 5. Repeat for all themes and questions\n",
    "> Later, we can use a fully automated topic modeling approach to validate our manually generated themes."
   ]
  },
  {
   "cell_type": "code",
   "execution_count": 1,
   "metadata": {
    "collapsed": true
   },
   "outputs": [],
   "source": [
    "import warnings\n",
    "warnings.filterwarnings(\"ignore\")"
   ]
  },
  {
   "cell_type": "code",
   "execution_count": 2,
   "metadata": {
    "collapsed": false
   },
   "outputs": [],
   "source": [
    "%matplotlib inline"
   ]
  },
  {
   "cell_type": "code",
   "execution_count": 3,
   "metadata": {
    "collapsed": true
   },
   "outputs": [],
   "source": [
    "import pandas as pd\n",
    "import numpy as np"
   ]
  },
  {
   "cell_type": "markdown",
   "metadata": {},
   "source": [
    "Make sure the samples come up the same for anyone that re-runs this."
   ]
  },
  {
   "cell_type": "code",
   "execution_count": 4,
   "metadata": {
    "collapsed": false
   },
   "outputs": [],
   "source": [
    "rs = np.random.RandomState(123)"
   ]
  },
  {
   "cell_type": "code",
   "execution_count": 5,
   "metadata": {
    "collapsed": true
   },
   "outputs": [],
   "source": [
    "pd.set_option('max_colwidth', 1000)"
   ]
  },
  {
   "cell_type": "code",
   "execution_count": 6,
   "metadata": {
    "collapsed": true
   },
   "outputs": [],
   "source": [
    "df = pd.read_csv('survey_short_columns.csv')"
   ]
  },
  {
   "cell_type": "code",
   "execution_count": 7,
   "metadata": {
    "collapsed": true
   },
   "outputs": [],
   "source": [
    "def show(series):\n",
    "    '''Make random samples easier to read.'''\n",
    "    for i, value in enumerate(series):\n",
    "        print('{}) {}'.format(i, value), end='\\n\\n')"
   ]
  },
  {
   "cell_type": "code",
   "execution_count": 8,
   "metadata": {
    "collapsed": false
   },
   "outputs": [],
   "source": [
    "responses = pd.concat([df.first_experience_enhancements_1, \n",
    "                       df.first_experience_enhancements_2, \n",
    "                       df.first_experience_enhancements_3])"
   ]
  },
  {
   "cell_type": "code",
   "execution_count": 9,
   "metadata": {
    "collapsed": true
   },
   "outputs": [],
   "source": [
    "assert len(responses) == len(df) * 3"
   ]
  },
  {
   "cell_type": "code",
   "execution_count": 10,
   "metadata": {
    "collapsed": false
   },
   "outputs": [
    {
     "data": {
      "text/plain": [
       "True     4591\n",
       "False     527\n",
       "dtype: int64"
      ]
     },
     "execution_count": 10,
     "metadata": {},
     "output_type": "execute_result"
    }
   ],
   "source": [
    "responses.isnull().value_counts()"
   ]
  },
  {
   "cell_type": "code",
   "execution_count": 11,
   "metadata": {
    "collapsed": true
   },
   "outputs": [],
   "source": [
    "responses = responses.dropna()"
   ]
  },
  {
   "cell_type": "markdown",
   "metadata": {},
   "source": [
    "## Initial Samples\n",
    "\n",
    "I ran the sampling code below multiple times and manually built up the initial set of keywords seen commonly across them. I formed groups of conceptually related keywords. Then I tried to assign a simple label to each group."
   ]
  },
  {
   "cell_type": "code",
   "execution_count": 12,
   "metadata": {
    "collapsed": false,
    "scrolled": false
   },
   "outputs": [
    {
     "name": "stdout",
     "output_type": "stream",
     "text": [
      "0) browser interface\n",
      "\n",
      "1) Just like vim, easy to mess things up by typing during command mode\n",
      "\n",
      "2) More guidance about using inline visualisations (e.g. %inline matplotlib)\n",
      "\n",
      "3) Unified documentation, more links from iPython to Jupyter stuff\n",
      "\n",
      "4) Autosave\n",
      "\n",
      "5) an introduction to all the extensions that are out there. I only recently stumbled on some that make the experience a lot better\n",
      "\n",
      "6) Reveal.js integration in nbconvert\n",
      "\n",
      "7) perhaps occasional hints on useful features\n",
      "\n",
      "8) Better UI\n",
      "\n",
      "9) Less stale code in Google search results, although I don't know how jupyter can do anything about \n",
      "\n",
      "10) better interface\n",
      "\n",
      "11) Hotkeys being introduced in the tutorials\n",
      "\n",
      "12) interactive visualization\n",
      "\n",
      "13) Most recent features presented at conference not yet available in debian-available version\n",
      "\n",
      "14) Some long running processes can stall the notebook (eg lots of print output) \n",
      "\n",
      "15) Better Web UI Performance over Internet\n",
      "\n",
      "16) Interactivity\n",
      "\n",
      "17) Easier installation\n",
      "\n",
      "18) several kernels \n",
      "\n",
      "19) BETTER DOCUMENTATION (It was IPython 0.13 or something.)\n",
      "\n"
     ]
    }
   ],
   "source": [
    "show(responses.sample(20, random_state=rs))"
   ]
  },
  {
   "cell_type": "code",
   "execution_count": 13,
   "metadata": {
    "collapsed": false
   },
   "outputs": [],
   "source": [
    "themes = {\n",
    "    'ux': ['drag', 'drag(/|&)drop', 'undo', '(double(\\s|-))?click(ing)?', '(screen|width)', \n",
    "           '(better|modern) (UI|interface)', 'spell(\\s|-)?check(er|ing)?', \n",
    "           '(clear|run) all', 'toggle', \n",
    "           '(style(s|sheets?)?|styling|CSS|themes?|skin|fonts?|colo(u)?rs?)',\n",
    "           '(multi-|multiple\\s)cells?', 'hid(e|den|ing)',\n",
    "           'interface', '(reorder|move|select) cells', 'rendering', 'responsive',\n",
    "           '(menu|buttons?|toolbar|tooltips?|logo|icons?)',\n",
    "           '(auto)?-?sav(e|ing)|checkpoints?', \n",
    "           'stab(le|ility)|crash(es)?', 'collaborat(e|ive|ing)',],\n",
    "    'documentation': ['doc(s|umentation)?($|\\W)', 'tutorial(s?)', 'instructions', 'guides?', 'walk(-|\\s)through',\n",
    "                      'help', 'examples?', 'hints', 'demos?', 'tour', 'introduction', 'use(\\s|-)case', 'roadmap',\n",
    "                      'welcome', ],\n",
    "    'editor': ['vim?($|\\W)|emacs', '(text|code\\s)?edit(or|ing)', 'diffs?($|\\W)', \n",
    "               '(tab|code|auto)-?\\s?complet(e|ion)', \n",
    "               '(hot)?key(\\s|-)?(mappings|bindings|strokes)|short-?cuts|keyboard', \n",
    "               ],\n",
    "    'development': ['debug(ging|er)?', 'namespaces?', ], \n",
    "    'content_management': ['navigat(e|ion|ing)', 'toc|table of contents', 'upload(\\sfiles|notebooks)?', \n",
    "                           '(search|find)(/|&|\\sand\\s)replace', 'replace all', '(project|file|notebook) management',\n",
    "                           'file (brows(er|ing)|explorer|navigator)', 'tagging', '(folders?|director(y|ies))', ],\n",
    "    'installation': ['install(ation)?', 'set(ting)?(\\s)?up', 'configur(e|ation|ing)', 'search', ],\n",
    "    'integration': ['(apache\\s)?spark', 'pandas', '(ana)?conda', 'sympy', 'pylab', '%?matplotlib', 'ggplot2', ],\n",
    "    'language': ['(multi-?)?language', 'python', 'julia', 'R($|\\W)', 'C\\/C', '(more|different) kernels', \n",
    "                 '(several|multiple) kernels', ],\n",
    "    'compatibility': ['compatib(le|ility)', 'versions', ],\n",
    "    'visualization': ['visualization', 'widgets?', 'graphics', ],\n",
    "    'version_control': ['git(hub)?', 'version control', ],\n",
    "    'dissemination': ['export(ing)?', '(nb)?convert', 'slides(hows?)', 'notebook to', 'shar(e|ing)', ],\n",
    "    'hosting': ['virtual(env|\\senvironment)', 'cloud', 'server', 'as service', 'mybinder.org', 'docker',\n",
    "                'multi(ple|-)?\\s?user', 'start', 'launch(ing)?', ],\n",
    "    'extensions': ['extensions?', 'plugins?', ],\n",
    "    'other': ['don\\'t know', 'forg(e|o)t', 'remember', 'confusing', 'terminal', ],\n",
    "}"
   ]
  },
  {
   "cell_type": "markdown",
   "metadata": {},
   "source": [
    "## Coverage Improvement\n",
    "\n",
    "I next ran the code below to associate the theme labels with the responses. I then iterated on running the code below to find reponses without labels. I expanded the list of keywords and themes above in order to improve coverage."
   ]
  },
  {
   "cell_type": "code",
   "execution_count": 14,
   "metadata": {
    "collapsed": true
   },
   "outputs": [],
   "source": [
    "import re"
   ]
  },
  {
   "cell_type": "code",
   "execution_count": 15,
   "metadata": {
    "collapsed": true
   },
   "outputs": [],
   "source": [
    "def keywords_or(text, keywords):\n",
    "    for keyword in keywords:\n",
    "        if re.search('(^|\\W+){}'.format(keyword), text, re.IGNORECASE):\n",
    "            return True\n",
    "    return False"
   ]
  },
  {
   "cell_type": "code",
   "execution_count": 16,
   "metadata": {
    "collapsed": false
   },
   "outputs": [],
   "source": [
    "def tag_themes(responses, themes):\n",
    "    tagged = responses.to_frame()\n",
    "    tagged['themes'] = ''\n",
    "    for theme, keywords in themes.items():\n",
    "        results = responses.map(lambda text: keywords_or(text, keywords))\n",
    "        tagged.loc[results, 'themes'] += theme + ','\n",
    "        print(theme, results.sum())\n",
    "    return tagged"
   ]
  },
  {
   "cell_type": "code",
   "execution_count": 17,
   "metadata": {
    "collapsed": false
   },
   "outputs": [
    {
     "name": "stdout",
     "output_type": "stream",
     "text": [
      "extensions 15\n",
      "documentation 108\n",
      "ux 103\n",
      "language 31\n",
      "development 4\n",
      "compatibility 3\n",
      "dissemination 16\n",
      "integration 34\n",
      "content_management 32\n",
      "other 21\n",
      "version_control 10\n",
      "installation 58\n",
      "hosting 44\n",
      "visualization 16\n",
      "editor 58\n"
     ]
    },
    {
     "data": {
      "text/plain": [
       "1    351\n",
       "2     82\n",
       "0     82\n",
       "3     10\n",
       "4      2\n",
       "Name: themes, dtype: int64"
      ]
     },
     "execution_count": 17,
     "metadata": {},
     "output_type": "execute_result"
    }
   ],
   "source": [
    "tagged = tag_themes(responses, themes)\n",
    "tagged.themes.str.count(',').value_counts()"
   ]
  },
  {
   "cell_type": "code",
   "execution_count": 18,
   "metadata": {
    "collapsed": false
   },
   "outputs": [
    {
     "data": {
      "text/html": [
       "<div>\n",
       "<table border=\"1\" class=\"dataframe\">\n",
       "  <thead>\n",
       "    <tr style=\"text-align: right;\">\n",
       "      <th></th>\n",
       "      <th>0</th>\n",
       "      <th>themes</th>\n",
       "    </tr>\n",
       "  </thead>\n",
       "  <tbody>\n",
       "    <tr>\n",
       "      <th>352</th>\n",
       "      <td>Lack of proper control over jupyter sessions / processes</td>\n",
       "      <td></td>\n",
       "    </tr>\n",
       "    <tr>\n",
       "      <th>534</th>\n",
       "      <td>Breaking long lines of LaTeX output</td>\n",
       "      <td></td>\n",
       "    </tr>\n",
       "    <tr>\n",
       "      <th>780</th>\n",
       "      <td>Easier timing/profiling of functions with pretty GUI line by line highlights.</td>\n",
       "      <td></td>\n",
       "    </tr>\n",
       "    <tr>\n",
       "      <th>1460</th>\n",
       "      <td>Kernels' interactivity</td>\n",
       "      <td></td>\n",
       "    </tr>\n",
       "    <tr>\n",
       "      <th>176</th>\n",
       "      <td>More of the customization options exposed to an UI</td>\n",
       "      <td></td>\n",
       "    </tr>\n",
       "    <tr>\n",
       "      <th>561</th>\n",
       "      <td>browser support</td>\n",
       "      <td></td>\n",
       "    </tr>\n",
       "    <tr>\n",
       "      <th>59</th>\n",
       "      <td>collapsible sections</td>\n",
       "      <td></td>\n",
       "    </tr>\n",
       "    <tr>\n",
       "      <th>268</th>\n",
       "      <td>minimization tools, to sort out notebooks that grew rapidly in size</td>\n",
       "      <td></td>\n",
       "    </tr>\n",
       "    <tr>\n",
       "      <th>341</th>\n",
       "      <td>tabs running, cluster, home</td>\n",
       "      <td></td>\n",
       "    </tr>\n",
       "    <tr>\n",
       "      <th>1083</th>\n",
       "      <td>More clarity on autoload of modules</td>\n",
       "      <td></td>\n",
       "    </tr>\n",
       "    <tr>\n",
       "      <th>1427</th>\n",
       "      <td>the above (variable visibility, memory, copying whole cells</td>\n",
       "      <td></td>\n",
       "    </tr>\n",
       "    <tr>\n",
       "      <th>1495</th>\n",
       "      <td>A lot of material found online still refers to the old days</td>\n",
       "      <td></td>\n",
       "    </tr>\n",
       "    <tr>\n",
       "      <th>316</th>\n",
       "      <td>Thorough comparison with ipython console</td>\n",
       "      <td></td>\n",
       "    </tr>\n",
       "    <tr>\n",
       "      <th>290</th>\n",
       "      <td>Ability to turn off that annoying bracket autoclose thung</td>\n",
       "      <td></td>\n",
       "    </tr>\n",
       "    <tr>\n",
       "      <th>816</th>\n",
       "      <td>2 minute video explaining shift-enter etc..</td>\n",
       "      <td></td>\n",
       "    </tr>\n",
       "    <tr>\n",
       "      <th>262</th>\n",
       "      <td>Someone explaining me what is great about the possible work flows</td>\n",
       "      <td></td>\n",
       "    </tr>\n",
       "    <tr>\n",
       "      <th>37</th>\n",
       "      <td>Being able to open existing code files</td>\n",
       "      <td></td>\n",
       "    </tr>\n",
       "    <tr>\n",
       "      <th>385</th>\n",
       "      <td>General UI simplification</td>\n",
       "      <td></td>\n",
       "    </tr>\n",
       "    <tr>\n",
       "      <th>141</th>\n",
       "      <td>all in all it has been great.</td>\n",
       "      <td></td>\n",
       "    </tr>\n",
       "    <tr>\n",
       "      <th>374</th>\n",
       "      <td>/</td>\n",
       "      <td></td>\n",
       "    </tr>\n",
       "  </tbody>\n",
       "</table>\n",
       "</div>"
      ],
      "text/plain": [
       "                                                                                  0  \\\n",
       "352                        Lack of proper control over jupyter sessions / processes   \n",
       "534                                             Breaking long lines of LaTeX output   \n",
       "780   Easier timing/profiling of functions with pretty GUI line by line highlights.   \n",
       "1460                                                         Kernels' interactivity   \n",
       "176                              More of the customization options exposed to an UI   \n",
       "561                                                                 browser support   \n",
       "59                                                             collapsible sections   \n",
       "268             minimization tools, to sort out notebooks that grew rapidly in size   \n",
       "341                                                     tabs running, cluster, home   \n",
       "1083                                            More clarity on autoload of modules   \n",
       "1427                    the above (variable visibility, memory, copying whole cells   \n",
       "1495                    A lot of material found online still refers to the old days   \n",
       "316                                        Thorough comparison with ipython console   \n",
       "290                       Ability to turn off that annoying bracket autoclose thung   \n",
       "816                                     2 minute video explaining shift-enter etc..   \n",
       "262              Someone explaining me what is great about the possible work flows    \n",
       "37                                          Being able to open existing code files    \n",
       "385                                                       General UI simplification   \n",
       "141                                                   all in all it has been great.   \n",
       "374                                                                               /   \n",
       "\n",
       "     themes  \n",
       "352          \n",
       "534          \n",
       "780          \n",
       "1460         \n",
       "176          \n",
       "561          \n",
       "59           \n",
       "268          \n",
       "341          \n",
       "1083         \n",
       "1427         \n",
       "1495         \n",
       "316          \n",
       "290          \n",
       "816          \n",
       "262          \n",
       "37           \n",
       "385          \n",
       "141          \n",
       "374          "
      ]
     },
     "execution_count": 18,
     "metadata": {},
     "output_type": "execute_result"
    }
   ],
   "source": [
    "tagged[tagged.themes.str.len() == 0].sample(20, random_state=rs)"
   ]
  },
  {
   "cell_type": "markdown",
   "metadata": {},
   "source": [
    "## Precision Check\n",
    "\n",
    "I then studied a sample of responses for each theme to see if there major inaccuracies in their application (e.g., string matches that are too fuzzy)."
   ]
  },
  {
   "cell_type": "code",
   "execution_count": 19,
   "metadata": {
    "collapsed": false
   },
   "outputs": [
    {
     "name": "stdout",
     "output_type": "stream",
     "text": [
      "extensions 15\n",
      "documentation 108\n",
      "ux 103\n",
      "language 31\n",
      "development 4\n",
      "compatibility 3\n",
      "dissemination 16\n",
      "integration 34\n",
      "content_management 32\n",
      "other 21\n",
      "version_control 10\n",
      "installation 58\n",
      "hosting 44\n",
      "visualization 16\n",
      "editor 58\n"
     ]
    },
    {
     "data": {
      "text/plain": [
       "1    351\n",
       "2     82\n",
       "0     82\n",
       "3     10\n",
       "4      2\n",
       "Name: themes, dtype: int64"
      ]
     },
     "execution_count": 19,
     "metadata": {},
     "output_type": "execute_result"
    }
   ],
   "source": [
    "tagged = tag_themes(responses, themes)\n",
    "tagged.themes.str.count(',').value_counts()"
   ]
  },
  {
   "cell_type": "code",
   "execution_count": 20,
   "metadata": {
    "collapsed": true
   },
   "outputs": [],
   "source": [
    "from IPython.display import display, clear_output"
   ]
  },
  {
   "cell_type": "code",
   "execution_count": 21,
   "metadata": {
    "collapsed": false,
    "scrolled": false
   },
   "outputs": [],
   "source": [
    "# for key in themes:\n",
    "#     clear_output()\n",
    "#     size = min([10, len(tagged[tagged.themes.str.contains(key)])])\n",
    "#     display(tagged[tagged.themes.str.contains(key)].sample(size))\n",
    "#     if input('Showing `{}`. Type Enter to continue, \"q\" to stop.'.format(key)) == 'q':\n",
    "#         break"
   ]
  },
  {
   "cell_type": "markdown",
   "metadata": {},
   "source": [
    "I also looked at responses with multiple themes to fine tune them, and catch duplication of words in multiple themes."
   ]
  },
  {
   "cell_type": "markdown",
   "metadata": {},
   "source": [
    "## Keyword Frequencies"
   ]
  },
  {
   "cell_type": "code",
   "execution_count": 22,
   "metadata": {
    "collapsed": true
   },
   "outputs": [],
   "source": [
    "import matplotlib\n",
    "import seaborn"
   ]
  },
  {
   "cell_type": "code",
   "execution_count": 23,
   "metadata": {
    "collapsed": true
   },
   "outputs": [],
   "source": [
    "counts = {}"
   ]
  },
  {
   "cell_type": "code",
   "execution_count": 24,
   "metadata": {
    "collapsed": false
   },
   "outputs": [],
   "source": [
    "for theme, keywords in themes.items():\n",
    "    for keyword in keywords:\n",
    "        hits = responses.map(lambda text: keywords_or(text, [keyword]))\n",
    "        counts[keyword] = hits.sum()"
   ]
  },
  {
   "cell_type": "code",
   "execution_count": 25,
   "metadata": {
    "collapsed": true
   },
   "outputs": [],
   "source": [
    "hist = pd.Series(counts).sort_values()"
   ]
  },
  {
   "cell_type": "code",
   "execution_count": 26,
   "metadata": {
    "collapsed": false
   },
   "outputs": [
    {
     "data": {
      "image/png": "[encoded data removed]",
      "text/plain": [
       "<matplotlib.figure.Figure at 0x7fba3500add8>"
      ]
     },
     "metadata": {},
     "output_type": "display_data"
    }
   ],
   "source": [
    "ax = hist[-30:].plot.barh(figsize=(8, 8))\n",
    "_ = ax.set_xlabel('Mentions')"
   ]
  },
  {
   "cell_type": "markdown",
   "metadata": {
    "collapsed": true
   },
   "source": [
    "## Persist\n",
    "\n",
    "I save off the themes and keywords to a DataFrame with the same index as the original so that the entries can be tagged."
   ]
  },
  {
   "cell_type": "code",
   "execution_count": 27,
   "metadata": {
    "collapsed": true
   },
   "outputs": [],
   "source": [
    "column = 'first_experience_enhancements'"
   ]
  },
  {
   "cell_type": "code",
   "execution_count": 28,
   "metadata": {
    "collapsed": true
   },
   "outputs": [],
   "source": [
    "themes_df = tagged.themes.to_frame()"
   ]
  },
  {
   "cell_type": "code",
   "execution_count": 29,
   "metadata": {
    "collapsed": true
   },
   "outputs": [],
   "source": [
    "themes_df = themes_df.rename(columns={'themes' : column+'_themes'})"
   ]
  },
  {
   "cell_type": "code",
   "execution_count": 30,
   "metadata": {
    "collapsed": true
   },
   "outputs": [],
   "source": [
    "themes_df[column+'_keywords'] = ''"
   ]
  },
  {
   "cell_type": "code",
   "execution_count": 31,
   "metadata": {
    "collapsed": true
   },
   "outputs": [],
   "source": [
    "for theme, keywords in themes.items():\n",
    "    for keyword in keywords:\n",
    "        results = responses.map(lambda text: keywords_or(text, [keyword]))\n",
    "        themes_df.loc[results, column+'_keywords'] += keyword + ','"
   ]
  },
  {
   "cell_type": "code",
   "execution_count": 32,
   "metadata": {
    "collapsed": true
   },
   "outputs": [],
   "source": [
    "themes_df[column+'_themes'] = themes_df[column+'_themes'].str.rstrip(',')\n",
    "themes_df[column+'_keywords'] = themes_df[column+'_keywords'].str.rstrip(',')"
   ]
  },
  {
   "cell_type": "markdown",
   "metadata": {},
   "source": [
    "Up above, I merged the three response fields for the question into one common pool which means we can have duplicate index value in the themes DataFrame. We need to squash these down and remove duplicates."
   ]
  },
  {
   "cell_type": "code",
   "execution_count": 33,
   "metadata": {
    "collapsed": true
   },
   "outputs": [],
   "source": [
    "def union(group_df):\n",
    "    '''Gets the set union of themes and keywords for a given DataFrame.'''\n",
    "    themes = group_df[column+'_themes'].str.cat(sep=',')\n",
    "    themes = list(set(themes.split(',')))\n",
    "    themes = ','.join(theme for theme in themes if theme)\n",
    "    \n",
    "    keywords = group_df[column+'_keywords'].str.cat(sep=',')\n",
    "    keywords = list(set(keywords.split(',')))\n",
    "    keywords = ','.join(keyword for keyword in keywords if keyword)\n",
    "    return pd.Series([themes, keywords], index=[column+'_themes', column+'_keywords'])"
   ]
  },
  {
   "cell_type": "markdown",
   "metadata": {},
   "source": [
    "We group by the index and union the themes and keywords."
   ]
  },
  {
   "cell_type": "code",
   "execution_count": 34,
   "metadata": {
    "collapsed": true
   },
   "outputs": [],
   "source": [
    "themes_df = themes_df.groupby(themes_df.index).apply(union)"
   ]
  },
  {
   "cell_type": "code",
   "execution_count": 35,
   "metadata": {
    "collapsed": false
   },
   "outputs": [
    {
     "data": {
      "text/html": [
       "<div>\n",
       "<table border=\"1\" class=\"dataframe\">\n",
       "  <thead>\n",
       "    <tr style=\"text-align: right;\">\n",
       "      <th></th>\n",
       "      <th>first_experience_enhancements_themes</th>\n",
       "      <th>first_experience_enhancements_keywords</th>\n",
       "    </tr>\n",
       "  </thead>\n",
       "  <tbody>\n",
       "    <tr>\n",
       "      <th>1</th>\n",
       "      <td>documentation,visualization</td>\n",
       "      <td>doc(s|umentation)?($|\\W),widgets?</td>\n",
       "    </tr>\n",
       "    <tr>\n",
       "      <th>6</th>\n",
       "      <td>hosting,ux,content_management</td>\n",
       "      <td>file (brows(er|ing)|explorer|navigator),(folders?|director(y|ies)),(multi-|multiple\\s)cells?,cloud,server</td>\n",
       "    </tr>\n",
       "    <tr>\n",
       "      <th>7</th>\n",
       "      <td>language,installation</td>\n",
       "      <td>set(ting)?(\\s)?up,julia,python,(multi-?)?language,R($|\\W)</td>\n",
       "    </tr>\n",
       "    <tr>\n",
       "      <th>9</th>\n",
       "      <td>documentation</td>\n",
       "      <td>introduction</td>\n",
       "    </tr>\n",
       "    <tr>\n",
       "      <th>17</th>\n",
       "      <td>installation,integration</td>\n",
       "      <td>(ana)?conda,set(ting)?(\\s)?up</td>\n",
       "    </tr>\n",
       "  </tbody>\n",
       "</table>\n",
       "</div>"
      ],
      "text/plain": [
       "   first_experience_enhancements_themes  \\\n",
       "1           documentation,visualization   \n",
       "6         hosting,ux,content_management   \n",
       "7                 language,installation   \n",
       "9                         documentation   \n",
       "17             installation,integration   \n",
       "\n",
       "                                                                       first_experience_enhancements_keywords  \n",
       "1                                                                           doc(s|umentation)?($|\\W),widgets?  \n",
       "6   file (brows(er|ing)|explorer|navigator),(folders?|director(y|ies)),(multi-|multiple\\s)cells?,cloud,server  \n",
       "7                                                   set(ting)?(\\s)?up,julia,python,(multi-?)?language,R($|\\W)  \n",
       "9                                                                                                introduction  \n",
       "17                                                                              (ana)?conda,set(ting)?(\\s)?up  "
      ]
     },
     "execution_count": 35,
     "metadata": {},
     "output_type": "execute_result"
    }
   ],
   "source": [
    "themes_df.head()"
   ]
  },
  {
   "cell_type": "markdown",
   "metadata": {},
   "source": [
    "The themes DataFrame should have as many rows as there are non-null responses in the original DataFrame."
   ]
  },
  {
   "cell_type": "code",
   "execution_count": 36,
   "metadata": {
    "collapsed": true
   },
   "outputs": [],
   "source": [
    "assert len(themes_df) == len(df[[column+'_1', column+'_2', column+'_3']].dropna(how='all'))"
   ]
  },
  {
   "cell_type": "code",
   "execution_count": 37,
   "metadata": {
    "collapsed": true
   },
   "outputs": [],
   "source": [
    "themes_df.to_csv(column + '_themes.csv', sep=';')"
   ]
  },
  {
   "cell_type": "code",
   "execution_count": null,
   "metadata": {
    "collapsed": true
   },
   "outputs": [],
   "source": []
  }
 ],
 "metadata": {
  "kernelspec": {
   "display_name": "Python 3",
   "language": "python",
   "name": "python3"
  },
  "language_info": {
   "codemirror_mode": {
    "name": "ipython",
    "version": 3
   },
   "file_extension": ".py",
   "mimetype": "text/x-python",
   "name": "python",
   "nbconvert_exporter": "python",
   "pygments_lexer": "ipython3",
   "version": "3.4.4"
  }
 },
 "nbformat": 4,
 "nbformat_minor": 0
}
