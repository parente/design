{
 "cells": [
  {
   "cell_type": "markdown",
   "metadata": {},
   "source": [
    "# Response Themes for \"What, if anything, hinders you from making Jupyter Notebook an even more regular part of your workflow?\"\n",
    "\n",
    "* Goal: Extract theme keywords from `hinderances` responses.\n",
    "* Data: Output from 2_clean_survey.ipynb notebook (`survey_short_columns.csv`)\n",
    "* Strawman process from [1_ux_survey_review.ipynb](1_ux_survey_review.ipynb):\n",
    "\n",
    "> Moving forward, here's a semi-automatic procedure we can follow for identifying themes across questions:\n",
    "> 1. Take a random sample of question responses\n",
    "> 2. Write down common theme keywords\n",
    "> 3. Search back through the responses using the theme keywords\n",
    "> 4. Expand the set of keywords with other words seen in the search results\n",
    "> 5. Repeat for all themes and questions\n",
    "> Later, we can use a fully automated topic modeling approach to validate our manually generated themes."
   ]
  },
  {
   "cell_type": "code",
   "execution_count": 1,
   "metadata": {
    "collapsed": false
   },
   "outputs": [],
   "source": [
    "%matplotlib inline"
   ]
  },
  {
   "cell_type": "code",
   "execution_count": 2,
   "metadata": {
    "collapsed": true
   },
   "outputs": [],
   "source": [
    "import pandas as pd\n",
    "import numpy as np"
   ]
  },
  {
   "cell_type": "markdown",
   "metadata": {},
   "source": [
    "Make sure the samples come up the same for anyone that re-runs this."
   ]
  },
  {
   "cell_type": "code",
   "execution_count": 3,
   "metadata": {
    "collapsed": false
   },
   "outputs": [],
   "source": [
    "rs = np.random.RandomState(123)"
   ]
  },
  {
   "cell_type": "code",
   "execution_count": 4,
   "metadata": {
    "collapsed": true
   },
   "outputs": [],
   "source": [
    "pd.set_option('max_colwidth', 1000)"
   ]
  },
  {
   "cell_type": "code",
   "execution_count": 5,
   "metadata": {
    "collapsed": true
   },
   "outputs": [],
   "source": [
    "df = pd.read_csv('survey_short_columns.csv')"
   ]
  },
  {
   "cell_type": "code",
   "execution_count": 6,
   "metadata": {
    "collapsed": true
   },
   "outputs": [],
   "source": [
    "def show(series):\n",
    "    '''Make random samples easier to read.'''\n",
    "    for i, value in enumerate(series):\n",
    "        print('{}) {}'.format(i, value), end='\\n\\n')"
   ]
  },
  {
   "cell_type": "markdown",
   "metadata": {},
   "source": [
    "For later ref, to keep the notebook code generic for other questions."
   ]
  },
  {
   "cell_type": "code",
   "execution_count": 7,
   "metadata": {
    "collapsed": true
   },
   "outputs": [],
   "source": [
    "column = 'hinderances'"
   ]
  },
  {
   "cell_type": "code",
   "execution_count": 8,
   "metadata": {
    "collapsed": true
   },
   "outputs": [],
   "source": [
    "responses = df['hinderances']"
   ]
  },
  {
   "cell_type": "code",
   "execution_count": 9,
   "metadata": {
    "collapsed": false
   },
   "outputs": [
    {
     "data": {
      "text/plain": [
       "True     943\n",
       "False    763\n",
       "Name: hinderances, dtype: int64"
      ]
     },
     "execution_count": 9,
     "metadata": {},
     "output_type": "execute_result"
    }
   ],
   "source": [
    "responses.isnull().value_counts()"
   ]
  },
  {
   "cell_type": "code",
   "execution_count": 10,
   "metadata": {
    "collapsed": true
   },
   "outputs": [],
   "source": [
    "responses = responses.dropna()"
   ]
  },
  {
   "cell_type": "markdown",
   "metadata": {},
   "source": [
    "## Initial Samples\n",
    "\n",
    "I ran the sampling code below 6 times and manually built up the initial set of keywords seen commonly across them. I formed groups of conceptually related keywords. Then I tried to assign a simple label to each group."
   ]
  },
  {
   "cell_type": "code",
   "execution_count": 11,
   "metadata": {
    "collapsed": false,
    "scrolled": false
   },
   "outputs": [
    {
     "name": "stdout",
     "output_type": "stream",
     "text": [
      "0) Jupyter Notebook \"Windows 7+\" experience is inferior to Linux one\n",
      "\n",
      "1) Integration with text editor \n",
      "\n",
      "2) Version control (and, which is related, collaborative version control).\n",
      "\n",
      "3) Doesn't seem to fit with building a large project, prefer IDE\n",
      "\n",
      "4) remembering how to get it setup\n",
      "\n",
      "5) better connections to external DBs, easier interact widgets.\n",
      "\n",
      "6) Primarily use R, Rstudio is better for R.\n",
      "\n",
      "7) * a \"clear and run all\" button to get rid of variable persistence (possible with Kernel > Clear all then run but that's more clicks) * a IPython notebook .app -- it'd be really nice to double click on a notebook and have it open\n",
      "\n",
      "8) School assignments\n",
      "\n",
      "9) In ML, I have a cell output the loss at each epoch or few thousand iterations. This makes the output really long and to go between cells I have to scroll a lot to get past the wall of text I made.\n",
      "\n",
      "10) The notebook workflows are very linear, doing experiments is difficult. Also some source control/diff tool would be really nice.\n",
      "\n",
      "11) - Better editor (more vim-style) - Better nbconvert (Make it easier to write paper in jupyter. Right now I can't even find out how to change the title of the resulting latex document) - Better integration with Git (automatic removal of binary blobs before commiting, Maybe allowing view of diffs within notebook)\n",
      "\n",
      "12) Installation is hard, so it's hard to spread the gospel.\n",
      "\n",
      "13) * non-triviality of sharing of notebooks * exchange, synergy between JupyterHub/server-based versus local/single-user installation * sparse documentation on more advanced features (extensions, configuration, ...)\n",
      "\n",
      "14) Lack of integrated collaboration. Lack of blogging platform based on notebooks.\n",
      "\n",
      "15) Python: difficulty reloading when writing modules Other languages: Stability of other kernels generic: editor clumsiness / browser shortcut conflicts\n",
      "\n",
      "16) Shortcut bindings. I'm most productive in vim, the shortcuts in the notebook just don't feel as fluid. Probably isn't a problem that's solvable, but someone might have a nice solution.\n",
      "\n",
      "17) Lack of ease in publishing work (e.g. generating PDF without code blocks)\n",
      "\n",
      "18) Full undo history, export options\n",
      "\n",
      "19) Number one complaint I have had is the lack of find and replace, autocomplete, and other text-editor style tools. I understand this may not really be the point of jupyter nootbooks, but I find myself cutting code, pasting to a text editor, and pasting back in all the time. In my limited experience (could easily be wrong about this), it doesn't have great integration with virtualenv, so it's a bit of a headache to switch from one env to another and reconfigure jupyter. On the nitpick side, translation of magic commands to equivalent python commands would be amazing when exporting to a .py file. \n",
      "\n"
     ]
    }
   ],
   "source": [
    "show(responses.sample(20, random_state=rs))"
   ]
  },
  {
   "cell_type": "code",
   "execution_count": 12,
   "metadata": {
    "collapsed": false
   },
   "outputs": [],
   "source": [
    "themes = {\n",
    "    'version' : ['version control', 'diff', 'source control', 'git'],\n",
    "    'collab': ['shar(e|ing)', 'collab'],\n",
    "    'development' : ['text editor', 'ide(\\W|$)', 'vim', 'emacs', 'editing',\n",
    "                     'key binding', 'key mapping', 'keyboard', 'shortcuts',\n",
    "                     'debug', 'programming', 'widgets', 'view', 'interact', \n",
    "                     'dataframes', 'ui', 'design', 'linear', 'search', 'theme', \n",
    "                     'collapse',  'organization', 'proliferation', 'cut', \n",
    "                     'merge', 'completion', 'aesthetic', 'scroll'],\n",
    "    'setup' : ['setup', 'desktop', 'install', 'documentation', 'kernels', \n",
    "               'customization', 'windows'],\n",
    "    'integrations' : ['connections', 'db', 'rstudio'],\n",
    "    'language': ['clojure', 'scala', 'c#', 'r(\\W|$)'],\n",
    "    'disseminate' : ['publication', 'export', \n",
    "                     'deploy', 'authoring', 'dashboard', 'latex', 'slides'],\n",
    "    'reuse': ['reuse', 'module', 'cron'],\n",
    "    'robust' : ['stability', 'crash', 'reload', 'bug', 'reliability', \n",
    "                'windows', 'ipad', 'slow', 'performance']\n",
    "}"
   ]
  },
  {
   "cell_type": "markdown",
   "metadata": {},
   "source": [
    "## Coverage Improvement\n",
    "\n",
    "I next ran the code below to associate the theme labels with the responses. I then iterated on running the code below to find reponses without labels. I expanded the list of keywords and themes in order to improve coverage."
   ]
  },
  {
   "cell_type": "code",
   "execution_count": 13,
   "metadata": {
    "collapsed": true
   },
   "outputs": [],
   "source": [
    "import re"
   ]
  },
  {
   "cell_type": "code",
   "execution_count": 14,
   "metadata": {
    "collapsed": true
   },
   "outputs": [],
   "source": [
    "def keywords_or(text, keywords):\n",
    "    for keyword in keywords:\n",
    "        if re.search('(^|\\W+){}'.format(keyword), text, re.IGNORECASE):\n",
    "            return True\n",
    "    return False"
   ]
  },
  {
   "cell_type": "code",
   "execution_count": 15,
   "metadata": {
    "collapsed": false
   },
   "outputs": [],
   "source": [
    "def tag_themes(responses, themes):\n",
    "    tagged = responses.to_frame()\n",
    "    tagged['themes'] = ''\n",
    "    for theme, keywords in themes.items():\n",
    "        results = responses.map(lambda text: keywords_or(text, keywords))\n",
    "        tagged.loc[results, 'themes'] += theme + ','\n",
    "        print(theme, results.sum())\n",
    "    return tagged"
   ]
  },
  {
   "cell_type": "code",
   "execution_count": 16,
   "metadata": {
    "collapsed": false
   },
   "outputs": [
    {
     "name": "stdout",
     "output_type": "stream",
     "text": [
      "disseminate 48\n",
      "robust 44\n",
      "reuse 30\n",
      "integrations 16\n",
      "language 23\n",
      "collab 55\n",
      "version 139\n",
      "setup 89\n",
      "development 275\n"
     ]
    },
    {
     "data": {
      "text/plain": [
       "1    294\n",
       "0    286\n",
       "2    138\n",
       "3     31\n",
       "4     14\n",
       "Name: themes, dtype: int64"
      ]
     },
     "execution_count": 16,
     "metadata": {},
     "output_type": "execute_result"
    }
   ],
   "source": [
    "tagged = tag_themes(responses, themes)\n",
    "tagged.themes.str.count(',').value_counts()"
   ]
  },
  {
   "cell_type": "code",
   "execution_count": 17,
   "metadata": {
    "collapsed": false
   },
   "outputs": [
    {
     "data": {
      "text/html": [
       "<div>\n",
       "<table border=\"1\" class=\"dataframe\">\n",
       "  <thead>\n",
       "    <tr style=\"text-align: right;\">\n",
       "      <th></th>\n",
       "      <th>hinderances</th>\n",
       "      <th>themes</th>\n",
       "    </tr>\n",
       "  </thead>\n",
       "  <tbody>\n",
       "    <tr>\n",
       "      <th>1192</th>\n",
       "      <td>I prefer Juliabox which I don't need to administer and is in the cloud.</td>\n",
       "      <td></td>\n",
       "    </tr>\n",
       "    <tr>\n",
       "      <th>1359</th>\n",
       "      <td>Some things just work more efficiently for me to script directly in Python.</td>\n",
       "      <td></td>\n",
       "    </tr>\n",
       "    <tr>\n",
       "      <th>885</th>\n",
       "      <td>I don't need it more often</td>\n",
       "      <td></td>\n",
       "    </tr>\n",
       "    <tr>\n",
       "      <th>196</th>\n",
       "      <td>I use it for hobby projects and only rarely at work. For scientific hobby prokects I use it extensively.</td>\n",
       "      <td></td>\n",
       "    </tr>\n",
       "    <tr>\n",
       "      <th>1253</th>\n",
       "      <td>I use it heavily to do exploratory data analysis. I conduct trainings often &amp; feel Jupyter is the best way to do it.</td>\n",
       "      <td></td>\n",
       "    </tr>\n",
       "    <tr>\n",
       "      <th>956</th>\n",
       "      <td>Better integration with batch-based computing clusters</td>\n",
       "      <td></td>\n",
       "    </tr>\n",
       "    <tr>\n",
       "      <th>1384</th>\n",
       "      <td>Nothing really, it's already pretty frequent.</td>\n",
       "      <td></td>\n",
       "    </tr>\n",
       "    <tr>\n",
       "      <th>542</th>\n",
       "      <td>The requirement for sequential execution of cells and no concepts of 'modulazation' (call cell x in notebook y) means it is always somewhat cumbersome to use if you are doing anything complicated.   But mostly the reluctance of others to use it.</td>\n",
       "      <td></td>\n",
       "    </tr>\n",
       "    <tr>\n",
       "      <th>824</th>\n",
       "      <td>Multiple checkpoints for notebooks</td>\n",
       "      <td></td>\n",
       "    </tr>\n",
       "    <tr>\n",
       "      <th>1474</th>\n",
       "      <td>Lack of proper equation numbering and referencing  (same for table of contents etc).</td>\n",
       "      <td></td>\n",
       "    </tr>\n",
       "    <tr>\n",
       "      <th>1442</th>\n",
       "      <td>Entering command line code to bring it up.</td>\n",
       "      <td></td>\n",
       "    </tr>\n",
       "    <tr>\n",
       "      <th>54</th>\n",
       "      <td>Nothing</td>\n",
       "      <td></td>\n",
       "    </tr>\n",
       "    <tr>\n",
       "      <th>1421</th>\n",
       "      <td>Hard to write production code, I use it as an exploratory tool</td>\n",
       "      <td></td>\n",
       "    </tr>\n",
       "    <tr>\n",
       "      <th>1090</th>\n",
       "      <td>More time to work on it</td>\n",
       "      <td></td>\n",
       "    </tr>\n",
       "    <tr>\n",
       "      <th>1575</th>\n",
       "      <td>Inability to easily publish to common platforms like wordpress that aren't based around websites generated by code. Still a bit of a hassle to get a remote notebook running well just for personal use (e.g., I don't want to have to generate hashes etc, but for now SSH tunneling is working fine for me). Some less-sexy features missing like copy/pasting multiple cells at once etc.</td>\n",
       "      <td></td>\n",
       "    </tr>\n",
       "    <tr>\n",
       "      <th>1093</th>\n",
       "      <td>Very useful for scientific research.</td>\n",
       "      <td></td>\n",
       "    </tr>\n",
       "    <tr>\n",
       "      <th>322</th>\n",
       "      <td>needs a dedicated cell that behaves like a shell</td>\n",
       "      <td></td>\n",
       "    </tr>\n",
       "    <tr>\n",
       "      <th>1162</th>\n",
       "      <td>No find and replace functionality!</td>\n",
       "      <td></td>\n",
       "    </tr>\n",
       "    <tr>\n",
       "      <th>1179</th>\n",
       "      <td>I need to know it in depth indeed</td>\n",
       "      <td></td>\n",
       "    </tr>\n",
       "    <tr>\n",
       "      <th>1515</th>\n",
       "      <td>Utility of the notebook interface. Cell grouping, folding and other manipulation, 3D graphics in notebook, full paper writing workflow. It is very close to perfect.</td>\n",
       "      <td></td>\n",
       "    </tr>\n",
       "  </tbody>\n",
       "</table>\n",
       "</div>"
      ],
      "text/plain": [
       "                                                                                                                                                                                                                                                                                                                                                                                       hinderances  \\\n",
       "1192                                                                                                                                                                                                                                                                                                                       I prefer Juliabox which I don't need to administer and is in the cloud.   \n",
       "1359                                                                                                                                                                                                                                                                                                                   Some things just work more efficiently for me to script directly in Python.   \n",
       "885                                                                                                                                                                                                                                                                                                                                                                     I don't need it more often   \n",
       "196                                                                                                                                                                                                                                                                                       I use it for hobby projects and only rarely at work. For scientific hobby prokects I use it extensively.   \n",
       "1253                                                                                                                                                                                                                                                                          I use it heavily to do exploratory data analysis. I conduct trainings often & feel Jupyter is the best way to do it.   \n",
       "956                                                                                                                                                                                                                                                                                                                                         Better integration with batch-based computing clusters   \n",
       "1384                                                                                                                                                                                                                                                                                                                                                 Nothing really, it's already pretty frequent.   \n",
       "542                                                                                                                                         The requirement for sequential execution of cells and no concepts of 'modulazation' (call cell x in notebook y) means it is always somewhat cumbersome to use if you are doing anything complicated.   But mostly the reluctance of others to use it.    \n",
       "824                                                                                                                                                                                                                                                                                                                                                             Multiple checkpoints for notebooks   \n",
       "1474                                                                                                                                                                                                                                                                                                         Lack of proper equation numbering and referencing  (same for table of contents etc).    \n",
       "1442                                                                                                                                                                                                                                                                                                                                                   Entering command line code to bring it up.    \n",
       "54                                                                                                                                                                                                                                                                                                                                                                                        Nothing    \n",
       "1421                                                                                                                                                                                                                                                                                                                                Hard to write production code, I use it as an exploratory tool   \n",
       "1090                                                                                                                                                                                                                                                                                                                                                                       More time to work on it   \n",
       "1575  Inability to easily publish to common platforms like wordpress that aren't based around websites generated by code. Still a bit of a hassle to get a remote notebook running well just for personal use (e.g., I don't want to have to generate hashes etc, but for now SSH tunneling is working fine for me). Some less-sexy features missing like copy/pasting multiple cells at once etc.   \n",
       "1093                                                                                                                                                                                                                                                                                                                                                          Very useful for scientific research.   \n",
       "322                                                                                                                                                                                                                                                                                                                                               needs a dedicated cell that behaves like a shell   \n",
       "1162                                                                                                                                                                                                                                                                                                                                                            No find and replace functionality!   \n",
       "1179                                                                                                                                                                                                                                                                                                                                                             I need to know it in depth indeed   \n",
       "1515                                                                                                                                                                                                                          Utility of the notebook interface. Cell grouping, folding and other manipulation, 3D graphics in notebook, full paper writing workflow. It is very close to perfect.   \n",
       "\n",
       "     themes  \n",
       "1192         \n",
       "1359         \n",
       "885          \n",
       "196          \n",
       "1253         \n",
       "956          \n",
       "1384         \n",
       "542          \n",
       "824          \n",
       "1474         \n",
       "1442         \n",
       "54           \n",
       "1421         \n",
       "1090         \n",
       "1575         \n",
       "1093         \n",
       "322          \n",
       "1162         \n",
       "1179         \n",
       "1515         "
      ]
     },
     "execution_count": 17,
     "metadata": {},
     "output_type": "execute_result"
    }
   ],
   "source": [
    "tagged[tagged.themes.str.len() == 0].sample(20, random_state=rs)"
   ]
  },
  {
   "cell_type": "code",
   "execution_count": 18,
   "metadata": {
    "collapsed": false
   },
   "outputs": [],
   "source": [
    "themes = {\n",
    " 'collab': ['concurrent', 'multi-?user', 'shar(e|ing)', 'simultaneous', 'collab'],\n",
    " 'development': ['visualization', 'applications', 'develop', 'design',\n",
    "    'format', 'development', 'polyglot', 'key mapping', 'data creat', 'programming',\n",
    "    'completion', 'variable', 'test', 'proliferation', 'linear', 'literate', 'key binding',\n",
    "    'scroll', 'theme', 'integrat(ing|ion)', 'filing', 'packages', 'parallel',\n",
    "    'view', 'plot', 'vim', 'data entry', 'edit(ing|or)', 'debug', 'ui', 'search',\n",
    "    'organization', 'lint', 'cut', 'browse', 'intellisense', 'spell check',  \n",
    "    'shortcuts', 'ide(\\W|$)', 'diagram', 'script', 'compiler', 'dataframes', 'graphic',\n",
    "    'input', 'complet(e|ion)', 'project', 'merge', 'keyboard', 'branch',\n",
    "    'aesthetic', 'visual', 'collapse', 'widgets', 'emacs', 'interact', 'organi(s|z)',\n",
    "    'refactor', 'workspace', 'notes', 'clutter', 'interface', 'understand'],\n",
    " 'disseminate': ['distribution', 'gui', 'authoring', 'writing', 'story', 'textbook', \n",
    "    'deploy', 'standalone', 'books', 'manuscript', 'paper', 'send', 'web', 'publi(sh|cation)',\n",
    "    'product(ion|i(s|z)ation)', 'app(s|lication)', 'push', 'present', 'export', 'blog', 'embed',\n",
    "    'report', 'pages', 'latex', 'bundle', 'dashboard', 'publication', 'bibliograph',\n",
    "    'citation', 'slides', 'document', 'business', 'documents', 'transition'],\n",
    " 'integrations': ['spark', 'db', 'connections', 'd3', 'rstudio', 'fenics', 'sas', 'conda',\n",
    "    'native', 'pentadactyl', 'sheets', 'in-house', 'django', 'ubuntu', 'excel'],\n",
    " 'language': ['sage', 'c#', 'scala', 'perl', 'clojure', 'haskell', 'sql', 'julia',\n",
    "    'r($|\\W)', 'matlab', 'fortran', 'c\\+\\+', 'r(\\W|$)', 'ruby', 'javascript'],\n",
    " 'reuse': ['modul(e|ar)', 'parameter', 'complicate', 'reuse', 'package', 'cron', 'large',\n",
    "    'schedule', 'maintain', 'serious', 'long', 'automat(e|ing|ion)', 'reus(e|able)', 'portab',\n",
    "    'manag(e|ing)', 'librar(y|ies)', 'repeat', 'reproduc', 'complex', 'clean', 'DRY',\n",
    "    'batch'],\n",
    " 'robust': ['bug', 'reliability', 'performance', 'ipad', 'stability', 'speed', 'slow',\n",
    "    'error', 'windows', 'crash', 'reload'],\n",
    " 'setup': ['hosted', 'startup', 'environ', 'customization', 'documentation', 'install',\n",
    "    'setup', 'customi(s|z)', 'backup', 'kernels', 'storage', 'theme', 'provision', 'config',\n",
    "    'turn-key', 'server', 'cost', 'access', 'mobile', 'desktop', 'windows', 'state'],\n",
    " 'version': ['history', 'hg', 'diff(\\W|$)', 'provenance', 'vcs', 'git', 'tracking', 'version',\n",
    "    'change ?log'],\n",
    " 'external' : ['legacy', 'acceptance', 'compliance', 'adoption', 'habit', 'relevant'\n",
    "    'nobody', 'policy', 'inertia', 'team', 'people', 'colleague'],\n",
    " 'nothing': ['nothing', 'no need']\n",
    "}"
   ]
  },
  {
   "cell_type": "markdown",
   "metadata": {},
   "source": [
    "## Precision Check\n",
    "\n",
    "I then studied a sample of responses for each theme to see if there major inaccuracies in their application (e.g., string matches that are too fuzzy)."
   ]
  },
  {
   "cell_type": "code",
   "execution_count": 19,
   "metadata": {
    "collapsed": false
   },
   "outputs": [
    {
     "name": "stdout",
     "output_type": "stream",
     "text": [
      "external 35\n",
      "disseminate 146\n",
      "nothing 33\n",
      "robust 51\n",
      "reuse 136\n",
      "integrations 43\n",
      "language 58\n",
      "collab 63\n",
      "version 116\n",
      "setup 148\n",
      "development 425\n"
     ]
    },
    {
     "data": {
      "text/plain": [
       "1    308\n",
       "2    220\n",
       "0     94\n",
       "3     88\n",
       "4     31\n",
       "5     14\n",
       "6      8\n",
       "Name: themes, dtype: int64"
      ]
     },
     "execution_count": 19,
     "metadata": {},
     "output_type": "execute_result"
    }
   ],
   "source": [
    "tagged = tag_themes(responses, themes)\n",
    "tagged.themes.str.count(',').value_counts()"
   ]
  },
  {
   "cell_type": "code",
   "execution_count": 20,
   "metadata": {
    "collapsed": true
   },
   "outputs": [],
   "source": [
    "from IPython.display import display, clear_output"
   ]
  },
  {
   "cell_type": "markdown",
   "metadata": {},
   "source": [
    "I've commented out this code so that the notebook re-runs top to bottom without getting stuck at this interactive prompt. Uncomment it if you want to poke through samples of the tagged responses."
   ]
  },
  {
   "cell_type": "code",
   "execution_count": 21,
   "metadata": {
    "collapsed": false,
    "scrolled": false
   },
   "outputs": [],
   "source": [
    "# for key in themes:\n",
    "#     clear_output()\n",
    "#     display(tagged[tagged.themes.str.contains(key)].sample(10))\n",
    "#     if input('Showing `{}`. Type Enter to continue, \"q\" to stop.'.format(key)) == 'q':\n",
    "#         break"
   ]
  },
  {
   "cell_type": "markdown",
   "metadata": {},
   "source": [
    "## Keyword Frequencies"
   ]
  },
  {
   "cell_type": "code",
   "execution_count": 22,
   "metadata": {
    "collapsed": true
   },
   "outputs": [],
   "source": [
    "import matplotlib\n",
    "import seaborn"
   ]
  },
  {
   "cell_type": "code",
   "execution_count": 23,
   "metadata": {
    "collapsed": true
   },
   "outputs": [],
   "source": [
    "counts = {}"
   ]
  },
  {
   "cell_type": "code",
   "execution_count": 24,
   "metadata": {
    "collapsed": false
   },
   "outputs": [],
   "source": [
    "for theme, keywords in themes.items():\n",
    "    for keyword in keywords:\n",
    "        hits = responses.map(lambda text: keywords_or(text, [keyword]))\n",
    "        counts[keyword] = hits.sum()"
   ]
  },
  {
   "cell_type": "code",
   "execution_count": 25,
   "metadata": {
    "collapsed": true
   },
   "outputs": [],
   "source": [
    "hist = pd.Series(counts).sort_values()"
   ]
  },
  {
   "cell_type": "code",
   "execution_count": 26,
   "metadata": {
    "collapsed": false
   },
   "outputs": [
    {
     "data": {
      "image/png": "[encoded data removed]",
      "text/plain": [
       "<matplotlib.figure.Figure at 0x7f399f8ac7f0>"
      ]
     },
     "metadata": {},
     "output_type": "display_data"
    }
   ],
   "source": [
    "ax = hist[-30:].plot.barh(figsize=(8, 8))\n",
    "_ = ax.set_xlabel('Mentions')"
   ]
  },
  {
   "cell_type": "markdown",
   "metadata": {},
   "source": [
    "## Topic Model\n",
    "\n",
    "The manual tagging above is but one way of breaking down the responses into themes. I wanted to try another approach as validation. So I experimented with LSA and clustering to see how they would group responses.\n",
    "\n",
    "After searching over the number of topics and clusters, I do see some themes like \"version control\" and \"text editing\" emerge. With nearly all settings, some large clusters remain that seem to be a grab bag of topics.\n",
    "\n",
    "Prerequisites:\n",
    "\n",
    "* gemsim 0.12.2"
   ]
  },
  {
   "cell_type": "code",
   "execution_count": 27,
   "metadata": {
    "collapsed": false
   },
   "outputs": [],
   "source": [
    "import gensim\n",
    "import string\n",
    "import requests"
   ]
  },
  {
   "cell_type": "code",
   "execution_count": 28,
   "metadata": {
    "collapsed": true
   },
   "outputs": [],
   "source": [
    "texts = gensim.parsing.preprocess_documents(responses)"
   ]
  },
  {
   "cell_type": "code",
   "execution_count": 29,
   "metadata": {
    "collapsed": false
   },
   "outputs": [],
   "source": [
    "dictionary = gensim.corpora.Dictionary(texts)"
   ]
  },
  {
   "cell_type": "code",
   "execution_count": 30,
   "metadata": {
    "collapsed": true
   },
   "outputs": [],
   "source": [
    "corpus = [dictionary.doc2bow(text) for text in texts]"
   ]
  },
  {
   "cell_type": "code",
   "execution_count": 31,
   "metadata": {
    "collapsed": true
   },
   "outputs": [],
   "source": [
    "tfidf = gensim.models.TfidfModel(corpus)"
   ]
  },
  {
   "cell_type": "code",
   "execution_count": 32,
   "metadata": {
    "collapsed": true
   },
   "outputs": [],
   "source": [
    "corpus_tfidf = tfidf[corpus]"
   ]
  },
  {
   "cell_type": "code",
   "execution_count": 33,
   "metadata": {
    "collapsed": true
   },
   "outputs": [],
   "source": [
    "import sklearn.datasets\n",
    "import sklearn.metrics as metrics\n",
    "from sklearn.cluster import KMeans, DBSCAN\n",
    "from gensim.matutils import corpus2csc"
   ]
  },
  {
   "cell_type": "markdown",
   "metadata": {},
   "source": [
    "I informally experimented with the topic and cluster counts for quite some time, looking at the inertia graph and the resulting cluster sizes."
   ]
  },
  {
   "cell_type": "code",
   "execution_count": 34,
   "metadata": {
    "collapsed": true
   },
   "outputs": [],
   "source": [
    "# set the number of clusters, must be >=1\n",
    "topics_n = 10\n",
    "clusters_n = 10"
   ]
  },
  {
   "cell_type": "code",
   "execution_count": 35,
   "metadata": {
    "collapsed": true
   },
   "outputs": [],
   "source": [
    "import matplotlib.pyplot as plt\n",
    "import math"
   ]
  },
  {
   "cell_type": "code",
   "execution_count": 36,
   "metadata": {
    "collapsed": false,
    "scrolled": false
   },
   "outputs": [
    {
     "data": {
      "image/png": "[encoded data removed]",
      "text/plain": [
       "<matplotlib.figure.Figure at 0x7f397166b438>"
      ]
     },
     "metadata": {},
     "output_type": "display_data"
    }
   ],
   "source": [
    "fig, axes = plt.subplots(math.ceil(topics_n / 5), 5, sharex=True, sharey=True, figsize=(14, 5))\n",
    "\n",
    "for t in range(1, topics_n+1):\n",
    "    inertia = [np.NaN]\n",
    "    lsi = gensim.models.LsiModel(corpus_tfidf, id2word=dictionary, num_topics=t)\n",
    "    corpus_lsi = lsi[corpus_tfidf]\n",
    "    X = corpus2csc(corpus_lsi).transpose()\n",
    "    \n",
    "    for k in range(1,clusters_n+1):\n",
    "        k_means = KMeans(n_clusters=k)\n",
    "        k_means.fit(X)\n",
    "#         print('k = %d, inertia= %f' % (k, k_means.inertia_ ))\n",
    "        inertia.append(k_means.inertia_)\n",
    "\n",
    "    ax = axes[(t-1) // 5][(t-1) % 5]\n",
    "    ax.plot(inertia, '-o')\n",
    "    ax.set_xticks(range(clusters_n))\n",
    "    ax.set_title('t=%d' % t)\n",
    "#     ax.set_ylabel('Inertia')\n",
    "    ax.set_xlabel('# Clusters')"
   ]
  },
  {
   "cell_type": "markdown",
   "metadata": {},
   "source": [
    "Here's 4 topics, 10 clusters."
   ]
  },
  {
   "cell_type": "code",
   "execution_count": 37,
   "metadata": {
    "collapsed": false
   },
   "outputs": [
    {
     "data": {
      "text/plain": [
       "KMeans(copy_x=True, init='k-means++', max_iter=300, n_clusters=10, n_init=10,\n",
       "    n_jobs=1, precompute_distances='auto',\n",
       "    random_state=<mtrand.RandomState object at 0x7f39709edb70>, tol=0.0001,\n",
       "    verbose=0)"
      ]
     },
     "execution_count": 37,
     "metadata": {},
     "output_type": "execute_result"
    }
   ],
   "source": [
    "lsi = gensim.models.LsiModel(corpus_tfidf, id2word=dictionary, num_topics=4)\n",
    "corpus_lsi = lsi[corpus_tfidf]\n",
    "X = corpus2csc(corpus_lsi).transpose()\n",
    "k_means = KMeans(n_clusters=10, random_state=np.random.RandomState(123))\n",
    "k_means.fit(X)"
   ]
  },
  {
   "cell_type": "code",
   "execution_count": 38,
   "metadata": {
    "collapsed": false
   },
   "outputs": [
    {
     "data": {
      "text/plain": [
       "7    285\n",
       "4    138\n",
       "8    108\n",
       "1     83\n",
       "0     61\n",
       "3     29\n",
       "9     19\n",
       "6     15\n",
       "5     13\n",
       "2     12\n",
       "dtype: int64"
      ]
     },
     "execution_count": 38,
     "metadata": {},
     "output_type": "execute_result"
    }
   ],
   "source": [
    "clusters = pd.Series(k_means.labels_, index=responses.index)\n",
    "clusters.value_counts()"
   ]
  },
  {
   "cell_type": "code",
   "execution_count": 39,
   "metadata": {
    "collapsed": false
   },
   "outputs": [],
   "source": [
    "tagged['cluster'] = clusters"
   ]
  },
  {
   "cell_type": "markdown",
   "metadata": {},
   "source": [
    "Cluster 8 is about IDEs and development environments, for example."
   ]
  },
  {
   "cell_type": "code",
   "execution_count": 40,
   "metadata": {
    "collapsed": false,
    "scrolled": false
   },
   "outputs": [
    {
     "data": {
      "text/html": [
       "<div>\n",
       "<table border=\"1\" class=\"dataframe\">\n",
       "  <thead>\n",
       "    <tr style=\"text-align: right;\">\n",
       "      <th></th>\n",
       "      <th>hinderances</th>\n",
       "      <th>themes</th>\n",
       "      <th>cluster</th>\n",
       "    </tr>\n",
       "  </thead>\n",
       "  <tbody>\n",
       "    <tr>\n",
       "      <th>8</th>\n",
       "      <td>Mainly two missing features: 1. Collapsable sections 2. Multi-cell selection / copy-cut-paste</td>\n",
       "      <td>development,</td>\n",
       "      <td>8</td>\n",
       "    </tr>\n",
       "    <tr>\n",
       "      <th>16</th>\n",
       "      <td>It is very easy to do exploratory computing, but not so easy to persist results. I work in computational quantum physics, and in my \"old\" workflows, e.g., with Fortran codes, the computation and analysis were usually well-separated: The results from (potentially long-running) simulations were saved as text files, and then analyzed/plotted with, e.g., gnuplot.  Jupyter Notebook makes this more convenient by allowing me combine simulation and analysis in a single notebook without the intermediate step of saving text files and reading the data again. However, this also makes it much easier to \"lose\" results that only ever existed as data, but were not written to files. Going back to writing text files for all of the possibly interesting output would be a step back regarding the interactivity, so an easy way to save program state or something similar would be great. I realize this is not directly within the scope of the Jupyter Notebook, as it corresponds to a general persistence solut...</td>\n",
       "      <td>disseminate,reuse,language,setup,development,</td>\n",
       "      <td>8</td>\n",
       "    </tr>\n",
       "    <tr>\n",
       "      <th>22</th>\n",
       "      <td>Poor experience opening notebooks in arbitrary locations, e.g., not in the /home tree, as there's no \"double-click file to start jupyter notebook\" feature (yet, I'm hoping)</td>\n",
       "      <td></td>\n",
       "      <td>8</td>\n",
       "    </tr>\n",
       "    <tr>\n",
       "      <th>48</th>\n",
       "      <td>Ability to easily move library code from notebooks to modules.</td>\n",
       "      <td>reuse,</td>\n",
       "      <td>8</td>\n",
       "    </tr>\n",
       "    <tr>\n",
       "      <th>53</th>\n",
       "      <td>\"cognitive load\" of having too many steps: start \"ipython notebook\" (in a particular directory, which then almost uselessly takes over that terminal session), find the right notebook, start it up. I imagine that for most users the server is usually irrelevant. Why can't I just open/start a notebook?  (Note on Q3, below: do you really mean \"Jupyter notebook\" only, or \"ipython\", too? I am answering for the latter.</td>\n",
       "      <td>setup,</td>\n",
       "      <td>8</td>\n",
       "    </tr>\n",
       "    <tr>\n",
       "      <th>63</th>\n",
       "      <td>Awkwardness in use cf. regular desktop editors - e.g. basic shortcuts for running a cell and making a new one vs. making a markdown one  Difficulty with installing (vast majority of) add-ons etc, no standardised way just getting off repos on GitHub and debugging the frequent errors (e.g. recently had to look in issues log of repo for how to install nbextensions properly when readme didnt guide right; rpy2 update changed the guidance on how to install and did not work so after a few hours I gave up trying to get R inside Python kernel NB; xonsh kernel did not work with the latest Jupyter version). I really like Jupyter and do my best to contribute with these issues when they come up but it feels rather in development still (which is totally fine but not great for my productivity)  ...also the fact that I'm fairly new to using Jupyter NBs probably holds me back :-)</td>\n",
       "      <td>disseminate,robust,language,version,setup,development,</td>\n",
       "      <td>8</td>\n",
       "    </tr>\n",
       "    <tr>\n",
       "      <th>72</th>\n",
       "      <td>I use the notebook for prototyping python code. I would love the ability to live-edit a module in one cell and interact with it in others.</td>\n",
       "      <td>reuse,development,</td>\n",
       "      <td>8</td>\n",
       "    </tr>\n",
       "    <tr>\n",
       "      <th>81</th>\n",
       "      <td>The one dimensional interface.  It seems designed to be a single document rather than an complete interface. If you think about other powerful and ubiquitous software platforms, like Adobe Illustrator or Matlab, they often are designed around panels that expose useful information or interaction.  For example, an editor, variable browser, command line, etc.  I wish there were also multiple views within the Jupyter Notebook.</td>\n",
       "      <td>disseminate,language,development,</td>\n",
       "      <td>8</td>\n",
       "    </tr>\n",
       "    <tr>\n",
       "      <th>96</th>\n",
       "      <td>already a part of my workflow. Being able to convert from notebook to script is very important but I wish I could just run my notebook in production mode.</td>\n",
       "      <td>disseminate,development,</td>\n",
       "      <td>8</td>\n",
       "    </tr>\n",
       "    <tr>\n",
       "      <th>126</th>\n",
       "      <td>Lack of a project view, inter-notebook copy/pasting of cells.  Not being able to export a Notebook removing code cells but leaving outputs.</td>\n",
       "      <td>disseminate,development,</td>\n",
       "      <td>8</td>\n",
       "    </tr>\n",
       "  </tbody>\n",
       "</table>\n",
       "</div>"
      ],
      "text/plain": [
       "                                                                                                                                                                                                                                                                                                                                                                                                                                                                                                                                                                                                                                                                                                                                                                                                                                                                                                                                                                                                                                 hinderances  \\\n",
       "8                                                                                                                                                                                                                                                                                                                                                                                                                                                                                                                                                                                                                                                                                                                                                                                                                                                                                                                                              Mainly two missing features: 1. Collapsable sections 2. Multi-cell selection / copy-cut-paste   \n",
       "16   It is very easy to do exploratory computing, but not so easy to persist results. I work in computational quantum physics, and in my \"old\" workflows, e.g., with Fortran codes, the computation and analysis were usually well-separated: The results from (potentially long-running) simulations were saved as text files, and then analyzed/plotted with, e.g., gnuplot.  Jupyter Notebook makes this more convenient by allowing me combine simulation and analysis in a single notebook without the intermediate step of saving text files and reading the data again. However, this also makes it much easier to \"lose\" results that only ever existed as data, but were not written to files. Going back to writing text files for all of the possibly interesting output would be a step back regarding the interactivity, so an easy way to save program state or something similar would be great. I realize this is not directly within the scope of the Jupyter Notebook, as it corresponds to a general persistence solut...   \n",
       "22                                                                                                                                                                                                                                                                                                                                                                                                                                                                                                                                                                                                                                                                                                                                                                                                                                                              Poor experience opening notebooks in arbitrary locations, e.g., not in the /home tree, as there's no \"double-click file to start jupyter notebook\" feature (yet, I'm hoping)   \n",
       "48                                                                                                                                                                                                                                                                                                                                                                                                                                                                                                                                                                                                                                                                                                                                                                                                                                                                                                                                                                            Ability to easily move library code from notebooks to modules.   \n",
       "53                                                                                                                                                                                                                                                                                                                                                                                                                                                                                                                                                                                                           \"cognitive load\" of having too many steps: start \"ipython notebook\" (in a particular directory, which then almost uselessly takes over that terminal session), find the right notebook, start it up. I imagine that for most users the server is usually irrelevant. Why can't I just open/start a notebook?  (Note on Q3, below: do you really mean \"Jupyter notebook\" only, or \"ipython\", too? I am answering for the latter.   \n",
       "63                                                                                                                               Awkwardness in use cf. regular desktop editors - e.g. basic shortcuts for running a cell and making a new one vs. making a markdown one  Difficulty with installing (vast majority of) add-ons etc, no standardised way just getting off repos on GitHub and debugging the frequent errors (e.g. recently had to look in issues log of repo for how to install nbextensions properly when readme didnt guide right; rpy2 update changed the guidance on how to install and did not work so after a few hours I gave up trying to get R inside Python kernel NB; xonsh kernel did not work with the latest Jupyter version). I really like Jupyter and do my best to contribute with these issues when they come up but it feels rather in development still (which is totally fine but not great for my productivity)  ...also the fact that I'm fairly new to using Jupyter NBs probably holds me back :-)   \n",
       "72                                                                                                                                                                                                                                                                                                                                                                                                                                                                                                                                                                                                                                                                                                                                                                                                                                                                                                I use the notebook for prototyping python code. I would love the ability to live-edit a module in one cell and interact with it in others.   \n",
       "81                                                                                                                                                                                                                                                                                                                                                                                                                                                                                                                                                                                                The one dimensional interface.  It seems designed to be a single document rather than an complete interface. If you think about other powerful and ubiquitous software platforms, like Adobe Illustrator or Matlab, they often are designed around panels that expose useful information or interaction.  For example, an editor, variable browser, command line, etc.  I wish there were also multiple views within the Jupyter Notebook.   \n",
       "96                                                                                                                                                                                                                                                                                                                                                                                                                                                                                                                                                                                                                                                                                                                                                                                                                                                                                already a part of my workflow. Being able to convert from notebook to script is very important but I wish I could just run my notebook in production mode.   \n",
       "126                                                                                                                                                                                                                                                                                                                                                                                                                                                                                                                                                                                                                                                                                                                                                                                                                                                                                              Lack of a project view, inter-notebook copy/pasting of cells.  Not being able to export a Notebook removing code cells but leaving outputs.   \n",
       "\n",
       "                                                     themes  cluster  \n",
       "8                                              development,        8  \n",
       "16            disseminate,reuse,language,setup,development,        8  \n",
       "22                                                                 8  \n",
       "48                                                   reuse,        8  \n",
       "53                                                   setup,        8  \n",
       "63   disseminate,robust,language,version,setup,development,        8  \n",
       "72                                       reuse,development,        8  \n",
       "81                        disseminate,language,development,        8  \n",
       "96                                 disseminate,development,        8  \n",
       "126                                disseminate,development,        8  "
      ]
     },
     "execution_count": 40,
     "metadata": {},
     "output_type": "execute_result"
    }
   ],
   "source": [
    "tagged[tagged.cluster == 8].head(10)"
   ]
  },
  {
   "cell_type": "markdown",
   "metadata": {},
   "source": [
    "Clusters 4 and 9 are about version control."
   ]
  },
  {
   "cell_type": "code",
   "execution_count": 41,
   "metadata": {
    "collapsed": false
   },
   "outputs": [
    {
     "data": {
      "text/html": [
       "<div>\n",
       "<table border=\"1\" class=\"dataframe\">\n",
       "  <thead>\n",
       "    <tr style=\"text-align: right;\">\n",
       "      <th></th>\n",
       "      <th>hinderances</th>\n",
       "      <th>themes</th>\n",
       "      <th>cluster</th>\n",
       "    </tr>\n",
       "  </thead>\n",
       "  <tbody>\n",
       "    <tr>\n",
       "      <th>14</th>\n",
       "      <td>git integration</td>\n",
       "      <td>version,development,</td>\n",
       "      <td>9</td>\n",
       "    </tr>\n",
       "    <tr>\n",
       "      <th>101</th>\n",
       "      <td>Integration with version control and production code</td>\n",
       "      <td>disseminate,version,development,</td>\n",
       "      <td>9</td>\n",
       "    </tr>\n",
       "    <tr>\n",
       "      <th>143</th>\n",
       "      <td>I strongly use version control, and the workflow of using the notebook with version control is odd.</td>\n",
       "      <td>version,</td>\n",
       "      <td>9</td>\n",
       "    </tr>\n",
       "    <tr>\n",
       "      <th>238</th>\n",
       "      <td>Integration in version control (git).</td>\n",
       "      <td>version,development,</td>\n",
       "      <td>9</td>\n",
       "    </tr>\n",
       "    <tr>\n",
       "      <th>245</th>\n",
       "      <td>Easy integration with git</td>\n",
       "      <td>version,development,</td>\n",
       "      <td>9</td>\n",
       "    </tr>\n",
       "    <tr>\n",
       "      <th>370</th>\n",
       "      <td>Fiddly version control integration</td>\n",
       "      <td>version,development,</td>\n",
       "      <td>9</td>\n",
       "    </tr>\n",
       "    <tr>\n",
       "      <th>540</th>\n",
       "      <td>A missing  version control system</td>\n",
       "      <td>version,</td>\n",
       "      <td>9</td>\n",
       "    </tr>\n",
       "    <tr>\n",
       "      <th>1026</th>\n",
       "      <td>Good Git integration.</td>\n",
       "      <td>version,development,</td>\n",
       "      <td>9</td>\n",
       "    </tr>\n",
       "    <tr>\n",
       "      <th>1048</th>\n",
       "      <td>Version control (and, which is related, collaborative version control).</td>\n",
       "      <td>collab,version,</td>\n",
       "      <td>9</td>\n",
       "    </tr>\n",
       "    <tr>\n",
       "      <th>1342</th>\n",
       "      <td>The lack of version control (tracking changes using git does not work well) My own knowledge about how to use functions in other notebooks, etc.</td>\n",
       "      <td>version,</td>\n",
       "      <td>9</td>\n",
       "    </tr>\n",
       "  </tbody>\n",
       "</table>\n",
       "</div>"
      ],
      "text/plain": [
       "                                                                                                                                           hinderances  \\\n",
       "14                                                                                                                                     git integration   \n",
       "101                                                                                               Integration with version control and production code   \n",
       "143                                                I strongly use version control, and the workflow of using the notebook with version control is odd.   \n",
       "238                                                                                                             Integration in version control (git).    \n",
       "245                                                                                                                          Easy integration with git   \n",
       "370                                                                                                                Fiddly version control integration    \n",
       "540                                                                                                                  A missing  version control system   \n",
       "1026                                                                                                                             Good Git integration.   \n",
       "1048                                                                           Version control (and, which is related, collaborative version control).   \n",
       "1342  The lack of version control (tracking changes using git does not work well) My own knowledge about how to use functions in other notebooks, etc.   \n",
       "\n",
       "                                themes  cluster  \n",
       "14                version,development,        9  \n",
       "101   disseminate,version,development,        9  \n",
       "143                           version,        9  \n",
       "238               version,development,        9  \n",
       "245               version,development,        9  \n",
       "370               version,development,        9  \n",
       "540                           version,        9  \n",
       "1026              version,development,        9  \n",
       "1048                   collab,version,        9  \n",
       "1342                          version,        9  "
      ]
     },
     "execution_count": 41,
     "metadata": {},
     "output_type": "execute_result"
    }
   ],
   "source": [
    "tagged[tagged.cluster == 9].head(10)"
   ]
  },
  {
   "cell_type": "markdown",
   "metadata": {},
   "source": [
    "Cluster 5, the largest cluster, does not have a single, clear topic."
   ]
  },
  {
   "cell_type": "code",
   "execution_count": 42,
   "metadata": {
    "collapsed": false
   },
   "outputs": [
    {
     "data": {
      "text/html": [
       "<div>\n",
       "<table border=\"1\" class=\"dataframe\">\n",
       "  <thead>\n",
       "    <tr style=\"text-align: right;\">\n",
       "      <th></th>\n",
       "      <th>hinderances</th>\n",
       "      <th>themes</th>\n",
       "      <th>cluster</th>\n",
       "    </tr>\n",
       "  </thead>\n",
       "  <tbody>\n",
       "    <tr>\n",
       "      <th>11</th>\n",
       "      <td>Browser becomes unresponsive when I start a too intensive computation.  Poor integration with my preferred code editors (pycharm or vim).</td>\n",
       "      <td>development,</td>\n",
       "      <td>1</td>\n",
       "    </tr>\n",
       "    <tr>\n",
       "      <th>23</th>\n",
       "      <td>IDE capabilities: debugging UI, refactorings,...</td>\n",
       "      <td>development,</td>\n",
       "      <td>1</td>\n",
       "    </tr>\n",
       "    <tr>\n",
       "      <th>37</th>\n",
       "      <td>I want Jupyter to act like a normal text editor app in which I can easily open files, without the hassle of starting it from the console in the right place. Simple double click opening for all ipynbs please</td>\n",
       "      <td>development,</td>\n",
       "      <td>1</td>\n",
       "    </tr>\n",
       "    <tr>\n",
       "      <th>43</th>\n",
       "      <td>Give notebooks more editors/ide functionnality: easier file browsing, editing, serach and replace...</td>\n",
       "      <td>development,</td>\n",
       "      <td>1</td>\n",
       "    </tr>\n",
       "    <tr>\n",
       "      <th>52</th>\n",
       "      <td>Code editing is inferior to IDEs</td>\n",
       "      <td>development,</td>\n",
       "      <td>1</td>\n",
       "    </tr>\n",
       "    <tr>\n",
       "      <th>119</th>\n",
       "      <td>I prefer developing in a full IDE, like PyCharm.</td>\n",
       "      <td>development,</td>\n",
       "      <td>1</td>\n",
       "    </tr>\n",
       "    <tr>\n",
       "      <th>123</th>\n",
       "      <td>It doesn't work well with standard version control tools because one line of code doesn't correspond to one line in the notebook file  It throws away 30 years of text editor development by replacing a real editor like vim or emacs with a HTML text area.</td>\n",
       "      <td>version,development,</td>\n",
       "      <td>1</td>\n",
       "    </tr>\n",
       "    <tr>\n",
       "      <th>128</th>\n",
       "      <td>Number one complaint I have had is the lack of find and replace, autocomplete, and other text-editor style tools. I understand this may not really be the point of jupyter nootbooks, but I find myself cutting code, pasting to a text editor, and pasting back in all the time. In my limited experience (could easily be wrong about this), it doesn't have great integration with virtualenv, so it's a bit of a headache to switch from one env to another and reconfigure jupyter. On the nitpick side, translation of magic commands to equivalent python commands would be amazing when exporting to a .py file.</td>\n",
       "      <td>disseminate,development,</td>\n",
       "      <td>1</td>\n",
       "    </tr>\n",
       "    <tr>\n",
       "      <th>134</th>\n",
       "      <td>I prefer to use a real editor (vim, emacs) and a terminal for my Python scripts, not small boxes.</td>\n",
       "      <td>development,</td>\n",
       "      <td>1</td>\n",
       "    </tr>\n",
       "    <tr>\n",
       "      <th>142</th>\n",
       "      <td>moving between coding snippets in the notebook to making changes in another editor/ide.</td>\n",
       "      <td>development,</td>\n",
       "      <td>1</td>\n",
       "    </tr>\n",
       "  </tbody>\n",
       "</table>\n",
       "</div>"
      ],
      "text/plain": [
       "                                                                                                                                                                                                                                                                                                                                                                                                                                                                                                                                                                                                                   hinderances  \\\n",
       "11                                                                                                                                                                                                                                                                                                                                                                                                                                                                                 Browser becomes unresponsive when I start a too intensive computation.  Poor integration with my preferred code editors (pycharm or vim).     \n",
       "23                                                                                                                                                                                                                                                                                                                                                                                                                                                                                                                                                                            IDE capabilities: debugging UI, refactorings,...   \n",
       "37                                                                                                                                                                                                                                                                                                                                                                                                             I want Jupyter to act like a normal text editor app in which I can easily open files, without the hassle of starting it from the console in the right place. Simple double click opening for all ipynbs please    \n",
       "43                                                                                                                                                                                                                                                                                                                                                                                                                                                                                                                        Give notebooks more editors/ide functionnality: easier file browsing, editing, serach and replace...   \n",
       "52                                                                                                                                                                                                                                                                                                                                                                                                                                                                                                                                                                                            Code editing is inferior to IDEs   \n",
       "119                                                                                                                                                                                                                                                                                                                                                                                                                                                                                                                                                                           I prefer developing in a full IDE, like PyCharm.   \n",
       "123                                                                                                                                                                                                                                                                                                                                                              It doesn't work well with standard version control tools because one line of code doesn't correspond to one line in the notebook file  It throws away 30 years of text editor development by replacing a real editor like vim or emacs with a HTML text area.   \n",
       "128  Number one complaint I have had is the lack of find and replace, autocomplete, and other text-editor style tools. I understand this may not really be the point of jupyter nootbooks, but I find myself cutting code, pasting to a text editor, and pasting back in all the time. In my limited experience (could easily be wrong about this), it doesn't have great integration with virtualenv, so it's a bit of a headache to switch from one env to another and reconfigure jupyter. On the nitpick side, translation of magic commands to equivalent python commands would be amazing when exporting to a .py file.    \n",
       "134                                                                                                                                                                                                                                                                                                                                                                                                                                                                                                                          I prefer to use a real editor (vim, emacs) and a terminal for my Python scripts, not small boxes.   \n",
       "142                                                                                                                                                                                                                                                                                                                                                                                                                                                                                                                                   moving between coding snippets in the notebook to making changes in another editor/ide.    \n",
       "\n",
       "                       themes  cluster  \n",
       "11               development,        1  \n",
       "23               development,        1  \n",
       "37               development,        1  \n",
       "43               development,        1  \n",
       "52               development,        1  \n",
       "119              development,        1  \n",
       "123      version,development,        1  \n",
       "128  disseminate,development,        1  \n",
       "134              development,        1  \n",
       "142              development,        1  "
      ]
     },
     "execution_count": 42,
     "metadata": {},
     "output_type": "execute_result"
    }
   ],
   "source": [
    "tagged[tagged.cluster == 1].head(10)"
   ]
  },
  {
   "cell_type": "markdown",
   "metadata": {},
   "source": [
    "## Persist\n",
    "\n",
    "I save off the themes and keywords to a DataFrame with the same index as the original so that the entries can be tagged."
   ]
  },
  {
   "cell_type": "code",
   "execution_count": 43,
   "metadata": {
    "collapsed": false
   },
   "outputs": [],
   "source": [
    "themes_df = tagged.themes.to_frame()"
   ]
  },
  {
   "cell_type": "code",
   "execution_count": 44,
   "metadata": {
    "collapsed": false
   },
   "outputs": [],
   "source": [
    "themes_df = themes_df.rename(columns={'themes' : column+'_themes'})"
   ]
  },
  {
   "cell_type": "code",
   "execution_count": 45,
   "metadata": {
    "collapsed": true
   },
   "outputs": [],
   "source": [
    "themes_df[column+'_keywords'] = ''"
   ]
  },
  {
   "cell_type": "code",
   "execution_count": 46,
   "metadata": {
    "collapsed": false
   },
   "outputs": [],
   "source": [
    "for theme, keywords in themes.items():\n",
    "    for keyword in keywords:\n",
    "        results = responses.map(lambda text: keywords_or(text, [keyword]))\n",
    "        themes_df.loc[results, column+'_keywords'] += keyword + ','"
   ]
  },
  {
   "cell_type": "code",
   "execution_count": 47,
   "metadata": {
    "collapsed": false
   },
   "outputs": [],
   "source": [
    "themes_df[column+'_themes'] = themes_df[column+'_themes'].str.rstrip(',')\n",
    "themes_df[column+'_keywords'] = themes_df[column+'_keywords'].str.rstrip(',')"
   ]
  },
  {
   "cell_type": "code",
   "execution_count": 48,
   "metadata": {
    "collapsed": false
   },
   "outputs": [
    {
     "data": {
      "text/html": [
       "<div>\n",
       "<table border=\"1\" class=\"dataframe\">\n",
       "  <thead>\n",
       "    <tr style=\"text-align: right;\">\n",
       "      <th></th>\n",
       "      <th>hinderances_themes</th>\n",
       "      <th>hinderances_keywords</th>\n",
       "    </tr>\n",
       "  </thead>\n",
       "  <tbody>\n",
       "    <tr>\n",
       "      <th>1</th>\n",
       "      <td></td>\n",
       "      <td></td>\n",
       "    </tr>\n",
       "    <tr>\n",
       "      <th>5</th>\n",
       "      <td></td>\n",
       "      <td></td>\n",
       "    </tr>\n",
       "    <tr>\n",
       "      <th>6</th>\n",
       "      <td>setup,development</td>\n",
       "      <td>setup,server,access,search</td>\n",
       "    </tr>\n",
       "    <tr>\n",
       "      <th>7</th>\n",
       "      <td>disseminate,reuse,development</td>\n",
       "      <td>web,report,package,format,integrat(ing|ion),dataframes,input</td>\n",
       "    </tr>\n",
       "    <tr>\n",
       "      <th>8</th>\n",
       "      <td>development</td>\n",
       "      <td>cut</td>\n",
       "    </tr>\n",
       "  </tbody>\n",
       "</table>\n",
       "</div>"
      ],
      "text/plain": [
       "              hinderances_themes  \\\n",
       "1                                  \n",
       "5                                  \n",
       "6              setup,development   \n",
       "7  disseminate,reuse,development   \n",
       "8                    development   \n",
       "\n",
       "                                           hinderances_keywords  \n",
       "1                                                                \n",
       "5                                                                \n",
       "6                                    setup,server,access,search  \n",
       "7  web,report,package,format,integrat(ing|ion),dataframes,input  \n",
       "8                                                           cut  "
      ]
     },
     "execution_count": 48,
     "metadata": {},
     "output_type": "execute_result"
    }
   ],
   "source": [
    "themes_df.head(5)"
   ]
  },
  {
   "cell_type": "markdown",
   "metadata": {},
   "source": [
    "We'll write a semi-colon separated file for easy of reading in other tools."
   ]
  },
  {
   "cell_type": "code",
   "execution_count": 49,
   "metadata": {
    "collapsed": false
   },
   "outputs": [],
   "source": [
    "themes_df.to_csv(column + '_themes.csv', sep=';')"
   ]
  },
  {
   "cell_type": "markdown",
   "metadata": {},
   "source": [
    "If we want to recover the same DataFrame later, we can use this code."
   ]
  },
  {
   "cell_type": "code",
   "execution_count": 50,
   "metadata": {
    "collapsed": false
   },
   "outputs": [],
   "source": [
    "tmp = pd.read_csv(column + '_themes.csv', sep=';', index_col=0).fillna('')"
   ]
  }
 ],
 "metadata": {
  "kernelspec": {
   "display_name": "Python 3",
   "language": "python",
   "name": "python3"
  },
  "language_info": {
   "codemirror_mode": {
    "name": "ipython",
    "version": 3
   },
   "file_extension": ".py",
   "mimetype": "text/x-python",
   "name": "python",
   "nbconvert_exporter": "python",
   "pygments_lexer": "ipython3",
   "version": "3.4.4"
  }
 },
 "nbformat": 4,
 "nbformat_minor": 0
}
