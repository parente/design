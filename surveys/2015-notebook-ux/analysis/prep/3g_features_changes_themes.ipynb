{
 "cells": [
  {
   "cell_type": "markdown",
   "metadata": {},
   "source": [
    "# Response Themes for \"What new features or changes would you like to see in Jupyter Notebook? (Please list anything that comes to mind that helps you in your workflow, big or small.)\"\n",
    "\n",
    "* Goal: Extract theme keywords from `features_changes` responses.\n",
    "* Data: Output from 2_clean_survey.ipynb notebook (`survey_short_columns.csv`)\n",
    "* Process from [1_ux_survey_review.ipynb](1_ux_survey_review.ipynb):\n",
    "\n",
    "> Moving forward, here's a semi-automatic procedure we can follow for identifying themes across questions:\n",
    "> 1. Take a random sample of question responses\n",
    "> 2. Write down common theme keywords\n",
    "> 3. Search back through the responses using the theme keywords\n",
    "> 4. Expand the set of keywords with other words seen in the search results\n",
    "> 5. Repeat for all themes and questions\n",
    "> Later, we can use a fully automated topic modeling approach to validate our manually generated themes."
   ]
  },
  {
   "cell_type": "code",
   "execution_count": 1,
   "metadata": {
    "collapsed": true
   },
   "outputs": [],
   "source": [
    "import warnings\n",
    "warnings.filterwarnings(\"ignore\")"
   ]
  },
  {
   "cell_type": "code",
   "execution_count": 2,
   "metadata": {
    "collapsed": false
   },
   "outputs": [],
   "source": [
    "%matplotlib inline"
   ]
  },
  {
   "cell_type": "code",
   "execution_count": 3,
   "metadata": {
    "collapsed": true
   },
   "outputs": [],
   "source": [
    "import pandas as pd\n",
    "import numpy as np"
   ]
  },
  {
   "cell_type": "markdown",
   "metadata": {},
   "source": [
    "Make sure the samples come up the same for anyone that re-runs this."
   ]
  },
  {
   "cell_type": "code",
   "execution_count": 4,
   "metadata": {
    "collapsed": false
   },
   "outputs": [],
   "source": [
    "rs = np.random.RandomState(123)"
   ]
  },
  {
   "cell_type": "code",
   "execution_count": 5,
   "metadata": {
    "collapsed": true
   },
   "outputs": [],
   "source": [
    "pd.set_option('max_colwidth', 1000)"
   ]
  },
  {
   "cell_type": "code",
   "execution_count": 6,
   "metadata": {
    "collapsed": true
   },
   "outputs": [],
   "source": [
    "df = pd.read_csv('survey_short_columns.csv')"
   ]
  },
  {
   "cell_type": "code",
   "execution_count": 7,
   "metadata": {
    "collapsed": true
   },
   "outputs": [],
   "source": [
    "def show(series):\n",
    "    '''Make random samples easier to read.'''\n",
    "    for i, value in enumerate(series):\n",
    "        print('{}) {}'.format(i, value), end='\\n\\n')"
   ]
  },
  {
   "cell_type": "code",
   "execution_count": 8,
   "metadata": {
    "collapsed": false
   },
   "outputs": [],
   "source": [
    "responses = pd.concat([df.features_changes_1, df.features_changes_2, df.features_changes_3])"
   ]
  },
  {
   "cell_type": "code",
   "execution_count": 9,
   "metadata": {
    "collapsed": true
   },
   "outputs": [],
   "source": [
    "assert len(responses) == len(df) * 3"
   ]
  },
  {
   "cell_type": "code",
   "execution_count": 10,
   "metadata": {
    "collapsed": false
   },
   "outputs": [
    {
     "data": {
      "text/plain": [
       "True     3972\n",
       "False    1146\n",
       "dtype: int64"
      ]
     },
     "execution_count": 10,
     "metadata": {},
     "output_type": "execute_result"
    }
   ],
   "source": [
    "responses.isnull().value_counts()"
   ]
  },
  {
   "cell_type": "code",
   "execution_count": 11,
   "metadata": {
    "collapsed": true
   },
   "outputs": [],
   "source": [
    "responses = responses.dropna()"
   ]
  },
  {
   "cell_type": "markdown",
   "metadata": {},
   "source": [
    "## Initial Samples\n",
    "\n",
    "I ran the sampling code below multiple times and manually built up the initial set of keywords seen commonly across them. I formed groups of conceptually related keywords. Then I tried to assign a simple label to each group."
   ]
  },
  {
   "cell_type": "code",
   "execution_count": 12,
   "metadata": {
    "collapsed": false,
    "scrolled": false
   },
   "outputs": [
    {
     "name": "stdout",
     "output_type": "stream",
     "text": [
      "0) sort files in folders\n",
      "\n",
      "1) Well-documented extensions framework\n",
      "\n",
      "2) Easy (CSS) customization of basic settings (code block themes, fonts, etc.)\n",
      "\n",
      "3) Debug capabilities / \"Workspace explorer\"\n",
      "\n",
      "4) Drag and drop for cells\n",
      "\n",
      "5) Tighter integration of qtconsole\n",
      "\n",
      "6) Googling for IPython notebook issues turns up tons of legacy  solutions; what's the current right way?\n",
      "\n",
      "7) Stylesheets configuration\n",
      "\n",
      "8) External editor\n",
      "\n",
      "9) Allow hiding of code blocks when rendering to html/md\n",
      "\n",
      "10) Native wrapper for saving and opening\n",
      "\n",
      "11) https://github.com/jupyter/notebook/issues/389#issuecomment-154087320\n",
      "\n",
      "12) Brainless cloud developement\n",
      "\n",
      "13) Export non-code elements (Markdown and plots)\n",
      "\n",
      "14) Built-in compatibility with git\n",
      "\n",
      "15) Easier access to text editing\n",
      "\n",
      "16) drag/drop of cells\n",
      "\n",
      "17) Web API documentation\n",
      "\n",
      "18) metadata editing within the notebook\n",
      "\n",
      "19) small: add  So I can run jupyter as a standalone app on android with the kernel running in a chroot environment.\n",
      "\n"
     ]
    }
   ],
   "source": [
    "show(responses.sample(20, random_state=rs))"
   ]
  },
  {
   "cell_type": "code",
   "execution_count": 13,
   "metadata": {
    "collapsed": false
   },
   "outputs": [],
   "source": [
    "themes = {\n",
    "    'ux': ['drag', 'drop', 'drag(/|&)drop', '(multiple|groups of|individual) cells', 'sections', \n",
    "           'click(ing)?', 'paste', 'undo', 'all cells', 'copy/paste', \n",
    "           'todo', '(styles?|stylesheets?|CSS|theme|skin|font|colo(u)?r)', 'scrol(ling)?', \n",
    "           'fold(ing)?(.*cells)?', 'collaps(e|ing|ible)', 'hid(e|ing|den)',\n",
    "           'navigat(e|ion|ing)', \n",
    "           '(menus?|icons?|buttons?|tooltips?)', 'g?ui($|\\W)', \n",
    "           'mobile', 'progress bar', \n",
    "           '(window|pane|sidebar|screen|width|height)', '(moving|reordering) cells', 'toggle',\n",
    "           'spell(\\s|-)?check(er|ing)?', 'dialog', ],\n",
    "    'version_control': ['(source|version) (control|tracking|management)', 'git(hub)?',\n",
    "                        'control version', 'not versioned', 'version-controlled', \n",
    "                        'version(ing)?(\\snotebooks)?', '((version|editing) history)|revisions', 'revisions/code', \n",
    "                        'change track(er|ing)', ],\n",
    "    'dissemination': ['hid(e|ing) (code|cells|input)', 'slides?', 'deployment', 'nbconvert', 'nbviewer', \n",
    "                      'dashboards?',\n",
    "                      'report(ing)?', 'interact(ion|ive|ity)', 'presentations?', 'knitr', \n",
    "                      'export', 'slides(how)?', 'sharing', 'publish(ing)?', 'PDF($|\\W)', 'download', 'reus(e|able)', ], \n",
    "    'documentation': ['doc(s|umentation)?($|\\W)', 'tutorials?', 'instructions?', 'how(\\s|-)?tos?' ],\n",
    "    'ide': ['workspace|ide($|\\W)|rstudio', 'variable (explorer|viewer)', 'debug', 'profil(er|ing)', 'breakpoints?', \n",
    "            'inspector', 'variables', 'pdb', ],\n",
    "    'hosting': ['cloud', 'cluster', 'jupyter(\\s)?hub', 'tmpnb', 'desktop', 'S3', 'backup', 'docker', \n",
    "                'install', 'hosting', 'users', 'multi(ple|-)?\\s?user', ],\n",
    "    'content_management': ['(folders?|director(y|ies))', 'file(\\s)?system', '(toc|table of contents)', 'search', \n",
    "                           'tagging', 'file (manager|browser)', 'hierarchy', 'find\\s?(\\/|and\\s)replace', \n",
    "                           'import(able)? (from)? notebooks?', 'import', 'refactor(ing)?', ], \n",
    "    'collab': ['collaborat(ion|ive|ing)', ],\n",
    "    'editor': ['lint(ing|er)s?', '(better|powerful|external) edit(or|ing)', \n",
    "               'multi(ple\\s|-)cursor', '(text|code) edit(or|ing)', 'syntax', 'diffs?($|\\W)',\n",
    "               'curser', 'vim?($|\\W)|sublime|atom|emacs', \n",
    "               '(tab|code|auto)-?\\s?complet(e|ion)', '(hot)?key(\\s|-)?(mappings|bindings)', 'keyboard|short-?cuts?', \n",
    "               'parenthes(e|i)s', ],\n",
    "    'integration': ['integrat(e|ion)', '(apache\\s)?spark', 'pydb', 'matplotlib', 'django', \n",
    "                    'pandoc', 'wordpress', 'pyflakes', 'third-party', 'packages', ],\n",
    "    'visualization': ['d3', 'widgets', 'visualization', 'plotting', 'graphics', ],\n",
    "    'cranky': ['dial down the hype', ], \n",
    "    'performance': ['performance', 'more speed', 'cach(e|ing)', ],\n",
    "    'compatibility': ['communication of changes', 'package updates', 'compatib(ility|le)', ],\n",
    "    'language': ['python', 'language', 'clojure', 'fortran', 'javascript', 'R($|\\W)', 'C\\/C', ],\n",
    "    'cli': ['cli($|\\W)', 'terminal', 'command line', 'console', ],\n",
    "}"
   ]
  },
  {
   "cell_type": "markdown",
   "metadata": {},
   "source": [
    "## Coverage Improvement\n",
    "\n",
    "I next ran the code below to associate the theme labels with the responses. I then iterated on running the code below to find reponses without labels. I expanded the list of keywords and themes above in order to improve coverage."
   ]
  },
  {
   "cell_type": "code",
   "execution_count": 14,
   "metadata": {
    "collapsed": true
   },
   "outputs": [],
   "source": [
    "import re"
   ]
  },
  {
   "cell_type": "code",
   "execution_count": 15,
   "metadata": {
    "collapsed": true
   },
   "outputs": [],
   "source": [
    "def keywords_or(text, keywords):\n",
    "    for keyword in keywords:\n",
    "        if re.search('(^|\\W+){}'.format(keyword), text, re.IGNORECASE):\n",
    "            return True\n",
    "    return False"
   ]
  },
  {
   "cell_type": "code",
   "execution_count": 16,
   "metadata": {
    "collapsed": false
   },
   "outputs": [],
   "source": [
    "def tag_themes(responses, themes):\n",
    "    tagged = responses.to_frame()\n",
    "    tagged['themes'] = ''\n",
    "    for theme, keywords in themes.items():\n",
    "        results = responses.map(lambda text: keywords_or(text, keywords))\n",
    "        tagged.loc[results, 'themes'] += theme + ','\n",
    "        print(theme, results.sum())\n",
    "    return tagged"
   ]
  },
  {
   "cell_type": "code",
   "execution_count": 17,
   "metadata": {
    "collapsed": false
   },
   "outputs": [
    {
     "name": "stdout",
     "output_type": "stream",
     "text": [
      "dissemination 112\n",
      "ide 102\n",
      "compatibility 5\n",
      "cli 23\n",
      "ux 267\n",
      "version_control 106\n",
      "hosting 63\n",
      "performance 5\n",
      "visualization 48\n",
      "cranky 1\n",
      "documentation 32\n",
      "collab 23\n",
      "editor 128\n",
      "content_management 67\n",
      "integration 126\n",
      "language 55\n"
     ]
    },
    {
     "data": {
      "text/plain": [
       "1    659\n",
       "0    257\n",
       "2    192\n",
       "3     33\n",
       "4      4\n",
       "5      1\n",
       "Name: themes, dtype: int64"
      ]
     },
     "execution_count": 17,
     "metadata": {},
     "output_type": "execute_result"
    }
   ],
   "source": [
    "tagged = tag_themes(responses, themes)\n",
    "tagged.themes.str.count(',').value_counts()"
   ]
  },
  {
   "cell_type": "code",
   "execution_count": 18,
   "metadata": {
    "collapsed": false
   },
   "outputs": [
    {
     "data": {
      "text/html": [
       "<div>\n",
       "<table border=\"1\" class=\"dataframe\">\n",
       "  <thead>\n",
       "    <tr style=\"text-align: right;\">\n",
       "      <th></th>\n",
       "      <th>0</th>\n",
       "      <th>themes</th>\n",
       "    </tr>\n",
       "  </thead>\n",
       "  <tbody>\n",
       "    <tr>\n",
       "      <th>1064</th>\n",
       "      <td>Persist sessions</td>\n",
       "      <td></td>\n",
       "    </tr>\n",
       "    <tr>\n",
       "      <th>259</th>\n",
       "      <td>continue to document</td>\n",
       "      <td></td>\n",
       "    </tr>\n",
       "    <tr>\n",
       "      <th>254</th>\n",
       "      <td>open / edit text file in cell</td>\n",
       "      <td></td>\n",
       "    </tr>\n",
       "    <tr>\n",
       "      <th>353</th>\n",
       "      <td>more packaged extensions (or make configuration more straightforward, it's now especially confusing with switch from ipython to jupyter)</td>\n",
       "      <td></td>\n",
       "    </tr>\n",
       "    <tr>\n",
       "      <th>1494</th>\n",
       "      <td>Bundle a VE with a notebook</td>\n",
       "      <td></td>\n",
       "    </tr>\n",
       "    <tr>\n",
       "      <th>504</th>\n",
       "      <td>better save</td>\n",
       "      <td></td>\n",
       "    </tr>\n",
       "    <tr>\n",
       "      <th>1520</th>\n",
       "      <td>Citations</td>\n",
       "      <td></td>\n",
       "    </tr>\n",
       "    <tr>\n",
       "      <th>155</th>\n",
       "      <td>Better handling for big output..</td>\n",
       "      <td></td>\n",
       "    </tr>\n",
       "    <tr>\n",
       "      <th>1035</th>\n",
       "      <td>copyable plaintext markdown results</td>\n",
       "      <td></td>\n",
       "    </tr>\n",
       "    <tr>\n",
       "      <th>919</th>\n",
       "      <td>see from previous answers</td>\n",
       "      <td></td>\n",
       "    </tr>\n",
       "    <tr>\n",
       "      <th>1639</th>\n",
       "      <td>Ability to minimize code cells, just as code cell output can be minimized</td>\n",
       "      <td></td>\n",
       "    </tr>\n",
       "    <tr>\n",
       "      <th>1255</th>\n",
       "      <td>Setting to never output so much</td>\n",
       "      <td></td>\n",
       "    </tr>\n",
       "    <tr>\n",
       "      <th>1417</th>\n",
       "      <td>Built-in indicator of memory usage while running a cell</td>\n",
       "      <td></td>\n",
       "    </tr>\n",
       "    <tr>\n",
       "      <th>1355</th>\n",
       "      <td>The ability to run individual lines of code, instead of the entire cell</td>\n",
       "      <td></td>\n",
       "    </tr>\n",
       "    <tr>\n",
       "      <th>515</th>\n",
       "      <td>small: add  So I can run jupyter as a standalone app on android with the kernel running in a chroot environment.</td>\n",
       "      <td></td>\n",
       "    </tr>\n",
       "    <tr>\n",
       "      <th>377</th>\n",
       "      <td>Copy accross notebooks</td>\n",
       "      <td></td>\n",
       "    </tr>\n",
       "    <tr>\n",
       "      <th>1133</th>\n",
       "      <td>Some easy to handle streaming output</td>\n",
       "      <td></td>\n",
       "    </tr>\n",
       "    <tr>\n",
       "      <th>96</th>\n",
       "      <td>new \"page\" or branch point in same notebook</td>\n",
       "      <td></td>\n",
       "    </tr>\n",
       "    <tr>\n",
       "      <th>9</th>\n",
       "      <td>API to interact with notebooks and servers</td>\n",
       "      <td></td>\n",
       "    </tr>\n",
       "    <tr>\n",
       "      <th>1476</th>\n",
       "      <td>Polyglot</td>\n",
       "      <td></td>\n",
       "    </tr>\n",
       "  </tbody>\n",
       "</table>\n",
       "</div>"
      ],
      "text/plain": [
       "                                                                                                                                             0  \\\n",
       "1064                                                                                                                          Persist sessions   \n",
       "259                                                                                                                       continue to document   \n",
       "254                                                                                                              open / edit text file in cell   \n",
       "353   more packaged extensions (or make configuration more straightforward, it's now especially confusing with switch from ipython to jupyter)   \n",
       "1494                                                                                                               Bundle a VE with a notebook   \n",
       "504                                                                                                                                better save   \n",
       "1520                                                                                                                                 Citations   \n",
       "155                                                                                                           Better handling for big output..   \n",
       "1035                                                                                                       copyable plaintext markdown results   \n",
       "919                                                                                                                  see from previous answers   \n",
       "1639                                                                 Ability to minimize code cells, just as code cell output can be minimized   \n",
       "1255                                                                                                           Setting to never output so much   \n",
       "1417                                                                                   Built-in indicator of memory usage while running a cell   \n",
       "1355                                                                   The ability to run individual lines of code, instead of the entire cell   \n",
       "515                           small: add  So I can run jupyter as a standalone app on android with the kernel running in a chroot environment.   \n",
       "377                                                                                                                     Copy accross notebooks   \n",
       "1133                                                                                                      Some easy to handle streaming output   \n",
       "96                                                                                                 new \"page\" or branch point in same notebook   \n",
       "9                                                                                                   API to interact with notebooks and servers   \n",
       "1476                                                                                                                                  Polyglot   \n",
       "\n",
       "     themes  \n",
       "1064         \n",
       "259          \n",
       "254          \n",
       "353          \n",
       "1494         \n",
       "504          \n",
       "1520         \n",
       "155          \n",
       "1035         \n",
       "919          \n",
       "1639         \n",
       "1255         \n",
       "1417         \n",
       "1355         \n",
       "515          \n",
       "377          \n",
       "1133         \n",
       "96           \n",
       "9            \n",
       "1476         "
      ]
     },
     "execution_count": 18,
     "metadata": {},
     "output_type": "execute_result"
    }
   ],
   "source": [
    "tagged[tagged.themes.str.len() == 0].sample(20, random_state=rs)"
   ]
  },
  {
   "cell_type": "markdown",
   "metadata": {},
   "source": [
    "## Precision Check\n",
    "\n",
    "I then studied a sample of responses for each theme to see if there major inaccuracies in their application (e.g., string matches that are too fuzzy)."
   ]
  },
  {
   "cell_type": "code",
   "execution_count": 19,
   "metadata": {
    "collapsed": false
   },
   "outputs": [
    {
     "name": "stdout",
     "output_type": "stream",
     "text": [
      "dissemination 112\n",
      "ide 102\n",
      "compatibility 5\n",
      "cli 23\n",
      "ux 267\n",
      "version_control 106\n",
      "hosting 63\n",
      "performance 5\n",
      "visualization 48\n",
      "cranky 1\n",
      "documentation 32\n",
      "collab 23\n",
      "editor 128\n",
      "content_management 67\n",
      "integration 126\n",
      "language 55\n"
     ]
    },
    {
     "data": {
      "text/plain": [
       "1    659\n",
       "0    257\n",
       "2    192\n",
       "3     33\n",
       "4      4\n",
       "5      1\n",
       "Name: themes, dtype: int64"
      ]
     },
     "execution_count": 19,
     "metadata": {},
     "output_type": "execute_result"
    }
   ],
   "source": [
    "tagged = tag_themes(responses, themes)\n",
    "tagged.themes.str.count(',').value_counts()"
   ]
  },
  {
   "cell_type": "code",
   "execution_count": 20,
   "metadata": {
    "collapsed": true
   },
   "outputs": [],
   "source": [
    "from IPython.display import display, clear_output"
   ]
  },
  {
   "cell_type": "code",
   "execution_count": 21,
   "metadata": {
    "collapsed": false,
    "scrolled": false
   },
   "outputs": [],
   "source": [
    "# for key in themes:\n",
    "#     clear_output()\n",
    "#     size = min([10, len(tagged[tagged.themes.str.contains(key)])])\n",
    "#     display(tagged[tagged.themes.str.contains(key)].sample(size))\n",
    "#     if input('Showing `{}`. Type Enter to continue, \"q\" to stop.'.format(key)) == 'q':\n",
    "#         break"
   ]
  },
  {
   "cell_type": "markdown",
   "metadata": {},
   "source": [
    "I also looked at responses with multiple themes to fine tune them, and catch duplication of words in multiple themes."
   ]
  },
  {
   "cell_type": "code",
   "execution_count": 22,
   "metadata": {
    "collapsed": false
   },
   "outputs": [
    {
     "data": {
      "text/html": [
       "<div>\n",
       "<table border=\"1\" class=\"dataframe\">\n",
       "  <thead>\n",
       "    <tr style=\"text-align: right;\">\n",
       "      <th></th>\n",
       "      <th>0</th>\n",
       "      <th>themes</th>\n",
       "    </tr>\n",
       "  </thead>\n",
       "  <tbody>\n",
       "    <tr>\n",
       "      <th>594</th>\n",
       "      <td>hints on keyboard shortcuts in menus</td>\n",
       "      <td>ux,editor,</td>\n",
       "    </tr>\n",
       "    <tr>\n",
       "      <th>418</th>\n",
       "      <td>Did I mention git integration?</td>\n",
       "      <td>version_control,integration,</td>\n",
       "    </tr>\n",
       "    <tr>\n",
       "      <th>646</th>\n",
       "      <td>hide header and toolbar and remember my setting!</td>\n",
       "      <td>ide,ux,</td>\n",
       "    </tr>\n",
       "    <tr>\n",
       "      <th>1604</th>\n",
       "      <td>Better tutorials for setting up eg jupyterhub and tmpnb</td>\n",
       "      <td>hosting,documentation,</td>\n",
       "    </tr>\n",
       "    <tr>\n",
       "      <th>824</th>\n",
       "      <td>Git integration</td>\n",
       "      <td>version_control,integration,</td>\n",
       "    </tr>\n",
       "    <tr>\n",
       "      <th>273</th>\n",
       "      <td>File hierarchy (wiki style)</td>\n",
       "      <td>ux,content_management,</td>\n",
       "    </tr>\n",
       "    <tr>\n",
       "      <th>472</th>\n",
       "      <td>git integration</td>\n",
       "      <td>version_control,integration,</td>\n",
       "    </tr>\n",
       "    <tr>\n",
       "      <th>505</th>\n",
       "      <td>Better Jupyter Hub admin docs</td>\n",
       "      <td>hosting,documentation,</td>\n",
       "    </tr>\n",
       "    <tr>\n",
       "      <th>1515</th>\n",
       "      <td>Collaboration support in jupyter hub</td>\n",
       "      <td>hosting,collab,</td>\n",
       "    </tr>\n",
       "    <tr>\n",
       "      <th>1270</th>\n",
       "      <td>better versioning/collaborative access tools</td>\n",
       "      <td>version_control,collab,</td>\n",
       "    </tr>\n",
       "    <tr>\n",
       "      <th>333</th>\n",
       "      <td>tighter integration with debugger</td>\n",
       "      <td>ide,integration,</td>\n",
       "    </tr>\n",
       "    <tr>\n",
       "      <th>486</th>\n",
       "      <td>awesome d3 integration</td>\n",
       "      <td>visualization,integration,</td>\n",
       "    </tr>\n",
       "    <tr>\n",
       "      <th>1343</th>\n",
       "      <td>Different languages for code cells inside the same notebook</td>\n",
       "      <td>ide,language,</td>\n",
       "    </tr>\n",
       "    <tr>\n",
       "      <th>1481</th>\n",
       "      <td>better access to language docs &amp; other resources</td>\n",
       "      <td>documentation,language,</td>\n",
       "    </tr>\n",
       "    <tr>\n",
       "      <th>1100</th>\n",
       "      <td>Integration with a good IDE</td>\n",
       "      <td>ide,integration,</td>\n",
       "    </tr>\n",
       "    <tr>\n",
       "      <th>1662</th>\n",
       "      <td>Easy setup / integration with spark on own clusters and Amazon emr</td>\n",
       "      <td>hosting,integration,</td>\n",
       "    </tr>\n",
       "    <tr>\n",
       "      <th>344</th>\n",
       "      <td>better documentation of changes between version and how to handle tham as user (documentation seems to scattered at different places)</td>\n",
       "      <td>version_control,documentation,</td>\n",
       "    </tr>\n",
       "    <tr>\n",
       "      <th>246</th>\n",
       "      <td>A few default matplotlib settings available as shortcuts</td>\n",
       "      <td>editor,integration,</td>\n",
       "    </tr>\n",
       "    <tr>\n",
       "      <th>1419</th>\n",
       "      <td>Some basic language interop, perhaps just documentation</td>\n",
       "      <td>documentation,language,</td>\n",
       "    </tr>\n",
       "    <tr>\n",
       "      <th>298</th>\n",
       "      <td>running directly from python kernel not through terminal</td>\n",
       "      <td>cli,language,</td>\n",
       "    </tr>\n",
       "  </tbody>\n",
       "</table>\n",
       "</div>"
      ],
      "text/plain": [
       "                                                                                                                                          0  \\\n",
       "594                                                                                                    hints on keyboard shortcuts in menus   \n",
       "418                                                                                                          Did I mention git integration?   \n",
       "646                                                                                        hide header and toolbar and remember my setting!   \n",
       "1604                                                                                Better tutorials for setting up eg jupyterhub and tmpnb   \n",
       "824                                                                                                                         Git integration   \n",
       "273                                                                                                             File hierarchy (wiki style)   \n",
       "472                                                                                                                         git integration   \n",
       "505                                                                                                           Better Jupyter Hub admin docs   \n",
       "1515                                                                                                   Collaboration support in jupyter hub   \n",
       "1270                                                                                           better versioning/collaborative access tools   \n",
       "333                                                                                                      tighter integration with debugger    \n",
       "486                                                                                                                  awesome d3 integration   \n",
       "1343                                                                            Different languages for code cells inside the same notebook   \n",
       "1481                                                                                       better access to language docs & other resources   \n",
       "1100                                                                                                            Integration with a good IDE   \n",
       "1662                                                                     Easy setup / integration with spark on own clusters and Amazon emr   \n",
       "344   better documentation of changes between version and how to handle tham as user (documentation seems to scattered at different places)   \n",
       "246                                                                                A few default matplotlib settings available as shortcuts   \n",
       "1419                                                                                Some basic language interop, perhaps just documentation   \n",
       "298                                                                                running directly from python kernel not through terminal   \n",
       "\n",
       "                              themes  \n",
       "594                       ux,editor,  \n",
       "418     version_control,integration,  \n",
       "646                          ide,ux,  \n",
       "1604          hosting,documentation,  \n",
       "824     version_control,integration,  \n",
       "273           ux,content_management,  \n",
       "472     version_control,integration,  \n",
       "505           hosting,documentation,  \n",
       "1515                 hosting,collab,  \n",
       "1270         version_control,collab,  \n",
       "333                 ide,integration,  \n",
       "486       visualization,integration,  \n",
       "1343                   ide,language,  \n",
       "1481         documentation,language,  \n",
       "1100                ide,integration,  \n",
       "1662            hosting,integration,  \n",
       "344   version_control,documentation,  \n",
       "246              editor,integration,  \n",
       "1419         documentation,language,  \n",
       "298                    cli,language,  "
      ]
     },
     "execution_count": 22,
     "metadata": {},
     "output_type": "execute_result"
    }
   ],
   "source": [
    "tagged[tagged.themes.str.count(',') == 2].sample(20, random_state=rs)"
   ]
  },
  {
   "cell_type": "markdown",
   "metadata": {},
   "source": [
    "## Keyword Frequencies"
   ]
  },
  {
   "cell_type": "code",
   "execution_count": 23,
   "metadata": {
    "collapsed": true
   },
   "outputs": [],
   "source": [
    "import matplotlib\n",
    "import seaborn"
   ]
  },
  {
   "cell_type": "code",
   "execution_count": 24,
   "metadata": {
    "collapsed": true
   },
   "outputs": [],
   "source": [
    "counts = {}"
   ]
  },
  {
   "cell_type": "code",
   "execution_count": 25,
   "metadata": {
    "collapsed": false
   },
   "outputs": [],
   "source": [
    "for theme, keywords in themes.items():\n",
    "    for keyword in keywords:\n",
    "        hits = responses.map(lambda text: keywords_or(text, [keyword]))\n",
    "        counts[keyword] = hits.sum()"
   ]
  },
  {
   "cell_type": "code",
   "execution_count": 26,
   "metadata": {
    "collapsed": true
   },
   "outputs": [],
   "source": [
    "hist = pd.Series(counts).sort_values()"
   ]
  },
  {
   "cell_type": "code",
   "execution_count": 27,
   "metadata": {
    "collapsed": false
   },
   "outputs": [
    {
     "data": {
      "image/png": "[encoded data removed]",
      "text/plain": [
       "<matplotlib.figure.Figure at 0x7f6f889cca90>"
      ]
     },
     "metadata": {},
     "output_type": "display_data"
    }
   ],
   "source": [
    "ax = hist[-30:].plot.barh(figsize=(8, 8))\n",
    "_ = ax.set_xlabel('Mentions')"
   ]
  },
  {
   "cell_type": "markdown",
   "metadata": {
    "collapsed": true
   },
   "source": [
    "## Persist\n",
    "\n",
    "I save off the themes and keywords to a DataFrame with the same index as the original so that the entries can be tagged."
   ]
  },
  {
   "cell_type": "code",
   "execution_count": 28,
   "metadata": {
    "collapsed": true
   },
   "outputs": [],
   "source": [
    "column = 'features_changes'"
   ]
  },
  {
   "cell_type": "code",
   "execution_count": 29,
   "metadata": {
    "collapsed": true
   },
   "outputs": [],
   "source": [
    "themes_df = tagged.themes.to_frame()"
   ]
  },
  {
   "cell_type": "code",
   "execution_count": 30,
   "metadata": {
    "collapsed": true
   },
   "outputs": [],
   "source": [
    "themes_df = themes_df.rename(columns={'themes' : column+'_themes'})"
   ]
  },
  {
   "cell_type": "code",
   "execution_count": 31,
   "metadata": {
    "collapsed": true
   },
   "outputs": [],
   "source": [
    "themes_df[column+'_keywords'] = ''"
   ]
  },
  {
   "cell_type": "code",
   "execution_count": 32,
   "metadata": {
    "collapsed": true
   },
   "outputs": [],
   "source": [
    "for theme, keywords in themes.items():\n",
    "    for keyword in keywords:\n",
    "        results = responses.map(lambda text: keywords_or(text, [keyword]))\n",
    "        themes_df.loc[results, column+'_keywords'] += keyword + ','"
   ]
  },
  {
   "cell_type": "code",
   "execution_count": 33,
   "metadata": {
    "collapsed": true
   },
   "outputs": [],
   "source": [
    "themes_df[column+'_themes'] = themes_df[column+'_themes'].str.rstrip(',')\n",
    "themes_df[column+'_keywords'] = themes_df[column+'_keywords'].str.rstrip(',')"
   ]
  },
  {
   "cell_type": "markdown",
   "metadata": {},
   "source": [
    "Up above, I merged the three response fields for the question into one common pool which means we can have duplicate index value in the themes DataFrame. We need to squash these down and remove duplicates."
   ]
  },
  {
   "cell_type": "code",
   "execution_count": 34,
   "metadata": {
    "collapsed": true
   },
   "outputs": [],
   "source": [
    "def union(group_df):\n",
    "    '''Gets the set union of themes and keywords for a given DataFrame.'''\n",
    "    themes = group_df[column+'_themes'].str.cat(sep=',')\n",
    "    themes = list(set(themes.split(',')))\n",
    "    themes = ','.join(theme for theme in themes if theme)\n",
    "    \n",
    "    keywords = group_df[column+'_keywords'].str.cat(sep=',')\n",
    "    keywords = list(set(keywords.split(',')))\n",
    "    keywords = ','.join(keyword for keyword in keywords if keyword)\n",
    "    return pd.Series([themes, keywords], index=[column+'_themes', column+'_keywords'])"
   ]
  },
  {
   "cell_type": "markdown",
   "metadata": {},
   "source": [
    "We group by the index and union the themes and keywords."
   ]
  },
  {
   "cell_type": "code",
   "execution_count": 35,
   "metadata": {
    "collapsed": true
   },
   "outputs": [],
   "source": [
    "themes_df = themes_df.groupby(themes_df.index).apply(union)"
   ]
  },
  {
   "cell_type": "code",
   "execution_count": 36,
   "metadata": {
    "collapsed": false
   },
   "outputs": [
    {
     "data": {
      "text/html": [
       "<div>\n",
       "<table border=\"1\" class=\"dataframe\">\n",
       "  <thead>\n",
       "    <tr style=\"text-align: right;\">\n",
       "      <th></th>\n",
       "      <th>features_changes_themes</th>\n",
       "      <th>features_changes_keywords</th>\n",
       "    </tr>\n",
       "  </thead>\n",
       "  <tbody>\n",
       "    <tr>\n",
       "      <th>1</th>\n",
       "      <td>editor,cli,version_control</td>\n",
       "      <td>command line,git(hub)?,diffs?($|\\W)</td>\n",
       "    </tr>\n",
       "    <tr>\n",
       "      <th>5</th>\n",
       "      <td>dissemination,ide,visualization,cli,integration</td>\n",
       "      <td>graphics,variables,matplotlib,workspace|ide($|\\W)|rstudio,terminal,interact(ion|ive|ity)</td>\n",
       "    </tr>\n",
       "    <tr>\n",
       "      <th>6</th>\n",
       "      <td>hosting,dissemination,documentation</td>\n",
       "      <td>slides(how)?,download,PDF($|\\W),nbconvert,doc(s|umentation)?($|\\W),slides?,jupyter(\\s)?hub</td>\n",
       "    </tr>\n",
       "    <tr>\n",
       "      <th>7</th>\n",
       "      <td>dissemination</td>\n",
       "      <td>knitr,report(ing)?,dashboards?</td>\n",
       "    </tr>\n",
       "    <tr>\n",
       "      <th>9</th>\n",
       "      <td></td>\n",
       "      <td></td>\n",
       "    </tr>\n",
       "  </tbody>\n",
       "</table>\n",
       "</div>"
      ],
      "text/plain": [
       "                           features_changes_themes  \\\n",
       "1                       editor,cli,version_control   \n",
       "5  dissemination,ide,visualization,cli,integration   \n",
       "6              hosting,dissemination,documentation   \n",
       "7                                    dissemination   \n",
       "9                                                    \n",
       "\n",
       "                                                                    features_changes_keywords  \n",
       "1                                                         command line,git(hub)?,diffs?($|\\W)  \n",
       "5    graphics,variables,matplotlib,workspace|ide($|\\W)|rstudio,terminal,interact(ion|ive|ity)  \n",
       "6  slides(how)?,download,PDF($|\\W),nbconvert,doc(s|umentation)?($|\\W),slides?,jupyter(\\s)?hub  \n",
       "7                                                              knitr,report(ing)?,dashboards?  \n",
       "9                                                                                              "
      ]
     },
     "execution_count": 36,
     "metadata": {},
     "output_type": "execute_result"
    }
   ],
   "source": [
    "themes_df.head()"
   ]
  },
  {
   "cell_type": "markdown",
   "metadata": {},
   "source": [
    "The themes DataFrame should have as many rows as there are non-null responses in the original DataFrame."
   ]
  },
  {
   "cell_type": "code",
   "execution_count": 37,
   "metadata": {
    "collapsed": true
   },
   "outputs": [],
   "source": [
    "assert len(themes_df) == len(df[[column+'_1', column+'_2', column+'_3']].dropna(how='all'))"
   ]
  },
  {
   "cell_type": "code",
   "execution_count": 38,
   "metadata": {
    "collapsed": true
   },
   "outputs": [],
   "source": [
    "themes_df.to_csv(column + '_themes.csv', sep=';')"
   ]
  },
  {
   "cell_type": "code",
   "execution_count": null,
   "metadata": {
    "collapsed": true
   },
   "outputs": [],
   "source": []
  }
 ],
 "metadata": {
  "kernelspec": {
   "display_name": "Python 3",
   "language": "python",
   "name": "python3"
  },
  "language_info": {
   "codemirror_mode": {
    "name": "ipython",
    "version": 3
   },
   "file_extension": ".py",
   "mimetype": "text/x-python",
   "name": "python",
   "nbconvert_exporter": "python",
   "pygments_lexer": "ipython3",
   "version": "3.4.4"
  }
 },
 "nbformat": 4,
 "nbformat_minor": 0
}
