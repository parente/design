{
 "cells": [
  {
   "cell_type": "markdown",
   "metadata": {},
   "source": [
    "# Response Themes for \"What aspects of Jupyter Notebook make it pleasant to use in your workflow?\"\n",
    "\n",
    "* Goal: Extract theme keywords from `pleasant_aspects` responses.\n",
    "* Data: Output from 2_clean_survey.ipynb notebook (`survey_short_columns.csv`)\n",
    "* Process from [1_ux_survey_review.ipynb](1_ux_survey_review.ipynb):\n",
    "\n",
    "> Moving forward, here's a semi-automatic procedure we can follow for identifying themes across questions:\n",
    "> 1. Take a random sample of question responses\n",
    "> 2. Write down common theme keywords\n",
    "> 3. Search back through the responses using the theme keywords\n",
    "> 4. Expand the set of keywords with other words seen in the search results\n",
    "> 5. Repeat for all themes and questions\n",
    "> Later, we can use a fully automated topic modeling approach to validate our manually generated themes."
   ]
  },
  {
   "cell_type": "code",
   "execution_count": 1,
   "metadata": {
    "collapsed": true
   },
   "outputs": [],
   "source": [
    "import warnings\n",
    "warnings.filterwarnings(\"ignore\")"
   ]
  },
  {
   "cell_type": "code",
   "execution_count": 2,
   "metadata": {
    "collapsed": false
   },
   "outputs": [],
   "source": [
    "%matplotlib inline"
   ]
  },
  {
   "cell_type": "code",
   "execution_count": 3,
   "metadata": {
    "collapsed": true
   },
   "outputs": [],
   "source": [
    "import pandas as pd\n",
    "import numpy as np"
   ]
  },
  {
   "cell_type": "markdown",
   "metadata": {},
   "source": [
    "Make sure the samples come up the same for anyone that re-runs this."
   ]
  },
  {
   "cell_type": "code",
   "execution_count": 4,
   "metadata": {
    "collapsed": false
   },
   "outputs": [],
   "source": [
    "rs = np.random.RandomState(123)"
   ]
  },
  {
   "cell_type": "code",
   "execution_count": 5,
   "metadata": {
    "collapsed": true
   },
   "outputs": [],
   "source": [
    "pd.set_option('max_colwidth', 1000)"
   ]
  },
  {
   "cell_type": "code",
   "execution_count": 6,
   "metadata": {
    "collapsed": true
   },
   "outputs": [],
   "source": [
    "df = pd.read_csv('survey_short_columns.csv')"
   ]
  },
  {
   "cell_type": "code",
   "execution_count": 7,
   "metadata": {
    "collapsed": true
   },
   "outputs": [],
   "source": [
    "def show(series):\n",
    "    '''Make random samples easier to read.'''\n",
    "    for i, value in enumerate(series):\n",
    "        print('{}) {}'.format(i, value), end='\\n\\n')"
   ]
  },
  {
   "cell_type": "code",
   "execution_count": 8,
   "metadata": {
    "collapsed": false
   },
   "outputs": [],
   "source": [
    "responses = pd.concat([df.pleasant_aspects_1, df.pleasant_aspects_2, df.pleasant_aspects_3])"
   ]
  },
  {
   "cell_type": "code",
   "execution_count": 9,
   "metadata": {
    "collapsed": true
   },
   "outputs": [],
   "source": [
    "assert len(responses) == len(df) * 3"
   ]
  },
  {
   "cell_type": "code",
   "execution_count": 10,
   "metadata": {
    "collapsed": false
   },
   "outputs": [
    {
     "data": {
      "text/plain": [
       "True     3953\n",
       "False    1165\n",
       "dtype: int64"
      ]
     },
     "execution_count": 10,
     "metadata": {},
     "output_type": "execute_result"
    }
   ],
   "source": [
    "responses.isnull().value_counts()"
   ]
  },
  {
   "cell_type": "code",
   "execution_count": 11,
   "metadata": {
    "collapsed": true
   },
   "outputs": [],
   "source": [
    "responses = responses.dropna()"
   ]
  },
  {
   "cell_type": "markdown",
   "metadata": {},
   "source": [
    "## Initial Samples\n",
    "\n",
    "I ran the sampling code below 5 times and manually built up the initial set of keywords seen commonly across them. I formed groups of conceptually related keywords. Then I tried to assign a simple label to each group."
   ]
  },
  {
   "cell_type": "code",
   "execution_count": 12,
   "metadata": {
    "collapsed": false,
    "scrolled": false
   },
   "outputs": [
    {
     "name": "stdout",
     "output_type": "stream",
     "text": [
      "0) Ease of use\n",
      "\n",
      "1) Clean interface\n",
      "\n",
      "2) Integration with pandas\n",
      "\n",
      "3) Little chunks\n",
      "\n",
      "4) Software repository via JSON\n",
      "\n",
      "5) Easily access my django models\n",
      "\n",
      "6) Easy to share analysis with others\n",
      "\n",
      "7) nbconvert\n",
      "\n",
      "8) REPL and visualization\n",
      "\n",
      "9) Executable cells\n",
      "\n",
      "10) Graphs, doc and code integration\n",
      "\n",
      "11) PDF export\n",
      "\n",
      "12) Inline plots, markdown, latex\n",
      "\n",
      "13) plotting\n",
      "\n",
      "14) Keyboard shortcuts.\n",
      "\n",
      "15) Rich media\n",
      "\n",
      "16) graph tools integrated\n",
      "\n",
      "17) Open sourceness, reproducibility of various results from the Internet\n",
      "\n",
      "18) Quick and easy access to Python\n",
      "\n",
      "19) Persistence\n",
      "\n"
     ]
    }
   ],
   "source": [
    "show(responses.sample(20, random_state=rs))"
   ]
  },
  {
   "cell_type": "code",
   "execution_count": 13,
   "metadata": {
    "collapsed": true
   },
   "outputs": [],
   "source": [
    "themes = {\n",
    "    'ux': ['ux|interface|g?ui($|\\W)', 'eas(e|y|iness)(\\sof|\\sto)?(\\suse|install)?', 'design', \n",
    "           'navigation', 'web|browser|http', 'intuitive', 'aesthetic(s|ally)',\n",
    "           'completion', 'simpl(e|icity)|clean', 'keyboard|hotkeys?|short-?cuts?|keybindings?', \n",
    "           'style', 'editor', 'help', 'responsive', 'pleasure to use', \n",
    "           'looks (nice|great)|appealing|beautiful|pretty|elegant|appearance', \n",
    "           'modal',\n",
    "           'doc(s|umentation)?($|\\W)', ],\n",
    "    'ecosystem': ['community|ecosystem|open source', 'librar(y|ies)', 'tool(ing)?',\n",
    "                  'standard', 'common', 'pandas', 'matplotlib', 'github', 'rpy2', 'ggplot2?', 'magics?',\n",
    "                  'nbgrader', 'sqlalchemy', 'bokeh'],\n",
    "    'cost': ['cost', 'free', 'cheaper', 'license', ],\n",
    "    'integrated_content': ['in-?line', 'links', 'latex', 'mathjax',\n",
    "                'mark(up|down)|HTML', 'combine|(text|code) (and|with)|and (code|text)', \n",
    "                'embedded', 'rich (content|output)|figures?|pictures?|images?|media',\n",
    "                'all(\\s|-)in(\\s|-)one|one place', 'notes|comments', 'integrated?', \n",
    "                'contained', 'litera(te|cy) programming', ],\n",
    "    'visualization': ['graph(s|ic|ing)', 'plot(ting)?', 'vi(s|z)ualization',\n",
    "                      'visual|eye candy', '(ipy)?widgets', '(display|see) (data|charts?|plots?)',\n",
    "                      ],\n",
    "    'dissemination': ['shar(e|ing)', 'export', 'nbconvert', 'pdf', 'reproducibility', 'convert', 'others', \n",
    "                      'teaching', 'collaborat(e|ion|ive|ors)', 'slides?', 'render', \n",
    "                      'nbviewer', 'presentations?', 'repeatable', 'team', 'tell a story'],\n",
    "    'organization': ['folder structure', 'organiz(e|ation)', ],\n",
    "    'hosting': ['setup', 'install', 'server', 'portability', 'hosting', 'cloud', 'platform', 'remote',\n",
    "                'docker', 'aws', 'on-?line', 'deployment', 'centralized'],\n",
    "    'interactivity': ['repl', 'cells?', 'cell execution', \n",
    "                      'interact(ive|ivity|ion)|live|immediate|quick|instant|rapid|fast|speed', \n",
    "                      'run', 'iterative|feedback|dynamic', 'flexib(le|ility)', \n",
    "                      'workflow', 'iterat(e|ion)', 'explor(e|atory)|experiment|sandbox|prototype', \n",
    "                      ],\n",
    "    'language': ['i?python', 'languages?', 'bash',],\n",
    "    'persistence': ['persist(ence|ent)?', '(auto)?sav(e|ing)', 'snapshot', \n",
    "                    'history', 'state', 'permanent record', 'log'],\n",
    "    'stability': ['robust', 'stable', 'reliable', 'reliability', 'mature', 'full featured'],\n",
    "    'extensible': ['exten(d|sible|sions)', 'plugin', 'custom', 'modular', 'expanding',\n",
    "                   'kernels|backends|kernel support']\n",
    "}"
   ]
  },
  {
   "cell_type": "markdown",
   "metadata": {},
   "source": [
    "## Coverage Improvement\n",
    "\n",
    "I next ran the code below to associate the theme labels with the responses. I then iterated on running the code below to find reponses without labels. I expanded the list of keywords and themes above in order to improve coverage."
   ]
  },
  {
   "cell_type": "code",
   "execution_count": 14,
   "metadata": {
    "collapsed": true
   },
   "outputs": [],
   "source": [
    "import re"
   ]
  },
  {
   "cell_type": "code",
   "execution_count": 15,
   "metadata": {
    "collapsed": true
   },
   "outputs": [],
   "source": [
    "def keywords_or(text, keywords):\n",
    "    for keyword in keywords:\n",
    "        if re.search('(^|\\W+){}'.format(keyword), text, re.IGNORECASE):\n",
    "            return True\n",
    "    return False"
   ]
  },
  {
   "cell_type": "code",
   "execution_count": 16,
   "metadata": {
    "collapsed": false
   },
   "outputs": [],
   "source": [
    "def tag_themes(data, themes):\n",
    "    tagged = data.to_frame()\n",
    "    tagged['themes'] = ''\n",
    "    for theme, keywords in themes.items():\n",
    "        results = data.map(lambda text: keywords_or(text, keywords))\n",
    "        tagged.loc[results, 'themes'] += theme + ','\n",
    "        print(theme, results.sum())\n",
    "    return tagged"
   ]
  },
  {
   "cell_type": "code",
   "execution_count": 17,
   "metadata": {
    "collapsed": false
   },
   "outputs": [
    {
     "name": "stdout",
     "output_type": "stream",
     "text": [
      "hosting 71\n",
      "persistence 33\n",
      "extensible 22\n",
      "integrated_content 259\n",
      "ecosystem 80\n",
      "interactivity 234\n",
      "cost 5\n",
      "stability 6\n",
      "ux 355\n",
      "organization 4\n",
      "visualization 161\n",
      "language 58\n",
      "dissemination 109\n"
     ]
    },
    {
     "data": {
      "text/plain": [
       "1    739\n",
       "2    273\n",
       "0    117\n",
       "3     33\n",
       "4      2\n",
       "5      1\n",
       "Name: themes, dtype: int64"
      ]
     },
     "execution_count": 17,
     "metadata": {},
     "output_type": "execute_result"
    }
   ],
   "source": [
    "tagged = tag_themes(responses, themes)\n",
    "tagged.themes.str.count(',').value_counts()"
   ]
  },
  {
   "cell_type": "code",
   "execution_count": 18,
   "metadata": {
    "collapsed": false
   },
   "outputs": [
    {
     "data": {
      "text/html": [
       "<div>\n",
       "<table border=\"1\" class=\"dataframe\">\n",
       "  <thead>\n",
       "    <tr style=\"text-align: right;\">\n",
       "      <th></th>\n",
       "      <th>0</th>\n",
       "      <th>themes</th>\n",
       "    </tr>\n",
       "  </thead>\n",
       "  <tbody>\n",
       "    <tr>\n",
       "      <th>505</th>\n",
       "      <td>Debugging</td>\n",
       "      <td></td>\n",
       "    </tr>\n",
       "    <tr>\n",
       "      <th>221</th>\n",
       "      <td>see my answers to question 6</td>\n",
       "      <td></td>\n",
       "    </tr>\n",
       "    <tr>\n",
       "      <th>7</th>\n",
       "      <td>multiple output formats</td>\n",
       "      <td></td>\n",
       "    </tr>\n",
       "    <tr>\n",
       "      <th>389</th>\n",
       "      <td>Creating video tutorial</td>\n",
       "      <td></td>\n",
       "    </tr>\n",
       "    <tr>\n",
       "      <th>431</th>\n",
       "      <td>Efficient</td>\n",
       "      <td></td>\n",
       "    </tr>\n",
       "    <tr>\n",
       "      <th>1083</th>\n",
       "      <td>Support for formatting, including math</td>\n",
       "      <td></td>\n",
       "    </tr>\n",
       "    <tr>\n",
       "      <th>68</th>\n",
       "      <td>json file format</td>\n",
       "      <td></td>\n",
       "    </tr>\n",
       "    <tr>\n",
       "      <th>29</th>\n",
       "      <td>Everything works (almost) always as expected</td>\n",
       "      <td></td>\n",
       "    </tr>\n",
       "    <tr>\n",
       "      <th>279</th>\n",
       "      <td>Nice formatting of outpht</td>\n",
       "      <td></td>\n",
       "    </tr>\n",
       "    <tr>\n",
       "      <th>1372</th>\n",
       "      <td>fun to see output as you go along</td>\n",
       "      <td></td>\n",
       "    </tr>\n",
       "    <tr>\n",
       "      <th>54</th>\n",
       "      <td>Code execution by blocks</td>\n",
       "      <td></td>\n",
       "    </tr>\n",
       "    <tr>\n",
       "      <th>1524</th>\n",
       "      <td>Lower bar than other environments</td>\n",
       "      <td></td>\n",
       "    </tr>\n",
       "    <tr>\n",
       "      <th>425</th>\n",
       "      <td>Sense of safety.</td>\n",
       "      <td></td>\n",
       "    </tr>\n",
       "    <tr>\n",
       "      <th>298</th>\n",
       "      <td>my notebook</td>\n",
       "      <td></td>\n",
       "    </tr>\n",
       "    <tr>\n",
       "      <th>1253</th>\n",
       "      <td>step by step approach to solve any problem</td>\n",
       "      <td></td>\n",
       "    </tr>\n",
       "    <tr>\n",
       "      <th>1448</th>\n",
       "      <td>being able to rerun blocks of code</td>\n",
       "      <td></td>\n",
       "    </tr>\n",
       "    <tr>\n",
       "      <th>305</th>\n",
       "      <td>preserving not just code but also output</td>\n",
       "      <td></td>\n",
       "    </tr>\n",
       "    <tr>\n",
       "      <th>1530</th>\n",
       "      <td>Ability to see a \"document\" of analysis</td>\n",
       "      <td></td>\n",
       "    </tr>\n",
       "    <tr>\n",
       "      <th>1020</th>\n",
       "      <td>Ready accessibility to each bit of code I need.</td>\n",
       "      <td></td>\n",
       "    </tr>\n",
       "    <tr>\n",
       "      <th>311</th>\n",
       "      <td>Little chunks</td>\n",
       "      <td></td>\n",
       "    </tr>\n",
       "  </tbody>\n",
       "</table>\n",
       "</div>"
      ],
      "text/plain": [
       "                                                    0 themes\n",
       "505                                         Debugging       \n",
       "221                      see my answers to question 6       \n",
       "7                             multiple output formats       \n",
       "389                           Creating video tutorial       \n",
       "431                                         Efficient       \n",
       "1083           Support for formatting, including math       \n",
       "68                                   json file format       \n",
       "29       Everything works (almost) always as expected       \n",
       "279                         Nice formatting of outpht       \n",
       "1372                fun to see output as you go along       \n",
       "54                          Code execution by blocks        \n",
       "1524               Lower bar than other environments        \n",
       "425                                  Sense of safety.       \n",
       "298                                       my notebook       \n",
       "1253       step by step approach to solve any problem       \n",
       "1448               being able to rerun blocks of code       \n",
       "305          preserving not just code but also output       \n",
       "1530          Ability to see a \"document\" of analysis       \n",
       "1020  Ready accessibility to each bit of code I need.       \n",
       "311                                     Little chunks       "
      ]
     },
     "execution_count": 18,
     "metadata": {},
     "output_type": "execute_result"
    }
   ],
   "source": [
    "tagged[tagged.themes.str.len() == 0].sample(20, random_state=rs)"
   ]
  },
  {
   "cell_type": "markdown",
   "metadata": {},
   "source": [
    "## Precision Check\n",
    "\n",
    "I then studied a sample of responses for each theme to see if there major inaccuracies in their application (e.g., string matches that are too fuzzy)."
   ]
  },
  {
   "cell_type": "code",
   "execution_count": 19,
   "metadata": {
    "collapsed": false
   },
   "outputs": [
    {
     "name": "stdout",
     "output_type": "stream",
     "text": [
      "hosting 71\n",
      "persistence 33\n",
      "extensible 22\n",
      "integrated_content 259\n",
      "ecosystem 80\n",
      "interactivity 234\n",
      "cost 5\n",
      "stability 6\n",
      "ux 355\n",
      "organization 4\n",
      "visualization 161\n",
      "language 58\n",
      "dissemination 109\n"
     ]
    },
    {
     "data": {
      "text/plain": [
       "1    739\n",
       "2    273\n",
       "0    117\n",
       "3     33\n",
       "4      2\n",
       "5      1\n",
       "Name: themes, dtype: int64"
      ]
     },
     "execution_count": 19,
     "metadata": {},
     "output_type": "execute_result"
    }
   ],
   "source": [
    "tagged = tag_themes(responses, themes)\n",
    "tagged.themes.str.count(',').value_counts()"
   ]
  },
  {
   "cell_type": "code",
   "execution_count": 20,
   "metadata": {
    "collapsed": true
   },
   "outputs": [],
   "source": [
    "from IPython.display import display, clear_output"
   ]
  },
  {
   "cell_type": "code",
   "execution_count": 21,
   "metadata": {
    "collapsed": false,
    "scrolled": false
   },
   "outputs": [],
   "source": [
    "# for key in themes:\n",
    "#     clear_output()\n",
    "#     size = min([10, len(tagged[tagged.themes.str.contains(key)])])\n",
    "#     display(tagged[tagged.themes.str.contains(key)].sample(size))\n",
    "#     if input('Showing `{}`. Type Enter to continue, \"q\" to stop.'.format(key)) == 'q':\n",
    "#         break"
   ]
  },
  {
   "cell_type": "markdown",
   "metadata": {},
   "source": [
    "I also looked at responses with multiple themes to fine tune them, and catch duplication of words in multiple themes."
   ]
  },
  {
   "cell_type": "code",
   "execution_count": 22,
   "metadata": {
    "collapsed": false
   },
   "outputs": [
    {
     "data": {
      "text/html": [
       "<div>\n",
       "<table border=\"1\" class=\"dataframe\">\n",
       "  <thead>\n",
       "    <tr style=\"text-align: right;\">\n",
       "      <th></th>\n",
       "      <th>0</th>\n",
       "      <th>themes</th>\n",
       "    </tr>\n",
       "  </thead>\n",
       "  <tbody>\n",
       "    <tr>\n",
       "      <th>263</th>\n",
       "      <td>Easy to export and share</td>\n",
       "      <td>ux,dissemination,</td>\n",
       "    </tr>\n",
       "    <tr>\n",
       "      <th>1178</th>\n",
       "      <td>integrated Markdown (and sometimes tables, figures) for inline documentation and \"literate programming\"</td>\n",
       "      <td>integrated_content,ux,</td>\n",
       "    </tr>\n",
       "    <tr>\n",
       "      <th>437</th>\n",
       "      <td>Easily integrates documentation, code, and media in one location.</td>\n",
       "      <td>integrated_content,ux,</td>\n",
       "    </tr>\n",
       "    <tr>\n",
       "      <th>384</th>\n",
       "      <td>Easy execution of cells</td>\n",
       "      <td>interactivity,ux,</td>\n",
       "    </tr>\n",
       "    <tr>\n",
       "      <th>918</th>\n",
       "      <td>integrated visualisation and tabulation</td>\n",
       "      <td>integrated_content,visualization,</td>\n",
       "    </tr>\n",
       "    <tr>\n",
       "      <th>1106</th>\n",
       "      <td>figures and tables in the interface</td>\n",
       "      <td>integrated_content,ux,</td>\n",
       "    </tr>\n",
       "    <tr>\n",
       "      <th>332</th>\n",
       "      <td>Inline plots</td>\n",
       "      <td>integrated_content,visualization,</td>\n",
       "    </tr>\n",
       "    <tr>\n",
       "      <th>305</th>\n",
       "      <td>remote access from a browser (I'm a Chromebook guy)</td>\n",
       "      <td>hosting,ux,</td>\n",
       "    </tr>\n",
       "    <tr>\n",
       "      <th>39</th>\n",
       "      <td>open source/cross platform</td>\n",
       "      <td>hosting,ecosystem,</td>\n",
       "    </tr>\n",
       "    <tr>\n",
       "      <th>741</th>\n",
       "      <td>immediate feedback</td>\n",
       "      <td>integrated_content,interactivity,</td>\n",
       "    </tr>\n",
       "    <tr>\n",
       "      <th>859</th>\n",
       "      <td>Easy to share with others</td>\n",
       "      <td>ux,dissemination,</td>\n",
       "    </tr>\n",
       "    <tr>\n",
       "      <th>1381</th>\n",
       "      <td>Easy to share analysis with others</td>\n",
       "      <td>ux,dissemination,</td>\n",
       "    </tr>\n",
       "    <tr>\n",
       "      <th>681</th>\n",
       "      <td>In-browser visualization</td>\n",
       "      <td>ux,visualization,</td>\n",
       "    </tr>\n",
       "    <tr>\n",
       "      <th>135</th>\n",
       "      <td>Very responsive, easy to use interactively</td>\n",
       "      <td>interactivity,ux,</td>\n",
       "    </tr>\n",
       "    <tr>\n",
       "      <th>960</th>\n",
       "      <td>REPL combined with markdown notes</td>\n",
       "      <td>integrated_content,interactivity,</td>\n",
       "    </tr>\n",
       "    <tr>\n",
       "      <th>541</th>\n",
       "      <td>Immediate execution and re-execution</td>\n",
       "      <td>integrated_content,interactivity,</td>\n",
       "    </tr>\n",
       "    <tr>\n",
       "      <th>219</th>\n",
       "      <td>A persistent, editable REPL</td>\n",
       "      <td>persistence,interactivity,</td>\n",
       "    </tr>\n",
       "    <tr>\n",
       "      <th>1048</th>\n",
       "      <td>code and inline plots being together</td>\n",
       "      <td>integrated_content,visualization,</td>\n",
       "    </tr>\n",
       "    <tr>\n",
       "      <th>1220</th>\n",
       "      <td>Ability to mix markdown with code and graphs</td>\n",
       "      <td>integrated_content,visualization,</td>\n",
       "    </tr>\n",
       "    <tr>\n",
       "      <th>1092</th>\n",
       "      <td>Direct visual feedback</td>\n",
       "      <td>interactivity,visualization,</td>\n",
       "    </tr>\n",
       "  </tbody>\n",
       "</table>\n",
       "</div>"
      ],
      "text/plain": [
       "                                                                                                            0  \\\n",
       "263                                                                                  Easy to export and share   \n",
       "1178  integrated Markdown (and sometimes tables, figures) for inline documentation and \"literate programming\"   \n",
       "437                                         Easily integrates documentation, code, and media in one location.   \n",
       "384                                                                                   Easy execution of cells   \n",
       "918                                                                   integrated visualisation and tabulation   \n",
       "1106                                                                      figures and tables in the interface   \n",
       "332                                                                                             Inline plots    \n",
       "305                                                       remote access from a browser (I'm a Chromebook guy)   \n",
       "39                                                                                 open source/cross platform   \n",
       "741                                                                                        immediate feedback   \n",
       "859                                                                                 Easy to share with others   \n",
       "1381                                                                       Easy to share analysis with others   \n",
       "681                                                                                  In-browser visualization   \n",
       "135                                                                Very responsive, easy to use interactively   \n",
       "960                                                                         REPL combined with markdown notes   \n",
       "541                                                                      Immediate execution and re-execution   \n",
       "219                                                                               A persistent, editable REPL   \n",
       "1048                                                                     code and inline plots being together   \n",
       "1220                                                             Ability to mix markdown with code and graphs   \n",
       "1092                                                                                   Direct visual feedback   \n",
       "\n",
       "                                 themes  \n",
       "263                   ux,dissemination,  \n",
       "1178             integrated_content,ux,  \n",
       "437              integrated_content,ux,  \n",
       "384                   interactivity,ux,  \n",
       "918   integrated_content,visualization,  \n",
       "1106             integrated_content,ux,  \n",
       "332   integrated_content,visualization,  \n",
       "305                         hosting,ux,  \n",
       "39                   hosting,ecosystem,  \n",
       "741   integrated_content,interactivity,  \n",
       "859                   ux,dissemination,  \n",
       "1381                  ux,dissemination,  \n",
       "681                   ux,visualization,  \n",
       "135                   interactivity,ux,  \n",
       "960   integrated_content,interactivity,  \n",
       "541   integrated_content,interactivity,  \n",
       "219          persistence,interactivity,  \n",
       "1048  integrated_content,visualization,  \n",
       "1220  integrated_content,visualization,  \n",
       "1092       interactivity,visualization,  "
      ]
     },
     "execution_count": 22,
     "metadata": {},
     "output_type": "execute_result"
    }
   ],
   "source": [
    "tagged[tagged.themes.str.count(',') == 2].sample(20, random_state=rs)"
   ]
  },
  {
   "cell_type": "markdown",
   "metadata": {},
   "source": [
    "## Keyword Frequencies"
   ]
  },
  {
   "cell_type": "code",
   "execution_count": 23,
   "metadata": {
    "collapsed": true
   },
   "outputs": [],
   "source": [
    "import matplotlib\n",
    "import seaborn"
   ]
  },
  {
   "cell_type": "code",
   "execution_count": 24,
   "metadata": {
    "collapsed": true
   },
   "outputs": [],
   "source": [
    "counts = {}"
   ]
  },
  {
   "cell_type": "code",
   "execution_count": 25,
   "metadata": {
    "collapsed": false
   },
   "outputs": [],
   "source": [
    "for theme, keywords in themes.items():\n",
    "    for keyword in keywords:\n",
    "        hits = responses.map(lambda text: keywords_or(text, [keyword]))\n",
    "        counts[keyword] = hits.sum()"
   ]
  },
  {
   "cell_type": "code",
   "execution_count": 26,
   "metadata": {
    "collapsed": true
   },
   "outputs": [],
   "source": [
    "hist = pd.Series(counts).sort_values()"
   ]
  },
  {
   "cell_type": "code",
   "execution_count": 27,
   "metadata": {
    "collapsed": false
   },
   "outputs": [
    {
     "data": {
      "image/png": "[encoded data removed]",
      "text/plain": [
       "<matplotlib.figure.Figure at 0x7f5c57171f60>"
      ]
     },
     "metadata": {},
     "output_type": "display_data"
    }
   ],
   "source": [
    "ax = hist[-30:].plot.barh(figsize=(8, 8))\n",
    "_ = ax.set_xlabel('Mentions')"
   ]
  },
  {
   "cell_type": "markdown",
   "metadata": {
    "collapsed": true
   },
   "source": [
    "## Persist\n",
    "\n",
    "I save off the themes and keywords to a DataFrame with the same index as the original so that the entries can be tagged."
   ]
  },
  {
   "cell_type": "code",
   "execution_count": 28,
   "metadata": {
    "collapsed": true
   },
   "outputs": [],
   "source": [
    "column = 'pleasant_aspects'"
   ]
  },
  {
   "cell_type": "code",
   "execution_count": 29,
   "metadata": {
    "collapsed": true
   },
   "outputs": [],
   "source": [
    "themes_df = tagged.themes.to_frame()"
   ]
  },
  {
   "cell_type": "code",
   "execution_count": 30,
   "metadata": {
    "collapsed": true
   },
   "outputs": [],
   "source": [
    "themes_df = themes_df.rename(columns={'themes' : column+'_themes'})"
   ]
  },
  {
   "cell_type": "code",
   "execution_count": 31,
   "metadata": {
    "collapsed": true
   },
   "outputs": [],
   "source": [
    "themes_df[column+'_keywords'] = ''"
   ]
  },
  {
   "cell_type": "code",
   "execution_count": 32,
   "metadata": {
    "collapsed": true
   },
   "outputs": [],
   "source": [
    "for theme, keywords in themes.items():\n",
    "    for keyword in keywords:\n",
    "        results = responses.map(lambda text: keywords_or(text, [keyword]))\n",
    "        themes_df.loc[results, column+'_keywords'] += keyword + ','"
   ]
  },
  {
   "cell_type": "code",
   "execution_count": 33,
   "metadata": {
    "collapsed": true
   },
   "outputs": [],
   "source": [
    "themes_df[column+'_themes'] = themes_df[column+'_themes'].str.rstrip(',')\n",
    "themes_df[column+'_keywords'] = themes_df[column+'_keywords'].str.rstrip(',')"
   ]
  },
  {
   "cell_type": "markdown",
   "metadata": {},
   "source": [
    "Up above, I merged the three response fields for the question into one common pool which means we can have duplicate index value in the themes DataFrame. We need to squash these down and remove duplicates."
   ]
  },
  {
   "cell_type": "code",
   "execution_count": 34,
   "metadata": {
    "collapsed": true
   },
   "outputs": [],
   "source": [
    "def union(group_df):\n",
    "    '''Gets the set union of themes and keywords for a given DataFrame.'''\n",
    "    themes = group_df[column+'_themes'].str.cat(sep=',')\n",
    "    themes = list(set(themes.split(',')))\n",
    "    themes = ','.join(theme for theme in themes if theme)\n",
    "    \n",
    "    keywords = group_df[column+'_keywords'].str.cat(sep=',')\n",
    "    keywords = list(set(keywords.split(',')))\n",
    "    keywords = ','.join(keyword for keyword in keywords if keyword)\n",
    "    return pd.Series([themes, keywords], index=[column+'_themes', column+'_keywords'])"
   ]
  },
  {
   "cell_type": "markdown",
   "metadata": {},
   "source": [
    "We group by the index and union the themes and keywords."
   ]
  },
  {
   "cell_type": "code",
   "execution_count": 35,
   "metadata": {
    "collapsed": true
   },
   "outputs": [],
   "source": [
    "themes_df = themes_df.groupby(themes_df.index).apply(union)"
   ]
  },
  {
   "cell_type": "code",
   "execution_count": 36,
   "metadata": {
    "collapsed": false
   },
   "outputs": [
    {
     "data": {
      "text/html": [
       "<div>\n",
       "<table border=\"1\" class=\"dataframe\">\n",
       "  <thead>\n",
       "    <tr style=\"text-align: right;\">\n",
       "      <th></th>\n",
       "      <th>pleasant_aspects_themes</th>\n",
       "      <th>pleasant_aspects_keywords</th>\n",
       "    </tr>\n",
       "  </thead>\n",
       "  <tbody>\n",
       "    <tr>\n",
       "      <th>1</th>\n",
       "      <td>visualization,ux</td>\n",
       "      <td>keyboard|hotkeys?|short-?cuts?|keybindings?,(ipy)?widgets</td>\n",
       "    </tr>\n",
       "    <tr>\n",
       "      <th>5</th>\n",
       "      <td>language,integrated_content</td>\n",
       "      <td>rich (content|output)|figures?|pictures?|images?|media,all(\\s|-)in(\\s|-)one|one place,notes|comments,i?python</td>\n",
       "    </tr>\n",
       "    <tr>\n",
       "      <th>6</th>\n",
       "      <td>visualization,dissemination,ecosystem,integrated_content,ux</td>\n",
       "      <td>github,eas(e|y|iness)(\\sof|\\sto)?(\\suse|install)?,shar(e|ing),plot(ting)?,(ipy)?widgets,combine|(text|code) (and|with)|and (code|text)</td>\n",
       "    </tr>\n",
       "    <tr>\n",
       "      <th>7</th>\n",
       "      <td>interactivity</td>\n",
       "      <td>interact(ive|ivity|ion)|live|immediate|quick|instant|rapid|fast|speed</td>\n",
       "    </tr>\n",
       "    <tr>\n",
       "      <th>9</th>\n",
       "      <td>hosting,language,persistence,ux</td>\n",
       "      <td>i?python,web|browser|http,state,docker</td>\n",
       "    </tr>\n",
       "  </tbody>\n",
       "</table>\n",
       "</div>"
      ],
      "text/plain": [
       "                                       pleasant_aspects_themes  \\\n",
       "1                                             visualization,ux   \n",
       "5                                  language,integrated_content   \n",
       "6  visualization,dissemination,ecosystem,integrated_content,ux   \n",
       "7                                                interactivity   \n",
       "9                              hosting,language,persistence,ux   \n",
       "\n",
       "                                                                                                                pleasant_aspects_keywords  \n",
       "1                                                                               keyboard|hotkeys?|short-?cuts?|keybindings?,(ipy)?widgets  \n",
       "5                           rich (content|output)|figures?|pictures?|images?|media,all(\\s|-)in(\\s|-)one|one place,notes|comments,i?python  \n",
       "6  github,eas(e|y|iness)(\\sof|\\sto)?(\\suse|install)?,shar(e|ing),plot(ting)?,(ipy)?widgets,combine|(text|code) (and|with)|and (code|text)  \n",
       "7                                                                   interact(ive|ivity|ion)|live|immediate|quick|instant|rapid|fast|speed  \n",
       "9                                                                                                  i?python,web|browser|http,state,docker  "
      ]
     },
     "execution_count": 36,
     "metadata": {},
     "output_type": "execute_result"
    }
   ],
   "source": [
    "themes_df.head()"
   ]
  },
  {
   "cell_type": "markdown",
   "metadata": {},
   "source": [
    "The themes DataFrame should have as many rows as there are non-null responses in the original DataFrame."
   ]
  },
  {
   "cell_type": "code",
   "execution_count": 37,
   "metadata": {
    "collapsed": true
   },
   "outputs": [],
   "source": [
    "assert len(themes_df) == len(df[[column+'_1', column+'_2', column+'_3']].dropna(how='all'))"
   ]
  },
  {
   "cell_type": "code",
   "execution_count": 38,
   "metadata": {
    "collapsed": true
   },
   "outputs": [],
   "source": [
    "themes_df.to_csv(column + '_themes.csv', sep=';')"
   ]
  },
  {
   "cell_type": "code",
   "execution_count": null,
   "metadata": {
    "collapsed": true
   },
   "outputs": [],
   "source": []
  }
 ],
 "metadata": {
  "kernelspec": {
   "display_name": "Python 3",
   "language": "python",
   "name": "python3"
  },
  "language_info": {
   "codemirror_mode": {
    "name": "ipython",
    "version": 3
   },
   "file_extension": ".py",
   "mimetype": "text/x-python",
   "name": "python",
   "nbconvert_exporter": "python",
   "pygments_lexer": "ipython3",
   "version": "3.4.4"
  }
 },
 "nbformat": 4,
 "nbformat_minor": 0
}
