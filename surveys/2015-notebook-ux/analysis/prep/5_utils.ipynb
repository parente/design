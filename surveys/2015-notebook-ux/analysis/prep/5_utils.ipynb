{
 "cells": [
  {
   "cell_type": "markdown",
   "metadata": {},
   "source": [
    "# Summary Report Utils\n",
    "\n",
    "This notebooks moves the verbose plotting and interaction routines to a separate notebook to avoid clutter in the final report. It is imported using the `jupyter_cms` extension."
   ]
  },
  {
   "cell_type": "code",
   "execution_count": 128,
   "metadata": {
    "collapsed": true
   },
   "outputs": [],
   "source": [
    "%matplotlib inline"
   ]
  },
  {
   "cell_type": "code",
   "execution_count": 129,
   "metadata": {
    "collapsed": false
   },
   "outputs": [],
   "source": [
    "# <api>\n",
    "import matplotlib.pyplot as plt\n",
    "import pandas as pd\n",
    "import seaborn as sns\n",
    "import numpy as np\n",
    "import os\n",
    "import glob\n",
    "import collections\n",
    "from ipywidgets import interact"
   ]
  },
  {
   "cell_type": "code",
   "execution_count": 130,
   "metadata": {
    "collapsed": false
   },
   "outputs": [],
   "source": [
    "df = pd.DataFrame({\n",
    "    'tags': [np.NaN, 'd,e,f', 'a,g,h,i', 'a,b,e,f,g'], \n",
    "    'roles_primary': ['x', 'y', 'x', 'y'],\n",
    "    'text_1': ['some text one', 'some text two', 'some text three', 'some text four'],\n",
    "    'text_2': ['more text one', 'more text two', 'more text three', np.NaN],\n",
    "})"
   ]
  },
  {
   "cell_type": "code",
   "execution_count": 131,
   "metadata": {
    "collapsed": true
   },
   "outputs": [],
   "source": [
    "# <api>\n",
    "def set_survey_df(df):\n",
    "    global survey_df\n",
    "    survey_df = df"
   ]
  },
  {
   "cell_type": "code",
   "execution_count": 132,
   "metadata": {
    "collapsed": true
   },
   "outputs": [],
   "source": [
    "# <api>\n",
    "def count_tags(tag_series, pct=False):\n",
    "    '''\n",
    "    Count comma separated tags.\n",
    "\n",
    "    :param tag_series: Series of comma separated tag values\n",
    "    :param pct: If True, compute percentages over number of respondents\n",
    "    :return: Series with individual tags as index, counts/percentages as values\n",
    "    '''\n",
    "    tagged = tag_series.dropna()\n",
    "    num_respondents = len(tagged)\n",
    "    \n",
    "    tag_counts = (tagged.str.split(',')\n",
    "        .apply(lambda x: pd.value_counts(x))\n",
    "        .sum(axis=0)\n",
    "        .sort_values(ascending=False)         \n",
    "    )\n",
    "    \n",
    "    if pct:\n",
    "        tag_counts = tag_counts.div(num_respondents)\n",
    "        tag_counts.name = 'Fraction of respondents'\n",
    "    else:\n",
    "        tag_counts.name = 'Respondents'\n",
    "    return tag_counts\n",
    "pd.Series.count_tags = count_tags"
   ]
  },
  {
   "cell_type": "code",
   "execution_count": 133,
   "metadata": {
    "collapsed": false
   },
   "outputs": [
    {
     "data": {
      "text/html": [
       "<div>\n",
       "<table border=\"1\" class=\"dataframe\">\n",
       "  <thead>\n",
       "    <tr style=\"text-align: right;\">\n",
       "      <th></th>\n",
       "      <th>roles_primary</th>\n",
       "      <th>tags</th>\n",
       "      <th>text_1</th>\n",
       "      <th>text_2</th>\n",
       "    </tr>\n",
       "  </thead>\n",
       "  <tbody>\n",
       "    <tr>\n",
       "      <th>0</th>\n",
       "      <td>x</td>\n",
       "      <td>NaN</td>\n",
       "      <td>some text one</td>\n",
       "      <td>more text one</td>\n",
       "    </tr>\n",
       "    <tr>\n",
       "      <th>1</th>\n",
       "      <td>y</td>\n",
       "      <td>d,e,f</td>\n",
       "      <td>some text two</td>\n",
       "      <td>more text two</td>\n",
       "    </tr>\n",
       "    <tr>\n",
       "      <th>2</th>\n",
       "      <td>x</td>\n",
       "      <td>a,g,h,i</td>\n",
       "      <td>some text three</td>\n",
       "      <td>more text three</td>\n",
       "    </tr>\n",
       "    <tr>\n",
       "      <th>3</th>\n",
       "      <td>y</td>\n",
       "      <td>a,b,e,f,g</td>\n",
       "      <td>some text four</td>\n",
       "      <td>NaN</td>\n",
       "    </tr>\n",
       "  </tbody>\n",
       "</table>\n",
       "</div>"
      ],
      "text/plain": [
       "  roles_primary       tags           text_1           text_2\n",
       "0             x        NaN    some text one    more text one\n",
       "1             y      d,e,f    some text two    more text two\n",
       "2             x    a,g,h,i  some text three  more text three\n",
       "3             y  a,b,e,f,g   some text four              NaN"
      ]
     },
     "execution_count": 133,
     "metadata": {},
     "output_type": "execute_result"
    }
   ],
   "source": [
    "# <help:count_tags>\n",
    "df"
   ]
  },
  {
   "cell_type": "code",
   "execution_count": 134,
   "metadata": {
    "collapsed": false
   },
   "outputs": [
    {
     "data": {
      "text/plain": [
       "g    2\n",
       "f    2\n",
       "e    2\n",
       "a    2\n",
       "i    1\n",
       "h    1\n",
       "d    1\n",
       "b    1\n",
       "Name: Respondents, dtype: float64"
      ]
     },
     "execution_count": 134,
     "metadata": {},
     "output_type": "execute_result"
    }
   ],
   "source": [
    "# <help:count_tags>\n",
    "df.tags.count_tags()"
   ]
  },
  {
   "cell_type": "code",
   "execution_count": 135,
   "metadata": {
    "collapsed": false
   },
   "outputs": [
    {
     "data": {
      "text/plain": [
       "g    0.666667\n",
       "f    0.666667\n",
       "e    0.666667\n",
       "a    0.666667\n",
       "i    0.333333\n",
       "h    0.333333\n",
       "d    0.333333\n",
       "b    0.333333\n",
       "Name: Fraction of respondents, dtype: float64"
      ]
     },
     "execution_count": 135,
     "metadata": {},
     "output_type": "execute_result"
    }
   ],
   "source": [
    "# <help:count_tags>\n",
    "df.tags.count_tags(pct=True)"
   ]
  },
  {
   "cell_type": "code",
   "execution_count": 136,
   "metadata": {
    "collapsed": false
   },
   "outputs": [],
   "source": [
    "# <api>\n",
    "def plot_tags(tag_series, ax=None):\n",
    "    '''\n",
    "    Plot tag counts.\n",
    "    \n",
    "    :param ax: Axis on which to plot\n",
    "    :return: Axis\n",
    "    '''\n",
    "    new_index = tag_series.reset_index()['index'].str.slice(0, 20)\n",
    "    tag_series.index = new_index\n",
    "    ax = tag_series.plot(kind='bar', color='black', ax=ax)\n",
    "    \n",
    "    ax.set_xlabel('')\n",
    "    ax.set_ylabel(tag_series.name)\n",
    "    ax.set_xticklabels(ax.get_xmajorticklabels(), rotation=25, ha='right')\n",
    "    return ax\n",
    "pd.Series.plot_tags = plot_tags"
   ]
  },
  {
   "cell_type": "code",
   "execution_count": 137,
   "metadata": {
    "collapsed": false
   },
   "outputs": [
    {
     "data": {
      "text/plain": [
       "<matplotlib.axes._subplots.AxesSubplot at 0x7f858f328a90>"
      ]
     },
     "execution_count": 137,
     "metadata": {},
     "output_type": "execute_result"
    },
    {
     "data": {
      "image/png": "[encoded data removed]",
      "text/plain": [
       "<matplotlib.figure.Figure at 0x7f858f328208>"
      ]
     },
     "metadata": {},
     "output_type": "display_data"
    }
   ],
   "source": [
    "# <help:plot_tags>\n",
    "df.tags.count_tags().plot_tags()"
   ]
  },
  {
   "cell_type": "code",
   "execution_count": 138,
   "metadata": {
    "collapsed": true
   },
   "outputs": [],
   "source": [
    "# <api>\n",
    "def count_tags_by(tag_series, category_series, pct=False):\n",
    "    '''\n",
    "    Count comma separated tags grouped by categories.\n",
    "    \n",
    "    :param tag_series: Series of comma separated tag values\n",
    "    :param category_series: Series of categories by which to group, indexed\n",
    "      the same as tag_series\n",
    "    :param pct: If True, Ccompute percentages within each category\n",
    "    :return: DataFrame with categories as columns, individual tags as index,\n",
    "      and counts/percentages as values\n",
    "    '''\n",
    "    # split tags into columns with 1-value per hit\n",
    "    tag_counts = (tag_series.dropna()\n",
    "        .str.split(',')\n",
    "        .apply(lambda x: pd.Series(1, index=set(x)))\n",
    "    )\n",
    "\n",
    "    by = category_series.name\n",
    "    tag_counts[by] = category_series\n",
    "    grouped_tag_counts = tag_counts.groupby(by).sum().T\n",
    "    \n",
    "    if pct:\n",
    "        grouped_tag_counts = grouped_tag_counts.div(category_series.value_counts())\n",
    "        grouped_tag_counts.index.name = 'Fraction of respondents in group'\n",
    "    else:\n",
    "        grouped_tag_counts.index.name = 'Respondents'\n",
    "    \n",
    "    return (grouped_tag_counts.reindex(\n",
    "                grouped_tag_counts\n",
    "                    .sum(axis=1)\n",
    "                    .sort_values(ascending=False)\n",
    "                    .index\n",
    "                )\n",
    "            )\n",
    "pd.Series.count_tags_by = count_tags_by"
   ]
  },
  {
   "cell_type": "code",
   "execution_count": 139,
   "metadata": {
    "collapsed": false
   },
   "outputs": [
    {
     "data": {
      "text/html": [
       "<div>\n",
       "<table border=\"1\" class=\"dataframe\">\n",
       "  <thead>\n",
       "    <tr style=\"text-align: right;\">\n",
       "      <th></th>\n",
       "      <th>roles_primary</th>\n",
       "      <th>tags</th>\n",
       "      <th>text_1</th>\n",
       "      <th>text_2</th>\n",
       "    </tr>\n",
       "  </thead>\n",
       "  <tbody>\n",
       "    <tr>\n",
       "      <th>0</th>\n",
       "      <td>x</td>\n",
       "      <td>NaN</td>\n",
       "      <td>some text one</td>\n",
       "      <td>more text one</td>\n",
       "    </tr>\n",
       "    <tr>\n",
       "      <th>1</th>\n",
       "      <td>y</td>\n",
       "      <td>d,e,f</td>\n",
       "      <td>some text two</td>\n",
       "      <td>more text two</td>\n",
       "    </tr>\n",
       "    <tr>\n",
       "      <th>2</th>\n",
       "      <td>x</td>\n",
       "      <td>a,g,h,i</td>\n",
       "      <td>some text three</td>\n",
       "      <td>more text three</td>\n",
       "    </tr>\n",
       "    <tr>\n",
       "      <th>3</th>\n",
       "      <td>y</td>\n",
       "      <td>a,b,e,f,g</td>\n",
       "      <td>some text four</td>\n",
       "      <td>NaN</td>\n",
       "    </tr>\n",
       "  </tbody>\n",
       "</table>\n",
       "</div>"
      ],
      "text/plain": [
       "  roles_primary       tags           text_1           text_2\n",
       "0             x        NaN    some text one    more text one\n",
       "1             y      d,e,f    some text two    more text two\n",
       "2             x    a,g,h,i  some text three  more text three\n",
       "3             y  a,b,e,f,g   some text four              NaN"
      ]
     },
     "execution_count": 139,
     "metadata": {},
     "output_type": "execute_result"
    }
   ],
   "source": [
    "# <help:count_tags_by>\n",
    "df"
   ]
  },
  {
   "cell_type": "code",
   "execution_count": 140,
   "metadata": {
    "collapsed": false
   },
   "outputs": [
    {
     "data": {
      "text/html": [
       "<div>\n",
       "<table border=\"1\" class=\"dataframe\">\n",
       "  <thead>\n",
       "    <tr style=\"text-align: right;\">\n",
       "      <th>roles_primary</th>\n",
       "      <th>x</th>\n",
       "      <th>y</th>\n",
       "    </tr>\n",
       "    <tr>\n",
       "      <th>Respondents</th>\n",
       "      <th></th>\n",
       "      <th></th>\n",
       "    </tr>\n",
       "  </thead>\n",
       "  <tbody>\n",
       "    <tr>\n",
       "      <th>g</th>\n",
       "      <td>1</td>\n",
       "      <td>1</td>\n",
       "    </tr>\n",
       "    <tr>\n",
       "      <th>f</th>\n",
       "      <td>NaN</td>\n",
       "      <td>2</td>\n",
       "    </tr>\n",
       "    <tr>\n",
       "      <th>e</th>\n",
       "      <td>NaN</td>\n",
       "      <td>2</td>\n",
       "    </tr>\n",
       "    <tr>\n",
       "      <th>a</th>\n",
       "      <td>1</td>\n",
       "      <td>1</td>\n",
       "    </tr>\n",
       "    <tr>\n",
       "      <th>i</th>\n",
       "      <td>1</td>\n",
       "      <td>NaN</td>\n",
       "    </tr>\n",
       "    <tr>\n",
       "      <th>h</th>\n",
       "      <td>1</td>\n",
       "      <td>NaN</td>\n",
       "    </tr>\n",
       "    <tr>\n",
       "      <th>d</th>\n",
       "      <td>NaN</td>\n",
       "      <td>1</td>\n",
       "    </tr>\n",
       "    <tr>\n",
       "      <th>b</th>\n",
       "      <td>NaN</td>\n",
       "      <td>1</td>\n",
       "    </tr>\n",
       "  </tbody>\n",
       "</table>\n",
       "</div>"
      ],
      "text/plain": [
       "roles_primary   x   y\n",
       "Respondents          \n",
       "g               1   1\n",
       "f             NaN   2\n",
       "e             NaN   2\n",
       "a               1   1\n",
       "i               1 NaN\n",
       "h               1 NaN\n",
       "d             NaN   1\n",
       "b             NaN   1"
      ]
     },
     "execution_count": 140,
     "metadata": {},
     "output_type": "execute_result"
    }
   ],
   "source": [
    "# <help:count_tags_by>\n",
    "df.tags.count_tags_by(df.roles_primary)"
   ]
  },
  {
   "cell_type": "code",
   "execution_count": 141,
   "metadata": {
    "collapsed": false
   },
   "outputs": [
    {
     "data": {
      "text/html": [
       "<div>\n",
       "<table border=\"1\" class=\"dataframe\">\n",
       "  <thead>\n",
       "    <tr style=\"text-align: right;\">\n",
       "      <th></th>\n",
       "      <th>x</th>\n",
       "      <th>y</th>\n",
       "    </tr>\n",
       "    <tr>\n",
       "      <th>Fraction of respondents in group</th>\n",
       "      <th></th>\n",
       "      <th></th>\n",
       "    </tr>\n",
       "  </thead>\n",
       "  <tbody>\n",
       "    <tr>\n",
       "      <th>g</th>\n",
       "      <td>0.5</td>\n",
       "      <td>0.5</td>\n",
       "    </tr>\n",
       "    <tr>\n",
       "      <th>f</th>\n",
       "      <td>NaN</td>\n",
       "      <td>1.0</td>\n",
       "    </tr>\n",
       "    <tr>\n",
       "      <th>e</th>\n",
       "      <td>NaN</td>\n",
       "      <td>1.0</td>\n",
       "    </tr>\n",
       "    <tr>\n",
       "      <th>a</th>\n",
       "      <td>0.5</td>\n",
       "      <td>0.5</td>\n",
       "    </tr>\n",
       "    <tr>\n",
       "      <th>i</th>\n",
       "      <td>0.5</td>\n",
       "      <td>NaN</td>\n",
       "    </tr>\n",
       "    <tr>\n",
       "      <th>h</th>\n",
       "      <td>0.5</td>\n",
       "      <td>NaN</td>\n",
       "    </tr>\n",
       "    <tr>\n",
       "      <th>d</th>\n",
       "      <td>NaN</td>\n",
       "      <td>0.5</td>\n",
       "    </tr>\n",
       "    <tr>\n",
       "      <th>b</th>\n",
       "      <td>NaN</td>\n",
       "      <td>0.5</td>\n",
       "    </tr>\n",
       "  </tbody>\n",
       "</table>\n",
       "</div>"
      ],
      "text/plain": [
       "                                    x    y\n",
       "Fraction of respondents in group          \n",
       "g                                 0.5  0.5\n",
       "f                                 NaN  1.0\n",
       "e                                 NaN  1.0\n",
       "a                                 0.5  0.5\n",
       "i                                 0.5  NaN\n",
       "h                                 0.5  NaN\n",
       "d                                 NaN  0.5\n",
       "b                                 NaN  0.5"
      ]
     },
     "execution_count": 141,
     "metadata": {},
     "output_type": "execute_result"
    }
   ],
   "source": [
    "# <help:count_tags_by>\n",
    "df.tags.count_tags_by(df.roles_primary, pct=True)"
   ]
  },
  {
   "cell_type": "code",
   "execution_count": 142,
   "metadata": {
    "collapsed": true
   },
   "outputs": [],
   "source": [
    "# <api>\n",
    "def plot_tags_by(grouped_tag_counts, ax=None, order=None):\n",
    "    '''\n",
    "    Plot tag counts grouped by category.\n",
    "    \n",
    "    :param order: Order of the groups, to help ensure common color assignment across plots \n",
    "    :param ax: Axis on which to plot\n",
    "\n",
    "    :return: Axis\n",
    "    '''\n",
    "    if order:\n",
    "        grouped_tag_counts = grouped_tag_counts.loc[:, order]\n",
    "    \n",
    "    # trunacate labels\n",
    "    new_index = grouped_tag_counts.index.to_series()\n",
    "    new_index = new_index.str.slice(0, 20)\n",
    "    # want the truncated series values to be the new index, so assign\n",
    "    grouped_tag_counts.index = new_index\n",
    "\n",
    "    ax = grouped_tag_counts.plot(kind='bar', ax=ax)\n",
    "\n",
    "    ax.set_xlabel('')\n",
    "    ax.set_ylabel(grouped_tag_counts.index.name)\n",
    "    ax.set_xticklabels(ax.get_xmajorticklabels(), rotation=25, ha='right')\n",
    "    \n",
    "    return ax\n",
    "pd.DataFrame.plot_tags_by = plot_tags_by"
   ]
  },
  {
   "cell_type": "code",
   "execution_count": 143,
   "metadata": {
    "collapsed": true
   },
   "outputs": [],
   "source": [
    "# <api>\n",
    "def order_data(data, order=None):\n",
    "    '''\n",
    "    Sort data by order, to help ensure the common color assignment across plots\n",
    "    \n",
    "    :param data: Data to sort\n",
    "    :param order: Order of the group\n",
    "    \n",
    "    :return: same type of data\n",
    "    '''\n",
    "    if order:\n",
    "        data = data.loc[:,order]\n",
    "        \n",
    "    # trunacate labels\n",
    "    new_index = data.index.to_series()\n",
    "    new_index = new_index.str.slice(0, 20)\n",
    "    # want the truncated series values to be the new index, so assign\n",
    "    data.index = new_index\n",
    "    return data\n",
    "pd.DataFrame.order_data = order_data"
   ]
  },
  {
   "cell_type": "code",
   "execution_count": 144,
   "metadata": {
    "collapsed": false
   },
   "outputs": [
    {
     "data": {
      "text/plain": [
       "<matplotlib.axes._subplots.AxesSubplot at 0x7f858f46f518>"
      ]
     },
     "execution_count": 144,
     "metadata": {},
     "output_type": "execute_result"
    },
    {
     "data": {
      "image/png": "[encoded data removed]",
      "text/plain": [
       "<matplotlib.figure.Figure at 0x7f858f345b38>"
      ]
     },
     "metadata": {},
     "output_type": "display_data"
    }
   ],
   "source": [
    "# <help:plot_tags_by>\n",
    "df.tags.count_tags_by(df.roles_primary).plot_tags_by()"
   ]
  },
  {
   "cell_type": "code",
   "execution_count": 145,
   "metadata": {
    "collapsed": false
   },
   "outputs": [],
   "source": [
    "# <api>\n",
    "group_names = collections.OrderedDict([\n",
    "    ('-- No grouping --', '-- No grouping --'),\n",
    "    ('How often do you use Jupyter Notebook?', 'how_often'),\n",
    "    ('Roughly how long have you been using Jupyter Notebook?', 'how_long_used'),\n",
    "    ('How many years have you been in this job role?', 'years_in_role'),\n",
    "    ('How many people typically see and/or interact with the results of your work in Jupyter Notebook?', 'audience_size'),\n",
    "    ('What is your primary role when using Jupyter Notebook?', 'roles_primary')\n",
    "])\n",
    "group_orders = {\n",
    "    'how_often': ['Daily', 'Weekly', 'Monthly', 'Less often than monthly'],\n",
    "    'audience_size': ['Tens', 'Hundreds', 'Thousands', 'Tens of thousands', 'Hundreds of thousands or more'],\n",
    "    'years_in_role': ['5+ years', '2-5 years', '1 year', 'Less than 1 year'],\n",
    "    'how_long_used': ['One year or more', 'Less than one year'],\n",
    "    'how_run': ['As a standalone application', 'Through Jupyter Hub', 'Other - Write In']\n",
    "}\n",
    "default_labels = ['Keyword patterns', 'Annotator themes']\n",
    "cutoff = 15"
   ]
  },
  {
   "cell_type": "code",
   "execution_count": 146,
   "metadata": {
    "collapsed": false
   },
   "outputs": [],
   "source": [
    "# <api>\n",
    "def explore(df, series, labels=default_labels):\n",
    "    '''\n",
    "    Creates an interactive widget in which the user can:\n",
    "    \n",
    "    * Look at response counts and percentages for one of the provided series\n",
    "    * Group values in the selected series by responses to other questions\n",
    "    \n",
    "    :param df: DataFrame containing all of the series and all of the\n",
    "        possible columns to group by\n",
    "    :param series: Series to plot\n",
    "    :param labels: Labels to show for the series\n",
    "    '''\n",
    "    @interact(show=labels, \n",
    "              group_by=list(group_names.keys()), \n",
    "              values=['Counts', 'Percentages'])\n",
    "    def _explore(show, group_by, values):\n",
    "        tag_series = series[labels.index(show)]\n",
    "        percentages = True if values == 'Percentages' else False\n",
    "            \n",
    "        group_by = group_names[group_by]\n",
    "        order = group_orders.get(group_by)\n",
    "\n",
    "        if group_by == '-- No grouping --':\n",
    "            ax = tag_series.count_tags(pct=percentages).head(cutoff).plot_tags()\n",
    "        elif group_by in df.columns:\n",
    "            ax = tag_series.count_tags_by(df[group_by], pct=percentages).head(cutoff).plot_tags_by(order=order)\n",
    "        else:\n",
    "            print('Group by column not found')\n",
    "            return\n",
    "        \n",
    "        ax.set_xlabel('Top {} ({} max)'.format(show.lower(), cutoff))"
   ]
  },
  {
   "cell_type": "markdown",
   "metadata": {},
   "source": [
    "Note: The test DataFrame in this notebook only has one column to group by `roles_primary` which is tied to the `group_by` value \"What is your primary role when using Jupyter Notebook?\" below."
   ]
  },
  {
   "cell_type": "code",
   "execution_count": 147,
   "metadata": {
    "collapsed": false
   },
   "outputs": [
    {
     "data": {
      "image/png": "[encoded data removed]",
      "text/plain": [
       "<matplotlib.figure.Figure at 0x7f858f261438>"
      ]
     },
     "metadata": {},
     "output_type": "display_data"
    }
   ],
   "source": [
    "# <help:explore>\n",
    "explore(df, [df.tags], ['tags'])"
   ]
  },
  {
   "cell_type": "code",
   "execution_count": 148,
   "metadata": {
    "collapsed": true
   },
   "outputs": [],
   "source": [
    "# <api>\n",
    "def exploreDataFrame(series:str, group_by:str='no_grouping', percentages:bool=False, df=None):\n",
    "    '''\n",
    "    Prep DataFrame for plotting by survey-explorer chart.\n",
    "    \n",
    "    :param series: Column to use for the x-axis in the chart\n",
    "    :param group_by: Column to group the series by \n",
    "    :param percentages: Show percentages (True) or raw counts (False)\n",
    "    :param df: DataFrame to use (for testing)\n",
    "    :return: DataFrame with columns Respondants, x, y\n",
    "    '''\n",
    "    if df is None:\n",
    "        # default to using a global since we don't want to pass a dataframe back and forth\n",
    "        # between JS and Python when using decl widgets\n",
    "        df = survey_df\n",
    "    \n",
    "    default_labels = ['Keyword patterns', 'Annotator themes']\n",
    "    cutoff = 15\n",
    "    order = group_orders.get(group_by)\n",
    "\n",
    "    if group_by == 'no_grouping':\n",
    "#         print(df)\n",
    "        ax = df[series].count_tags(pct=percentages)\n",
    "    elif group_by in df.columns:\n",
    "        ax = df[series].count_tags_by(df[group_by], pct=percentages).order_data(order=order)\n",
    "    else:\n",
    "#         print('Group by column not found')\n",
    "        return\n",
    "\n",
    "    return ax.head(cutoff).reset_index()"
   ]
  },
  {
   "cell_type": "code",
   "execution_count": 149,
   "metadata": {
    "collapsed": false
   },
   "outputs": [
    {
     "data": {
      "text/html": [
       "<div>\n",
       "<table border=\"1\" class=\"dataframe\">\n",
       "  <thead>\n",
       "    <tr style=\"text-align: right;\">\n",
       "      <th></th>\n",
       "      <th>index</th>\n",
       "      <th>Respondents</th>\n",
       "    </tr>\n",
       "  </thead>\n",
       "  <tbody>\n",
       "    <tr>\n",
       "      <th>0</th>\n",
       "      <td>g</td>\n",
       "      <td>2</td>\n",
       "    </tr>\n",
       "    <tr>\n",
       "      <th>1</th>\n",
       "      <td>f</td>\n",
       "      <td>2</td>\n",
       "    </tr>\n",
       "    <tr>\n",
       "      <th>2</th>\n",
       "      <td>e</td>\n",
       "      <td>2</td>\n",
       "    </tr>\n",
       "    <tr>\n",
       "      <th>3</th>\n",
       "      <td>a</td>\n",
       "      <td>2</td>\n",
       "    </tr>\n",
       "    <tr>\n",
       "      <th>4</th>\n",
       "      <td>i</td>\n",
       "      <td>1</td>\n",
       "    </tr>\n",
       "    <tr>\n",
       "      <th>5</th>\n",
       "      <td>h</td>\n",
       "      <td>1</td>\n",
       "    </tr>\n",
       "    <tr>\n",
       "      <th>6</th>\n",
       "      <td>d</td>\n",
       "      <td>1</td>\n",
       "    </tr>\n",
       "    <tr>\n",
       "      <th>7</th>\n",
       "      <td>b</td>\n",
       "      <td>1</td>\n",
       "    </tr>\n",
       "  </tbody>\n",
       "</table>\n",
       "</div>"
      ],
      "text/plain": [
       "  index  Respondents\n",
       "0     g            2\n",
       "1     f            2\n",
       "2     e            2\n",
       "3     a            2\n",
       "4     i            1\n",
       "5     h            1\n",
       "6     d            1\n",
       "7     b            1"
      ]
     },
     "execution_count": 149,
     "metadata": {},
     "output_type": "execute_result"
    }
   ],
   "source": [
    "# <help:exploreDataFrame>\n",
    "exploreDataFrame('tags', df=df)"
   ]
  },
  {
   "cell_type": "code",
   "execution_count": 150,
   "metadata": {
    "collapsed": false
   },
   "outputs": [
    {
     "data": {
      "text/html": [
       "<div>\n",
       "<table border=\"1\" class=\"dataframe\">\n",
       "  <thead>\n",
       "    <tr style=\"text-align: right;\">\n",
       "      <th>roles_primary</th>\n",
       "      <th>Respondents</th>\n",
       "      <th>x</th>\n",
       "      <th>y</th>\n",
       "    </tr>\n",
       "  </thead>\n",
       "  <tbody>\n",
       "    <tr>\n",
       "      <th>0</th>\n",
       "      <td>g</td>\n",
       "      <td>1</td>\n",
       "      <td>1</td>\n",
       "    </tr>\n",
       "    <tr>\n",
       "      <th>1</th>\n",
       "      <td>f</td>\n",
       "      <td>NaN</td>\n",
       "      <td>2</td>\n",
       "    </tr>\n",
       "    <tr>\n",
       "      <th>2</th>\n",
       "      <td>e</td>\n",
       "      <td>NaN</td>\n",
       "      <td>2</td>\n",
       "    </tr>\n",
       "    <tr>\n",
       "      <th>3</th>\n",
       "      <td>a</td>\n",
       "      <td>1</td>\n",
       "      <td>1</td>\n",
       "    </tr>\n",
       "    <tr>\n",
       "      <th>4</th>\n",
       "      <td>i</td>\n",
       "      <td>1</td>\n",
       "      <td>NaN</td>\n",
       "    </tr>\n",
       "    <tr>\n",
       "      <th>5</th>\n",
       "      <td>h</td>\n",
       "      <td>1</td>\n",
       "      <td>NaN</td>\n",
       "    </tr>\n",
       "    <tr>\n",
       "      <th>6</th>\n",
       "      <td>d</td>\n",
       "      <td>NaN</td>\n",
       "      <td>1</td>\n",
       "    </tr>\n",
       "    <tr>\n",
       "      <th>7</th>\n",
       "      <td>b</td>\n",
       "      <td>NaN</td>\n",
       "      <td>1</td>\n",
       "    </tr>\n",
       "  </tbody>\n",
       "</table>\n",
       "</div>"
      ],
      "text/plain": [
       "roles_primary Respondents   x   y\n",
       "0                       g   1   1\n",
       "1                       f NaN   2\n",
       "2                       e NaN   2\n",
       "3                       a   1   1\n",
       "4                       i   1 NaN\n",
       "5                       h   1 NaN\n",
       "6                       d NaN   1\n",
       "7                       b NaN   1"
      ]
     },
     "execution_count": 150,
     "metadata": {},
     "output_type": "execute_result"
    }
   ],
   "source": [
    "# <help:exploreDataFrame>\n",
    "exploreDataFrame('tags', group_by='roles_primary', df=df)"
   ]
  },
  {
   "cell_type": "code",
   "execution_count": 151,
   "metadata": {
    "collapsed": true
   },
   "outputs": [],
   "source": [
    "# <api>\n",
    "def getSample(keyword=\"\", series=\"\", sample_source=[], groupby=\"no_grouping\", groupby_key=\"\", sample_size=10, df=None):\n",
    "    '''\n",
    "    :param keyword: Keyword to match (e.g., explor from the x-axis)\n",
    "    :param series: Column in which to match the keyword (e.g., workflow_needs_addressed_keywords)\n",
    "    :param sample_source: Columns from which to draw a random sample\n",
    "    :param groupby: Column currently selected for grouping op (e.g., how_often)\n",
    "    :param groupby_key: Actual value to group by (e.g., Daily or Weekly or ... exclusive because no multi-select)\n",
    "    :param df: DataFrame to use (for testing)\n",
    "    '''\n",
    "    if df is None:\n",
    "        # default to using a global since we don't want to pass a dataframe back and forth\n",
    "        # between JS and Python when using decl widgets\n",
    "        df = survey_df\n",
    "        \n",
    "    data = None\n",
    "    if keyword:\n",
    "        if groupby == \"no_grouping\":\n",
    "            # find all the rows which have the keyword in them\n",
    "            data = df[df[series].str.contains(keyword, regex=False).fillna(False)]\n",
    "            # only take the columns from which we want to sample\n",
    "            data = data[sample_source]\n",
    "        else:\n",
    "            # get the rows which match the groupby criteria\n",
    "            data = df[df[groupby] == groupby_key]\n",
    "            # find all the rows which have the keyword in them\n",
    "            data = data[data[series].str.contains(keyword, regex=False).fillna(False)]\n",
    "            # only take the columns from which we want to sample\n",
    "            data = data[sample_source]\n",
    "        data = data.sample(min(sample_size, len(data)))\n",
    "    return pd.DataFrame(data)"
   ]
  },
  {
   "cell_type": "code",
   "execution_count": 152,
   "metadata": {
    "collapsed": false
   },
   "outputs": [
    {
     "data": {
      "text/html": [
       "<div>\n",
       "<table border=\"1\" class=\"dataframe\">\n",
       "  <thead>\n",
       "    <tr style=\"text-align: right;\">\n",
       "      <th></th>\n",
       "      <th>text_1</th>\n",
       "      <th>text_2</th>\n",
       "    </tr>\n",
       "  </thead>\n",
       "  <tbody>\n",
       "    <tr>\n",
       "      <th>2</th>\n",
       "      <td>some text three</td>\n",
       "      <td>more text three</td>\n",
       "    </tr>\n",
       "    <tr>\n",
       "      <th>3</th>\n",
       "      <td>some text four</td>\n",
       "      <td>NaN</td>\n",
       "    </tr>\n",
       "  </tbody>\n",
       "</table>\n",
       "</div>"
      ],
      "text/plain": [
       "            text_1           text_2\n",
       "2  some text three  more text three\n",
       "3   some text four              NaN"
      ]
     },
     "execution_count": 152,
     "metadata": {},
     "output_type": "execute_result"
    }
   ],
   "source": [
    "# <help:getSample>\n",
    "getSample('a', 'tags', ['text_1', 'text_2'], df=df)"
   ]
  },
  {
   "cell_type": "code",
   "execution_count": 153,
   "metadata": {
    "collapsed": false
   },
   "outputs": [
    {
     "data": {
      "text/html": [
       "<div>\n",
       "<table border=\"1\" class=\"dataframe\">\n",
       "  <thead>\n",
       "    <tr style=\"text-align: right;\">\n",
       "      <th></th>\n",
       "      <th>text_1</th>\n",
       "      <th>text_2</th>\n",
       "    </tr>\n",
       "  </thead>\n",
       "  <tbody>\n",
       "    <tr>\n",
       "      <th>3</th>\n",
       "      <td>some text four</td>\n",
       "      <td>NaN</td>\n",
       "    </tr>\n",
       "  </tbody>\n",
       "</table>\n",
       "</div>"
      ],
      "text/plain": [
       "           text_1 text_2\n",
       "3  some text four    NaN"
      ]
     },
     "execution_count": 153,
     "metadata": {},
     "output_type": "execute_result"
    }
   ],
   "source": [
    "# <help:getSample>\n",
    "getSample('a', 'tags', ['text_1', 'text_2'], groupby='roles_primary', groupby_key='y', df=df)"
   ]
  }
 ],
 "metadata": {
  "kernelspec": {
   "display_name": "Python 3",
   "language": "python",
   "name": "python3"
  },
  "language_info": {
   "codemirror_mode": {
    "name": "ipython",
    "version": 3
   },
   "file_extension": ".py",
   "mimetype": "text/x-python",
   "name": "python",
   "nbconvert_exporter": "python",
   "pygments_lexer": "ipython3",
   "version": "3.4.4"
  }
 },
 "nbformat": 4,
 "nbformat_minor": 0
}
