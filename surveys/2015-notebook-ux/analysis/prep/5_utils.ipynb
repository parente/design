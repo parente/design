{
 "cells": [
  {
   "cell_type": "markdown",
   "metadata": {},
   "source": [
    "# Summary Report Utils\n",
    "\n",
    "This notebooks moves the verbose plotting and interaction routines to a separate notebook to avoid clutter in the final report. It is imported using the `jupyter_cms` extension."
   ]
  },
  {
   "cell_type": "code",
   "execution_count": null,
   "metadata": {
    "collapsed": true
   },
   "outputs": [],
   "source": [
    "%matplotlib inline"
   ]
  },
  {
   "cell_type": "code",
   "execution_count": null,
   "metadata": {
    "collapsed": false
   },
   "outputs": [],
   "source": [
    "# <api>\n",
    "import matplotlib.pyplot as plt\n",
    "import pandas as pd\n",
    "import seaborn as sns\n",
    "import numpy as np\n",
    "import os\n",
    "import glob\n",
    "import collections\n",
    "from ipywidgets import interact"
   ]
  },
  {
   "cell_type": "code",
   "execution_count": null,
   "metadata": {
    "collapsed": false
   },
   "outputs": [],
   "source": [
    "df = pd.DataFrame({'tags': ['a,b,c', 'd,e,f', 'a,g,h,i', 'a,b,e,f,g'], 'roles_primary': ['x', 'y', 'x', 'y']})"
   ]
  },
  {
   "cell_type": "code",
   "execution_count": null,
   "metadata": {
    "collapsed": true
   },
   "outputs": [],
   "source": [
    "# <api>\n",
    "def set_survey_df(df):\n",
    "    global survey_df\n",
    "    survey_df = df"
   ]
  },
  {
   "cell_type": "code",
   "execution_count": null,
   "metadata": {
    "collapsed": true
   },
   "outputs": [],
   "source": [
    "# <api>\n",
    "def count_tags(tag_series, pct=False):\n",
    "    '''\n",
    "    Count comma separated tags.\n",
    "\n",
    "    :param tag_series: Series of comma separated tag values\n",
    "    :param pct: If True, compute percentages over number of respondents\n",
    "    :return: Series with individual tags as index, counts/percentages as values\n",
    "    '''\n",
    "    tagged = tag_series.dropna()\n",
    "    num_respondents = len(tagged)\n",
    "    \n",
    "    tag_counts = (tagged.str.split(',')\n",
    "        .apply(lambda x: pd.value_counts(x))\n",
    "        .sum(axis=0)\n",
    "        .sort_values(ascending=False)         \n",
    "    )\n",
    "    \n",
    "    if pct:\n",
    "        tag_counts = tag_counts.div(num_respondents)\n",
    "        tag_counts.name = 'Fraction of respondents'\n",
    "    else:\n",
    "        tag_counts.name = 'Respondents'\n",
    "    return tag_counts\n",
    "pd.Series.count_tags = count_tags"
   ]
  },
  {
   "cell_type": "code",
   "execution_count": null,
   "metadata": {
    "collapsed": false
   },
   "outputs": [],
   "source": [
    "# <help:count_tags>\n",
    "df"
   ]
  },
  {
   "cell_type": "code",
   "execution_count": null,
   "metadata": {
    "collapsed": false
   },
   "outputs": [],
   "source": [
    "# <help:count_tags>\n",
    "df.tags.count_tags()"
   ]
  },
  {
   "cell_type": "code",
   "execution_count": null,
   "metadata": {
    "collapsed": false
   },
   "outputs": [],
   "source": [
    "# <help:count_tags>\n",
    "df.tags.count_tags(pct=True)"
   ]
  },
  {
   "cell_type": "code",
   "execution_count": null,
   "metadata": {
    "collapsed": false
   },
   "outputs": [],
   "source": [
    "# <api>\n",
    "def plot_tags(tag_series, ax=None):\n",
    "    '''\n",
    "    Plot tag counts.\n",
    "    \n",
    "    :param ax: Axis on which to plot\n",
    "    :return: Axis\n",
    "    '''\n",
    "    new_index = tag_series.reset_index()['index'].str.slice(0, 20)\n",
    "    tag_series.index = new_index\n",
    "    ax = tag_series.plot(kind='bar', color='black', ax=ax)\n",
    "    \n",
    "    ax.set_xlabel('')\n",
    "    ax.set_ylabel(tag_series.name)\n",
    "    ax.set_xticklabels(ax.get_xmajorticklabels(), rotation=25, ha='right')\n",
    "    return ax\n",
    "pd.Series.plot_tags = plot_tags"
   ]
  },
  {
   "cell_type": "code",
   "execution_count": null,
   "metadata": {
    "collapsed": false
   },
   "outputs": [],
   "source": [
    "# <help:plot_tags>\n",
    "df.tags.count_tags().plot_tags()"
   ]
  },
  {
   "cell_type": "code",
   "execution_count": null,
   "metadata": {
    "collapsed": true
   },
   "outputs": [],
   "source": [
    "# <api>\n",
    "def count_tags_by(tag_series, category_series, pct=False):\n",
    "    '''\n",
    "    Count comma separated tags grouped by categories.\n",
    "    \n",
    "    :param tag_series: Series of comma separated tag values\n",
    "    :param category_series: Series of categories by which to group, indexed\n",
    "      the same as tag_series\n",
    "    :param pct: If True, Ccompute percentages within each category\n",
    "    :return: DataFrame with categories as columns, individual tags as index,\n",
    "      and counts/percentages as values\n",
    "    '''\n",
    "    # split tags into columns with 1-value per hit\n",
    "    tag_counts = (tag_series.dropna()\n",
    "        .str.split(',')\n",
    "        .apply(lambda x: pd.Series(1, index=set(x)))\n",
    "    )\n",
    "\n",
    "    by = category_series.name\n",
    "    tag_counts[by] = category_series\n",
    "    grouped_tag_counts = tag_counts.groupby(by).sum().T\n",
    "    \n",
    "    if pct:\n",
    "        grouped_tag_counts = grouped_tag_counts.div(category_series.value_counts())\n",
    "        grouped_tag_counts.index.name = 'Fraction of respondents in group'\n",
    "    else:\n",
    "        grouped_tag_counts.index.name = 'Respondents'\n",
    "    \n",
    "    return (grouped_tag_counts.reindex(\n",
    "                grouped_tag_counts\n",
    "                    .sum(axis=1)\n",
    "                    .sort_values(ascending=False)\n",
    "                    .index\n",
    "                )\n",
    "            )\n",
    "pd.Series.count_tags_by = count_tags_by"
   ]
  },
  {
   "cell_type": "code",
   "execution_count": null,
   "metadata": {
    "collapsed": false
   },
   "outputs": [],
   "source": [
    "# <help:count_tags_by>\n",
    "df"
   ]
  },
  {
   "cell_type": "code",
   "execution_count": null,
   "metadata": {
    "collapsed": false
   },
   "outputs": [],
   "source": [
    "# <help:count_tags_by>\n",
    "df.tags.count_tags_by(df.roles_primary)"
   ]
  },
  {
   "cell_type": "code",
   "execution_count": null,
   "metadata": {
    "collapsed": false
   },
   "outputs": [],
   "source": [
    "# <help:count_tags_by>\n",
    "df.tags.count_tags_by(df.roles_primary, pct=True)"
   ]
  },
  {
   "cell_type": "code",
   "execution_count": null,
   "metadata": {
    "collapsed": true
   },
   "outputs": [],
   "source": [
    "# <api>\n",
    "def plot_tags_by(grouped_tag_counts, ax=None, order=None):\n",
    "    '''\n",
    "    Plot tag counts grouped by category.\n",
    "    \n",
    "    :param order: Order of the groups, to help ensure common color assignment across plots \n",
    "    :param ax: Axis on which to plot\n",
    "\n",
    "    :return: Axis\n",
    "    '''\n",
    "    if order:\n",
    "        grouped_tag_counts = grouped_tag_counts.loc[:, order]\n",
    "    \n",
    "    # trunacate labels\n",
    "    new_index = grouped_tag_counts.index.to_series()\n",
    "    new_index = new_index.str.slice(0, 20)\n",
    "    # want the truncated series values to be the new index, so assign\n",
    "    grouped_tag_counts.index = new_index\n",
    "\n",
    "    ax = grouped_tag_counts.plot(kind='bar', ax=ax)\n",
    "\n",
    "    ax.set_xlabel('')\n",
    "    ax.set_ylabel(grouped_tag_counts.index.name)\n",
    "    ax.set_xticklabels(ax.get_xmajorticklabels(), rotation=25, ha='right')\n",
    "    \n",
    "    return ax\n",
    "pd.DataFrame.plot_tags_by = plot_tags_by"
   ]
  },
  {
   "cell_type": "code",
   "execution_count": null,
   "metadata": {
    "collapsed": true
   },
   "outputs": [],
   "source": [
    "# <api>\n",
    "def order_data(data, order=None):\n",
    "    '''\n",
    "    Sort data by order, to help ensure the common color assignment across plots\n",
    "    \n",
    "    :param data: Data to sort\n",
    "    :param order: Order of the group\n",
    "    \n",
    "    :return: same type of data\n",
    "    '''\n",
    "    if order:\n",
    "        data = data.loc[:,order]\n",
    "        \n",
    "    # trunacate labels\n",
    "    new_index = data.index.to_series()\n",
    "    new_index = new_index.str.slice(0, 20)\n",
    "    # want the truncated series values to be the new index, so assign\n",
    "    data.index = new_index\n",
    "    return data\n",
    "pd.DataFrame.order_data = order_data"
   ]
  },
  {
   "cell_type": "code",
   "execution_count": null,
   "metadata": {
    "collapsed": false
   },
   "outputs": [],
   "source": [
    "# <help:plot_tags_by>\n",
    "df.tags.count_tags_by(df.roles_primary).plot_tags_by()"
   ]
  },
  {
   "cell_type": "code",
   "execution_count": null,
   "metadata": {
    "collapsed": false
   },
   "outputs": [],
   "source": [
    "# <api>\n",
    "group_names = collections.OrderedDict([\n",
    "    ('-- No grouping --', '-- No grouping --'),\n",
    "    ('How often do you use Jupyter Notebook?', 'how_often'),\n",
    "    ('Roughly how long have you been using Jupyter Notebook?', 'how_long_used'),\n",
    "    ('How many years have you been in this job role?', 'years_in_role'),\n",
    "    ('How many people typically see and/or interact with the results of your work in Jupyter Notebook?', 'audience_size'),\n",
    "    ('What is your primary role when using Jupyter Notebook?', 'roles_primary')\n",
    "])\n",
    "group_orders = {\n",
    "    'how_often': ['Daily', 'Weekly', 'Monthly', 'Less often than monthly'],\n",
    "    'audience_size': ['Tens', 'Hundreds', 'Thousands', 'Tens of thousands', 'Hundreds of thousands or more'],\n",
    "    'years_in_role': ['5+ years', '2-5 years', '1 year', 'Less than 1 year'],\n",
    "    'how_long_used': ['One year or more', 'Less than one year'],\n",
    "    'how_run': ['As a standalone application', 'Through Jupyter Hub', 'Other - Write In']\n",
    "}\n",
    "default_labels = ['Keyword patterns', 'Annotator themes']\n",
    "cutoff = 15"
   ]
  },
  {
   "cell_type": "code",
   "execution_count": null,
   "metadata": {
    "collapsed": false
   },
   "outputs": [],
   "source": [
    "# <api>\n",
    "def explore(df, series, labels=default_labels):\n",
    "    '''\n",
    "    Creates an interactive widget in which the user can:\n",
    "    \n",
    "    * Look at response counts and percentages for one of the provided series\n",
    "    * Group values in the selected series by responses to other questions\n",
    "    \n",
    "    :param df: DataFrame containing all of the series and all of the\n",
    "        possible columns to group by\n",
    "    :param series: Series to plot\n",
    "    :param labels: Labels to show for the series\n",
    "    '''\n",
    "    @interact(show=labels, \n",
    "              group_by=list(group_names.keys()), \n",
    "              values=['Counts', 'Percentages'])\n",
    "    def _explore(show, group_by, values):\n",
    "        tag_series = series[labels.index(show)]\n",
    "        percentages = True if values == 'Percentages' else False\n",
    "            \n",
    "        group_by = group_names[group_by]\n",
    "        order = group_orders.get(group_by)\n",
    "\n",
    "        if group_by == '-- No grouping --':\n",
    "            ax = tag_series.count_tags(pct=percentages).head(cutoff).plot_tags()\n",
    "        elif group_by in df.columns:\n",
    "            ax = tag_series.count_tags_by(df[group_by], pct=percentages).head(cutoff).plot_tags_by(order=order)\n",
    "        else:\n",
    "            print('Group by column not found')\n",
    "            return\n",
    "        \n",
    "        ax.set_xlabel('Top {} ({} max)'.format(show.lower(), cutoff))"
   ]
  },
  {
   "cell_type": "markdown",
   "metadata": {},
   "source": [
    "Note: The test DataFrame in this notebook only has one column to group by `roles_primary` which is tied to the `group_by` value \"What is your primary role when using Jupyter Notebook?\" below."
   ]
  },
  {
   "cell_type": "code",
   "execution_count": null,
   "metadata": {
    "collapsed": false
   },
   "outputs": [],
   "source": [
    "# <help:explore>\n",
    "explore(df, [df.tags], ['tags'])"
   ]
  },
  {
   "cell_type": "code",
   "execution_count": null,
   "metadata": {
    "collapsed": true
   },
   "outputs": [],
   "source": [
    "# <api>\n",
    "def exploreDataFrame(series:str, group_by:str='no_grouping', percentages:bool=False):\n",
    "    default_labels = ['Keyword patterns', 'Annotator themes']\n",
    "    cutoff = 15\n",
    "    order = group_orders.get(group_by)\n",
    "\n",
    "    if group_by == 'no_grouping':\n",
    "        print(survey_df)\n",
    "        ax = survey_df[series].count_tags(pct=percentages)\n",
    "    elif group_by in survey_df.columns:\n",
    "        ax = survey_df[series].count_tags_by(survey_df[group_by], pct=percentages).order_data(order=order)\n",
    "    else:\n",
    "        print('Group by column not found')\n",
    "        return\n",
    "\n",
    "    return ax.head(cutoff).reset_index()"
   ]
  },
  {
   "cell_type": "code",
   "execution_count": null,
   "metadata": {
    "collapsed": true
   },
   "outputs": [],
   "source": [
    "# <api>\n",
    "def getSample(keyword=\"\", matched_column=\"roles_primary\", sample_column=\"role\", groupby=\"no_grouping\", groupby_key=\"\", sample_size=10):\n",
    "    data = None\n",
    "    if keyword:\n",
    "        if groupby == \"no_grouping\": \n",
    "            data = survey_df[survey_df[matched_column] == keyword][sample_column]\n",
    "        else:\n",
    "            data = survey_df[survey_df[matched_column] == keyword][survey_df[groupby] == groupby_key][sample_column]\n",
    "        data = data.sample(min(sample_size, len(data)))\n",
    "    return pd.DataFrame(data)"
   ]
  }
 ],
 "metadata": {
  "kernelspec": {
   "display_name": "Python 3",
   "language": "python",
   "name": "python3"
  },
  "language_info": {
   "codemirror_mode": {
    "name": "ipython",
    "version": 3
   },
   "file_extension": ".py",
   "mimetype": "text/x-python",
   "name": "python",
   "nbconvert_exporter": "python",
   "pygments_lexer": "ipython3",
   "version": "3.4.4"
  }
 },
 "nbformat": 4,
 "nbformat_minor": 0
}
