{
 "cells": [
  {
   "cell_type": "markdown",
   "metadata": {},
   "source": [
    "# Response Themes for \"What needs in your workflow does Jupyter Notebook address?\"\n",
    "\n",
    "* Goal: Extract theme keywords from `workflow_needs_addressed` responses.\n",
    "* Data: Output from 2_clean_survey.ipynb notebook (`survey_short_columns.csv`)\n",
    "* Strawman process from [1_ux_survey_review.ipynb](1_ux_survey_review.ipynb):\n",
    "\n",
    "> Moving forward, here's a semi-automatic procedure we can follow for identifying themes across questions:\n",
    "> 1. Take a random sample of question responses\n",
    "> 2. Write down common theme keywords\n",
    "> 3. Search back through the responses using the theme keywords\n",
    "> 4. Expand the set of keywords with other words seen in the search results\n",
    "> 5. Repeat for all themes and questions\n",
    "> Later, we can use a fully automated topic modeling approach to validate our manually generated themes."
   ]
  },
  {
   "cell_type": "code",
   "execution_count": 1,
   "metadata": {
    "collapsed": true
   },
   "outputs": [],
   "source": [
    "import warnings\n",
    "warnings.filterwarnings(\"ignore\")"
   ]
  },
  {
   "cell_type": "code",
   "execution_count": 2,
   "metadata": {
    "collapsed": false
   },
   "outputs": [],
   "source": [
    "%matplotlib inline"
   ]
  },
  {
   "cell_type": "code",
   "execution_count": 3,
   "metadata": {
    "collapsed": true
   },
   "outputs": [],
   "source": [
    "import pandas as pd\n",
    "import numpy as np"
   ]
  },
  {
   "cell_type": "markdown",
   "metadata": {},
   "source": [
    "Make sure the samples come up the same for anyone that re-runs this."
   ]
  },
  {
   "cell_type": "code",
   "execution_count": 4,
   "metadata": {
    "collapsed": false
   },
   "outputs": [],
   "source": [
    "rs = np.random.RandomState(123)"
   ]
  },
  {
   "cell_type": "code",
   "execution_count": 5,
   "metadata": {
    "collapsed": true
   },
   "outputs": [],
   "source": [
    "pd.set_option('max_colwidth', 1000)"
   ]
  },
  {
   "cell_type": "code",
   "execution_count": 6,
   "metadata": {
    "collapsed": true
   },
   "outputs": [],
   "source": [
    "df = pd.read_csv('survey_short_columns.csv')"
   ]
  },
  {
   "cell_type": "code",
   "execution_count": 7,
   "metadata": {
    "collapsed": true
   },
   "outputs": [],
   "source": [
    "def show(series):\n",
    "    '''Make random samples easier to read.'''\n",
    "    for i, value in enumerate(series):\n",
    "        print('{}) {}'.format(i, value), end='\\n\\n')"
   ]
  },
  {
   "cell_type": "code",
   "execution_count": 8,
   "metadata": {
    "collapsed": false
   },
   "outputs": [],
   "source": [
    "responses = pd.concat([df.workflow_needs_addressed_1, df.workflow_needs_addressed_2, df.workflow_needs_addressed_3])"
   ]
  },
  {
   "cell_type": "code",
   "execution_count": 9,
   "metadata": {
    "collapsed": true
   },
   "outputs": [],
   "source": [
    "assert len(responses) == len(df) * 3"
   ]
  },
  {
   "cell_type": "markdown",
   "metadata": {},
   "source": [
    "For later ref, to keep the notebook code generic for other questions."
   ]
  },
  {
   "cell_type": "code",
   "execution_count": 10,
   "metadata": {
    "collapsed": true
   },
   "outputs": [],
   "source": [
    "column = 'workflow_needs_addressed'"
   ]
  },
  {
   "cell_type": "code",
   "execution_count": 11,
   "metadata": {
    "collapsed": false
   },
   "outputs": [
    {
     "data": {
      "text/plain": [
       "True     3565\n",
       "False    1553\n",
       "dtype: int64"
      ]
     },
     "execution_count": 11,
     "metadata": {},
     "output_type": "execute_result"
    }
   ],
   "source": [
    "responses.isnull().value_counts()"
   ]
  },
  {
   "cell_type": "code",
   "execution_count": 12,
   "metadata": {
    "collapsed": true
   },
   "outputs": [],
   "source": [
    "responses = responses.dropna()"
   ]
  },
  {
   "cell_type": "markdown",
   "metadata": {},
   "source": [
    "## Initial Samples\n",
    "\n",
    "I ran the sampling code below 5 times and manually built up the initial set of keywords seen commonly across them. This time, I did not form groupings. The keywords felt sufficient on their own to describe what needs Jupyter was satisfying."
   ]
  },
  {
   "cell_type": "code",
   "execution_count": 13,
   "metadata": {
    "collapsed": false,
    "scrolled": false
   },
   "outputs": [
    {
     "name": "stdout",
     "output_type": "stream",
     "text": [
      "0) Data Science\n",
      "\n",
      "1) writing documentation\n",
      "\n",
      "2) Integration of code, maths and viz\n",
      "\n",
      "3) Convenient way to access docstrings and inspect live objects.\n",
      "\n",
      "4) visual\n",
      "\n",
      "5) Easy integration of markdown + python\n",
      "\n",
      "6) Carrying out classification of large datasets\n",
      "\n",
      "7) Presenting findings\n",
      "\n",
      "8) visualisation and persistence of results\n",
      "\n",
      "9) Document a library\n",
      "\n",
      "10) Exploration\n",
      "\n",
      "11) No-install Python experimenting environment\n",
      "\n",
      "12) network access\n",
      "\n",
      "13) viz needs\n",
      "\n",
      "14) Exploration of data\n",
      "\n",
      "15) quick analysis of experimental data\n",
      "\n",
      "16) Lecture note presentation tool w/live coding\n",
      "\n",
      "17) Share and illustrate code with less technical, or less Pythonised colleagues\n",
      "\n",
      "18) Code prototyping\n",
      "\n",
      "19) prototyping code\n",
      "\n"
     ]
    }
   ],
   "source": [
    "show(responses.sample(20, random_state=rs))"
   ]
  },
  {
   "cell_type": "code",
   "execution_count": 14,
   "metadata": {
    "collapsed": false
   },
   "outputs": [],
   "source": [
    "themes = {\n",
    "    'needs_addressed': ['data science', 'documentation', 'integration', 'live', 'visual', 'classfication', 'present', \n",
    "                        'visuali(s|z)', 'document', 'explor', 'install', 'network', 'viz', 'experiment', 'python', \n",
    "                        'document', 'network', 'viz', 'quick', 'share', 'illustrate', 'prototyp', 'trying out', \n",
    "                        'organization', 'writing',  'simulations', 'interactive', 'portabl',\n",
    "                        'charts', 'multi', 'parsing', 'graph', 'mixing', 'debug', 'test', \n",
    "                        'showcase', 'explain', 'report', 'reproduc',\n",
    "                        'one-?off', 'publish', 'analy(s|z)', 'hack', 'iterat', 'early', 'teach', \n",
    "                        'repeat', 'ideas', 'captur',\n",
    "                        'instruct', 'shell', 'educat', 'notes', 'troubleshoot', 'agil(ity|e)']\n",
    "}"
   ]
  },
  {
   "cell_type": "markdown",
   "metadata": {},
   "source": [
    "## Coverage Improvement\n",
    "\n",
    "I next ran the code below to improve the number of responses covered by the keywords. I iterated here to drive down the number of responses without any keywords identified."
   ]
  },
  {
   "cell_type": "code",
   "execution_count": 15,
   "metadata": {
    "collapsed": true
   },
   "outputs": [],
   "source": [
    "import re"
   ]
  },
  {
   "cell_type": "code",
   "execution_count": 16,
   "metadata": {
    "collapsed": true
   },
   "outputs": [],
   "source": [
    "def keywords_or(text, keywords):\n",
    "    for keyword in keywords:\n",
    "        if re.search('(^|\\W+){}'.format(keyword), text, re.IGNORECASE):\n",
    "            return True\n",
    "    return False"
   ]
  },
  {
   "cell_type": "code",
   "execution_count": 17,
   "metadata": {
    "collapsed": false
   },
   "outputs": [],
   "source": [
    "def tag_themes(data, themes):\n",
    "    tagged = data.to_frame()\n",
    "    tagged['themes'] = ''\n",
    "    for theme, keywords in themes.items():\n",
    "        results = data.map(lambda text: keywords_or(text, keywords))\n",
    "        tagged.loc[results, 'themes'] += theme + ','\n",
    "        print(theme, results.sum())\n",
    "    return tagged"
   ]
  },
  {
   "cell_type": "code",
   "execution_count": 18,
   "metadata": {
    "collapsed": false
   },
   "outputs": [
    {
     "name": "stdout",
     "output_type": "stream",
     "text": [
      "needs_addressed 1059\n"
     ]
    },
    {
     "data": {
      "text/plain": [
       "1    1059\n",
       "0     494\n",
       "Name: themes, dtype: int64"
      ]
     },
     "execution_count": 18,
     "metadata": {},
     "output_type": "execute_result"
    }
   ],
   "source": [
    "tagged = tag_themes(responses, themes)\n",
    "tagged.themes.str.count(',').value_counts()"
   ]
  },
  {
   "cell_type": "code",
   "execution_count": 19,
   "metadata": {
    "collapsed": false
   },
   "outputs": [
    {
     "data": {
      "text/html": [
       "<div>\n",
       "<table border=\"1\" class=\"dataframe\">\n",
       "  <thead>\n",
       "    <tr style=\"text-align: right;\">\n",
       "      <th></th>\n",
       "      <th>0</th>\n",
       "      <th>themes</th>\n",
       "    </tr>\n",
       "  </thead>\n",
       "  <tbody>\n",
       "    <tr>\n",
       "      <th>738</th>\n",
       "      <td>Data processing and cleaning</td>\n",
       "      <td></td>\n",
       "    </tr>\n",
       "    <tr>\n",
       "      <th>1432</th>\n",
       "      <td>Sharing of results</td>\n",
       "      <td></td>\n",
       "    </tr>\n",
       "    <tr>\n",
       "      <th>1609</th>\n",
       "      <td>sharing processing steps</td>\n",
       "      <td></td>\n",
       "    </tr>\n",
       "    <tr>\n",
       "      <th>1431</th>\n",
       "      <td>Persistent - I can leave a notebook running on the server and return to it days later where I left off</td>\n",
       "      <td></td>\n",
       "    </tr>\n",
       "    <tr>\n",
       "      <th>428</th>\n",
       "      <td>Persistent calculation results per cell</td>\n",
       "      <td></td>\n",
       "    </tr>\n",
       "    <tr>\n",
       "      <th>759</th>\n",
       "      <td>interactivity</td>\n",
       "      <td></td>\n",
       "    </tr>\n",
       "    <tr>\n",
       "      <th>1114</th>\n",
       "      <td>fast editing</td>\n",
       "      <td></td>\n",
       "    </tr>\n",
       "    <tr>\n",
       "      <th>894</th>\n",
       "      <td>The ability to use different languges</td>\n",
       "      <td></td>\n",
       "    </tr>\n",
       "    <tr>\n",
       "      <th>1247</th>\n",
       "      <td>Easy to see results</td>\n",
       "      <td></td>\n",
       "    </tr>\n",
       "    <tr>\n",
       "      <th>1668</th>\n",
       "      <td>computational notebook</td>\n",
       "      <td></td>\n",
       "    </tr>\n",
       "    <tr>\n",
       "      <th>948</th>\n",
       "      <td>Note taking</td>\n",
       "      <td></td>\n",
       "    </tr>\n",
       "    <tr>\n",
       "      <th>509</th>\n",
       "      <td>can load a large dataset once and then work on it</td>\n",
       "      <td></td>\n",
       "    </tr>\n",
       "    <tr>\n",
       "      <th>504</th>\n",
       "      <td>save flushed sometimes too big file up to server</td>\n",
       "      <td></td>\n",
       "    </tr>\n",
       "    <tr>\n",
       "      <th>246</th>\n",
       "      <td>Inline markdown and LaTeX</td>\n",
       "      <td></td>\n",
       "    </tr>\n",
       "    <tr>\n",
       "      <th>1241</th>\n",
       "      <td>Tables</td>\n",
       "      <td></td>\n",
       "    </tr>\n",
       "    <tr>\n",
       "      <th>1274</th>\n",
       "      <td>Tweaking of plots</td>\n",
       "      <td></td>\n",
       "    </tr>\n",
       "    <tr>\n",
       "      <th>1346</th>\n",
       "      <td>research</td>\n",
       "      <td></td>\n",
       "    </tr>\n",
       "    <tr>\n",
       "      <th>1018</th>\n",
       "      <td>write prose and code in one place</td>\n",
       "      <td></td>\n",
       "    </tr>\n",
       "    <tr>\n",
       "      <th>1551</th>\n",
       "      <td>Grading</td>\n",
       "      <td></td>\n",
       "    </tr>\n",
       "    <tr>\n",
       "      <th>515</th>\n",
       "      <td>plotting data</td>\n",
       "      <td></td>\n",
       "    </tr>\n",
       "  </tbody>\n",
       "</table>\n",
       "</div>"
      ],
      "text/plain": [
       "                                                                                                           0  \\\n",
       "738                                                                             Data processing and cleaning   \n",
       "1432                                                                                      Sharing of results   \n",
       "1609                                                                                sharing processing steps   \n",
       "1431  Persistent - I can leave a notebook running on the server and return to it days later where I left off   \n",
       "428                                                                  Persistent calculation results per cell   \n",
       "759                                                                                            interactivity   \n",
       "1114                                                                                            fast editing   \n",
       "894                                                                    The ability to use different languges   \n",
       "1247                                                                                     Easy to see results   \n",
       "1668                                                                                  computational notebook   \n",
       "948                                                                                              Note taking   \n",
       "509                                                        can load a large dataset once and then work on it   \n",
       "504                                                         save flushed sometimes too big file up to server   \n",
       "246                                                                                Inline markdown and LaTeX   \n",
       "1241                                                                                                  Tables   \n",
       "1274                                                                                       Tweaking of plots   \n",
       "1346                                                                                                research   \n",
       "1018                                                                       write prose and code in one place   \n",
       "1551                                                                                                 Grading   \n",
       "515                                                                                            plotting data   \n",
       "\n",
       "     themes  \n",
       "738          \n",
       "1432         \n",
       "1609         \n",
       "1431         \n",
       "428          \n",
       "759          \n",
       "1114         \n",
       "894          \n",
       "1247         \n",
       "1668         \n",
       "948          \n",
       "509          \n",
       "504          \n",
       "246          \n",
       "1241         \n",
       "1274         \n",
       "1346         \n",
       "1018         \n",
       "1551         \n",
       "515          "
      ]
     },
     "execution_count": 19,
     "metadata": {},
     "output_type": "execute_result"
    }
   ],
   "source": [
    "tagged[tagged.themes.str.len() == 0].sample(20, random_state=rs)"
   ]
  },
  {
   "cell_type": "code",
   "execution_count": 20,
   "metadata": {
    "collapsed": true
   },
   "outputs": [],
   "source": [
    "themes = {\n",
    "    'needs_addressed' : ['data science', 'documentation', 'integration', 'live', 'visual', 'classfication', 'present', \n",
    "    'document', 'explor', 'install', 'network', 'viz', 'experiment', 'python', 'document', 'network', 'viz', 'quick',\n",
    "    'shar(e|ing)', 'illustrate', 'prototyp', 'trying out', 'organization', 'writing', 'simulations', 'interact', \n",
    "    'portab(le|ility)', 'chart', 'multi', 'parsing', 'graph', 'mixing', 'debug', 'test', 'showcase',  \n",
    "    'one-?off', 'publi(sh|cation)', 'analy(s|z)', 'hack', 'iterat', 'early', 'teach', 'repeat', 'ideas', 'captur',\n",
    "    'instruct', 'shell', 'educat', 'note', 'troubleshoot', 'agil(ity|e)', 'communic', 'research', 'scratchpad',\n",
    "    'increment', 'munging', 'remote', 'persist', 'literate', 'descrip', 'language', 'grading', 'plot', 'cloud',\n",
    "    'big', 'spark', 'fast', 'excel', 'spreadsheet', 'visibl', 'markdown', 'repl', 'try', 'snippet', 'script',\n",
    "    'cleans?', 'database', 'widget', 'anywhere', 'database', 'concept', 'simulation', 'intermediate', 'format',\n",
    "    'develop', 'comput(ation|ing)', 'history', 'learning', 'excel', 'spreadsheet', 'draft', 'glue', 'together', \n",
    "    'show others', 'sandbox', 'tables', 'collab', 'workflow', 'story', 'poc', 'ide($|\\W)', 'study', 'instant', \n",
    "    'tutorial', 'understand', 'combin(e|ing)', 'eas(y|e|ier|ily)', 'friendly', 'sanitiz', 'figure', 'cell', 'terminal', \n",
    "    'classroom', 'tweak', 'analytic', 'large', 'big', 'show code', 'image', 'data', 'playbook', 'automat', \n",
    "    'visuali(s|z)', 'report', 'reproduc', 'exercise', 'adoption', 'model', 'expla(in|nation)', 'demo', 'other people',\n",
    "    'play', 'math', 'simpl(e|icity)', 'deploy', 'open source', 'dissem']\n",
    "}"
   ]
  },
  {
   "cell_type": "code",
   "execution_count": 21,
   "metadata": {
    "collapsed": false
   },
   "outputs": [
    {
     "name": "stdout",
     "output_type": "stream",
     "text": [
      "needs_addressed 1475\n"
     ]
    }
   ],
   "source": [
    "tagged = tag_themes(responses, themes)"
   ]
  },
  {
   "cell_type": "markdown",
   "metadata": {},
   "source": [
    "## Keyword Frequencies\n",
    "\n",
    "Finally, I plotted the frequency counts of keywords identified."
   ]
  },
  {
   "cell_type": "code",
   "execution_count": 22,
   "metadata": {
    "collapsed": true
   },
   "outputs": [],
   "source": [
    "import matplotlib\n",
    "import seaborn"
   ]
  },
  {
   "cell_type": "code",
   "execution_count": 23,
   "metadata": {
    "collapsed": true
   },
   "outputs": [],
   "source": [
    "counts = {}"
   ]
  },
  {
   "cell_type": "code",
   "execution_count": 24,
   "metadata": {
    "collapsed": false
   },
   "outputs": [],
   "source": [
    "for theme, keywords in themes.items():\n",
    "    for keyword in keywords:\n",
    "        hits = responses.map(lambda text: keywords_or(text, [keyword]))\n",
    "        counts[keyword] = hits.sum()"
   ]
  },
  {
   "cell_type": "code",
   "execution_count": 25,
   "metadata": {
    "collapsed": true
   },
   "outputs": [],
   "source": [
    "hist = pd.Series(counts).sort_values()"
   ]
  },
  {
   "cell_type": "code",
   "execution_count": 26,
   "metadata": {
    "collapsed": false
   },
   "outputs": [
    {
     "data": {
      "image/png": "[encoded data removed]",
      "text/plain": [
       "<matplotlib.figure.Figure at 0x7fe71f719780>"
      ]
     },
     "metadata": {},
     "output_type": "display_data"
    }
   ],
   "source": [
    "ax = hist[-30:].plot.barh(figsize=(8, 8))\n",
    "_ = ax.set_xlabel('Mentions')"
   ]
  },
  {
   "cell_type": "code",
   "execution_count": 27,
   "metadata": {
    "collapsed": false
   },
   "outputs": [],
   "source": [
    "hits = responses.map(lambda text: keywords_or(text, ['visuali(s|z)']))"
   ]
  },
  {
   "cell_type": "code",
   "execution_count": 28,
   "metadata": {
    "collapsed": false
   },
   "outputs": [
    {
     "data": {
      "text/plain": [
       "103                                                                                             data visualization\n",
       "157                                                                                           inline visualization\n",
       "179                                                                                                  visualisation\n",
       "264                                                  simple to use interactive visualization via bokeh and plot.ly\n",
       "278                                                         python scripting and publishing incl js visualisations\n",
       "303                                               Integrating text, mathematical formulas, code and visualizations\n",
       "358                                                                                                  visualisation\n",
       "406                                                                                             Data visualization\n",
       "425                                                                    The need to visualize results, using plots.\n",
       "439                                                                                           Inline visualization\n",
       "482                                                                                            Code, visualization\n",
       "525                                                            Build data visualizations from various data sources\n",
       "559                                                                                       Rapidly visualizing data\n",
       "594                                                          Load data, process data, analyze data, visualize data\n",
       "605                                                                                                  visualization\n",
       "607                                             Visualizing output from Python scripts running on a remote server.\n",
       "630                                                                            quick inline code and visualization\n",
       "738                                                                                           Quick visualizations\n",
       "798                                                                          Integrated analysis and visualisation\n",
       "835                                                                                           inline visualization\n",
       "838                                                                         Visualization of data on remote server\n",
       "872                                                                                          in-line visualization\n",
       "892                                                                                                  visualization\n",
       "1016                                                                                     Exploration/visualization\n",
       "1076                                                                  simultaneous data analysis and visualization\n",
       "1234                                                                                           Share and visualize\n",
       "1308                                                                     Prototyping algorithms and visualizations\n",
       "1314                                                                                Data exploration/visualization\n",
       "1317                                                                                            Data visualization\n",
       "1406                                                                                                 visualisation\n",
       "                                                           ...                                                    \n",
       "1618                                                                                            Data visualization\n",
       "1621                                                                                              Visualizing data\n",
       "7                                                                                                    visualisation\n",
       "78                                                                                           Inline visualization \n",
       "92                                                                                              data visualization\n",
       "98                                                                                                   Visualization\n",
       "159                                         certain visualization tools (e.g. pivottablejs) are just for notebooks\n",
       "286                                                             Easily visualizing analysis within a single window\n",
       "290     Mix my number crunching with interactive visualization! This is one of the most important features for me \n",
       "310                                                                                             Data visualization\n",
       "419                                                                                           better visualization\n",
       "486                                                                                             data visualization\n",
       "492                                                                                                  Visualization\n",
       "509                                                                                good visualization capabilities\n",
       "517                                                                                                  visualization\n",
       "617                                                                                             data visualisation\n",
       "741                                                                                                  visualization\n",
       "806                                                                      quick visualisation of results (plotting)\n",
       "887                                                                                                  visualisation\n",
       "919                                                                                       easy plot visualizations\n",
       "1020                                                                                    Visualising large datasets\n",
       "1325                                                                                                 Visualization\n",
       "1342                                                                                           make visualizations\n",
       "1384                                                                              Visualisations for presentations\n",
       "1478                                                                                                 Visualization\n",
       "1480                                                                            Quick dashboarding & visualization\n",
       "1512                                                                               Visualization and data display \n",
       "1517                                                                                                 Visualisation\n",
       "1524                                                                                   Visualization and reporting\n",
       "1662                                                                 Visualize data manipulation algorithm results\n",
       "dtype: object"
      ]
     },
     "execution_count": 28,
     "metadata": {},
     "output_type": "execute_result"
    }
   ],
   "source": [
    "responses[hits]"
   ]
  },
  {
   "cell_type": "markdown",
   "metadata": {},
   "source": [
    "## Persist\n",
    "\n",
    "I save off the themes and keywords to a DataFrame with the same index as the original so that the entries can be tagged."
   ]
  },
  {
   "cell_type": "code",
   "execution_count": 29,
   "metadata": {
    "collapsed": true
   },
   "outputs": [],
   "source": [
    "themes_df = tagged.themes.to_frame()"
   ]
  },
  {
   "cell_type": "code",
   "execution_count": 30,
   "metadata": {
    "collapsed": true
   },
   "outputs": [],
   "source": [
    "themes_df = themes_df.rename(columns={'themes' : column+'_themes'})"
   ]
  },
  {
   "cell_type": "code",
   "execution_count": 31,
   "metadata": {
    "collapsed": true
   },
   "outputs": [],
   "source": [
    "themes_df[column+'_keywords'] = ''"
   ]
  },
  {
   "cell_type": "code",
   "execution_count": 32,
   "metadata": {
    "collapsed": true
   },
   "outputs": [],
   "source": [
    "for theme, keywords in themes.items():\n",
    "    for keyword in keywords:\n",
    "        results = responses.map(lambda text: keywords_or(text, [keyword]))\n",
    "        themes_df.loc[results, column+'_keywords'] += keyword + ','"
   ]
  },
  {
   "cell_type": "code",
   "execution_count": 33,
   "metadata": {
    "collapsed": true
   },
   "outputs": [],
   "source": [
    "themes_df[column+'_themes'] = themes_df[column+'_themes'].str.rstrip(',')\n",
    "themes_df[column+'_keywords'] = themes_df[column+'_keywords'].str.rstrip(',')"
   ]
  },
  {
   "cell_type": "markdown",
   "metadata": {},
   "source": [
    "Up above, I merged the three response fields for the question into one common pool which means we can have duplicate index value in the themes DataFrame. We need to squash these down and remove duplicates."
   ]
  },
  {
   "cell_type": "code",
   "execution_count": 34,
   "metadata": {
    "collapsed": true
   },
   "outputs": [],
   "source": [
    "def union(group_df):\n",
    "    '''Gets the set union of themes and keywords for a given DataFrame.'''\n",
    "    themes = group_df[column+'_themes'].str.cat(sep=',')\n",
    "    themes = list(set(themes.split(',')))\n",
    "    themes = ','.join(theme for theme in themes if theme)\n",
    "    \n",
    "    keywords = group_df[column+'_keywords'].str.cat(sep=',')\n",
    "    keywords = list(set(keywords.split(',')))\n",
    "    keywords = ','.join(keyword for keyword in keywords if keyword)\n",
    "    return pd.Series([themes, keywords], index=[column+'_themes', column+'_keywords'])"
   ]
  },
  {
   "cell_type": "markdown",
   "metadata": {},
   "source": [
    "We group by the index and union the themes and keywords."
   ]
  },
  {
   "cell_type": "code",
   "execution_count": 35,
   "metadata": {
    "collapsed": true
   },
   "outputs": [],
   "source": [
    "themes_df = themes_df.groupby(themes_df.index).apply(union)"
   ]
  },
  {
   "cell_type": "code",
   "execution_count": 36,
   "metadata": {
    "collapsed": false
   },
   "outputs": [
    {
     "data": {
      "text/html": [
       "<div>\n",
       "<table border=\"1\" class=\"dataframe\">\n",
       "  <thead>\n",
       "    <tr style=\"text-align: right;\">\n",
       "      <th></th>\n",
       "      <th>workflow_needs_addressed_themes</th>\n",
       "      <th>workflow_needs_addressed_keywords</th>\n",
       "    </tr>\n",
       "  </thead>\n",
       "  <tbody>\n",
       "    <tr>\n",
       "      <th>1</th>\n",
       "      <td>needs_addressed</td>\n",
       "      <td>prototyp,interact,widget,plot</td>\n",
       "    </tr>\n",
       "    <tr>\n",
       "      <th>5</th>\n",
       "      <td>needs_addressed</td>\n",
       "      <td>analy(s|z),visual,data,visuali(s|z)</td>\n",
       "    </tr>\n",
       "    <tr>\n",
       "      <th>6</th>\n",
       "      <td>needs_addressed</td>\n",
       "      <td>documentation,explor,model,document,shar(e|ing),analy(s|z),simulation</td>\n",
       "    </tr>\n",
       "    <tr>\n",
       "      <th>7</th>\n",
       "      <td>needs_addressed</td>\n",
       "      <td>visual,writing,data,analy(s|z),visuali(s|z),report</td>\n",
       "    </tr>\n",
       "    <tr>\n",
       "      <th>9</th>\n",
       "      <td>needs_addressed</td>\n",
       "      <td>deploy,python</td>\n",
       "    </tr>\n",
       "  </tbody>\n",
       "</table>\n",
       "</div>"
      ],
      "text/plain": [
       "  workflow_needs_addressed_themes  \\\n",
       "1                 needs_addressed   \n",
       "5                 needs_addressed   \n",
       "6                 needs_addressed   \n",
       "7                 needs_addressed   \n",
       "9                 needs_addressed   \n",
       "\n",
       "                                       workflow_needs_addressed_keywords  \n",
       "1                                          prototyp,interact,widget,plot  \n",
       "5                                    analy(s|z),visual,data,visuali(s|z)  \n",
       "6  documentation,explor,model,document,shar(e|ing),analy(s|z),simulation  \n",
       "7                     visual,writing,data,analy(s|z),visuali(s|z),report  \n",
       "9                                                          deploy,python  "
      ]
     },
     "execution_count": 36,
     "metadata": {},
     "output_type": "execute_result"
    }
   ],
   "source": [
    "themes_df.head(5)"
   ]
  },
  {
   "cell_type": "markdown",
   "metadata": {},
   "source": [
    "The themes DataFrame should have as many rows as there are non-null responses in the original DataFrame."
   ]
  },
  {
   "cell_type": "code",
   "execution_count": 37,
   "metadata": {
    "collapsed": true
   },
   "outputs": [],
   "source": [
    "assert len(themes_df) == len(df[[column+'_1', column+'_2', column+'_3']].dropna(how='all'))"
   ]
  },
  {
   "cell_type": "code",
   "execution_count": 38,
   "metadata": {
    "collapsed": true
   },
   "outputs": [],
   "source": [
    "themes_df.to_csv(column + '_themes.csv', sep=';')"
   ]
  }
 ],
 "metadata": {
  "kernelspec": {
   "display_name": "Python 3",
   "language": "python",
   "name": "python3"
  },
  "language_info": {
   "codemirror_mode": {
    "name": "ipython",
    "version": 3
   },
   "file_extension": ".py",
   "mimetype": "text/x-python",
   "name": "python",
   "nbconvert_exporter": "python",
   "pygments_lexer": "ipython3",
   "version": "3.4.4"
  }
 },
 "nbformat": 4,
 "nbformat_minor": 0
}
