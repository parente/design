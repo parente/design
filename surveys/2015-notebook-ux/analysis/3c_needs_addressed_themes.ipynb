{
 "cells": [
  {
   "cell_type": "markdown",
   "metadata": {},
   "source": [
    "# Response Themes for \"What needs in your workflow does Jupyter Notebook address?\"\n",
    "\n",
    "* Goal: Extract theme keywords from `workflow_needs_addressed` responses.\n",
    "* Data: Output from 2_clean_survey.ipynb notebook (`survey_short_columns.csv`)\n",
    "* Strawman process from [1_ux_survey_review.ipynb](1_ux_survey_review.ipynb):\n",
    "\n",
    "> Moving forward, here's a semi-automatic procedure we can follow for identifying themes across questions:\n",
    "> 1. Take a random sample of question responses\n",
    "> 2. Write down common theme keywords\n",
    "> 3. Search back through the responses using the theme keywords\n",
    "> 4. Expand the set of keywords with other words seen in the search results\n",
    "> 5. Repeat for all themes and questions\n",
    "> Later, we can use a fully automated topic modeling approach to validate our manually generated themes."
   ]
  },
  {
   "cell_type": "code",
   "execution_count": 1,
   "metadata": {
    "collapsed": true
   },
   "outputs": [],
   "source": [
    "import warnings\n",
    "warnings.filterwarnings(\"ignore\")"
   ]
  },
  {
   "cell_type": "code",
   "execution_count": 2,
   "metadata": {
    "collapsed": false
   },
   "outputs": [],
   "source": [
    "%matplotlib inline"
   ]
  },
  {
   "cell_type": "code",
   "execution_count": 3,
   "metadata": {
    "collapsed": true
   },
   "outputs": [],
   "source": [
    "import pandas as pd\n",
    "import numpy as np"
   ]
  },
  {
   "cell_type": "markdown",
   "metadata": {},
   "source": [
    "Make sure the samples come up the same for anyone that re-runs this."
   ]
  },
  {
   "cell_type": "code",
   "execution_count": 4,
   "metadata": {
    "collapsed": false
   },
   "outputs": [],
   "source": [
    "rs = np.random.RandomState(123)"
   ]
  },
  {
   "cell_type": "code",
   "execution_count": 5,
   "metadata": {
    "collapsed": true
   },
   "outputs": [],
   "source": [
    "pd.set_option('max_colwidth', 1000)"
   ]
  },
  {
   "cell_type": "code",
   "execution_count": 6,
   "metadata": {
    "collapsed": true
   },
   "outputs": [],
   "source": [
    "df = pd.read_csv('survey_short_columns.csv')"
   ]
  },
  {
   "cell_type": "code",
   "execution_count": 7,
   "metadata": {
    "collapsed": true
   },
   "outputs": [],
   "source": [
    "def show(series):\n",
    "    '''Make random samples easier to read.'''\n",
    "    for i, value in enumerate(series):\n",
    "        print('{}) {}'.format(i, value), end='\\n\\n')"
   ]
  },
  {
   "cell_type": "code",
   "execution_count": 8,
   "metadata": {
    "collapsed": false
   },
   "outputs": [],
   "source": [
    "responses = pd.concat([df.workflow_needs_addressed_1, df.workflow_needs_addressed_2, df.workflow_needs_addressed_3], \n",
    "                       ignore_index=True)"
   ]
  },
  {
   "cell_type": "code",
   "execution_count": 9,
   "metadata": {
    "collapsed": true
   },
   "outputs": [],
   "source": [
    "assert len(responses) == len(df) * 3"
   ]
  },
  {
   "cell_type": "code",
   "execution_count": 10,
   "metadata": {
    "collapsed": false
   },
   "outputs": [
    {
     "data": {
      "text/plain": [
       "True     3565\n",
       "False    1553\n",
       "dtype: int64"
      ]
     },
     "execution_count": 10,
     "metadata": {},
     "output_type": "execute_result"
    }
   ],
   "source": [
    "responses.isnull().value_counts()"
   ]
  },
  {
   "cell_type": "code",
   "execution_count": 11,
   "metadata": {
    "collapsed": true
   },
   "outputs": [],
   "source": [
    "responses = responses.dropna()"
   ]
  },
  {
   "cell_type": "markdown",
   "metadata": {},
   "source": [
    "## Initial Samples\n",
    "\n",
    "I ran the sampling code below 5 times and manually built up the initial set of keywords seen commonly across them. This time, I did not form groupings. The keywords felt sufficient on their own to describe what needs Jupyter was satisfying."
   ]
  },
  {
   "cell_type": "code",
   "execution_count": 119,
   "metadata": {
    "collapsed": false,
    "scrolled": false
   },
   "outputs": [
    {
     "name": "stdout",
     "output_type": "stream",
     "text": [
      "0) Learning by doing \n",
      "\n",
      "1) cython scripting\n",
      "\n",
      "2) Scratch pad for code experiments \n",
      "\n",
      "3) Reporting\n",
      "\n",
      "4) easy sharing via pdf/html files for sending to colleagues for feedback\n",
      "\n",
      "5) Quick data analysis\n",
      "\n",
      "6) reproducibility of analysis results\n",
      "\n",
      "7) Documenting and sharing numerical experiments in Julia.\n",
      "\n",
      "8) Initial data exploration and analysis\n",
      "\n",
      "9) REPL\n",
      "\n",
      "10) plotting data\n",
      "\n",
      "11) debugging\n",
      "\n",
      "12) Quickly prototyping analysis code\n",
      "\n",
      "13) Reporting\n",
      "\n",
      "14) prototyping\n",
      "\n",
      "15) Rapid loading and exploring of data\n",
      "\n",
      "16) data exploration\n",
      "\n",
      "17) Reproducibility\n",
      "\n",
      "18) Demonstrations for teaching\n",
      "\n",
      "19) Sharing work output through nbviewer\n",
      "\n"
     ]
    }
   ],
   "source": [
    "show(responses.sample(20, random_state=rs))"
   ]
  },
  {
   "cell_type": "code",
   "execution_count": 120,
   "metadata": {
    "collapsed": false
   },
   "outputs": [],
   "source": [
    "themes = {\n",
    "    'needs_addressed': ['data science', 'documentation', 'integration', 'live', 'visual', 'classfication', 'present', \n",
    "                        'visuali(s|z)', 'document', 'explor', 'install', 'network', 'viz', 'experiment', 'python', \n",
    "                        'document', 'network', 'viz', 'quick', 'share', 'illustrate', 'prototyp', 'trying out', \n",
    "                        'organization', 'writing',  'simulations', 'interactive', 'portabl',\n",
    "                        'charts', 'multi', 'parsing', 'graph', 'mixing', 'debug', 'test', \n",
    "                        'showcase', 'explain', 'report', 'reproduc',\n",
    "                        'one-?off', 'publish', 'analy(s|z)', 'hack', 'iterat', 'early', 'teach', \n",
    "                        'repeat', 'ideas', 'captur',\n",
    "                        'instruct', 'shell', 'educat', 'notes', 'troubleshoot', 'agil(ity|e)']\n",
    "}"
   ]
  },
  {
   "cell_type": "markdown",
   "metadata": {},
   "source": [
    "## Coverage Improvement\n",
    "\n",
    "I next ran the code below to improve the number of responses covered by the keywords. I iterated here to drive down the number of responses without any keywords identified."
   ]
  },
  {
   "cell_type": "code",
   "execution_count": 20,
   "metadata": {
    "collapsed": true
   },
   "outputs": [],
   "source": [
    "import re"
   ]
  },
  {
   "cell_type": "code",
   "execution_count": 93,
   "metadata": {
    "collapsed": true
   },
   "outputs": [],
   "source": [
    "def keywords_or(text, keywords):\n",
    "    for keyword in keywords:\n",
    "        if re.search('(^|\\W+){}'.format(keyword), text, re.IGNORECASE):\n",
    "            return True\n",
    "    return False"
   ]
  },
  {
   "cell_type": "code",
   "execution_count": 94,
   "metadata": {
    "collapsed": false
   },
   "outputs": [],
   "source": [
    "def tag_themes(data, themes):\n",
    "    tagged = data.to_frame()\n",
    "    tagged['themes'] = ''\n",
    "    for theme, keywords in themes.items():\n",
    "        results = data.map(lambda text: keywords_or(text, keywords))\n",
    "        tagged.loc[results, 'themes'] += theme + ','\n",
    "        print(theme, results.sum())\n",
    "    return tagged"
   ]
  },
  {
   "cell_type": "code",
   "execution_count": 112,
   "metadata": {
    "collapsed": false
   },
   "outputs": [
    {
     "name": "stdout",
     "output_type": "stream",
     "text": [
      "all 1475\n"
     ]
    },
    {
     "data": {
      "text/plain": [
       "1    1475\n",
       "0      78\n",
       "Name: themes, dtype: int64"
      ]
     },
     "execution_count": 112,
     "metadata": {},
     "output_type": "execute_result"
    }
   ],
   "source": [
    "tagged = tag_themes(responses, themes)\n",
    "tagged.themes.str.count(',').value_counts()"
   ]
  },
  {
   "cell_type": "code",
   "execution_count": 113,
   "metadata": {
    "collapsed": false
   },
   "outputs": [
    {
     "data": {
      "text/html": [
       "<div>\n",
       "<table border=\"1\" class=\"dataframe\">\n",
       "  <thead>\n",
       "    <tr style=\"text-align: right;\">\n",
       "      <th></th>\n",
       "      <th>0</th>\n",
       "      <th>themes</th>\n",
       "    </tr>\n",
       "  </thead>\n",
       "  <tbody>\n",
       "    <tr>\n",
       "      <th>1999</th>\n",
       "      <td>Doxumentation</td>\n",
       "      <td></td>\n",
       "    </tr>\n",
       "    <tr>\n",
       "      <th>1926</th>\n",
       "      <td>import own scipts</td>\n",
       "      <td></td>\n",
       "    </tr>\n",
       "    <tr>\n",
       "      <th>3257</th>\n",
       "      <td>Assignments and exams for my students</td>\n",
       "      <td></td>\n",
       "    </tr>\n",
       "    <tr>\n",
       "      <th>4703</th>\n",
       "      <td>I code for fun. JN is fun!</td>\n",
       "      <td></td>\n",
       "    </tr>\n",
       "    <tr>\n",
       "      <th>2323</th>\n",
       "      <td>code profiling</td>\n",
       "      <td></td>\n",
       "    </tr>\n",
       "    <tr>\n",
       "      <th>26</th>\n",
       "      <td>Inline, rich media display</td>\n",
       "      <td></td>\n",
       "    </tr>\n",
       "    <tr>\n",
       "      <th>1524</th>\n",
       "      <td>EtL</td>\n",
       "      <td></td>\n",
       "    </tr>\n",
       "    <tr>\n",
       "      <th>1925</th>\n",
       "      <td>Investigating standard libraries.</td>\n",
       "      <td></td>\n",
       "    </tr>\n",
       "    <tr>\n",
       "      <th>2702</th>\n",
       "      <td>nice frontend</td>\n",
       "      <td></td>\n",
       "    </tr>\n",
       "    <tr>\n",
       "      <th>268</th>\n",
       "      <td>Block Execution</td>\n",
       "      <td></td>\n",
       "    </tr>\n",
       "    <tr>\n",
       "      <th>498</th>\n",
       "      <td>Engineering Calculations</td>\n",
       "      <td></td>\n",
       "    </tr>\n",
       "    <tr>\n",
       "      <th>4910</th>\n",
       "      <td>Useful on on clusters</td>\n",
       "      <td></td>\n",
       "    </tr>\n",
       "    <tr>\n",
       "      <th>3865</th>\n",
       "      <td>annotating with text and formulas</td>\n",
       "      <td></td>\n",
       "    </tr>\n",
       "    <tr>\n",
       "      <th>2240</th>\n",
       "      <td>Calculations using SymPy</td>\n",
       "      <td></td>\n",
       "    </tr>\n",
       "    <tr>\n",
       "      <th>519</th>\n",
       "      <td>Showing Code</td>\n",
       "      <td></td>\n",
       "    </tr>\n",
       "    <tr>\n",
       "      <th>5016</th>\n",
       "      <td>can be delivered over the web</td>\n",
       "      <td></td>\n",
       "    </tr>\n",
       "    <tr>\n",
       "      <th>1996</th>\n",
       "      <td>Have some nice comments with formulas along my code</td>\n",
       "      <td></td>\n",
       "    </tr>\n",
       "    <tr>\n",
       "      <th>10</th>\n",
       "      <td>Productivity</td>\n",
       "      <td></td>\n",
       "    </tr>\n",
       "    <tr>\n",
       "      <th>216</th>\n",
       "      <td>Immediate execution of group of lines</td>\n",
       "      <td></td>\n",
       "    </tr>\n",
       "    <tr>\n",
       "      <th>584</th>\n",
       "      <td>autocompletion</td>\n",
       "      <td></td>\n",
       "    </tr>\n",
       "  </tbody>\n",
       "</table>\n",
       "</div>"
      ],
      "text/plain": [
       "                                                         0 themes\n",
       "1999                                         Doxumentation       \n",
       "1926                                     import own scipts       \n",
       "3257                 Assignments and exams for my students       \n",
       "4703                            I code for fun. JN is fun!       \n",
       "2323                                        code profiling       \n",
       "26                              Inline, rich media display       \n",
       "1524                                                   EtL       \n",
       "1925                     Investigating standard libraries.       \n",
       "2702                                        nice frontend        \n",
       "268                                        Block Execution       \n",
       "498                               Engineering Calculations       \n",
       "4910                                Useful on on clusters        \n",
       "3865                     annotating with text and formulas       \n",
       "2240                              Calculations using SymPy       \n",
       "519                                           Showing Code       \n",
       "5016                         can be delivered over the web       \n",
       "1996  Have some nice comments with formulas along my code        \n",
       "10                                            Productivity       \n",
       "216                  Immediate execution of group of lines       \n",
       "584                                         autocompletion       "
      ]
     },
     "execution_count": 113,
     "metadata": {},
     "output_type": "execute_result"
    }
   ],
   "source": [
    "tagged[tagged.themes.str.len() == 0].sample(20, random_state=rs)"
   ]
  },
  {
   "cell_type": "code",
   "execution_count": 118,
   "metadata": {
    "collapsed": true
   },
   "outputs": [],
   "source": [
    "themes = {\n",
    "    'needs_addressed' : ['data science', 'documentation', 'integration', 'live', 'visual', 'classfication', 'present', \n",
    "    'document', 'explor', 'install', 'network', 'viz', 'experiment', 'python', 'document', 'network', 'viz', 'quick',\n",
    "    'shar(e|ing)', 'illustrate', 'prototyp', 'trying out', 'organization', 'writing', 'simulations', 'interact', \n",
    "    'portab(le|ility)', 'chart', 'multi', 'parsing', 'graph', 'mixing', 'debug', 'test', 'showcase',  \n",
    "    'one-?off', 'publi(sh|cation)', 'analy(s|z)', 'hack', 'iterat', 'early', 'teach', 'repeat', 'ideas', 'captur',\n",
    "    'instruct', 'shell', 'educat', 'note', 'troubleshoot', 'agil(ity|e)', 'communic', 'research', 'scratchpad',\n",
    "    'increment', 'munging', 'remote', 'persist', 'literate', 'descrip', 'language', 'grading', 'plot', 'cloud',\n",
    "    'big', 'spark', 'fast', 'excel', 'spreadsheet', 'visibl', 'markdown', 'repl', 'try', 'snippet', 'script',\n",
    "    'cleans?', 'database', 'widget', 'anywhere', 'database', 'concept', 'simulation', 'intermediate', 'format',\n",
    "    'develop', 'comput(ation|ing)', 'history', 'learning', 'excel', 'spreadsheet', 'draft', 'glue', 'together', \n",
    "    'show others', 'sandbox', 'tables', 'collab', 'workflow', 'story', 'poc', 'ide($|\\W)', 'study', 'instant', \n",
    "    'tutorial', 'understand', 'combin(e|ing)', 'eas(y|e|ier|ily)', 'friendly', 'sanitiz', 'figure', 'cell', 'terminal', \n",
    "    'classroom', 'tweak', 'analytic', 'large', 'big', 'show code', 'image', 'data', 'playbook', 'automat', \n",
    "    'visuali(s|z)', 'report', 'reproduc', 'exercise', 'adoption', 'model', 'expla(in|nation)', 'demo', 'other people',\n",
    "    'play', 'math', 'simpl(e|icity)', 'deploy', 'open source', 'dissem']\n",
    "}"
   ]
  },
  {
   "cell_type": "markdown",
   "metadata": {},
   "source": [
    "## Keyword Frequencies\n",
    "\n",
    "Finally, I plotted the frequency counts of keywords identified."
   ]
  },
  {
   "cell_type": "code",
   "execution_count": 81,
   "metadata": {
    "collapsed": true
   },
   "outputs": [],
   "source": [
    "import matplotlib\n",
    "import seaborn"
   ]
  },
  {
   "cell_type": "code",
   "execution_count": 82,
   "metadata": {
    "collapsed": true
   },
   "outputs": [],
   "source": [
    "counts = {}"
   ]
  },
  {
   "cell_type": "code",
   "execution_count": 83,
   "metadata": {
    "collapsed": false
   },
   "outputs": [],
   "source": [
    "for theme, keywords in themes.items():\n",
    "    for keyword in keywords:\n",
    "        hits = responses.map(lambda text: keywords_or(text, [keyword]))\n",
    "        counts[keyword] = hits.sum()"
   ]
  },
  {
   "cell_type": "code",
   "execution_count": 84,
   "metadata": {
    "collapsed": true
   },
   "outputs": [],
   "source": [
    "hist = pd.Series(counts).sort_values()"
   ]
  },
  {
   "cell_type": "code",
   "execution_count": 85,
   "metadata": {
    "collapsed": false
   },
   "outputs": [
    {
     "data": {
      "image/png": "[encoded data removed]",
      "text/plain": [
       "<matplotlib.figure.Figure at 0x7f41a550e6d8>"
      ]
     },
     "metadata": {},
     "output_type": "display_data"
    }
   ],
   "source": [
    "ax = hist[-30:].plot.barh(figsize=(8, 8))\n",
    "_ = ax.set_xlabel('Mentions')"
   ]
  },
  {
   "cell_type": "code",
   "execution_count": 121,
   "metadata": {
    "collapsed": false
   },
   "outputs": [],
   "source": [
    "hits = responses.map(lambda text: keywords_or(text, ['visuali(s|z)']))"
   ]
  },
  {
   "cell_type": "code",
   "execution_count": 122,
   "metadata": {
    "collapsed": false
   },
   "outputs": [
    {
     "data": {
      "text/plain": [
       "103                                                                                             data visualization\n",
       "157                                                                                           inline visualization\n",
       "179                                                                                                  visualisation\n",
       "264                                                  simple to use interactive visualization via bokeh and plot.ly\n",
       "278                                                         python scripting and publishing incl js visualisations\n",
       "303                                               Integrating text, mathematical formulas, code and visualizations\n",
       "358                                                                                                  visualisation\n",
       "406                                                                                             Data visualization\n",
       "425                                                                    The need to visualize results, using plots.\n",
       "439                                                                                           Inline visualization\n",
       "482                                                                                            Code, visualization\n",
       "525                                                            Build data visualizations from various data sources\n",
       "559                                                                                       Rapidly visualizing data\n",
       "594                                                          Load data, process data, analyze data, visualize data\n",
       "605                                                                                                  visualization\n",
       "607                                             Visualizing output from Python scripts running on a remote server.\n",
       "630                                                                            quick inline code and visualization\n",
       "738                                                                                           Quick visualizations\n",
       "798                                                                          Integrated analysis and visualisation\n",
       "835                                                                                           inline visualization\n",
       "838                                                                         Visualization of data on remote server\n",
       "872                                                                                          in-line visualization\n",
       "892                                                                                                  visualization\n",
       "1016                                                                                     Exploration/visualization\n",
       "1076                                                                  simultaneous data analysis and visualization\n",
       "1234                                                                                           Share and visualize\n",
       "1308                                                                     Prototyping algorithms and visualizations\n",
       "1314                                                                                Data exploration/visualization\n",
       "1317                                                                                            Data visualization\n",
       "1406                                                                                                 visualisation\n",
       "                                                           ...                                                    \n",
       "3324                                                                                            Data visualization\n",
       "3327                                                                                              Visualizing data\n",
       "3419                                                                                                 visualisation\n",
       "3490                                                                                         Inline visualization \n",
       "3504                                                                                            data visualization\n",
       "3510                                                                                                 Visualization\n",
       "3571                                        certain visualization tools (e.g. pivottablejs) are just for notebooks\n",
       "3698                                                            Easily visualizing analysis within a single window\n",
       "3702    Mix my number crunching with interactive visualization! This is one of the most important features for me \n",
       "3722                                                                                            Data visualization\n",
       "3831                                                                                          better visualization\n",
       "3898                                                                                            data visualization\n",
       "3904                                                                                                 Visualization\n",
       "3921                                                                               good visualization capabilities\n",
       "3929                                                                                                 visualization\n",
       "4029                                                                                            data visualisation\n",
       "4153                                                                                                 visualization\n",
       "4218                                                                     quick visualisation of results (plotting)\n",
       "4299                                                                                                 visualisation\n",
       "4331                                                                                      easy plot visualizations\n",
       "4432                                                                                    Visualising large datasets\n",
       "4737                                                                                                 Visualization\n",
       "4754                                                                                           make visualizations\n",
       "4796                                                                              Visualisations for presentations\n",
       "4890                                                                                                 Visualization\n",
       "4892                                                                            Quick dashboarding & visualization\n",
       "4924                                                                               Visualization and data display \n",
       "4929                                                                                                 Visualisation\n",
       "4936                                                                                   Visualization and reporting\n",
       "5074                                                                 Visualize data manipulation algorithm results\n",
       "dtype: object"
      ]
     },
     "execution_count": 122,
     "metadata": {},
     "output_type": "execute_result"
    }
   ],
   "source": [
    "responses[hits]"
   ]
  }
 ],
 "metadata": {
  "kernelspec": {
   "display_name": "Python 3",
   "language": "python",
   "name": "python3"
  },
  "language_info": {
   "codemirror_mode": {
    "name": "ipython",
    "version": 3
   },
   "file_extension": ".py",
   "mimetype": "text/x-python",
   "name": "python",
   "nbconvert_exporter": "python",
   "pygments_lexer": "ipython3",
   "version": "3.4.4"
  }
 },
 "nbformat": 4,
 "nbformat_minor": 0
}
