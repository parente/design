{
 "cells": [
  {
   "cell_type": "markdown",
   "metadata": {},
   "source": [
    "# Response Themes for \"What new features or changes would you like to see in Jupyter Notebook? (Please list anything that comes to mind that helps you in your workflow, big or small.)\"\n",
    "\n",
    "* Goal: Extract theme keywords from `features_changes` responses.\n",
    "* Data: Output from 2_clean_survey.ipynb notebook (`survey_short_columns.csv`)\n",
    "* Process from [1_ux_survey_review.ipynb](1_ux_survey_review.ipynb):\n",
    "\n",
    "> Moving forward, here's a semi-automatic procedure we can follow for identifying themes across questions:\n",
    "> 1. Take a random sample of question responses\n",
    "> 2. Write down common theme keywords\n",
    "> 3. Search back through the responses using the theme keywords\n",
    "> 4. Expand the set of keywords with other words seen in the search results\n",
    "> 5. Repeat for all themes and questions\n",
    "> Later, we can use a fully automated topic modeling approach to validate our manually generated themes."
   ]
  },
  {
   "cell_type": "code",
   "execution_count": 1,
   "metadata": {
    "collapsed": true
   },
   "outputs": [],
   "source": [
    "import warnings\n",
    "warnings.filterwarnings(\"ignore\")"
   ]
  },
  {
   "cell_type": "code",
   "execution_count": 2,
   "metadata": {
    "collapsed": false
   },
   "outputs": [],
   "source": [
    "%matplotlib inline"
   ]
  },
  {
   "cell_type": "code",
   "execution_count": 3,
   "metadata": {
    "collapsed": true
   },
   "outputs": [],
   "source": [
    "import pandas as pd\n",
    "import numpy as np"
   ]
  },
  {
   "cell_type": "markdown",
   "metadata": {},
   "source": [
    "Make sure the samples come up the same for anyone that re-runs this."
   ]
  },
  {
   "cell_type": "code",
   "execution_count": 4,
   "metadata": {
    "collapsed": false
   },
   "outputs": [],
   "source": [
    "rs = np.random.RandomState(123)"
   ]
  },
  {
   "cell_type": "code",
   "execution_count": 5,
   "metadata": {
    "collapsed": true
   },
   "outputs": [],
   "source": [
    "pd.set_option('max_colwidth', 1000)"
   ]
  },
  {
   "cell_type": "code",
   "execution_count": 6,
   "metadata": {
    "collapsed": true
   },
   "outputs": [],
   "source": [
    "df = pd.read_csv('survey_short_columns.csv')"
   ]
  },
  {
   "cell_type": "code",
   "execution_count": 7,
   "metadata": {
    "collapsed": true
   },
   "outputs": [],
   "source": [
    "def show(series):\n",
    "    '''Make random samples easier to read.'''\n",
    "    for i, value in enumerate(series):\n",
    "        print('{}) {}'.format(i, value), end='\\n\\n')"
   ]
  },
  {
   "cell_type": "code",
   "execution_count": 8,
   "metadata": {
    "collapsed": false
   },
   "outputs": [],
   "source": [
    "responses = pd.concat([df.features_changes_1, df.features_changes_2, df.features_changes_3])"
   ]
  },
  {
   "cell_type": "code",
   "execution_count": 9,
   "metadata": {
    "collapsed": true
   },
   "outputs": [],
   "source": [
    "assert len(responses) == len(df) * 3"
   ]
  },
  {
   "cell_type": "code",
   "execution_count": 10,
   "metadata": {
    "collapsed": false
   },
   "outputs": [
    {
     "data": {
      "text/plain": [
       "True     3972\n",
       "False    1146\n",
       "dtype: int64"
      ]
     },
     "execution_count": 10,
     "metadata": {},
     "output_type": "execute_result"
    }
   ],
   "source": [
    "responses.isnull().value_counts()"
   ]
  },
  {
   "cell_type": "code",
   "execution_count": 11,
   "metadata": {
    "collapsed": true
   },
   "outputs": [],
   "source": [
    "responses = responses.dropna()"
   ]
  },
  {
   "cell_type": "markdown",
   "metadata": {},
   "source": [
    "## Initial Samples\n",
    "\n",
    "I ran the sampling code below multiple times and manually built up the initial set of keywords seen commonly across them. I formed groups of conceptually related keywords. Then I tried to assign a simple label to each group."
   ]
  },
  {
   "cell_type": "code",
   "execution_count": 12,
   "metadata": {
    "collapsed": false,
    "scrolled": false
   },
   "outputs": [
    {
     "name": "stdout",
     "output_type": "stream",
     "text": [
      "0) sort files in folders\n",
      "\n",
      "1) Well-documented extensions framework\n",
      "\n",
      "2) Easy (CSS) customization of basic settings (code block themes, fonts, etc.)\n",
      "\n",
      "3) Debug capabilities / \"Workspace explorer\"\n",
      "\n",
      "4) Drag and drop for cells\n",
      "\n",
      "5) Tighter integration of qtconsole\n",
      "\n",
      "6) Googling for IPython notebook issues turns up tons of legacy  solutions; what's the current right way?\n",
      "\n",
      "7) Stylesheets configuration\n",
      "\n",
      "8) External editor\n",
      "\n",
      "9) Allow hiding of code blocks when rendering to html/md\n",
      "\n",
      "10) Native wrapper for saving and opening\n",
      "\n",
      "11) https://github.com/jupyter/notebook/issues/389#issuecomment-154087320\n",
      "\n",
      "12) Brainless cloud developement\n",
      "\n",
      "13) Export non-code elements (Markdown and plots)\n",
      "\n",
      "14) Built-in compatibility with git\n",
      "\n",
      "15) Easier access to text editing\n",
      "\n",
      "16) drag/drop of cells\n",
      "\n",
      "17) Web API documentation\n",
      "\n",
      "18) metadata editing within the notebook\n",
      "\n",
      "19) small: add  So I can run jupyter as a standalone app on android with the kernel running in a chroot environment.\n",
      "\n"
     ]
    }
   ],
   "source": [
    "show(responses.sample(20, random_state=rs))"
   ]
  },
  {
   "cell_type": "code",
   "execution_count": 212,
   "metadata": {
    "collapsed": false
   },
   "outputs": [],
   "source": [
    "themes = {\n",
    "    'ux': ['drag', 'drop', 'drag(/|&)drop', '(multiple|groups of|individual) cells', 'sections', \n",
    "           'click(ing)?', 'paste', 'undo', 'all cells', 'copy/paste', \n",
    "           'todo', '(styles?|stylesheets?|CSS|theme|skin|font|colo(u)?r)', 'scrol(ling)?', \n",
    "           'fold(ing)?(.*cells)?', 'collaps(e|ing|ible)', 'hid(e|ing|den)',\n",
    "           'navigat(e|ion|ing)', \n",
    "           '(menus?|icons?|buttons?|tooltips?)', 'g?ui($|\\W)', \n",
    "           'mobile', 'progress bar', \n",
    "           '(window|pane|sidebar|screen|width|height)', '(moving|reordering) cells', 'toggle',\n",
    "           'spell(\\s|-)?check(er|ing)?', 'dialog', ],\n",
    "    'version_control': ['(source|version) (control|tracking|management)', 'git(hub)?',\n",
    "                        'control version', 'not versioned', 'version-controlled', \n",
    "                        'version(ing)?(\\snotebooks)?', '((version|editing) history)|revisions', 'revisions/code', \n",
    "                        'change track(er|ing)', ],\n",
    "    'dissemination': ['hid(e|ing) (code|cells|input)', 'slides?', 'deployment', 'nbconvert', 'nbviewer', \n",
    "                      'dashboards?',\n",
    "                      'report(ing)?', 'interact(ion|ive|ity)', 'presentations?', 'knitr', \n",
    "                      'export', 'slides(how)?', 'sharing', 'publish(ing)?', 'PDF($|\\W)', 'download', 'reus(e|able)', ], \n",
    "    'documentation': ['doc(s|umentation)?($|\\W)', 'tutorials?', 'instructions?', 'how(\\s|-)?tos?' ],\n",
    "    'ide': ['workspace|ide($|\\W)|rstudio', 'variable (explorer|viewer)', 'debug', 'profil(er|ing)', 'breakpoints?', \n",
    "            'inspector', 'variables', 'pdb', ],\n",
    "    'hosting': ['cloud', 'cluster', 'jupyter(\\s)?hub', 'tmpnb', 'desktop', 'S3', 'backup', 'docker', \n",
    "                'install', 'hosting', 'users', 'multi(ple|-)?\\s?user', ],\n",
    "    'content_management': ['(folders?|director(y|ies))', 'file(\\s)?system', '(toc|table of contents)', 'search', \n",
    "                           'tagging', 'file (manager|browser)', 'hierarchy', 'find\\s?(\\/|and\\s)replace', \n",
    "                           'import(able)? (from)? notebooks?', 'import', 'refactor(ing)?', ], \n",
    "    'collab': ['collaborat(ion|ive|ing)', ],\n",
    "    'editor': ['lint(ing|er)s?', '(better|powerful|external) edit(or|ing)', \n",
    "               'multi(ple\\s|-)cursor', '(text|code) edit(or|ing)', 'syntax', 'diffs?($|\\W)',\n",
    "               'curser', 'vim?($|\\W)|sublime|atom|emacs', \n",
    "               '(tab|code|auto)-?\\s?complet(e|ion)', '(hot)?key(\\s|-)?(mappings|bindings)', 'keyboard|short-?cuts?', \n",
    "               'parenthes(e|i)s', ],\n",
    "    'integration': ['integrat(e|ion)', '(apache\\s)?spark', 'pydb', 'matplotlib', 'django', \n",
    "                    'pandoc', 'wordpress', 'pyflakes', 'third-party', 'packages', ],\n",
    "    'visualization': ['d3', 'widgets', 'visualization', 'plotting', 'graphics', ],\n",
    "    'cranky': ['dial down the hype', ], \n",
    "    'performance': ['performance', 'more speed', 'cach(e|ing)', ],\n",
    "    'compatibility': ['communication of changes', 'package updates', 'compatib(ility|le)', ],\n",
    "    'language': ['python', 'language', 'clojure', 'fortran', 'javascript', 'R($|\\W)', 'C\\/C', ],\n",
    "    'cli': ['cli($|\\W)', 'terminal', 'command line', 'console', ],\n",
    "}"
   ]
  },
  {
   "cell_type": "markdown",
   "metadata": {},
   "source": [
    "## Coverage Improvement\n",
    "\n",
    "I next ran the code below to associate the theme labels with the responses. I then iterated on running the code below to find reponses without labels. I expanded the list of keywords and themes above in order to improve coverage."
   ]
  },
  {
   "cell_type": "code",
   "execution_count": 213,
   "metadata": {
    "collapsed": true
   },
   "outputs": [],
   "source": [
    "import re"
   ]
  },
  {
   "cell_type": "code",
   "execution_count": 214,
   "metadata": {
    "collapsed": true
   },
   "outputs": [],
   "source": [
    "def keywords_or(text, keywords):\n",
    "    for keyword in keywords:\n",
    "        if re.search('(^|\\W+){}'.format(keyword), text, re.IGNORECASE):\n",
    "            return True\n",
    "    return False"
   ]
  },
  {
   "cell_type": "code",
   "execution_count": 215,
   "metadata": {
    "collapsed": false
   },
   "outputs": [],
   "source": [
    "def tag_themes(responses, themes):\n",
    "    tagged = responses.to_frame()\n",
    "    tagged['themes'] = ''\n",
    "    for theme, keywords in themes.items():\n",
    "        results = responses.map(lambda text: keywords_or(text, keywords))\n",
    "        tagged.loc[results, 'themes'] += theme + ','\n",
    "        print(theme, results.sum())\n",
    "    return tagged"
   ]
  },
  {
   "cell_type": "code",
   "execution_count": 216,
   "metadata": {
    "collapsed": false
   },
   "outputs": [
    {
     "name": "stdout",
     "output_type": "stream",
     "text": [
      "language 55\n",
      "ux 267\n",
      "cli 23\n",
      "documentation 32\n",
      "integration 126\n",
      "ide 102\n",
      "editor 128\n",
      "version_control 106\n",
      "dissemination 112\n",
      "performance 5\n",
      "content_management 67\n",
      "compatibility 5\n",
      "collab 23\n",
      "hosting 63\n",
      "visualization 48\n",
      "cranky 1\n"
     ]
    },
    {
     "data": {
      "text/plain": [
       "1    659\n",
       "0    257\n",
       "2    192\n",
       "3     33\n",
       "4      4\n",
       "5      1\n",
       "Name: themes, dtype: int64"
      ]
     },
     "execution_count": 216,
     "metadata": {},
     "output_type": "execute_result"
    }
   ],
   "source": [
    "tagged = tag_themes(responses, themes)\n",
    "tagged.themes.str.count(',').value_counts()"
   ]
  },
  {
   "cell_type": "code",
   "execution_count": 217,
   "metadata": {
    "collapsed": false
   },
   "outputs": [
    {
     "data": {
      "text/html": [
       "<div>\n",
       "<table border=\"1\" class=\"dataframe\">\n",
       "  <thead>\n",
       "    <tr style=\"text-align: right;\">\n",
       "      <th></th>\n",
       "      <th>0</th>\n",
       "      <th>themes</th>\n",
       "    </tr>\n",
       "  </thead>\n",
       "  <tbody>\n",
       "    <tr>\n",
       "      <th>627</th>\n",
       "      <td>visualisation of variable contents</td>\n",
       "      <td></td>\n",
       "    </tr>\n",
       "    <tr>\n",
       "      <th>53</th>\n",
       "      <td>get rid of server as something user-facing</td>\n",
       "      <td></td>\n",
       "    </tr>\n",
       "    <tr>\n",
       "      <th>1355</th>\n",
       "      <td>The ability to run individual lines of code, instead of the entire cell</td>\n",
       "      <td></td>\n",
       "    </tr>\n",
       "    <tr>\n",
       "      <th>48</th>\n",
       "      <td>Attaching notebook to running kernel</td>\n",
       "      <td></td>\n",
       "    </tr>\n",
       "    <tr>\n",
       "      <th>1524</th>\n",
       "      <td>Easier to learn</td>\n",
       "      <td></td>\n",
       "    </tr>\n",
       "    <tr>\n",
       "      <th>338</th>\n",
       "      <td>Easier multi-cell selection and editing within and between notebooks</td>\n",
       "      <td></td>\n",
       "    </tr>\n",
       "    <tr>\n",
       "      <th>61</th>\n",
       "      <td>automatic cleanup of un-closed notebooks which are using a lot of memory/better RAM management in general</td>\n",
       "      <td></td>\n",
       "    </tr>\n",
       "    <tr>\n",
       "      <th>107</th>\n",
       "      <td>Separate application</td>\n",
       "      <td></td>\n",
       "    </tr>\n",
       "    <tr>\n",
       "      <th>95</th>\n",
       "      <td>Easier way to see execution order of cells which have run out of order sometimes</td>\n",
       "      <td></td>\n",
       "    </tr>\n",
       "    <tr>\n",
       "      <th>298</th>\n",
       "      <td>connecting to database servers</td>\n",
       "      <td></td>\n",
       "    </tr>\n",
       "    <tr>\n",
       "      <th>610</th>\n",
       "      <td>Find replace</td>\n",
       "      <td></td>\n",
       "    </tr>\n",
       "    <tr>\n",
       "      <th>421</th>\n",
       "      <td>jupyterlab not requiring admin access nor vs2015</td>\n",
       "      <td></td>\n",
       "    </tr>\n",
       "    <tr>\n",
       "      <th>828</th>\n",
       "      <td>add support for external files which are included</td>\n",
       "      <td></td>\n",
       "    </tr>\n",
       "    <tr>\n",
       "      <th>824</th>\n",
       "      <td>Collection of extensions</td>\n",
       "      <td></td>\n",
       "    </tr>\n",
       "    <tr>\n",
       "      <th>1221</th>\n",
       "      <td>Reliable way to reconnect to running job on remote server, and to see output generated in the mean time.</td>\n",
       "      <td></td>\n",
       "    </tr>\n",
       "    <tr>\n",
       "      <th>1611</th>\n",
       "      <td>Some alternative to markdown cells in cases where it is too limited</td>\n",
       "      <td></td>\n",
       "    </tr>\n",
       "    <tr>\n",
       "      <th>42</th>\n",
       "      <td>shift-tab should work better with indented code</td>\n",
       "      <td></td>\n",
       "    </tr>\n",
       "    <tr>\n",
       "      <th>1630</th>\n",
       "      <td>Automatic variable persistence across sessions</td>\n",
       "      <td></td>\n",
       "    </tr>\n",
       "    <tr>\n",
       "      <th>1611</th>\n",
       "      <td>More reliable conversion to other formats</td>\n",
       "      <td></td>\n",
       "    </tr>\n",
       "    <tr>\n",
       "      <th>96</th>\n",
       "      <td>cell sort on keyword or comment</td>\n",
       "      <td></td>\n",
       "    </tr>\n",
       "  </tbody>\n",
       "</table>\n",
       "</div>"
      ],
      "text/plain": [
       "                                                                                                              0  \\\n",
       "627                                                                          visualisation of variable contents   \n",
       "53                                                                   get rid of server as something user-facing   \n",
       "1355                                    The ability to run individual lines of code, instead of the entire cell   \n",
       "48                                                                         Attaching notebook to running kernel   \n",
       "1524                                                                                           Easier to learn    \n",
       "338                                        Easier multi-cell selection and editing within and between notebooks   \n",
       "61    automatic cleanup of un-closed notebooks which are using a lot of memory/better RAM management in general   \n",
       "107                                                                                        Separate application   \n",
       "95                             Easier way to see execution order of cells which have run out of order sometimes   \n",
       "298                                                                              connecting to database servers   \n",
       "610                                                                                                Find replace   \n",
       "421                                                            jupyterlab not requiring admin access nor vs2015   \n",
       "828                                                           add support for external files which are included   \n",
       "824                                                                                    Collection of extensions   \n",
       "1221   Reliable way to reconnect to running job on remote server, and to see output generated in the mean time.   \n",
       "1611                                        Some alternative to markdown cells in cases where it is too limited   \n",
       "42                                                              shift-tab should work better with indented code   \n",
       "1630                                                             Automatic variable persistence across sessions   \n",
       "1611                                                                  More reliable conversion to other formats   \n",
       "96                                                                              cell sort on keyword or comment   \n",
       "\n",
       "     themes  \n",
       "627          \n",
       "53           \n",
       "1355         \n",
       "48           \n",
       "1524         \n",
       "338          \n",
       "61           \n",
       "107          \n",
       "95           \n",
       "298          \n",
       "610          \n",
       "421          \n",
       "828          \n",
       "824          \n",
       "1221         \n",
       "1611         \n",
       "42           \n",
       "1630         \n",
       "1611         \n",
       "96           "
      ]
     },
     "execution_count": 217,
     "metadata": {},
     "output_type": "execute_result"
    }
   ],
   "source": [
    "tagged[tagged.themes.str.len() == 0].sample(20, random_state=rs)"
   ]
  },
  {
   "cell_type": "markdown",
   "metadata": {},
   "source": [
    "## Precision Check\n",
    "\n",
    "I then studied a sample of responses for each theme to see if there major inaccuracies in their application (e.g., string matches that are too fuzzy)."
   ]
  },
  {
   "cell_type": "code",
   "execution_count": 218,
   "metadata": {
    "collapsed": false
   },
   "outputs": [
    {
     "name": "stdout",
     "output_type": "stream",
     "text": [
      "language 55\n",
      "ux 267\n",
      "cli 23\n",
      "documentation 32\n",
      "integration 126\n",
      "ide 102\n",
      "editor 128\n",
      "version_control 106\n",
      "dissemination 112\n",
      "performance 5\n",
      "content_management 67\n",
      "compatibility 5\n",
      "collab 23\n",
      "hosting 63\n",
      "visualization 48\n",
      "cranky 1\n"
     ]
    },
    {
     "data": {
      "text/plain": [
       "1    659\n",
       "0    257\n",
       "2    192\n",
       "3     33\n",
       "4      4\n",
       "5      1\n",
       "Name: themes, dtype: int64"
      ]
     },
     "execution_count": 218,
     "metadata": {},
     "output_type": "execute_result"
    }
   ],
   "source": [
    "tagged = tag_themes(responses, themes)\n",
    "tagged.themes.str.count(',').value_counts()"
   ]
  },
  {
   "cell_type": "code",
   "execution_count": 219,
   "metadata": {
    "collapsed": true
   },
   "outputs": [],
   "source": [
    "from IPython.display import display, clear_output"
   ]
  },
  {
   "cell_type": "code",
   "execution_count": 229,
   "metadata": {
    "collapsed": false,
    "scrolled": false
   },
   "outputs": [],
   "source": [
    "# for key in themes:\n",
    "#     clear_output()\n",
    "#     size = min([10, len(tagged[tagged.themes.str.contains(key)])])\n",
    "#     display(tagged[tagged.themes.str.contains(key)].sample(size))\n",
    "#     if input('Showing `{}`. Type Enter to continue, \"q\" to stop.'.format(key)) == 'q':\n",
    "#         break"
   ]
  },
  {
   "cell_type": "markdown",
   "metadata": {},
   "source": [
    "I also looked at responses with multiple themes to fine tune them, and catch duplication of words in multiple themes."
   ]
  },
  {
   "cell_type": "code",
   "execution_count": 230,
   "metadata": {
    "collapsed": false
   },
   "outputs": [
    {
     "data": {
      "text/html": [
       "<div>\n",
       "<table border=\"1\" class=\"dataframe\">\n",
       "  <thead>\n",
       "    <tr style=\"text-align: right;\">\n",
       "      <th></th>\n",
       "      <th>0</th>\n",
       "      <th>themes</th>\n",
       "    </tr>\n",
       "  </thead>\n",
       "  <tbody>\n",
       "    <tr>\n",
       "      <th>1604</th>\n",
       "      <td>Better tutorials for setting up eg jupyterhub and tmpnb</td>\n",
       "      <td>documentation,hosting,</td>\n",
       "    </tr>\n",
       "    <tr>\n",
       "      <th>439</th>\n",
       "      <td>Integrated debugging</td>\n",
       "      <td>integration,ide,</td>\n",
       "    </tr>\n",
       "    <tr>\n",
       "      <th>535</th>\n",
       "      <td>Editor window for larger amounts of code, with a notebook that uses the same environment variables. Basically, a really large cell on the left of the screen for functions and supporting code.</td>\n",
       "      <td>ux,ide,</td>\n",
       "    </tr>\n",
       "    <tr>\n",
       "      <th>1343</th>\n",
       "      <td>Different languages for code cells inside the same notebook</td>\n",
       "      <td>language,ide,</td>\n",
       "    </tr>\n",
       "    <tr>\n",
       "      <th>594</th>\n",
       "      <td>hints on keyboard shortcuts in menus</td>\n",
       "      <td>ux,editor,</td>\n",
       "    </tr>\n",
       "    <tr>\n",
       "      <th>167</th>\n",
       "      <td>Awesome deployable interaction widgets</td>\n",
       "      <td>dissemination,visualization,</td>\n",
       "    </tr>\n",
       "    <tr>\n",
       "      <th>587</th>\n",
       "      <td>Git integration</td>\n",
       "      <td>integration,version_control,</td>\n",
       "    </tr>\n",
       "    <tr>\n",
       "      <th>145</th>\n",
       "      <td>Repeating Q7 #2 here:     When I do an analysis, I may delete a cell (which I thought was extra) - I rerun the notebook at it works fine because the variables from the deleted cell are still in the name space (but I don't notice that) so when I re-open the notebook the next day to rerun the analysis it doesn't work - and it is too late to restore that deleted cell.  This may just be a personal problem and I need to be more organized, but it has happened a few times so I thought I would mention it - if when you delete a cell that has variables declared in it - then it drops those values when the cell is deleted rather than keep them in namespace.  Again, I am not sure of the implications of that on other areas of the notebook functionality.</td>\n",
       "      <td>ux,ide,</td>\n",
       "    </tr>\n",
       "    <tr>\n",
       "      <th>135</th>\n",
       "      <td>Easy to reconfigure keyboard shortcuts (through a GUI)</td>\n",
       "      <td>ux,editor,</td>\n",
       "    </tr>\n",
       "    <tr>\n",
       "      <th>1234</th>\n",
       "      <td>Integration with cloud env</td>\n",
       "      <td>integration,hosting,</td>\n",
       "    </tr>\n",
       "    <tr>\n",
       "      <th>89</th>\n",
       "      <td>Git integration</td>\n",
       "      <td>integration,version_control,</td>\n",
       "    </tr>\n",
       "    <tr>\n",
       "      <th>1590</th>\n",
       "      <td>Some sort of very simple process for installing different kernels -- at least detailed instructions.</td>\n",
       "      <td>documentation,hosting,</td>\n",
       "    </tr>\n",
       "    <tr>\n",
       "      <th>355</th>\n",
       "      <td>Integration with Git repo</td>\n",
       "      <td>integration,version_control,</td>\n",
       "    </tr>\n",
       "    <tr>\n",
       "      <th>835</th>\n",
       "      <td>tetris so that I can show to emacs users</td>\n",
       "      <td>editor,hosting,</td>\n",
       "    </tr>\n",
       "    <tr>\n",
       "      <th>542</th>\n",
       "      <td>Styles suitable for professional publishing, unprogramattically</td>\n",
       "      <td>ux,dissemination,</td>\n",
       "    </tr>\n",
       "    <tr>\n",
       "      <th>979</th>\n",
       "      <td>user-friendly track changes and git integration</td>\n",
       "      <td>integration,version_control,</td>\n",
       "    </tr>\n",
       "    <tr>\n",
       "      <th>441</th>\n",
       "      <td>create new folders</td>\n",
       "      <td>ux,content_management,</td>\n",
       "    </tr>\n",
       "    <tr>\n",
       "      <th>246</th>\n",
       "      <td>A few default matplotlib settings available as shortcuts</td>\n",
       "      <td>integration,editor,</td>\n",
       "    </tr>\n",
       "    <tr>\n",
       "      <th>61</th>\n",
       "      <td>Easier customization of menu items/shortcuts</td>\n",
       "      <td>ux,editor,</td>\n",
       "    </tr>\n",
       "    <tr>\n",
       "      <th>661</th>\n",
       "      <td>a way to see all variables in current instance, similar to spyder/R studio</td>\n",
       "      <td>language,ide,</td>\n",
       "    </tr>\n",
       "  </tbody>\n",
       "</table>\n",
       "</div>"
      ],
      "text/plain": [
       "                                                                                                                                                                                                                                                                                                                                                                                                                                                                                                                                                                                                                                                                                                                                                                                  0  \\\n",
       "1604                                                                                                                                                                                                                                                                                                                                                                                                                                                                                                                                                                                                                                                                                                                        Better tutorials for setting up eg jupyterhub and tmpnb   \n",
       "439                                                                                                                                                                                                                                                                                                                                                                                                                                                                                                                                                                                                                                                                                                                                                            Integrated debugging   \n",
       "535                                                                                                                                                                                                                                                                                                                                                                                                                                                                                                                                                                                 Editor window for larger amounts of code, with a notebook that uses the same environment variables. Basically, a really large cell on the left of the screen for functions and supporting code.   \n",
       "1343                                                                                                                                                                                                                                                                                                                                                                                                                                                                                                                                                                                                                                                                                                                    Different languages for code cells inside the same notebook   \n",
       "594                                                                                                                                                                                                                                                                                                                                                                                                                                                                                                                                                                                                                                                                                                                                            hints on keyboard shortcuts in menus   \n",
       "167                                                                                                                                                                                                                                                                                                                                                                                                                                                                                                                                                                                                                                                                                                                                         Awesome deployable interaction widgets    \n",
       "587                                                                                                                                                                                                                                                                                                                                                                                                                                                                                                                                                                                                                                                                                                                                                                 Git integration   \n",
       "145   Repeating Q7 #2 here:     When I do an analysis, I may delete a cell (which I thought was extra) - I rerun the notebook at it works fine because the variables from the deleted cell are still in the name space (but I don't notice that) so when I re-open the notebook the next day to rerun the analysis it doesn't work - and it is too late to restore that deleted cell.  This may just be a personal problem and I need to be more organized, but it has happened a few times so I thought I would mention it - if when you delete a cell that has variables declared in it - then it drops those values when the cell is deleted rather than keep them in namespace.  Again, I am not sure of the implications of that on other areas of the notebook functionality.   \n",
       "135                                                                                                                                                                                                                                                                                                                                                                                                                                                                                                                                                                                                                                                                                                                          Easy to reconfigure keyboard shortcuts (through a GUI)   \n",
       "1234                                                                                                                                                                                                                                                                                                                                                                                                                                                                                                                                                                                                                                                                                                                                                     Integration with cloud env   \n",
       "89                                                                                                                                                                                                                                                                                                                                                                                                                                                                                                                                                                                                                                                                                                                                                                  Git integration   \n",
       "1590                                                                                                                                                                                                                                                                                                                                                                                                                                                                                                                                                                                                                                                                          Some sort of very simple process for installing different kernels -- at least detailed instructions.    \n",
       "355                                                                                                                                                                                                                                                                                                                                                                                                                                                                                                                                                                                                                                                                                                                                                       Integration with Git repo   \n",
       "835                                                                                                                                                                                                                                                                                                                                                                                                                                                                                                                                                                                                                                                                                                                                        tetris so that I can show to emacs users   \n",
       "542                                                                                                                                                                                                                                                                                                                                                                                                                                                                                                                                                                                                                                                                                                                 Styles suitable for professional publishing, unprogramattically   \n",
       "979                                                                                                                                                                                                                                                                                                                                                                                                                                                                                                                                                                                                                                                                                                                                 user-friendly track changes and git integration   \n",
       "441                                                                                                                                                                                                                                                                                                                                                                                                                                                                                                                                                                                                                                                                                                                                                             create new folders    \n",
       "246                                                                                                                                                                                                                                                                                                                                                                                                                                                                                                                                                                                                                                                                                                                        A few default matplotlib settings available as shortcuts   \n",
       "61                                                                                                                                                                                                                                                                                                                                                                                                                                                                                                                                                                                                                                                                                                                                     Easier customization of menu items/shortcuts   \n",
       "661                                                                                                                                                                                                                                                                                                                                                                                                                                                                                                                                                                                                                                                                                                      a way to see all variables in current instance, similar to spyder/R studio   \n",
       "\n",
       "                            themes  \n",
       "1604        documentation,hosting,  \n",
       "439               integration,ide,  \n",
       "535                        ux,ide,  \n",
       "1343                 language,ide,  \n",
       "594                     ux,editor,  \n",
       "167   dissemination,visualization,  \n",
       "587   integration,version_control,  \n",
       "145                        ux,ide,  \n",
       "135                     ux,editor,  \n",
       "1234          integration,hosting,  \n",
       "89    integration,version_control,  \n",
       "1590        documentation,hosting,  \n",
       "355   integration,version_control,  \n",
       "835                editor,hosting,  \n",
       "542              ux,dissemination,  \n",
       "979   integration,version_control,  \n",
       "441         ux,content_management,  \n",
       "246            integration,editor,  \n",
       "61                      ux,editor,  \n",
       "661                  language,ide,  "
      ]
     },
     "execution_count": 230,
     "metadata": {},
     "output_type": "execute_result"
    }
   ],
   "source": [
    "tagged[tagged.themes.str.count(',') == 2].sample(20, random_state=rs)"
   ]
  },
  {
   "cell_type": "markdown",
   "metadata": {},
   "source": [
    "## Keyword Frequencies"
   ]
  },
  {
   "cell_type": "code",
   "execution_count": 231,
   "metadata": {
    "collapsed": true
   },
   "outputs": [],
   "source": [
    "import matplotlib\n",
    "import seaborn"
   ]
  },
  {
   "cell_type": "code",
   "execution_count": 232,
   "metadata": {
    "collapsed": true
   },
   "outputs": [],
   "source": [
    "counts = {}"
   ]
  },
  {
   "cell_type": "code",
   "execution_count": 233,
   "metadata": {
    "collapsed": false
   },
   "outputs": [],
   "source": [
    "for theme, keywords in themes.items():\n",
    "    for keyword in keywords:\n",
    "        hits = responses.map(lambda text: keywords_or(text, [keyword]))\n",
    "        counts[keyword] = hits.sum()"
   ]
  },
  {
   "cell_type": "code",
   "execution_count": 234,
   "metadata": {
    "collapsed": true
   },
   "outputs": [],
   "source": [
    "hist = pd.Series(counts).sort_values()"
   ]
  },
  {
   "cell_type": "code",
   "execution_count": 235,
   "metadata": {
    "collapsed": false
   },
   "outputs": [
    {
     "data": {
      "image/png": "[encoded data removed]",
      "text/plain": [
       "<matplotlib.figure.Figure at 0x7f655b697208>"
      ]
     },
     "metadata": {},
     "output_type": "display_data"
    }
   ],
   "source": [
    "ax = hist[-30:].plot.barh(figsize=(8, 8))\n",
    "_ = ax.set_xlabel('Mentions')"
   ]
  },
  {
   "cell_type": "markdown",
   "metadata": {
    "collapsed": true
   },
   "source": [
    "## Persist\n",
    "\n",
    "I save off the themes and keywords to a DataFrame with the same index as the original so that the entries can be tagged."
   ]
  },
  {
   "cell_type": "code",
   "execution_count": 236,
   "metadata": {
    "collapsed": true
   },
   "outputs": [],
   "source": [
    "column = 'features_changes'"
   ]
  },
  {
   "cell_type": "code",
   "execution_count": 237,
   "metadata": {
    "collapsed": true
   },
   "outputs": [],
   "source": [
    "themes_df = tagged.themes.to_frame()"
   ]
  },
  {
   "cell_type": "code",
   "execution_count": 238,
   "metadata": {
    "collapsed": true
   },
   "outputs": [],
   "source": [
    "themes_df = themes_df.rename(columns={'themes' : column+'_themes'})"
   ]
  },
  {
   "cell_type": "code",
   "execution_count": 239,
   "metadata": {
    "collapsed": true
   },
   "outputs": [],
   "source": [
    "themes_df[column+'_keywords'] = ''"
   ]
  },
  {
   "cell_type": "code",
   "execution_count": 240,
   "metadata": {
    "collapsed": true
   },
   "outputs": [],
   "source": [
    "for theme, keywords in themes.items():\n",
    "    for keyword in keywords:\n",
    "        results = responses.map(lambda text: keywords_or(text, [keyword]))\n",
    "        if not results.sum(): continue\n",
    "        themes_df.loc[results, column+'_keywords'] += keyword + ','"
   ]
  },
  {
   "cell_type": "code",
   "execution_count": 241,
   "metadata": {
    "collapsed": true
   },
   "outputs": [],
   "source": [
    "themes_df[column+'_themes'] = themes_df[column+'_themes'].str.rstrip(',')\n",
    "themes_df[column+'_keywords'] = themes_df[column+'_keywords'].str.rstrip(',')"
   ]
  },
  {
   "cell_type": "markdown",
   "metadata": {},
   "source": [
    "Up above, I merged the three response fields for the question into one common pool which means we can have duplicate index value in the themes DataFrame. We need to squash these down and remove duplicates."
   ]
  },
  {
   "cell_type": "code",
   "execution_count": 242,
   "metadata": {
    "collapsed": true
   },
   "outputs": [],
   "source": [
    "def union(group_df):\n",
    "    '''Gets the set union of themes and keywords for a given DataFrame.'''\n",
    "    themes = group_df[column+'_themes'].str.cat(sep=',')\n",
    "    themes = list(set(themes.split(',')))\n",
    "    themes = ','.join(themes)\n",
    "    \n",
    "    keywords = group_df[column+'_keywords'].str.cat(sep=',')\n",
    "    keywords = list(set(keywords.split(',')))\n",
    "    keywords = ','.join(keywords)\n",
    "    return pd.Series([themes, keywords], index=[column+'_themes', column+'_keywords'])"
   ]
  },
  {
   "cell_type": "markdown",
   "metadata": {},
   "source": [
    "We group by the index and union the themes and keywords."
   ]
  },
  {
   "cell_type": "code",
   "execution_count": 243,
   "metadata": {
    "collapsed": true
   },
   "outputs": [],
   "source": [
    "themes_df = themes_df.groupby(themes_df.index).apply(union)"
   ]
  },
  {
   "cell_type": "code",
   "execution_count": 244,
   "metadata": {
    "collapsed": false
   },
   "outputs": [
    {
     "data": {
      "text/html": [
       "<div>\n",
       "<table border=\"1\" class=\"dataframe\">\n",
       "  <thead>\n",
       "    <tr style=\"text-align: right;\">\n",
       "      <th></th>\n",
       "      <th>features_changes_themes</th>\n",
       "      <th>features_changes_keywords</th>\n",
       "    </tr>\n",
       "  </thead>\n",
       "  <tbody>\n",
       "    <tr>\n",
       "      <th>1</th>\n",
       "      <td>editor,cli,version_control</td>\n",
       "      <td>diffs?($|\\W),git(hub)?,command line</td>\n",
       "    </tr>\n",
       "    <tr>\n",
       "      <th>5</th>\n",
       "      <td>integration,ide,visualization,cli,dissemination</td>\n",
       "      <td>workspace|ide($|\\W)|rstudio,variables,terminal,graphics,matplotlib,interact(ion|ive|ity)</td>\n",
       "    </tr>\n",
       "    <tr>\n",
       "      <th>6</th>\n",
       "      <td>hosting,documentation,dissemination</td>\n",
       "      <td>download,slides(how)?,doc(s|umentation)?($|\\W),nbconvert,slides?,PDF($|\\W),jupyter(\\s)?hub</td>\n",
       "    </tr>\n",
       "    <tr>\n",
       "      <th>7</th>\n",
       "      <td>dissemination</td>\n",
       "      <td>report(ing)?,knitr,dashboards?</td>\n",
       "    </tr>\n",
       "    <tr>\n",
       "      <th>9</th>\n",
       "      <td></td>\n",
       "      <td></td>\n",
       "    </tr>\n",
       "  </tbody>\n",
       "</table>\n",
       "</div>"
      ],
      "text/plain": [
       "                           features_changes_themes  \\\n",
       "1                       editor,cli,version_control   \n",
       "5  integration,ide,visualization,cli,dissemination   \n",
       "6              hosting,documentation,dissemination   \n",
       "7                                    dissemination   \n",
       "9                                                    \n",
       "\n",
       "                                                                    features_changes_keywords  \n",
       "1                                                         diffs?($|\\W),git(hub)?,command line  \n",
       "5    workspace|ide($|\\W)|rstudio,variables,terminal,graphics,matplotlib,interact(ion|ive|ity)  \n",
       "6  download,slides(how)?,doc(s|umentation)?($|\\W),nbconvert,slides?,PDF($|\\W),jupyter(\\s)?hub  \n",
       "7                                                              report(ing)?,knitr,dashboards?  \n",
       "9                                                                                              "
      ]
     },
     "execution_count": 244,
     "metadata": {},
     "output_type": "execute_result"
    }
   ],
   "source": [
    "themes_df.head()"
   ]
  },
  {
   "cell_type": "markdown",
   "metadata": {},
   "source": [
    "The themes DataFrame should have as many rows as there are non-null responses in the original DataFrame."
   ]
  },
  {
   "cell_type": "code",
   "execution_count": 245,
   "metadata": {
    "collapsed": true
   },
   "outputs": [],
   "source": [
    "assert len(themes_df) == len(df[[column+'_1', column+'_2', column+'_3']].dropna(how='all'))"
   ]
  },
  {
   "cell_type": "code",
   "execution_count": 246,
   "metadata": {
    "collapsed": true
   },
   "outputs": [],
   "source": [
    "themes_df.to_csv(column + '_themes.csv', sep=';')"
   ]
  },
  {
   "cell_type": "code",
   "execution_count": null,
   "metadata": {
    "collapsed": true
   },
   "outputs": [],
   "source": []
  }
 ],
 "metadata": {
  "kernelspec": {
   "display_name": "Python 3",
   "language": "python",
   "name": "python3"
  },
  "language_info": {
   "codemirror_mode": {
    "name": "ipython",
    "version": 3
   },
   "file_extension": ".py",
   "mimetype": "text/x-python",
   "name": "python",
   "nbconvert_exporter": "python",
   "pygments_lexer": "ipython3",
   "version": "3.4.4"
  }
 },
 "nbformat": 4,
 "nbformat_minor": 0
}
