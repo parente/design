{
 "cells": [
  {
   "cell_type": "markdown",
   "metadata": {},
   "source": [
    "# Response Themes for \"What new features or changes would you like to see in Jupyter Notebook? (Please list anything that comes to mind that helps you in your workflow, big or small.)\"\n",
    "\n",
    "* Goal: Extract theme keywords from `features_changes` responses.\n",
    "* Data: Output from 2_clean_survey.ipynb notebook (`survey_short_columns.csv`)\n",
    "* Process from [1_ux_survey_review.ipynb](1_ux_survey_review.ipynb):\n",
    "\n",
    "> Moving forward, here's a semi-automatic procedure we can follow for identifying themes across questions:\n",
    "> 1. Take a random sample of question responses\n",
    "> 2. Write down common theme keywords\n",
    "> 3. Search back through the responses using the theme keywords\n",
    "> 4. Expand the set of keywords with other words seen in the search results\n",
    "> 5. Repeat for all themes and questions\n",
    "> Later, we can use a fully automated topic modeling approach to validate our manually generated themes."
   ]
  },
  {
   "cell_type": "code",
   "execution_count": 1,
   "metadata": {
    "collapsed": true
   },
   "outputs": [],
   "source": [
    "import warnings\n",
    "warnings.filterwarnings(\"ignore\")"
   ]
  },
  {
   "cell_type": "code",
   "execution_count": 2,
   "metadata": {
    "collapsed": false
   },
   "outputs": [],
   "source": [
    "%matplotlib inline"
   ]
  },
  {
   "cell_type": "code",
   "execution_count": 3,
   "metadata": {
    "collapsed": true
   },
   "outputs": [],
   "source": [
    "import pandas as pd\n",
    "import numpy as np"
   ]
  },
  {
   "cell_type": "markdown",
   "metadata": {},
   "source": [
    "Make sure the samples come up the same for anyone that re-runs this."
   ]
  },
  {
   "cell_type": "code",
   "execution_count": 4,
   "metadata": {
    "collapsed": false
   },
   "outputs": [],
   "source": [
    "rs = np.random.RandomState(123)"
   ]
  },
  {
   "cell_type": "code",
   "execution_count": 5,
   "metadata": {
    "collapsed": true
   },
   "outputs": [],
   "source": [
    "pd.set_option('max_colwidth', 1000)"
   ]
  },
  {
   "cell_type": "code",
   "execution_count": 6,
   "metadata": {
    "collapsed": true
   },
   "outputs": [],
   "source": [
    "df = pd.read_csv('survey_short_columns.csv')"
   ]
  },
  {
   "cell_type": "code",
   "execution_count": 7,
   "metadata": {
    "collapsed": true
   },
   "outputs": [],
   "source": [
    "def show(series):\n",
    "    '''Make random samples easier to read.'''\n",
    "    for i, value in enumerate(series):\n",
    "        print('{}) {}'.format(i, value), end='\\n\\n')"
   ]
  },
  {
   "cell_type": "code",
   "execution_count": 8,
   "metadata": {
    "collapsed": false
   },
   "outputs": [],
   "source": [
    "responses = pd.concat([df.features_changes_1, df.features_changes_2, df.features_changes_3], ignore_index=True)"
   ]
  },
  {
   "cell_type": "code",
   "execution_count": 9,
   "metadata": {
    "collapsed": true
   },
   "outputs": [],
   "source": [
    "assert len(responses) == len(df) * 3"
   ]
  },
  {
   "cell_type": "code",
   "execution_count": 10,
   "metadata": {
    "collapsed": false
   },
   "outputs": [
    {
     "data": {
      "text/plain": [
       "True     3972\n",
       "False    1146\n",
       "dtype: int64"
      ]
     },
     "execution_count": 10,
     "metadata": {},
     "output_type": "execute_result"
    }
   ],
   "source": [
    "responses.isnull().value_counts()"
   ]
  },
  {
   "cell_type": "code",
   "execution_count": 11,
   "metadata": {
    "collapsed": true
   },
   "outputs": [],
   "source": [
    "responses = responses.dropna()"
   ]
  },
  {
   "cell_type": "markdown",
   "metadata": {},
   "source": [
    "## Initial Samples\n",
    "\n",
    "I ran the sampling code below multiple times and manually built up the initial set of keywords seen commonly across them. I formed groups of conceptually related keywords. Then I tried to assign a simple label to each group."
   ]
  },
  {
   "cell_type": "code",
   "execution_count": 12,
   "metadata": {
    "collapsed": false,
    "scrolled": false
   },
   "outputs": [
    {
     "name": "stdout",
     "output_type": "stream",
     "text": [
      "0) sort files in folders\n",
      "\n",
      "1) Well-documented extensions framework\n",
      "\n",
      "2) Easy (CSS) customization of basic settings (code block themes, fonts, etc.)\n",
      "\n",
      "3) Debug capabilities / \"Workspace explorer\"\n",
      "\n",
      "4) Drag and drop for cells\n",
      "\n",
      "5) Tighter integration of qtconsole\n",
      "\n",
      "6) Googling for IPython notebook issues turns up tons of legacy  solutions; what's the current right way?\n",
      "\n",
      "7) Stylesheets configuration\n",
      "\n",
      "8) External editor\n",
      "\n",
      "9) Allow hiding of code blocks when rendering to html/md\n",
      "\n",
      "10) Native wrapper for saving and opening\n",
      "\n",
      "11) https://github.com/jupyter/notebook/issues/389#issuecomment-154087320\n",
      "\n",
      "12) Brainless cloud developement\n",
      "\n",
      "13) Export non-code elements (Markdown and plots)\n",
      "\n",
      "14) Built-in compatibility with git\n",
      "\n",
      "15) Easier access to text editing\n",
      "\n",
      "16) drag/drop of cells\n",
      "\n",
      "17) Web API documentation\n",
      "\n",
      "18) metadata editing within the notebook\n",
      "\n",
      "19) small: add  So I can run jupyter as a standalone app on android with the kernel running in a chroot environment.\n",
      "\n"
     ]
    }
   ],
   "source": [
    "show(responses.sample(20, random_state=rs))"
   ]
  },
  {
   "cell_type": "code",
   "execution_count": 128,
   "metadata": {
    "collapsed": false
   },
   "outputs": [],
   "source": [
    "themes = {\n",
    "    'ux': ['drag', 'drop', 'stylesheets', 'CSS', 'theme', 'button', 'groups of cells', 'sections', \n",
    "           'individual cells', 'click', 'paste', 'color', 'undo', 'navigating', 'all cells', 'copy/paste', \n",
    "           'touch screen', 'width', 'height', 'todo', 'spell check', 'collapse cells', 'styles', 'scrolling', \n",
    "           'skin', 'collapsible', 'folding of cells', 'keyboard', 'icon', 'fold', 'folding', 'shortcuts', \n",
    "           'navigate', 'navigation', 'menus', 'shortcut', 'ui', 'collapse', 'collapsing', 'screen', 'hide cells',\n",
    "           'hiding cells', 'key mappings', 'tooltips', 'multiple cells', 'mobile', 'progress bar', 'hotkey', \n",
    "           'code hiding', 'pane', 'window', 'moving cells', 'reordering cells', 'toggle', 'GUI', 'sidebar', \n",
    "           'spellchecker', 'spell-checker', 'dialog', ],\n",
    "    'version_control': ['version control', 'git', 'version management', 'version tracking', 'version history',\n",
    "                        'control version', 'not versioned', 'source control', 'version-controlled', \n",
    "                        'version notebooks', 'editing history', 'revisions/code', 'revisions', 'versioning', \n",
    "                        'change tracking', 'change tracker', ],\n",
    "    'dashboards': ['hiding of code blocks', 'hide code cells', 'application deployment', 'hide input in slides',\n",
    "                   'hide code', 'easily shareable interactive HTML/JS pages', 'interactive plotting', \n",
    "                   'report generation', 'dashboard', 'dashboards', 'presentation/slide mode', 'interactive plots',\n",
    "                   'knitr', ],\n",
    "    'documentation': ['documentation', 'not enough docs', 'docs', 'doc', 'tutorial', 'tutorials', 'instructions',\n",
    "                      ],\n",
    "    'ide': ['workspace', 'variable explorer', 'ide', 'debug', 'profiler', 'profiling', 'breakpoints', \n",
    "            'rstudio', 'inspector', 'variables', 'variable viewer', 'pdb',],\n",
    "    'hosting': ['cloud', 'cluster', 'jupyterhub', 'jupyter hub', 'tmpnb', 'desktop', 'S3', 'backup', 'docker', \n",
    "                'install', 'hosting', ],\n",
    "    'content_management': ['folders', 'file system', 'table of contents', 'search', 'file hierarchy', 'tagging',\n",
    "                           'file manager', 'filesystem', 'find and replace', 'find replace', 'toc', 'import notebook',\n",
    "                           'import from notebook', 'importable notebooks', 'file browser', 'directory', 'import',], \n",
    "    'collab': ['nbconvert', 'collaboration', 'export', 'slides', 'slideshow', 'collaborating', 'sharing', 'publish',\n",
    "               'publishing', 'collaborative', ],\n",
    "    'editor': ['linting', 'code completion', 'better editor', 'better editing', 'sublime', 'atom', 'vim', 'emacs',\n",
    "               'multiple cursor', 'text editor', 'text editing', 'syntax', 'differ', 'diffs', 'diff', 'code editor',\n",
    "               'linter', 'linters', 'code editing', 'autocomplete', 'auto complete', 'auto-completion',\n",
    "               'curser', 'vi editing', 'vi editor', 'external editor', 'powerful editor', 'multi-cursor', ],\n",
    "    'ecosystem': ['Apache Spark', 'spark', 'pydb', 'matplotlib', 'django', 'pandoc', 'wordpress',],\n",
    "    'visualization': ['d3', 'widgets', 'visualization', 'plotting', 'graphics', ],\n",
    "    'multi_user': ['multi-user', 'multiuser', 'multi user', 'users', ],\n",
    "    'cranky': ['dial down the hype', ], \n",
    "    'performance': ['performance', 'more speed',  ],\n",
    "    'versions': ['communication of changes', 'package updates', ],\n",
    "    'language': ['python', 'language', 'language support', 'R integration', 'clojure', 'fortran', 'javascript',\n",
    "                 'r kernel', 'of R', 'with R', ],\n",
    "    'cli': ['cli', 'terminal', 'command line', 'console', ],\n",
    "}"
   ]
  },
  {
   "cell_type": "markdown",
   "metadata": {},
   "source": [
    "## Coverage Improvement\n",
    "\n",
    "I next ran the code below to associate the theme labels with the responses. I then iterated on running the code below to find reponses without labels. I expanded the list of keywords and themes above in order to improve coverage."
   ]
  },
  {
   "cell_type": "code",
   "execution_count": 129,
   "metadata": {
    "collapsed": true
   },
   "outputs": [],
   "source": [
    "import re"
   ]
  },
  {
   "cell_type": "code",
   "execution_count": 130,
   "metadata": {
    "collapsed": true
   },
   "outputs": [],
   "source": [
    "def keywords_or(text, keywords):\n",
    "    for keyword in keywords:\n",
    "        if re.search('(^|\\W+){}'.format(keyword), text, re.IGNORECASE):\n",
    "            return True\n",
    "    return False"
   ]
  },
  {
   "cell_type": "code",
   "execution_count": 131,
   "metadata": {
    "collapsed": false
   },
   "outputs": [],
   "source": [
    "def tag_themes(data, themes):\n",
    "    tagged = data.to_frame()\n",
    "    tagged['themes'] = ''\n",
    "    for theme, keywords in themes.items():\n",
    "        results = data.map(lambda text: keywords_or(text, keywords))\n",
    "        tagged.loc[results, 'themes'] += theme + ','\n",
    "        print(theme, results.sum())\n",
    "    return tagged"
   ]
  },
  {
   "cell_type": "code",
   "execution_count": 132,
   "metadata": {
    "collapsed": false
   },
   "outputs": [
    {
     "name": "stdout",
     "output_type": "stream",
     "text": [
      "multi_user 21\n",
      "ux 265\n",
      "documentation 47\n",
      "ide 79\n",
      "collab 65\n",
      "ecosystem 25\n",
      "content_management 61\n",
      "version_control 99\n",
      "cranky 1\n",
      "editor 111\n",
      "language 51\n",
      "visualization 48\n",
      "hosting 43\n",
      "dashboards 35\n",
      "versions 2\n",
      "cli 38\n",
      "performance 3\n"
     ]
    },
    {
     "data": {
      "text/plain": [
       "1    692\n",
       "0    315\n",
       "2    121\n",
       "3     14\n",
       "5      2\n",
       "4      2\n",
       "Name: themes, dtype: int64"
      ]
     },
     "execution_count": 132,
     "metadata": {},
     "output_type": "execute_result"
    }
   ],
   "source": [
    "tagged = tag_themes(responses, themes)\n",
    "tagged.themes.str.count(',').value_counts()"
   ]
  },
  {
   "cell_type": "code",
   "execution_count": 135,
   "metadata": {
    "collapsed": false
   },
   "outputs": [
    {
     "data": {
      "text/html": [
       "<div>\n",
       "<table border=\"1\" class=\"dataframe\">\n",
       "  <thead>\n",
       "    <tr style=\"text-align: right;\">\n",
       "      <th></th>\n",
       "      <th>0</th>\n",
       "      <th>themes</th>\n",
       "    </tr>\n",
       "  </thead>\n",
       "  <tbody>\n",
       "    <tr>\n",
       "      <th>835</th>\n",
       "      <td>Integrate React + training wheels for scientists :)</td>\n",
       "      <td></td>\n",
       "    </tr>\n",
       "    <tr>\n",
       "      <th>2168</th>\n",
       "      <td>Dictionary</td>\n",
       "      <td></td>\n",
       "    </tr>\n",
       "    <tr>\n",
       "      <th>460</th>\n",
       "      <td>history/tab completion in ipdb</td>\n",
       "      <td></td>\n",
       "    </tr>\n",
       "    <tr>\n",
       "      <th>305</th>\n",
       "      <td>somehow integrate with site-packages</td>\n",
       "      <td></td>\n",
       "    </tr>\n",
       "    <tr>\n",
       "      <th>869</th>\n",
       "      <td>better, interactive visulisations would be great</td>\n",
       "      <td></td>\n",
       "    </tr>\n",
       "    <tr>\n",
       "      <th>2471</th>\n",
       "      <td>Customisable toolbar</td>\n",
       "      <td></td>\n",
       "    </tr>\n",
       "    <tr>\n",
       "      <th>2100</th>\n",
       "      <td>live show improved and distributed (is it?)</td>\n",
       "      <td></td>\n",
       "    </tr>\n",
       "    <tr>\n",
       "      <th>3123</th>\n",
       "      <td>Built-in indicator of memory usage while running a cell</td>\n",
       "      <td></td>\n",
       "    </tr>\n",
       "    <tr>\n",
       "      <th>663</th>\n",
       "      <td>Source-code-control integration</td>\n",
       "      <td></td>\n",
       "    </tr>\n",
       "    <tr>\n",
       "      <th>78</th>\n",
       "      <td>Easier autoexec options</td>\n",
       "      <td></td>\n",
       "    </tr>\n",
       "    <tr>\n",
       "      <th>2387</th>\n",
       "      <td>Recover notebook state after browser crash</td>\n",
       "      <td></td>\n",
       "    </tr>\n",
       "    <tr>\n",
       "      <th>340</th>\n",
       "      <td>More tools for editing the code</td>\n",
       "      <td></td>\n",
       "    </tr>\n",
       "    <tr>\n",
       "      <th>1274</th>\n",
       "      <td>Live tabular data</td>\n",
       "      <td></td>\n",
       "    </tr>\n",
       "    <tr>\n",
       "      <th>40</th>\n",
       "      <td>Solve the things listed in #9</td>\n",
       "      <td></td>\n",
       "    </tr>\n",
       "    <tr>\n",
       "      <th>2015</th>\n",
       "      <td>Animation</td>\n",
       "      <td></td>\n",
       "    </tr>\n",
       "    <tr>\n",
       "      <th>4215</th>\n",
       "      <td>Ability to execute only selected lines in a cell</td>\n",
       "      <td></td>\n",
       "    </tr>\n",
       "    <tr>\n",
       "      <th>646</th>\n",
       "      <td>hide header and toolbar and remember my setting!</td>\n",
       "      <td></td>\n",
       "    </tr>\n",
       "    <tr>\n",
       "      <th>374</th>\n",
       "      <td>UX elements (sliders, checkboxes...)</td>\n",
       "      <td></td>\n",
       "    </tr>\n",
       "    <tr>\n",
       "      <th>258</th>\n",
       "      <td>add annotations to the cells</td>\n",
       "      <td></td>\n",
       "    </tr>\n",
       "    <tr>\n",
       "      <th>2680</th>\n",
       "      <td>Data provenance mode -- enable a mode where any time an object is created, it is traced over its lifetime and any data which is derived from it (like, say 'z = y + 1' is derived from 'y') will be logged. This way, any data cleaning, outlier manipulation, etc., needed for reproducibility will be logged and tracked. No one can just load up some data from a .csv file, manipulate it in pandas, and dump it back into the .csv file, without there being a log of those data operations.</td>\n",
       "      <td></td>\n",
       "    </tr>\n",
       "    <tr>\n",
       "      <th>1654</th>\n",
       "      <td>Collapsable cells (like in Mathematica), so some cells (ones that might have lots of code are invisible)</td>\n",
       "      <td></td>\n",
       "    </tr>\n",
       "    <tr>\n",
       "      <th>2945</th>\n",
       "      <td>Hidden code blocks</td>\n",
       "      <td></td>\n",
       "    </tr>\n",
       "    <tr>\n",
       "      <th>1221</th>\n",
       "      <td>Reliable way to reconnect to running job on remote server, and to see output generated in the mean time.</td>\n",
       "      <td></td>\n",
       "    </tr>\n",
       "    <tr>\n",
       "      <th>3406</th>\n",
       "      <td>limit output # of lines (crashed browser)</td>\n",
       "      <td></td>\n",
       "    </tr>\n",
       "    <tr>\n",
       "      <th>4667</th>\n",
       "      <td>Better Autoindent</td>\n",
       "      <td></td>\n",
       "    </tr>\n",
       "    <tr>\n",
       "      <th>1785</th>\n",
       "      <td>Date time stamps and time to execute for every cell</td>\n",
       "      <td></td>\n",
       "    </tr>\n",
       "    <tr>\n",
       "      <th>1356</th>\n",
       "      <td>Ready to share and customize style</td>\n",
       "      <td></td>\n",
       "    </tr>\n",
       "    <tr>\n",
       "      <th>753</th>\n",
       "      <td>Profiles</td>\n",
       "      <td></td>\n",
       "    </tr>\n",
       "    <tr>\n",
       "      <th>3722</th>\n",
       "      <td>Neovim integration</td>\n",
       "      <td></td>\n",
       "    </tr>\n",
       "    <tr>\n",
       "      <th>1364</th>\n",
       "      <td>Form based function parameters</td>\n",
       "      <td></td>\n",
       "    </tr>\n",
       "  </tbody>\n",
       "</table>\n",
       "</div>"
      ],
      "text/plain": [
       "                                                                                                                                                                                                                                                                                                                                                                                                                                                                                                      0  \\\n",
       "835                                                                                                                                                                                                                                                                                                                                                                                                                                                 Integrate React + training wheels for scientists :)   \n",
       "2168                                                                                                                                                                                                                                                                                                                                                                                                                                                                                         Dictionary   \n",
       "460                                                                                                                                                                                                                                                                                                                                                                                                                                                                      history/tab completion in ipdb   \n",
       "305                                                                                                                                                                                                                                                                                                                                                                                                                                                                somehow integrate with site-packages   \n",
       "869                                                                                                                                                                                                                                                                                                                                                                                                                                                    better, interactive visulisations would be great   \n",
       "2471                                                                                                                                                                                                                                                                                                                                                                                                                                                                               Customisable toolbar   \n",
       "2100                                                                                                                                                                                                                                                                                                                                                                                                                                                        live show improved and distributed (is it?)   \n",
       "3123                                                                                                                                                                                                                                                                                                                                                                                                                                            Built-in indicator of memory usage while running a cell   \n",
       "663                                                                                                                                                                                                                                                                                                                                                                                                                                                                     Source-code-control integration   \n",
       "78                                                                                                                                                                                                                                                                                                                                                                                                                                                                             Easier autoexec options    \n",
       "2387                                                                                                                                                                                                                                                                                                                                                                                                                                                         Recover notebook state after browser crash   \n",
       "340                                                                                                                                                                                                                                                                                                                                                                                                                                                                     More tools for editing the code   \n",
       "1274                                                                                                                                                                                                                                                                                                                                                                                                                                                                                  Live tabular data   \n",
       "40                                                                                                                                                                                                                                                                                                                                                                                                                                                                        Solve the things listed in #9   \n",
       "2015                                                                                                                                                                                                                                                                                                                                                                                                                                                                                          Animation   \n",
       "4215                                                                                                                                                                                                                                                                                                                                                                                                                                                   Ability to execute only selected lines in a cell   \n",
       "646                                                                                                                                                                                                                                                                                                                                                                                                                                                    hide header and toolbar and remember my setting!   \n",
       "374                                                                                                                                                                                                                                                                                                                                                                                                                                                                UX elements (sliders, checkboxes...)   \n",
       "258                                                                                                                                                                                                                                                                                                                                                                                                                                                                        add annotations to the cells   \n",
       "2680  Data provenance mode -- enable a mode where any time an object is created, it is traced over its lifetime and any data which is derived from it (like, say 'z = y + 1' is derived from 'y') will be logged. This way, any data cleaning, outlier manipulation, etc., needed for reproducibility will be logged and tracked. No one can just load up some data from a .csv file, manipulate it in pandas, and dump it back into the .csv file, without there being a log of those data operations.   \n",
       "1654                                                                                                                                                                                                                                                                                                                                                                                           Collapsable cells (like in Mathematica), so some cells (ones that might have lots of code are invisible)   \n",
       "2945                                                                                                                                                                                                                                                                                                                                                                                                                                                                                 Hidden code blocks   \n",
       "1221                                                                                                                                                                                                                                                                                                                                                                                           Reliable way to reconnect to running job on remote server, and to see output generated in the mean time.   \n",
       "3406                                                                                                                                                                                                                                                                                                                                                                                                                                                          limit output # of lines (crashed browser)   \n",
       "4667                                                                                                                                                                                                                                                                                                                                                                                                                                                                                  Better Autoindent   \n",
       "1785                                                                                                                                                                                                                                                                                                                                                                                                                                                Date time stamps and time to execute for every cell   \n",
       "1356                                                                                                                                                                                                                                                                                                                                                                                                                                                                 Ready to share and customize style   \n",
       "753                                                                                                                                                                                                                                                                                                                                                                                                                                                                                            Profiles   \n",
       "3722                                                                                                                                                                                                                                                                                                                                                                                                                                                                                 Neovim integration   \n",
       "1364                                                                                                                                                                                                                                                                                                                                                                                                                                                                     Form based function parameters   \n",
       "\n",
       "     themes  \n",
       "835          \n",
       "2168         \n",
       "460          \n",
       "305          \n",
       "869          \n",
       "2471         \n",
       "2100         \n",
       "3123         \n",
       "663          \n",
       "78           \n",
       "2387         \n",
       "340          \n",
       "1274         \n",
       "40           \n",
       "2015         \n",
       "4215         \n",
       "646          \n",
       "374          \n",
       "258          \n",
       "2680         \n",
       "1654         \n",
       "2945         \n",
       "1221         \n",
       "3406         \n",
       "4667         \n",
       "1785         \n",
       "1356         \n",
       "753          \n",
       "3722         \n",
       "1364         "
      ]
     },
     "execution_count": 135,
     "metadata": {},
     "output_type": "execute_result"
    }
   ],
   "source": [
    "tagged[tagged.themes.str.len() == 0].sample(30, random_state=rs)"
   ]
  },
  {
   "cell_type": "markdown",
   "metadata": {},
   "source": [
    "## Precision Check\n",
    "\n",
    "I then studied a sample of responses for each theme to see if there major inaccuracies in their application (e.g., string matches that are too fuzzy)."
   ]
  },
  {
   "cell_type": "code",
   "execution_count": 136,
   "metadata": {
    "collapsed": false
   },
   "outputs": [
    {
     "name": "stdout",
     "output_type": "stream",
     "text": [
      "multi_user 21\n",
      "ux 265\n",
      "documentation 47\n",
      "ide 79\n",
      "collab 65\n",
      "ecosystem 25\n",
      "content_management 61\n",
      "version_control 99\n",
      "cranky 1\n",
      "editor 111\n",
      "language 51\n",
      "visualization 48\n",
      "hosting 43\n",
      "dashboards 35\n",
      "versions 2\n",
      "cli 38\n",
      "performance 3\n"
     ]
    },
    {
     "data": {
      "text/plain": [
       "1    692\n",
       "0    315\n",
       "2    121\n",
       "3     14\n",
       "5      2\n",
       "4      2\n",
       "Name: themes, dtype: int64"
      ]
     },
     "execution_count": 136,
     "metadata": {},
     "output_type": "execute_result"
    }
   ],
   "source": [
    "tagged = tag_themes(responses, themes)\n",
    "tagged.themes.str.count(',').value_counts()"
   ]
  },
  {
   "cell_type": "code",
   "execution_count": 137,
   "metadata": {
    "collapsed": true
   },
   "outputs": [],
   "source": [
    "from IPython.display import display, clear_output"
   ]
  },
  {
   "cell_type": "code",
   "execution_count": 138,
   "metadata": {
    "collapsed": false,
    "scrolled": false
   },
   "outputs": [
    {
     "data": {
      "text/html": [
       "<div>\n",
       "<table border=\"1\" class=\"dataframe\">\n",
       "  <thead>\n",
       "    <tr style=\"text-align: right;\">\n",
       "      <th></th>\n",
       "      <th>0</th>\n",
       "      <th>themes</th>\n",
       "    </tr>\n",
       "  </thead>\n",
       "  <tbody>\n",
       "    <tr>\n",
       "      <th>2462</th>\n",
       "      <td>Better scrolling for pandas dataframes</td>\n",
       "      <td>ux,</td>\n",
       "    </tr>\n",
       "    <tr>\n",
       "      <th>808</th>\n",
       "      <td>clean all cells then kill and restart kernel</td>\n",
       "      <td>ux,</td>\n",
       "    </tr>\n",
       "    <tr>\n",
       "      <th>1291</th>\n",
       "      <td>Hide/Minimize individual cells</td>\n",
       "      <td>ux,</td>\n",
       "    </tr>\n",
       "    <tr>\n",
       "      <th>2418</th>\n",
       "      <td>Easier installation methods for Windows collaborators</td>\n",
       "      <td>ux,hosting,</td>\n",
       "    </tr>\n",
       "    <tr>\n",
       "      <th>2759</th>\n",
       "      <td>Allow pane somewhere to display function documentation</td>\n",
       "      <td>ux,documentation,</td>\n",
       "    </tr>\n",
       "    <tr>\n",
       "      <th>4790</th>\n",
       "      <td>undo</td>\n",
       "      <td>ux,</td>\n",
       "    </tr>\n",
       "    <tr>\n",
       "      <th>3872</th>\n",
       "      <td>Easier theme change</td>\n",
       "      <td>ux,</td>\n",
       "    </tr>\n",
       "    <tr>\n",
       "      <th>2072</th>\n",
       "      <td>Jupyter hub for windows</td>\n",
       "      <td>ux,hosting,</td>\n",
       "    </tr>\n",
       "    <tr>\n",
       "      <th>3257</th>\n",
       "      <td>I'd like to be able to have important UI stuff for my notebook at the top and the supporting stuff later.</td>\n",
       "      <td>ux,content_management,</td>\n",
       "    </tr>\n",
       "    <tr>\n",
       "      <th>1737</th>\n",
       "      <td>simple settings options to configure notebook - font, panels, browser that I want</td>\n",
       "      <td>ux,</td>\n",
       "    </tr>\n",
       "  </tbody>\n",
       "</table>\n",
       "</div>"
      ],
      "text/plain": [
       "                                                                                                              0  \\\n",
       "2462                                                                     Better scrolling for pandas dataframes   \n",
       "808                                                                clean all cells then kill and restart kernel   \n",
       "1291                                                                             Hide/Minimize individual cells   \n",
       "2418                                                      Easier installation methods for Windows collaborators   \n",
       "2759                                                     Allow pane somewhere to display function documentation   \n",
       "4790                                                                                                       undo   \n",
       "3872                                                                                        Easier theme change   \n",
       "2072                                                                                    Jupyter hub for windows   \n",
       "3257  I'd like to be able to have important UI stuff for my notebook at the top and the supporting stuff later.   \n",
       "1737                          simple settings options to configure notebook - font, panels, browser that I want   \n",
       "\n",
       "                      themes  \n",
       "2462                     ux,  \n",
       "808                      ux,  \n",
       "1291                     ux,  \n",
       "2418             ux,hosting,  \n",
       "2759       ux,documentation,  \n",
       "4790                     ux,  \n",
       "3872                     ux,  \n",
       "2072             ux,hosting,  \n",
       "3257  ux,content_management,  \n",
       "1737                     ux,  "
      ]
     },
     "metadata": {},
     "output_type": "display_data"
    },
    {
     "name": "stdout",
     "output_type": "stream",
     "text": [
      "Showing `ux`. Type Enter to continue, \"q\" to stop.q\n"
     ]
    }
   ],
   "source": [
    "for key in themes:\n",
    "    clear_output()\n",
    "    display(tagged[tagged.themes.str.contains(key)].sample(10))\n",
    "    if input('Showing `{}`. Type Enter to continue, \"q\" to stop.'.format(key)) == 'q':\n",
    "        break"
   ]
  },
  {
   "cell_type": "markdown",
   "metadata": {},
   "source": [
    "I also looked at responses with multiple themes to fine tune them, and catch duplication of words in multiple themes."
   ]
  },
  {
   "cell_type": "code",
   "execution_count": 139,
   "metadata": {
    "collapsed": false
   },
   "outputs": [
    {
     "data": {
      "text/html": [
       "<div>\n",
       "<table border=\"1\" class=\"dataframe\">\n",
       "  <thead>\n",
       "    <tr style=\"text-align: right;\">\n",
       "      <th></th>\n",
       "      <th>0</th>\n",
       "      <th>themes</th>\n",
       "    </tr>\n",
       "  </thead>\n",
       "  <tbody>\n",
       "    <tr>\n",
       "      <th>2837</th>\n",
       "      <td>Easy way to publish notebooks with widgets (e.g. bqplot)</td>\n",
       "      <td>collab,visualization,</td>\n",
       "    </tr>\n",
       "    <tr>\n",
       "      <th>1029</th>\n",
       "      <td>Python and Haskell IDE features</td>\n",
       "      <td>ide,language,</td>\n",
       "    </tr>\n",
       "    <tr>\n",
       "      <th>4242</th>\n",
       "      <td>easy to export multiple cells to file</td>\n",
       "      <td>ux,collab,</td>\n",
       "    </tr>\n",
       "    <tr>\n",
       "      <th>2579</th>\n",
       "      <td>Paste a graphic from clipboard into notebook</td>\n",
       "      <td>ux,cli,</td>\n",
       "    </tr>\n",
       "    <tr>\n",
       "      <th>5069</th>\n",
       "      <td>Sublime-like (or emacs-like) shortcuts for text editing</td>\n",
       "      <td>ux,editor,</td>\n",
       "    </tr>\n",
       "    <tr>\n",
       "      <th>160</th>\n",
       "      <td>Tighter/easier integration with cloud computing providers would be nice: say I have a notebook running on my laptop and I would like to scale it up to some fast/large resources -- right now that's quite a bit of work. A single button press to do that would be nice :-)</td>\n",
       "      <td>ux,hosting,</td>\n",
       "    </tr>\n",
       "    <tr>\n",
       "      <th>689</th>\n",
       "      <td>More/better javascript widgets</td>\n",
       "      <td>language,visualization,</td>\n",
       "    </tr>\n",
       "    <tr>\n",
       "      <th>542</th>\n",
       "      <td>Styles suitable for professional publishing, unprogramattically</td>\n",
       "      <td>ux,collab,</td>\n",
       "    </tr>\n",
       "    <tr>\n",
       "      <th>3833</th>\n",
       "      <td>friendliness to end-end-users of a gui application</td>\n",
       "      <td>multi_user,ux,</td>\n",
       "    </tr>\n",
       "    <tr>\n",
       "      <th>3471</th>\n",
       "      <td>official docker image</td>\n",
       "      <td>documentation,hosting,</td>\n",
       "    </tr>\n",
       "    <tr>\n",
       "      <th>2042</th>\n",
       "      <td>Drag-n-drop graphics</td>\n",
       "      <td>ux,visualization,</td>\n",
       "    </tr>\n",
       "    <tr>\n",
       "      <th>152</th>\n",
       "      <td>d3js pythonic integration</td>\n",
       "      <td>language,visualization,</td>\n",
       "    </tr>\n",
       "    <tr>\n",
       "      <th>505</th>\n",
       "      <td>Better Jupyter Hub admin docs</td>\n",
       "      <td>documentation,hosting,</td>\n",
       "    </tr>\n",
       "    <tr>\n",
       "      <th>4247</th>\n",
       "      <td>tetris so that I can show to emacs users</td>\n",
       "      <td>multi_user,editor,</td>\n",
       "    </tr>\n",
       "    <tr>\n",
       "      <th>2061</th>\n",
       "      <td>Collaborative edition with users label / highlights</td>\n",
       "      <td>multi_user,collab,</td>\n",
       "    </tr>\n",
       "    <tr>\n",
       "      <th>5042</th>\n",
       "      <td>Right-click menu</td>\n",
       "      <td>ux,cli,</td>\n",
       "    </tr>\n",
       "    <tr>\n",
       "      <th>1317</th>\n",
       "      <td>Markdown cells refence variables generated in the python cells</td>\n",
       "      <td>ide,language,</td>\n",
       "    </tr>\n",
       "    <tr>\n",
       "      <th>3170</th>\n",
       "      <td>Better support for structuring of documents (with the goal of allowing larger / more complex notebooks without sacrificing performance parameters such as load time etc.)</td>\n",
       "      <td>documentation,performance,</td>\n",
       "    </tr>\n",
       "    <tr>\n",
       "      <th>2189</th>\n",
       "      <td>implementation as a click-to-run single app</td>\n",
       "      <td>ux,cli,</td>\n",
       "    </tr>\n",
       "    <tr>\n",
       "      <th>1645</th>\n",
       "      <td>separate pane for interactive console</td>\n",
       "      <td>ux,cli,</td>\n",
       "    </tr>\n",
       "  </tbody>\n",
       "</table>\n",
       "</div>"
      ],
      "text/plain": [
       "                                                                                                                                                                                                                                                                                 0  \\\n",
       "2837                                                                                                                                                                                                                      Easy way to publish notebooks with widgets (e.g. bqplot)   \n",
       "1029                                                                                                                                                                                                                                              Python and Haskell IDE features    \n",
       "4242                                                                                                                                                                                                                                         easy to export multiple cells to file   \n",
       "2579                                                                                                                                                                                                                                  Paste a graphic from clipboard into notebook   \n",
       "5069                                                                                                                                                                                                                       Sublime-like (or emacs-like) shortcuts for text editing   \n",
       "160   Tighter/easier integration with cloud computing providers would be nice: say I have a notebook running on my laptop and I would like to scale it up to some fast/large resources -- right now that's quite a bit of work. A single button press to do that would be nice :-)   \n",
       "689                                                                                                                                                                                                                                                 More/better javascript widgets   \n",
       "542                                                                                                                                                                                                                Styles suitable for professional publishing, unprogramattically   \n",
       "3833                                                                                                                                                                                                                            friendliness to end-end-users of a gui application   \n",
       "3471                                                                                                                                                                                                                                                         official docker image   \n",
       "2042                                                                                                                                                                                                                                                         Drag-n-drop graphics    \n",
       "152                                                                                                                                                                                                                                                      d3js pythonic integration   \n",
       "505                                                                                                                                                                                                                                                  Better Jupyter Hub admin docs   \n",
       "4247                                                                                                                                                                                                                                      tetris so that I can show to emacs users   \n",
       "2061                                                                                                                                                                                                                           Collaborative edition with users label / highlights   \n",
       "5042                                                                                                                                                                                                                                                              Right-click menu   \n",
       "1317                                                                                                                                                                                                                Markdown cells refence variables generated in the python cells   \n",
       "3170                                                                                                     Better support for structuring of documents (with the goal of allowing larger / more complex notebooks without sacrificing performance parameters such as load time etc.)   \n",
       "2189                                                                                                                                                                                                                                   implementation as a click-to-run single app   \n",
       "1645                                                                                                                                                                                                                                         separate pane for interactive console   \n",
       "\n",
       "                          themes  \n",
       "2837       collab,visualization,  \n",
       "1029               ide,language,  \n",
       "4242                  ux,collab,  \n",
       "2579                     ux,cli,  \n",
       "5069                  ux,editor,  \n",
       "160                  ux,hosting,  \n",
       "689      language,visualization,  \n",
       "542                   ux,collab,  \n",
       "3833              multi_user,ux,  \n",
       "3471      documentation,hosting,  \n",
       "2042           ux,visualization,  \n",
       "152      language,visualization,  \n",
       "505       documentation,hosting,  \n",
       "4247          multi_user,editor,  \n",
       "2061          multi_user,collab,  \n",
       "5042                     ux,cli,  \n",
       "1317               ide,language,  \n",
       "3170  documentation,performance,  \n",
       "2189                     ux,cli,  \n",
       "1645                     ux,cli,  "
      ]
     },
     "execution_count": 139,
     "metadata": {},
     "output_type": "execute_result"
    }
   ],
   "source": [
    "tagged[tagged.themes.str.count(',') == 2].sample(20, random_state=rs)"
   ]
  },
  {
   "cell_type": "code",
   "execution_count": 140,
   "metadata": {
    "collapsed": false
   },
   "outputs": [
    {
     "data": {
      "text/html": [
       "<div>\n",
       "<table border=\"1\" class=\"dataframe\">\n",
       "  <thead>\n",
       "    <tr style=\"text-align: right;\">\n",
       "      <th></th>\n",
       "      <th>0</th>\n",
       "      <th>themes</th>\n",
       "    </tr>\n",
       "  </thead>\n",
       "  <tbody>\n",
       "    <tr>\n",
       "      <th>275</th>\n",
       "      <td>Add Vim, Emacs, Sublime etc keybindings without any special add ons or environment set up</td>\n",
       "      <td>editor,</td>\n",
       "    </tr>\n",
       "    <tr>\n",
       "      <th>51</th>\n",
       "      <td>Better interactivity with matplotlib plots</td>\n",
       "      <td>ecosystem,</td>\n",
       "    </tr>\n",
       "    <tr>\n",
       "      <th>2162</th>\n",
       "      <td>data visualization</td>\n",
       "      <td>visualization,</td>\n",
       "    </tr>\n",
       "    <tr>\n",
       "      <th>3090</th>\n",
       "      <td>Variable space viewer, i.e. Matlab, RStudio</td>\n",
       "      <td>ide,</td>\n",
       "    </tr>\n",
       "    <tr>\n",
       "      <th>2333</th>\n",
       "      <td>visualisation of variable contents</td>\n",
       "      <td></td>\n",
       "    </tr>\n",
       "    <tr>\n",
       "      <th>1766</th>\n",
       "      <td>can navigate to parent dir of folder from which started jupyter</td>\n",
       "      <td>ux,</td>\n",
       "    </tr>\n",
       "    <tr>\n",
       "      <th>2091</th>\n",
       "      <td>Built-in, visual diff tool for ipynb files</td>\n",
       "      <td>editor,</td>\n",
       "    </tr>\n",
       "    <tr>\n",
       "      <th>1460</th>\n",
       "      <td>Kernels' interactivity</td>\n",
       "      <td></td>\n",
       "    </tr>\n",
       "    <tr>\n",
       "      <th>160</th>\n",
       "      <td>Tighter/easier integration with cloud computing providers would be nice: say I have a notebook running on my laptop and I would like to scale it up to some fast/large resources -- right now that's quite a bit of work. A single button press to do that would be nice :-)</td>\n",
       "      <td>ux,hosting,</td>\n",
       "    </tr>\n",
       "    <tr>\n",
       "      <th>2830</th>\n",
       "      <td>saving state - I just want to continue with objects all loaded as if i never left</td>\n",
       "      <td></td>\n",
       "    </tr>\n",
       "    <tr>\n",
       "      <th>286</th>\n",
       "      <td>Filter file types in the directory viewer</td>\n",
       "      <td>content_management,</td>\n",
       "    </tr>\n",
       "    <tr>\n",
       "      <th>509</th>\n",
       "      <td>ability to open inline images/visualizations in new pop-up browser window, both through cell property and by adding a pop-up button to each image</td>\n",
       "      <td>ux,visualization,</td>\n",
       "    </tr>\n",
       "    <tr>\n",
       "      <th>2047</th>\n",
       "      <td>environment variables tree</td>\n",
       "      <td>ide,</td>\n",
       "    </tr>\n",
       "    <tr>\n",
       "      <th>1787</th>\n",
       "      <td>An intuitive way to add additional views/palettes/windows like a variable inspector.  I just noticed that there is an interactive widget for variable inspecting but I would like to just click a button to add it rather than dig through some documentation about how to install it.</td>\n",
       "      <td>ux,documentation,ide,hosting,cli,</td>\n",
       "    </tr>\n",
       "    <tr>\n",
       "      <th>1428</th>\n",
       "      <td>cell group selection and moving (dragging/dropping)</td>\n",
       "      <td>ux,</td>\n",
       "    </tr>\n",
       "    <tr>\n",
       "      <th>515</th>\n",
       "      <td>small: add  So I can run jupyter as a standalone app on android with the kernel running in a chroot environment.</td>\n",
       "      <td></td>\n",
       "    </tr>\n",
       "    <tr>\n",
       "      <th>1218</th>\n",
       "      <td>Inspired by RStudio, for teaching purposes, make the current values of variables visible and examinable.</td>\n",
       "      <td>ide,</td>\n",
       "    </tr>\n",
       "    <tr>\n",
       "      <th>1507</th>\n",
       "      <td>vim editing mode within cells</td>\n",
       "      <td>editor,</td>\n",
       "    </tr>\n",
       "    <tr>\n",
       "      <th>919</th>\n",
       "      <td>see from previous answers</td>\n",
       "      <td></td>\n",
       "    </tr>\n",
       "    <tr>\n",
       "      <th>869</th>\n",
       "      <td>better, interactive visulisations would be great</td>\n",
       "      <td></td>\n",
       "    </tr>\n",
       "  </tbody>\n",
       "</table>\n",
       "</div>"
      ],
      "text/plain": [
       "                                                                                                                                                                                                                                                                                           0  \\\n",
       "275                                                                                                                                                                                               Add Vim, Emacs, Sublime etc keybindings without any special add ons or environment set up    \n",
       "51                                                                                                                                                                                                                                                Better interactivity with matplotlib plots   \n",
       "2162                                                                                                                                                                                                                                                                     data visualization    \n",
       "3090                                                                                                                                                                                                                                             Variable space viewer, i.e. Matlab, RStudio   \n",
       "2333                                                                                                                                                                                                                                                      visualisation of variable contents   \n",
       "1766                                                                                                                                                                                                                        can navigate to parent dir of folder from which started jupyter    \n",
       "2091                                                                                                                                                                                                                                              Built-in, visual diff tool for ipynb files   \n",
       "1460                                                                                                                                                                                                                                                                  Kernels' interactivity   \n",
       "160             Tighter/easier integration with cloud computing providers would be nice: say I have a notebook running on my laptop and I would like to scale it up to some fast/large resources -- right now that's quite a bit of work. A single button press to do that would be nice :-)   \n",
       "2830                                                                                                                                                                                                       saving state - I just want to continue with objects all loaded as if i never left   \n",
       "286                                                                                                                                                                                                                                                Filter file types in the directory viewer   \n",
       "509                                                                                                                                        ability to open inline images/visualizations in new pop-up browser window, both through cell property and by adding a pop-up button to each image   \n",
       "2047                                                                                                                                                                                                                                                              environment variables tree   \n",
       "1787  An intuitive way to add additional views/palettes/windows like a variable inspector.  I just noticed that there is an interactive widget for variable inspecting but I would like to just click a button to add it rather than dig through some documentation about how to install it.   \n",
       "1428                                                                                                                                                                                                                                     cell group selection and moving (dragging/dropping)   \n",
       "515                                                                                                                                                                         small: add  So I can run jupyter as a standalone app on android with the kernel running in a chroot environment.   \n",
       "1218                                                                                                                                                                                Inspired by RStudio, for teaching purposes, make the current values of variables visible and examinable.   \n",
       "1507                                                                                                                                                                                                                                                           vim editing mode within cells   \n",
       "919                                                                                                                                                                                                                                                                see from previous answers   \n",
       "869                                                                                                                                                                                                                                         better, interactive visulisations would be great   \n",
       "\n",
       "                                 themes  \n",
       "275                             editor,  \n",
       "51                           ecosystem,  \n",
       "2162                     visualization,  \n",
       "3090                               ide,  \n",
       "2333                                     \n",
       "1766                                ux,  \n",
       "2091                            editor,  \n",
       "1460                                     \n",
       "160                         ux,hosting,  \n",
       "2830                                     \n",
       "286                 content_management,  \n",
       "509                   ux,visualization,  \n",
       "2047                               ide,  \n",
       "1787  ux,documentation,ide,hosting,cli,  \n",
       "1428                                ux,  \n",
       "515                                      \n",
       "1218                               ide,  \n",
       "1507                            editor,  \n",
       "919                                      \n",
       "869                                      "
      ]
     },
     "execution_count": 140,
     "metadata": {},
     "output_type": "execute_result"
    }
   ],
   "source": [
    "tagged[tagged[0].str.contains('vi')].sample(20, random_state=rs)"
   ]
  },
  {
   "cell_type": "markdown",
   "metadata": {},
   "source": [
    "## Keyword Frequencies"
   ]
  },
  {
   "cell_type": "code",
   "execution_count": 141,
   "metadata": {
    "collapsed": true
   },
   "outputs": [],
   "source": [
    "import matplotlib\n",
    "import seaborn"
   ]
  },
  {
   "cell_type": "code",
   "execution_count": 142,
   "metadata": {
    "collapsed": true
   },
   "outputs": [],
   "source": [
    "counts = {}"
   ]
  },
  {
   "cell_type": "code",
   "execution_count": 143,
   "metadata": {
    "collapsed": false
   },
   "outputs": [],
   "source": [
    "for theme, keywords in themes.items():\n",
    "    for keyword in keywords:\n",
    "        hits = responses.map(lambda text: keywords_or(text, [keyword]))\n",
    "        counts[keyword] = hits.sum()"
   ]
  },
  {
   "cell_type": "code",
   "execution_count": 144,
   "metadata": {
    "collapsed": true
   },
   "outputs": [],
   "source": [
    "hist = pd.Series(counts).sort_values()"
   ]
  },
  {
   "cell_type": "code",
   "execution_count": 145,
   "metadata": {
    "collapsed": false
   },
   "outputs": [
    {
     "data": {
      "image/png": "[encoded data removed]",
      "text/plain": [
       "<matplotlib.figure.Figure at 0x7f3a922bcb70>"
      ]
     },
     "metadata": {},
     "output_type": "display_data"
    }
   ],
   "source": [
    "ax = hist[-30:].plot.barh(figsize=(8, 8))\n",
    "_ = ax.set_xlabel('Mentions')"
   ]
  },
  {
   "cell_type": "code",
   "execution_count": null,
   "metadata": {
    "collapsed": true
   },
   "outputs": [],
   "source": []
  }
 ],
 "metadata": {
  "kernelspec": {
   "display_name": "Python 3",
   "language": "python",
   "name": "python3"
  },
  "language_info": {
   "codemirror_mode": {
    "name": "ipython",
    "version": 3
   },
   "file_extension": ".py",
   "mimetype": "text/x-python",
   "name": "python",
   "nbconvert_exporter": "python",
   "pygments_lexer": "ipython3",
   "version": "3.4.4"
  }
 },
 "nbformat": 4,
 "nbformat_minor": 0
}
