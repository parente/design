{
 "cells": [
  {
   "cell_type": "markdown",
   "metadata": {
    "urth": {
     "dashboard": {
      "layout": {
       "col": 0,
       "height": 13,
       "row": 0,
       "width": 12
      }
     }
    }
   },
   "source": [
    "# Response Themes for \"What needs in your workflow does Jupyter Notebook address?\"\n",
    "\n",
    "* Goal: Extract theme keywords from `workflow_needs_addressed` responses.\n",
    "* Data: Output from 2_clean_survey.ipynb notebook (`survey_short_columns.csv`)\n",
    "* Strawman process from [1_ux_survey_review.ipynb](1_ux_survey_review.ipynb):\n",
    "\n",
    "> Moving forward, here's a semi-automatic procedure we can follow for identifying themes across questions:\n",
    "> 1. Take a random sample of question responses\n",
    "> 2. Write down common theme keywords\n",
    "> 3. Search back through the responses using the theme keywords\n",
    "> 4. Expand the set of keywords with other words seen in the search results\n",
    "> 5. Repeat for all themes and questions\n",
    "> Later, we can use a fully automated topic modeling approach to validate our manually generated themes."
   ]
  },
  {
   "cell_type": "code",
   "execution_count": 1,
   "metadata": {
    "collapsed": true,
    "urth": {
     "dashboard": {}
    }
   },
   "outputs": [],
   "source": [
    "import warnings\n",
    "warnings.filterwarnings(\"ignore\")"
   ]
  },
  {
   "cell_type": "code",
   "execution_count": 2,
   "metadata": {
    "collapsed": false,
    "urth": {
     "dashboard": {}
    }
   },
   "outputs": [],
   "source": [
    "%matplotlib inline"
   ]
  },
  {
   "cell_type": "code",
   "execution_count": 3,
   "metadata": {
    "collapsed": true,
    "urth": {
     "dashboard": {}
    }
   },
   "outputs": [],
   "source": [
    "import pandas as pd\n",
    "import numpy as np"
   ]
  },
  {
   "cell_type": "markdown",
   "metadata": {
    "urth": {
     "dashboard": {
      "layout": {
       "col": 0,
       "height": 4,
       "row": 13,
       "width": 4
      }
     }
    }
   },
   "source": [
    "Make sure the samples come up the same for anyone that re-runs this."
   ]
  },
  {
   "cell_type": "code",
   "execution_count": 4,
   "metadata": {
    "collapsed": false,
    "urth": {
     "dashboard": {}
    }
   },
   "outputs": [],
   "source": [
    "rs = np.random.RandomState(123)"
   ]
  },
  {
   "cell_type": "code",
   "execution_count": 5,
   "metadata": {
    "collapsed": true,
    "urth": {
     "dashboard": {}
    }
   },
   "outputs": [],
   "source": [
    "pd.set_option('max_colwidth', 1000)"
   ]
  },
  {
   "cell_type": "code",
   "execution_count": 6,
   "metadata": {
    "collapsed": true,
    "urth": {
     "dashboard": {}
    }
   },
   "outputs": [],
   "source": [
    "df = pd.read_csv('survey_short_columns.csv')"
   ]
  },
  {
   "cell_type": "code",
   "execution_count": 7,
   "metadata": {
    "collapsed": true,
    "urth": {
     "dashboard": {}
    }
   },
   "outputs": [],
   "source": [
    "def show(series):\n",
    "    '''Make random samples easier to read.'''\n",
    "    for i, value in enumerate(series):\n",
    "        print('{}) {}'.format(i, value), end='\\n\\n')"
   ]
  },
  {
   "cell_type": "code",
   "execution_count": 8,
   "metadata": {
    "collapsed": false,
    "urth": {
     "dashboard": {}
    }
   },
   "outputs": [],
   "source": [
    "responses = pd.concat([df.workflow_needs_not_addressed_1, \n",
    "                       df.workflow_needs_not_addressed_2, \n",
    "                       df.workflow_needs_not_addressed_3])"
   ]
  },
  {
   "cell_type": "code",
   "execution_count": 9,
   "metadata": {
    "collapsed": true,
    "urth": {
     "dashboard": {}
    }
   },
   "outputs": [],
   "source": [
    "assert len(responses) == len(df) * 3"
   ]
  },
  {
   "cell_type": "markdown",
   "metadata": {},
   "source": [
    "For later ref, to keep the notebook code generic for other questions."
   ]
  },
  {
   "cell_type": "code",
   "execution_count": 10,
   "metadata": {
    "collapsed": true
   },
   "outputs": [],
   "source": [
    "column = 'workflow_needs_not_addressed'"
   ]
  },
  {
   "cell_type": "code",
   "execution_count": 11,
   "metadata": {
    "collapsed": false,
    "urth": {
     "dashboard": {
      "layout": {
       "col": 4,
       "height": 4,
       "row": 13,
       "width": 4
      }
     }
    }
   },
   "outputs": [
    {
     "data": {
      "text/plain": [
       "True     4140\n",
       "False     978\n",
       "dtype: int64"
      ]
     },
     "execution_count": 11,
     "metadata": {},
     "output_type": "execute_result"
    }
   ],
   "source": [
    "responses.isnull().value_counts()"
   ]
  },
  {
   "cell_type": "code",
   "execution_count": 12,
   "metadata": {
    "collapsed": true,
    "urth": {
     "dashboard": {}
    }
   },
   "outputs": [],
   "source": [
    "responses = responses.dropna()"
   ]
  },
  {
   "cell_type": "markdown",
   "metadata": {
    "urth": {
     "dashboard": {
      "layout": {
       "col": 0,
       "height": 5,
       "row": 17,
       "width": 12
      }
     }
    }
   },
   "source": [
    "## Initial Samples\n",
    "\n",
    "I ran the sampling code below 5 times and manually built up the initial set of keywords seen commonly across them. This time, I did not form groupings. The keywords felt sufficient on their own to describe what needs Jupyter was satisfying."
   ]
  },
  {
   "cell_type": "code",
   "execution_count": 13,
   "metadata": {
    "collapsed": false,
    "scrolled": false,
    "urth": {
     "dashboard": {
      "layout": {
       "col": 0,
       "height": 36,
       "row": 22,
       "width": 4
      }
     }
    }
   },
   "outputs": [
    {
     "name": "stdout",
     "output_type": "stream",
     "text": [
      "0) Exploratory work I prefer Rstudio\n",
      "\n",
      "1) Making teaching presentations (not yet)\n",
      "\n",
      "2) dashboards\n",
      "\n",
      "3) large projects hacking\n",
      "\n",
      "4) no way to online collaborate \n",
      "\n",
      "5) Version control\n",
      "\n",
      "6) It's great at \"notes\", not at \"books\". No concepts of chapters, related notebooks\n",
      "\n",
      "7) VCS diffs are not good when ipython notebook is a primary tool\n",
      "\n",
      "8) Interactive exploration \n",
      "\n",
      "9) More tools for editing the code\n",
      "\n",
      "10) Managing the Python environment the notebook runs in\n",
      "\n",
      "11) Automation\n",
      "\n",
      "12) Creating\n",
      "\n",
      "13) Multi-user collaboration\n",
      "\n",
      "14) It's not an IDE\n",
      "\n",
      "15) Interactive programming\n",
      "\n",
      "16) Producing knitr like things (a la r markdown).\n",
      "\n",
      "17) Deployment\n",
      "\n",
      "18) fast coding\n",
      "\n",
      "19) Better integration with version control\n",
      "\n"
     ]
    }
   ],
   "source": [
    "show(responses.sample(20, random_state=rs))"
   ]
  },
  {
   "cell_type": "code",
   "execution_count": 14,
   "metadata": {
    "collapsed": false,
    "urth": {
     "dashboard": {}
    }
   },
   "outputs": [],
   "source": [
    "themes = {\n",
    "    'needs_not_addressed': ['presentations', 'dashboards', 'collab', 'books', 'vcs',\n",
    "                            'interact', 'editing', 'managing', 'automation', 'deploy', 'fast',\n",
    "                            'version control', 'debug', 'writing', 'table of content', \n",
    "                            'javascript', 'compiler', 'reuse', 'simultaneous', 'sharing',\n",
    "                            'provision', 'embed', 'test', 'refactor', 'install', 'project',\n",
    "                            'widgets', 'production', 'export', 'present', 'environ', 'lint',\n",
    "                            'distribution', 'documents', 'large', 'concurrent', 'reports',\n",
    "                            'state', 'storage']\n",
    "}"
   ]
  },
  {
   "cell_type": "markdown",
   "metadata": {
    "urth": {
     "dashboard": {
      "layout": {
       "col": 0,
       "height": 4,
       "row": 58,
       "width": 12
      }
     }
    }
   },
   "source": [
    "## Coverage Improvement\n",
    "\n",
    "I next ran the code below to improve the number of responses covered by the keywords. I iterated here to drive down the number of responses without any keywords identified."
   ]
  },
  {
   "cell_type": "code",
   "execution_count": 15,
   "metadata": {
    "collapsed": true,
    "urth": {
     "dashboard": {}
    }
   },
   "outputs": [],
   "source": [
    "import re"
   ]
  },
  {
   "cell_type": "code",
   "execution_count": 16,
   "metadata": {
    "collapsed": true,
    "urth": {
     "dashboard": {}
    }
   },
   "outputs": [],
   "source": [
    "def keywords_or(text, keywords):\n",
    "    for keyword in keywords:\n",
    "        if re.search('(^|\\W+){}'.format(keyword), text, re.IGNORECASE):\n",
    "            return True\n",
    "    return False"
   ]
  },
  {
   "cell_type": "code",
   "execution_count": 17,
   "metadata": {
    "collapsed": false,
    "urth": {
     "dashboard": {}
    }
   },
   "outputs": [],
   "source": [
    "def tag_themes(data, themes):\n",
    "    tagged = data.to_frame()\n",
    "    tagged['themes'] = ''\n",
    "    for theme, keywords in themes.items():\n",
    "        results = data.map(lambda text: keywords_or(text, keywords))\n",
    "        tagged.loc[results, 'themes'] += theme + ','\n",
    "        print(theme, results.sum())\n",
    "    return tagged"
   ]
  },
  {
   "cell_type": "code",
   "execution_count": 18,
   "metadata": {
    "collapsed": false,
    "urth": {
     "dashboard": {
      "layout": {
       "col": 8,
       "height": 4,
       "row": 13,
       "width": 4
      }
     }
    }
   },
   "outputs": [
    {
     "name": "stdout",
     "output_type": "stream",
     "text": [
      "needs_not_addressed 460\n"
     ]
    },
    {
     "data": {
      "text/plain": [
       "0    518\n",
       "1    460\n",
       "Name: themes, dtype: int64"
      ]
     },
     "execution_count": 18,
     "metadata": {},
     "output_type": "execute_result"
    }
   ],
   "source": [
    "tagged = tag_themes(responses, themes)\n",
    "tagged.themes.str.count(',').value_counts()"
   ]
  },
  {
   "cell_type": "code",
   "execution_count": 19,
   "metadata": {
    "collapsed": false,
    "urth": {
     "dashboard": {
      "layout": {
       "col": 4,
       "height": 35,
       "row": 22,
       "width": 4
      }
     }
    }
   },
   "outputs": [
    {
     "data": {
      "text/html": [
       "<div>\n",
       "<table border=\"1\" class=\"dataframe\">\n",
       "  <thead>\n",
       "    <tr style=\"text-align: right;\">\n",
       "      <th></th>\n",
       "      <th>0</th>\n",
       "      <th>themes</th>\n",
       "    </tr>\n",
       "  </thead>\n",
       "  <tbody>\n",
       "    <tr>\n",
       "      <th>1611</th>\n",
       "      <td>Working on the lower level code which is (and should remain) in regular python modules, not notebooks, but which is being called from the notebook.</td>\n",
       "      <td></td>\n",
       "    </tr>\n",
       "    <tr>\n",
       "      <th>1145</th>\n",
       "      <td>Cells are ordered only vertically</td>\n",
       "      <td></td>\n",
       "    </tr>\n",
       "    <tr>\n",
       "      <th>1381</th>\n",
       "      <td>Primary development (I prefer vim / ipython in a terminal)</td>\n",
       "      <td></td>\n",
       "    </tr>\n",
       "    <tr>\n",
       "      <th>1661</th>\n",
       "      <td>Overkill for simple scripts (compared to command line ipython)</td>\n",
       "      <td></td>\n",
       "    </tr>\n",
       "    <tr>\n",
       "      <th>1371</th>\n",
       "      <td>create reusable modules</td>\n",
       "      <td></td>\n",
       "    </tr>\n",
       "    <tr>\n",
       "      <th>706</th>\n",
       "      <td>Graphing/ggplot2 integration (for people moving from R)</td>\n",
       "      <td></td>\n",
       "    </tr>\n",
       "    <tr>\n",
       "      <th>600</th>\n",
       "      <td>granular access control for notebooks</td>\n",
       "      <td></td>\n",
       "    </tr>\n",
       "    <tr>\n",
       "      <th>186</th>\n",
       "      <td>Notebook diff tool to understand changes</td>\n",
       "      <td></td>\n",
       "    </tr>\n",
       "    <tr>\n",
       "      <th>873</th>\n",
       "      <td>Easy way to paste graphics from the clipboard</td>\n",
       "      <td></td>\n",
       "    </tr>\n",
       "    <tr>\n",
       "      <th>99</th>\n",
       "      <td>Running iterative workflows</td>\n",
       "      <td></td>\n",
       "    </tr>\n",
       "    <tr>\n",
       "      <th>418</th>\n",
       "      <td>Longer-term development</td>\n",
       "      <td></td>\n",
       "    </tr>\n",
       "    <tr>\n",
       "      <th>1518</th>\n",
       "      <td>Running multiple kernels (same or different language)</td>\n",
       "      <td></td>\n",
       "    </tr>\n",
       "    <tr>\n",
       "      <th>356</th>\n",
       "      <td>Marking lab classes</td>\n",
       "      <td></td>\n",
       "    </tr>\n",
       "    <tr>\n",
       "      <th>808</th>\n",
       "      <td>rebooting kernel and cleaning all cells</td>\n",
       "      <td></td>\n",
       "    </tr>\n",
       "    <tr>\n",
       "      <th>145</th>\n",
       "      <td>I sometimes think it would be nice to have a small sidebar that would show declared variables.  (I think rstudio has something like this on the top right of their window)</td>\n",
       "      <td></td>\n",
       "    </tr>\n",
       "    <tr>\n",
       "      <th>1681</th>\n",
       "      <td>spark</td>\n",
       "      <td></td>\n",
       "    </tr>\n",
       "    <tr>\n",
       "      <th>52</th>\n",
       "      <td>making library code</td>\n",
       "      <td></td>\n",
       "    </tr>\n",
       "    <tr>\n",
       "      <th>1476</th>\n",
       "      <td>lightweight web applications</td>\n",
       "      <td></td>\n",
       "    </tr>\n",
       "    <tr>\n",
       "      <th>661</th>\n",
       "      <td>Ability to share with other, non-technical users.</td>\n",
       "      <td></td>\n",
       "    </tr>\n",
       "    <tr>\n",
       "      <th>303</th>\n",
       "      <td>Keeping track of changes (file format not git friednly)</td>\n",
       "      <td></td>\n",
       "    </tr>\n",
       "  </tbody>\n",
       "</table>\n",
       "</div>"
      ],
      "text/plain": [
       "                                                                                                                                                                               0  \\\n",
       "1611                         Working on the lower level code which is (and should remain) in regular python modules, not notebooks, but which is being called from the notebook.   \n",
       "1145                                                                                                                                           Cells are ordered only vertically   \n",
       "1381                                                                                                                  Primary development (I prefer vim / ipython in a terminal)   \n",
       "1661                                                                                                              Overkill for simple scripts (compared to command line ipython)   \n",
       "1371                                                                                                                                                     create reusable modules   \n",
       "706                                                                                                                      Graphing/ggplot2 integration (for people moving from R)   \n",
       "600                                                                                                                                        granular access control for notebooks   \n",
       "186                                                                                                                                     Notebook diff tool to understand changes   \n",
       "873                                                                                                                                Easy way to paste graphics from the clipboard   \n",
       "99                                                                                                                                                   Running iterative workflows   \n",
       "418                                                                                                                                                      Longer-term development   \n",
       "1518                                                                                                                       Running multiple kernels (same or different language)   \n",
       "356                                                                                                                                                          Marking lab classes   \n",
       "808                                                                                                                                      rebooting kernel and cleaning all cells   \n",
       "145   I sometimes think it would be nice to have a small sidebar that would show declared variables.  (I think rstudio has something like this on the top right of their window)   \n",
       "1681                                                                                                                                                                       spark   \n",
       "52                                                                                                                                                           making library code   \n",
       "1476                                                                                                                                                lightweight web applications   \n",
       "661                                                                                                                            Ability to share with other, non-technical users.   \n",
       "303                                                                                                                      Keeping track of changes (file format not git friednly)   \n",
       "\n",
       "     themes  \n",
       "1611         \n",
       "1145         \n",
       "1381         \n",
       "1661         \n",
       "1371         \n",
       "706          \n",
       "600          \n",
       "186          \n",
       "873          \n",
       "99           \n",
       "418          \n",
       "1518         \n",
       "356          \n",
       "808          \n",
       "145          \n",
       "1681         \n",
       "52           \n",
       "1476         \n",
       "661          \n",
       "303          "
      ]
     },
     "execution_count": 19,
     "metadata": {},
     "output_type": "execute_result"
    }
   ],
   "source": [
    "tagged[tagged.themes.str.len() == 0].sample(20, random_state=rs)"
   ]
  },
  {
   "cell_type": "code",
   "execution_count": 20,
   "metadata": {
    "collapsed": false,
    "urth": {
     "dashboard": {}
    }
   },
   "outputs": [],
   "source": [
    "themes = {\n",
    "    'version' : ['vcs', 'version control', 'git', 'diff(\\W|$)', 'version', 'hg',\n",
    "                 'history', 'tracking', 'provenance', 'archive', 'source control'],\n",
    "    'collab' : ['collab', 'simultaneous', 'shar(e|ing)', 'concurrent',\n",
    "                'multi-?user', 'group'],\n",
    "    'disseminate' : ['present', 'dashboard', 'books', 'deploy', 'writing',\n",
    "                    'embed', 'product(ion|i(s|z)ation)?', 'export', \n",
    "                    'present', 'distribution', 'documents',  'report',\n",
    "                    'app(s|lication)', 'web', 'publi(sh|cation)', 'story',\n",
    "                    'slide', 'blog', 'document', 'manuscript', 'paper',\n",
    "                    'citation', 'bibliograph', 'bundle', 'transition',\n",
    "                    'standalone', 'push', 'send', 'gui', 'business',\n",
    "                    'pages', 'textbook', 'access (control|rights)', 'permission'],\n",
    "    'reuse' : ['manag(e|ing)', 'automat(e|ing|ion)', 're-?us(e|able)', \n",
    "               'large', 'modul', 'long', 'complex', 'schedule', 'package',\n",
    "               'reproduc', 'portab', 'librar(y|ies)', 'maintain', \n",
    "               'repeat',  'parameter', 'clean', 'DRY', 'complicate', 'batch',\n",
    "               'serious', 'importing', 'calling'],\n",
    "    'development' : ['edit(ing|or)', 'debug', 'javascript', 'compiler',\n",
    "                     'refactor', 'project', 'lint', 'integration', 'interact', \n",
    "                     'widgets', 'test', 'spell check', 'linear', 'brows',\n",
    "                     'organi(s|z)', 'search', 'diagram', 'graphic', \n",
    "                     'visualization', 'ide($|\\W)', 'variable',\n",
    "                     'parallel', 'linear', 'format', 'literate', 'script',\n",
    "                     'keyboard', 'format', 'complet(e|ion)', 'language',\n",
    "                     'data creat', 'browse', 'branch', 'view', 'plot',\n",
    "                     'development', 'visual', 'data entry', 'filing',\n",
    "                     'input', 'integrat(ing|ion)', 'polyglot', 'review', 'compare',\n",
    "                     'multiple kern', 'chain', 'commands', 'checking', 'workflow'],\n",
    "    'setup': ['provision', 'install', 'environ', 'state', 'storage',\n",
    "              'mobile', 'setup', 'backup', 'startup', 'config', 'theme',\n",
    "              'customi(s|z)', 'data access', 'get(ting)? data'],\n",
    "}"
   ]
  },
  {
   "cell_type": "code",
   "execution_count": 21,
   "metadata": {
    "collapsed": false
   },
   "outputs": [
    {
     "name": "stdout",
     "output_type": "stream",
     "text": [
      "setup 52\n",
      "collab 84\n",
      "disseminate 220\n",
      "version 94\n",
      "reuse 189\n",
      "development 404\n"
     ]
    }
   ],
   "source": [
    "tagged = tag_themes(responses, themes)"
   ]
  },
  {
   "cell_type": "markdown",
   "metadata": {
    "urth": {
     "dashboard": {
      "layout": {
       "col": 8,
       "height": 4,
       "row": 22,
       "width": 4
      }
     }
    }
   },
   "source": [
    "## Keyword Frequencies\n",
    "\n",
    "Finally, I plotted the frequency counts of keywords identified."
   ]
  },
  {
   "cell_type": "code",
   "execution_count": 22,
   "metadata": {
    "collapsed": true,
    "urth": {
     "dashboard": {}
    }
   },
   "outputs": [],
   "source": [
    "import matplotlib\n",
    "import seaborn"
   ]
  },
  {
   "cell_type": "code",
   "execution_count": 23,
   "metadata": {
    "collapsed": true,
    "urth": {
     "dashboard": {}
    }
   },
   "outputs": [],
   "source": [
    "counts = {}"
   ]
  },
  {
   "cell_type": "code",
   "execution_count": 24,
   "metadata": {
    "collapsed": false,
    "urth": {
     "dashboard": {}
    }
   },
   "outputs": [],
   "source": [
    "for theme, keywords in themes.items():\n",
    "    for keyword in keywords:\n",
    "        hits = responses.map(lambda text: keywords_or(text, [keyword]))\n",
    "        counts[keyword] = hits.sum()"
   ]
  },
  {
   "cell_type": "code",
   "execution_count": 25,
   "metadata": {
    "collapsed": true,
    "urth": {
     "dashboard": {}
    }
   },
   "outputs": [],
   "source": [
    "hist = pd.Series(counts).sort_values()"
   ]
  },
  {
   "cell_type": "code",
   "execution_count": 26,
   "metadata": {
    "collapsed": false,
    "urth": {
     "dashboard": {
      "layout": {
       "col": 8,
       "height": 6,
       "row": 26,
       "width": 4
      }
     }
    }
   },
   "outputs": [
    {
     "data": {
      "image/png": "[encoded data removed]",
      "text/plain": [
       "<matplotlib.figure.Figure at 0x7f21234c8550>"
      ]
     },
     "metadata": {},
     "output_type": "display_data"
    }
   ],
   "source": [
    "ax = hist[-30:].plot.barh(figsize=(8, 8))\n",
    "_ = ax.set_xlabel('Mentions')"
   ]
  },
  {
   "cell_type": "code",
   "execution_count": 27,
   "metadata": {
    "collapsed": false,
    "urth": {
     "dashboard": {}
    }
   },
   "outputs": [],
   "source": [
    "hits = responses.map(lambda text: keywords_or(text, ['large']))"
   ]
  },
  {
   "cell_type": "code",
   "execution_count": 28,
   "metadata": {
    "collapsed": false,
    "scrolled": false,
    "urth": {
     "dashboard": {
      "layout": {
       "col": 0,
       "height": 101,
       "row": 62,
       "width": 4
      }
     }
    }
   },
   "outputs": [
    {
     "data": {
      "text/plain": [
       "22      large-scale programs (i.e. above short script size, or needing multiple classes/functions) can't refactor out code into other files, therefore dropping back to regular Python for this\n",
       "29                                                                                                                Don't feel like an environment to develop complex scripts or larger programs.\n",
       "77                                                                                                                                                                 slow on large datasets/hangs\n",
       "309                                                                                                                                 Difficult to deal with a large project with many libraries.\n",
       "352                                                                                                                                                Developement of larger modules and libraries\n",
       "403                                                                                                                                                   Large scientific computations with Python\n",
       "439                                                                                                                                                                     Large scale development\n",
       "462                                                                                     Editing programs with large number of lines (I know, that's lame, but I had to come up with something!)\n",
       "561                                                                                                                                                                  large-scale job management\n",
       "666                                                                                                                                                        larger machine learning applications\n",
       "830                                                                                                                                                modular design of larger collections of code\n",
       "835                                                                                           working with large amounts of data and/or distributed data (memory/sync issues of different kinds\n",
       "971                                                                                                                                                                   Large project development\n",
       "979                                                                                                                                                      IDE for developing small to large code\n",
       "1032                                                                                                                                                                          Larger Scale Data\n",
       "1065                                                                                                                                                                             large projects\n",
       "1087                                                                                                                                                                   Writing larger programs \n",
       "1166                                                                                                                                                Organizing/interfacing with larger projects\n",
       "1306                                                                                                                                                                       large module support\n",
       "1380                                                                                                                                                                            larger projects\n",
       "1384                                                                                         Larger calculations where robust refactoring and linting is useful (e.g. such as pycharm provides)\n",
       "1389                                                                                                                                                         Fast computation of large datasets\n",
       "1481                                                                                                                                                      organizing larger multi-file projects\n",
       "1565                                                                                                                                                              developing larger-scale tools\n",
       "1594                                                                                                                                   large scale analyses (parametric variations, pipelining)\n",
       "1600                                                                                                                                                             large-scale data visualization\n",
       "29                                                                                                    The possibility of exploring variables' content (e.g. large arrays), as in Spyder/Matlab.\n",
       "103                                                                                                  interactively exploring large data sets with pandas (ie the graphlab sframe browser popup)\n",
       "243                                                                                                                              Developing larger \"applications\", projects or Python modules. \n",
       "344                                                                                                          coding of larger scripts (e.g. no outline/table of contents  with methods/classes)\n",
       "472                                                                                                                                                                      writing larger modules\n",
       "500                                                                                                                                                                        Large Computing jobs\n",
       "509                                                                                                                             cell grouping/hierarchy like in Mathematica for large notebooks\n",
       "863                                                                                                                                                                      large projects hacking\n",
       "1135                                                                                                                                     working with large applications with non-trivial state\n",
       "1172                                                                                                                                                      Hard to translate to larger programs.\n",
       "1661                                                                                                                          Running multiple cells is awkward when developing larger projects\n",
       "231                                                   the need to break out a project into many notebooks - large notebooks don't work well for restructuring, finding, editing (for me anyway)\n",
       "966                                                                                                                                                   Machine Learning training of large models\n",
       "dtype: object"
      ]
     },
     "execution_count": 28,
     "metadata": {},
     "output_type": "execute_result"
    }
   ],
   "source": [
    "responses[hits]"
   ]
  },
  {
   "cell_type": "markdown",
   "metadata": {
    "collapsed": true
   },
   "source": [
    "## Persist\n",
    "\n",
    "I save off the themes and keywords to a DataFrame with the same index as the original so that the entries can be tagged."
   ]
  },
  {
   "cell_type": "code",
   "execution_count": 29,
   "metadata": {
    "collapsed": false
   },
   "outputs": [],
   "source": [
    "themes_df = tagged.themes.to_frame()"
   ]
  },
  {
   "cell_type": "code",
   "execution_count": 30,
   "metadata": {
    "collapsed": true
   },
   "outputs": [],
   "source": [
    "themes_df = themes_df.rename(columns={'themes' : column+'_themes'})"
   ]
  },
  {
   "cell_type": "code",
   "execution_count": 31,
   "metadata": {
    "collapsed": true
   },
   "outputs": [],
   "source": [
    "themes_df[column+'_keywords'] = ''"
   ]
  },
  {
   "cell_type": "code",
   "execution_count": 32,
   "metadata": {
    "collapsed": true
   },
   "outputs": [],
   "source": [
    "for theme, keywords in themes.items():\n",
    "    for keyword in keywords:\n",
    "        results = responses.map(lambda text: keywords_or(text, [keyword]))\n",
    "        themes_df.loc[results, column+'_keywords'] += keyword + ','"
   ]
  },
  {
   "cell_type": "code",
   "execution_count": 33,
   "metadata": {
    "collapsed": true
   },
   "outputs": [],
   "source": [
    "themes_df[column+'_themes'] = themes_df[column+'_themes'].str.rstrip(',')\n",
    "themes_df[column+'_keywords'] = themes_df[column+'_keywords'].str.rstrip(',')"
   ]
  },
  {
   "cell_type": "markdown",
   "metadata": {},
   "source": [
    "Up above, I merged the three response fields for the question into one common pool which means we can have duplicate index value in the themes DataFrame. We need to squash these down and remove duplicates."
   ]
  },
  {
   "cell_type": "code",
   "execution_count": 34,
   "metadata": {
    "collapsed": true
   },
   "outputs": [],
   "source": [
    "def union(group_df):\n",
    "    '''Gets the set union of themes and keywords for a given DataFrame.'''\n",
    "    themes = group_df[column+'_themes'].str.cat(sep=',')\n",
    "    themes = list(set(themes.split(',')))\n",
    "    themes = ','.join(themes)\n",
    "    \n",
    "    keywords = group_df[column+'_keywords'].str.cat(sep=',')\n",
    "    keywords = list(set(keywords.split(',')))\n",
    "    keywords = ','.join(keywords)\n",
    "    return pd.Series([themes, keywords], index=[column+'_themes', column+'_keywords'])"
   ]
  },
  {
   "cell_type": "markdown",
   "metadata": {},
   "source": [
    "We group by the index and union the themes and keywords."
   ]
  },
  {
   "cell_type": "code",
   "execution_count": 35,
   "metadata": {
    "collapsed": true
   },
   "outputs": [],
   "source": [
    "themes_df = themes_df.groupby(themes_df.index).apply(union)"
   ]
  },
  {
   "cell_type": "code",
   "execution_count": 36,
   "metadata": {
    "collapsed": false
   },
   "outputs": [
    {
     "data": {
      "text/html": [
       "<div>\n",
       "<table border=\"1\" class=\"dataframe\">\n",
       "  <thead>\n",
       "    <tr style=\"text-align: right;\">\n",
       "      <th></th>\n",
       "      <th>workflow_needs_not_addressed_themes</th>\n",
       "      <th>workflow_needs_not_addressed_keywords</th>\n",
       "    </tr>\n",
       "  </thead>\n",
       "  <tbody>\n",
       "    <tr>\n",
       "      <th>1</th>\n",
       "      <td>development</td>\n",
       "      <td>plot,interact</td>\n",
       "    </tr>\n",
       "    <tr>\n",
       "      <th>5</th>\n",
       "      <td>collab,development</td>\n",
       "      <td>variable,interact,concurrent,visualization,visual</td>\n",
       "    </tr>\n",
       "    <tr>\n",
       "      <th>6</th>\n",
       "      <td>disseminate,version,development</td>\n",
       "      <td>slide,document,present,version control,organi(s|z),version</td>\n",
       "    </tr>\n",
       "    <tr>\n",
       "      <th>7</th>\n",
       "      <td>disseminate,version,reuse,development</td>\n",
       "      <td>interact,dashboard,version,manag(e|ing)</td>\n",
       "    </tr>\n",
       "    <tr>\n",
       "      <th>9</th>\n",
       "      <td>setup,disseminate,reuse,development</td>\n",
       "      <td>clean,automat(e|ing|ion),report,storage,script,deploy</td>\n",
       "    </tr>\n",
       "  </tbody>\n",
       "</table>\n",
       "</div>"
      ],
      "text/plain": [
       "     workflow_needs_not_addressed_themes  \\\n",
       "1                            development   \n",
       "5                     collab,development   \n",
       "6        disseminate,version,development   \n",
       "7  disseminate,version,reuse,development   \n",
       "9    setup,disseminate,reuse,development   \n",
       "\n",
       "                        workflow_needs_not_addressed_keywords  \n",
       "1                                               plot,interact  \n",
       "5           variable,interact,concurrent,visualization,visual  \n",
       "6  slide,document,present,version control,organi(s|z),version  \n",
       "7                     interact,dashboard,version,manag(e|ing)  \n",
       "9       clean,automat(e|ing|ion),report,storage,script,deploy  "
      ]
     },
     "execution_count": 36,
     "metadata": {},
     "output_type": "execute_result"
    }
   ],
   "source": [
    "themes_df.head(5)"
   ]
  },
  {
   "cell_type": "markdown",
   "metadata": {},
   "source": [
    "The themes DataFrame should have as many rows as there are non-null responses in the original DataFrame."
   ]
  },
  {
   "cell_type": "code",
   "execution_count": 37,
   "metadata": {
    "collapsed": false
   },
   "outputs": [],
   "source": [
    "assert len(themes_df) == len(df[[column+'_1', column+'_2', column+'_3']].dropna(how='all'))"
   ]
  },
  {
   "cell_type": "code",
   "execution_count": 38,
   "metadata": {
    "collapsed": true
   },
   "outputs": [],
   "source": [
    "themes_df.to_csv(column + '_themes.csv', sep=';')"
   ]
  }
 ],
 "metadata": {
  "kernelspec": {
   "display_name": "Python 3",
   "language": "python",
   "name": "python3"
  },
  "language_info": {
   "codemirror_mode": {
    "name": "ipython",
    "version": 3
   },
   "file_extension": ".py",
   "mimetype": "text/x-python",
   "name": "python",
   "nbconvert_exporter": "python",
   "pygments_lexer": "ipython3",
   "version": "3.4.4"
  },
  "urth": {
   "dashboard": {
    "cellMargin": 10,
    "defaultCellHeight": 20,
    "layoutStrategy": "packed",
    "maxColumns": 12
   }
  }
 },
 "nbformat": 4,
 "nbformat_minor": 0
}
