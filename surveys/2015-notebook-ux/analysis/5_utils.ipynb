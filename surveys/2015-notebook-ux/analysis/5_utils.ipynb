{
 "cells": [
  {
   "cell_type": "markdown",
   "metadata": {},
   "source": [
    "# Summary Report Utils\n",
    "\n",
    "Moves some of the verbose plotting and interaction routines to a separate notebook to avoid clutter in the final report."
   ]
  },
  {
   "cell_type": "markdown",
   "metadata": {},
   "source": [
    "TODO\n",
    "\n",
    "* switch to declarative widgets so that clicking a bar shows a sample of questions from that group"
   ]
  },
  {
   "cell_type": "code",
   "execution_count": 24,
   "metadata": {
    "collapsed": true
   },
   "outputs": [],
   "source": [
    "%matplotlib inline"
   ]
  },
  {
   "cell_type": "code",
   "execution_count": 25,
   "metadata": {
    "collapsed": true
   },
   "outputs": [],
   "source": [
    "# <api>\n",
    "import matplotlib.pyplot as plt\n",
    "import pandas as pd\n",
    "import seaborn as sns\n",
    "import numpy as np\n",
    "import os\n",
    "import glob\n",
    "import collections\n",
    "from ipywidgets import interact"
   ]
  },
  {
   "cell_type": "code",
   "execution_count": 26,
   "metadata": {
    "collapsed": false
   },
   "outputs": [],
   "source": [
    "df = pd.DataFrame({'tags': ['a,b,c', 'd,e,f', 'a,g,h,i', 'a,b,e,f,g'], 'cats': ['x', 'y' , 'x', 'y']})"
   ]
  },
  {
   "cell_type": "code",
   "execution_count": 27,
   "metadata": {
    "collapsed": true
   },
   "outputs": [],
   "source": [
    "# <api>\n",
    "def count_tags(tag_series, pct=False):\n",
    "    '''\n",
    "    Count comma separated tags.\n",
    "\n",
    "    :param tag_series: Series of comma separated tag values\n",
    "    :param pct: If True, compute percentages over number of respondents\n",
    "    :return: Series with individual tags as index, counts/percentages as values\n",
    "    '''\n",
    "    tagged = tag_series.dropna()\n",
    "    num_respondents = len(tagged)\n",
    "    \n",
    "    tag_counts = (tagged.str.split(',')\n",
    "        .apply(lambda x: pd.value_counts(x))\n",
    "        .sum(axis=0)\n",
    "        .sort_values(ascending=False)         \n",
    "    )\n",
    "    \n",
    "    if pct:\n",
    "        tag_counts = tag_counts.div(num_respondents)\n",
    "        tag_counts.name = 'Fraction of respondents'\n",
    "    else:\n",
    "        tag_counts.name = 'Respondents'\n",
    "    return tag_counts\n",
    "pd.Series.count_tags = count_tags"
   ]
  },
  {
   "cell_type": "code",
   "execution_count": 28,
   "metadata": {
    "collapsed": false
   },
   "outputs": [
    {
     "data": {
      "text/html": [
       "<div>\n",
       "<table border=\"1\" class=\"dataframe\">\n",
       "  <thead>\n",
       "    <tr style=\"text-align: right;\">\n",
       "      <th></th>\n",
       "      <th>cats</th>\n",
       "      <th>tags</th>\n",
       "    </tr>\n",
       "  </thead>\n",
       "  <tbody>\n",
       "    <tr>\n",
       "      <th>0</th>\n",
       "      <td>x</td>\n",
       "      <td>a,b,c</td>\n",
       "    </tr>\n",
       "    <tr>\n",
       "      <th>1</th>\n",
       "      <td>y</td>\n",
       "      <td>d,e,f</td>\n",
       "    </tr>\n",
       "    <tr>\n",
       "      <th>2</th>\n",
       "      <td>x</td>\n",
       "      <td>a,g,h,i</td>\n",
       "    </tr>\n",
       "    <tr>\n",
       "      <th>3</th>\n",
       "      <td>y</td>\n",
       "      <td>a,b,e,f,g</td>\n",
       "    </tr>\n",
       "  </tbody>\n",
       "</table>\n",
       "</div>"
      ],
      "text/plain": [
       "  cats       tags\n",
       "0    x      a,b,c\n",
       "1    y      d,e,f\n",
       "2    x    a,g,h,i\n",
       "3    y  a,b,e,f,g"
      ]
     },
     "execution_count": 28,
     "metadata": {},
     "output_type": "execute_result"
    }
   ],
   "source": [
    "# <help:count_tags>\n",
    "df"
   ]
  },
  {
   "cell_type": "code",
   "execution_count": 29,
   "metadata": {
    "collapsed": false
   },
   "outputs": [
    {
     "data": {
      "text/plain": [
       "a    3\n",
       "g    2\n",
       "f    2\n",
       "e    2\n",
       "b    2\n",
       "i    1\n",
       "h    1\n",
       "d    1\n",
       "c    1\n",
       "Name: Respondents, dtype: float64"
      ]
     },
     "execution_count": 29,
     "metadata": {},
     "output_type": "execute_result"
    }
   ],
   "source": [
    "# <help:count_tags>\n",
    "df.tags.count_tags()"
   ]
  },
  {
   "cell_type": "code",
   "execution_count": 30,
   "metadata": {
    "collapsed": false
   },
   "outputs": [
    {
     "data": {
      "text/plain": [
       "a    0.75\n",
       "g    0.50\n",
       "f    0.50\n",
       "e    0.50\n",
       "b    0.50\n",
       "i    0.25\n",
       "h    0.25\n",
       "d    0.25\n",
       "c    0.25\n",
       "Name: Fraction of respondents, dtype: float64"
      ]
     },
     "execution_count": 30,
     "metadata": {},
     "output_type": "execute_result"
    }
   ],
   "source": [
    "# <help:count_tags>\n",
    "df.tags.count_tags(pct=True)"
   ]
  },
  {
   "cell_type": "code",
   "execution_count": 31,
   "metadata": {
    "collapsed": true
   },
   "outputs": [],
   "source": [
    "# <api>\n",
    "def plot_tags(tag_series, ax=None):\n",
    "    '''\n",
    "    Plot tag counts.\n",
    "    \n",
    "    :param ax: Axis on which to plot\n",
    "    :return: Axis\n",
    "    '''\n",
    "    new_index = tag_series.reset_index()['index'].str.slice(0, 20)\n",
    "    tag_series.index = new_index\n",
    "    ax = tag_series.plot(kind='bar', color='black', ax=ax)\n",
    "    \n",
    "    ax.set_xlabel('')\n",
    "    ax.set_ylabel(tag_series.name)\n",
    "    ax.set_xticklabels(ax.get_xmajorticklabels(), rotation=25, ha='right')\n",
    "    return ax\n",
    "pd.Series.plot_tags = plot_tags"
   ]
  },
  {
   "cell_type": "code",
   "execution_count": 32,
   "metadata": {
    "collapsed": false
   },
   "outputs": [
    {
     "data": {
      "text/plain": [
       "<matplotlib.axes._subplots.AxesSubplot at 0x7f0b85c8ddd8>"
      ]
     },
     "execution_count": 32,
     "metadata": {},
     "output_type": "execute_result"
    },
    {
     "data": {
      "image/png": "[encoded data removed]",
      "text/plain": [
       "<matplotlib.figure.Figure at 0x7f0b85a71710>"
      ]
     },
     "metadata": {},
     "output_type": "display_data"
    }
   ],
   "source": [
    "# <help:plot_tags>\n",
    "df.tags.count_tags().plot_tags()"
   ]
  },
  {
   "cell_type": "code",
   "execution_count": 33,
   "metadata": {
    "collapsed": true
   },
   "outputs": [],
   "source": [
    "# <api>\n",
    "def count_tags_by(tag_series, category_series, pct=False):\n",
    "    '''\n",
    "    Count comma separated tags grouped by categories.\n",
    "    \n",
    "    :param tag_series: Series of comma separated tag values\n",
    "    :param category_series: Series of categories by which to group, indexed\n",
    "      the same as tag_series\n",
    "    :param pct: If True, Ccompute percentages within each category\n",
    "    :return: DataFrame with categories as columns, individual tags as index,\n",
    "      and counts/percentages as values\n",
    "    '''\n",
    "    # split tags into columns with 1-value per hit\n",
    "    tag_counts = (tag_series.dropna()\n",
    "        .str.split(',')\n",
    "        .apply(lambda x: pd.Series(1, index=set(x)))\n",
    "    )\n",
    "\n",
    "    by = category_series.name\n",
    "    tag_counts[by] = category_series\n",
    "    grouped_tag_counts = tag_counts.groupby(by).sum().T\n",
    "    \n",
    "    if pct:\n",
    "        grouped_tag_counts = grouped_tag_counts.div(category_series.value_counts())\n",
    "        grouped_tag_counts.index.name = 'Fraction of respondents in group'\n",
    "    else:\n",
    "        grouped_tag_counts.index.name = 'Respondents'\n",
    "    \n",
    "    return (grouped_tag_counts.reindex(\n",
    "                grouped_tag_counts\n",
    "                    .sum(axis=1)\n",
    "                    .sort_values(ascending=False)\n",
    "                    .index\n",
    "                )\n",
    "            )\n",
    "pd.Series.count_tags_by = count_tags_by"
   ]
  },
  {
   "cell_type": "code",
   "execution_count": 34,
   "metadata": {
    "collapsed": false
   },
   "outputs": [
    {
     "data": {
      "text/html": [
       "<div>\n",
       "<table border=\"1\" class=\"dataframe\">\n",
       "  <thead>\n",
       "    <tr style=\"text-align: right;\">\n",
       "      <th></th>\n",
       "      <th>cats</th>\n",
       "      <th>tags</th>\n",
       "    </tr>\n",
       "  </thead>\n",
       "  <tbody>\n",
       "    <tr>\n",
       "      <th>0</th>\n",
       "      <td>x</td>\n",
       "      <td>a,b,c</td>\n",
       "    </tr>\n",
       "    <tr>\n",
       "      <th>1</th>\n",
       "      <td>y</td>\n",
       "      <td>d,e,f</td>\n",
       "    </tr>\n",
       "    <tr>\n",
       "      <th>2</th>\n",
       "      <td>x</td>\n",
       "      <td>a,g,h,i</td>\n",
       "    </tr>\n",
       "    <tr>\n",
       "      <th>3</th>\n",
       "      <td>y</td>\n",
       "      <td>a,b,e,f,g</td>\n",
       "    </tr>\n",
       "  </tbody>\n",
       "</table>\n",
       "</div>"
      ],
      "text/plain": [
       "  cats       tags\n",
       "0    x      a,b,c\n",
       "1    y      d,e,f\n",
       "2    x    a,g,h,i\n",
       "3    y  a,b,e,f,g"
      ]
     },
     "execution_count": 34,
     "metadata": {},
     "output_type": "execute_result"
    }
   ],
   "source": [
    "# <help:count_tags_by>\n",
    "df"
   ]
  },
  {
   "cell_type": "code",
   "execution_count": 35,
   "metadata": {
    "collapsed": false
   },
   "outputs": [
    {
     "data": {
      "text/html": [
       "<div>\n",
       "<table border=\"1\" class=\"dataframe\">\n",
       "  <thead>\n",
       "    <tr style=\"text-align: right;\">\n",
       "      <th>cats</th>\n",
       "      <th>x</th>\n",
       "      <th>y</th>\n",
       "    </tr>\n",
       "    <tr>\n",
       "      <th>Respondents</th>\n",
       "      <th></th>\n",
       "      <th></th>\n",
       "    </tr>\n",
       "  </thead>\n",
       "  <tbody>\n",
       "    <tr>\n",
       "      <th>a</th>\n",
       "      <td>2</td>\n",
       "      <td>1</td>\n",
       "    </tr>\n",
       "    <tr>\n",
       "      <th>g</th>\n",
       "      <td>1</td>\n",
       "      <td>1</td>\n",
       "    </tr>\n",
       "    <tr>\n",
       "      <th>f</th>\n",
       "      <td>NaN</td>\n",
       "      <td>2</td>\n",
       "    </tr>\n",
       "    <tr>\n",
       "      <th>e</th>\n",
       "      <td>NaN</td>\n",
       "      <td>2</td>\n",
       "    </tr>\n",
       "    <tr>\n",
       "      <th>b</th>\n",
       "      <td>1</td>\n",
       "      <td>1</td>\n",
       "    </tr>\n",
       "    <tr>\n",
       "      <th>i</th>\n",
       "      <td>1</td>\n",
       "      <td>NaN</td>\n",
       "    </tr>\n",
       "    <tr>\n",
       "      <th>h</th>\n",
       "      <td>1</td>\n",
       "      <td>NaN</td>\n",
       "    </tr>\n",
       "    <tr>\n",
       "      <th>d</th>\n",
       "      <td>NaN</td>\n",
       "      <td>1</td>\n",
       "    </tr>\n",
       "    <tr>\n",
       "      <th>c</th>\n",
       "      <td>1</td>\n",
       "      <td>NaN</td>\n",
       "    </tr>\n",
       "  </tbody>\n",
       "</table>\n",
       "</div>"
      ],
      "text/plain": [
       "cats          x   y\n",
       "Respondents        \n",
       "a             2   1\n",
       "g             1   1\n",
       "f           NaN   2\n",
       "e           NaN   2\n",
       "b             1   1\n",
       "i             1 NaN\n",
       "h             1 NaN\n",
       "d           NaN   1\n",
       "c             1 NaN"
      ]
     },
     "execution_count": 35,
     "metadata": {},
     "output_type": "execute_result"
    }
   ],
   "source": [
    "# <help:count_tags_by>\n",
    "df.tags.count_tags_by(df.cats)"
   ]
  },
  {
   "cell_type": "code",
   "execution_count": 36,
   "metadata": {
    "collapsed": false
   },
   "outputs": [
    {
     "data": {
      "text/html": [
       "<div>\n",
       "<table border=\"1\" class=\"dataframe\">\n",
       "  <thead>\n",
       "    <tr style=\"text-align: right;\">\n",
       "      <th></th>\n",
       "      <th>x</th>\n",
       "      <th>y</th>\n",
       "    </tr>\n",
       "    <tr>\n",
       "      <th>Fraction of respondents in group</th>\n",
       "      <th></th>\n",
       "      <th></th>\n",
       "    </tr>\n",
       "  </thead>\n",
       "  <tbody>\n",
       "    <tr>\n",
       "      <th>a</th>\n",
       "      <td>1.0</td>\n",
       "      <td>0.5</td>\n",
       "    </tr>\n",
       "    <tr>\n",
       "      <th>g</th>\n",
       "      <td>0.5</td>\n",
       "      <td>0.5</td>\n",
       "    </tr>\n",
       "    <tr>\n",
       "      <th>f</th>\n",
       "      <td>NaN</td>\n",
       "      <td>1.0</td>\n",
       "    </tr>\n",
       "    <tr>\n",
       "      <th>e</th>\n",
       "      <td>NaN</td>\n",
       "      <td>1.0</td>\n",
       "    </tr>\n",
       "    <tr>\n",
       "      <th>b</th>\n",
       "      <td>0.5</td>\n",
       "      <td>0.5</td>\n",
       "    </tr>\n",
       "    <tr>\n",
       "      <th>i</th>\n",
       "      <td>0.5</td>\n",
       "      <td>NaN</td>\n",
       "    </tr>\n",
       "    <tr>\n",
       "      <th>h</th>\n",
       "      <td>0.5</td>\n",
       "      <td>NaN</td>\n",
       "    </tr>\n",
       "    <tr>\n",
       "      <th>d</th>\n",
       "      <td>NaN</td>\n",
       "      <td>0.5</td>\n",
       "    </tr>\n",
       "    <tr>\n",
       "      <th>c</th>\n",
       "      <td>0.5</td>\n",
       "      <td>NaN</td>\n",
       "    </tr>\n",
       "  </tbody>\n",
       "</table>\n",
       "</div>"
      ],
      "text/plain": [
       "                                    x    y\n",
       "Fraction of respondents in group          \n",
       "a                                 1.0  0.5\n",
       "g                                 0.5  0.5\n",
       "f                                 NaN  1.0\n",
       "e                                 NaN  1.0\n",
       "b                                 0.5  0.5\n",
       "i                                 0.5  NaN\n",
       "h                                 0.5  NaN\n",
       "d                                 NaN  0.5\n",
       "c                                 0.5  NaN"
      ]
     },
     "execution_count": 36,
     "metadata": {},
     "output_type": "execute_result"
    }
   ],
   "source": [
    "# <help:count_tags_by>\n",
    "df.tags.count_tags_by(df.cats, pct=True)"
   ]
  },
  {
   "cell_type": "code",
   "execution_count": 37,
   "metadata": {
    "collapsed": true
   },
   "outputs": [],
   "source": [
    "# <api>\n",
    "def plot_tags_by(grouped_tag_counts, ax=None, order=None):\n",
    "    '''\n",
    "    Plot tag counts grouped by category.\n",
    "    \n",
    "    :param order: Order of the groups, to help ensure common color assignment across plots \n",
    "    :param ax: Axis on which to plot\n",
    "\n",
    "    :return: Axis\n",
    "    '''\n",
    "    if order:\n",
    "        grouped_tag_counts = grouped_tag_counts.loc[:, order]\n",
    "    \n",
    "    # trunacate labels\n",
    "    new_index = grouped_tag_counts.index.to_series()\n",
    "    new_index = new_index.str.slice(0, 20)\n",
    "    # want the truncated series values to be the new index, so assign\n",
    "    grouped_tag_counts.index = new_index\n",
    "\n",
    "    ax = grouped_tag_counts.plot(kind='bar', ax=ax)\n",
    "\n",
    "    ax.set_xlabel('')\n",
    "    ax.set_ylabel(grouped_tag_counts.index.name)\n",
    "    ax.set_xticklabels(ax.get_xmajorticklabels(), rotation=25, ha='right')\n",
    "    \n",
    "    return ax\n",
    "pd.DataFrame.plot_tags_by = plot_tags_by"
   ]
  },
  {
   "cell_type": "code",
   "execution_count": 38,
   "metadata": {
    "collapsed": false
   },
   "outputs": [
    {
     "data": {
      "text/plain": [
       "<matplotlib.axes._subplots.AxesSubplot at 0x7f0b85b220b8>"
      ]
     },
     "execution_count": 38,
     "metadata": {},
     "output_type": "execute_result"
    },
    {
     "data": {
      "image/png": "[encoded data removed]",
      "text/plain": [
       "<matplotlib.figure.Figure at 0x7f0b85a60f28>"
      ]
     },
     "metadata": {},
     "output_type": "display_data"
    }
   ],
   "source": [
    "# <help:plot_tags_by>\n",
    "df.tags.count_tags_by(df.cats).plot_tags_by()"
   ]
  },
  {
   "cell_type": "code",
   "execution_count": 39,
   "metadata": {
    "collapsed": true
   },
   "outputs": [],
   "source": [
    "# <api>\n",
    "group_names = collections.OrderedDict([\n",
    "    ('-- No grouping --', '-- No grouping --'),\n",
    "    ('How often do you use Jupyter Notebook?', 'how_often'),\n",
    "    ('Roughly how long have you been using Jupyter Notebook?', 'how_long_used'),\n",
    "    ('How many years have you been in this job role?', 'years_in_role'),\n",
    "    ('How many people typically see and/or interact with the results of your work in Jupyter Notebook?', 'audience_size')\n",
    "])\n",
    "group_orders = {\n",
    "    'how_often': ['Daily', 'Weekly', 'Monthly', 'Less often than monthly'],\n",
    "    'audience_size': ['Tens', 'Hundreds', 'Thousands', 'Tens of thousands', 'Hundreds of thousands or more'],\n",
    "    'years_in_role': ['5+ years', '2-5 years', '1 year', 'Less than 1 year'],\n",
    "    'how_long_used': ['One year or more', 'Less than one year'],\n",
    "    'how_run': ['As a standalone application', 'Through Jupyter Hub', 'Other - Write In']\n",
    "}\n",
    "default_labels = ['Keyword patterns', 'Annotator themes']"
   ]
  },
  {
   "cell_type": "code",
   "execution_count": 40,
   "metadata": {
    "collapsed": false
   },
   "outputs": [],
   "source": [
    "# <api>\n",
    "def explore(df, series, labels=default_labels):\n",
    "    '''\n",
    "    Creates an interactive widget in which the user can:\n",
    "    \n",
    "    * Look at response counts and percentages for one of the provided series\n",
    "    * Group values in the selected series by responses to other questions\n",
    "    \n",
    "    :param df: DataFrame containing all of the series and all of the\n",
    "        possible columns to group by\n",
    "    :param series: Series to plot\n",
    "    :param labels: Labels to show for the series\n",
    "    '''\n",
    "    @interact(show=labels, \n",
    "              group_by=list(group_names.keys()), \n",
    "              values=['Counts', 'Percentages'])\n",
    "    def _explore(show, group_by, values):\n",
    "        tag_series = series[labels.index(show)]\n",
    "        percentages = True if values == 'Percentages' else False\n",
    "            \n",
    "        group_by = group_names[group_by]\n",
    "        order = group_orders.get(group_by)\n",
    "\n",
    "        if group_by == '-- No grouping --':\n",
    "            ax = tag_series.count_tags(pct=percentages).head(25).plot_tags()\n",
    "        elif group_by in df.columns:\n",
    "            ax = tag_series.count_tags_by(df[group_by], pct=percentages).head(25).plot_tags_by(order=order)\n",
    "        else:\n",
    "            print('Group by column not found')\n",
    "            return\n",
    "        \n",
    "        ax.set_xlabel('Top {} (25 max)'.format(show.lower()))"
   ]
  },
  {
   "cell_type": "code",
   "execution_count": 41,
   "metadata": {
    "collapsed": false
   },
   "outputs": [
    {
     "data": {
      "image/png": "[encoded data removed]",
      "text/plain": [
       "<matplotlib.figure.Figure at 0x7f0b85b2f080>"
      ]
     },
     "metadata": {},
     "output_type": "display_data"
    }
   ],
   "source": [
    "# <help:explore>\n",
    "explore(df, [df.tags], ['tags'])"
   ]
  }
 ],
 "metadata": {
  "kernelspec": {
   "display_name": "Python 3",
   "language": "python",
   "name": "python3"
  },
  "language_info": {
   "codemirror_mode": {
    "name": "ipython",
    "version": 3
   },
   "file_extension": ".py",
   "mimetype": "text/x-python",
   "name": "python",
   "nbconvert_exporter": "python",
   "pygments_lexer": "ipython3",
   "version": "3.4.4"
  }
 },
 "nbformat": 4,
 "nbformat_minor": 0
}
