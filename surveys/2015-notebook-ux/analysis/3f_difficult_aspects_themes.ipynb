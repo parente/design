{
 "cells": [
  {
   "cell_type": "markdown",
   "metadata": {},
   "source": [
    "# Response Themes for \"What aspects of Jupyter Notebook make it difficult to use in your workflow?\"\n",
    "\n",
    "* Goal: Extract theme keywords from `difficult_aspects` responses.\n",
    "* Data: Output from 2_clean_survey.ipynb notebook (`survey_short_columns.csv`)\n",
    "* Process from [1_ux_survey_review.ipynb](1_ux_survey_review.ipynb):\n",
    "\n",
    "> Moving forward, here's a semi-automatic procedure we can follow for identifying themes across questions:\n",
    "> 1. Take a random sample of question responses\n",
    "> 2. Write down common theme keywords\n",
    "> 3. Search back through the responses using the theme keywords\n",
    "> 4. Expand the set of keywords with other words seen in the search results\n",
    "> 5. Repeat for all themes and questions\n",
    "> Later, we can use a fully automated topic modeling approach to validate our manually generated themes."
   ]
  },
  {
   "cell_type": "code",
   "execution_count": 1,
   "metadata": {
    "collapsed": true
   },
   "outputs": [],
   "source": [
    "import warnings\n",
    "warnings.filterwarnings(\"ignore\")"
   ]
  },
  {
   "cell_type": "code",
   "execution_count": 2,
   "metadata": {
    "collapsed": false
   },
   "outputs": [],
   "source": [
    "%matplotlib inline"
   ]
  },
  {
   "cell_type": "code",
   "execution_count": 3,
   "metadata": {
    "collapsed": true
   },
   "outputs": [],
   "source": [
    "import pandas as pd\n",
    "import numpy as np"
   ]
  },
  {
   "cell_type": "markdown",
   "metadata": {},
   "source": [
    "Make sure the samples come up the same for anyone that re-runs this."
   ]
  },
  {
   "cell_type": "code",
   "execution_count": 4,
   "metadata": {
    "collapsed": false
   },
   "outputs": [],
   "source": [
    "rs = np.random.RandomState(123)"
   ]
  },
  {
   "cell_type": "code",
   "execution_count": 5,
   "metadata": {
    "collapsed": true
   },
   "outputs": [],
   "source": [
    "pd.set_option('max_colwidth', 1000)"
   ]
  },
  {
   "cell_type": "code",
   "execution_count": 6,
   "metadata": {
    "collapsed": true
   },
   "outputs": [],
   "source": [
    "df = pd.read_csv('survey_short_columns.csv')"
   ]
  },
  {
   "cell_type": "code",
   "execution_count": 7,
   "metadata": {
    "collapsed": true
   },
   "outputs": [],
   "source": [
    "def show(series):\n",
    "    '''Make random samples easier to read.'''\n",
    "    for i, value in enumerate(series):\n",
    "        print('{}) {}'.format(i, value), end='\\n\\n')"
   ]
  },
  {
   "cell_type": "code",
   "execution_count": 8,
   "metadata": {
    "collapsed": false
   },
   "outputs": [],
   "source": [
    "responses = pd.concat([df.difficult_aspects_1, df.difficult_aspects_2, df.difficult_aspects_3])"
   ]
  },
  {
   "cell_type": "code",
   "execution_count": 9,
   "metadata": {
    "collapsed": true
   },
   "outputs": [],
   "source": [
    "assert len(responses) == len(df) * 3"
   ]
  },
  {
   "cell_type": "code",
   "execution_count": 10,
   "metadata": {
    "collapsed": false
   },
   "outputs": [
    {
     "data": {
      "text/plain": [
       "True     4216\n",
       "False     902\n",
       "dtype: int64"
      ]
     },
     "execution_count": 10,
     "metadata": {},
     "output_type": "execute_result"
    }
   ],
   "source": [
    "responses.isnull().value_counts()"
   ]
  },
  {
   "cell_type": "code",
   "execution_count": 11,
   "metadata": {
    "collapsed": true
   },
   "outputs": [],
   "source": [
    "responses = responses.dropna()"
   ]
  },
  {
   "cell_type": "markdown",
   "metadata": {},
   "source": [
    "## Initial Samples\n",
    "\n",
    "I ran the sampling code below multiple times and manually built up the initial set of keywords seen commonly across them. I formed groups of conceptually related keywords. Then I tried to assign a simple label to each group."
   ]
  },
  {
   "cell_type": "code",
   "execution_count": 12,
   "metadata": {
    "collapsed": false,
    "scrolled": false
   },
   "outputs": [
    {
     "name": "stdout",
     "output_type": "stream",
     "text": [
      "0) runnning notebooks in batch\n",
      "\n",
      "1) Relatively hard installation, not simply an app\n",
      "\n",
      "2) would be nice to be able to import one notebook into another\n",
      "\n",
      "3) Lack of document structure manipulation\n",
      "\n",
      "4) Terminal mode doesn't handle keyboard shortcuts well\n",
      "\n",
      "5) Connecting to diverse data sources\n",
      "\n",
      "6) Code reuse\n",
      "\n",
      "7) no concrete status info on running calculations (What does my Python process do that has been running for ages now?)\n",
      "\n",
      "8) Python 3 vs 2 problems\n",
      "\n",
      "9) Out-of-order execution\n",
      "\n",
      "10) Package updates\n",
      "\n",
      "11) Very limited editing facilities (search-and-replace???)\n",
      "\n",
      "12) Vanilla jupyter notebook is unwieldy with long notebooks (but mitigated by TOC extension, section folding,...)\n",
      "\n",
      "13) Control over matplotlib graphs still a bit limited and clumsy\n",
      "\n",
      "14) No emacs-style bindings for editing code\n",
      "\n",
      "15) Deploying to the cloud requires a brain + setup time. Should be brainless and next to instantaneous\n",
      "\n",
      "16) Losing state -- restarting the kernel\n",
      "\n",
      "17) the kernel needs to be restarted to reload modules (though this is actually due to Python), leading to the loss of already computed data; this is probably fixed by organizing the code better\n",
      "\n",
      "18) mishmash of tools with varyingly different apis\n",
      "\n",
      "19) The resulting program must be copy/pasted or exported into plain python and then validated again\n",
      "\n"
     ]
    }
   ],
   "source": [
    "show(responses.sample(20, random_state=rs))"
   ]
  },
  {
   "cell_type": "code",
   "execution_count": 13,
   "metadata": {
    "collapsed": false
   },
   "outputs": [],
   "source": [
    "themes = {\n",
    "    'ux': ['(manipulating|mov(e|ing)|copy(ing)?) cells|rearranging', 'multi(ple)? cells?', \n",
    "           'cells (up and down|out of place)', \n",
    "           'mouse', 'right-click', 'tab function',\n",
    "           'copy(-|&|\\sand\\s|\\/)paste|c&p|and paste', 'double(\\s|-)?click(ing)?',\n",
    "           'modal',  \n",
    "           'muddle|messy|clutter|clunky',\n",
    "           '(wasted|screen) space|bloated ui|too much whitespace|margins|width', \n",
    "           'scroll(\\s)?bar|scroll(ing)?', \n",
    "           'jump(ing)?', 'status', 'drag-and', \n",
    "           'css|themes?|fonts?|contrast|icons?', \n",
    "           'cell.*numbers|numbering|numbered cells|cell ordering', \n",
    "            '(u|i)ndo', 'too small',\n",
    "           'ui feels like 1993', 'more clicks', 'accessibility', 'click on',\n",
    "           '(fold|collapse) code', 'open notebooks', 'launching the notebook', \n",
    "           'hard to navigate', 'small screens|tablet|mobile',\n",
    "           'print(ing)?', 'hide', \n",
    "           'web based|browser'],\n",
    "    'performance': ['performance', 'slow(er)?', 'cach(e|ing)', ],\n",
    "    'stability': ['freeze|hang(s|ing)|locks? up|crashes|dying|dies', \n",
    "                  'reboot(ing)?|restart(ing)? (notebook|kernel)|kernel restarts', 'kernel died/restarting',\n",
    "                  'testing', \n",
    "                  'brittle|(los(e|ing)|preserve) state|work is lost', \n",
    "                   ],\n",
    "    'versions': ['versions', 'versionn?ing', '3 vs 2', 'v3', 'changing api', \n",
    "                 'dependencies|package (updates|management)', 'conda',\n",
    "                 'software version', 'version upgrades', 'incompatibilities', ],\n",
    "    'version_control': ['(version|source) (control|management|tracking|history|notebooks)', 'git(hub)?',\n",
    "                        'control version', 'not versioned', 'version-controlled', \n",
    "                         ],\n",
    "    'hosting': ['deploy(ing)?', 'cloud', 'production', \n",
    "                'install(ation)?|(spun\\s|setting\\s|standing\\s|(start|set)(\\s|-)?)up', \n",
    "                'client-server|server', \n",
    "                'host(ed|ing)', 'virtual(env|\\senvironment)',\n",
    "                'resource intensive|memory us(e|age)', \n",
    "                'configur(ing|ation)', 'remote access', 'native', \n",
    "                'multi-?user', 'single (user|computer)', 'permissions?', \n",
    "                'jupyter\\s?hub', 'personalization',],\n",
    "    'documentation': ['doc(s|umentation)?($|\\W)', ],\n",
    "    'editor': [ '(code )?edit(or|ing)(\\scode)?', 'linting', 'fold code', \n",
    "               '(auto|code\\s|tab\\s)complet(e|ion)', 'rename all', 'vim?($|\\W)|sublime|atom|emacs', \n",
    "               'hard to edit', 'multiple curs(o|e)r', 'completion of parenthesis', \n",
    "               'key(board|\\s?bindings?)|short-?cuts?|hotkeys?', 'key combinations',  ],\n",
    "    'language': ['python', 'languages?', 'language support', 'R($|\\W)',],\n",
    "    'content_management': ['(file|notebook|content) management', 'file(\\s|-)?system',\n",
    "                           'search(-and-replace)?|find and|finding', \n",
    "                           'file (browser|explorer)', 'large files', '(long|large) notebooks?', \n",
    "                           'navigation tools', 'where all my notebooks are', 'multiple files', 'structure notebooks', \n",
    "                           'managing.*(notebooks|files)', 'split a notebook', \n",
    "                           'large projects', \n",
    "                           '(folders?|director(y|ies))(\\smanagement)?', ],\n",
    "    'development': ['breakpoints', 'profiling', 'look at all variables', \n",
    "                    'development environment', 'tips', 'environment window', 'debug(ger|ging)?(\\stools)?', \n",
    "                    'loaded variables', 'workspace|ides?($|\\W)', 'rstudio|knitr', \n",
    "                    'debug errors', 'spell check', 'code structure', 'too much programming', \n",
    "                    'namespace|everything is global|bad programming|programming practices',\n",
    "                    'remain in memory', 'modules', 'transform cells', 'code re-?use', 'variables', \n",
    "                    'portability|hard to port|port analysis', 'api',\n",
    "                    'multiprocessing|parallel (code|programming)', 'code review', 'diff(s|ing)?($|\\W)'\n",
    "                    ],\n",
    "    'collab': ['collaborat(e|ion)', 'multiple authors', ],\n",
    "    'dissemination': ['interactivity in charts', 'interactive (widgets|plots)', 'nbconvert',\n",
    "                      'document conversion',\n",
    "                      '(dashboard|presentation|\"view only\") mode', \n",
    "                      'non-interactive graphs', \n",
    "                      'report generation', 'presentations', 'interactive graphic', 'shar(e|ing)', \n",
    "                      'distribution', 'export(ing)?', 'pdf', ],\n",
    "    'file_format': ['(json|\\.py|ipynb) files', 'filesize', 'notebook format', '.ipynb', 'large documents',\n",
    "                   ], \n",
    "}"
   ]
  },
  {
   "cell_type": "markdown",
   "metadata": {},
   "source": [
    "## Coverage Improvement\n",
    "\n",
    "I next ran the code below to associate the theme labels with the responses. I then iterated on running the code below to find reponses without labels. I expanded the list of keywords and themes above in order to improve coverage."
   ]
  },
  {
   "cell_type": "code",
   "execution_count": 14,
   "metadata": {
    "collapsed": true
   },
   "outputs": [],
   "source": [
    "import re"
   ]
  },
  {
   "cell_type": "code",
   "execution_count": 15,
   "metadata": {
    "collapsed": true
   },
   "outputs": [],
   "source": [
    "def keywords_or(text, keywords):\n",
    "    for keyword in keywords:\n",
    "        if re.search('(^|\\W+){}'.format(keyword), text, re.IGNORECASE):\n",
    "            return True\n",
    "    return False"
   ]
  },
  {
   "cell_type": "code",
   "execution_count": 16,
   "metadata": {
    "collapsed": false
   },
   "outputs": [],
   "source": [
    "def tag_themes(data, themes):\n",
    "    tagged = data.to_frame()\n",
    "    tagged['themes'] = ''\n",
    "    for theme, keywords in themes.items():\n",
    "        results = data.map(lambda text: keywords_or(text, keywords))\n",
    "        tagged.loc[results, 'themes'] += theme + ','\n",
    "        print(theme, results.sum())\n",
    "    return tagged"
   ]
  },
  {
   "cell_type": "code",
   "execution_count": 17,
   "metadata": {
    "collapsed": false
   },
   "outputs": [
    {
     "name": "stdout",
     "output_type": "stream",
     "text": [
      "documentation 17\n",
      "versions 30\n",
      "development 125\n",
      "ux 169\n",
      "file_format 12\n",
      "editor 111\n",
      "collab 9\n",
      "version_control 70\n",
      "performance 17\n",
      "stability 32\n",
      "hosting 94\n",
      "content_management 55\n",
      "dissemination 51\n",
      "language 43\n"
     ]
    },
    {
     "data": {
      "text/plain": [
       "1    586\n",
       "0    199\n",
       "2    104\n",
       "3     11\n",
       "4      2\n",
       "Name: themes, dtype: int64"
      ]
     },
     "execution_count": 17,
     "metadata": {},
     "output_type": "execute_result"
    }
   ],
   "source": [
    "tagged = tag_themes(responses, themes)\n",
    "tagged.themes.str.count(',').value_counts()"
   ]
  },
  {
   "cell_type": "code",
   "execution_count": 18,
   "metadata": {
    "collapsed": false
   },
   "outputs": [
    {
     "data": {
      "text/html": [
       "<div>\n",
       "<table border=\"1\" class=\"dataframe\">\n",
       "  <thead>\n",
       "    <tr style=\"text-align: right;\">\n",
       "      <th></th>\n",
       "      <th>0</th>\n",
       "      <th>themes</th>\n",
       "    </tr>\n",
       "  </thead>\n",
       "  <tbody>\n",
       "    <tr>\n",
       "      <th>1378</th>\n",
       "      <td>somewhat cumbersome UI, due to limitations of being a web app</td>\n",
       "      <td></td>\n",
       "    </tr>\n",
       "    <tr>\n",
       "      <th>1503</th>\n",
       "      <td>No easy way to cite publications</td>\n",
       "      <td></td>\n",
       "    </tr>\n",
       "    <tr>\n",
       "      <th>808</th>\n",
       "      <td>lack of bookmarks between cells : select cells to be cleaned and rerun</td>\n",
       "      <td></td>\n",
       "    </tr>\n",
       "    <tr>\n",
       "      <th>1420</th>\n",
       "      <td>Need to keep a terminal window open</td>\n",
       "      <td></td>\n",
       "    </tr>\n",
       "    <tr>\n",
       "      <th>1125</th>\n",
       "      <td>difficult to add kernels on mac</td>\n",
       "      <td></td>\n",
       "    </tr>\n",
       "    <tr>\n",
       "      <th>356</th>\n",
       "      <td>Unusual assumptions about bracket creation.</td>\n",
       "      <td></td>\n",
       "    </tr>\n",
       "    <tr>\n",
       "      <th>55</th>\n",
       "      <td>I'm still working on it.</td>\n",
       "      <td></td>\n",
       "    </tr>\n",
       "    <tr>\n",
       "      <th>1645</th>\n",
       "      <td>no embedded interactive console</td>\n",
       "      <td></td>\n",
       "    </tr>\n",
       "    <tr>\n",
       "      <th>1371</th>\n",
       "      <td>the hidden persistence of variable (created in deleted/modified cells)</td>\n",
       "      <td></td>\n",
       "    </tr>\n",
       "    <tr>\n",
       "      <th>79</th>\n",
       "      <td>Always looking up help</td>\n",
       "      <td></td>\n",
       "    </tr>\n",
       "    <tr>\n",
       "      <th>671</th>\n",
       "      <td>Not integrated with test running</td>\n",
       "      <td></td>\n",
       "    </tr>\n",
       "    <tr>\n",
       "      <th>814</th>\n",
       "      <td>Out of order execution of cells</td>\n",
       "      <td></td>\n",
       "    </tr>\n",
       "    <tr>\n",
       "      <th>259</th>\n",
       "      <td>Limited space</td>\n",
       "      <td></td>\n",
       "    </tr>\n",
       "    <tr>\n",
       "      <th>210</th>\n",
       "      <td>Markdown support is crude and limited. (Compare to pandoc-flavored markdown)</td>\n",
       "      <td></td>\n",
       "    </tr>\n",
       "    <tr>\n",
       "      <th>493</th>\n",
       "      <td>No user around.</td>\n",
       "      <td></td>\n",
       "    </tr>\n",
       "    <tr>\n",
       "      <th>157</th>\n",
       "      <td>widgets not being \"poppable\" out from the workflow timeline</td>\n",
       "      <td></td>\n",
       "    </tr>\n",
       "    <tr>\n",
       "      <th>1192</th>\n",
       "      <td>Reuse notebook as a script in a larger project</td>\n",
       "      <td></td>\n",
       "    </tr>\n",
       "    <tr>\n",
       "      <th>1076</th>\n",
       "      <td>hard to keep track which cells have been modified since last run</td>\n",
       "      <td></td>\n",
       "    </tr>\n",
       "    <tr>\n",
       "      <th>370</th>\n",
       "      <td>Control over matplotlib graphs still a bit limited and clumsy</td>\n",
       "      <td></td>\n",
       "    </tr>\n",
       "    <tr>\n",
       "      <th>486</th>\n",
       "      <td>runnning notebooks in batch</td>\n",
       "      <td></td>\n",
       "    </tr>\n",
       "  </tbody>\n",
       "</table>\n",
       "</div>"
      ],
      "text/plain": [
       "                                                                                 0  \\\n",
       "1378                 somewhat cumbersome UI, due to limitations of being a web app   \n",
       "1503                                              No easy way to cite publications   \n",
       "808         lack of bookmarks between cells : select cells to be cleaned and rerun   \n",
       "1420                                           Need to keep a terminal window open   \n",
       "1125                                               difficult to add kernels on mac   \n",
       "356                                    Unusual assumptions about bracket creation.   \n",
       "55                                                        I'm still working on it.   \n",
       "1645                                               no embedded interactive console   \n",
       "1371        the hidden persistence of variable (created in deleted/modified cells)   \n",
       "79                                                          Always looking up help   \n",
       "671                                               Not integrated with test running   \n",
       "814                                                Out of order execution of cells   \n",
       "259                                                                  Limited space   \n",
       "210   Markdown support is crude and limited. (Compare to pandoc-flavored markdown)   \n",
       "493                                                                No user around.   \n",
       "157                    widgets not being \"poppable\" out from the workflow timeline   \n",
       "1192                                Reuse notebook as a script in a larger project   \n",
       "1076              hard to keep track which cells have been modified since last run   \n",
       "370                  Control over matplotlib graphs still a bit limited and clumsy   \n",
       "486                                                    runnning notebooks in batch   \n",
       "\n",
       "     themes  \n",
       "1378         \n",
       "1503         \n",
       "808          \n",
       "1420         \n",
       "1125         \n",
       "356          \n",
       "55           \n",
       "1645         \n",
       "1371         \n",
       "79           \n",
       "671          \n",
       "814          \n",
       "259          \n",
       "210          \n",
       "493          \n",
       "157          \n",
       "1192         \n",
       "1076         \n",
       "370          \n",
       "486          "
      ]
     },
     "execution_count": 18,
     "metadata": {},
     "output_type": "execute_result"
    }
   ],
   "source": [
    "tagged[tagged.themes.str.len() == 0].sample(20, random_state=rs)"
   ]
  },
  {
   "cell_type": "markdown",
   "metadata": {},
   "source": [
    "## Precision Check\n",
    "\n",
    "I then studied a sample of responses for each theme to see if there major inaccuracies in their application (e.g., string matches that are too fuzzy)."
   ]
  },
  {
   "cell_type": "code",
   "execution_count": 19,
   "metadata": {
    "collapsed": false
   },
   "outputs": [
    {
     "name": "stdout",
     "output_type": "stream",
     "text": [
      "documentation 17\n",
      "versions 30\n",
      "development 125\n",
      "ux 169\n",
      "file_format 12\n",
      "editor 111\n",
      "collab 9\n",
      "version_control 70\n",
      "performance 17\n",
      "stability 32\n",
      "hosting 94\n",
      "content_management 55\n",
      "dissemination 51\n",
      "language 43\n"
     ]
    },
    {
     "data": {
      "text/plain": [
       "1    586\n",
       "0    199\n",
       "2    104\n",
       "3     11\n",
       "4      2\n",
       "Name: themes, dtype: int64"
      ]
     },
     "execution_count": 19,
     "metadata": {},
     "output_type": "execute_result"
    }
   ],
   "source": [
    "tagged = tag_themes(responses, themes)\n",
    "tagged.themes.str.count(',').value_counts()"
   ]
  },
  {
   "cell_type": "code",
   "execution_count": 20,
   "metadata": {
    "collapsed": true
   },
   "outputs": [],
   "source": [
    "from IPython.display import display, clear_output"
   ]
  },
  {
   "cell_type": "code",
   "execution_count": 21,
   "metadata": {
    "collapsed": false,
    "scrolled": false
   },
   "outputs": [],
   "source": [
    "# for key in themes:\n",
    "#     clear_output()\n",
    "#     size = min([10, len(tagged[tagged.themes.str.contains(key)])])\n",
    "#     display(tagged[tagged.themes.str.contains(key)].sample(size))\n",
    "#     if input('Showing `{}`. Type Enter to continue, \"q\" to stop.'.format(key)) == 'q':\n",
    "#         break"
   ]
  },
  {
   "cell_type": "markdown",
   "metadata": {},
   "source": [
    "I also looked at responses with multiple themes to fine tune them, and catch duplication of words in multiple themes."
   ]
  },
  {
   "cell_type": "code",
   "execution_count": 22,
   "metadata": {
    "collapsed": false
   },
   "outputs": [
    {
     "data": {
      "text/html": [
       "<div>\n",
       "<table border=\"1\" class=\"dataframe\">\n",
       "  <thead>\n",
       "    <tr style=\"text-align: right;\">\n",
       "      <th></th>\n",
       "      <th>0</th>\n",
       "      <th>themes</th>\n",
       "    </tr>\n",
       "  </thead>\n",
       "  <tbody>\n",
       "    <tr>\n",
       "      <th>198</th>\n",
       "      <td>Old docs are the top result in all Google searches</td>\n",
       "      <td>documentation,content_management,</td>\n",
       "    </tr>\n",
       "    <tr>\n",
       "      <th>414</th>\n",
       "      <td>Difficult to reimport local modules after changing them, without restarting kernel</td>\n",
       "      <td>development,stability,</td>\n",
       "    </tr>\n",
       "    <tr>\n",
       "      <th>780</th>\n",
       "      <td>Hangs/no reloading of modules, rendering state saving useless in some cases.</td>\n",
       "      <td>development,stability,</td>\n",
       "    </tr>\n",
       "    <tr>\n",
       "      <th>201</th>\n",
       "      <td>Maybe I'm doing it inefficiently, but I find the launcher clunky &amp; slow</td>\n",
       "      <td>ux,performance,</td>\n",
       "    </tr>\n",
       "    <tr>\n",
       "      <th>389</th>\n",
       "      <td>Lack of python development tools in text editor</td>\n",
       "      <td>editor,language,</td>\n",
       "    </tr>\n",
       "    <tr>\n",
       "      <th>725</th>\n",
       "      <td>managing notebooks from front page is clunky</td>\n",
       "      <td>ux,content_management,</td>\n",
       "    </tr>\n",
       "    <tr>\n",
       "      <th>384</th>\n",
       "      <td>Hanging browser when output is too large</td>\n",
       "      <td>ux,stability,</td>\n",
       "    </tr>\n",
       "    <tr>\n",
       "      <th>1700</th>\n",
       "      <td>code reuse in different notebooks (need to copy-paste)</td>\n",
       "      <td>development,ux,</td>\n",
       "    </tr>\n",
       "    <tr>\n",
       "      <th>612</th>\n",
       "      <td>unable to hide or group input cells</td>\n",
       "      <td>development,ux,</td>\n",
       "    </tr>\n",
       "    <tr>\n",
       "      <th>786</th>\n",
       "      <td>Vcs diffs are not readable and excessively large (e.g. Cell numbers changes, inline charts)</td>\n",
       "      <td>development,ux,</td>\n",
       "    </tr>\n",
       "    <tr>\n",
       "      <th>246</th>\n",
       "      <td>Inclusion of Python version number in file (for versioning)</td>\n",
       "      <td>versions,language,</td>\n",
       "    </tr>\n",
       "    <tr>\n",
       "      <th>755</th>\n",
       "      <td>R configuration and setup</td>\n",
       "      <td>hosting,language,</td>\n",
       "    </tr>\n",
       "    <tr>\n",
       "      <th>1065</th>\n",
       "      <td>if too much is printed, it can't be stopped and any unsaved work is lost</td>\n",
       "      <td>ux,stability,</td>\n",
       "    </tr>\n",
       "    <tr>\n",
       "      <th>918</th>\n",
       "      <td>unnecessary diffs when committing to git</td>\n",
       "      <td>development,version_control,</td>\n",
       "    </tr>\n",
       "    <tr>\n",
       "      <th>866</th>\n",
       "      <td>Key binding, modal nature</td>\n",
       "      <td>ux,editor,</td>\n",
       "    </tr>\n",
       "    <tr>\n",
       "      <th>786</th>\n",
       "      <td>Stderr results are not printed immediately, it is hard to monitor progress of long-running tasks (e.g. hyperparameter search in scikit-learn)</td>\n",
       "      <td>ux,content_management,</td>\n",
       "    </tr>\n",
       "    <tr>\n",
       "      <th>348</th>\n",
       "      <td>Git diff of notebooks</td>\n",
       "      <td>development,version_control,</td>\n",
       "    </tr>\n",
       "    <tr>\n",
       "      <th>211</th>\n",
       "      <td>Lack of advanced text editing features like deleting line, moving line, find and replace</td>\n",
       "      <td>editor,content_management,</td>\n",
       "    </tr>\n",
       "    <tr>\n",
       "      <th>863</th>\n",
       "      <td>jumping between results and code can be tiresome (prefer to have it side-by-side often)</td>\n",
       "      <td>development,ux,</td>\n",
       "    </tr>\n",
       "    <tr>\n",
       "      <th>103</th>\n",
       "      <td>lack of version control / multiple undo</td>\n",
       "      <td>ux,version_control,</td>\n",
       "    </tr>\n",
       "  </tbody>\n",
       "</table>\n",
       "</div>"
      ],
      "text/plain": [
       "                                                                                                                                                  0  \\\n",
       "198                                                                                              Old docs are the top result in all Google searches   \n",
       "414                                                              Difficult to reimport local modules after changing them, without restarting kernel   \n",
       "780                                                                    Hangs/no reloading of modules, rendering state saving useless in some cases.   \n",
       "201                                                                         Maybe I'm doing it inefficiently, but I find the launcher clunky & slow   \n",
       "389                                                                                                 Lack of python development tools in text editor   \n",
       "725                                                                                                    managing notebooks from front page is clunky   \n",
       "384                                                                                                        Hanging browser when output is too large   \n",
       "1700                                                                                         code reuse in different notebooks (need to copy-paste)   \n",
       "612                                                                                                             unable to hide or group input cells   \n",
       "786                                                     Vcs diffs are not readable and excessively large (e.g. Cell numbers changes, inline charts)   \n",
       "246                                                                                     Inclusion of Python version number in file (for versioning)   \n",
       "755                                                                                                                       R configuration and setup   \n",
       "1065                                                                       if too much is printed, it can't be stopped and any unsaved work is lost   \n",
       "918                                                                                                        unnecessary diffs when committing to git   \n",
       "866                                                                                                                       Key binding, modal nature   \n",
       "786   Stderr results are not printed immediately, it is hard to monitor progress of long-running tasks (e.g. hyperparameter search in scikit-learn)   \n",
       "348                                                                                                                           Git diff of notebooks   \n",
       "211                                                        Lack of advanced text editing features like deleting line, moving line, find and replace   \n",
       "863                                                         jumping between results and code can be tiresome (prefer to have it side-by-side often)   \n",
       "103                                                                                                         lack of version control / multiple undo   \n",
       "\n",
       "                                 themes  \n",
       "198   documentation,content_management,  \n",
       "414              development,stability,  \n",
       "780              development,stability,  \n",
       "201                     ux,performance,  \n",
       "389                    editor,language,  \n",
       "725              ux,content_management,  \n",
       "384                       ux,stability,  \n",
       "1700                    development,ux,  \n",
       "612                     development,ux,  \n",
       "786                     development,ux,  \n",
       "246                  versions,language,  \n",
       "755                   hosting,language,  \n",
       "1065                      ux,stability,  \n",
       "918        development,version_control,  \n",
       "866                          ux,editor,  \n",
       "786              ux,content_management,  \n",
       "348        development,version_control,  \n",
       "211          editor,content_management,  \n",
       "863                     development,ux,  \n",
       "103                 ux,version_control,  "
      ]
     },
     "execution_count": 22,
     "metadata": {},
     "output_type": "execute_result"
    }
   ],
   "source": [
    "tagged[tagged.themes.str.count(',') == 2].sample(20, random_state=rs)"
   ]
  },
  {
   "cell_type": "markdown",
   "metadata": {},
   "source": [
    "## Keyword Frequencies"
   ]
  },
  {
   "cell_type": "code",
   "execution_count": 23,
   "metadata": {
    "collapsed": true
   },
   "outputs": [],
   "source": [
    "import matplotlib\n",
    "import seaborn"
   ]
  },
  {
   "cell_type": "code",
   "execution_count": 24,
   "metadata": {
    "collapsed": true
   },
   "outputs": [],
   "source": [
    "counts = {}"
   ]
  },
  {
   "cell_type": "code",
   "execution_count": 25,
   "metadata": {
    "collapsed": false
   },
   "outputs": [],
   "source": [
    "for theme, keywords in themes.items():\n",
    "    for keyword in keywords:\n",
    "        hits = responses.map(lambda text: keywords_or(text, [keyword]))\n",
    "        counts[keyword] = hits.sum()"
   ]
  },
  {
   "cell_type": "code",
   "execution_count": 26,
   "metadata": {
    "collapsed": true
   },
   "outputs": [],
   "source": [
    "hist = pd.Series(counts).sort_values()"
   ]
  },
  {
   "cell_type": "code",
   "execution_count": 27,
   "metadata": {
    "collapsed": false
   },
   "outputs": [
    {
     "data": {
      "image/png": "[encoded data removed]",
      "text/plain": [
       "<matplotlib.figure.Figure at 0x7fd0f98e9400>"
      ]
     },
     "metadata": {},
     "output_type": "display_data"
    }
   ],
   "source": [
    "ax = hist[-30:].plot.barh(figsize=(8, 8))\n",
    "_ = ax.set_xlabel('Mentions')"
   ]
  },
  {
   "cell_type": "markdown",
   "metadata": {
    "collapsed": true
   },
   "source": [
    "## Persist\n",
    "\n",
    "I save off the themes and keywords to a DataFrame with the same index as the original so that the entries can be tagged."
   ]
  },
  {
   "cell_type": "code",
   "execution_count": 28,
   "metadata": {
    "collapsed": true
   },
   "outputs": [],
   "source": [
    "column = 'difficult_aspects'"
   ]
  },
  {
   "cell_type": "code",
   "execution_count": 29,
   "metadata": {
    "collapsed": true
   },
   "outputs": [],
   "source": [
    "themes_df = tagged.themes.to_frame()"
   ]
  },
  {
   "cell_type": "code",
   "execution_count": 30,
   "metadata": {
    "collapsed": true
   },
   "outputs": [],
   "source": [
    "themes_df = themes_df.rename(columns={'themes' : column+'_themes'})"
   ]
  },
  {
   "cell_type": "code",
   "execution_count": 31,
   "metadata": {
    "collapsed": true
   },
   "outputs": [],
   "source": [
    "themes_df[column+'_keywords'] = ''"
   ]
  },
  {
   "cell_type": "code",
   "execution_count": 32,
   "metadata": {
    "collapsed": true
   },
   "outputs": [],
   "source": [
    "for theme, keywords in themes.items():\n",
    "    for keyword in keywords:\n",
    "        results = responses.map(lambda text: keywords_or(text, [keyword]))\n",
    "        themes_df.loc[results, column+'_keywords'] += keyword + ','"
   ]
  },
  {
   "cell_type": "code",
   "execution_count": 33,
   "metadata": {
    "collapsed": true
   },
   "outputs": [],
   "source": [
    "themes_df[column+'_themes'] = themes_df[column+'_themes'].str.rstrip(',')\n",
    "themes_df[column+'_keywords'] = themes_df[column+'_keywords'].str.rstrip(',')"
   ]
  },
  {
   "cell_type": "markdown",
   "metadata": {},
   "source": [
    "Up above, I merged the three response fields for the question into one common pool which means we can have duplicate index value in the themes DataFrame. We need to squash these down and remove duplicates."
   ]
  },
  {
   "cell_type": "code",
   "execution_count": 34,
   "metadata": {
    "collapsed": true
   },
   "outputs": [],
   "source": [
    "def union(group_df):\n",
    "    '''Gets the set union of themes and keywords for a given DataFrame.'''\n",
    "    themes = group_df[column+'_themes'].str.cat(sep=',')\n",
    "    themes = list(set(themes.split(',')))\n",
    "    themes = ','.join(theme for theme in themes if theme)\n",
    "    \n",
    "    keywords = group_df[column+'_keywords'].str.cat(sep=',')\n",
    "    keywords = list(set(keywords.split(',')))\n",
    "    keywords = ','.join(keyword for keyword in keywords if keyword)\n",
    "    return pd.Series([themes, keywords], index=[column+'_themes', column+'_keywords'])"
   ]
  },
  {
   "cell_type": "markdown",
   "metadata": {},
   "source": [
    "We group by the index and union the themes and keywords."
   ]
  },
  {
   "cell_type": "code",
   "execution_count": 35,
   "metadata": {
    "collapsed": true
   },
   "outputs": [],
   "source": [
    "themes_df = themes_df.groupby(themes_df.index).apply(union)"
   ]
  },
  {
   "cell_type": "code",
   "execution_count": 36,
   "metadata": {
    "collapsed": false
   },
   "outputs": [
    {
     "data": {
      "text/html": [
       "<div>\n",
       "<table border=\"1\" class=\"dataframe\">\n",
       "  <thead>\n",
       "    <tr style=\"text-align: right;\">\n",
       "      <th></th>\n",
       "      <th>difficult_aspects_themes</th>\n",
       "      <th>difficult_aspects_keywords</th>\n",
       "    </tr>\n",
       "  </thead>\n",
       "  <tbody>\n",
       "    <tr>\n",
       "      <th>1</th>\n",
       "      <td>development</td>\n",
       "      <td>diff(s|ing)?($|\\W)</td>\n",
       "    </tr>\n",
       "    <tr>\n",
       "      <th>5</th>\n",
       "      <td>development</td>\n",
       "      <td>workspace|ides?($|\\W),variables</td>\n",
       "    </tr>\n",
       "    <tr>\n",
       "      <th>6</th>\n",
       "      <td>hosting,version_control</td>\n",
       "      <td>install(ation)?|(spun\\s|setting\\s|standing\\s|(start|set)(\\s|-)?)up,(version|source) (control|management|tracking|history|notebooks)</td>\n",
       "    </tr>\n",
       "    <tr>\n",
       "      <th>7</th>\n",
       "      <td>dissemination,version_control</td>\n",
       "      <td>report generation,(version|source) (control|management|tracking|history|notebooks)</td>\n",
       "    </tr>\n",
       "    <tr>\n",
       "      <th>10</th>\n",
       "      <td></td>\n",
       "      <td></td>\n",
       "    </tr>\n",
       "  </tbody>\n",
       "</table>\n",
       "</div>"
      ],
      "text/plain": [
       "         difficult_aspects_themes  \\\n",
       "1                     development   \n",
       "5                     development   \n",
       "6         hosting,version_control   \n",
       "7   dissemination,version_control   \n",
       "10                                  \n",
       "\n",
       "                                                                                                             difficult_aspects_keywords  \n",
       "1                                                                                                                    diff(s|ing)?($|\\W)  \n",
       "5                                                                                                       workspace|ides?($|\\W),variables  \n",
       "6   install(ation)?|(spun\\s|setting\\s|standing\\s|(start|set)(\\s|-)?)up,(version|source) (control|management|tracking|history|notebooks)  \n",
       "7                                                    report generation,(version|source) (control|management|tracking|history|notebooks)  \n",
       "10                                                                                                                                       "
      ]
     },
     "execution_count": 36,
     "metadata": {},
     "output_type": "execute_result"
    }
   ],
   "source": [
    "themes_df.head()"
   ]
  },
  {
   "cell_type": "markdown",
   "metadata": {},
   "source": [
    "The themes DataFrame should have as many rows as there are non-null responses in the original DataFrame."
   ]
  },
  {
   "cell_type": "code",
   "execution_count": 37,
   "metadata": {
    "collapsed": true
   },
   "outputs": [],
   "source": [
    "assert len(themes_df) == len(df[[column+'_1', column+'_2', column+'_3']].dropna(how='all'))"
   ]
  },
  {
   "cell_type": "code",
   "execution_count": 38,
   "metadata": {
    "collapsed": true
   },
   "outputs": [],
   "source": [
    "themes_df.to_csv(column + '_themes.csv', sep=';')"
   ]
  },
  {
   "cell_type": "code",
   "execution_count": null,
   "metadata": {
    "collapsed": true
   },
   "outputs": [],
   "source": []
  }
 ],
 "metadata": {
  "kernelspec": {
   "display_name": "Python 3",
   "language": "python",
   "name": "python3"
  },
  "language_info": {
   "codemirror_mode": {
    "name": "ipython",
    "version": 3
   },
   "file_extension": ".py",
   "mimetype": "text/x-python",
   "name": "python",
   "nbconvert_exporter": "python",
   "pygments_lexer": "ipython3",
   "version": "3.4.4"
  }
 },
 "nbformat": 4,
 "nbformat_minor": 0
}
