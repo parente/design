{
 "cells": [
  {
   "cell_type": "markdown",
   "metadata": {},
   "source": [
    "# Response Themes for \"What aspects of Jupyter Notebook make it difficult to use in your workflow?\"\n",
    "\n",
    "* Goal: Extract theme keywords from `difficult_aspects` responses.\n",
    "* Data: Output from 2_clean_survey.ipynb notebook (`survey_short_columns.csv`)\n",
    "* Process from [1_ux_survey_review.ipynb](1_ux_survey_review.ipynb):\n",
    "\n",
    "> Moving forward, here's a semi-automatic procedure we can follow for identifying themes across questions:\n",
    "> 1. Take a random sample of question responses\n",
    "> 2. Write down common theme keywords\n",
    "> 3. Search back through the responses using the theme keywords\n",
    "> 4. Expand the set of keywords with other words seen in the search results\n",
    "> 5. Repeat for all themes and questions\n",
    "> Later, we can use a fully automated topic modeling approach to validate our manually generated themes."
   ]
  },
  {
   "cell_type": "code",
   "execution_count": 1,
   "metadata": {
    "collapsed": true
   },
   "outputs": [],
   "source": [
    "import warnings\n",
    "warnings.filterwarnings(\"ignore\")"
   ]
  },
  {
   "cell_type": "code",
   "execution_count": 2,
   "metadata": {
    "collapsed": false
   },
   "outputs": [],
   "source": [
    "%matplotlib inline"
   ]
  },
  {
   "cell_type": "code",
   "execution_count": 3,
   "metadata": {
    "collapsed": true
   },
   "outputs": [],
   "source": [
    "import pandas as pd\n",
    "import numpy as np"
   ]
  },
  {
   "cell_type": "markdown",
   "metadata": {},
   "source": [
    "Make sure the samples come up the same for anyone that re-runs this."
   ]
  },
  {
   "cell_type": "code",
   "execution_count": 4,
   "metadata": {
    "collapsed": false
   },
   "outputs": [],
   "source": [
    "rs = np.random.RandomState(123)"
   ]
  },
  {
   "cell_type": "code",
   "execution_count": 5,
   "metadata": {
    "collapsed": true
   },
   "outputs": [],
   "source": [
    "pd.set_option('max_colwidth', 1000)"
   ]
  },
  {
   "cell_type": "code",
   "execution_count": 6,
   "metadata": {
    "collapsed": true
   },
   "outputs": [],
   "source": [
    "df = pd.read_csv('survey_short_columns.csv')"
   ]
  },
  {
   "cell_type": "code",
   "execution_count": 7,
   "metadata": {
    "collapsed": true
   },
   "outputs": [],
   "source": [
    "def show(series):\n",
    "    '''Make random samples easier to read.'''\n",
    "    for i, value in enumerate(series):\n",
    "        print('{}) {}'.format(i, value), end='\\n\\n')"
   ]
  },
  {
   "cell_type": "code",
   "execution_count": 8,
   "metadata": {
    "collapsed": false
   },
   "outputs": [],
   "source": [
    "responses = pd.concat([df.difficult_aspects_1, df.difficult_aspects_2, df.difficult_aspects_3], ignore_index=True)"
   ]
  },
  {
   "cell_type": "code",
   "execution_count": 9,
   "metadata": {
    "collapsed": true
   },
   "outputs": [],
   "source": [
    "assert len(responses) == len(df) * 3"
   ]
  },
  {
   "cell_type": "code",
   "execution_count": 10,
   "metadata": {
    "collapsed": false
   },
   "outputs": [
    {
     "data": {
      "text/plain": [
       "True     4216\n",
       "False     902\n",
       "dtype: int64"
      ]
     },
     "execution_count": 10,
     "metadata": {},
     "output_type": "execute_result"
    }
   ],
   "source": [
    "responses.isnull().value_counts()"
   ]
  },
  {
   "cell_type": "code",
   "execution_count": 11,
   "metadata": {
    "collapsed": true
   },
   "outputs": [],
   "source": [
    "responses = responses.dropna()"
   ]
  },
  {
   "cell_type": "markdown",
   "metadata": {},
   "source": [
    "## Initial Samples\n",
    "\n",
    "I ran the sampling code below multiple times and manually built up the initial set of keywords seen commonly across them. I formed groups of conceptually related keywords. Then I tried to assign a simple label to each group."
   ]
  },
  {
   "cell_type": "code",
   "execution_count": 12,
   "metadata": {
    "collapsed": false,
    "scrolled": false
   },
   "outputs": [
    {
     "name": "stdout",
     "output_type": "stream",
     "text": [
      "0) runnning notebooks in batch\n",
      "\n",
      "1) Relatively hard installation, not simply an app\n",
      "\n",
      "2) would be nice to be able to import one notebook into another\n",
      "\n",
      "3) Lack of document structure manipulation\n",
      "\n",
      "4) Terminal mode doesn't handle keyboard shortcuts well\n",
      "\n",
      "5) Connecting to diverse data sources\n",
      "\n",
      "6) Code reuse\n",
      "\n",
      "7) no concrete status info on running calculations (What does my Python process do that has been running for ages now?)\n",
      "\n",
      "8) Python 3 vs 2 problems\n",
      "\n",
      "9) Out-of-order execution\n",
      "\n",
      "10) Package updates\n",
      "\n",
      "11) Very limited editing facilities (search-and-replace???)\n",
      "\n",
      "12) Vanilla jupyter notebook is unwieldy with long notebooks (but mitigated by TOC extension, section folding,...)\n",
      "\n",
      "13) Control over matplotlib graphs still a bit limited and clumsy\n",
      "\n",
      "14) No emacs-style bindings for editing code\n",
      "\n",
      "15) Deploying to the cloud requires a brain + setup time. Should be brainless and next to instantaneous\n",
      "\n",
      "16) Losing state -- restarting the kernel\n",
      "\n",
      "17) the kernel needs to be restarted to reload modules (though this is actually due to Python), leading to the loss of already computed data; this is probably fixed by organizing the code better\n",
      "\n",
      "18) mishmash of tools with varyingly different apis\n",
      "\n",
      "19) The resulting program must be copy/pasted or exported into plain python and then validated again\n",
      "\n"
     ]
    }
   ],
   "source": [
    "show(responses.sample(20, random_state=rs))"
   ]
  },
  {
   "cell_type": "code",
   "execution_count": 642,
   "metadata": {
    "collapsed": false
   },
   "outputs": [],
   "source": [
    "themes = {\n",
    "    'ux': ['manipulating cells', 'mouse', 'copy-paste', 'copy and paste', 'copy&paste', 'c&p', 'double-click',\n",
    "           'double click', 'and paste', 'multi cell', 'modal', 'muddle', 'double-clicking', 'messy', 'cell ordering', \n",
    "           'wasted space', 'scrollbar', 'scroll bar', 'scrolling', 'scroll', 'jump', 'jumping', 'status', 'drag-and', \n",
    "           'cell execution numbers', 'theme', 'font', 'numbering', 'numbered cells', 'icons', 'tab function', \n",
    "           'multiple cells', 'undo', 'indo', 'cells up and down',  'clunky',  'cells out of place', 'too small',\n",
    "           'ui feels like 1993', 'more clicks', 'move cells', 'lack of accessibility', 'rearranging', 'click on',\n",
    "           'screen space', 'too much whitespace', 'collapse code', 'open notebooks', 'launching the notebook', \n",
    "           'contrast', 'right-click', 'hard to navigate', 'css', 'width', 'margins', 'small screens', 'bloated ui',\n",
    "           'print', 'printing', 'tablet', 'mobile', 'hide', 'clutter', ],\n",
    "    'performance': ['performance', 'slow', 'slower', ],\n",
    "    'stability': ['freeze', 'hang up', 'reboot', 'rebooting', 'restarting kernel', 'crashes', 'testing', 'hanging', \n",
    "                  'hangs', 'brittle', 'work is lost', 'dying', 'dies', 'lose state', 'losing state', 'preserve state',\n",
    "                  'kernel restarts', \n",
    "                  'kernel died/restarting', 'locks up', ],\n",
    "    'versions': ['versions', 'versioning', 'versionning', '3 vs 2', 'v3', 'package updates', 'changing api', \n",
    "                 'dependencies', 'conda',\n",
    "                 'software version', 'package management', 'version upgrades', 'incompatibilities', ],\n",
    "    'version_control': ['version control', 'git', 'version management', 'version tracking', 'version history',\n",
    "                        'control version', 'not versioned', 'source control', 'version-controlled', \n",
    "                        'version notebooks', ],\n",
    "    'hosting': ['deploying', 'cloud', 'installation', 'production', 'spun up', 'client-server', 'startup', \n",
    "                'setting up', 'server', 'hosting', 'install', 'deploy', 'virtualenv', 'virtual environment', \n",
    "                'resource intensive', 'start-up', 'getting it setup', 'memory use', 'memory usage', \n",
    "                'environment set up', 'hosted service', 'configuration', 'configuring', 'remote access', 'native', ],\n",
    "    'documentation': ['documentation', 'not enough docs', ],\n",
    "    'editor': ['editor', 'code editing', 'editing code', 'linting', 'fold code', \n",
    "               'autocompletion', 'rename all', 'editing', 'emacs', 'vim', 'code completion', 'code review', 'no vi',\n",
    "               'hard to edit', 'multiple cursor', 'multiple curser', 'completion of parenthesis', 'tab completion', \n",
    "               'keyboard', 'autocomplete', 'shortcuts', 'shortcut',\n",
    "               'hotkeys', 'keybindings', 'key combinations',  ],\n",
    "    'programming': ['too much programming', 'namespace', 'everything is global', 'programming practices',\n",
    "                    'remain in memory', 'modules', 'code re-use', 'code reuse', 'port analysis', 'variables', \n",
    "                    'portability', 'bad programming', 'api',\n",
    "                    'hard to port', 'multiprocessing', 'parallel code', 'parallel programming', ],\n",
    "    'language': ['python', 'language', 'language support', ],\n",
    "    'content_management': ['content management', 'notebook management', 'long notebooks', 'file system', 'filesystem', \n",
    "                           'search-and-replace', 'search', 'file management', 'find and', 'managing notebooks',\n",
    "                           'notebook directory', 'file explorer', 'large files', 'large notebooks', \n",
    "                           'navigation tools', 'where all my notebooks are', 'multiple files', 'structure notebooks', \n",
    "                           'file browser', 'create folders', 'managing multiple text files', 'split a notebook', \n",
    "                           'directory management', 'large projects', 'default directory', 'work directory', \n",
    "                           'finding things', 'directories', ],\n",
    "    'not_an_ide': ['breakpoints', 'profiling', 'full ide', 'look at all variables', 'ides plugins', \n",
    "                   'development environment', 'tips', 'environment window', 'debugger', 'debugging', 'debug tools', \n",
    "                   'loaded variables', 'ide features', 'built in ide', 'ide support', 'not and ide', 'ide is limited',\n",
    "                   'debug errors', 'spell check', 'workspace', 'inferior as an ide', 'code structure',\n",
    "                   'debug', ],\n",
    "    'collab': ['collaboration', 'sharing', 'share', 'distribution', 'exporting', 'share',\n",
    "               'pdf export',  'export to pdf', 'nbconvert', 'collaborate', 'multiple authors', 'document conversion',\n",
    "               ],\n",
    "    'dashboards': ['interactivity in charts', 'interactive widgets', 'interactive plots', 'dashboard mode', \n",
    "                   'non-interactive graphs', 'presentation mode', '\"view only\" mode', 'interactivity in charts',\n",
    "                   'report generation', 'presentations', 'interactive graphic', ],\n",
    "    'multi_user': ['multi-user', 'multiuser', 'single user', 'single computer', 'permissions', 'permission', \n",
    "                   'jupyterhub', 'personalization',],\n",
    "    'web_based': ['web based', 'browser',], \n",
    "    'file_format': ['json files', 'ipynb file', '.py files', 'filesize', 'notebook format', '.ipynb', 'large documents',\n",
    "                   ], \n",
    "}"
   ]
  },
  {
   "cell_type": "markdown",
   "metadata": {},
   "source": [
    "## Coverage Improvement\n",
    "\n",
    "I next ran the code below to associate the theme labels with the responses. I then iterated on running the code below to find reponses without labels. I expanded the list of keywords and themes above in order to improve coverage."
   ]
  },
  {
   "cell_type": "code",
   "execution_count": 643,
   "metadata": {
    "collapsed": true
   },
   "outputs": [],
   "source": [
    "import re"
   ]
  },
  {
   "cell_type": "code",
   "execution_count": 644,
   "metadata": {
    "collapsed": true
   },
   "outputs": [],
   "source": [
    "def keywords_or(text, keywords):\n",
    "    for keyword in keywords:\n",
    "        if re.search('(^|\\W+){}'.format(keyword), text, re.IGNORECASE):\n",
    "            return True\n",
    "    return False"
   ]
  },
  {
   "cell_type": "code",
   "execution_count": 645,
   "metadata": {
    "collapsed": false
   },
   "outputs": [],
   "source": [
    "def tag_themes(data, themes):\n",
    "    tagged = data.to_frame()\n",
    "    tagged['themes'] = ''\n",
    "    for theme, keywords in themes.items():\n",
    "        results = data.map(lambda text: keywords_or(text, keywords))\n",
    "        tagged.loc[results, 'themes'] += theme + ','\n",
    "        print(theme, results.sum())\n",
    "    return tagged"
   ]
  },
  {
   "cell_type": "code",
   "execution_count": 646,
   "metadata": {
    "collapsed": false
   },
   "outputs": [
    {
     "name": "stdout",
     "output_type": "stream",
     "text": [
      "hosting 79\n",
      "language 36\n",
      "documentation 15\n",
      "not_an_ide 48\n",
      "dashboards 13\n",
      "ux 132\n",
      "version_control 70\n",
      "collab 40\n",
      "editor 109\n",
      "web_based 33\n",
      "programming 39\n",
      "performance 15\n",
      "content_management 48\n",
      "versions 30\n",
      "multi_user 10\n",
      "stability 29\n",
      "file_format 14\n"
     ]
    },
    {
     "data": {
      "text/plain": [
       "1    573\n",
       "0    239\n",
       "2     83\n",
       "3      7\n",
       "Name: themes, dtype: int64"
      ]
     },
     "execution_count": 646,
     "metadata": {},
     "output_type": "execute_result"
    }
   ],
   "source": [
    "tagged = tag_themes(responses, themes)\n",
    "tagged.themes.str.count(',').value_counts()"
   ]
  },
  {
   "cell_type": "code",
   "execution_count": 647,
   "metadata": {
    "collapsed": false
   },
   "outputs": [
    {
     "data": {
      "text/html": [
       "<div>\n",
       "<table border=\"1\" class=\"dataframe\">\n",
       "  <thead>\n",
       "    <tr style=\"text-align: right;\">\n",
       "      <th></th>\n",
       "      <th>0</th>\n",
       "      <th>themes</th>\n",
       "    </tr>\n",
       "  </thead>\n",
       "  <tbody>\n",
       "    <tr>\n",
       "      <th>264</th>\n",
       "      <td>not as interactive as ipython console</td>\n",
       "      <td></td>\n",
       "    </tr>\n",
       "    <tr>\n",
       "      <th>377</th>\n",
       "      <td>Need to start from command line in correct directory</td>\n",
       "      <td></td>\n",
       "    </tr>\n",
       "    <tr>\n",
       "      <th>1400</th>\n",
       "      <td>Notebooks stored on local disk</td>\n",
       "      <td></td>\n",
       "    </tr>\n",
       "    <tr>\n",
       "      <th>4927</th>\n",
       "      <td>Lack of bibliography support (out of the box)</td>\n",
       "      <td></td>\n",
       "    </tr>\n",
       "    <tr>\n",
       "      <th>534</th>\n",
       "      <td>Running from command line</td>\n",
       "      <td></td>\n",
       "    </tr>\n",
       "    <tr>\n",
       "      <th>160</th>\n",
       "      <td>Merging and diffing</td>\n",
       "      <td></td>\n",
       "    </tr>\n",
       "    <tr>\n",
       "      <th>2522</th>\n",
       "      <td>Difficult to manage large number of notebooks (&gt;20-30 say)</td>\n",
       "      <td></td>\n",
       "    </tr>\n",
       "    <tr>\n",
       "      <th>366</th>\n",
       "      <td>Difficult customisation</td>\n",
       "      <td></td>\n",
       "    </tr>\n",
       "    <tr>\n",
       "      <th>394</th>\n",
       "      <td>Single page</td>\n",
       "      <td></td>\n",
       "    </tr>\n",
       "    <tr>\n",
       "      <th>2257</th>\n",
       "      <td>Moving blocks of cells</td>\n",
       "      <td></td>\n",
       "    </tr>\n",
       "    <tr>\n",
       "      <th>3493</th>\n",
       "      <td>It is often difficult to get useful information about a variable or object</td>\n",
       "      <td></td>\n",
       "    </tr>\n",
       "    <tr>\n",
       "      <th>1504</th>\n",
       "      <td>lack of diffing</td>\n",
       "      <td></td>\n",
       "    </tr>\n",
       "    <tr>\n",
       "      <th>4330</th>\n",
       "      <td>hard to run just 1 line or part of a line</td>\n",
       "      <td></td>\n",
       "    </tr>\n",
       "    <tr>\n",
       "      <th>2127</th>\n",
       "      <td>inferior as a end-end-user friendly tool</td>\n",
       "      <td></td>\n",
       "    </tr>\n",
       "    <tr>\n",
       "      <th>1705</th>\n",
       "      <td>couldn't figure out how to use CRUD features in the UI; had to create files using bash</td>\n",
       "      <td></td>\n",
       "    </tr>\n",
       "    <tr>\n",
       "      <th>1635</th>\n",
       "      <td>Control the situation with many boxes</td>\n",
       "      <td></td>\n",
       "    </tr>\n",
       "    <tr>\n",
       "      <th>1192</th>\n",
       "      <td>Reuse notebook as a script in a larger project</td>\n",
       "      <td></td>\n",
       "    </tr>\n",
       "    <tr>\n",
       "      <th>3373</th>\n",
       "      <td>lack of interactitvity in charts (e.g. marking ROI)</td>\n",
       "      <td></td>\n",
       "    </tr>\n",
       "    <tr>\n",
       "      <th>3089</th>\n",
       "      <td>R's Knitr has options of showing or hiding code chunks easily</td>\n",
       "      <td></td>\n",
       "    </tr>\n",
       "    <tr>\n",
       "      <th>3782</th>\n",
       "      <td>Control over matplotlib graphs still a bit limited and clumsy</td>\n",
       "      <td></td>\n",
       "    </tr>\n",
       "    <tr>\n",
       "      <th>2780</th>\n",
       "      <td>would be nice to be able to import one notebook into another</td>\n",
       "      <td></td>\n",
       "    </tr>\n",
       "    <tr>\n",
       "      <th>1460</th>\n",
       "      <td>The big size of plots</td>\n",
       "      <td></td>\n",
       "    </tr>\n",
       "    <tr>\n",
       "      <th>2059</th>\n",
       "      <td>cell organization/refactoring on larger notebooks</td>\n",
       "      <td></td>\n",
       "    </tr>\n",
       "    <tr>\n",
       "      <th>3768</th>\n",
       "      <td>Unusual assumptions about bracket creation.</td>\n",
       "      <td></td>\n",
       "    </tr>\n",
       "    <tr>\n",
       "      <th>93</th>\n",
       "      <td>better DB connections</td>\n",
       "      <td></td>\n",
       "    </tr>\n",
       "    <tr>\n",
       "      <th>290</th>\n",
       "      <td>The fact that I cannot easily set a block of coffee and comment it out</td>\n",
       "      <td></td>\n",
       "    </tr>\n",
       "    <tr>\n",
       "      <th>3031</th>\n",
       "      <td>No built-in nbserver UI</td>\n",
       "      <td></td>\n",
       "    </tr>\n",
       "    <tr>\n",
       "      <th>286</th>\n",
       "      <td>Nothing!</td>\n",
       "      <td></td>\n",
       "    </tr>\n",
       "    <tr>\n",
       "      <th>1737</th>\n",
       "      <td>interface with other file formats - xls, pdf, txt, xml</td>\n",
       "      <td></td>\n",
       "    </tr>\n",
       "    <tr>\n",
       "      <th>340</th>\n",
       "      <td>it's difficult to edit code as I do in others eviorents as atom or sublime text</td>\n",
       "      <td></td>\n",
       "    </tr>\n",
       "    <tr>\n",
       "      <th>1943</th>\n",
       "      <td>No completion/suggestions in script files.</td>\n",
       "      <td></td>\n",
       "    </tr>\n",
       "    <tr>\n",
       "      <th>2241</th>\n",
       "      <td>Hard to get an overview of code if more than 100 lines or so</td>\n",
       "      <td></td>\n",
       "    </tr>\n",
       "    <tr>\n",
       "      <th>1346</th>\n",
       "      <td>A dev</td>\n",
       "      <td></td>\n",
       "    </tr>\n",
       "    <tr>\n",
       "      <th>1464</th>\n",
       "      <td>Lack of tools to structure the notebook (collapsible sections, table of contents)</td>\n",
       "      <td></td>\n",
       "    </tr>\n",
       "    <tr>\n",
       "      <th>472</th>\n",
       "      <td>need to restart kernel (three clicks!) when I change a module</td>\n",
       "      <td></td>\n",
       "    </tr>\n",
       "    <tr>\n",
       "      <th>1212</th>\n",
       "      <td>Can't run notebooks from the command line in a make file</td>\n",
       "      <td></td>\n",
       "    </tr>\n",
       "    <tr>\n",
       "      <th>671</th>\n",
       "      <td>Not integrated with test running</td>\n",
       "      <td></td>\n",
       "    </tr>\n",
       "    <tr>\n",
       "      <th>4218</th>\n",
       "      <td>cumbersome/tedious to visualise data</td>\n",
       "      <td></td>\n",
       "    </tr>\n",
       "    <tr>\n",
       "      <th>2685</th>\n",
       "      <td>run repetitive tasks</td>\n",
       "      <td></td>\n",
       "    </tr>\n",
       "    <tr>\n",
       "      <th>1746</th>\n",
       "      <td>No way to highlight a set of cells to run as a unit</td>\n",
       "      <td></td>\n",
       "    </tr>\n",
       "    <tr>\n",
       "      <th>838</th>\n",
       "      <td>No Streaming stdout</td>\n",
       "      <td></td>\n",
       "    </tr>\n",
       "    <tr>\n",
       "      <th>3797</th>\n",
       "      <td>New \"modes\" feature is not intuitive and hinders productivity</td>\n",
       "      <td></td>\n",
       "    </tr>\n",
       "    <tr>\n",
       "      <th>4240</th>\n",
       "      <td>using external scripts breaks the one-file model</td>\n",
       "      <td></td>\n",
       "    </tr>\n",
       "    <tr>\n",
       "      <th>669</th>\n",
       "      <td>Sometimes is hard to just play around, need to cleanup a lot: switch to</td>\n",
       "      <td></td>\n",
       "    </tr>\n",
       "    <tr>\n",
       "      <th>863</th>\n",
       "      <td>state persistence (typo in function and you're damned to use previous one)</td>\n",
       "      <td></td>\n",
       "    </tr>\n",
       "    <tr>\n",
       "      <th>4495</th>\n",
       "      <td>Notebook-&gt;module transition has a high barrier</td>\n",
       "      <td></td>\n",
       "    </tr>\n",
       "    <tr>\n",
       "      <th>1076</th>\n",
       "      <td>hard to keep track which cells have been modified since last run</td>\n",
       "      <td></td>\n",
       "    </tr>\n",
       "    <tr>\n",
       "      <th>150</th>\n",
       "      <td>help panel (better to expand horizontally)</td>\n",
       "      <td></td>\n",
       "    </tr>\n",
       "    <tr>\n",
       "      <th>1</th>\n",
       "      <td>difficult to diff changes, especially with large plot data blocks</td>\n",
       "      <td></td>\n",
       "    </tr>\n",
       "    <tr>\n",
       "      <th>781</th>\n",
       "      <td>keeping the code organized for multiple notebooks</td>\n",
       "      <td></td>\n",
       "    </tr>\n",
       "  </tbody>\n",
       "</table>\n",
       "</div>"
      ],
      "text/plain": [
       "                                                                                           0  \\\n",
       "264                                                    not as interactive as ipython console   \n",
       "377                                     Need to start from command line in correct directory   \n",
       "1400                                                          Notebooks stored on local disk   \n",
       "4927                                           Lack of bibliography support (out of the box)   \n",
       "534                                                                Running from command line   \n",
       "160                                                                      Merging and diffing   \n",
       "2522                              Difficult to manage large number of notebooks (>20-30 say)   \n",
       "366                                                                 Difficult customisation    \n",
       "394                                                                              Single page   \n",
       "2257                                                                  Moving blocks of cells   \n",
       "3493              It is often difficult to get useful information about a variable or object   \n",
       "1504                                                                         lack of diffing   \n",
       "4330                                               hard to run just 1 line or part of a line   \n",
       "2127                                                inferior as a end-end-user friendly tool   \n",
       "1705  couldn't figure out how to use CRUD features in the UI; had to create files using bash   \n",
       "1635                                                   Control the situation with many boxes   \n",
       "1192                                          Reuse notebook as a script in a larger project   \n",
       "3373                                     lack of interactitvity in charts (e.g. marking ROI)   \n",
       "3089                           R's Knitr has options of showing or hiding code chunks easily   \n",
       "3782                           Control over matplotlib graphs still a bit limited and clumsy   \n",
       "2780                            would be nice to be able to import one notebook into another   \n",
       "1460                                                                   The big size of plots   \n",
       "2059                                       cell organization/refactoring on larger notebooks   \n",
       "3768                                             Unusual assumptions about bracket creation.   \n",
       "93                                                                     better DB connections   \n",
       "290                  The fact that I cannot easily set a block of coffee and comment it out    \n",
       "3031                                                                 No built-in nbserver UI   \n",
       "286                                                                                 Nothing!   \n",
       "1737                                  interface with other file formats - xls, pdf, txt, xml   \n",
       "340          it's difficult to edit code as I do in others eviorents as atom or sublime text   \n",
       "1943                                              No completion/suggestions in script files.   \n",
       "2241                            Hard to get an overview of code if more than 100 lines or so   \n",
       "1346                                                                                   A dev   \n",
       "1464       Lack of tools to structure the notebook (collapsible sections, table of contents)   \n",
       "472                            need to restart kernel (three clicks!) when I change a module   \n",
       "1212                               Can't run notebooks from the command line in a make file    \n",
       "671                                                         Not integrated with test running   \n",
       "4218                                                    cumbersome/tedious to visualise data   \n",
       "2685                                                                    run repetitive tasks   \n",
       "1746                                     No way to highlight a set of cells to run as a unit   \n",
       "838                                                                      No Streaming stdout   \n",
       "3797                           New \"modes\" feature is not intuitive and hinders productivity   \n",
       "4240                                        using external scripts breaks the one-file model   \n",
       "669                 Sometimes is hard to just play around, need to cleanup a lot: switch to    \n",
       "863               state persistence (typo in function and you're damned to use previous one)   \n",
       "4495                                          Notebook->module transition has a high barrier   \n",
       "1076                        hard to keep track which cells have been modified since last run   \n",
       "150                                               help panel (better to expand horizontally)   \n",
       "1                          difficult to diff changes, especially with large plot data blocks   \n",
       "781                                        keeping the code organized for multiple notebooks   \n",
       "\n",
       "     themes  \n",
       "264          \n",
       "377          \n",
       "1400         \n",
       "4927         \n",
       "534          \n",
       "160          \n",
       "2522         \n",
       "366          \n",
       "394          \n",
       "2257         \n",
       "3493         \n",
       "1504         \n",
       "4330         \n",
       "2127         \n",
       "1705         \n",
       "1635         \n",
       "1192         \n",
       "3373         \n",
       "3089         \n",
       "3782         \n",
       "2780         \n",
       "1460         \n",
       "2059         \n",
       "3768         \n",
       "93           \n",
       "290          \n",
       "3031         \n",
       "286          \n",
       "1737         \n",
       "340          \n",
       "1943         \n",
       "2241         \n",
       "1346         \n",
       "1464         \n",
       "472          \n",
       "1212         \n",
       "671          \n",
       "4218         \n",
       "2685         \n",
       "1746         \n",
       "838          \n",
       "3797         \n",
       "4240         \n",
       "669          \n",
       "863          \n",
       "4495         \n",
       "1076         \n",
       "150          \n",
       "1            \n",
       "781          "
      ]
     },
     "execution_count": 647,
     "metadata": {},
     "output_type": "execute_result"
    }
   ],
   "source": [
    "tagged[tagged.themes.str.len() == 0].sample(50, random_state=rs)"
   ]
  },
  {
   "cell_type": "markdown",
   "metadata": {},
   "source": [
    "## Precision Check\n",
    "\n",
    "I then studied a sample of responses for each theme to see if there major inaccuracies in their application (e.g., string matches that are too fuzzy)."
   ]
  },
  {
   "cell_type": "code",
   "execution_count": 648,
   "metadata": {
    "collapsed": false
   },
   "outputs": [
    {
     "name": "stdout",
     "output_type": "stream",
     "text": [
      "hosting 79\n",
      "language 36\n",
      "documentation 15\n",
      "not_an_ide 48\n",
      "dashboards 13\n",
      "ux 132\n",
      "version_control 70\n",
      "collab 40\n",
      "editor 109\n",
      "web_based 33\n",
      "programming 39\n",
      "performance 15\n",
      "content_management 48\n",
      "versions 30\n",
      "multi_user 10\n",
      "stability 29\n",
      "file_format 14\n"
     ]
    },
    {
     "data": {
      "text/plain": [
       "1    573\n",
       "0    239\n",
       "2     83\n",
       "3      7\n",
       "Name: themes, dtype: int64"
      ]
     },
     "execution_count": 648,
     "metadata": {},
     "output_type": "execute_result"
    }
   ],
   "source": [
    "tagged = tag_themes(responses, themes)\n",
    "tagged.themes.str.count(',').value_counts()"
   ]
  },
  {
   "cell_type": "code",
   "execution_count": 649,
   "metadata": {
    "collapsed": true
   },
   "outputs": [],
   "source": [
    "from IPython.display import display, clear_output"
   ]
  },
  {
   "cell_type": "code",
   "execution_count": 650,
   "metadata": {
    "collapsed": false,
    "scrolled": false
   },
   "outputs": [
    {
     "data": {
      "text/html": [
       "<div>\n",
       "<table border=\"1\" class=\"dataframe\">\n",
       "  <thead>\n",
       "    <tr style=\"text-align: right;\">\n",
       "      <th></th>\n",
       "      <th>0</th>\n",
       "      <th>themes</th>\n",
       "    </tr>\n",
       "  </thead>\n",
       "  <tbody>\n",
       "    <tr>\n",
       "      <th>3717</th>\n",
       "      <td>lack of integration with the python packaging system</td>\n",
       "      <td>language,</td>\n",
       "    </tr>\n",
       "    <tr>\n",
       "      <th>1952</th>\n",
       "      <td>Inclusion of Python version number in file (for versioning)</td>\n",
       "      <td>language,versions,</td>\n",
       "    </tr>\n",
       "    <tr>\n",
       "      <th>11</th>\n",
       "      <td>The resulting program must be copy/pasted or exported into plain python and then validated again</td>\n",
       "      <td>language,</td>\n",
       "    </tr>\n",
       "    <tr>\n",
       "      <th>1092</th>\n",
       "      <td>Installation in python 2.6/el6</td>\n",
       "      <td>hosting,language,</td>\n",
       "    </tr>\n",
       "    <tr>\n",
       "      <th>4006</th>\n",
       "      <td>no concrete status info on running calculations (What does my Python process do that has been running for ages now?)</td>\n",
       "      <td>language,ux,</td>\n",
       "    </tr>\n",
       "    <tr>\n",
       "      <th>712</th>\n",
       "      <td>Managing environments (normally Python virtualenvs) + Jupyter installations manually</td>\n",
       "      <td>hosting,language,</td>\n",
       "    </tr>\n",
       "    <tr>\n",
       "      <th>4318</th>\n",
       "      <td>Lack of intra-notebook connectivity across languages</td>\n",
       "      <td>language,</td>\n",
       "    </tr>\n",
       "    <tr>\n",
       "      <th>2527</th>\n",
       "      <td>for python virtualenvs are awkward</td>\n",
       "      <td>hosting,language,</td>\n",
       "    </tr>\n",
       "    <tr>\n",
       "      <th>3020</th>\n",
       "      <td>Lack of interoperability with other python tools</td>\n",
       "      <td>language,</td>\n",
       "    </tr>\n",
       "    <tr>\n",
       "      <th>575</th>\n",
       "      <td>It's only python</td>\n",
       "      <td>language,</td>\n",
       "    </tr>\n",
       "  </tbody>\n",
       "</table>\n",
       "</div>"
      ],
      "text/plain": [
       "                                                                                                                         0  \\\n",
       "3717                                                                  lack of integration with the python packaging system   \n",
       "1952                                                           Inclusion of Python version number in file (for versioning)   \n",
       "11                        The resulting program must be copy/pasted or exported into plain python and then validated again   \n",
       "1092                                                                                        Installation in python 2.6/el6   \n",
       "4006  no concrete status info on running calculations (What does my Python process do that has been running for ages now?)   \n",
       "712                                   Managing environments (normally Python virtualenvs) + Jupyter installations manually   \n",
       "4318                                                                  Lack of intra-notebook connectivity across languages   \n",
       "2527                                                                                    for python virtualenvs are awkward   \n",
       "3020                                                                      Lack of interoperability with other python tools   \n",
       "575                                                                                                       It's only python   \n",
       "\n",
       "                  themes  \n",
       "3717           language,  \n",
       "1952  language,versions,  \n",
       "11             language,  \n",
       "1092   hosting,language,  \n",
       "4006        language,ux,  \n",
       "712    hosting,language,  \n",
       "4318           language,  \n",
       "2527   hosting,language,  \n",
       "3020           language,  \n",
       "575            language,  "
      ]
     },
     "metadata": {},
     "output_type": "display_data"
    },
    {
     "name": "stdout",
     "output_type": "stream",
     "text": [
      "Showing `language`. Type Enter to continue, \"q\" to stop.q\n"
     ]
    }
   ],
   "source": [
    "for key in themes:\n",
    "    clear_output()\n",
    "    display(tagged[tagged.themes.str.contains(key)].sample(10))\n",
    "    if input('Showing `{}`. Type Enter to continue, \"q\" to stop.'.format(key)) == 'q':\n",
    "        break"
   ]
  },
  {
   "cell_type": "markdown",
   "metadata": {},
   "source": [
    "I also looked at responses with multiple themes to fine tune them, and catch duplication of words in multiple themes."
   ]
  },
  {
   "cell_type": "code",
   "execution_count": 651,
   "metadata": {
    "collapsed": false
   },
   "outputs": [
    {
     "data": {
      "text/html": [
       "<div>\n",
       "<table border=\"1\" class=\"dataframe\">\n",
       "  <thead>\n",
       "    <tr style=\"text-align: right;\">\n",
       "      <th></th>\n",
       "      <th>0</th>\n",
       "      <th>themes</th>\n",
       "    </tr>\n",
       "  </thead>\n",
       "  <tbody>\n",
       "    <tr>\n",
       "      <th>662</th>\n",
       "      <td>Exporting non-Python code</td>\n",
       "      <td>language,collab,</td>\n",
       "    </tr>\n",
       "    <tr>\n",
       "      <th>5</th>\n",
       "      <td>no concurrent terminal with all workspace variables</td>\n",
       "      <td>not_an_ide,programming,</td>\n",
       "    </tr>\n",
       "    <tr>\n",
       "      <th>17</th>\n",
       "      <td>There's no Gitlab nbviewer integration, making it difficult for colleagues to view the notebooks without having Jupyter installed</td>\n",
       "      <td>hosting,version_control,</td>\n",
       "    </tr>\n",
       "    <tr>\n",
       "      <th>29</th>\n",
       "      <td>Scrolling through the document is often very slow and clumsy</td>\n",
       "      <td>ux,performance,</td>\n",
       "    </tr>\n",
       "    <tr>\n",
       "      <th>2431</th>\n",
       "      <td>managing notebooks from front page is clunky</td>\n",
       "      <td>ux,content_management,</td>\n",
       "    </tr>\n",
       "    <tr>\n",
       "      <th>2621</th>\n",
       "      <td>hard to share in an interactive format (static notebooks are great! but often I want an interactive graphic)</td>\n",
       "      <td>dashboards,collab,</td>\n",
       "    </tr>\n",
       "    <tr>\n",
       "      <th>2076</th>\n",
       "      <td>Block editing of cells (e.g. rearranging a lecture order) is missing</td>\n",
       "      <td>ux,editor,</td>\n",
       "    </tr>\n",
       "    <tr>\n",
       "      <th>3954</th>\n",
       "      <td>Poor editing. task: move this section to the top. You have to select a cell, copy it, scroll up, paste it, scroll back down, copy the next cell.....</td>\n",
       "      <td>ux,editor,</td>\n",
       "    </tr>\n",
       "    <tr>\n",
       "      <th>4974</th>\n",
       "      <td>lack of good options for cloud collaboration</td>\n",
       "      <td>hosting,collab,</td>\n",
       "    </tr>\n",
       "    <tr>\n",
       "      <th>1603</th>\n",
       "      <td>Version control.. it would be great to separate output from input, and store input as native (e.g., .py) files</td>\n",
       "      <td>hosting,version_control,</td>\n",
       "    </tr>\n",
       "    <tr>\n",
       "      <th>3571</th>\n",
       "      <td>Managing dependencies when sharing notebook file</td>\n",
       "      <td>collab,versions,</td>\n",
       "    </tr>\n",
       "    <tr>\n",
       "      <th>1732</th>\n",
       "      <td>Changing API - FutureWarnings/DeprecationWarnings</td>\n",
       "      <td>programming,versions,</td>\n",
       "    </tr>\n",
       "    <tr>\n",
       "      <th>3178</th>\n",
       "      <td>git and Jupyter nb are a bit messy. Diff is hard. Have to exclude some associated files from git</td>\n",
       "      <td>ux,version_control,</td>\n",
       "    </tr>\n",
       "    <tr>\n",
       "      <th>1264</th>\n",
       "      <td>Widgets API lacking in documentation</td>\n",
       "      <td>documentation,programming,</td>\n",
       "    </tr>\n",
       "    <tr>\n",
       "      <th>1230</th>\n",
       "      <td>Merge conflicts with shared notebooks very common (version control)</td>\n",
       "      <td>version_control,collab,</td>\n",
       "    </tr>\n",
       "    <tr>\n",
       "      <th>1054</th>\n",
       "      <td>Large outputs (e.g. when you forget to comment a call to print() in a loop) bog down the application until it crashes</td>\n",
       "      <td>ux,stability,</td>\n",
       "    </tr>\n",
       "    <tr>\n",
       "      <th>2492</th>\n",
       "      <td>Stderr results are not printed immediately, it is hard to monitor progress of long-running tasks (e.g. hyperparameter search in scikit-learn)</td>\n",
       "      <td>ux,content_management,</td>\n",
       "    </tr>\n",
       "    <tr>\n",
       "      <th>1016</th>\n",
       "      <td>rerunning a cell with active debugger hangs the process</td>\n",
       "      <td>not_an_ide,stability,</td>\n",
       "    </tr>\n",
       "    <tr>\n",
       "      <th>4889</th>\n",
       "      <td>Python output using a Markdown Display object does not stick around after I restart the server, so expensive computation has to be repeated</td>\n",
       "      <td>hosting,language,</td>\n",
       "    </tr>\n",
       "    <tr>\n",
       "      <th>1559</th>\n",
       "      <td>Very limited editing facilities (search-and-replace???)</td>\n",
       "      <td>editor,content_management,</td>\n",
       "    </tr>\n",
       "  </tbody>\n",
       "</table>\n",
       "</div>"
      ],
      "text/plain": [
       "                                                                                                                                                         0  \\\n",
       "662                                                                                                                              Exporting non-Python code   \n",
       "5                                                                                                      no concurrent terminal with all workspace variables   \n",
       "17                       There's no Gitlab nbviewer integration, making it difficult for colleagues to view the notebooks without having Jupyter installed   \n",
       "29                                                                                           Scrolling through the document is often very slow and clumsy    \n",
       "2431                                                                                                          managing notebooks from front page is clunky   \n",
       "2621                                          hard to share in an interactive format (static notebooks are great! but often I want an interactive graphic)   \n",
       "2076                                                                                  Block editing of cells (e.g. rearranging a lecture order) is missing   \n",
       "3954  Poor editing. task: move this section to the top. You have to select a cell, copy it, scroll up, paste it, scroll back down, copy the next cell.....   \n",
       "4974                                                                                                          lack of good options for cloud collaboration   \n",
       "1603                                        Version control.. it would be great to separate output from input, and store input as native (e.g., .py) files   \n",
       "3571                                                                                                      Managing dependencies when sharing notebook file   \n",
       "1732                                                                                                     Changing API - FutureWarnings/DeprecationWarnings   \n",
       "3178                                                      git and Jupyter nb are a bit messy. Diff is hard. Have to exclude some associated files from git   \n",
       "1264                                                                                                                  Widgets API lacking in documentation   \n",
       "1230                                                                                   Merge conflicts with shared notebooks very common (version control)   \n",
       "1054                                 Large outputs (e.g. when you forget to comment a call to print() in a loop) bog down the application until it crashes   \n",
       "2492         Stderr results are not printed immediately, it is hard to monitor progress of long-running tasks (e.g. hyperparameter search in scikit-learn)   \n",
       "1016                                                                                               rerunning a cell with active debugger hangs the process   \n",
       "4889           Python output using a Markdown Display object does not stick around after I restart the server, so expensive computation has to be repeated   \n",
       "1559                                                                                               Very limited editing facilities (search-and-replace???)   \n",
       "\n",
       "                          themes  \n",
       "662             language,collab,  \n",
       "5        not_an_ide,programming,  \n",
       "17      hosting,version_control,  \n",
       "29               ux,performance,  \n",
       "2431      ux,content_management,  \n",
       "2621          dashboards,collab,  \n",
       "2076                  ux,editor,  \n",
       "3954                  ux,editor,  \n",
       "4974             hosting,collab,  \n",
       "1603    hosting,version_control,  \n",
       "3571            collab,versions,  \n",
       "1732       programming,versions,  \n",
       "3178         ux,version_control,  \n",
       "1264  documentation,programming,  \n",
       "1230     version_control,collab,  \n",
       "1054               ux,stability,  \n",
       "2492      ux,content_management,  \n",
       "1016       not_an_ide,stability,  \n",
       "4889           hosting,language,  \n",
       "1559  editor,content_management,  "
      ]
     },
     "execution_count": 651,
     "metadata": {},
     "output_type": "execute_result"
    }
   ],
   "source": [
    "tagged[tagged.themes.str.count(',') == 2].sample(20, random_state=rs)"
   ]
  },
  {
   "cell_type": "code",
   "execution_count": 652,
   "metadata": {
    "collapsed": false
   },
   "outputs": [
    {
     "data": {
      "text/html": [
       "<div>\n",
       "<table border=\"1\" class=\"dataframe\">\n",
       "  <thead>\n",
       "    <tr style=\"text-align: right;\">\n",
       "      <th></th>\n",
       "      <th>0</th>\n",
       "      <th>themes</th>\n",
       "    </tr>\n",
       "  </thead>\n",
       "  <tbody>\n",
       "    <tr>\n",
       "      <th>21</th>\n",
       "      <td>hard to manage in git (complicated diffs etc.)</td>\n",
       "      <td>version_control,</td>\n",
       "    </tr>\n",
       "    <tr>\n",
       "      <th>3356</th>\n",
       "      <td>difficult to navigate long notebooks/ I quickly start to use the overview over the notebook</td>\n",
       "      <td>content_management,</td>\n",
       "    </tr>\n",
       "    <tr>\n",
       "      <th>1590</th>\n",
       "      <td>Installing different kernels is impossibly difficult for non-techie people. Trying to explain to students how to install the Sage kernel results in instant confusion. Can't this be made easier?</td>\n",
       "      <td>hosting,</td>\n",
       "    </tr>\n",
       "    <tr>\n",
       "      <th>2680</th>\n",
       "      <td>You still need to define libraries of functions in separate modules if you want useful modularity and testability. Disciplined developers do this well enough, but most of the target market for the notebook consists of terrible programmers who get reinforcement learning that one huge undifferentiated namespace of untested garbage is acceptable. Since so many people misuse the tool this way, I think it's fair to say it's the tool's fault for not enforcing some mechanism that makes bad coding practices more painful.</td>\n",
       "      <td>programming,</td>\n",
       "    </tr>\n",
       "    <tr>\n",
       "      <th>160</th>\n",
       "      <td>Merging and diffing</td>\n",
       "      <td></td>\n",
       "    </tr>\n",
       "    <tr>\n",
       "      <th>2091</th>\n",
       "      <td>Difficult to diff notebooks</td>\n",
       "      <td></td>\n",
       "    </tr>\n",
       "    <tr>\n",
       "      <th>344</th>\n",
       "      <td>difficult to combine with version mangement</td>\n",
       "      <td></td>\n",
       "    </tr>\n",
       "    <tr>\n",
       "      <th>711</th>\n",
       "      <td>Integration with git/hg; some users foget to clear outputs which messes up the diffs</td>\n",
       "      <td>version_control,</td>\n",
       "    </tr>\n",
       "    <tr>\n",
       "      <th>333</th>\n",
       "      <td>hard to do meaningful diffs for git</td>\n",
       "      <td>version_control,</td>\n",
       "    </tr>\n",
       "    <tr>\n",
       "      <th>298</th>\n",
       "      <td>serving it from terminal from different folders for different projects</td>\n",
       "      <td></td>\n",
       "    </tr>\n",
       "    <tr>\n",
       "      <th>1937</th>\n",
       "      <td>not difficult - but the autosave feature is both fantastic, and troublesome...when I'm opening notebooks to find items, I don't want the save date to change - don't know the solution except a dialog on closing that asks do you want to keep changes</td>\n",
       "      <td></td>\n",
       "    </tr>\n",
       "    <tr>\n",
       "      <th>348</th>\n",
       "      <td>Git diff of notebooks</td>\n",
       "      <td>version_control,</td>\n",
       "    </tr>\n",
       "    <tr>\n",
       "      <th>3076</th>\n",
       "      <td>difficult to refactor code into external libraries</td>\n",
       "      <td></td>\n",
       "    </tr>\n",
       "    <tr>\n",
       "      <th>1686</th>\n",
       "      <td>Horizontal scrolling is only available when I scroll to the bottom of the notebook (at least in Firefox), and often sympy results will extend quite far horizontally, making it difficult to view the results. It is alright if the output if tall as well, since I can collapse the output into a small box that I can scroll on its own, but if the output isn't tall I can't collapse to such a box.</td>\n",
       "      <td>ux,</td>\n",
       "    </tr>\n",
       "    <tr>\n",
       "      <th>2050</th>\n",
       "      <td>often difficult to get proper printout / pdf</td>\n",
       "      <td>ux,</td>\n",
       "    </tr>\n",
       "    <tr>\n",
       "      <th>340</th>\n",
       "      <td>it's difficult to edit code as I do in others eviorents as atom or sublime text</td>\n",
       "      <td></td>\n",
       "    </tr>\n",
       "    <tr>\n",
       "      <th>3406</th>\n",
       "      <td>code reuse in different notebooks (need to copy-paste)</td>\n",
       "      <td>ux,programming,</td>\n",
       "    </tr>\n",
       "    <tr>\n",
       "      <th>3392</th>\n",
       "      <td>Markdown syntax highlighting is not aware of \\begin{align}...\\end{align} LaTeX, even though MathJax is. This means strange syntax highlighting occurs within these blocks that makes composition difficult.</td>\n",
       "      <td></td>\n",
       "    </tr>\n",
       "    <tr>\n",
       "      <th>2771</th>\n",
       "      <td>the cell workflow makes it difficult to keep organized</td>\n",
       "      <td></td>\n",
       "    </tr>\n",
       "    <tr>\n",
       "      <th>1990</th>\n",
       "      <td>No ability to diff notebooks</td>\n",
       "      <td></td>\n",
       "    </tr>\n",
       "  </tbody>\n",
       "</table>\n",
       "</div>"
      ],
      "text/plain": [
       "                                                                                                                                                                                                                                                                                                                                                                                                                                                                                                                                           0  \\\n",
       "21                                                                                                                                                                                                                                                                                                                                                                                                                                                                                            hard to manage in git (complicated diffs etc.)   \n",
       "3356                                                                                                                                                                                                                                                                                                                                                                                                                                             difficult to navigate long notebooks/ I quickly start to use the overview over the notebook   \n",
       "1590                                                                                                                                                                                                                                                                                                                                       Installing different kernels is impossibly difficult for non-techie people. Trying to explain to students how to install the Sage kernel results in instant confusion. Can't this be made easier?   \n",
       "2680  You still need to define libraries of functions in separate modules if you want useful modularity and testability. Disciplined developers do this well enough, but most of the target market for the notebook consists of terrible programmers who get reinforcement learning that one huge undifferentiated namespace of untested garbage is acceptable. Since so many people misuse the tool this way, I think it's fair to say it's the tool's fault for not enforcing some mechanism that makes bad coding practices more painful.   \n",
       "160                                                                                                                                                                                                                                                                                                                                                                                                                                                                                                                      Merging and diffing   \n",
       "2091                                                                                                                                                                                                                                                                                                                                                                                                                                                                                                             Difficult to diff notebooks   \n",
       "344                                                                                                                                                                                                                                                                                                                                                                                                                                                                                              difficult to combine with version mangement   \n",
       "711                                                                                                                                                                                                                                                                                                                                                                                                                                                     Integration with git/hg; some users foget to clear outputs which messes up the diffs   \n",
       "333                                                                                                                                                                                                                                                                                                                                                                                                                                                                                                     hard to do meaningful diffs for git    \n",
       "298                                                                                                                                                                                                                                                                                                                                                                                                                                                                   serving it from terminal from different folders for different projects   \n",
       "1937                                                                                                                                                                                                                                                                                 not difficult - but the autosave feature is both fantastic, and troublesome...when I'm opening notebooks to find items, I don't want the save date to change - don't know the solution except a dialog on closing that asks do you want to keep changes   \n",
       "348                                                                                                                                                                                                                                                                                                                                                                                                                                                                                                                    Git diff of notebooks   \n",
       "3076                                                                                                                                                                                                                                                                                                                                                                                                                                                                                      difficult to refactor code into external libraries   \n",
       "1686                                                                                                                                 Horizontal scrolling is only available when I scroll to the bottom of the notebook (at least in Firefox), and often sympy results will extend quite far horizontally, making it difficult to view the results. It is alright if the output if tall as well, since I can collapse the output into a small box that I can scroll on its own, but if the output isn't tall I can't collapse to such a box.   \n",
       "2050                                                                                                                                                                                                                                                                                                                                                                                                                                                                                            often difficult to get proper printout / pdf   \n",
       "340                                                                                                                                                                                                                                                                                                                                                                                                                                                          it's difficult to edit code as I do in others eviorents as atom or sublime text   \n",
       "3406                                                                                                                                                                                                                                                                                                                                                                                                                                                                                  code reuse in different notebooks (need to copy-paste)   \n",
       "3392                                                                                                                                                                                                                                                                                                                             Markdown syntax highlighting is not aware of \\begin{align}...\\end{align} LaTeX, even though MathJax is. This means strange syntax highlighting occurs within these blocks that makes composition difficult.   \n",
       "2771                                                                                                                                                                                                                                                                                                                                                                                                                                                                                  the cell workflow makes it difficult to keep organized   \n",
       "1990                                                                                                                                                                                                                                                                                                                                                                                                                                                                                                            No ability to diff notebooks   \n",
       "\n",
       "                   themes  \n",
       "21       version_control,  \n",
       "3356  content_management,  \n",
       "1590             hosting,  \n",
       "2680         programming,  \n",
       "160                        \n",
       "2091                       \n",
       "344                        \n",
       "711      version_control,  \n",
       "333      version_control,  \n",
       "298                        \n",
       "1937                       \n",
       "348      version_control,  \n",
       "3076                       \n",
       "1686                  ux,  \n",
       "2050                  ux,  \n",
       "340                        \n",
       "3406      ux,programming,  \n",
       "3392                       \n",
       "2771                       \n",
       "1990                       "
      ]
     },
     "execution_count": 652,
     "metadata": {},
     "output_type": "execute_result"
    }
   ],
   "source": [
    "tagged[tagged[0].str.contains('diff')].sample(20, random_state=rs)"
   ]
  },
  {
   "cell_type": "markdown",
   "metadata": {},
   "source": [
    "## Keyword Frequencies"
   ]
  },
  {
   "cell_type": "code",
   "execution_count": 653,
   "metadata": {
    "collapsed": true
   },
   "outputs": [],
   "source": [
    "import matplotlib\n",
    "import seaborn"
   ]
  },
  {
   "cell_type": "code",
   "execution_count": 654,
   "metadata": {
    "collapsed": true
   },
   "outputs": [],
   "source": [
    "counts = {}"
   ]
  },
  {
   "cell_type": "code",
   "execution_count": 655,
   "metadata": {
    "collapsed": false
   },
   "outputs": [],
   "source": [
    "for theme, keywords in themes.items():\n",
    "    for keyword in keywords:\n",
    "        hits = responses.map(lambda text: keywords_or(text, [keyword]))\n",
    "        counts[keyword] = hits.sum()"
   ]
  },
  {
   "cell_type": "code",
   "execution_count": 656,
   "metadata": {
    "collapsed": true
   },
   "outputs": [],
   "source": [
    "hist = pd.Series(counts).sort_values()"
   ]
  },
  {
   "cell_type": "code",
   "execution_count": 657,
   "metadata": {
    "collapsed": false
   },
   "outputs": [
    {
     "data": {
      "image/png": "[encoded data removed]",
      "text/plain": [
       "<matplotlib.figure.Figure at 0x7f76636f0eb8>"
      ]
     },
     "metadata": {},
     "output_type": "display_data"
    }
   ],
   "source": [
    "ax = hist[-30:].plot.barh(figsize=(8, 8))\n",
    "_ = ax.set_xlabel('Mentions')"
   ]
  },
  {
   "cell_type": "code",
   "execution_count": null,
   "metadata": {
    "collapsed": true
   },
   "outputs": [],
   "source": []
  }
 ],
 "metadata": {
  "kernelspec": {
   "display_name": "Python 3",
   "language": "python",
   "name": "python3"
  },
  "language_info": {
   "codemirror_mode": {
    "name": "ipython",
    "version": 3
   },
   "file_extension": ".py",
   "mimetype": "text/x-python",
   "name": "python",
   "nbconvert_exporter": "python",
   "pygments_lexer": "ipython3",
   "version": "3.4.4"
  }
 },
 "nbformat": 4,
 "nbformat_minor": 0
}
