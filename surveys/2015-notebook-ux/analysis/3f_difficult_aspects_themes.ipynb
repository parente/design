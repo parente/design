{
 "cells": [
  {
   "cell_type": "markdown",
   "metadata": {},
   "source": [
    "# Response Themes for \"What aspects of Jupyter Notebook make it difficult to use in your workflow?\"\n",
    "\n",
    "* Goal: Extract theme keywords from `difficult_aspects` responses.\n",
    "* Data: Output from 2_clean_survey.ipynb notebook (`survey_short_columns.csv`)\n",
    "* Process from [1_ux_survey_review.ipynb](1_ux_survey_review.ipynb):\n",
    "\n",
    "> Moving forward, here's a semi-automatic procedure we can follow for identifying themes across questions:\n",
    "> 1. Take a random sample of question responses\n",
    "> 2. Write down common theme keywords\n",
    "> 3. Search back through the responses using the theme keywords\n",
    "> 4. Expand the set of keywords with other words seen in the search results\n",
    "> 5. Repeat for all themes and questions\n",
    "> Later, we can use a fully automated topic modeling approach to validate our manually generated themes."
   ]
  },
  {
   "cell_type": "code",
   "execution_count": 1,
   "metadata": {
    "collapsed": true
   },
   "outputs": [],
   "source": [
    "import warnings\n",
    "warnings.filterwarnings(\"ignore\")"
   ]
  },
  {
   "cell_type": "code",
   "execution_count": 2,
   "metadata": {
    "collapsed": false
   },
   "outputs": [],
   "source": [
    "%matplotlib inline"
   ]
  },
  {
   "cell_type": "code",
   "execution_count": 3,
   "metadata": {
    "collapsed": true
   },
   "outputs": [],
   "source": [
    "import pandas as pd\n",
    "import numpy as np"
   ]
  },
  {
   "cell_type": "markdown",
   "metadata": {},
   "source": [
    "Make sure the samples come up the same for anyone that re-runs this."
   ]
  },
  {
   "cell_type": "code",
   "execution_count": 4,
   "metadata": {
    "collapsed": false
   },
   "outputs": [],
   "source": [
    "rs = np.random.RandomState(123)"
   ]
  },
  {
   "cell_type": "code",
   "execution_count": 5,
   "metadata": {
    "collapsed": true
   },
   "outputs": [],
   "source": [
    "pd.set_option('max_colwidth', 1000)"
   ]
  },
  {
   "cell_type": "code",
   "execution_count": 6,
   "metadata": {
    "collapsed": true
   },
   "outputs": [],
   "source": [
    "df = pd.read_csv('survey_short_columns.csv')"
   ]
  },
  {
   "cell_type": "code",
   "execution_count": 7,
   "metadata": {
    "collapsed": true
   },
   "outputs": [],
   "source": [
    "def show(series):\n",
    "    '''Make random samples easier to read.'''\n",
    "    for i, value in enumerate(series):\n",
    "        print('{}) {}'.format(i, value), end='\\n\\n')"
   ]
  },
  {
   "cell_type": "code",
   "execution_count": 8,
   "metadata": {
    "collapsed": false
   },
   "outputs": [],
   "source": [
    "responses = pd.concat([df.difficult_aspects_1, df.difficult_aspects_2, df.difficult_aspects_3])"
   ]
  },
  {
   "cell_type": "code",
   "execution_count": 9,
   "metadata": {
    "collapsed": true
   },
   "outputs": [],
   "source": [
    "assert len(responses) == len(df) * 3"
   ]
  },
  {
   "cell_type": "code",
   "execution_count": 10,
   "metadata": {
    "collapsed": false
   },
   "outputs": [
    {
     "data": {
      "text/plain": [
       "True     4216\n",
       "False     902\n",
       "dtype: int64"
      ]
     },
     "execution_count": 10,
     "metadata": {},
     "output_type": "execute_result"
    }
   ],
   "source": [
    "responses.isnull().value_counts()"
   ]
  },
  {
   "cell_type": "code",
   "execution_count": 11,
   "metadata": {
    "collapsed": true
   },
   "outputs": [],
   "source": [
    "responses = responses.dropna()"
   ]
  },
  {
   "cell_type": "markdown",
   "metadata": {},
   "source": [
    "## Initial Samples\n",
    "\n",
    "I ran the sampling code below multiple times and manually built up the initial set of keywords seen commonly across them. I formed groups of conceptually related keywords. Then I tried to assign a simple label to each group."
   ]
  },
  {
   "cell_type": "code",
   "execution_count": 12,
   "metadata": {
    "collapsed": false,
    "scrolled": false
   },
   "outputs": [
    {
     "name": "stdout",
     "output_type": "stream",
     "text": [
      "0) runnning notebooks in batch\n",
      "\n",
      "1) Relatively hard installation, not simply an app\n",
      "\n",
      "2) would be nice to be able to import one notebook into another\n",
      "\n",
      "3) Lack of document structure manipulation\n",
      "\n",
      "4) Terminal mode doesn't handle keyboard shortcuts well\n",
      "\n",
      "5) Connecting to diverse data sources\n",
      "\n",
      "6) Code reuse\n",
      "\n",
      "7) no concrete status info on running calculations (What does my Python process do that has been running for ages now?)\n",
      "\n",
      "8) Python 3 vs 2 problems\n",
      "\n",
      "9) Out-of-order execution\n",
      "\n",
      "10) Package updates\n",
      "\n",
      "11) Very limited editing facilities (search-and-replace???)\n",
      "\n",
      "12) Vanilla jupyter notebook is unwieldy with long notebooks (but mitigated by TOC extension, section folding,...)\n",
      "\n",
      "13) Control over matplotlib graphs still a bit limited and clumsy\n",
      "\n",
      "14) No emacs-style bindings for editing code\n",
      "\n",
      "15) Deploying to the cloud requires a brain + setup time. Should be brainless and next to instantaneous\n",
      "\n",
      "16) Losing state -- restarting the kernel\n",
      "\n",
      "17) the kernel needs to be restarted to reload modules (though this is actually due to Python), leading to the loss of already computed data; this is probably fixed by organizing the code better\n",
      "\n",
      "18) mishmash of tools with varyingly different apis\n",
      "\n",
      "19) The resulting program must be copy/pasted or exported into plain python and then validated again\n",
      "\n"
     ]
    }
   ],
   "source": [
    "show(responses.sample(20, random_state=rs))"
   ]
  },
  {
   "cell_type": "code",
   "execution_count": 662,
   "metadata": {
    "collapsed": false
   },
   "outputs": [],
   "source": [
    "themes = {\n",
    "    'ux': ['(manipulating|mov(e|ing)|copy(ing)?) cells|rearranging', 'multi(ple)? cells?', \n",
    "           'cells (up and down|out of place)', \n",
    "           'mouse', 'right-click', 'tab function',\n",
    "           'copy(-|&|\\sand\\s|\\/)paste|c&p|and paste', 'double(\\s|-)?click(ing)?',\n",
    "           'modal',  \n",
    "           'muddle|messy|clutter|clunky',\n",
    "           '(wasted|screen) space|bloated ui|too much whitespace|margins|width', \n",
    "           'scroll(\\s)?bar|scroll(ing)?', \n",
    "           'jump(ing)?', 'status', 'drag-and', \n",
    "           'css|themes?|fonts?|contrast|icons?', \n",
    "           'cell.*numbers|numbering|numbered cells|cell ordering', \n",
    "            '(u|i)ndo', 'too small',\n",
    "           'ui feels like 1993', 'more clicks', 'accessibility', 'click on',\n",
    "           '(fold|collapse) code', 'open notebooks', 'launching the notebook', \n",
    "           'hard to navigate', 'small screens|tablet|mobile',\n",
    "           'print(ing)?', 'hide', \n",
    "           'web based|browser'],\n",
    "    'performance': ['performance', 'slow(er)?', 'cach(e|ing)', ],\n",
    "    'stability': ['freeze|hang(s|ing)|locks? up|crashes|dying|dies', \n",
    "                  'reboot(ing)?|restart(ing)? (notebook|kernel)|kernel restarts', 'kernel died/restarting',\n",
    "                  'testing', \n",
    "                  'brittle|(los(e|ing)|preserve) state|work is lost', \n",
    "                   ],\n",
    "    'versions': ['versions', 'versionn?ing', '3 vs 2', 'v3', 'changing api', \n",
    "                 'dependencies|package (updates|management)', 'conda',\n",
    "                 'software version', 'version upgrades', 'incompatibilities', ],\n",
    "    'version_control': ['(version|source) (control|management|tracking|history|notebooks)', 'git(hub)?',\n",
    "                        'control version', 'not versioned', 'version-controlled', \n",
    "                         ],\n",
    "    'hosting': ['deploy(ing)?', 'cloud', 'production', \n",
    "                'install(ation)?|(spun\\s|setting\\s|standing\\s|(start|set)(\\s|-)?)up', \n",
    "                'client-server|server', \n",
    "                'host(ed|ing)', 'virtual(env|\\senvironment)',\n",
    "                'resource intensive|memory us(e|age)', \n",
    "                'configur(ing|ation)', 'remote access', 'native', \n",
    "                'multi-?user', 'single (user|computer)', 'permissions?', \n",
    "                'jupyter\\s?hub', 'personalization',],\n",
    "    'documentation': ['doc(s|umentation)?($|\\W)', ],\n",
    "    'editor': [ '(code )?edit(or|ing)(\\scode)?', 'linting', 'fold code', \n",
    "               '(auto|code\\s|tab\\s)complet(e|ion)', 'rename all', 'vim?($|\\W)|sublime|atom|emacs', \n",
    "               'hard to edit', 'multiple curs(o|e)r', 'completion of parenthesis', \n",
    "               'key(board|\\s?bindings?)|short-?cuts?|hotkeys?', 'key combinations',  ],\n",
    "    'language': ['python', 'languages?', 'language support', 'R($|\\W)',],\n",
    "    'content_management': ['(file|notebook|content) management', 'file(\\s|-)?system',\n",
    "                           'search(-and-replace)?|find and|finding', \n",
    "                           'file (browser|explorer)', 'large files', '(long|large) notebooks?', \n",
    "                           'navigation tools', 'where all my notebooks are', 'multiple files', 'structure notebooks', \n",
    "                           'managing.*(notebooks|files)', 'split a notebook', \n",
    "                           'large projects', \n",
    "                           '(folders?|director(y|ies))(\\smanagement)?', ],\n",
    "    'development': ['breakpoints', 'profiling', 'look at all variables', \n",
    "                    'development environment', 'tips', 'environment window', 'debug(ger|ging)?(\\stools)?', \n",
    "                    'loaded variables', 'workspace|ides?($|\\W)', 'rstudio|knitr', \n",
    "                    'debug errors', 'spell check', 'code structure', 'too much programming', \n",
    "                    'namespace|everything is global|bad programming|programming practices',\n",
    "                    'remain in memory', 'modules', 'transform cells', 'code re-?use', 'variables', \n",
    "                    'portability|hard to port|port analysis', 'api',\n",
    "                    'multiprocessing|parallel (code|programming)', 'code review', 'diff(s|ing)?($|\\W)'\n",
    "                    ],\n",
    "    'collab': ['collaborat(e|ion)', 'multiple authors', ],\n",
    "    'dissemination': ['interactivity in charts', 'interactive (widgets|plots)', 'nbconvert',\n",
    "                      'document conversion',\n",
    "                      '(dashboard|presentation|\"view only\") mode', \n",
    "                      'non-interactive graphs', \n",
    "                      'report generation', 'presentations', 'interactive graphic', 'shar(e|ing)', \n",
    "                      'distribution', 'export(ing)?', 'pdf', ],\n",
    "    'file_format': ['(json|\\.py|ipynb) files', 'filesize', 'notebook format', '.ipynb', 'large documents',\n",
    "                   ], \n",
    "}"
   ]
  },
  {
   "cell_type": "markdown",
   "metadata": {},
   "source": [
    "## Coverage Improvement\n",
    "\n",
    "I next ran the code below to associate the theme labels with the responses. I then iterated on running the code below to find reponses without labels. I expanded the list of keywords and themes above in order to improve coverage."
   ]
  },
  {
   "cell_type": "code",
   "execution_count": 663,
   "metadata": {
    "collapsed": true
   },
   "outputs": [],
   "source": [
    "import re"
   ]
  },
  {
   "cell_type": "code",
   "execution_count": 664,
   "metadata": {
    "collapsed": true
   },
   "outputs": [],
   "source": [
    "def keywords_or(text, keywords):\n",
    "    for keyword in keywords:\n",
    "        if re.search('(^|\\W+){}'.format(keyword), text, re.IGNORECASE):\n",
    "            return True\n",
    "    return False"
   ]
  },
  {
   "cell_type": "code",
   "execution_count": 665,
   "metadata": {
    "collapsed": false
   },
   "outputs": [],
   "source": [
    "def tag_themes(data, themes):\n",
    "    tagged = data.to_frame()\n",
    "    tagged['themes'] = ''\n",
    "    for theme, keywords in themes.items():\n",
    "        results = data.map(lambda text: keywords_or(text, keywords))\n",
    "        tagged.loc[results, 'themes'] += theme + ','\n",
    "        print(theme, results.sum())\n",
    "    return tagged"
   ]
  },
  {
   "cell_type": "code",
   "execution_count": 666,
   "metadata": {
    "collapsed": false
   },
   "outputs": [
    {
     "name": "stdout",
     "output_type": "stream",
     "text": [
      "performance 17\n",
      "stability 32\n",
      "development 125\n",
      "documentation 17\n",
      "language 43\n",
      "editor 111\n",
      "hosting 94\n",
      "file_format 12\n",
      "content_management 55\n",
      "dissemination 51\n",
      "collab 9\n",
      "versions 30\n",
      "ux 169\n",
      "version_control 70\n"
     ]
    },
    {
     "data": {
      "text/plain": [
       "1    586\n",
       "0    199\n",
       "2    104\n",
       "3     11\n",
       "4      2\n",
       "Name: themes, dtype: int64"
      ]
     },
     "execution_count": 666,
     "metadata": {},
     "output_type": "execute_result"
    }
   ],
   "source": [
    "tagged = tag_themes(responses, themes)\n",
    "tagged.themes.str.count(',').value_counts()"
   ]
  },
  {
   "cell_type": "code",
   "execution_count": 667,
   "metadata": {
    "collapsed": false
   },
   "outputs": [
    {
     "data": {
      "text/html": [
       "<div>\n",
       "<table border=\"1\" class=\"dataframe\">\n",
       "  <thead>\n",
       "    <tr style=\"text-align: right;\">\n",
       "      <th></th>\n",
       "      <th>0</th>\n",
       "      <th>themes</th>\n",
       "    </tr>\n",
       "  </thead>\n",
       "  <tbody>\n",
       "    <tr>\n",
       "      <th>1346</th>\n",
       "      <td>A dev</td>\n",
       "      <td></td>\n",
       "    </tr>\n",
       "    <tr>\n",
       "      <th>816</th>\n",
       "      <td>Notebooks unwieldy as they grow larger</td>\n",
       "      <td></td>\n",
       "    </tr>\n",
       "    <tr>\n",
       "      <th>79</th>\n",
       "      <td>Always looking up help</td>\n",
       "      <td></td>\n",
       "    </tr>\n",
       "    <tr>\n",
       "      <th>808</th>\n",
       "      <td>lack of bookmarks between cells : select cells to be cleaned and rerun</td>\n",
       "      <td></td>\n",
       "    </tr>\n",
       "    <tr>\n",
       "      <th>1035</th>\n",
       "      <td>difficult to keep mutating state under control during iterative development</td>\n",
       "      <td></td>\n",
       "    </tr>\n",
       "    <tr>\n",
       "      <th>1524</th>\n",
       "      <td>Knowledge management</td>\n",
       "      <td></td>\n",
       "    </tr>\n",
       "    <tr>\n",
       "      <th>486</th>\n",
       "      <td>runnning notebooks in batch</td>\n",
       "      <td></td>\n",
       "    </tr>\n",
       "    <tr>\n",
       "      <th>264</th>\n",
       "      <td>not as interactive as ipython console</td>\n",
       "      <td></td>\n",
       "    </tr>\n",
       "    <tr>\n",
       "      <th>499</th>\n",
       "      <td>integration in windows</td>\n",
       "      <td></td>\n",
       "    </tr>\n",
       "    <tr>\n",
       "      <th>916</th>\n",
       "      <td>Huge output -- with a few keystrokes a user can create 100MB's of output in a cell.  Nightmare.  Jason Grout is working on this I think.</td>\n",
       "      <td></td>\n",
       "    </tr>\n",
       "    <tr>\n",
       "      <th>1354</th>\n",
       "      <td>presentation capabilities</td>\n",
       "      <td></td>\n",
       "    </tr>\n",
       "    <tr>\n",
       "      <th>869</th>\n",
       "      <td>Spark requring cores allocated even when not in use</td>\n",
       "      <td></td>\n",
       "    </tr>\n",
       "    <tr>\n",
       "      <th>806</th>\n",
       "      <td>cumbersome/tedious to visualise data</td>\n",
       "      <td></td>\n",
       "    </tr>\n",
       "    <tr>\n",
       "      <th>495</th>\n",
       "      <td>Opening up the series of apps to get to the notebook is cumbersome.</td>\n",
       "      <td></td>\n",
       "    </tr>\n",
       "    <tr>\n",
       "      <th>167</th>\n",
       "      <td>Better javascript injection</td>\n",
       "      <td></td>\n",
       "    </tr>\n",
       "    <tr>\n",
       "      <th>356</th>\n",
       "      <td>Unusual assumptions about bracket creation.</td>\n",
       "      <td></td>\n",
       "    </tr>\n",
       "    <tr>\n",
       "      <th>81</th>\n",
       "      <td>It is often difficult to get useful information about a variable or object</td>\n",
       "      <td></td>\n",
       "    </tr>\n",
       "    <tr>\n",
       "      <th>1604</th>\n",
       "      <td>visualizations can get far away from related code segments in the notebook document.</td>\n",
       "      <td></td>\n",
       "    </tr>\n",
       "    <tr>\n",
       "      <th>1389</th>\n",
       "      <td>No 'run all cells' functionality</td>\n",
       "      <td></td>\n",
       "    </tr>\n",
       "    <tr>\n",
       "      <th>148</th>\n",
       "      <td>No out-of-the box logging</td>\n",
       "      <td></td>\n",
       "    </tr>\n",
       "  </tbody>\n",
       "</table>\n",
       "</div>"
      ],
      "text/plain": [
       "                                                                                                                                             0  \\\n",
       "1346                                                                                                                                     A dev   \n",
       "816                                                                                                     Notebooks unwieldy as they grow larger   \n",
       "79                                                                                                                      Always looking up help   \n",
       "808                                                                     lack of bookmarks between cells : select cells to be cleaned and rerun   \n",
       "1035                                                               difficult to keep mutating state under control during iterative development   \n",
       "1524                                                                                                                     Knowledge management    \n",
       "486                                                                                                                runnning notebooks in batch   \n",
       "264                                                                                                      not as interactive as ipython console   \n",
       "499                                                                                                                     integration in windows   \n",
       "916   Huge output -- with a few keystrokes a user can create 100MB's of output in a cell.  Nightmare.  Jason Grout is working on this I think.   \n",
       "1354                                                                                                                 presentation capabilities   \n",
       "869                                                                                        Spark requring cores allocated even when not in use   \n",
       "806                                                                                                       cumbersome/tedious to visualise data   \n",
       "495                                                                        Opening up the series of apps to get to the notebook is cumbersome.   \n",
       "167                                                                                                               Better javascript injection    \n",
       "356                                                                                                Unusual assumptions about bracket creation.   \n",
       "81                                                                  It is often difficult to get useful information about a variable or object   \n",
       "1604                                                      visualizations can get far away from related code segments in the notebook document.   \n",
       "1389                                                                                                          No 'run all cells' functionality   \n",
       "148                                                                                                                  No out-of-the box logging   \n",
       "\n",
       "     themes  \n",
       "1346         \n",
       "816          \n",
       "79           \n",
       "808          \n",
       "1035         \n",
       "1524         \n",
       "486          \n",
       "264          \n",
       "499          \n",
       "916          \n",
       "1354         \n",
       "869          \n",
       "806          \n",
       "495          \n",
       "167          \n",
       "356          \n",
       "81           \n",
       "1604         \n",
       "1389         \n",
       "148          "
      ]
     },
     "execution_count": 667,
     "metadata": {},
     "output_type": "execute_result"
    }
   ],
   "source": [
    "tagged[tagged.themes.str.len() == 0].sample(20, random_state=rs)"
   ]
  },
  {
   "cell_type": "markdown",
   "metadata": {},
   "source": [
    "## Precision Check\n",
    "\n",
    "I then studied a sample of responses for each theme to see if there major inaccuracies in their application (e.g., string matches that are too fuzzy)."
   ]
  },
  {
   "cell_type": "code",
   "execution_count": 668,
   "metadata": {
    "collapsed": false
   },
   "outputs": [
    {
     "name": "stdout",
     "output_type": "stream",
     "text": [
      "performance 17\n",
      "stability 32\n",
      "development 125\n",
      "documentation 17\n",
      "language 43\n",
      "editor 111\n",
      "hosting 94\n",
      "file_format 12\n",
      "content_management 55\n",
      "dissemination 51\n",
      "collab 9\n",
      "versions 30\n",
      "ux 169\n",
      "version_control 70\n"
     ]
    },
    {
     "data": {
      "text/plain": [
       "1    586\n",
       "0    199\n",
       "2    104\n",
       "3     11\n",
       "4      2\n",
       "Name: themes, dtype: int64"
      ]
     },
     "execution_count": 668,
     "metadata": {},
     "output_type": "execute_result"
    }
   ],
   "source": [
    "tagged = tag_themes(responses, themes)\n",
    "tagged.themes.str.count(',').value_counts()"
   ]
  },
  {
   "cell_type": "code",
   "execution_count": 669,
   "metadata": {
    "collapsed": true
   },
   "outputs": [],
   "source": [
    "from IPython.display import display, clear_output"
   ]
  },
  {
   "cell_type": "code",
   "execution_count": 670,
   "metadata": {
    "collapsed": false,
    "scrolled": false
   },
   "outputs": [],
   "source": [
    "# for key in themes:\n",
    "#     clear_output()\n",
    "#     size = min([10, len(tagged[tagged.themes.str.contains(key)])])\n",
    "#     display(tagged[tagged.themes.str.contains(key)].sample(size))\n",
    "#     if input('Showing `{}`. Type Enter to continue, \"q\" to stop.'.format(key)) == 'q':\n",
    "#         break"
   ]
  },
  {
   "cell_type": "markdown",
   "metadata": {},
   "source": [
    "I also looked at responses with multiple themes to fine tune them, and catch duplication of words in multiple themes."
   ]
  },
  {
   "cell_type": "code",
   "execution_count": 671,
   "metadata": {
    "collapsed": false
   },
   "outputs": [
    {
     "data": {
      "text/html": [
       "<div>\n",
       "<table border=\"1\" class=\"dataframe\">\n",
       "  <thead>\n",
       "    <tr style=\"text-align: right;\">\n",
       "      <th></th>\n",
       "      <th>0</th>\n",
       "      <th>themes</th>\n",
       "    </tr>\n",
       "  </thead>\n",
       "  <tbody>\n",
       "    <tr>\n",
       "      <th>312</th>\n",
       "      <td>Need to start the server from a particular directory</td>\n",
       "      <td>hosting,content_management,</td>\n",
       "    </tr>\n",
       "    <tr>\n",
       "      <th>176</th>\n",
       "      <td>Installation/customization is complicated and up-to-date documentation can be hard to find.</td>\n",
       "      <td>documentation,hosting,</td>\n",
       "    </tr>\n",
       "    <tr>\n",
       "      <th>786</th>\n",
       "      <td>Stderr results are not printed immediately, it is hard to monitor progress of long-running tasks (e.g. hyperparameter search in scikit-learn)</td>\n",
       "      <td>content_management,ux,</td>\n",
       "    </tr>\n",
       "    <tr>\n",
       "      <th>1575</th>\n",
       "      <td>Clunky things getting it setup e.g., the aforementioned security handshaking and such</td>\n",
       "      <td>hosting,ux,</td>\n",
       "    </tr>\n",
       "    <tr>\n",
       "      <th>398</th>\n",
       "      <td>Difficulty to reliably install and use extensions across new ipython/jupyter versions</td>\n",
       "      <td>hosting,versions,</td>\n",
       "    </tr>\n",
       "    <tr>\n",
       "      <th>711</th>\n",
       "      <td>Integration with git/hg; some users foget to clear outputs which messes up the diffs</td>\n",
       "      <td>development,version_control,</td>\n",
       "    </tr>\n",
       "    <tr>\n",
       "      <th>1573</th>\n",
       "      <td>Can't hide a groups of cells based on the heading stuctures</td>\n",
       "      <td>development,ux,</td>\n",
       "    </tr>\n",
       "    <tr>\n",
       "      <th>845</th>\n",
       "      <td>Ipynb files are hard to copy from in plain text editor</td>\n",
       "      <td>editor,file_format,</td>\n",
       "    </tr>\n",
       "    <tr>\n",
       "      <th>1470</th>\n",
       "      <td>displaying lots of data in scrollable window slows frontend down A LOT</td>\n",
       "      <td>performance,ux,</td>\n",
       "    </tr>\n",
       "    <tr>\n",
       "      <th>35</th>\n",
       "      <td>Line numbers in tracebacks don't seem to accurately reflect cell line numbers, which increases debugging difficulty.</td>\n",
       "      <td>development,ux,</td>\n",
       "    </tr>\n",
       "    <tr>\n",
       "      <th>1239</th>\n",
       "      <td>Hard to add interactive plots (requires way too much programming)</td>\n",
       "      <td>development,dissemination,</td>\n",
       "    </tr>\n",
       "    <tr>\n",
       "      <th>370</th>\n",
       "      <td>Block editing of cells (e.g. rearranging a lecture order) is missing</td>\n",
       "      <td>editor,ux,</td>\n",
       "    </tr>\n",
       "    <tr>\n",
       "      <th>243</th>\n",
       "      <td>Constrained to scroll through long notebooks.</td>\n",
       "      <td>content_management,ux,</td>\n",
       "    </tr>\n",
       "    <tr>\n",
       "      <th>1018</th>\n",
       "      <td>Python 3 vs 2 problems</td>\n",
       "      <td>language,versions,</td>\n",
       "    </tr>\n",
       "    <tr>\n",
       "      <th>483</th>\n",
       "      <td>in-browser editing lacks many features of a real editor (emacs)</td>\n",
       "      <td>editor,ux,</td>\n",
       "    </tr>\n",
       "    <tr>\n",
       "      <th>960</th>\n",
       "      <td>customization (css, installing extensions)</td>\n",
       "      <td>hosting,ux,</td>\n",
       "    </tr>\n",
       "    <tr>\n",
       "      <th>1383</th>\n",
       "      <td>R's Knitr has inline variable usage. Eg: We use $N$ subjects, where N is a R variable</td>\n",
       "      <td>development,language,</td>\n",
       "    </tr>\n",
       "    <tr>\n",
       "      <th>399</th>\n",
       "      <td>Extra steps to support other langs I already have installed but not integrated with Jupyter (R)</td>\n",
       "      <td>language,hosting,</td>\n",
       "    </tr>\n",
       "    <tr>\n",
       "      <th>863</th>\n",
       "      <td>jumping between results and code can be tiresome (prefer to have it side-by-side often)</td>\n",
       "      <td>development,ux,</td>\n",
       "    </tr>\n",
       "    <tr>\n",
       "      <th>654</th>\n",
       "      <td>Multiple levels of undo inside each cell would be great, persisting in some session history</td>\n",
       "      <td>development,ux,</td>\n",
       "    </tr>\n",
       "  </tbody>\n",
       "</table>\n",
       "</div>"
      ],
      "text/plain": [
       "                                                                                                                                                  0  \\\n",
       "312                                                                                            Need to start the server from a particular directory   \n",
       "176                                                     Installation/customization is complicated and up-to-date documentation can be hard to find.   \n",
       "786   Stderr results are not printed immediately, it is hard to monitor progress of long-running tasks (e.g. hyperparameter search in scikit-learn)   \n",
       "1575                                                          Clunky things getting it setup e.g., the aforementioned security handshaking and such   \n",
       "398                                                           Difficulty to reliably install and use extensions across new ipython/jupyter versions   \n",
       "711                                                            Integration with git/hg; some users foget to clear outputs which messes up the diffs   \n",
       "1573                                                                                    Can't hide a groups of cells based on the heading stuctures   \n",
       "845                                                                                          Ipynb files are hard to copy from in plain text editor   \n",
       "1470                                                                         displaying lots of data in scrollable window slows frontend down A LOT   \n",
       "35                            Line numbers in tracebacks don't seem to accurately reflect cell line numbers, which increases debugging difficulty.    \n",
       "1239                                                                              Hard to add interactive plots (requires way too much programming)   \n",
       "370                                                                            Block editing of cells (e.g. rearranging a lecture order) is missing   \n",
       "243                                                                                                  Constrained to scroll through long notebooks.    \n",
       "1018                                                                                                                         Python 3 vs 2 problems   \n",
       "483                                                                                 in-browser editing lacks many features of a real editor (emacs)   \n",
       "960                                                                                                      customization (css, installing extensions)   \n",
       "1383                                                          R's Knitr has inline variable usage. Eg: We use $N$ subjects, where N is a R variable   \n",
       "399                                                 Extra steps to support other langs I already have installed but not integrated with Jupyter (R)   \n",
       "863                                                         jumping between results and code can be tiresome (prefer to have it side-by-side often)   \n",
       "654                                                     Multiple levels of undo inside each cell would be great, persisting in some session history   \n",
       "\n",
       "                            themes  \n",
       "312    hosting,content_management,  \n",
       "176         documentation,hosting,  \n",
       "786         content_management,ux,  \n",
       "1575                   hosting,ux,  \n",
       "398              hosting,versions,  \n",
       "711   development,version_control,  \n",
       "1573               development,ux,  \n",
       "845            editor,file_format,  \n",
       "1470               performance,ux,  \n",
       "35                 development,ux,  \n",
       "1239    development,dissemination,  \n",
       "370                     editor,ux,  \n",
       "243         content_management,ux,  \n",
       "1018            language,versions,  \n",
       "483                     editor,ux,  \n",
       "960                    hosting,ux,  \n",
       "1383         development,language,  \n",
       "399              language,hosting,  \n",
       "863                development,ux,  \n",
       "654                development,ux,  "
      ]
     },
     "execution_count": 671,
     "metadata": {},
     "output_type": "execute_result"
    }
   ],
   "source": [
    "tagged[tagged.themes.str.count(',') == 2].sample(20, random_state=rs)"
   ]
  },
  {
   "cell_type": "markdown",
   "metadata": {},
   "source": [
    "## Keyword Frequencies"
   ]
  },
  {
   "cell_type": "code",
   "execution_count": 672,
   "metadata": {
    "collapsed": true
   },
   "outputs": [],
   "source": [
    "import matplotlib\n",
    "import seaborn"
   ]
  },
  {
   "cell_type": "code",
   "execution_count": 673,
   "metadata": {
    "collapsed": true
   },
   "outputs": [],
   "source": [
    "counts = {}"
   ]
  },
  {
   "cell_type": "code",
   "execution_count": 674,
   "metadata": {
    "collapsed": false
   },
   "outputs": [],
   "source": [
    "for theme, keywords in themes.items():\n",
    "    for keyword in keywords:\n",
    "        hits = responses.map(lambda text: keywords_or(text, [keyword]))\n",
    "        counts[keyword] = hits.sum()"
   ]
  },
  {
   "cell_type": "code",
   "execution_count": 675,
   "metadata": {
    "collapsed": true
   },
   "outputs": [],
   "source": [
    "hist = pd.Series(counts).sort_values()"
   ]
  },
  {
   "cell_type": "code",
   "execution_count": 676,
   "metadata": {
    "collapsed": false
   },
   "outputs": [
    {
     "data": {
      "image/png": "[encoded data removed]",
      "text/plain": [
       "<matplotlib.figure.Figure at 0x7fbbec377748>"
      ]
     },
     "metadata": {},
     "output_type": "display_data"
    }
   ],
   "source": [
    "ax = hist[-30:].plot.barh(figsize=(8, 8))\n",
    "_ = ax.set_xlabel('Mentions')"
   ]
  },
  {
   "cell_type": "markdown",
   "metadata": {
    "collapsed": true
   },
   "source": [
    "## Persist\n",
    "\n",
    "I save off the themes and keywords to a DataFrame with the same index as the original so that the entries can be tagged."
   ]
  },
  {
   "cell_type": "code",
   "execution_count": 677,
   "metadata": {
    "collapsed": true
   },
   "outputs": [],
   "source": [
    "column = 'difficult_aspects'"
   ]
  },
  {
   "cell_type": "code",
   "execution_count": 678,
   "metadata": {
    "collapsed": true
   },
   "outputs": [],
   "source": [
    "themes_df = tagged.themes.to_frame()"
   ]
  },
  {
   "cell_type": "code",
   "execution_count": 679,
   "metadata": {
    "collapsed": true
   },
   "outputs": [],
   "source": [
    "themes_df = themes_df.rename(columns={'themes' : column+'_themes'})"
   ]
  },
  {
   "cell_type": "code",
   "execution_count": 680,
   "metadata": {
    "collapsed": true
   },
   "outputs": [],
   "source": [
    "themes_df[column+'_keywords'] = ''"
   ]
  },
  {
   "cell_type": "code",
   "execution_count": 681,
   "metadata": {
    "collapsed": true
   },
   "outputs": [],
   "source": [
    "for theme, keywords in themes.items():\n",
    "    for keyword in keywords:\n",
    "        results = responses.map(lambda text: keywords_or(text, [keyword]))\n",
    "        if not results.sum(): continue\n",
    "        themes_df.loc[results, column+'_keywords'] += keyword + ','"
   ]
  },
  {
   "cell_type": "code",
   "execution_count": 682,
   "metadata": {
    "collapsed": true
   },
   "outputs": [],
   "source": [
    "themes_df[column+'_themes'] = themes_df[column+'_themes'].str.rstrip(',')\n",
    "themes_df[column+'_keywords'] = themes_df[column+'_keywords'].str.rstrip(',')"
   ]
  },
  {
   "cell_type": "markdown",
   "metadata": {},
   "source": [
    "Up above, I merged the three response fields for the question into one common pool which means we can have duplicate index value in the themes DataFrame. We need to squash these down and remove duplicates."
   ]
  },
  {
   "cell_type": "code",
   "execution_count": 683,
   "metadata": {
    "collapsed": true
   },
   "outputs": [],
   "source": [
    "def union(group_df):\n",
    "    '''Gets the set union of themes and keywords for a given DataFrame.'''\n",
    "    themes = group_df[column+'_themes'].str.cat(sep=',')\n",
    "    themes = list(set(themes.split(',')))\n",
    "    themes = ','.join(themes)\n",
    "    \n",
    "    keywords = group_df[column+'_keywords'].str.cat(sep=',')\n",
    "    keywords = list(set(keywords.split(',')))\n",
    "    keywords = ','.join(keywords)\n",
    "    return pd.Series([themes, keywords], index=[column+'_themes', column+'_keywords'])"
   ]
  },
  {
   "cell_type": "markdown",
   "metadata": {},
   "source": [
    "We group by the index and union the themes and keywords."
   ]
  },
  {
   "cell_type": "code",
   "execution_count": 684,
   "metadata": {
    "collapsed": true
   },
   "outputs": [],
   "source": [
    "themes_df = themes_df.groupby(themes_df.index).apply(union)"
   ]
  },
  {
   "cell_type": "code",
   "execution_count": 685,
   "metadata": {
    "collapsed": false
   },
   "outputs": [
    {
     "data": {
      "text/html": [
       "<div>\n",
       "<table border=\"1\" class=\"dataframe\">\n",
       "  <thead>\n",
       "    <tr style=\"text-align: right;\">\n",
       "      <th></th>\n",
       "      <th>difficult_aspects_themes</th>\n",
       "      <th>difficult_aspects_keywords</th>\n",
       "    </tr>\n",
       "  </thead>\n",
       "  <tbody>\n",
       "    <tr>\n",
       "      <th>1</th>\n",
       "      <td>development</td>\n",
       "      <td>diff(s|ing)?($|\\W)</td>\n",
       "    </tr>\n",
       "    <tr>\n",
       "      <th>5</th>\n",
       "      <td>development</td>\n",
       "      <td>variables,workspace|ides?($|\\W)</td>\n",
       "    </tr>\n",
       "    <tr>\n",
       "      <th>6</th>\n",
       "      <td>hosting,version_control</td>\n",
       "      <td>install(ation)?|(spun\\s|setting\\s|standing\\s|(start|set)(\\s|-)?)up,(version|source) (control|management|tracking|history|notebooks)</td>\n",
       "    </tr>\n",
       "    <tr>\n",
       "      <th>7</th>\n",
       "      <td>dissemination,version_control</td>\n",
       "      <td>report generation,(version|source) (control|management|tracking|history|notebooks)</td>\n",
       "    </tr>\n",
       "    <tr>\n",
       "      <th>10</th>\n",
       "      <td></td>\n",
       "      <td></td>\n",
       "    </tr>\n",
       "  </tbody>\n",
       "</table>\n",
       "</div>"
      ],
      "text/plain": [
       "         difficult_aspects_themes  \\\n",
       "1                     development   \n",
       "5                     development   \n",
       "6         hosting,version_control   \n",
       "7   dissemination,version_control   \n",
       "10                                  \n",
       "\n",
       "                                                                                                             difficult_aspects_keywords  \n",
       "1                                                                                                                    diff(s|ing)?($|\\W)  \n",
       "5                                                                                                       variables,workspace|ides?($|\\W)  \n",
       "6   install(ation)?|(spun\\s|setting\\s|standing\\s|(start|set)(\\s|-)?)up,(version|source) (control|management|tracking|history|notebooks)  \n",
       "7                                                    report generation,(version|source) (control|management|tracking|history|notebooks)  \n",
       "10                                                                                                                                       "
      ]
     },
     "execution_count": 685,
     "metadata": {},
     "output_type": "execute_result"
    }
   ],
   "source": [
    "themes_df.head()"
   ]
  },
  {
   "cell_type": "markdown",
   "metadata": {},
   "source": [
    "The themes DataFrame should have as many rows as there are non-null responses in the original DataFrame."
   ]
  },
  {
   "cell_type": "code",
   "execution_count": 686,
   "metadata": {
    "collapsed": true
   },
   "outputs": [],
   "source": [
    "assert len(themes_df) == len(df[[column+'_1', column+'_2', column+'_3']].dropna(how='all'))"
   ]
  },
  {
   "cell_type": "code",
   "execution_count": 687,
   "metadata": {
    "collapsed": true
   },
   "outputs": [],
   "source": [
    "themes_df.to_csv(column + '_themes.csv', sep=';')"
   ]
  },
  {
   "cell_type": "code",
   "execution_count": null,
   "metadata": {
    "collapsed": true
   },
   "outputs": [],
   "source": []
  }
 ],
 "metadata": {
  "kernelspec": {
   "display_name": "Python 3",
   "language": "python",
   "name": "python3"
  },
  "language_info": {
   "codemirror_mode": {
    "name": "ipython",
    "version": 3
   },
   "file_extension": ".py",
   "mimetype": "text/x-python",
   "name": "python",
   "nbconvert_exporter": "python",
   "pygments_lexer": "ipython3",
   "version": "3.4.4"
  }
 },
 "nbformat": 4,
 "nbformat_minor": 0
}
